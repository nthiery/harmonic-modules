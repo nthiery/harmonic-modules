{
 "cells": [
  {
   "cell_type": "code",
   "execution_count": 131,
   "metadata": {
    "collapsed": true,
    "deletable": true,
    "editable": true
   },
   "outputs": [],
   "source": [
    "from sage.combinat.ranker import rank_from_list"
   ]
  },
  {
   "cell_type": "code",
   "execution_count": 221,
   "metadata": {
    "collapsed": true,
    "deletable": true,
    "editable": true
   },
   "outputs": [],
   "source": [
    "import functools"
   ]
  },
  {
   "cell_type": "code",
   "execution_count": 534,
   "metadata": {
    "collapsed": false
   },
   "outputs": [],
   "source": [
    "class Diagrams(Parent):\n",
    "    def __init__(self, n, k=2):\n",
    "        self._n = n\n",
    "        self._k = k\n",
    "        Parent.__init__(self, category=Sets().Enumerated().Finite())\n",
    "        \n",
    "    def van_der_monde(self):\n",
    "        return self([i]+[0]*(self._k-1) for i in range(self._n))\n",
    "    an_element = van_der_monde\n",
    "\n",
    "    def __iter__(self):\n",
    "        return iter(RecursivelyEnumeratedSet([self.van_der_monde()],\n",
    "                                             lambda D: [D2.normal()[0]\n",
    "                                                        for d in range(1, self._n) \n",
    "                                                        for D2,c in D.polarizations(d)]\n",
    "                                            ))\n",
    "\n",
    "    class Element(ElementWrapper):\n",
    "        def __init__(self, parent, value):\n",
    "            value = tuple(tuple(cell) for cell in value)\n",
    "            assert len(value) == parent._n\n",
    "            assert all(len(cell) == parent._k for cell in value)\n",
    "            ElementWrapper.__init__(self, parent, value)\n",
    "            \n",
    "        def __iter__(self):\n",
    "            return self.value.__iter__()\n",
    "\n",
    "        def __len__(self):\n",
    "            return self.value.__len__()\n",
    "        \n",
    "        def normal(self):\n",
    "            S = SymmetricGroup(range(len(self)))\n",
    "            r = rank_from_list(self)\n",
    "            sign = S([r(cell) for cell in sorted(self)]).sign()\n",
    "            return [self.parent() (tuple(sorted(self)) ), sign ]\n",
    "\n",
    "        def polarizations(self, d=1, j=0, l=1):\n",
    "            D = self.value\n",
    "            for i in range(len(D)):\n",
    "                new_cell = list(D[i])\n",
    "                a = new_cell[j]\n",
    "                b = new_cell[l]\n",
    "                if a < d:\n",
    "                    continue\n",
    "                new_cell[j] = a - d\n",
    "                new_cell[l] = b + 1\n",
    "                new_cell = tuple(new_cell)\n",
    "                if new_cell in D:\n",
    "                    continue\n",
    "                yield self.parent()(D[:i]+(new_cell,)+D[i+1:]),  prod( (a-i) for i in range(d) )\n",
    "        \n",
    "class DiagramSpace(CombinatorialFreeModule):\n",
    "    def __init__(self, n, k=2, K=QQ):\n",
    "        CombinatorialFreeModule.__init__(self, K, Diagrams(n,k))\n",
    "        \n",
    "    def polarization_on_basis(self, D, d=1, j=0, l=1):\n",
    "        return self.normal(self.sum_of_terms(D.polarizations(d,j,l)))\n",
    "    \n",
    "    def polarization(self, x, d=1, j=0, l=1):\n",
    "        if isinstance(d, (tuple, list, Partition)):\n",
    "            for i in d:\n",
    "                x = self.polarization(x, d=i, j=j, l=l)\n",
    "            return x\n",
    "        assert d > 0\n",
    "        return self._apply_module_endomorphism(x, functools.partial(self.polarization_on_basis,\n",
    "                                              d=d, j=j, l=l))\n",
    "    \n",
    "    def normal(self, x):\n",
    "        return self._apply_module_endomorphism(x, lambda D: self.term(*D.normal()) )"
   ]
  },
  {
   "cell_type": "code",
   "execution_count": 535,
   "metadata": {
    "collapsed": false
   },
   "outputs": [],
   "source": [
    "DD = Diagrams(3)"
   ]
  },
  {
   "cell_type": "code",
   "execution_count": 536,
   "metadata": {
    "collapsed": false
   },
   "outputs": [
    {
     "data": {
      "text/plain": [
       "((1, 1), (4, 0), (3, 3))"
      ]
     },
     "execution_count": 536,
     "metadata": {},
     "output_type": "execute_result"
    }
   ],
   "source": [
    "D = DD( ((1,1), (4,0),(3,3)) ); D"
   ]
  },
  {
   "cell_type": "code",
   "execution_count": 515,
   "metadata": {
    "collapsed": false
   },
   "outputs": [
    {
     "data": {
      "text/plain": [
       "True"
      ]
     },
     "execution_count": 515,
     "metadata": {},
     "output_type": "execute_result"
    }
   ],
   "source": [
    "(1,1) in D"
   ]
  },
  {
   "cell_type": "code",
   "execution_count": 516,
   "metadata": {
    "collapsed": false
   },
   "outputs": [
    {
     "data": {
      "text/plain": [
       "False"
      ]
     },
     "execution_count": 516,
     "metadata": {},
     "output_type": "execute_result"
    }
   ],
   "source": [
    "(3,0) in D"
   ]
  },
  {
   "cell_type": "code",
   "execution_count": 499,
   "metadata": {
    "collapsed": false
   },
   "outputs": [
    {
     "data": {
      "text/plain": [
       "True"
      ]
     },
     "execution_count": 499,
     "metadata": {},
     "output_type": "execute_result"
    }
   ],
   "source": [
    "(4,0) in D"
   ]
  },
  {
   "cell_type": "code",
   "execution_count": 500,
   "metadata": {
    "collapsed": false
   },
   "outputs": [
    {
     "data": {
      "text/plain": [
       "[((1, 1), (3, 3), (4, 0)), -1]"
      ]
     },
     "execution_count": 500,
     "metadata": {},
     "output_type": "execute_result"
    }
   ],
   "source": [
    "D.normal()"
   ]
  },
  {
   "cell_type": "code",
   "execution_count": 501,
   "metadata": {
    "collapsed": false
   },
   "outputs": [],
   "source": [
    "D = DD(((0, 0), (1, 0), (2, 0)))"
   ]
  },
  {
   "cell_type": "code",
   "execution_count": 502,
   "metadata": {
    "collapsed": false
   },
   "outputs": [
    {
     "data": {
      "text/plain": [
       "[((0, 0), (1, 0), (2, 0)), 1]"
      ]
     },
     "execution_count": 502,
     "metadata": {},
     "output_type": "execute_result"
    }
   ],
   "source": [
    "D.normal()"
   ]
  },
  {
   "cell_type": "code",
   "execution_count": 428,
   "metadata": {
    "collapsed": false
   },
   "outputs": [
    {
     "data": {
      "text/plain": [
       "[((0, 0), (1, 0), (2, 0)),\n",
       " ((0, 0), (1, 0), (0, 1)),\n",
       " ((0, 0), (0, 1), (2, 0)),\n",
       " ((0, 0), (1, 0), (1, 1)),\n",
       " ((0, 0), (1, 0), (0, 2)),\n",
       " ((0, 0), (0, 1), (1, 1)),\n",
       " ((0, 0), (0, 1), (0, 2))]"
      ]
     },
     "execution_count": 428,
     "metadata": {},
     "output_type": "execute_result"
    }
   ],
   "source": [
    "DD.list()"
   ]
  },
  {
   "cell_type": "code",
   "execution_count": 523,
   "metadata": {
    "collapsed": false
   },
   "outputs": [],
   "source": [
    "QDD = DiagramSpace(3)"
   ]
  },
  {
   "cell_type": "code",
   "execution_count": 524,
   "metadata": {
    "collapsed": false
   },
   "outputs": [
    {
     "data": {
      "text/plain": [
       "2*B[((0, 0), (1, 0), (0, 1))] + 3*B[((0, 0), (0, 1), (2, 0))] + 2*B[((0, 0), (1, 0), (2, 0))]"
      ]
     },
     "execution_count": 524,
     "metadata": {},
     "output_type": "execute_result"
    }
   ],
   "source": [
    "QDD.an_element()"
   ]
  },
  {
   "cell_type": "code",
   "execution_count": 525,
   "metadata": {
    "collapsed": false
   },
   "outputs": [
    {
     "data": {
      "text/plain": [
       "((0, 0), (1, 0), (2, 0))"
      ]
     },
     "execution_count": 525,
     "metadata": {},
     "output_type": "execute_result"
    }
   ],
   "source": [
    "DD.an_element()"
   ]
  },
  {
   "cell_type": "code",
   "execution_count": 526,
   "metadata": {
    "collapsed": false
   },
   "outputs": [
    {
     "data": {
      "text/plain": [
       "-2*B[((0, 0), (0, 1), (1, 0))] + 3*B[((0, 0), (0, 1), (2, 0))] + 2*B[((0, 0), (1, 0), (2, 0))]"
      ]
     },
     "execution_count": 526,
     "metadata": {},
     "output_type": "execute_result"
    }
   ],
   "source": [
    "QDD.normal(QDD.an_element())"
   ]
  },
  {
   "cell_type": "code",
   "execution_count": 527,
   "metadata": {
    "collapsed": false
   },
   "outputs": [
    {
     "data": {
      "text/plain": [
       "B[((0, 0), (0, 1), (2, 0))] + 2*B[((0, 0), (1, 0), (1, 1))]"
      ]
     },
     "execution_count": 527,
     "metadata": {},
     "output_type": "execute_result"
    }
   ],
   "source": [
    "QDD.polarization_on_basis(DD.an_element())"
   ]
  },
  {
   "cell_type": "code",
   "execution_count": 433,
   "metadata": {
    "collapsed": false,
    "deletable": true,
    "editable": true
   },
   "outputs": [
    {
     "data": {
      "text/plain": [
       "2*B[((0, 0), (1, 0), (0, 1))]"
      ]
     },
     "execution_count": 433,
     "metadata": {},
     "output_type": "execute_result"
    }
   ],
   "source": [
    "QDD.polarization_on_basis(DD.an_element(), d=2)"
   ]
  },
  {
   "cell_type": "code",
   "execution_count": 434,
   "metadata": {
    "collapsed": false,
    "deletable": true,
    "editable": true
   },
   "outputs": [
    {
     "data": {
      "text/plain": [
       "0"
      ]
     },
     "execution_count": 434,
     "metadata": {},
     "output_type": "execute_result"
    }
   ],
   "source": [
    "QDD.polarization_on_basis(DD.an_element(), d=3)"
   ]
  },
  {
   "cell_type": "code",
   "execution_count": 435,
   "metadata": {
    "collapsed": false
   },
   "outputs": [
    {
     "data": {
      "text/plain": [
       "12*B[((0, 0), (0, 1), (0, 2))]"
      ]
     },
     "execution_count": 435,
     "metadata": {},
     "output_type": "execute_result"
    }
   ],
   "source": [
    "QDD.polarization(QDD.an_element(), [1,1,1])"
   ]
  },
  {
   "cell_type": "code",
   "execution_count": 436,
   "metadata": {
    "collapsed": false,
    "deletable": true,
    "editable": true
   },
   "outputs": [
    {
     "data": {
      "text/plain": [
       "0"
      ]
     },
     "execution_count": 436,
     "metadata": {},
     "output_type": "execute_result"
    }
   ],
   "source": [
    "QDD.polarization(QDD.an_element(), [2,1])"
   ]
  },
  {
   "cell_type": "code",
   "execution_count": 437,
   "metadata": {
    "collapsed": true
   },
   "outputs": [],
   "source": [
    "QDD = DiagramSpace(4)"
   ]
  },
  {
   "cell_type": "code",
   "execution_count": 438,
   "metadata": {
    "collapsed": false,
    "deletable": true,
    "editable": true
   },
   "outputs": [
    {
     "data": {
      "text/plain": [
       "1440*B[((0, 0), (0, 1), (0, 2), (0, 3))]"
      ]
     },
     "execution_count": 438,
     "metadata": {},
     "output_type": "execute_result"
    }
   ],
   "source": [
    "QDD.polarization(QDD.an_element(), [1,1,1,1,1,1])"
   ]
  },
  {
   "cell_type": "code",
   "execution_count": 439,
   "metadata": {
    "collapsed": false,
    "deletable": true,
    "editable": true
   },
   "outputs": [
    {
     "data": {
      "text/plain": [
       "12*B[((0, 0), (1, 0), (2, 0), (0, 1))]"
      ]
     },
     "execution_count": 439,
     "metadata": {},
     "output_type": "execute_result"
    }
   ],
   "source": [
    "QDD.polarization(QDD.an_element(), 3)"
   ]
  },
  {
   "cell_type": "code",
   "execution_count": 440,
   "metadata": {
    "collapsed": false,
    "deletable": true,
    "editable": true
   },
   "outputs": [
    {
     "data": {
      "text/plain": [
       "24*B[((0, 0), (1, 0), (1, 1), (0, 1))]"
      ]
     },
     "execution_count": 440,
     "metadata": {},
     "output_type": "execute_result"
    }
   ],
   "source": [
    "QDD.polarization(QDD.an_element(), [3,1])"
   ]
  },
  {
   "cell_type": "code",
   "execution_count": 441,
   "metadata": {
    "collapsed": false,
    "deletable": true,
    "editable": true
   },
   "outputs": [
    {
     "data": {
      "text/plain": [
       "6*B[((0, 0), (1, 0), (0, 1), (2, 1))] + 6*B[((0, 0), (0, 1), (1, 1), (3, 0))] + 2*B[((0, 0), (0, 1), (2, 0), (3, 0))] + 4*B[((0, 0), (1, 0), (1, 1), (3, 0))] + 9*B[((0, 0), (0, 1), (2, 0), (2, 1))] + 6*B[((0, 0), (1, 0), (2, 0), (2, 1))]"
      ]
     },
     "execution_count": 441,
     "metadata": {},
     "output_type": "execute_result"
    }
   ],
   "source": [
    "QDD.polarization(QDD.an_element(), )"
   ]
  },
  {
   "cell_type": "code",
   "execution_count": 541,
   "metadata": {
    "collapsed": false
   },
   "outputs": [],
   "source": [
    "n = 5\n",
    "j = 2\n",
    "i = 2"
   ]
  },
  {
   "cell_type": "code",
   "execution_count": 542,
   "metadata": {
    "collapsed": true,
    "deletable": true,
    "editable": true
   },
   "outputs": [],
   "source": [
    "QDD = DiagramSpace(n)\n",
    "Delta = QDD.an_element()"
   ]
  },
  {
   "cell_type": "code",
   "execution_count": 539,
   "metadata": {
    "collapsed": true
   },
   "outputs": [],
   "source": [
    "def the_dim(i, j):\n",
    "    P = Partitions(binomial(n,2)-i, length=j)   \n",
    "    return len(QDD.echelon_form([QDD.polarization(Delta, p) for p in P]))"
   ]
  },
  {
   "cell_type": "code",
   "execution_count": 544,
   "metadata": {
    "collapsed": false
   },
   "outputs": [
    {
     "data": {
      "text/plain": [
       "q^5*t^2 + q^4*t^3"
      ]
     },
     "execution_count": 544,
     "metadata": {},
     "output_type": "execute_result"
    }
   ],
   "source": [
    "q, t = QQ['q,t'].gens()\n",
    "sum( q^i * t^j * the_dim(i,j) \n",
    "    for i in range(binomial(n,2)+1)\n",
    "    for j in range(binomial(n,2)+1))\\\n",
    "- qt_catalan_number(n)"
   ]
  },
  {
   "cell_type": "code",
   "execution_count": 545,
   "metadata": {
    "collapsed": false
   },
   "outputs": [
    {
     "data": {
      "text/plain": [
       "[-144*B[((0, 0), (0, 1), (1, 0), (2, 0), (2, 1))] + 72*B[((0, 0), (0, 1), (0, 2), (1, 0), (2, 0))] - 96*B[((0, 0), (0, 1), (1, 0), (1, 1), (3, 0))],\n",
       " 144*B[((0, 0), (0, 1), (1, 0), (2, 0), (2, 1))] + 96*B[((0, 0), (0, 1), (1, 0), (1, 1), (3, 0))]]"
      ]
     },
     "execution_count": 545,
     "metadata": {},
     "output_type": "execute_result"
    }
   ],
   "source": [
    "i = 5\n",
    "j = 2\n",
    "P = Partitions(binomial(n,2)-i, length=j)   \n",
    "[QDD.polarization(Delta, p) for p in P]"
   ]
  },
  {
   "cell_type": "code",
   "execution_count": 546,
   "metadata": {
    "collapsed": false
   },
   "outputs": [
    {
     "data": {
      "text/plain": [
       "q^10 + q^9*t + q^8*t^2 + q^7*t^3 + q^6*t^4 + q^5*t^5 + q^4*t^6 + q^3*t^7 + q^2*t^8 + q*t^9 + t^10 + q^8*t + q^7*t^2 + q^6*t^3 + q^5*t^4 + q^4*t^5 + q^3*t^6 + q^2*t^7 + q*t^8 + q^7*t + 2*q^6*t^2 + 2*q^5*t^3 + 2*q^4*t^4 + 2*q^3*t^5 + 2*q^2*t^6 + q*t^7 + q^6*t + q^5*t^2 + 2*q^4*t^3 + 2*q^3*t^4 + q^2*t^5 + q*t^6 + q^4*t^2 + q^3*t^3 + q^2*t^4"
      ]
     },
     "execution_count": 546,
     "metadata": {},
     "output_type": "execute_result"
    }
   ],
   "source": [
    "qt_catalan_number(5)"
   ]
  },
  {
   "cell_type": "code",
   "execution_count": 533,
   "metadata": {
    "collapsed": false
   },
   "outputs": [
    {
     "data": {
      "text/plain": [
       "[-12*B[((0, 0), (0, 1), (1, 0), (2, 1))] + 12*B[((0, 0), (0, 2), (1, 0), (2, 0))] - 18*B[((0, 0), (0, 1), (0, 2), (2, 0))] - 12*B[((0, 0), (0, 1), (1, 1), (2, 0))] + 12*B[((0, 0), (0, 1), (0, 2), (1, 0))]]"
      ]
     },
     "execution_count": 533,
     "metadata": {},
     "output_type": "execute_result"
    }
   ],
   "source": [
    "i = 3; j = 2\n",
    "P = Partitions(binomial(n,2)-i, length=j)\n",
    "[QDD.polarization(Delta, p) for p in P]"
   ]
  },
  {
   "cell_type": "code",
   "execution_count": 454,
   "metadata": {
    "collapsed": true
   },
   "outputs": [],
   "source": [
    "from sage.combinat.q_analogues import *"
   ]
  },
  {
   "cell_type": "code",
   "execution_count": 455,
   "metadata": {
    "collapsed": false
   },
   "outputs": [
    {
     "data": {
      "text/plain": [
       "q^6 + q^5*t + q^4*t^2 + q^3*t^3 + q^2*t^4 + q*t^5 + t^6 + q^4*t + q^3*t^2 + q^2*t^3 + q*t^4 + q^3*t + q^2*t^2 + q*t^3"
      ]
     },
     "execution_count": 455,
     "metadata": {},
     "output_type": "execute_result"
    }
   ],
   "source": [
    "qt_catalan_number(4)"
   ]
  },
  {
   "cell_type": "code",
   "execution_count": null,
   "metadata": {
    "collapsed": true
   },
   "outputs": [],
   "source": []
  }
 ],
 "metadata": {
  "kernelspec": {
   "display_name": "SageMath 8.0.beta5",
   "language": "",
   "name": "sagemath"
  },
  "language_info": {
   "codemirror_mode": {
    "name": "ipython",
    "version": 2
   },
   "file_extension": ".py",
   "mimetype": "text/x-python",
   "name": "python",
   "nbconvert_exporter": "python",
   "pygments_lexer": "ipython2",
   "version": "2.7.13"
  }
 },
 "nbformat": 4,
 "nbformat_minor": 2
}
