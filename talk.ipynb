{
 "cells": [
  {
   "cell_type": "markdown",
   "metadata": {
    "slideshow": {
     "slide_type": "slide"
    }
   },
   "source": [
    "# Computing huge subspaces of diagonal harmonic polynomials:<br>Symmetries to the rescue!\n",
    "\n",
    "<br>\n",
    "<center>\n",
    "  <large>[Nicolas M. Thiéry](http://Nicolas.Thiery.name)</large><br>\n",
    "  [Laboratoire de Recherche en Informatique](http://lri.fr)<br>\n",
    "  Université Paris Sud<br><br>\n",
    "  \n",
    "     \n",
    "  Algorithms and Discrete Structures pole seminar<br>\n",
    "  IRIF, 16 janvier 2018<br><br>\n",
    "  \n",
    "  [git repo with code,...](https://github.com/nthiery/harmonic-modules)\n",
    "</center>"
   ]
  },
  {
   "cell_type": "markdown",
   "metadata": {
    "slideshow": {
     "slide_type": "notes"
    }
   },
   "source": [
    "## Abstract\n",
    "\n",
    "Last spring, I visited François Bergeron and we worked on his\n",
    "favorite objects: the spaces H(n,k) of diagonal harmonic polynomials\n",
    "in k sets of n variables. Those spaces connect to many areas of\n",
    "algebraic combinatorics, representation theory and beyond, and the\n",
    "case H(n,2) became famous a decade ago with the n! conjecture and\n",
    "its proof by Haiman.\n",
    "\n",
    "To fuel his ongoing studies François needed to compute the structure\n",
    "of H(5,6). This is a space of dimension 6.10^5 made of polynomials\n",
    "in 30 variables of degree up to 15, each having thousands of terms.\n",
    "\n",
    "In this talk, I'll explain how the calculation can now be completed\n",
    "in 45 minutes with a dozen cores and ~15Go of memory. This exploits\n",
    "a combination of strategies (symmetries, representation theory of\n",
    "the symmetric and general linear group, ...), each of which reduces\n",
    "the complexity in time and memory by one or two orders of magnitude.\n",
    "\n",
    "There will be little prerequisites and it's my hope that some\n",
    "strategies (and maybe the code!) could be used in other contexts."
   ]
  },
  {
   "cell_type": "markdown",
   "metadata": {
    "slideshow": {
     "slide_type": "notes"
    }
   },
   "source": [
    "LaTeX definitions\n",
    "$\\def\\QQ{\\mathbb{Q}}$\n",
    "$\\def\\NN{\\mathbb{N}}$\n",
    "$\\def\\x{\\mathbf{x}}$\n",
    "$\\def\\div{\\operatorname{div}}$\n",
    "$\\def\\harm{\\operatorname{Harm}}$"
   ]
  },
  {
   "cell_type": "markdown",
   "metadata": {
    "slideshow": {
     "slide_type": "notes"
    }
   },
   "source": [
    "## Motivations"
   ]
  },
  {
   "cell_type": "markdown",
   "metadata": {
    "slideshow": {
     "slide_type": "slide"
    }
   },
   "source": [
    "<center>\n",
    "    <img src=\"figures/crm.jpg\"/ width=\"65%\">\n",
    "    <img src=\"figures/uqam.jpg\"/ width=\"65%\">\n",
    "</center>"
   ]
  },
  {
   "cell_type": "markdown",
   "metadata": {
    "slideshow": {
     "slide_type": "subslide"
    }
   },
   "source": [
    "## Joint work with François Bergeron\n",
    "<center><img src=\"figures/Francois.jpg\" height=\"50%\"></center>"
   ]
  },
  {
   "cell_type": "markdown",
   "metadata": {
    "slideshow": {
     "slide_type": "subslide"
    }
   },
   "source": [
    "## One of François's favorite objects\n",
    "<img src=\"figures/book.jpg\" style=\"float:right;\"/>\n",
    "\n",
    "The space $\\harm(n,r)$ of **diagonal harmonic polynomials** in\n",
    "$$\\QQ\\begin{bmatrix}\n",
    "        x_{11}&\\cdots&x_{1n}\\\\\n",
    "        \\vdots & & \\vdots\\\\\n",
    "        x_{r1}&\\cdots&x_{rn}\\\\\n",
    "     \\end{bmatrix}$$\n",
    "- $\\harm(n,1)$ : dim=$n!$<br>\n",
    "  graded character: Hall-Littlewood Polynomials<br>\n",
    "  connections with invariant theory, ...\n",
    "  <br><br>\n",
    "\n",
    "- $\\harm(n,2)$ : dim = $(n+1)^{n-1}$<br>\n",
    "  graded character: Macdonald polynomials<br>\n",
    "  $n!$-conjecture of Garsia/Bergeron<br>\n",
    "  proof by Mark Haiman using the Hilbert scheme of points<br>\n",
    "  <br><br>\n",
    "\n",
    "- $\\harm(n,r)$ : dim = ???<br>"
   ]
  },
  {
   "cell_type": "markdown",
   "metadata": {
    "slideshow": {
     "slide_type": "slide"
    }
   },
   "source": [
    "## Project: pushing further the computer exploration\n",
    "\n",
    "**Aim**: dimension and graded character of $\\harm(6,5)$"
   ]
  },
  {
   "cell_type": "markdown",
   "metadata": {
    "slideshow": {
     "slide_type": "fragment"
    }
   },
   "source": [
    "Brute force linear algebra?\n",
    "- polynomials in 30 variables of degree up to 15, with thousands of terms\n",
    "- dimension: $\\approx$ 3.7 million"
   ]
  },
  {
   "cell_type": "code",
   "execution_count": 1,
   "metadata": {
    "slideshow": {
     "slide_type": "fragment"
    }
   },
   "outputs": [
    {
     "data": {
      "text/plain": [
       "1606.19609335363*year"
      ]
     },
     "execution_count": 1,
     "metadata": {},
     "output_type": "execute_result"
    }
   ],
   "source": [
    "d = 3.7 * 10^6\n",
    "t = d^3 / 10.^9 * units.time.second\n",
    "t.convert(units.time.year)"
   ]
  },
  {
   "cell_type": "code",
   "execution_count": 2,
   "metadata": {
    "slideshow": {
     "slide_type": "fragment"
    }
   },
   "outputs": [
    {
     "data": {
      "text/plain": [
       "1 + 30*z + 465*z^2 + 4960*z^3 + 40920*z^4 + 278256*z^5 + 1623160*z^6 + 8347680*z^7 + 38608020*z^8 + 163011640*z^9 + 635745396*z^10 + 2311801440*z^11 + 7898654920*z^12 + 25518731280*z^13 + 78378960360*z^14 + 229911617056*z^15 + Order(z^16)"
      ]
     },
     "execution_count": 2,
     "metadata": {},
     "output_type": "execute_result"
    }
   ],
   "source": [
    "var('z');\n",
    "f = ( 1/(1-z)^30 ).series(z,16); f # the graded dimension of the polynomial ring Q[x_ij]"
   ]
  },
  {
   "cell_type": "code",
   "execution_count": 3,
   "metadata": {
    "slideshow": {
     "slide_type": "fragment"
    }
   },
   "outputs": [
    {
     "data": {
      "text/plain": [
       "7.27124321326576e6*year"
      ]
     },
     "execution_count": 3,
     "metadata": {},
     "output_type": "execute_result"
    }
   ],
   "source": [
    "D = sum(f.coefficients(sparse=False))\n",
    "t = d^1.8 * D / 10.^9 * units.time.second\n",
    "t.convert(units.time.year)"
   ]
  },
  {
   "cell_type": "markdown",
   "metadata": {
    "slideshow": {
     "slide_type": "subslide"
    }
   },
   "source": [
    "### Intractable?"
   ]
  },
  {
   "cell_type": "markdown",
   "metadata": {
    "slideshow": {
     "slide_type": "fragment"
    }
   },
   "source": [
    "After a couple weeks of hard work:\n",
    "- $\\approx$ 45 minutes\n",
    "- $\\approx$ 15 Gb\n",
    "- 10 cores\n",
    "- dimension: $587504$"
   ]
  },
  {
   "cell_type": "code",
   "execution_count": 4,
   "metadata": {
    "slideshow": {
     "slide_type": "fragment"
    }
   },
   "outputs": [
    {
     "name": "stderr",
     "output_type": "stream",
     "text": [
      "Compiling ./code1.pyx...\n"
     ]
    },
    {
     "data": {
      "text/plain": [
       "1 ⊗ s        + s   ⊗ s       + s   ⊗ s      + s   ⊗ s     + s   ⊗ s    + s   ⊗ \n",
       "     ┌┬┬┬┬┬┐    ┌┐    ┌┬┬┬┬┐    ┌┐    ┌┬┬┬┐    ┌┐    ┌┬┬┐    ┌┐    ┌┬┐    ┌┐   \n",
       "     └┴┴┴┴┴┘    └┘    ├┼┴┴┴┘    ├┤    ├┼┴┴┘    ├┤    ├┼┴┘    ├┤    ├┼┘    ├┤   \n",
       "                      └┘        └┘    ├┤       ├┤    ├┤      ├┤    ├┤     ├┤   \n",
       "                                      └┘       └┘    ├┤      ├┤    ├┤     ├┤   \n",
       "                                                     └┘      └┘    ├┤     ├┤   \n",
       "                                                                   └┘     └┘   \n",
       "                                                                               \n",
       "\n",
       "s   + s    ⊗ s      + s    ⊗ s       + s    ⊗ s     + s    ⊗ s      + s    ⊗ \n",
       " ┌┐    ┌┬┐    ┌┬┬┬┐    ┌┬┐    ┌┬┬┬┬┐    ┌┬┐    ┌┬┬┐    ┌┬┐    ┌┬┬┬┐    ┌┬┐   \n",
       " ├┤    └┴┘    ├┼┼┴┘    └┴┘    ├┼┴┴┴┘    ├┼┘    ├┼┼┘    ├┼┘    ├┼┴┴┘    ├┼┘   \n",
       " ├┤           └┴┘             └┘        └┘     ├┼┘     └┘     ├┤       └┘    \n",
       " ├┤                                            └┘             └┘             \n",
       " ├┤                                                                          \n",
       " ├┤                                                                          \n",
       " └┘                                                                          \n",
       "\n",
       "s      + s    ⊗ s    + s    ⊗ s     + s    ⊗ s     + s    ⊗ s    + s    ⊗ s   \n",
       " ┌┬┬┬┐    ┌┬┐    ┌┬┐    ┌┬┐    ┌┬┬┐    ┌┬┐    ┌┬┬┐    ┌┬┐    ┌┬┐    ┌┬┐    ┌┬┐\n",
       " ├┼┼┴┘    ├┼┘    ├┼┤    ├┼┘    ├┼┴┘    ├┼┘    ├┼┼┘    ├┼┘    ├┼┘    ├┼┘    ├┼┤\n",
       " └┴┘      ├┤     ├┼┘    ├┤     ├┤      ├┤     ├┼┘     ├┤     ├┤     ├┤     ├┼┘\n",
       "          └┘     ├┤     └┘     ├┤      └┘     └┘      ├┤     ├┤     ├┤     ├┤ \n",
       "                 └┘            └┘                     └┘     ├┤     └┘     └┘ \n",
       "                                                             └┘               \n",
       "                                                                              \n",
       "\n",
       " + s    ⊗ s    + s    ⊗ s     + s    ⊗ s     + s    ⊗ s      + s    ⊗ s    + \n",
       "    ┌┬┐    ┌┬┐    ┌┬┐    ┌┬┬┐    ┌┬┐    ┌┬┬┐    ┌┬┐    ┌┬┬┬┐    ┌┬┐    ┌┬┐   \n",
       "    ├┼┤    ├┼┤    ├┼┤    ├┼┼┘    ├┼┤    ├┼┼┤    ├┼┤    ├┼┼┴┘    ├┼┤    ├┼┤   \n",
       "    └┴┘    ├┼┤    └┴┘    ├┼┘     └┴┘    └┴┴┘    └┴┘    └┴┘      ├┼┘    ├┼┘   \n",
       "           └┴┘           └┘                                     └┘     ├┤    \n",
       "                                                                       └┘    \n",
       "                                                                             \n",
       "                                                                             \n",
       "\n",
       "s    ⊗ s    + s    ⊗ s     + s    ⊗ s     + s     ⊗ s     + s     ⊗ s      + \n",
       " ┌┬┐    ┌┬┐    ┌┬┐    ┌┬┬┐    ┌┬┐    ┌┬┬┐    ┌┬┬┐    ┌┬┬┐    ┌┬┬┐    ┌┬┬┬┐   \n",
       " ├┼┤    ├┼┤    ├┼┤    ├┼┼┘    ├┼┤    ├┼┼┤    └┴┴┘    ├┼┼┤    └┴┴┘    ├┼┴┴┘   \n",
       " ├┼┘    ├┼┤    ├┼┘    ├┼┘     ├┼┘    └┴┴┘            └┴┴┘            ├┤      \n",
       " └┘     └┴┘    └┘     └┘      └┘                                     └┘      \n",
       "                                                                             \n",
       "                                                                             \n",
       "                                                                             \n",
       "\n",
       "s     ⊗ s      + s     ⊗ s       + s     ⊗ s     + 2*s     ⊗ s     + s     ⊗ \n",
       " ┌┬┬┐    ┌┬┬┬┐    ┌┬┬┐    ┌┬┬┬┬┐    ┌┬┬┐    ┌┬┬┐      ┌┬┬┐    ┌┬┬┐    ┌┬┬┐   \n",
       " └┴┴┘    ├┼┼┴┘    └┴┴┘    ├┼┴┴┴┘    ├┼┴┘    ├┼┴┘      ├┼┴┘    ├┼┼┘    ├┼┴┘   \n",
       "         └┴┘              └┘        └┘      ├┤        └┘      ├┼┘     └┘     \n",
       "                                            ├┤                └┘             \n",
       "                                            └┘                               \n",
       "                                                                             \n",
       "                                                                             \n",
       "\n",
       "s     + 2*s     ⊗ s      + s     ⊗ s      + s     ⊗ s    + s     ⊗ s    + s    \n",
       " ┌┬┬┐      ┌┬┬┐    ┌┬┬┬┐    ┌┬┬┐    ┌┬┬┬┐    ┌┬┬┐    ┌┬┐    ┌┬┬┐    ┌┬┐    ┌┬┬┐\n",
       " ├┼┼┤      ├┼┴┘    ├┼┴┴┘    ├┼┴┘    ├┼┼┴┘    ├┼┴┘    ├┼┘    ├┼┴┘    ├┼┤    ├┼┴┘\n",
       " └┴┴┘      └┘      ├┤       └┘      └┴┘      ├┤      ├┤     ├┤      ├┼┘    ├┤  \n",
       "                   └┘                        └┘      ├┤     └┘      ├┤     └┘  \n",
       "                                                     ├┤             └┘         \n",
       "                                                     └┘                        \n",
       "                                                                               \n",
       "\n",
       " ⊗ s    + 2*s     ⊗ s     + 2*s     ⊗ s     + s     ⊗ s   + s     ⊗ s    + \n",
       "    ┌┬┐      ┌┬┬┐    ┌┬┬┐      ┌┬┬┐    ┌┬┬┐    ┌┬┬┐    ┌┐    ┌┬┬┐    ┌┬┐   \n",
       "    ├┼┤      ├┼┴┘    ├┼┴┘      ├┼┴┘    ├┼┼┘    ├┼┴┘    ├┤    ├┼┴┘    ├┼┘   \n",
       "    ├┼┤      ├┤      ├┤        ├┤      ├┼┘     ├┤      ├┤    ├┤      ├┤    \n",
       "    └┴┘      └┘      ├┤        └┘      └┘      ├┤      ├┤    ├┤      ├┤    \n",
       "                     └┘                        └┘      ├┤    └┘      ├┤    \n",
       "                                                       ├┤            └┘    \n",
       "                                                       └┘                  \n",
       "\n",
       "s     ⊗ s    + s     ⊗ s    + s     ⊗ s    + s     ⊗ s     + 3*s     ⊗ s     + \n",
       " ┌┬┬┐    ┌┬┐    ┌┬┬┐    ┌┬┐    ┌┬┬┐    ┌┬┐    ┌┬┬┐    ┌┬┬┐      ┌┬┬┐    ┌┬┬┐   \n",
       " ├┼┴┘    ├┼┤    ├┼┴┘    ├┼┤    ├┼┼┘    ├┼┤    ├┼┼┘    ├┼┴┘      ├┼┼┘    ├┼┼┘   \n",
       " ├┤      ├┼┘    ├┤      ├┼┤    └┴┘     ├┼┘    └┴┘     ├┤        └┴┘     ├┼┘    \n",
       " ├┤      ├┤     ├┤      └┴┘            ├┤             ├┤                └┘     \n",
       " └┘      └┘     └┘                     └┘             └┘                       \n",
       "                                                                               \n",
       "                                                                               \n",
       "\n",
       "s     ⊗ s     + s     ⊗ s      + s     ⊗ s      + s     ⊗ s    + 2*s     ⊗ s   \n",
       " ┌┬┬┐    ┌┬┬┐    ┌┬┬┐    ┌┬┬┬┐    ┌┬┬┐    ┌┬┬┬┐    ┌┬┬┐    ┌┬┐      ┌┬┬┐    ┌┬┐\n",
       " ├┼┼┘    ├┼┼┤    ├┼┼┘    ├┼┴┴┘    ├┼┼┘    ├┼┼┴┘    ├┼┼┘    ├┼┘      ├┼┼┘    ├┼┤\n",
       " └┴┘     └┴┴┘    └┴┘     ├┤       └┴┘     └┴┘      ├┼┘     ├┤       ├┼┘     ├┼┘\n",
       "                         └┘                        └┘      ├┤       └┘      ├┤ \n",
       "                                                           ├┤               └┘ \n",
       "                                                           └┘                  \n",
       "                                                                               \n",
       "\n",
       " + s     ⊗ s    + s     ⊗ s     + 2*s     ⊗ s     + s     ⊗ s    + 2*s     ⊗ \n",
       "    ┌┬┬┐    ┌┬┐    ┌┬┬┐    ┌┬┬┐      ┌┬┬┐    ┌┬┬┐    ┌┬┬┐    ┌┬┐      ┌┬┬┐   \n",
       "    ├┼┼┘    ├┼┤    ├┼┼┘    ├┼┴┘      ├┼┼┘    ├┼┼┘    ├┼┼┤    ├┼┤      ├┼┼┤   \n",
       "    ├┼┘     ├┼┤    ├┼┘     ├┤        ├┼┘     ├┼┘     └┴┴┘    ├┼┘      └┴┴┘   \n",
       "    └┘      └┴┘    └┘      ├┤        └┘      └┘              ├┤              \n",
       "                           └┘                                └┘              \n",
       "                                                                             \n",
       "                                                                             \n",
       "\n",
       "s     + s     ⊗ s     + s     ⊗ s      + s     ⊗ s    + s     ⊗ s    + s     ⊗ \n",
       " ┌┬┬┐    ┌┬┬┐    ┌┬┬┐    ┌┬┬┐    ┌┬┬┬┐    ┌┬┬┐    ┌┬┐    ┌┬┬┐    ┌┬┐    ┌┬┬┐   \n",
       " ├┼┴┘    ├┼┼┤    ├┼┼┘    ├┼┼┤    ├┼┴┴┘    ├┼┼┤    ├┼┘    ├┼┼┤    ├┼┤    ├┼┼┤   \n",
       " ├┤      └┴┴┘    ├┼┘     └┴┴┘    ├┤       ├┼┴┘    ├┤     ├┼┴┘    ├┼┘    ├┼┴┘   \n",
       " ├┤              └┘              └┘       └┘      ├┤     └┘      ├┤     └┘     \n",
       " └┘                                               ├┤             └┘            \n",
       "                                                  └┘                           \n",
       "                                                                               \n",
       "\n",
       "s    + s     ⊗ s     + s      ⊗ s     + s      ⊗ s      + 2*s      ⊗ s      + \n",
       " ┌┬┐    ┌┬┬┐    ┌┬┬┐    ┌┬┬┬┐    ┌┬┬┐    ┌┬┬┬┐    ┌┬┬┬┐      ┌┬┬┬┐    ┌┬┬┬┐   \n",
       " ├┼┤    ├┼┼┤    ├┼┴┘    └┴┴┴┘    ├┼┼┘    └┴┴┴┘    ├┼┴┴┘      └┴┴┴┘    ├┼┼┴┘   \n",
       " ├┼┤    ├┼┴┘    ├┤               ├┼┘              ├┤                  └┴┘     \n",
       " └┴┘    └┘      ├┤               └┘               └┘                          \n",
       "                └┘                                                            \n",
       "                                                                              \n",
       "                                                                              \n",
       "\n",
       "s      ⊗ s       + s      ⊗ s    + s      ⊗ s    + 2*s      ⊗ s     + 3*s     \n",
       " ┌┬┬┬┐    ┌┬┬┬┬┐    ┌┬┬┬┐    ┌┬┐    ┌┬┬┬┐    ┌┬┐      ┌┬┬┬┐    ┌┬┬┐      ┌┬┬┬┐\n",
       " └┴┴┴┘    ├┼┴┴┴┘    ├┼┴┴┘    ├┼┤    ├┼┴┴┘    ├┼┤      ├┼┴┴┘    ├┼┴┘      ├┼┴┴┘\n",
       "          └┘        └┘       ├┼┘    └┘       ├┼┤      └┘       ├┤        └┘   \n",
       "                             ├┤              └┴┘               ├┤             \n",
       "                             └┘                                └┘             \n",
       "                                                                              \n",
       "                                                                              \n",
       "\n",
       " ⊗ s     + s      ⊗ s     + 2*s      ⊗ s      + 2*s      ⊗ s      + 2*s      ⊗ \n",
       "    ┌┬┬┐    ┌┬┬┬┐    ┌┬┬┐      ┌┬┬┬┐    ┌┬┬┬┐      ┌┬┬┬┐    ┌┬┬┬┐      ┌┬┬┬┐   \n",
       "    ├┼┼┘    ├┼┴┴┘    ├┼┼┤      ├┼┴┴┘    ├┼┴┴┘      ├┼┴┴┘    ├┼┼┴┘      ├┼┴┴┘   \n",
       "    ├┼┘     └┘       └┴┴┘      └┘       ├┤         └┘       └┴┘        ├┤      \n",
       "    └┘                                  └┘                             └┘      \n",
       "                                                                               \n",
       "                                                                               \n",
       "                                                                               \n",
       "\n",
       "s    + 3*s      ⊗ s    + s      ⊗ s    + 2*s      ⊗ s     + 2*s      ⊗ s     + \n",
       " ┌┬┐      ┌┬┬┬┐    ┌┬┐    ┌┬┬┬┐    ┌┬┐      ┌┬┬┬┐    ┌┬┬┐      ┌┬┬┬┐    ┌┬┬┐   \n",
       " ├┼┘      ├┼┴┴┘    ├┼┤    ├┼┴┴┘    ├┼┤      ├┼┴┴┘    ├┼┴┘      ├┼┴┴┘    ├┼┼┘   \n",
       " ├┤       ├┤       ├┼┘    ├┤       ├┼┤      ├┤       ├┤        ├┤       ├┼┘    \n",
       " ├┤       └┘       ├┤     └┘       └┴┘      └┘       ├┤        └┘       └┘     \n",
       " ├┤                └┘                                └┘                        \n",
       " └┘                                                                            \n",
       "                                                                               \n",
       "\n",
       "s      ⊗ s     + s      ⊗ s   + s      ⊗ s    + s      ⊗ s    + s      ⊗ s    +\n",
       " ┌┬┬┬┐    ┌┬┬┐    ┌┬┬┬┐    ┌┐    ┌┬┬┬┐    ┌┬┐    ┌┬┬┬┐    ┌┬┐    ┌┬┬┬┐    ┌┬┐  \n",
       " ├┼┴┴┘    ├┼┼┤    ├┼┴┴┘    ├┤    ├┼┴┴┘    ├┼┘    ├┼┴┴┘    ├┼┤    ├┼┼┴┘    ├┼┘  \n",
       " ├┤       └┴┴┘    ├┤       ├┤    ├┤       ├┤     ├┤       ├┼┘    └┴┘      ├┤   \n",
       " └┘               ├┤       ├┤    ├┤       ├┤     ├┤       ├┤              ├┤   \n",
       "                  └┘       ├┤    └┘       ├┤     └┘       └┘              ├┤   \n",
       "                           ├┤             └┘                              └┘   \n",
       "                           └┘                                                  \n",
       "\n",
       " 2*s      ⊗ s    + 2*s      ⊗ s    + 2*s      ⊗ s     + 4*s      ⊗ s     + \n",
       "    ┌┬┬┬┐    ┌┬┐      ┌┬┬┬┐    ┌┬┐      ┌┬┬┬┐    ┌┬┬┐      ┌┬┬┬┐    ┌┬┬┐   \n",
       "    ├┼┼┴┘    ├┼┤      ├┼┼┴┘    ├┼┤      ├┼┼┴┘    ├┼┴┘      ├┼┼┴┘    ├┼┼┘   \n",
       "    └┴┘      ├┼┘      └┴┘      ├┼┤      └┴┘      ├┤        └┴┘      ├┼┘    \n",
       "             ├┤                └┴┘               ├┤                 └┘     \n",
       "             └┘                                  └┘                        \n",
       "                                                                           \n",
       "                                                                           \n",
       "\n",
       "s      ⊗ s     + s      ⊗ s      + s      ⊗ s      + s      ⊗ s   + 2*s      ⊗ \n",
       " ┌┬┬┬┐    ┌┬┬┐    ┌┬┬┬┐    ┌┬┬┬┐    ┌┬┬┬┐    ┌┬┬┬┐    ┌┬┬┬┐    ┌┐      ┌┬┬┬┐   \n",
       " ├┼┼┴┘    ├┼┼┤    ├┼┼┴┘    ├┼┴┴┘    ├┼┼┴┘    ├┼┼┴┘    ├┼┼┴┘    ├┤      ├┼┼┴┘   \n",
       " └┴┘      └┴┴┘    └┴┘      ├┤       └┴┘      └┴┘      ├┼┘      ├┤      ├┼┘     \n",
       "                           └┘                         └┘       ├┤      └┘      \n",
       "                                                               ├┤              \n",
       "                                                               ├┤              \n",
       "                                                               └┘              \n",
       "\n",
       "s    + 3*s      ⊗ s    + s      ⊗ s    + s      ⊗ s     + s      ⊗ s     + 2*\n",
       " ┌┬┐      ┌┬┬┬┐    ┌┬┐    ┌┬┬┬┐    ┌┬┐    ┌┬┬┬┐    ┌┬┬┐    ┌┬┬┬┐    ┌┬┬┐     \n",
       " ├┼┘      ├┼┼┴┘    ├┼┤    ├┼┼┴┘    ├┼┤    ├┼┼┴┘    ├┼┴┘    ├┼┼┴┘    ├┼┼┘     \n",
       " ├┤       ├┼┘      ├┼┘    ├┼┘      ├┼┤    ├┼┘      ├┤      ├┼┘      ├┼┘      \n",
       " ├┤       └┘       ├┤     └┘       └┴┘    └┘       ├┤      └┘       └┘       \n",
       " ├┤                └┘                              └┘                        \n",
       " └┘                                                                          \n",
       "                                                                             \n",
       "\n",
       "s      ⊗ s    + 2*s      ⊗ s    + s      ⊗ s    + 2*s      ⊗ s     + 2*s     \n",
       " ┌┬┬┬┐    ┌┬┐      ┌┬┬┬┐    ┌┬┐    ┌┬┬┬┐    ┌┬┐      ┌┬┬┬┐    ┌┬┬┐      ┌┬┬┬┐\n",
       " ├┼┼┼┘    ├┼┘      ├┼┼┼┘    ├┼┤    ├┼┼┼┘    ├┼┤      ├┼┼┼┘    ├┼┴┘      ├┼┼┼┘\n",
       " └┴┴┘     ├┤       └┴┴┘     ├┼┘    └┴┴┘     ├┼┤      └┴┴┘     ├┤        └┴┴┘ \n",
       "          ├┤                ├┤              └┴┘               ├┤             \n",
       "          ├┤                └┘                                └┘             \n",
       "          └┘                                                                 \n",
       "                                                                             \n",
       "\n",
       " ⊗ s     + s      ⊗ s   + 2*s      ⊗ s    + s      ⊗ s    + s      ⊗ s   + \n",
       "    ┌┬┬┐    ┌┬┬┬┐    ┌┐      ┌┬┬┬┐    ┌┬┐    ┌┬┬┬┐    ┌┬┐    ┌┬┬┬┐    ┌┐   \n",
       "    ├┼┼┘    ├┼┼┼┘    ├┤      ├┼┼┼┘    ├┼┘    ├┼┼┼┘    ├┼┤    ├┼┼┼┤    ├┤   \n",
       "    ├┼┘     ├┼┴┘     ├┤      ├┼┴┘     ├┤     ├┼┴┘     ├┼┘    └┴┴┴┘    ├┤   \n",
       "    └┘      └┘       ├┤      └┘       ├┤     └┘       ├┤              ├┤   \n",
       "                     ├┤               ├┤              └┘              ├┤   \n",
       "                     ├┤               └┘                              ├┤   \n",
       "                     └┘                                               └┘   \n",
       "\n",
       "s      ⊗ s    + s      ⊗ s    + s      ⊗ s    + s      ⊗ s   + 2*s       ⊗ \n",
       " ┌┬┬┬┐    ┌┬┐    ┌┬┬┬┐    ┌┬┐    ┌┬┬┬┐    ┌┬┐    ┌┬┬┬┐    ┌┐      ┌┬┬┬┬┐   \n",
       " ├┼┼┼┤    ├┼┘    ├┼┼┼┤    ├┼┤    ├┼┼┼┤    ├┼┤    ├┼┼┼┤    ├┤      └┴┴┴┴┘   \n",
       " └┴┴┴┘    ├┤     └┴┴┴┘    ├┼┘    └┴┴┴┘    ├┼┤    ├┼┴┴┘    ├┤               \n",
       "          ├┤              ├┤              └┴┘    └┘       ├┤               \n",
       "          ├┤              └┘                              ├┤               \n",
       "          └┘                                              ├┤               \n",
       "                                                          └┘               \n",
       "\n",
       "s     + s       ⊗ s     + 2*s       ⊗ s      + s       ⊗ s      + s       ⊗ \n",
       " ┌┬┬┐    ┌┬┬┬┬┐    ┌┬┬┐      ┌┬┬┬┬┐    ┌┬┬┬┐    ┌┬┬┬┬┐    ┌┬┬┬┐    ┌┬┬┬┬┐   \n",
       " ├┼┼┘    └┴┴┴┴┘    ├┼┼┤      └┴┴┴┴┘    ├┼┴┴┘    └┴┴┴┴┘    ├┼┼┴┘    └┴┴┴┴┘   \n",
       " ├┼┘               └┴┴┘                ├┤                 └┴┘               \n",
       " └┘                                    └┘                                   \n",
       "                                                                            \n",
       "                                                                            \n",
       "                                                                            \n",
       "\n",
       "s       + 2*s       ⊗ s    + s       ⊗ s    + 3*s       ⊗ s     + 5*s       ⊗ \n",
       " ┌┬┬┬┬┐      ┌┬┬┬┬┐    ┌┬┐    ┌┬┬┬┬┐    ┌┬┐      ┌┬┬┬┬┐    ┌┬┬┐      ┌┬┬┬┬┐   \n",
       " ├┼┴┴┴┘      ├┼┴┴┴┘    ├┼┤    ├┼┴┴┴┘    ├┼┤      ├┼┴┴┴┘    ├┼┴┘      ├┼┴┴┴┘   \n",
       " └┘          └┘        ├┼┘    └┘        ├┼┤      └┘        ├┤        └┘       \n",
       "                       ├┤               └┴┘                ├┤                 \n",
       "                       └┘                                  └┘                 \n",
       "                                                                              \n",
       "                                                                              \n",
       "\n",
       "s     + s       ⊗ s     + 2*s       ⊗ s      + s       ⊗ s      + 3*s       ⊗ \n",
       " ┌┬┬┐    ┌┬┬┬┬┐    ┌┬┬┐      ┌┬┬┬┬┐    ┌┬┬┬┐    ┌┬┬┬┬┐    ┌┬┬┬┐      ┌┬┬┬┬┐   \n",
       " ├┼┼┘    ├┼┴┴┴┘    ├┼┼┤      ├┼┴┴┴┘    ├┼┴┴┘    ├┼┴┴┴┘    ├┼┼┴┘      ├┼┴┴┴┘   \n",
       " ├┼┘     └┘        └┴┴┘      └┘        ├┤       └┘        └┴┘        ├┤       \n",
       " └┘                                    └┘                            └┘       \n",
       "                                                                              \n",
       "                                                                              \n",
       "                                                                              \n",
       "\n",
       "s    + 3*s       ⊗ s    + 2*s       ⊗ s    + 2*s       ⊗ s     + 2*s       ⊗ \n",
       " ┌┬┐      ┌┬┬┬┬┐    ┌┬┐      ┌┬┬┬┬┐    ┌┬┐      ┌┬┬┬┬┐    ┌┬┬┐      ┌┬┬┬┬┐   \n",
       " ├┼┘      ├┼┴┴┴┘    ├┼┤      ├┼┴┴┴┘    ├┼┤      ├┼┴┴┴┘    ├┼┴┘      ├┼┴┴┴┘   \n",
       " ├┤       ├┤        ├┼┘      ├┤        ├┼┤      ├┤        ├┤        ├┤       \n",
       " ├┤       └┘        ├┤       └┘        └┴┘      └┘        ├┤        └┘       \n",
       " ├┤                 └┘                                    └┘                 \n",
       " └┘                                                                          \n",
       "                                                                             \n",
       "\n",
       "s     + s       ⊗ s   + s       ⊗ s    + s       ⊗ s    + 4*s       ⊗ s    + 2*\n",
       " ┌┬┬┐    ┌┬┬┬┬┐    ┌┐    ┌┬┬┬┬┐    ┌┬┐    ┌┬┬┬┬┐    ┌┬┐      ┌┬┬┬┬┐    ┌┬┐     \n",
       " ├┼┼┘    ├┼┴┴┴┘    ├┤    ├┼┴┴┴┘    ├┼┘    ├┼┼┴┴┘    ├┼┘      ├┼┼┴┴┘    ├┼┤     \n",
       " ├┼┘     ├┤        ├┤    ├┤        ├┤     └┴┘       ├┤       └┴┘       ├┼┘     \n",
       " └┘      ├┤        ├┤    ├┤        ├┤               ├┤                 ├┤      \n",
       "         └┘        ├┤    └┘        ├┤               ├┤                 └┘      \n",
       "                   ├┤              └┘               └┘                         \n",
       "                   └┘                                                          \n",
       "\n",
       "s       ⊗ s    + 3*s       ⊗ s     + 4*s       ⊗ s     + s       ⊗ s     + \n",
       " ┌┬┬┬┬┐    ┌┬┐      ┌┬┬┬┬┐    ┌┬┬┐      ┌┬┬┬┬┐    ┌┬┬┐    ┌┬┬┬┬┐    ┌┬┬┐   \n",
       " ├┼┼┴┴┘    ├┼┤      ├┼┼┴┴┘    ├┼┴┘      ├┼┼┴┴┘    ├┼┼┘    ├┼┼┴┴┘    ├┼┼┤   \n",
       " └┴┘       ├┼┤      └┴┘       ├┤        └┴┘       ├┼┘     └┴┘       └┴┴┘   \n",
       "           └┴┘                ├┤                  └┘                       \n",
       "                              └┘                                           \n",
       "                                                                           \n",
       "                                                                           \n",
       "\n",
       "s       ⊗ s      + s       ⊗ s   + 2*s       ⊗ s    + 2*s       ⊗ s    + \n",
       " ┌┬┬┬┬┐    ┌┬┬┬┐    ┌┬┬┬┬┐    ┌┐      ┌┬┬┬┬┐    ┌┬┐      ┌┬┬┬┬┐    ┌┬┐   \n",
       " ├┼┼┴┴┘    ├┼┴┴┘    ├┼┼┴┴┘    ├┤      ├┼┼┴┴┘    ├┼┘      ├┼┼┴┴┘    ├┼┤   \n",
       " └┴┘       ├┤       ├┼┘       ├┤      ├┼┘       ├┤       ├┼┘       ├┼┘   \n",
       "           └┘       └┘        ├┤      └┘        ├┤       └┘        ├┤    \n",
       "                              ├┤                ├┤                 └┘    \n",
       "                              ├┤                └┘                       \n",
       "                              └┘                                         \n",
       "\n",
       "s       ⊗ s    + s       ⊗ s     + 2*s       ⊗ s    + 3*s       ⊗ s    + \n",
       " ┌┬┬┬┬┐    ┌┬┐    ┌┬┬┬┬┐    ┌┬┬┐      ┌┬┬┬┬┐    ┌┬┐      ┌┬┬┬┬┐    ┌┬┐   \n",
       " ├┼┼┴┴┘    ├┼┤    ├┼┼┴┴┘    ├┼┴┘      ├┼┼┼┴┘    ├┼┘      ├┼┼┼┴┘    ├┼┤   \n",
       " ├┼┘       ├┼┤    ├┼┘       ├┤        └┴┴┘      ├┤       └┴┴┘      ├┼┘   \n",
       " └┘        └┴┘    └┘        ├┤                  ├┤                 ├┤    \n",
       "                            └┘                  ├┤                 └┘    \n",
       "                                                └┘                       \n",
       "                                                                         \n",
       "\n",
       "s       ⊗ s    + 2*s       ⊗ s     + s       ⊗ s     + s       ⊗ s   + s      \n",
       " ┌┬┬┬┬┐    ┌┬┐      ┌┬┬┬┬┐    ┌┬┬┐    ┌┬┬┬┬┐    ┌┬┬┐    ┌┬┬┬┬┐    ┌┐    ┌┬┬┬┬┐\n",
       " ├┼┼┼┴┘    ├┼┤      ├┼┼┼┴┘    ├┼┴┘    ├┼┼┼┴┘    ├┼┼┘    ├┼┼┼┴┘    ├┤    ├┼┼┼┴┘\n",
       " └┴┴┘      ├┼┤      └┴┴┘      ├┤      └┴┴┘      ├┼┘     ├┼┴┘      ├┤    ├┼┴┘  \n",
       "           └┴┘                ├┤                └┘      └┘        ├┤    └┘    \n",
       "                              └┘                                  ├┤          \n",
       "                                                                  ├┤          \n",
       "                                                                  └┘          \n",
       "\n",
       " ⊗ s    + s       ⊗ s    + s       ⊗ s    + s        ⊗ s    + s        ⊗ s    \n",
       "    ┌┬┐    ┌┬┬┬┬┐    ┌┬┐    ┌┬┬┬┬┐    ┌┬┐    ┌┬┬┬┬┬┐    ┌┬┐    ┌┬┬┬┬┬┐    ┌┬┬┐\n",
       "    ├┼┘    ├┼┼┼┼┘    ├┼┘    ├┼┼┼┼┘    ├┼┤    └┴┴┴┴┴┘    ├┼┤    └┴┴┴┴┴┘    ├┼┴┘\n",
       "    ├┤     └┴┴┴┘     ├┤     └┴┴┴┘     ├┼┘               ├┼┤               ├┤  \n",
       "    ├┤               ├┤               ├┤                └┴┘               ├┤  \n",
       "    ├┤               ├┤               └┘                                  └┘  \n",
       "    └┘               └┘                                                       \n",
       "                                                                              \n",
       "\n",
       " + 2*s        ⊗ s     + s        ⊗ s     + 2*s        ⊗ s      + 2*s        ⊗ \n",
       "      ┌┬┬┬┬┬┐    ┌┬┬┐    ┌┬┬┬┬┬┐    ┌┬┬┐      ┌┬┬┬┬┬┐    ┌┬┬┬┐      ┌┬┬┬┬┬┐   \n",
       "      └┴┴┴┴┴┘    ├┼┼┘    └┴┴┴┴┴┘    ├┼┼┤      └┴┴┴┴┴┘    ├┼┴┴┘      └┴┴┴┴┴┘   \n",
       "                 ├┼┘                └┴┴┘                 ├┤                   \n",
       "                 └┘                                      └┘                   \n",
       "                                                                              \n",
       "                                                                              \n",
       "                                                                              \n",
       "\n",
       "s      + s        ⊗ s    + 3*s        ⊗ s    + 2*s        ⊗ s    + 4*s       \n",
       " ┌┬┬┬┐    ┌┬┬┬┬┬┐    ┌┬┐      ┌┬┬┬┬┬┐    ┌┬┐      ┌┬┬┬┬┬┐    ┌┬┐      ┌┬┬┬┬┬┐\n",
       " ├┼┼┴┘    ├┼┴┴┴┴┘    ├┼┘      ├┼┴┴┴┴┘    ├┼┤      ├┼┴┴┴┴┘    ├┼┤      ├┼┴┴┴┴┘\n",
       " └┴┘      └┘         ├┤       └┘         ├┼┘      └┘         ├┼┤      └┘     \n",
       "                     ├┤                  ├┤                  └┴┘             \n",
       "                     ├┤                  └┘                                  \n",
       "                     └┘                                                      \n",
       "                                                                             \n",
       "\n",
       " ⊗ s     + 5*s        ⊗ s     + s        ⊗ s     + s        ⊗ s      + s       \n",
       "    ┌┬┬┐      ┌┬┬┬┬┬┐    ┌┬┬┐    ┌┬┬┬┬┬┐    ┌┬┬┐    ┌┬┬┬┬┬┐    ┌┬┬┬┐    ┌┬┬┬┬┬┐\n",
       "    ├┼┴┘      ├┼┴┴┴┴┘    ├┼┼┘    ├┼┴┴┴┴┘    ├┼┼┤    ├┼┴┴┴┴┘    ├┼┴┴┘    ├┼┴┴┴┴┘\n",
       "    ├┤        └┘         ├┼┘     └┘         └┴┴┘    └┘         ├┤       └┘     \n",
       "    ├┤                   └┘                                    └┘              \n",
       "    └┘                                                                         \n",
       "                                                                               \n",
       "                                                                               \n",
       "\n",
       " ⊗ s      + s        ⊗ s   + 3*s        ⊗ s    + 4*s        ⊗ s    + s       \n",
       "    ┌┬┬┬┐    ┌┬┬┬┬┬┐    ┌┐      ┌┬┬┬┬┬┐    ┌┬┐      ┌┬┬┬┬┬┐    ┌┬┐    ┌┬┬┬┬┬┐\n",
       "    ├┼┼┴┘    ├┼┴┴┴┴┘    ├┤      ├┼┴┴┴┴┘    ├┼┘      ├┼┴┴┴┴┘    ├┼┤    ├┼┴┴┴┴┘\n",
       "    └┴┘      ├┤         ├┤      ├┤         ├┤       ├┤         ├┼┘    ├┤     \n",
       "             └┘         ├┤      └┘         ├┤       └┘         ├┤     └┘     \n",
       "                        ├┤                 ├┤                  └┘            \n",
       "                        ├┤                 └┘                                \n",
       "                        └┘                                                   \n",
       "\n",
       " ⊗ s    + s        ⊗ s     + s        ⊗ s     + s        ⊗ s   + 3*s        ⊗ \n",
       "    ┌┬┐    ┌┬┬┬┬┬┐    ┌┬┬┐    ┌┬┬┬┬┬┐    ┌┬┬┐    ┌┬┬┬┬┬┐    ┌┐      ┌┬┬┬┬┬┐   \n",
       "    ├┼┤    ├┼┴┴┴┴┘    ├┼┴┘    ├┼┴┴┴┴┘    ├┼┼┘    ├┼┴┴┴┴┘    ├┤      ├┼┼┴┴┴┘   \n",
       "    ├┼┤    ├┤         ├┤      ├┤         ├┼┘     ├┤         ├┤      └┴┘       \n",
       "    └┴┘    └┘         ├┤      └┘         └┘      ├┤         ├┤                \n",
       "                      └┘                         └┘         ├┤                \n",
       "                                                            ├┤                \n",
       "                                                            └┘                \n",
       "\n",
       "s    + 4*s        ⊗ s    + 2*s        ⊗ s    + 3*s        ⊗ s     + 3*s       \n",
       " ┌┬┐      ┌┬┬┬┬┬┐    ┌┬┐      ┌┬┬┬┬┬┐    ┌┬┐      ┌┬┬┬┬┬┐    ┌┬┬┐      ┌┬┬┬┬┬┐\n",
       " ├┼┘      ├┼┼┴┴┴┘    ├┼┤      ├┼┼┴┴┴┘    ├┼┤      ├┼┼┴┴┴┘    ├┼┴┘      ├┼┼┴┴┴┘\n",
       " ├┤       └┴┘        ├┼┘      └┴┘        ├┼┤      └┴┘        ├┤        └┴┘    \n",
       " ├┤                  ├┤                  └┴┘                 ├┤               \n",
       " ├┤                  └┘                                      └┘               \n",
       " └┘                                                                           \n",
       "                                                                              \n",
       "\n",
       " ⊗ s     + s        ⊗ s   + 2*s        ⊗ s    + s        ⊗ s    + s        ⊗ \n",
       "    ┌┬┬┐    ┌┬┬┬┬┬┐    ┌┐      ┌┬┬┬┬┬┐    ┌┬┐    ┌┬┬┬┬┬┐    ┌┬┐    ┌┬┬┬┬┬┐   \n",
       "    ├┼┼┘    ├┼┼┴┴┴┘    ├┤      ├┼┼┴┴┴┘    ├┼┘    ├┼┼┴┴┴┘    ├┼┤    ├┼┼┼┴┴┘   \n",
       "    ├┼┘     ├┼┘        ├┤      ├┼┘        ├┤     ├┼┘        ├┼┘    └┴┴┘      \n",
       "    └┘      └┘         ├┤      └┘         ├┤     └┘         ├┤               \n",
       "                       ├┤                 ├┤                └┘               \n",
       "                       ├┤                 └┘                                 \n",
       "                       └┘                                                    \n",
       "\n",
       "s   + 3*s        ⊗ s    + 2*s        ⊗ s    + s        ⊗ s    + s        ⊗ \n",
       " ┌┐      ┌┬┬┬┬┬┐    ┌┬┐      ┌┬┬┬┬┬┐    ┌┬┐    ┌┬┬┬┬┬┐    ┌┬┐    ┌┬┬┬┬┬┐   \n",
       " ├┤      ├┼┼┼┴┴┘    ├┼┘      ├┼┼┼┴┴┘    ├┼┤    ├┼┼┼┴┴┘    ├┼┤    ├┼┼┼┴┴┘   \n",
       " ├┤      └┴┴┘       ├┤       └┴┴┘       ├┼┘    └┴┴┘       ├┼┤    └┴┴┘      \n",
       " ├┤                 ├┤                  ├┤                └┴┘              \n",
       " ├┤                 ├┤                  └┘                                 \n",
       " ├┤                 └┘                                                     \n",
       " └┘                                                                        \n",
       "\n",
       "s     + s        ⊗ s   + s        ⊗ s   + s        ⊗ s    + s         ⊗ s    + \n",
       " ┌┬┬┐    ┌┬┬┬┬┬┐    ┌┐    ┌┬┬┬┬┬┐    ┌┐    ┌┬┬┬┬┬┐    ┌┬┐    ┌┬┬┬┬┬┬┐    ┌┬┐   \n",
       " ├┼┴┘    ├┼┼┼┴┴┘    ├┤    ├┼┼┼┼┴┘    ├┤    ├┼┼┼┼┴┘    ├┼┘    └┴┴┴┴┴┴┘    ├┼┤   \n",
       " ├┤      ├┼┴┘       ├┤    └┴┴┴┘      ├┤    └┴┴┴┘      ├┤                 ├┼┘   \n",
       " ├┤      └┘         ├┤               ├┤               ├┤                 ├┤    \n",
       " └┘                 ├┤               ├┤               ├┤                 └┘    \n",
       "                    ├┤               ├┤               └┘                       \n",
       "                    └┘               └┘                                        \n",
       "\n",
       "s         ⊗ s     + 3*s         ⊗ s     + s         ⊗ s     + 2*s         ⊗ \n",
       " ┌┬┬┬┬┬┬┐    ┌┬┬┐      ┌┬┬┬┬┬┬┐    ┌┬┬┐    ┌┬┬┬┬┬┬┐    ┌┬┬┐      ┌┬┬┬┬┬┬┐   \n",
       " └┴┴┴┴┴┴┘    ├┼┴┘      └┴┴┴┴┴┴┘    ├┼┼┘    └┴┴┴┴┴┴┘    ├┼┼┤      └┴┴┴┴┴┴┘   \n",
       "             ├┤                    ├┼┘                 └┴┴┘                 \n",
       "             ├┤                    └┘                                       \n",
       "             └┘                                                             \n",
       "                                                                            \n",
       "                                                                            \n",
       "\n",
       "s      + s         ⊗ s      + 2*s         ⊗ s    + 4*s         ⊗ s    + 2*\n",
       " ┌┬┬┬┐    ┌┬┬┬┬┬┬┐    ┌┬┬┬┐      ┌┬┬┬┬┬┬┐    ┌┬┐      ┌┬┬┬┬┬┬┐    ┌┬┐     \n",
       " ├┼┴┴┘    └┴┴┴┴┴┴┘    ├┼┼┴┘      ├┼┴┴┴┴┴┘    ├┼┘      ├┼┴┴┴┴┴┘    ├┼┤     \n",
       " ├┤                   └┴┘        └┘          ├┤       └┘          ├┼┘     \n",
       " └┘                                          ├┤                   ├┤      \n",
       "                                             ├┤                   └┘      \n",
       "                                             └┘                           \n",
       "                                                                          \n",
       "\n",
       "s         ⊗ s    + 4*s         ⊗ s     + 4*s         ⊗ s     + s         ⊗ \n",
       " ┌┬┬┬┬┬┬┐    ┌┬┐      ┌┬┬┬┬┬┬┐    ┌┬┬┐      ┌┬┬┬┬┬┬┐    ┌┬┬┐    ┌┬┬┬┬┬┬┐   \n",
       " ├┼┴┴┴┴┴┘    ├┼┤      ├┼┴┴┴┴┴┘    ├┼┴┘      ├┼┴┴┴┴┴┘    ├┼┼┘    ├┼┴┴┴┴┴┘   \n",
       " └┘          ├┼┤      └┘          ├┤        └┘          ├┼┘     └┘         \n",
       "             └┴┘                  ├┤                    └┘                 \n",
       "                                  └┘                                       \n",
       "                                                                           \n",
       "                                                                           \n",
       "\n",
       "s     + s         ⊗ s      + s         ⊗ s   + 3*s         ⊗ s    + 2*s        \n",
       " ┌┬┬┐    ┌┬┬┬┬┬┬┐    ┌┬┬┬┐    ┌┬┬┬┬┬┬┐    ┌┐      ┌┬┬┬┬┬┬┐    ┌┬┐      ┌┬┬┬┬┬┬┐\n",
       " ├┼┼┤    ├┼┴┴┴┴┴┘    ├┼┴┴┘    ├┼┴┴┴┴┴┘    ├┤      ├┼┴┴┴┴┴┘    ├┼┘      ├┼┴┴┴┴┴┘\n",
       " └┴┴┘    └┘          ├┤       ├┤          ├┤      ├┤          ├┤       ├┤      \n",
       "                     └┘       └┘          ├┤      └┘          ├┤       └┘      \n",
       "                                          ├┤                  ├┤               \n",
       "                                          ├┤                  └┘               \n",
       "                                          └┘                                   \n",
       "\n",
       " ⊗ s    + s         ⊗ s    + s         ⊗ s     + s         ⊗ s   + 3*s        \n",
       "    ┌┬┐    ┌┬┬┬┬┬┬┐    ┌┬┐    ┌┬┬┬┬┬┬┐    ┌┬┬┐    ┌┬┬┬┬┬┬┐    ┌┐      ┌┬┬┬┬┬┬┐\n",
       "    ├┼┤    ├┼┴┴┴┴┴┘    ├┼┤    ├┼┴┴┴┴┴┘    ├┼┴┘    ├┼┼┴┴┴┴┘    ├┤      ├┼┼┴┴┴┴┘\n",
       "    ├┼┘    ├┤          ├┼┤    ├┤          ├┤      └┴┘         ├┤      └┴┘     \n",
       "    ├┤     └┘          └┴┘    └┘          ├┤                  ├┤              \n",
       "    └┘                                    └┘                  ├┤              \n",
       "                                                              ├┤              \n",
       "                                                              └┘              \n",
       "\n",
       " ⊗ s    + 4*s         ⊗ s    + s         ⊗ s    + 2*s         ⊗ s     + \n",
       "    ┌┬┐      ┌┬┬┬┬┬┬┐    ┌┬┐    ┌┬┬┬┬┬┬┐    ┌┬┐      ┌┬┬┬┬┬┬┐    ┌┬┬┐   \n",
       "    ├┼┘      ├┼┼┴┴┴┴┘    ├┼┤    ├┼┼┴┴┴┴┘    ├┼┤      ├┼┼┴┴┴┴┘    ├┼┴┘   \n",
       "    ├┤       └┴┘         ├┼┘    └┴┘         ├┼┤      └┴┘         ├┤     \n",
       "    ├┤                   ├┤                 └┴┘                  ├┤     \n",
       "    ├┤                   └┘                                      └┘     \n",
       "    └┘                                                                  \n",
       "                                                                        \n",
       "\n",
       "s         ⊗ s     + s         ⊗ s   + s         ⊗ s    + s         ⊗ s   + 2*\n",
       " ┌┬┬┬┬┬┬┐    ┌┬┬┐    ┌┬┬┬┬┬┬┐    ┌┐    ┌┬┬┬┬┬┬┐    ┌┬┐    ┌┬┬┬┬┬┬┐    ┌┐     \n",
       " ├┼┼┴┴┴┴┘    ├┼┼┘    ├┼┼┴┴┴┴┘    ├┤    ├┼┼┴┴┴┴┘    ├┼┘    ├┼┼┼┴┴┴┘    ├┤     \n",
       " └┴┘         ├┼┘     ├┼┘         ├┤    ├┼┘         ├┤     └┴┴┘        ├┤     \n",
       "             └┘      └┘          ├┤    └┘          ├┤                 ├┤     \n",
       "                                 ├┤                ├┤                 ├┤     \n",
       "                                 ├┤                └┘                 ├┤     \n",
       "                                 └┘                                   └┘     \n",
       "\n",
       "s         ⊗ s    + s         ⊗ s    + s         ⊗ s   + s          ⊗ s    + \n",
       " ┌┬┬┬┬┬┬┐    ┌┬┐    ┌┬┬┬┬┬┬┐    ┌┬┐    ┌┬┬┬┬┬┬┐    ┌┐    ┌┬┬┬┬┬┬┬┐    ┌┬┐   \n",
       " ├┼┼┼┴┴┴┘    ├┼┘    ├┼┼┼┴┴┴┘    ├┼┤    ├┼┼┼┼┴┴┘    ├┤    └┴┴┴┴┴┴┴┘    ├┼┤   \n",
       " └┴┴┘        ├┤     └┴┴┘        ├┼┘    └┴┴┴┘       ├┤                 ├┼┘   \n",
       "             ├┤                 ├┤                 ├┤                 ├┤    \n",
       "             ├┤                 └┘                 ├┤                 └┘    \n",
       "             └┘                                    ├┤                       \n",
       "                                                   └┘                       \n",
       "\n",
       "s          ⊗ s    + 2*s          ⊗ s     + 3*s          ⊗ s     + s          ⊗ \n",
       " ┌┬┬┬┬┬┬┬┐    ┌┬┐      ┌┬┬┬┬┬┬┬┐    ┌┬┬┐      ┌┬┬┬┬┬┬┬┐    ┌┬┬┐    ┌┬┬┬┬┬┬┬┐   \n",
       " └┴┴┴┴┴┴┴┘    ├┼┤      └┴┴┴┴┴┴┴┘    ├┼┴┘      └┴┴┴┴┴┴┴┘    ├┼┼┘    └┴┴┴┴┴┴┴┘   \n",
       "              ├┼┤                   ├┤                     ├┼┘                 \n",
       "              └┴┘                   ├┤                     └┘                  \n",
       "                                    └┘                                         \n",
       "                                                                               \n",
       "                                                                               \n",
       "\n",
       "s      + s          ⊗ s      + 3*s          ⊗ s    + 4*s          ⊗ s    + 2*\n",
       " ┌┬┬┬┐    ┌┬┬┬┬┬┬┬┐    ┌┬┬┬┐      ┌┬┬┬┬┬┬┬┐    ┌┬┐      ┌┬┬┬┬┬┬┬┐    ┌┬┐     \n",
       " ├┼┴┴┘    └┴┴┴┴┴┴┴┘    ├┼┼┴┘      ├┼┴┴┴┴┴┴┘    ├┼┘      ├┼┴┴┴┴┴┴┘    ├┼┤     \n",
       " ├┤                    └┴┘        └┘           ├┤       └┘           ├┼┘     \n",
       " └┘                                            ├┤                    ├┤      \n",
       "                                               ├┤                    └┘      \n",
       "                                               └┘                            \n",
       "                                                                             \n",
       "\n",
       "s          ⊗ s    + 3*s          ⊗ s     + 3*s          ⊗ s     + 2*s         \n",
       " ┌┬┬┬┬┬┬┬┐    ┌┬┐      ┌┬┬┬┬┬┬┬┐    ┌┬┬┐      ┌┬┬┬┬┬┬┬┐    ┌┬┬┐      ┌┬┬┬┬┬┬┬┐\n",
       " ├┼┴┴┴┴┴┴┘    ├┼┤      ├┼┴┴┴┴┴┴┘    ├┼┴┘      ├┼┴┴┴┴┴┴┘    ├┼┼┘      ├┼┴┴┴┴┴┴┘\n",
       " └┘           ├┼┤      └┘           ├┤        └┘           ├┼┘       ├┤       \n",
       "              └┴┘                   ├┤                     └┘        └┘       \n",
       "                                    └┘                                        \n",
       "                                                                              \n",
       "                                                                              \n",
       "\n",
       " ⊗ s   + 2*s          ⊗ s    + s          ⊗ s    + s          ⊗ s   + 3*\n",
       "    ┌┐      ┌┬┬┬┬┬┬┬┐    ┌┬┐    ┌┬┬┬┬┬┬┬┐    ┌┬┐    ┌┬┬┬┬┬┬┬┐    ┌┐     \n",
       "    ├┤      ├┼┴┴┴┴┴┴┘    ├┼┘    ├┼┴┴┴┴┴┴┘    ├┼┤    ├┼┼┴┴┴┴┴┘    ├┤     \n",
       "    ├┤      ├┤           ├┤     ├┤           ├┼┘    └┴┘          ├┤     \n",
       "    ├┤      └┘           ├┤     └┘           ├┤                  ├┤     \n",
       "    ├┤                   ├┤                  └┘                  ├┤     \n",
       "    ├┤                   └┘                                      ├┤     \n",
       "    └┘                                                           └┘     \n",
       "\n",
       "s          ⊗ s    + 2*s          ⊗ s    + s          ⊗ s    + s          ⊗ \n",
       " ┌┬┬┬┬┬┬┬┐    ┌┬┐      ┌┬┬┬┬┬┬┬┐    ┌┬┐    ┌┬┬┬┬┬┬┬┐    ┌┬┐    ┌┬┬┬┬┬┬┬┐   \n",
       " ├┼┼┴┴┴┴┴┘    ├┼┘      ├┼┼┴┴┴┴┴┘    ├┼┤    ├┼┼┴┴┴┴┴┘    ├┼┤    ├┼┼┴┴┴┴┴┘   \n",
       " └┴┘          ├┤       └┴┘          ├┼┘    └┴┘          ├┼┤    └┴┘         \n",
       "              ├┤                    ├┤                  └┴┘                \n",
       "              ├┤                    └┘                                     \n",
       "              └┘                                                           \n",
       "                                                                           \n",
       "\n",
       "s     + s          ⊗ s   + s          ⊗ s   + s          ⊗ s    + 2*s          \n",
       " ┌┬┬┐    ┌┬┬┬┬┬┬┬┐    ┌┐    ┌┬┬┬┬┬┬┬┐    ┌┐    ┌┬┬┬┬┬┬┬┐    ┌┬┐      ┌┬┬┬┬┬┬┬┬┐\n",
       " ├┼┴┘    ├┼┼┴┴┴┴┴┘    ├┤    ├┼┼┼┴┴┴┴┘    ├┤    ├┼┼┼┴┴┴┴┘    ├┼┘      └┴┴┴┴┴┴┴┴┘\n",
       " ├┤      ├┼┘          ├┤    └┴┴┘         ├┤    └┴┴┘         ├┤                 \n",
       " ├┤      └┘           ├┤                 ├┤                 ├┤                 \n",
       " └┘                   ├┤                 ├┤                 ├┤                 \n",
       "                      ├┤                 ├┤                 └┘                 \n",
       "                      └┘                 └┘                                    \n",
       "\n",
       " ⊗ s    + s           ⊗ s    + 2*s           ⊗ s     + 2*s           ⊗ s     + \n",
       "    ┌┬┐    ┌┬┬┬┬┬┬┬┬┐    ┌┬┐      ┌┬┬┬┬┬┬┬┬┐    ┌┬┬┐      ┌┬┬┬┬┬┬┬┬┐    ┌┬┬┐   \n",
       "    ├┼┤    └┴┴┴┴┴┴┴┴┘    ├┼┤      └┴┴┴┴┴┴┴┴┘    ├┼┴┘      └┴┴┴┴┴┴┴┴┘    ├┼┼┘   \n",
       "    ├┼┘                  ├┼┤                    ├┤                      ├┼┘    \n",
       "    ├┤                   └┴┘                    ├┤                      └┘     \n",
       "    └┘                                          └┘                             \n",
       "                                                                               \n",
       "                                                                               \n",
       "\n",
       "s           ⊗ s     + s           ⊗ s      + 3*s           ⊗ s    + 4*\n",
       " ┌┬┬┬┬┬┬┬┬┐    ┌┬┬┐    ┌┬┬┬┬┬┬┬┬┐    ┌┬┬┬┐      ┌┬┬┬┬┬┬┬┬┐    ┌┬┐     \n",
       " └┴┴┴┴┴┴┴┴┘    ├┼┼┤    └┴┴┴┴┴┴┴┴┘    ├┼┴┴┘      ├┼┴┴┴┴┴┴┴┘    ├┼┘     \n",
       "               └┴┴┘                  ├┤         └┘            ├┤      \n",
       "                                     └┘                       ├┤      \n",
       "                                                              ├┤      \n",
       "                                                              └┘      \n",
       "                                                                      \n",
       "\n",
       "s           ⊗ s    + s           ⊗ s    + 2*s           ⊗ s     + s          \n",
       " ┌┬┬┬┬┬┬┬┬┐    ┌┬┐    ┌┬┬┬┬┬┬┬┬┐    ┌┬┐      ┌┬┬┬┬┬┬┬┬┐    ┌┬┬┐    ┌┬┬┬┬┬┬┬┬┐\n",
       " ├┼┴┴┴┴┴┴┴┘    ├┼┤    ├┼┴┴┴┴┴┴┴┘    ├┼┤      ├┼┴┴┴┴┴┴┴┘    ├┼┴┘    ├┼┴┴┴┴┴┴┴┘\n",
       " └┘            ├┼┘    └┘            ├┼┤      └┘            ├┤      └┘        \n",
       "               ├┤                   └┴┘                    ├┤                \n",
       "               └┘                                          └┘                \n",
       "                                                                             \n",
       "                                                                             \n",
       "\n",
       " ⊗ s     + s           ⊗ s   + s           ⊗ s    + s           ⊗ s   + 2*\n",
       "    ┌┬┬┐    ┌┬┬┬┬┬┬┬┬┐    ┌┐    ┌┬┬┬┬┬┬┬┬┐    ┌┬┐    ┌┬┬┬┬┬┬┬┬┐    ┌┐     \n",
       "    ├┼┼┘    ├┼┴┴┴┴┴┴┴┘    ├┤    ├┼┴┴┴┴┴┴┴┘    ├┼┘    ├┼┼┴┴┴┴┴┴┘    ├┤     \n",
       "    ├┼┘     ├┤            ├┤    ├┤            ├┤     └┴┘           ├┤     \n",
       "    └┘      └┘            ├┤    └┘            ├┤                   ├┤     \n",
       "                          ├┤                  ├┤                   ├┤     \n",
       "                          ├┤                  └┘                   ├┤     \n",
       "                          └┘                                       └┘     \n",
       "\n",
       "s           ⊗ s    + s           ⊗ s    + s           ⊗ s   + s            ⊗ \n",
       " ┌┬┬┬┬┬┬┬┬┐    ┌┬┐    ┌┬┬┬┬┬┬┬┬┐    ┌┬┐    ┌┬┬┬┬┬┬┬┬┐    ┌┐    ┌┬┬┬┬┬┬┬┬┬┐   \n",
       " ├┼┼┴┴┴┴┴┴┘    ├┼┘    ├┼┼┴┴┴┴┴┴┘    ├┼┤    ├┼┼┼┴┴┴┴┴┘    ├┤    └┴┴┴┴┴┴┴┴┴┘   \n",
       " └┴┘           ├┤     └┴┘           ├┼┘    └┴┴┘          ├┤                  \n",
       "               ├┤                   ├┤                   ├┤                  \n",
       "               ├┤                   └┘                   ├┤                  \n",
       "               └┘                                        ├┤                  \n",
       "                                                         └┘                  \n",
       "\n",
       "s    + s            ⊗ s    + s            ⊗ s    + 2*s            ⊗ s     + 2*\n",
       " ┌┬┐    ┌┬┬┬┬┬┬┬┬┬┐    ┌┬┐    ┌┬┬┬┬┬┬┬┬┬┐    ┌┬┐      ┌┬┬┬┬┬┬┬┬┬┐    ┌┬┬┐     \n",
       " ├┼┘    └┴┴┴┴┴┴┴┴┴┘    ├┼┤    └┴┴┴┴┴┴┴┴┴┘    ├┼┤      └┴┴┴┴┴┴┴┴┴┘    ├┼┴┘     \n",
       " ├┤                    ├┼┘                   ├┼┤                     ├┤       \n",
       " ├┤                    ├┤                    └┴┘                     ├┤       \n",
       " ├┤                    └┘                                            └┘       \n",
       " └┘                                                                           \n",
       "                                                                              \n",
       "\n",
       "s            ⊗ s     + s            ⊗ s   + 3*s            ⊗ s    + 2*\n",
       " ┌┬┬┬┬┬┬┬┬┬┐    ┌┬┬┐    ┌┬┬┬┬┬┬┬┬┬┐    ┌┐      ┌┬┬┬┬┬┬┬┬┬┐    ┌┬┐     \n",
       " └┴┴┴┴┴┴┴┴┴┘    ├┼┼┘    ├┼┴┴┴┴┴┴┴┴┘    ├┤      ├┼┴┴┴┴┴┴┴┴┘    ├┼┘     \n",
       "                ├┼┘     └┘             ├┤      └┘             ├┤      \n",
       "                └┘                     ├┤                     ├┤      \n",
       "                                       ├┤                     ├┤      \n",
       "                                       ├┤                     └┘      \n",
       "                                       └┘                             \n",
       "\n",
       "s            ⊗ s    + s            ⊗ s    + s            ⊗ s     + s           \n",
       " ┌┬┬┬┬┬┬┬┬┬┐    ┌┬┐    ┌┬┬┬┬┬┬┬┬┬┐    ┌┬┐    ┌┬┬┬┬┬┬┬┬┬┐    ┌┬┬┐    ┌┬┬┬┬┬┬┬┬┬┐\n",
       " ├┼┴┴┴┴┴┴┴┴┘    ├┼┤    ├┼┴┴┴┴┴┴┴┴┘    ├┼┤    ├┼┴┴┴┴┴┴┴┴┘    ├┼┴┘    ├┼┴┴┴┴┴┴┴┴┘\n",
       " └┘             ├┼┘    └┘             ├┼┤    └┘             ├┤      ├┤         \n",
       "                ├┤                    └┴┘                   ├┤      └┘         \n",
       "                └┘                                          └┘                 \n",
       "                                                                               \n",
       "                                                                               \n",
       "\n",
       " ⊗ s   + s            ⊗ s   + s            ⊗ s    + s             ⊗ s    + 2*\n",
       "    ┌┐    ┌┬┬┬┬┬┬┬┬┬┐    ┌┐    ┌┬┬┬┬┬┬┬┬┬┐    ┌┬┐    ┌┬┬┬┬┬┬┬┬┬┬┐    ┌┬┐     \n",
       "    ├┤    ├┼┼┴┴┴┴┴┴┴┘    ├┤    ├┼┼┴┴┴┴┴┴┴┘    ├┼┘    └┴┴┴┴┴┴┴┴┴┴┘    ├┼┘     \n",
       "    ├┤    └┴┘            ├┤    └┴┘            ├┤                     ├┤      \n",
       "    ├┤                   ├┤                   ├┤                     ├┤      \n",
       "    ├┤                   ├┤                   ├┤                     ├┤      \n",
       "    ├┤                   ├┤                   └┘                     └┘      \n",
       "    └┘                   └┘                                                  \n",
       "\n",
       "s             ⊗ s    + s             ⊗ s     + s             ⊗ s     + \n",
       " ┌┬┬┬┬┬┬┬┬┬┬┐    ┌┬┐    ┌┬┬┬┬┬┬┬┬┬┬┐    ┌┬┬┐    ┌┬┬┬┬┬┬┬┬┬┬┐    ┌┬┬┐   \n",
       " └┴┴┴┴┴┴┴┴┴┴┘    ├┼┤    └┴┴┴┴┴┴┴┴┴┴┘    ├┼┴┘    └┴┴┴┴┴┴┴┴┴┴┘    ├┼┼┘   \n",
       "                 ├┼┘                    ├┤                      ├┼┘    \n",
       "                 ├┤                     ├┤                      └┘     \n",
       "                 └┘                     └┘                             \n",
       "                                                                       \n",
       "                                                                       \n",
       "\n",
       "s             ⊗ s   + 2*s             ⊗ s    + s             ⊗ s    + \n",
       " ┌┬┬┬┬┬┬┬┬┬┬┐    ┌┐      ┌┬┬┬┬┬┬┬┬┬┬┐    ┌┬┐    ┌┬┬┬┬┬┬┬┬┬┬┐    ┌┬┐   \n",
       " ├┼┴┴┴┴┴┴┴┴┴┘    ├┤      ├┼┴┴┴┴┴┴┴┴┴┘    ├┼┘    ├┼┴┴┴┴┴┴┴┴┴┘    ├┼┤   \n",
       " └┘              ├┤      └┘              ├┤     └┘              ├┼┘   \n",
       "                 ├┤                      ├┤                     ├┤    \n",
       "                 ├┤                      ├┤                     └┘    \n",
       "                 ├┤                      └┘                           \n",
       "                 └┘                                                   \n",
       "\n",
       "s             ⊗ s   + s              ⊗ s    + s              ⊗ s    + \n",
       " ┌┬┬┬┬┬┬┬┬┬┬┐    ┌┐    ┌┬┬┬┬┬┬┬┬┬┬┬┐    ┌┬┐    ┌┬┬┬┬┬┬┬┬┬┬┬┐    ┌┬┐   \n",
       " ├┼┼┴┴┴┴┴┴┴┴┘    ├┤    └┴┴┴┴┴┴┴┴┴┴┴┘    ├┼┘    └┴┴┴┴┴┴┴┴┴┴┴┘    ├┼┤   \n",
       " └┴┘             ├┤                     ├┤                      ├┼┘   \n",
       "                 ├┤                     ├┤                      ├┤    \n",
       "                 ├┤                     ├┤                      └┘    \n",
       "                 ├┤                     └┘                            \n",
       "                 └┘                                                   \n",
       "\n",
       "s              ⊗ s    + s              ⊗ s     + s              ⊗ s   + \n",
       " ┌┬┬┬┬┬┬┬┬┬┬┬┐    ┌┬┐    ┌┬┬┬┬┬┬┬┬┬┬┬┐    ┌┬┬┐    ┌┬┬┬┬┬┬┬┬┬┬┬┐    ┌┐   \n",
       " └┴┴┴┴┴┴┴┴┴┴┴┘    ├┼┤    └┴┴┴┴┴┴┴┴┴┴┴┘    ├┼┴┘    ├┼┴┴┴┴┴┴┴┴┴┴┘    ├┤   \n",
       "                  ├┼┤                     ├┤      └┘               ├┤   \n",
       "                  └┴┘                     ├┤                       ├┤   \n",
       "                                          └┘                       ├┤   \n",
       "                                                                   ├┤   \n",
       "                                                                   └┘   \n",
       "\n",
       "s              ⊗ s    + s               ⊗ s    + s               ⊗ s    + \n",
       " ┌┬┬┬┬┬┬┬┬┬┬┬┐    ┌┬┐    ┌┬┬┬┬┬┬┬┬┬┬┬┬┐    ┌┬┐    ┌┬┬┬┬┬┬┬┬┬┬┬┬┐    ┌┬┐   \n",
       " ├┼┴┴┴┴┴┴┴┴┴┴┘    ├┼┘    └┴┴┴┴┴┴┴┴┴┴┴┴┘    ├┼┘    └┴┴┴┴┴┴┴┴┴┴┴┴┘    ├┼┤   \n",
       " └┘               ├┤                       ├┤                       ├┼┘   \n",
       "                  ├┤                       ├┤                       ├┤    \n",
       "                  ├┤                       ├┤                       └┘    \n",
       "                  └┘                       └┘                             \n",
       "                                                                          \n",
       "\n",
       "s               ⊗ s   + s                ⊗ s    + s                 ⊗ s\n",
       " ┌┬┬┬┬┬┬┬┬┬┬┬┬┐    ┌┐    ┌┬┬┬┬┬┬┬┬┬┬┬┬┬┐    ┌┬┐    ┌┬┬┬┬┬┬┬┬┬┬┬┬┬┬┐    ┌┐\n",
       " ├┼┴┴┴┴┴┴┴┴┴┴┴┘    ├┤    └┴┴┴┴┴┴┴┴┴┴┴┴┴┘    ├┼┘    └┴┴┴┴┴┴┴┴┴┴┴┴┴┴┘    ├┤\n",
       " └┘                ├┤                       ├┤                         ├┤\n",
       "                   ├┤                       ├┤                         ├┤\n",
       "                   ├┤                       ├┤                         ├┤\n",
       "                   ├┤                       └┘                         ├┤\n",
       "                   └┘                                                  └┘"
      ]
     },
     "execution_count": 4,
     "metadata": {},
     "output_type": "execute_result"
    }
   ],
   "source": [
    "%runfile code.py\n",
    "%display unicode_art\n",
    "tensor.symbol=u\" ⊗ \"\n",
    "harmonic_bicharacter(6)"
   ]
  },
  {
   "cell_type": "markdown",
   "metadata": {
    "slideshow": {
     "slide_type": "subslide"
    }
   },
   "source": [
    "## Was it worth the trouble?"
   ]
  },
  {
   "cell_type": "markdown",
   "metadata": {},
   "source": [
    "**Stability property**: $\\harm(6,5)$ contains all the information about $\\harm(6,r)$ for all $r$."
   ]
  },
  {
   "cell_type": "markdown",
   "metadata": {
    "slideshow": {
     "slide_type": "fragment"
    }
   },
   "source": [
    "«Coté mathématiques, grâce à tes calculs et à mon apprentissage de Sage, j’ai exploré une mine d’or de liens entre tout ce qu’on fait depuis le début sur les opérateurs de Macdonald, jusqu’à aujourd’hui; algèbre de Hall elliptique, Conjecture Delta, théorie des noeuds et  entrelacs du tore, etc. Je pense que cela sera ce que j’ai fait de mieux dans ma carrière. C’est magnifique et cela simplifie la compréhension de tout, permet de prouver plein de liens nouveaux, prédit comment généraliser, et de plus j’ai des modules qui expliquent cela.»\n",
    "\n",
    "François"
   ]
  },
  {
   "cell_type": "markdown",
   "metadata": {
    "collapsed": true,
    "slideshow": {
     "slide_type": "slide"
    }
   },
   "source": [
    "## Plan\n",
    "### Motivations\n",
    "### Warming up: harmonic polynomials\n",
    "- Definition\n",
    "- Exploiting the grading\n",
    "\n",
    "### Diagonal harmonic polynomials\n",
    "- Definition\n",
    "- Exploiting the multigrading\n",
    "- Exploiting symmetries\n",
    "- Exploiting the action of the symmetric group `S_n`\n",
    "- Exploiting antisymmetries\n",
    "- Exploiting the action of `gl_k`"
   ]
  },
  {
   "cell_type": "markdown",
   "metadata": {
    "slideshow": {
     "slide_type": "slide"
    }
   },
   "source": [
    "## Harmonic polynomials\n",
    "$\\QQ[\\x]$: the ring of polynomials in the $n$ variables $X:=(x_1,\\ldots,x_n)$"
   ]
  },
  {
   "cell_type": "markdown",
   "metadata": {
    "slideshow": {
     "slide_type": "fragment"
    }
   },
   "source": [
    "**Definition:** $f\\in\\QQ[X]$ **harmonic** if\n",
    "$$ \\frac{\\partial^k}{\\partial x_1} f+ \\cdots + \\frac{\\partial^k}{\\partial x_n} f = 0, \\qquad \\forall k>0$$"
   ]
  },
  {
   "cell_type": "markdown",
   "metadata": {
    "slideshow": {
     "slide_type": "fragment"
    }
   },
   "source": [
    "In particular: $\\quad \\div f = 0, \\quad  \\nabla f = 0, \\quad ...$"
   ]
  },
  {
   "cell_type": "markdown",
   "metadata": {
    "slideshow": {
     "slide_type": "fragment"
    }
   },
   "source": [
    "**Example**: $1$, $x_1-x_2$ and linear combinations are harmonic."
   ]
  },
  {
   "cell_type": "markdown",
   "metadata": {
    "slideshow": {
     "slide_type": "subslide"
    }
   },
   "source": [
    "### Notations\n",
    "- $\\harm(n)$ : subspace of harmonic polynomials\n",
    "- $\\partial_i := \\frac{\\partial}{\\partial x_i}$"
   ]
  },
  {
   "cell_type": "markdown",
   "metadata": {
    "slideshow": {
     "slide_type": "fragment"
    }
   },
   "source": [
    "$\\harm(n)$ : joint kernel of the differential operators $\\partial_1^k + \\cdots + \\partial_n^k$"
   ]
  },
  {
   "cell_type": "markdown",
   "metadata": {
    "slideshow": {
     "slide_type": "fragment"
    }
   },
   "source": [
    "$\\harm(n)$ : a realization of the coinvariants of the symmetric group: $\\QQ[X] / \\langle \\QQ[X]^{S_n} \\rangle$ "
   ]
  },
  {
   "cell_type": "markdown",
   "metadata": {
    "slideshow": {
     "slide_type": "fragment"
    }
   },
   "source": [
    "### Example\n",
    "$$\\harm(2) = \\langle 1, x_1-x_2 \\rangle_\\QQ$$"
   ]
  },
  {
   "cell_type": "markdown",
   "metadata": {
    "slideshow": {
     "slide_type": "subslide"
    }
   },
   "source": [
    "### Example on computer"
   ]
  },
  {
   "cell_type": "code",
   "execution_count": 5,
   "metadata": {
    "slideshow": {
     "slide_type": "fragment"
    }
   },
   "outputs": [],
   "source": [
    "%display latex\n",
    "R = QQ['x1,x2,x3']\n",
    "x1,x2,x3 = X = R.gens()\n",
    "p1 = lambda p: p.derivative(x1)                         # ∂₁\n",
    "p2 = lambda p: p.derivative(x2)                         # ∂₂\n",
    "p3 = lambda p: p.derivative(x3)                         # ∂₃\n",
    "D1 = lambda p: sum( p.derivative(v) for v in X)         # ∂₁  + ∂₂  + ∂₃\n",
    "D2 = lambda p: sum( p.derivative([v,v]) for v in X)     # ∂₁² + ∂₂² + ∂₃²\n",
    "D3 = lambda p: sum( p.derivative([v,v,v]) for v in X)   # ∂₁³ + ∂₂³ + ∂₃³"
   ]
  },
  {
   "cell_type": "code",
   "execution_count": 6,
   "metadata": {
    "slideshow": {
     "slide_type": "fragment"
    }
   },
   "outputs": [
    {
     "data": {
      "text/html": [
       "<html><script type=\"math/tex; mode=display\">\\newcommand{\\Bold}[1]{\\mathbf{#1}}0</script></html>"
      ],
      "text/plain": [
       "0"
      ]
     },
     "execution_count": 6,
     "metadata": {},
     "output_type": "execute_result"
    }
   ],
   "source": [
    "D1(x1-x2)"
   ]
  },
  {
   "cell_type": "code",
   "execution_count": 7,
   "metadata": {
    "slideshow": {
     "slide_type": "fragment"
    }
   },
   "outputs": [
    {
     "data": {
      "text/html": [
       "<html><script type=\"math/tex; mode=display\">\\newcommand{\\Bold}[1]{\\mathbf{#1}}\\left(0, 0\\right)</script></html>"
      ],
      "text/plain": [
       "(0, 0)"
      ]
     },
     "execution_count": 7,
     "metadata": {},
     "output_type": "execute_result"
    }
   ],
   "source": [
    "D1(x1-x3), D1(x2-x3)"
   ]
  },
  {
   "cell_type": "code",
   "execution_count": 8,
   "metadata": {
    "slideshow": {
     "slide_type": "fragment"
    }
   },
   "outputs": [
    {
     "data": {
      "text/html": [
       "<html><script type=\"math/tex; mode=display\">\\newcommand{\\Bold}[1]{\\mathbf{#1}}2 x_{1} - 2 x_{2}</script></html>"
      ],
      "text/plain": [
       "2*x1 - 2*x2"
      ]
     },
     "execution_count": 8,
     "metadata": {},
     "output_type": "execute_result"
    }
   ],
   "source": [
    "D1(x1^2-x2^2)"
   ]
  },
  {
   "cell_type": "code",
   "execution_count": 9,
   "metadata": {
    "slideshow": {
     "slide_type": "fragment"
    }
   },
   "outputs": [
    {
     "data": {
      "text/html": [
       "<html><script type=\"math/tex; mode=display\">\\newcommand{\\Bold}[1]{\\mathbf{#1}}\\left(0, 0, 0\\right)</script></html>"
      ],
      "text/plain": [
       "(0, 0, 0)"
      ]
     },
     "execution_count": 9,
     "metadata": {},
     "output_type": "execute_result"
    }
   ],
   "source": [
    "Delta = ( (x1-x2) * (x1-x3) * (x2-x3) )\n",
    "D1(Delta), D2(Delta), D3(Delta)"
   ]
  },
  {
   "cell_type": "code",
   "execution_count": 10,
   "metadata": {
    "slideshow": {
     "slide_type": "fragment"
    }
   },
   "outputs": [
    {
     "data": {
      "text/html": [
       "<html><script type=\"math/tex; mode=display\">\\newcommand{\\Bold}[1]{\\mathbf{#1}}\\left(0, 0, 0\\right)</script></html>"
      ],
      "text/plain": [
       "(0, 0, 0)"
      ]
     },
     "execution_count": 10,
     "metadata": {},
     "output_type": "execute_result"
    }
   ],
   "source": [
    "f = p1(Delta)\n",
    "D1(f), D2(f), D3(f)"
   ]
  },
  {
   "cell_type": "markdown",
   "metadata": {
    "slideshow": {
     "slide_type": "subslide"
    }
   },
   "source": [
    "### What have we learned?\n",
    "- $\\Delta:=$ $\\prod_{i<j}(x_i-x_j)$ is harmonic\n",
    "- $f$ harmonic $\\Longrightarrow$ $\\partial_i f$ harmonic"
   ]
  },
  {
   "cell_type": "markdown",
   "metadata": {
    "slideshow": {
     "slide_type": "fragment"
    }
   },
   "source": [
    "### Theorem\n",
    "$$\\harm(n) = \\langle \\Delta \\rangle_{\\partial_1,\\ldots,\\partial_n}$$"
   ]
  },
  {
   "cell_type": "markdown",
   "metadata": {
    "slideshow": {
     "slide_type": "fragment"
    }
   },
   "source": [
    "### On computer"
   ]
  },
  {
   "cell_type": "code",
   "execution_count": 11,
   "metadata": {
    "slideshow": {
     "slide_type": "fragment"
    }
   },
   "outputs": [
    {
     "data": {
      "text/html": [
       "<html><script type=\"math/tex; mode=display\">\\newcommand{\\Bold}[1]{\\mathbf{#1}}6</script></html>"
      ],
      "text/plain": [
       "6"
      ]
     },
     "execution_count": 11,
     "metadata": {},
     "output_type": "execute_result"
    }
   ],
   "source": [
    "%runfile code.py\n",
    "H = Subspace([Delta], [p1,p2,p3])\n",
    "H.dimension()"
   ]
  },
  {
   "cell_type": "code",
   "execution_count": 12,
   "metadata": {
    "slideshow": {
     "slide_type": "fragment"
    }
   },
   "outputs": [
    {
     "data": {
      "text/html": [
       "<html><script type=\"math/tex; mode=display\">\\newcommand{\\Bold}[1]{\\mathbf{#1}}\\left(- x_{1}^{2} x_{2} + x_{1} x_{2}^{2} + x_{1}^{2} x_{3} -  x_{2}^{2} x_{3} -  x_{1} x_{3}^{2} + x_{2} x_{3}^{2}, - x_{1} x_{2} + \\frac{1}{2} x_{2}^{2} + x_{1} x_{3} - \\frac{1}{2} x_{3}^{2}, \\frac{1}{2} x_{1}^{2} -  x_{1} x_{2} + x_{2} x_{3} - \\frac{1}{2} x_{3}^{2}, x_{1} -  x_{3}, x_{2} -  x_{3}, 1\\right)</script></html>"
      ],
      "text/plain": [
       "(-x1^2*x2 + x1*x2^2 + x1^2*x3 - x2^2*x3 - x1*x3^2 + x2*x3^2,\n",
       " -x1*x2 + 1/2*x2^2 + x1*x3 - 1/2*x3^2,\n",
       " 1/2*x1^2 - x1*x2 + x2*x3 - 1/2*x3^2,\n",
       " x1 - x3,\n",
       " x2 - x3,\n",
       " 1)"
      ]
     },
     "execution_count": 12,
     "metadata": {},
     "output_type": "execute_result"
    }
   ],
   "source": [
    "H.basis()"
   ]
  },
  {
   "cell_type": "code",
   "execution_count": 13,
   "metadata": {
    "slideshow": {
     "slide_type": "fragment"
    }
   },
   "outputs": [
    {
     "data": {
      "text/html": [
       "<html><script type=\"math/tex; mode=display\">\\newcommand{\\Bold}[1]{\\mathbf{#1}}\\left[(x_{2} -  x_{3}) \\cdot (- x_{1} + x_{2}) \\cdot (x_{1} -  x_{3}), \\left(\\frac{1}{2}\\right) \\cdot (x_{2} -  x_{3}) \\cdot (-2 x_{1} + x_{2} + x_{3}), \\left(-\\frac{1}{2}\\right) \\cdot (- x_{1} + 2 x_{2} -  x_{3}) \\cdot (x_{1} -  x_{3}), (x_{1} -  x_{3}), (x_{2} -  x_{3}), 1\\right]</script></html>"
      ],
      "text/plain": [
       "[(x2 - x3) * (-x1 + x2) * (x1 - x3),\n",
       " (1/2) * (x2 - x3) * (-2*x1 + x2 + x3),\n",
       " (-1/2) * (-x1 + 2*x2 - x3) * (x1 - x3),\n",
       " x1 - x3,\n",
       " x2 - x3,\n",
       " 1]"
      ]
     },
     "execution_count": 13,
     "metadata": {},
     "output_type": "execute_result"
    }
   ],
   "source": [
    "[factor(v) for v in H.basis()]"
   ]
  },
  {
   "cell_type": "markdown",
   "metadata": {
    "slideshow": {
     "slide_type": "slide"
    }
   },
   "source": [
    "### Algorithm: straightforward linear algebra in the monomial basis\n",
    "`Subspace( polynomials, operators )`:\n",
    "- maintain a list $L$ of all the relevant monomials\n",
    "- represent the polynomials as finite vectors with columns indexed by $L$\n",
    "- build a matrix and maintain it in row echelon form\n",
    "- insert new vectors until the subspace is stable under the operators\n",
    "\n",
    "**Tricky part**: make that work with most vector spaces in Sage"
   ]
  },
  {
   "cell_type": "code",
   "execution_count": 14,
   "metadata": {
    "slideshow": {
     "slide_type": "fragment"
    }
   },
   "outputs": [
    {
     "data": {
      "text/html": [
       "<html><script type=\"math/tex; mode=display\">\\newcommand{\\Bold}[1]{\\mathbf{#1}}\\left(\\begin{array}{rrrrrrrrrrrrrrrr}\n",
       "1 & -1 & 1 & 1 & -1 & -1 & 0 & 0 & 0 & 0 & 0 & 0 & 0 & 0 & 0 & 0 \\\\\n",
       "0 & 0 & 0 & 0 & 0 & 0 & 1 & 0 & 0 & \\frac{1}{2} & 0 & 0 & 0 & 0 & -\\frac{1}{2} & -1 \\\\\n",
       "0 & 0 & 0 & 0 & 0 & 0 & 0 & 1 & \\frac{1}{2} & 0 & 0 & 0 & 0 & 0 & -\\frac{1}{2} & -1 \\\\\n",
       "0 & 0 & 0 & 0 & 0 & 0 & 0 & 0 & 0 & 0 & 1 & 0 & 0 & -1 & 0 & 0 \\\\\n",
       "0 & 0 & 0 & 0 & 0 & 0 & 0 & 0 & 0 & 0 & 0 & 1 & 0 & -1 & 0 & 0 \\\\\n",
       "0 & 0 & 0 & 0 & 0 & 0 & 0 & 0 & 0 & 0 & 0 & 0 & 1 & 0 & 0 & 0\n",
       "\\end{array}\\right)</script></html>"
      ],
      "text/plain": [
       "[   1   -1    1    1   -1   -1    0    0    0    0    0    0    0    0    0    0]\n",
       "[   0    0    0    0    0    0    1    0    0  1/2    0    0    0    0 -1/2   -1]\n",
       "[   0    0    0    0    0    0    0    1  1/2    0    0    0    0    0 -1/2   -1]\n",
       "[   0    0    0    0    0    0    0    0    0    0    1    0    0   -1    0    0]\n",
       "[   0    0    0    0    0    0    0    0    0    0    0    1    0   -1    0    0]\n",
       "[   0    0    0    0    0    0    0    0    0    0    0    0    1    0    0    0]"
      ]
     },
     "execution_count": 14,
     "metadata": {},
     "output_type": "execute_result"
    }
   ],
   "source": [
    "H.matrix()"
   ]
  },
  {
   "cell_type": "markdown",
   "metadata": {
    "slideshow": {
     "slide_type": "fragment"
    }
   },
   "source": [
    "**Note**: The matrix is block diagonal: harmonic polynomials of degree $0, 1, 2, 3$"
   ]
  },
  {
   "cell_type": "markdown",
   "metadata": {
    "slideshow": {
     "slide_type": "slide"
    }
   },
   "source": [
    "### Strategy: exploiting the grading"
   ]
  },
  {
   "cell_type": "code",
   "execution_count": 15,
   "metadata": {
    "slideshow": {
     "slide_type": "fragment"
    }
   },
   "outputs": [],
   "source": [
    "def add_degrees(d1, d2):\n",
    "    d = d1 + d2\n",
    "    if d < 0: raise ValueError(\"Negative degree\")\n",
    "    return d\n",
    "F = Subspace(generators  = { 3: [Delta]},\n",
    "             operators   = {-1: [p1,p2,p3]},\n",
    "             add_degrees = add_degrees)"
   ]
  },
  {
   "cell_type": "code",
   "execution_count": 16,
   "metadata": {
    "slideshow": {
     "slide_type": "fragment"
    }
   },
   "outputs": [
    {
     "data": {
      "text/html": [
       "<html><script type=\"math/tex; mode=display\">\\newcommand{\\Bold}[1]{\\mathbf{#1}}6</script></html>"
      ],
      "text/plain": [
       "6"
      ]
     },
     "execution_count": 16,
     "metadata": {},
     "output_type": "execute_result"
    }
   ],
   "source": [
    "F.dimension()"
   ]
  },
  {
   "cell_type": "code",
   "execution_count": 17,
   "metadata": {
    "slideshow": {
     "slide_type": "fragment"
    }
   },
   "outputs": [
    {
     "data": {
      "text/html": [
       "<html><script type=\"math/tex; mode=display\">\\newcommand{\\Bold}[1]{\\mathbf{#1}}q^{3} + 2 q^{2} + 2 q + 1</script></html>"
      ],
      "text/plain": [
       "q^3 + 2*q^2 + 2*q + 1"
      ]
     },
     "execution_count": 17,
     "metadata": {},
     "output_type": "execute_result"
    }
   ],
   "source": [
    "F.hilbert_polynomial()"
   ]
  },
  {
   "cell_type": "markdown",
   "metadata": {
    "slideshow": {
     "slide_type": "fragment"
    }
   },
   "source": [
    "**Algorithm**:\n",
    "- construct the graph of the homogeneous components and operators between them\n",
    "- maintain one matrix per homogeneous component and propagate polynomials"
   ]
  },
  {
   "cell_type": "markdown",
   "metadata": {
    "slideshow": {
     "slide_type": "fragment"
    }
   },
   "source": [
    "**Potential gain** for an $n\\times n$ matrix $M$ with $k$ blocks of same size:<br>\n",
    "Complexity of linear algebra: $k\\left(\\frac n d\\right)^3 = \\frac 1{k^2} n^3$"
   ]
  },
  {
   "cell_type": "markdown",
   "metadata": {
    "slideshow": {
     "slide_type": "notes"
    }
   },
   "source": [
    "So far, nothing very interesting, since $\\harm(n,1)$ is very well known.\n",
    "Time to move on to diagonal harmonic polynomials"
   ]
  },
  {
   "cell_type": "markdown",
   "metadata": {
    "slideshow": {
     "slide_type": "slide"
    }
   },
   "source": [
    "## Diagonal harmonic polynomials\n",
    "Polynomial ring in $r$ rows $X_i$ of $n$ variables $\\QQ\\begin{bmatrix}\n",
    "        x_{11}&\\cdots&x_{1n}\\\\\n",
    "        \\vdots & & \\vdots\\\\\n",
    "        x_{r1}&\\cdots&x_{rn}\\\\\n",
    "     \\end{bmatrix}$"
   ]
  },
  {
   "cell_type": "markdown",
   "metadata": {
    "slideshow": {
     "slide_type": "notes"
    }
   },
   "source": [
    "Draw the matrix of variables on the board, with $X$, $X_1$, ..."
   ]
  },
  {
   "cell_type": "markdown",
   "metadata": {
    "slideshow": {
     "slide_type": "fragment"
    }
   },
   "source": [
    "Differential operators $(D_\\alpha)_{\\alpha\\in \\NN^r}$:\n",
    "$$D_{(3,0,4)} := \\partial_{1,1}^3\\partial_{3,1}^4 + \\dots + \\partial_{1,n}^3\\partial_{3,n}^4$$"
   ]
  },
  {
   "cell_type": "markdown",
   "metadata": {
    "slideshow": {
     "slide_type": "fragment"
    }
   },
   "source": [
    "**Diagonal harmonic polynomials** $\\harm(n,r)$: joint kernel of the $(D_\\alpha)_\\alpha$"
   ]
  },
  {
   "cell_type": "markdown",
   "metadata": {
    "slideshow": {
     "slide_type": "fragment"
    }
   },
   "source": [
    "How to compute them?"
   ]
  },
  {
   "cell_type": "markdown",
   "metadata": {
    "slideshow": {
     "slide_type": "subslide"
    }
   },
   "source": [
    "## Computing diagonal harmonic polynomials"
   ]
  },
  {
   "cell_type": "markdown",
   "metadata": {
    "slideshow": {
     "slide_type": "fragment"
    }
   },
   "source": [
    "**Remark**: $\\harm(n,r)$ contains $\\harm(n,1)$"
   ]
  },
  {
   "cell_type": "markdown",
   "metadata": {
    "slideshow": {
     "slide_type": "fragment"
    }
   },
   "source": [
    "**Polarization operators:**<br>\n",
    "In two rows $X_1=(x_1,\\ldots,x_n)$ and $X_2=(y_1,\\ldots,y_n)$ of variables:\n",
    "$$P_{(-k,1)} := \\partial_1^k y_1 +\\cdots+\\partial_n^k y_n$$\n",
    "Between any two rows $X_i$ and $X_j$ of variables:\n",
    "$$P_{(\\dots,-k,\\dots,1,\\dots)} := \\cdots$$ "
   ]
  },
  {
   "cell_type": "markdown",
   "metadata": {
    "slideshow": {
     "slide_type": "fragment"
    }
   },
   "source": [
    "**Theorem:**\n",
    "$\\harm(n,r)$ is generated by $\\harm(n,1)$ and the polarization operators."
   ]
  },
  {
   "cell_type": "markdown",
   "metadata": {
    "slideshow": {
     "slide_type": "subslide"
    }
   },
   "source": [
    "## Multigrading\n",
    "**Multidegree**: degree in each row $X_i$ of variables\n",
    "\n",
    "**Example**: $x_{1,1}^2x_{1,2} x_{3,2}^4$ is of multidegree $(3,0,4)$"
   ]
  },
  {
   "cell_type": "markdown",
   "metadata": {
    "slideshow": {
     "slide_type": "fragment"
    }
   },
   "source": [
    "**Remark**:\n",
    "- The $D_\\alpha$ preserve the grading: $\\harm(n,r)$ is multigraded\n",
    "- The polarization operators preserve the multigrading\n",
    "- So we can split the linear algebra by homogeneous components"
   ]
  },
  {
   "cell_type": "markdown",
   "metadata": {
    "slideshow": {
     "slide_type": "notes"
    }
   },
   "source": [
    "Draw on the board\n",
    "TODO: do the calculation directly with Subspace and polarization operators"
   ]
  },
  {
   "cell_type": "markdown",
   "metadata": {
    "slideshow": {
     "slide_type": "fragment"
    }
   },
   "source": [
    "Example: computing the **Hilbert polynomial** of Harm(3,2):"
   ]
  },
  {
   "cell_type": "code",
   "execution_count": 42,
   "metadata": {
    "slideshow": {
     "slide_type": "fragment"
    }
   },
   "outputs": [
    {
     "data": {
      "text/html": [
       "<html><script type=\"math/tex; mode=display\">\\newcommand{\\Bold}[1]{\\mathbf{#1}}q_{0}^{3} + q_{0}^{2} q_{1} + q_{0} q_{1}^{2} + q_{1}^{3} + 2 q_{0}^{2} + 3 q_{0} q_{1} + 2 q_{1}^{2} + 2 q_{0} + 2 q_{1} + 1</script></html>"
      ],
      "text/plain": [
       "q0^3 + q0^2*q1 + q0*q1^2 + q1^3 + 2*q0^2 + 3*q0*q1 + 2*q1^2 + 2*q0 + 2*q1 + 1"
      ]
     },
     "execution_count": 42,
     "metadata": {},
     "output_type": "execute_result"
    }
   ],
   "source": [
    "n = 3; r = 2\n",
    "sum(  harmonic_character(mu).expand(r, 'q') * StandardTableaux(mu).cardinality()\n",
    "    for mu in Partitions(n))"
   ]
  },
  {
   "cell_type": "code",
   "execution_count": 43,
   "metadata": {
    "slideshow": {
     "slide_type": "subslide"
    }
   },
   "outputs": [
    {
     "data": {
      "text/html": [
       "<html><script type=\"math/tex; mode=display\">\\newcommand{\\Bold}[1]{\\mathbf{#1}}16</script></html>"
      ],
      "text/plain": [
       "16"
      ]
     },
     "execution_count": 43,
     "metadata": {},
     "output_type": "execute_result"
    }
   ],
   "source": [
    "sum(_.coefficients())"
   ]
  },
  {
   "cell_type": "markdown",
   "metadata": {
    "slideshow": {
     "slide_type": "notes"
    }
   },
   "source": [
    "TODO: Could show the matrices; or later, when illustrating antisymmetries"
   ]
  },
  {
   "cell_type": "markdown",
   "metadata": {
    "slideshow": {
     "slide_type": "slide"
    }
   },
   "source": [
    "## Symmetries"
   ]
  },
  {
   "cell_type": "code",
   "execution_count": 38,
   "metadata": {
    "slideshow": {
     "slide_type": "fragment"
    }
   },
   "outputs": [
    {
     "data": {
      "text/html": [
       "<html><script type=\"math/tex; mode=display\">\\newcommand{\\Bold}[1]{\\mathbf{#1}}q_{0}^{3} + q_{0}^{2} q_{1} + q_{0} q_{1}^{2} + q_{1}^{3} + 2 q_{0}^{2} + 3 q_{0} q_{1} + 2 q_{1}^{2} + 2 q_{0} + 2 q_{1} + 1</script></html>"
      ],
      "text/plain": [
       "q0^3 + q0^2*q1 + q0*q1^2 + q1^3 + 2*q0^2 + 3*q0*q1 + 2*q1^2 + 2*q0 + 2*q1 + 1"
      ]
     },
     "execution_count": 38,
     "metadata": {},
     "output_type": "execute_result"
    }
   ],
   "source": [
    "n = 3; r = 2\n",
    "sum(harmonic_character(mu).expand(r, 'q') * StandardTableaux(mu).cardinality()\n",
    "    for mu in Partitions(n))"
   ]
  },
  {
   "cell_type": "code",
   "execution_count": 41,
   "metadata": {
    "slideshow": {
     "slide_type": "fragment"
    }
   },
   "outputs": [
    {
     "data": {
      "text/html": [
       "<html><script type=\"math/tex; mode=display\">\\newcommand{\\Bold}[1]{\\mathbf{#1}}s_{} + 3s_{1} + 3s_{1,1} + s_{1,1,1} + 5s_{2} + 5s_{2,1} + 6s_{3} + 4s_{3,1} + 5s_{4} + s_{4,1} + 3s_{5} + s_{6}</script></html>"
      ],
      "text/plain": [
       "s[] + 3*s[1] + 3*s[1, 1] + s[1, 1, 1] + 5*s[2] + 5*s[2, 1] + 6*s[3] + 4*s[3, 1] + 5*s[4] + s[4, 1] + 3*s[5] + s[6]"
      ]
     },
     "execution_count": 41,
     "metadata": {},
     "output_type": "execute_result"
    }
   ],
   "source": [
    "n = 4; r = 3\n",
    "sum(harmonic_character(mu) * StandardTableaux(mu).cardinality()\n",
    "    for mu in Partitions(n))\n"
   ]
  },
  {
   "cell_type": "markdown",
   "metadata": {
    "slideshow": {
     "slide_type": "fragment"
    }
   },
   "source": [
    "How comes?"
   ]
  },
  {
   "cell_type": "markdown",
   "metadata": {
    "slideshow": {
     "slide_type": "subslide"
    }
   },
   "source": [
    "# Symmetries\n",
    "$\\harm(n,r)$ stable under:"
   ]
  },
  {
   "cell_type": "markdown",
   "metadata": {
    "slideshow": {
     "slide_type": "fragment"
    }
   },
   "source": [
    "- Permuting columns of variables: action of the symmetric group $S_n$"
   ]
  },
  {
   "cell_type": "markdown",
   "metadata": {
    "slideshow": {
     "slide_type": "skip"
    }
   },
   "source": [
    "- Permuting rows of variables: action of the symmetric group $S_r$<br>\n",
    "  $\\Longrightarrow$ symmetry in the multidegrees!"
   ]
  },
  {
   "cell_type": "markdown",
   "metadata": {
    "slideshow": {
     "slide_type": "fragment"
    }
   },
   "source": [
    "- Linear combinations of rows: acting of the general linear group $GL(r)$<br>\n",
    "  The homogeneous components are the weight spaces<br>\n",
    "  The symmetric function is the $GL(r)$-character of $\\harm(n,r)$"
   ]
  },
  {
   "cell_type": "code",
   "execution_count": null,
   "metadata": {},
   "outputs": [],
   "source": []
  },
  {
   "cell_type": "code",
   "execution_count": null,
   "metadata": {},
   "outputs": [],
   "source": [
    "Remember: $\\Delta$ is harmonic because of antisymmetries"
   ]
  },
  {
   "cell_type": "markdown",
   "metadata": {
    "slideshow": {
     "slide_type": "skip"
    }
   },
   "source": [
    "- Permuting rows of variables: action of the symmetric group $S_r$"
   ]
  },
  {
   "cell_type": "markdown",
   "metadata": {
    "slideshow": {
     "slide_type": "slide"
    }
   },
   "source": [
    "## Notations\n",
    "\n",
    "- $\\x^\\alpha := x_1^{a_1}\\cdots x_n^{a_n}$\n",
    "- $\\partial_\\x^\\alpha := \\partial_i^{a_1} \\cdots \\partial_n^{a_n}$"
   ]
  }
 ],
 "metadata": {
  "celltoolbar": "Slideshow",
  "kernelspec": {
   "display_name": "SageMath 8.1.beta9",
   "language": "",
   "name": "sagemath"
  },
  "language_info": {
   "codemirror_mode": {
    "name": "ipython",
    "version": 2
   },
   "file_extension": ".py",
   "mimetype": "text/x-python",
   "name": "python",
   "nbconvert_exporter": "python",
   "pygments_lexer": "ipython2",
   "version": "2.7.14"
  },
  "livereveal": {
   "auto_select": "first",
   "autolaunch": true,
   "scroll": "true",
   "start_slideshow_at": "selected",
   "transition": "none"
  }
 },
 "nbformat": 4,
 "nbformat_minor": 2
}
