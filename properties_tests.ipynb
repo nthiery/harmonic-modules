{
 "cells": [
  {
   "cell_type": "code",
   "execution_count": 1,
   "metadata": {},
   "outputs": [],
   "source": [
    "%display latex\n",
    "%runfile character.py"
   ]
  },
  {
   "cell_type": "markdown",
   "metadata": {},
   "source": [
    "# Exemples de calculs"
   ]
  },
  {
   "cell_type": "markdown",
   "metadata": {},
   "source": [
    "### Cas du diagramme 013"
   ]
  },
  {
   "cell_type": "code",
   "execution_count": 2,
   "metadata": {},
   "outputs": [
    {
     "data": {
      "text/html": [
       "<html><script type=\"math/tex; mode=display\">\\newcommand{\\Bold}[1]{\\mathbf{#1}}(x_{01} - x_{02}) \\cdot (-x_{00} + x_{01}) \\cdot (x_{00} - x_{02}) \\cdot (x_{00} + x_{01} + x_{02})</script></html>"
      ],
      "text/plain": [
       "(x01 - x02) * (-x00 + x01) * (x00 - x02) * (x00 + x01 + x02)"
      ]
     },
     "execution_count": 2,
     "metadata": {},
     "output_type": "execute_result"
    }
   ],
   "source": [
    "v = vandermonde(Diagram([(0,0),(1,0),(3,0)]))\n",
    "v.factor()"
   ]
  },
  {
   "cell_type": "markdown",
   "metadata": {},
   "source": [
    "On crée le sous-espace engendré par $\\mathcal{V}_\\gamma$ et ses dérivées partielles. On peut ajouter les opérateurs de Steenrod sans changement du résultat."
   ]
  },
  {
   "cell_type": "code",
   "execution_count": 3,
   "metadata": {},
   "outputs": [],
   "source": [
    "generator = {v.multidegree() : [v]}\n",
    "list_op = merge(merge(partial_derivatives(v.parent()), steenrod_operators(1, 1)), steenrod_operators(1, 2))"
   ]
  },
  {
   "cell_type": "code",
   "execution_count": 4,
   "metadata": {
    "scrolled": true
   },
   "outputs": [
    {
     "data": {
      "text/html": [
       "<html><script type=\"math/tex; mode=display\">\\newcommand{\\Bold}[1]{\\mathbf{#1}}\\left\\{\\left(2\\right) : \\left(x_{00}^{2} - x_{02}^{2}, x_{01}^{2} - x_{02}^{2}, -x_{00} x_{01} + x_{00} x_{02}, -x_{00} x_{01} + x_{01} x_{02}\\right), \\left(0\\right) : \\left(1\\right), \\left(3\\right) : \\left(\\frac{1}{3} x_{00}^{3} - \\frac{1}{3} x_{01}^{3} - x_{00} x_{02}^{2} + x_{01} x_{02}^{2}, -\\frac{1}{3} x_{00}^{3} + x_{00} x_{01}^{2} - x_{01}^{2} x_{02} + \\frac{1}{3} x_{02}^{3}, -x_{00}^{2} x_{01} + \\frac{1}{3} x_{01}^{3} + x_{00}^{2} x_{02} - \\frac{1}{3} x_{02}^{3}\\right), \\left(1\\right) : \\left(x_{00}, x_{01}, x_{02}\\right), \\left(4\\right) : \\left(-x_{00}^{3} x_{01} + x_{00} x_{01}^{3} + x_{00}^{3} x_{02} - x_{01}^{3} x_{02} - x_{00} x_{02}^{3} + x_{01} x_{02}^{3}\\right)\\right\\}</script></html>"
      ],
      "text/plain": [
       "{(0,): (1,),\n",
       " (1,): (x00, x01, x02),\n",
       " (2,): (x00^2 - x02^2, x01^2 - x02^2, -x00*x01 + x00*x02, -x00*x01 + x01*x02),\n",
       " (3,): (1/3*x00^3 - 1/3*x01^3 - x00*x02^2 + x01*x02^2,\n",
       "  -1/3*x00^3 + x00*x01^2 - x01^2*x02 + 1/3*x02^3,\n",
       "  -x00^2*x01 + 1/3*x01^3 + x00^2*x02 - 1/3*x02^3),\n",
       " (4,): (-x00^3*x01 + x00*x01^3 + x00^3*x02 - x01^3*x02 - x00*x02^3 + x01*x02^3,)}"
      ]
     },
     "execution_count": 4,
     "metadata": {},
     "output_type": "execute_result"
    }
   ],
   "source": [
    "W1 = Subspace(generators=generator, operators=list_op, add_degrees=add_degree)\n",
    "W1.basis()"
   ]
  },
  {
   "cell_type": "code",
   "execution_count": 5,
   "metadata": {},
   "outputs": [
    {
     "data": {
      "text/html": [
       "<html><script type=\"math/tex; mode=display\">\\newcommand{\\Bold}[1]{\\mathbf{#1}}s_{} \\otimes s_{3} + s_{1} \\otimes s_{2,1} + s_{1} \\otimes s_{3} + 2s_{2} \\otimes s_{2,1} + s_{3} \\otimes s_{1,1,1} + s_{3} \\otimes s_{2,1} + s_{4} \\otimes s_{1,1,1}</script></html>"
      ],
      "text/plain": [
       "s[] # s[3] + s[1] # s[2, 1] + s[1] # s[3] + 2*s[2] # s[2, 1] + s[3] # s[1, 1, 1] + s[3] # s[2, 1] + s[4] # s[1, 1, 1]"
      ]
     },
     "execution_count": 5,
     "metadata": {},
     "output_type": "execute_result"
    }
   ],
   "source": [
    "character(IsotypicComponent(W1, 3))"
   ]
  },
  {
   "cell_type": "markdown",
   "metadata": {},
   "source": [
    "Appliquons $\\sum_i \\partial_{x_i}$ et $\\sum_i x_i \\partial_{x_i}^2$ à $\\mathcal{V}_{\\gamma}$. "
   ]
  },
  {
   "cell_type": "code",
   "execution_count": 6,
   "metadata": {
    "scrolled": true
   },
   "outputs": [
    {
     "data": {
      "text/html": [
       "<html><script type=\"math/tex; mode=display\">\\newcommand{\\Bold}[1]{\\mathbf{#1}}-3 x_{00}^{2} x_{01} + 3 x_{00} x_{01}^{2} + 3 x_{00}^{2} x_{02} - 3 x_{01}^{2} x_{02} - 3 x_{00} x_{02}^{2} + 3 x_{01} x_{02}^{2}</script></html>"
      ],
      "text/plain": [
       "-3*x00^2*x01 + 3*x00*x01^2 + 3*x00^2*x02 - 3*x01^2*x02 - 3*x00*x02^2 + 3*x01*x02^2"
      ]
     },
     "execution_count": 6,
     "metadata": {},
     "output_type": "execute_result"
    }
   ],
   "source": [
    "v.symmetric_derivative((1,))"
   ]
  },
  {
   "cell_type": "code",
   "execution_count": 7,
   "metadata": {},
   "outputs": [
    {
     "data": {
      "text/html": [
       "<html><script type=\"math/tex; mode=display\">\\newcommand{\\Bold}[1]{\\mathbf{#1}}-6 x_{00}^{2} x_{01} + 6 x_{00} x_{01}^{2} + 6 x_{00}^{2} x_{02} - 6 x_{01}^{2} x_{02} - 6 x_{00} x_{02}^{2} + 6 x_{01} x_{02}^{2}</script></html>"
      ],
      "text/plain": [
       "-6*x00^2*x01 + 6*x00*x01^2 + 6*x00^2*x02 - 6*x01^2*x02 - 6*x00*x02^2 + 6*x01*x02^2"
      ]
     },
     "execution_count": 7,
     "metadata": {},
     "output_type": "execute_result"
    }
   ],
   "source": [
    "v.steenrod_op(0, 2)"
   ]
  },
  {
   "cell_type": "markdown",
   "metadata": {},
   "source": [
    "Polarisation"
   ]
  },
  {
   "cell_type": "code",
   "execution_count": 8,
   "metadata": {},
   "outputs": [
    {
     "data": {
      "text/html": [
       "<html><script type=\"math/tex; mode=display\">\\newcommand{\\Bold}[1]{\\mathbf{#1}}s_{} \\otimes s_{3} + s_{1} \\otimes s_{2,1} + s_{1} \\otimes s_{3} + 2s_{2} \\otimes s_{2,1} + s_{3} \\otimes s_{1,1,1} + s_{3} \\otimes s_{2,1} + s_{4} \\otimes s_{1,1,1}</script></html>"
      ],
      "text/plain": [
       "s[] # s[3] + s[1] # s[2, 1] + s[1] # s[3] + 2*s[2] # s[2, 1] + s[3] # s[1, 1, 1] + s[3] # s[2, 1] + s[4] # s[1, 1, 1]"
      ]
     },
     "execution_count": 8,
     "metadata": {},
     "output_type": "execute_result"
    }
   ],
   "source": [
    "op_pol = polarization_operators(2)\n",
    "W2 = PolarizedSpace(IsotypicComponent(W1, 3), op_pol)\n",
    "character(W2)"
   ]
  },
  {
   "cell_type": "code",
   "execution_count": 9,
   "metadata": {
    "scrolled": true
   },
   "outputs": [
    {
     "data": {
      "text/html": [
       "<html><script type=\"math/tex; mode=display\">\\newcommand{\\Bold}[1]{\\mathbf{#1}}s_{} \\otimes s_{3} + s_{1} \\otimes s_{2,1} + s_{2} \\otimes s_{2,1} + s_{3} \\otimes s_{1,1,1}</script></html>"
      ],
      "text/plain": [
       "s[] # s[3] + s[1] # s[2, 1] + s[2] # s[2, 1] + s[3] # s[1, 1, 1]"
      ]
     },
     "execution_count": 9,
     "metadata": {},
     "output_type": "execute_result"
    }
   ],
   "source": [
    "r=2\n",
    "list_degrees = [tuple(k1 if j==i1 else 0 for j in range(r)) \n",
    "                for k1 in range(1, 3+1) for i1 in range(0, r)]\n",
    "#list_degrees += [(1,1),(1,2),(1,3),(2,1),(2,2),(2,3),(3,1),(3,2),(3,3)]\n",
    "sym_diff = symmetric_derivatives(r, list_degrees)\n",
    "#sym_diff = merge(merge(symmetric_derivatives(r, list_degrees), \n",
    "#                       steenrod_operators(r, 1)), steenrod_operators(r, 2))\n",
    "character(Range(W2, sym_diff))"
   ]
  },
  {
   "cell_type": "code",
   "execution_count": 10,
   "metadata": {},
   "outputs": [
    {
     "data": {
      "text/html": [
       "<html><script type=\"math/tex; mode=display\">\\newcommand{\\Bold}[1]{\\mathbf{#1}}s_{1} \\otimes s_{3} + s_{2} \\otimes s_{2,1} + s_{3} \\otimes s_{2,1} + s_{4} \\otimes s_{1,1,1}</script></html>"
      ],
      "text/plain": [
       "s[1] # s[3] + s[2] # s[2, 1] + s[3] # s[2, 1] + s[4] # s[1, 1, 1]"
      ]
     },
     "execution_count": 10,
     "metadata": {},
     "output_type": "execute_result"
    }
   ],
   "source": [
    "charac = character(W2) - character(Range(W2, sym_diff))\n",
    "charac"
   ]
  },
  {
   "cell_type": "markdown",
   "metadata": {},
   "source": [
    "Ou dans la base des monomiales"
   ]
  },
  {
   "cell_type": "code",
   "execution_count": 11,
   "metadata": {
    "scrolled": false
   },
   "outputs": [
    {
     "data": {
      "text/html": [
       "<html><script type=\"math/tex; mode=display\">\\newcommand{\\Bold}[1]{\\mathbf{#1}}m_{1} \\otimes s_{3} + m_{1,1} \\otimes s_{2,1} + m_{2} \\otimes s_{2,1} + m_{2,1} \\otimes s_{2,1} + m_{2,2} \\otimes s_{1,1,1} + m_{3} \\otimes s_{2,1} + m_{3,1} \\otimes s_{1,1,1} + m_{4} \\otimes s_{1,1,1}</script></html>"
      ],
      "text/plain": [
       "m[1] # s[3] + m[1, 1] # s[2, 1] + m[2] # s[2, 1] + m[2, 1] # s[2, 1] + m[2, 2] # s[1, 1, 1] + m[3] # s[2, 1] + m[3, 1] # s[1, 1, 1] + m[4] # s[1, 1, 1]"
      ]
     },
     "execution_count": 11,
     "metadata": {},
     "output_type": "execute_result"
    }
   ],
   "source": [
    "character(W2, left_basis=m) - character(Range(W2, sym_diff), left_basis=m)"
   ]
  },
  {
   "cell_type": "markdown",
   "metadata": {},
   "source": [
    "On factorise le caractère par représentation de $S_3$."
   ]
  },
  {
   "cell_type": "code",
   "execution_count": 12,
   "metadata": {
    "scrolled": true
   },
   "outputs": [
    {
     "name": "stdout",
     "output_type": "stream",
     "text": [
      "[1, 1, 1]\n"
     ]
    },
    {
     "data": {
      "text/html": [
       "<html><script type=\"math/tex; mode=display\">\\newcommand{\\Bold}[1]{\\mathbf{#1}}s_{4}</script></html>"
      ],
      "text/plain": [
       "s[4]"
      ]
     },
     "metadata": {},
     "output_type": "display_data"
    },
    {
     "name": "stdout",
     "output_type": "stream",
     "text": [
      "[3]\n"
     ]
    },
    {
     "data": {
      "text/html": [
       "<html><script type=\"math/tex; mode=display\">\\newcommand{\\Bold}[1]{\\mathbf{#1}}s_{1}</script></html>"
      ],
      "text/plain": [
       "s[1]"
      ]
     },
     "metadata": {},
     "output_type": "display_data"
    },
    {
     "name": "stdout",
     "output_type": "stream",
     "text": [
      "[2, 1]\n"
     ]
    },
    {
     "data": {
      "text/html": [
       "<html><script type=\"math/tex; mode=display\">\\newcommand{\\Bold}[1]{\\mathbf{#1}}s_{2} + s_{3}</script></html>"
      ],
      "text/plain": [
       "s[2] + s[3]"
      ]
     },
     "metadata": {},
     "output_type": "display_data"
    }
   ],
   "source": [
    "factorise(charac, 3)"
   ]
  },
  {
   "cell_type": "markdown",
   "metadata": {},
   "source": [
    "### Autres cas\n",
    "\n",
    "Pas de quotient dans ce cas."
   ]
  },
  {
   "cell_type": "code",
   "execution_count": 13,
   "metadata": {},
   "outputs": [
    {
     "data": {
      "text/html": [
       "<html><script type=\"math/tex; mode=display\">\\newcommand{\\Bold}[1]{\\mathbf{#1}}s_{} \\otimes s_{2} + s_{1} \\otimes s_{1,1}</script></html>"
      ],
      "text/plain": [
       "s[] # s[2] + s[1] # s[1, 1]"
      ]
     },
     "execution_count": 13,
     "metadata": {},
     "output_type": "execute_result"
    }
   ],
   "source": [
    "compute_character(Partition([2]))"
   ]
  },
  {
   "cell_type": "code",
   "execution_count": 14,
   "metadata": {},
   "outputs": [
    {
     "data": {
      "text/html": [
       "<html><script type=\"math/tex; mode=display\">\\newcommand{\\Bold}[1]{\\mathbf{#1}}s_{} \\otimes s_{3,1} + s_{1} \\otimes s_{2,1,1} + s_{1} \\otimes s_{2,2} - s_{1,1} \\otimes s_{2,1,1} + s_{2} \\otimes s_{2,1,1} - s_{2,1} \\otimes s_{1,1,1,1} + s_{3} \\otimes s_{1,1,1,1}</script></html>"
      ],
      "text/plain": [
       "s[] # s[3, 1] + s[1] # s[2, 1, 1] + s[1] # s[2, 2] - s[1, 1] # s[2, 1, 1] + s[2] # s[2, 1, 1] - s[2, 1] # s[1, 1, 1, 1] + s[3] # s[1, 1, 1, 1]"
      ]
     },
     "execution_count": 14,
     "metadata": {},
     "output_type": "execute_result"
    }
   ],
   "source": [
    "compute_character(Partition([3,1]))"
   ]
  },
  {
   "cell_type": "code",
   "execution_count": 15,
   "metadata": {},
   "outputs": [
    {
     "data": {
      "text/html": [
       "<html><script type=\"math/tex; mode=display\">\\newcommand{\\Bold}[1]{\\mathbf{#1}}s_{} \\otimes s_{1,1,1}</script></html>"
      ],
      "text/plain": [
       "s[] # s[1, 1, 1]"
      ]
     },
     "execution_count": 15,
     "metadata": {},
     "output_type": "execute_result"
    }
   ],
   "source": [
    "compute_character(Partition([1,1,1]))"
   ]
  },
  {
   "cell_type": "code",
   "execution_count": 16,
   "metadata": {},
   "outputs": [
    {
     "data": {
      "text/html": [
       "<html><script type=\"math/tex; mode=display\">\\newcommand{\\Bold}[1]{\\mathbf{#1}}s_{} \\otimes s_{2,1,1} + s_{1} \\otimes s_{1,1,1,1}</script></html>"
      ],
      "text/plain": [
       "s[] # s[2, 1, 1] + s[1] # s[1, 1, 1, 1]"
      ]
     },
     "execution_count": 16,
     "metadata": {},
     "output_type": "execute_result"
    }
   ],
   "source": [
    "compute_character(Partition([2,1,1]))"
   ]
  },
  {
   "cell_type": "code",
   "execution_count": null,
   "metadata": {},
   "outputs": [],
   "source": []
  }
 ],
 "metadata": {
  "kernelspec": {
   "display_name": "SageMath 8.7",
   "language": "",
   "name": "sagemath"
  },
  "language_info": {
   "codemirror_mode": {
    "name": "ipython",
    "version": 2
   },
   "file_extension": ".py",
   "mimetype": "text/x-python",
   "name": "python",
   "nbconvert_exporter": "python",
   "pygments_lexer": "ipython2",
   "version": "2.7.15"
  }
 },
 "nbformat": 4,
 "nbformat_minor": 2
}
