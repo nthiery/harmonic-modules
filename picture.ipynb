{
 "cells": [
  {
   "cell_type": "code",
   "execution_count": 2,
   "metadata": {},
   "outputs": [
    {
     "name": "stderr",
     "output_type": "stream",
     "text": [
      "Compiling ./old_code/code1.pyx...\n"
     ]
    }
   ],
   "source": [
    "%run old_code/code.py\n",
    "latex.add_to_preamble(r\"\\usetikzlibrary{backgrounds}\")\n",
    "Partitions.options.notation = \"french\""
   ]
  },
  {
   "cell_type": "code",
   "execution_count": 3,
   "metadata": {},
   "outputs": [],
   "source": [
    "@cached_function\n",
    "def PP(n):\n",
    "    S = SymmetricFunctions(ZZ)\n",
    "    s = S.s()\n",
    "    m = S.m()\n",
    "    P = ZZ['X,Y,Z']\n",
    "    XYZ = P.gens()\n",
    "    Etuple = sage.structure.parent.Set_PythonType(sage.rings.polynomial.polydict.ETuple)\n",
    "    PP = CombinatorialFreeModule(ZZ, Etuple, key=n)\n",
    "    def to_poly(p):\n",
    "        return PP.sum_of_terms( [m.exponents()[0], c] for c,m in list(p.expand(3, XYZ)))\n",
    "    phi = SetMorphism(Hom(s, PP), to_poly)\n",
    "    phi.register_as_coercion()\n",
    "    return PP"
   ]
  },
  {
   "cell_type": "code",
   "execution_count": 35,
   "metadata": {},
   "outputs": [],
   "source": [
    "from sage.categories.morphism import SetMorphism\n",
    "def dimensions(n, r, left=\"s\", right=\"s\"):\n",
    "    H = harmonic_bicharacter(n)\n",
    "    S = SymmetricFunctions(ZZ)\n",
    "    s = S.s()\n",
    "    m = S.m()\n",
    "    \n",
    "    if left == \"s\":\n",
    "        left = s\n",
    "    elif left == \"P\":\n",
    "        left = PP(n)\n",
    "    else:\n",
    "        left = m\n",
    "\n",
    "    H = tensor([left,s])(H)\n",
    "    \n",
    "    dimensions = {}\n",
    "    for (l, mu), c in H:\n",
    "        lp = tuple(l)+(0,)*(r-len(l))\n",
    "        if right == \"dim\":\n",
    "            value = c * StandardTableaux(mu).cardinality()\n",
    "        else:\n",
    "            value = s.term(mu, c)\n",
    "        dimensions[lp] = dimensions.get(lp, 0) + value\n",
    "    return dimensions"
   ]
  },
  {
   "cell_type": "code",
   "execution_count": 36,
   "metadata": {},
   "outputs": [
    {
     "data": {
      "text/plain": [
       "{(0, 0, 0): 1,\n",
       " (0, 0, 1): 2,\n",
       " (0, 0, 2): 2,\n",
       " (0, 0, 3): 1,\n",
       " (0, 1, 0): 2,\n",
       " (0, 1, 1): 3,\n",
       " (0, 1, 2): 1,\n",
       " (0, 2, 0): 2,\n",
       " (0, 2, 1): 1,\n",
       " (0, 3, 0): 1,\n",
       " (1, 0, 0): 2,\n",
       " (1, 0, 1): 3,\n",
       " (1, 0, 2): 1,\n",
       " (1, 1, 0): 3,\n",
       " (1, 1, 1): 1,\n",
       " (1, 2, 0): 1,\n",
       " (2, 0, 0): 2,\n",
       " (2, 0, 1): 1,\n",
       " (2, 1, 0): 1,\n",
       " (3, 0, 0): 1}"
      ]
     },
     "execution_count": 36,
     "metadata": {},
     "output_type": "execute_result"
    }
   ],
   "source": [
    "dimensions(3,3, left=\"P\", right=\"dim\")"
   ]
  },
  {
   "cell_type": "code",
   "execution_count": 67,
   "metadata": {},
   "outputs": [],
   "source": [
    "vars = SR.var('x,y,z')\n",
    "\n",
    "color = {0: \"red\", 1: \"blue\"}.__getitem__\n",
    "def latex_sym(value):\n",
    "    if value in ZZ:\n",
    "        return latex(value)\n",
    "    return \"+\".join(r\"\\raisebox{\\depth}{\\scalebox{.3}{%s}}\"%latex(p) for p,c in value)\n",
    "def node_label(lp, value):\n",
    "    return latex(prod(x^d for x,d in zip(vars,lp)))+\": \"+latex_sym(value)\n",
    "def picture(dimensions):\n",
    "    def key(lp):\n",
    "        return \"\".join(str(i) for i in lp)\n",
    "    s = r\"\\begin{tikzpicture}\"+\"\\n\"+r\"  \\tikzstyle{every node}=[fill=white]\"+\"\\n\"\n",
    "    for lp, value in dimensions.items():\n",
    "        y = 2*sum(lp) + lp[1]/3\n",
    "        x = 2*(lp[2] - lp[0])\n",
    "        s = s + r\"  \\node (%s) at (%s,%s) {$%s$};\"%(key(lp), x,y,node_label(lp, value))+\"\\n\"\n",
    "    s = s +r\"  \\begin{pgfonlayer}{background}\"+\"\\n\"\n",
    "    for lp in dimensions.keys():\n",
    "        for i in range(2):\n",
    "            for l0 in range(1,lp[i]+1):\n",
    "                lp2 = list(lp);\n",
    "                lp2[i] = lp2[i] - l0\n",
    "                lp2[i+1] += 1\n",
    "                lp2 = tuple(lp2)\n",
    "                style =  \"thin\" if (l0 > 1) else \"thick\"\n",
    "                if lp2 not in dimensions:\n",
    "                    continue\n",
    "                s = s + r\"  \\draw[->,%s,%s] (%s) -- (%s);\"%(color(i), style, key(lp), key(lp2)) +\"\\n\"\n",
    "        if lp[0] > 0 and all(l==0 for l in lp[1:]):\n",
    "            lp2 = (lp[0]-1,) + lp[1:]\n",
    "            style = \"thin\"\n",
    "            s = s + r\"  \\draw[->,%s,%s] (%s) -- (%s);\"%(\"black\", style, key(lp), key(lp2)) +\"\\n\"\n",
    "    s = s + r\"  \\end{pgfonlayer}\"+\"\\n\"+r\"\\end{tikzpicture}\"\n",
    "    return s"
   ]
  },
  {
   "cell_type": "code",
   "execution_count": 68,
   "metadata": {},
   "outputs": [],
   "source": [
    "view(LatexExpr(picture(dimensions(3,3, left=\"P\", right=\"dim\"))))"
   ]
  },
  {
   "cell_type": "code",
   "execution_count": 69,
   "metadata": {},
   "outputs": [],
   "source": [
    "import io, os\n",
    "def pdf(file, tikz):\n",
    "    io.open(file+\".tikz\", \"w\").write(unicode(tikz))\n",
    "    os.system(\"tikz2pdf %s.tikz\"%file)\n",
    "    os.system(\"pdf2svg %s.pdf %s.svg\"%(file, file))"
   ]
  },
  {
   "cell_type": "markdown",
   "metadata": {},
   "source": [
    "## Production of pictures"
   ]
  },
  {
   "cell_type": "code",
   "execution_count": 70,
   "metadata": {},
   "outputs": [],
   "source": [
    "pdf(\"harmonic_graph-3-3-P\", picture(dimensions(3,3, left=\"P\", right=\"dim\")))"
   ]
  },
  {
   "cell_type": "code",
   "execution_count": 71,
   "metadata": {},
   "outputs": [],
   "source": [
    "pdf(\"harmonic_graph-3-3-m\", picture(dimensions(3,3, left=\"m\", right=\"dim\")))"
   ]
  },
  {
   "cell_type": "code",
   "execution_count": 72,
   "metadata": {},
   "outputs": [],
   "source": [
    "pdf(\"harmonic_graph-3-3-s\", picture(dimensions(3,3, left=\"s\", right=\"dim\")))"
   ]
  },
  {
   "cell_type": "code",
   "execution_count": 74,
   "metadata": {},
   "outputs": [],
   "source": [
    "pdf(\"harmonic_graph-3-3-P-s\", picture(dimensions(3,3, left=\"P\")))"
   ]
  },
  {
   "cell_type": "code",
   "execution_count": null,
   "metadata": {},
   "outputs": [],
   "source": []
  }
 ],
 "metadata": {
  "kernelspec": {
   "display_name": "SageMath 8.3.rc2",
   "language": "",
   "name": "sagemath"
  },
  "language_info": {
   "codemirror_mode": {
    "name": "ipython",
    "version": 2
   },
   "file_extension": ".py",
   "mimetype": "text/x-python",
   "name": "python",
   "nbconvert_exporter": "python",
   "pygments_lexer": "ipython2",
   "version": "2.7.15"
  }
 },
 "nbformat": 4,
 "nbformat_minor": 2
}
