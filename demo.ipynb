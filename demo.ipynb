{
 "cells": [
  {
   "cell_type": "markdown",
   "metadata": {},
   "source": [
    "# Computing the bicharacter of huge spaces of polynomials\n",
    "\n",
    "*TODO* : Add intro"
   ]
  },
  {
   "cell_type": "code",
   "execution_count": 1,
   "metadata": {},
   "outputs": [],
   "source": [
    "%display latex\n",
    "\n",
    "%runfile diagonal_polynomial_ring.py\n",
    "%runfile subspace.py\n",
    "%runfile young_idempotent.py\n",
    "%runfile add_degree.py\n",
    "%runfile diagram.py\n",
    "\n",
    "SymmetricFunctions(QQ).inject_shorthands(verbose=False)\n",
    "\n",
    "#%runfile compute_character.py"
   ]
  },
  {
   "cell_type": "markdown",
   "metadata": {},
   "source": [
    "## Code"
   ]
  },
  {
   "cell_type": "markdown",
   "metadata": {},
   "source": [
    "Computation of the Vandermonde determinant associated to the diagram $\\gamma$, where $\\gamma$ is a partation (Partition) or a list of cells (Diagram). \n",
    "\n",
    "*Note : For now, only works for diagrams that are partitions or composition diagrams.*"
   ]
  },
  {
   "cell_type": "code",
   "execution_count": 2,
   "metadata": {},
   "outputs": [],
   "source": [
    "def vandermonde(gamma):\n",
    "    n = gamma.size()\n",
    "    P = DiagonalPolynomialRing(QQ, n, 1, inert=1)\n",
    "    X = P.variables()\n",
    "    Theta = P.inert_variables()\n",
    "    return matrix([[x**i[1]*theta**i[0] for i in gamma.cells()] \n",
    "                   for x,theta in zip(X[0],Theta[0])]).determinant()\n",
    "\n",
    "def degree_vandermonde(gamma):\n",
    "    return sum([i[1] for i in gamma.cells()])"
   ]
  },
  {
   "cell_type": "markdown",
   "metadata": {},
   "source": [
    "Functions used to get the lists of operators by degrees for all the non inert variables of the given polynomial ring. "
   ]
  },
  {
   "cell_type": "code",
   "execution_count": 1,
   "metadata": {},
   "outputs": [],
   "source": [
    "def deriv(x, k=1):\n",
    "    def f(p):\n",
    "        return derivative(p, x, k)\n",
    "    return f\n",
    "\n",
    "def partial_derivatives(P):\n",
    "    n = P._n\n",
    "    r = P._r\n",
    "    D = P._grading_set\n",
    "    X = P.variables()\n",
    "    op = {}\n",
    "    for i in range(r):\n",
    "        op[D((-1 if j==i else 0 for j in range(r)))] = [deriv(X[i,k]) for k in range(n)]\n",
    "    return op\n",
    "\n",
    "def steenrod_operators(P, degree=1):\n",
    "    r = P._r\n",
    "    D = P._grading_set\n",
    "    op = {}\n",
    "    for i in range(r):\n",
    "        op[D((-degree if j==i else 0 for j in range(r)))] = [functools.partial(P.steenrod_op, i=i, k=degree+1)]\n",
    "    return op\n",
    "\n",
    "def polarization_operators(P, side=None, row_symmetry=None, max_deg=0):\n",
    "    n = P._n\n",
    "    r = P._r\n",
    "    D = P._grading_set\n",
    "    if max_deg==0:\n",
    "        max_deg=n\n",
    "    return {D([-d if i==i1 else 1 if i==i2 else 0 for i in range(r)]):\n",
    "            [functools.partial(P.polarization, i1=i1, i2=i2, d=d, row_symmetry=row_symmetry)]\n",
    "            for d in range(1, max_deg+1)\n",
    "            for i1 in range(0, r)\n",
    "            for i2 in range(0, r)\n",
    "            if (i1<i2 if side == 'down' else i1!=i2)\n",
    "           }\n",
    "\n",
    "def symmetric_derivatives(P, list_deg, row_symmetry=None):\n",
    "    D = P._grading_set\n",
    "    return {D(-i for i in d) : [functools.partial(P.symmetric_derivative, d=d, row_symmetry=row_symmetry)] \n",
    "            for d in list_deg}\n",
    "\n",
    "def merge(dict1, dict2):\n",
    "    result = dict1\n",
    "    for key, value in dict2.iteritems():\n",
    "        if key in result:\n",
    "            result[key] += value\n",
    "        else:\n",
    "            result[key] = value\n",
    "    return result"
   ]
  },
  {
   "cell_type": "markdown",
   "metadata": {},
   "source": [
    "Projection on the isotypic components; take as parameter a subspace and an integer or a partition. "
   ]
  },
  {
   "cell_type": "code",
   "execution_count": 3,
   "metadata": {},
   "outputs": [],
   "source": [
    "def Isotyp(S, arg):\n",
    "    if isinstance(arg, Partition):\n",
    "        list_partitions = [arg]\n",
    "    elif isinstance(arg, Integer):\n",
    "        list_partitions = Partitions(arg)\n",
    "    else : \n",
    "        print(\"Error: arg should be a partition or an integer.\")\n",
    "    \n",
    "    basis = S.basis()\n",
    "    result = {}\n",
    "    for nu in list_partitions:\n",
    "        for key, value in basis.iteritems():\n",
    "            gen = [apply_young_idempotent(p, nu) for p in value]\n",
    "            basis_nu = Subspace(gen, {}).basis()\n",
    "            if basis_nu != {} :\n",
    "                result[(key, tuple(nu))] = basis_nu[0]\n",
    "    return Subspace(result, operators={})\n",
    "\n",
    "def add_degrees_isotypic(gen_deg, op_deg):\n",
    "    D = cartesian_product([ZZ for i in range(len(gen_deg[0]))])\n",
    "    return D(gen_deg[0])+D(op_deg), gen_deg[1]"
   ]
  },
  {
   "cell_type": "markdown",
   "metadata": {},
   "source": [
    "Create the polarized space given by the input operators."
   ]
  },
  {
   "cell_type": "code",
   "execution_count": 5,
   "metadata": {},
   "outputs": [],
   "source": [
    "def PolarizedSpace(pol_ring, S, operators):\n",
    "    basis = S.basis()\n",
    "    P = pol_ring\n",
    "    r = P._r\n",
    "    D = P._grading_set\n",
    "    \n",
    "    generators = {}\n",
    "    for key, value in basis.iteritems():\n",
    "        d = (D((key[0][0] if i==0 else 0 for i in range(0,r))), key[1])\n",
    "        generators[d] = [P(b) for b in value]\n",
    "    return Subspace(generators, operators, add_degrees=add_degrees_isotypic)"
   ]
  },
  {
   "cell_type": "markdown",
   "metadata": {},
   "source": [
    "Compute the image of S by the given operators."
   ]
  },
  {
   "cell_type": "code",
   "execution_count": 4,
   "metadata": {},
   "outputs": [],
   "source": [
    "def Range(S, operators, add_degrees=add_degrees_isotypic):\n",
    "    result = {}\n",
    "    basis = S.basis()\n",
    "    for key, b in basis.iteritems():\n",
    "        result = merge(result, {add_degrees(key, deg): \n",
    "                                     [op(p) for p in b for op in op_list if op(p)!=0] \n",
    "                                     for deg, op_list in operators.iteritems()})    \n",
    "    if result != {} :\n",
    "        return Subspace(result, {}, add_degrees)\n",
    "    else :\n",
    "        return None"
   ]
  },
  {
   "cell_type": "markdown",
   "metadata": {},
   "source": [
    "Computation of the character from a subspace already projected on the isotypic components. "
   ]
  },
  {
   "cell_type": "code",
   "execution_count": 7,
   "metadata": {},
   "outputs": [],
   "source": [
    "def character(S, n, r, left_basis=s, right_basis=s, row_symmetry=None):\n",
    "    basis = S.basis()\n",
    "    charac = 0\n",
    "    if row_symmetry != \"permutation\":\n",
    "        q = PolynomialRing(QQ,'q',r).gens()\n",
    "        \n",
    "    for nu in Partitions(n):\n",
    "        basis_nu = {}\n",
    "        charac_nu = 0\n",
    "        # Get the nu_isotypic part of the basis\n",
    "        for key, value in basis.iteritems():\n",
    "            if Partition(key[1]) == nu:\n",
    "                basis_nu[key[0]] = value\n",
    "        \n",
    "        # Use monomials to compute the character\n",
    "        if row_symmetry == \"permutation\":\n",
    "            for deg, b in basis_nu.iteritems():\n",
    "                charac_nu += sum(m(Partition(deg)) for p in b)\n",
    "            if charac_nu != 0 :\n",
    "                if left_basis == s :\n",
    "                    charac_nu = s(charac_nu).restrict_partition_lengths(r,exact=False)\n",
    "                elif left_basis != m :\n",
    "                    charac_nu = left_basis(charac_nu)\n",
    "                \n",
    "        # Or use directly the degrees\n",
    "        else:\n",
    "            for deg, b in basis_nu.iteritems():\n",
    "                charac_nu += sum(prod(q[i]**deg[i] for i in range(0,len(deg))) for p in b)\n",
    "            if charac_nu != 0 :\n",
    "                if left_basis == s :\n",
    "                    charac_nu = s.from_polynomial(charac_nu).restrict_partition_lengths(r,exact=False)           \n",
    "                else:\n",
    "                    charac_nu = left_basis.from_polynomial(charac_nu)\n",
    "                \n",
    "        # Make the tensor product with s[nu]\n",
    "        if charac_nu != 0:\n",
    "            charac += tensor([charac_nu, right_basis(s(nu))])\n",
    "    return charac"
   ]
  },
  {
   "cell_type": "markdown",
   "metadata": {},
   "source": [
    "Factorisation of the tensorial products by represention of $S_n$. And computation of the dimensions. "
   ]
  },
  {
   "cell_type": "code",
   "execution_count": 9,
   "metadata": {
    "scrolled": true
   },
   "outputs": [],
   "source": [
    "def factorise(f, n):\n",
    "    SymmetricFunctions(QQ).s()\n",
    "    supp = sorted(f.support())\n",
    "    result = {}\n",
    "    res = []\n",
    "    for mu in Partitions(n):\n",
    "        result[mu] = []\n",
    "        for (a, b), c in zip(supp, f.coefficients()):\n",
    "            if b == mu :\n",
    "                result[mu] += [(a,c)]\n",
    "    result2 = [(mu,sum(c*s(nu) for (nu,c) in result[mu])) for mu in result.keys()]\n",
    "    for a, b in result2:\n",
    "        if b!=0:\n",
    "            print a\n",
    "            show(b)\n",
    "        \n",
    "def dimension(f, n):\n",
    "    supp = sorted(f.support())\n",
    "    result = {}\n",
    "    res = []\n",
    "    for mu in Partitions(n):\n",
    "        result[mu] = []\n",
    "        for (a, b), c in zip(supp, f.coefficients()):\n",
    "            if b == mu :\n",
    "                result[mu] += [(a,c)]\n",
    "    result2 = [(mu,sum(c*s(nu) for (nu,c) in result[mu]).expand(1, alphabet=['q'])) for mu in result.keys()]\n",
    "    q = result2[0][1].parent().gens()[0]\n",
    "    return [(tuple(a), b.subs({q:1})) for a,b in result2]"
   ]
  },
  {
   "cell_type": "markdown",
   "metadata": {},
   "source": [
    "## Examples"
   ]
  },
  {
   "cell_type": "markdown",
   "metadata": {},
   "source": [
    "### Partition 21"
   ]
  },
  {
   "cell_type": "markdown",
   "metadata": {},
   "source": [
    "Computation of the Vandermonde determinant $\\mathcal{V}_\\lambda$ associated to the partition $\\lambda = 21$."
   ]
  },
  {
   "cell_type": "code",
   "execution_count": 9,
   "metadata": {},
   "outputs": [
    {
     "data": {
      "text/html": [
       "<html><script type=\"math/tex; mode=display\">\\newcommand{\\Bold}[1]{\\mathbf{#1}}-x_{01} \\theta_{00} + x_{02} \\theta_{00} + x_{00} \\theta_{01} - x_{02} \\theta_{01} - x_{00} \\theta_{02} + x_{01} \\theta_{02}</script></html>"
      ],
      "text/plain": [
       "-x01*theta00 + x02*theta00 + x00*theta01 - x02*theta01 - x00*theta02 + x01*theta02"
      ]
     },
     "execution_count": 9,
     "metadata": {},
     "output_type": "execute_result"
    }
   ],
   "source": [
    "v = vandermonde(Partition([2,1]))\n",
    "v"
   ]
  },
  {
   "cell_type": "markdown",
   "metadata": {},
   "source": [
    "Space generated by $\\mathcal{V}_\\lambda$ and its partials derivatives."
   ]
  },
  {
   "cell_type": "code",
   "execution_count": 10,
   "metadata": {
    "scrolled": false
   },
   "outputs": [
    {
     "data": {
      "text/html": [
       "<html><script type=\"math/tex; mode=display\">\\newcommand{\\Bold}[1]{\\mathbf{#1}}\\left\\{\\left(0\\right) : \\left(\\theta_{01} - \\theta_{02}, \\theta_{00} - \\theta_{02}\\right), \\left(1\\right) : \\left(x_{01} \\theta_{00} - x_{02} \\theta_{00} - x_{00} \\theta_{01} + x_{02} \\theta_{01} + x_{00} \\theta_{02} - x_{01} \\theta_{02}\\right)\\right\\}</script></html>"
      ],
      "text/plain": [
       "{(0,): (theta01 - theta02, theta00 - theta02),\n",
       " (1,): (x01*theta00 - x02*theta00 - x00*theta01 + x02*theta01 + x00*theta02 - x01*theta02,)}"
      ]
     },
     "execution_count": 10,
     "metadata": {},
     "output_type": "execute_result"
    }
   ],
   "source": [
    "P1 = DiagonalPolynomialRing(QQ, 3, 1, inert=1)\n",
    "generator = {P1._grading_set((1,)) : [P1(v)]}\n",
    "list_op = partial_derivatives(P1)\n",
    "V1 = Subspace(generators=generator, operators=list_op, add_degrees=add_degree)\n",
    "V1.basis()"
   ]
  },
  {
   "cell_type": "markdown",
   "metadata": {},
   "source": [
    "Projection on the isotypic components."
   ]
  },
  {
   "cell_type": "code",
   "execution_count": 11,
   "metadata": {},
   "outputs": [
    {
     "data": {
      "text/html": [
       "<html><script type=\"math/tex; mode=display\">\\newcommand{\\Bold}[1]{\\mathbf{#1}}\\left\\{\\left(\\left(1\\right), \\left(1, 1, 1\\right)\\right) : \\left(x_{01} \\theta_{00} - x_{02} \\theta_{00} - x_{00} \\theta_{01} + x_{02} \\theta_{01} + x_{00} \\theta_{02} - x_{01} \\theta_{02}\\right), \\left(\\left(0\\right), \\left(2, 1\\right)\\right) : \\left(-\\theta_{00} + \\theta_{02}\\right)\\right\\}</script></html>"
      ],
      "text/plain": [
       "{((0,), (2, 1)): (-theta00 + theta02,),\n",
       " ((1,),\n",
       "  (1,\n",
       "   1,\n",
       "   1)): (x01*theta00 - x02*theta00 - x00*theta01 + x02*theta01 + x00*theta02 - x01*theta02,)}"
      ]
     },
     "execution_count": 11,
     "metadata": {},
     "output_type": "execute_result"
    }
   ],
   "source": [
    "V1_iso = Isotyp(V1, 3)\n",
    "V1_iso.basis()"
   ]
  },
  {
   "cell_type": "markdown",
   "metadata": {},
   "source": [
    "We add another set of variables and we polarize."
   ]
  },
  {
   "cell_type": "code",
   "execution_count": 12,
   "metadata": {},
   "outputs": [
    {
     "data": {
      "text/html": [
       "<html><script type=\"math/tex; mode=display\">\\newcommand{\\Bold}[1]{\\mathbf{#1}}\\left\\{\\left(\\left(0, 1\\right), \\left(1, 1, 1\\right)\\right) : \\left(-x_{11} \\theta_{00} + x_{12} \\theta_{00} + x_{10} \\theta_{01} - x_{12} \\theta_{01} - x_{10} \\theta_{02} + x_{11} \\theta_{02}\\right), \\left(\\left(0, 0\\right), \\left(2, 1\\right)\\right) : \\left(\\theta_{00} - \\theta_{02}\\right), \\left(\\left(1, 0\\right), \\left(1, 1, 1\\right)\\right) : \\left(x_{01} \\theta_{00} - x_{02} \\theta_{00} - x_{00} \\theta_{01} + x_{02} \\theta_{01} + x_{00} \\theta_{02} - x_{01} \\theta_{02}\\right)\\right\\}</script></html>"
      ],
      "text/plain": [
       "{((0, 0), (2, 1)): (theta00 - theta02,),\n",
       " ((0, 1),\n",
       "  (1,\n",
       "   1,\n",
       "   1)): (-x11*theta00 + x12*theta00 + x10*theta01 - x12*theta01 - x10*theta02 + x11*theta02,),\n",
       " ((1, 0),\n",
       "  (1,\n",
       "   1,\n",
       "   1)): (x01*theta00 - x02*theta00 - x00*theta01 + x02*theta01 + x00*theta02 - x01*theta02,)}"
      ]
     },
     "execution_count": 12,
     "metadata": {},
     "output_type": "execute_result"
    }
   ],
   "source": [
    "P2 = DiagonalPolynomialRing(QQ, 3, 2, inert=1)\n",
    "op_pol = polarization_operators(P2)\n",
    "V1_pol = PolarizedSpace(P2, V1_iso, op_pol)\n",
    "V1_pol.basis()"
   ]
  },
  {
   "cell_type": "markdown",
   "metadata": {},
   "source": [
    "Computation of the bicharacter."
   ]
  },
  {
   "cell_type": "code",
   "execution_count": 13,
   "metadata": {
    "scrolled": true
   },
   "outputs": [
    {
     "data": {
      "text/html": [
       "<html><script type=\"math/tex; mode=display\">\\newcommand{\\Bold}[1]{\\mathbf{#1}}s_{} \\otimes s_{2,1} + s_{1} \\otimes s_{1,1,1}</script></html>"
      ],
      "text/plain": [
       "s[] # s[2, 1] + s[1] # s[1, 1, 1]"
      ]
     },
     "execution_count": 13,
     "metadata": {},
     "output_type": "execute_result"
    }
   ],
   "source": [
    "character(V1_pol, 3, 2)"
   ]
  },
  {
   "cell_type": "markdown",
   "metadata": {},
   "source": [
    "### Diagram (0,1,3)"
   ]
  },
  {
   "cell_type": "code",
   "execution_count": 13,
   "metadata": {},
   "outputs": [
    {
     "data": {
      "text/html": [
       "<html><script type=\"math/tex; mode=display\">\\newcommand{\\Bold}[1]{\\mathbf{#1}}(x_{01} - x_{02}) \\cdot (-x_{00} + x_{01}) \\cdot (x_{00} - x_{02}) \\cdot (x_{00} + x_{01} + x_{02})</script></html>"
      ],
      "text/plain": [
       "(x01 - x02) * (-x00 + x01) * (x00 - x02) * (x00 + x01 + x02)"
      ]
     },
     "execution_count": 13,
     "metadata": {},
     "output_type": "execute_result"
    }
   ],
   "source": [
    "v = vandermonde(Diagram([(0,0),(1,0),(3,0)]))\n",
    "v.factor()"
   ]
  },
  {
   "cell_type": "markdown",
   "metadata": {},
   "source": [
    "We create the subspace generated by $\\mathcal{V}_\\gamma$ and its partial derivatives. We can add the Steenrod operators without any change in the result."
   ]
  },
  {
   "cell_type": "code",
   "execution_count": 15,
   "metadata": {},
   "outputs": [],
   "source": [
    "P1 = DiagonalPolynomialRing(QQ, 3, 1)\n",
    "generator = {P1._grading_set((v.degree(),)) : [P1(v)]}\n",
    "list_op = merge(merge(partial_derivatives(P1), steenrod_operators(P1, 1)), steenrod_operators(P1, 2))"
   ]
  },
  {
   "cell_type": "code",
   "execution_count": 16,
   "metadata": {
    "scrolled": true
   },
   "outputs": [
    {
     "data": {
      "text/html": [
       "<html><script type=\"math/tex; mode=display\">\\newcommand{\\Bold}[1]{\\mathbf{#1}}\\left\\{\\left(2\\right) : \\left(-x_{00} x_{01} + x_{00} x_{02}, -x_{00} x_{01} + x_{01} x_{02}, x_{00}^{2} - x_{02}^{2}, x_{01}^{2} - x_{02}^{2}\\right), \\left(0\\right) : \\left(1\\right), \\left(3\\right) : \\left(\\frac{1}{3} x_{00}^{3} - \\frac{1}{3} x_{01}^{3} - x_{00} x_{02}^{2} + x_{01} x_{02}^{2}, -x_{00}^{2} x_{01} + \\frac{1}{3} x_{01}^{3} + x_{00}^{2} x_{02} - \\frac{1}{3} x_{02}^{3}, -\\frac{1}{3} x_{00}^{3} + x_{00} x_{01}^{2} - x_{01}^{2} x_{02} + \\frac{1}{3} x_{02}^{3}\\right), \\left(1\\right) : \\left(x_{00}, x_{01}, x_{02}\\right), \\left(4\\right) : \\left(x_{00}^{3} x_{01} - x_{00} x_{01}^{3} - x_{00}^{3} x_{02} + x_{01}^{3} x_{02} + x_{00} x_{02}^{3} - x_{01} x_{02}^{3}\\right)\\right\\}</script></html>"
      ],
      "text/plain": [
       "{(0,): (1,),\n",
       " (1,): (x00, x01, x02),\n",
       " (2,): (-x00*x01 + x00*x02, -x00*x01 + x01*x02, x00^2 - x02^2, x01^2 - x02^2),\n",
       " (3,): (1/3*x00^3 - 1/3*x01^3 - x00*x02^2 + x01*x02^2,\n",
       "  -x00^2*x01 + 1/3*x01^3 + x00^2*x02 - 1/3*x02^3,\n",
       "  -1/3*x00^3 + x00*x01^2 - x01^2*x02 + 1/3*x02^3),\n",
       " (4,): (x00^3*x01 - x00*x01^3 - x00^3*x02 + x01^3*x02 + x00*x02^3 - x01*x02^3,)}"
      ]
     },
     "execution_count": 16,
     "metadata": {},
     "output_type": "execute_result"
    }
   ],
   "source": [
    "W1 = Subspace(generators=generator, operators=list_op, add_degrees=add_degree)\n",
    "W1.basis()"
   ]
  },
  {
   "cell_type": "code",
   "execution_count": 17,
   "metadata": {},
   "outputs": [
    {
     "data": {
      "text/html": [
       "<html><script type=\"math/tex; mode=display\">\\newcommand{\\Bold}[1]{\\mathbf{#1}}s_{} \\otimes s_{3} + s_{1} \\otimes s_{2,1} + s_{1} \\otimes s_{3} + 2s_{2} \\otimes s_{2,1} + s_{3} \\otimes s_{1,1,1} + s_{3} \\otimes s_{2,1} + s_{4} \\otimes s_{1,1,1}</script></html>"
      ],
      "text/plain": [
       "s[] # s[3] + s[1] # s[2, 1] + s[1] # s[3] + 2*s[2] # s[2, 1] + s[3] # s[1, 1, 1] + s[3] # s[2, 1] + s[4] # s[1, 1, 1]"
      ]
     },
     "execution_count": 17,
     "metadata": {},
     "output_type": "execute_result"
    }
   ],
   "source": [
    "character(Isotyp(W1, 3), 3, 1)"
   ]
  },
  {
   "cell_type": "markdown",
   "metadata": {},
   "source": [
    "Apply $\\sum_i \\partial_{x_i}$ and $\\sum_i x_i \\partial_{x_i}^2$ à $\\mathcal{V}_{\\gamma}$. "
   ]
  },
  {
   "cell_type": "code",
   "execution_count": 18,
   "metadata": {
    "scrolled": true
   },
   "outputs": [
    {
     "data": {
      "text/html": [
       "<html><script type=\"math/tex; mode=display\">\\newcommand{\\Bold}[1]{\\mathbf{#1}}-3 x_{00}^{2} x_{01} + 3 x_{00} x_{01}^{2} + 3 x_{00}^{2} x_{02} - 3 x_{01}^{2} x_{02} - 3 x_{00} x_{02}^{2} + 3 x_{01} x_{02}^{2}</script></html>"
      ],
      "text/plain": [
       "-3*x00^2*x01 + 3*x00*x01^2 + 3*x00^2*x02 - 3*x01^2*x02 - 3*x00*x02^2 + 3*x01*x02^2"
      ]
     },
     "execution_count": 18,
     "metadata": {},
     "output_type": "execute_result"
    }
   ],
   "source": [
    "x00, x01, x02 = P1.variables()[0]\n",
    "P1.symmetric_derivative(P1(v), (1,))"
   ]
  },
  {
   "cell_type": "code",
   "execution_count": 19,
   "metadata": {},
   "outputs": [
    {
     "data": {
      "text/html": [
       "<html><script type=\"math/tex; mode=display\">\\newcommand{\\Bold}[1]{\\mathbf{#1}}-6 x_{00}^{2} x_{01} + 6 x_{00} x_{01}^{2} + 6 x_{00}^{2} x_{02} - 6 x_{01}^{2} x_{02} - 6 x_{00} x_{02}^{2} + 6 x_{01} x_{02}^{2}</script></html>"
      ],
      "text/plain": [
       "-6*x00^2*x01 + 6*x00*x01^2 + 6*x00^2*x02 - 6*x01^2*x02 - 6*x00*x02^2 + 6*x01*x02^2"
      ]
     },
     "execution_count": 19,
     "metadata": {},
     "output_type": "execute_result"
    }
   ],
   "source": [
    "P1.steenrod_op(P1(v), 0, 2)"
   ]
  },
  {
   "cell_type": "markdown",
   "metadata": {},
   "source": [
    "Polarization"
   ]
  },
  {
   "cell_type": "code",
   "execution_count": 20,
   "metadata": {},
   "outputs": [
    {
     "data": {
      "text/html": [
       "<html><script type=\"math/tex; mode=display\">\\newcommand{\\Bold}[1]{\\mathbf{#1}}s_{} \\otimes s_{3} + s_{1} \\otimes s_{2,1} + s_{1} \\otimes s_{3} + s_{1,1} \\otimes s_{1,1,1} + s_{1,1} \\otimes s_{2,1} + 2s_{2} \\otimes s_{2,1} + s_{2,1} \\otimes s_{1,1,1} + s_{3} \\otimes s_{1,1,1} + s_{3} \\otimes s_{2,1} + s_{4} \\otimes s_{1,1,1}</script></html>"
      ],
      "text/plain": [
       "s[] # s[3] + s[1] # s[2, 1] + s[1] # s[3] + s[1, 1] # s[1, 1, 1] + s[1, 1] # s[2, 1] + 2*s[2] # s[2, 1] + s[2, 1] # s[1, 1, 1] + s[3] # s[1, 1, 1] + s[3] # s[2, 1] + s[4] # s[1, 1, 1]"
      ]
     },
     "execution_count": 20,
     "metadata": {},
     "output_type": "execute_result"
    }
   ],
   "source": [
    "P2 = DiagonalPolynomialRing(QQ, 3, 2)\n",
    "op_pol = polarization_operators(P2)\n",
    "W2 = PolarizedSpace(P2, Isotyp(W1, 3), op_pol)\n",
    "character(W2, 3, 2)"
   ]
  },
  {
   "cell_type": "code",
   "execution_count": 21,
   "metadata": {
    "scrolled": true
   },
   "outputs": [
    {
     "data": {
      "text/html": [
       "<html><script type=\"math/tex; mode=display\">\\newcommand{\\Bold}[1]{\\mathbf{#1}}s_{} \\otimes s_{3} + s_{1} \\otimes s_{2,1} + s_{1,1} \\otimes s_{1,1,1} + s_{2} \\otimes s_{2,1} + s_{3} \\otimes s_{1,1,1}</script></html>"
      ],
      "text/plain": [
       "s[] # s[3] + s[1] # s[2, 1] + s[1, 1] # s[1, 1, 1] + s[2] # s[2, 1] + s[3] # s[1, 1, 1]"
      ]
     },
     "execution_count": 21,
     "metadata": {},
     "output_type": "execute_result"
    }
   ],
   "source": [
    "list_degrees = [tuple(k1 if j==i1 else 0 for j in range(P2._r)) \n",
    "                for k1 in range(1, 3+1) for i1 in range(0, P2._r)]\n",
    "#list_degrees += [(1,1),(1,2),(1,3),(2,1),(2,2),(2,3),(3,1),(3,2),(3,3)]\n",
    "sym_diff = symmetric_derivatives(P2, list_degrees)\n",
    "#sym_diff = merge(merge(symmetric_derivatives(P2, list_degrees), \n",
    "#                       steenrod_operators(P2, 1)), steenrod_operators(P2, 2))\n",
    "character(Range(W2, sym_diff), 3, 2)"
   ]
  },
  {
   "cell_type": "code",
   "execution_count": 22,
   "metadata": {},
   "outputs": [
    {
     "data": {
      "text/html": [
       "<html><script type=\"math/tex; mode=display\">\\newcommand{\\Bold}[1]{\\mathbf{#1}}s_{1} \\otimes s_{3} + s_{1,1} \\otimes s_{2,1} + s_{2} \\otimes s_{2,1} + s_{2,1} \\otimes s_{1,1,1} + s_{3} \\otimes s_{2,1} + s_{4} \\otimes s_{1,1,1}</script></html>"
      ],
      "text/plain": [
       "s[1] # s[3] + s[1, 1] # s[2, 1] + s[2] # s[2, 1] + s[2, 1] # s[1, 1, 1] + s[3] # s[2, 1] + s[4] # s[1, 1, 1]"
      ]
     },
     "execution_count": 22,
     "metadata": {},
     "output_type": "execute_result"
    }
   ],
   "source": [
    "charac = character(W2, 3, 2) - character(Range(W2, sym_diff), 3, 2)\n",
    "charac"
   ]
  },
  {
   "cell_type": "markdown",
   "metadata": {},
   "source": [
    "Or in terms of monomial symmetric functions."
   ]
  },
  {
   "cell_type": "code",
   "execution_count": 23,
   "metadata": {
    "scrolled": false
   },
   "outputs": [
    {
     "data": {
      "text/html": [
       "<html><script type=\"math/tex; mode=display\">\\newcommand{\\Bold}[1]{\\mathbf{#1}}m_{1} \\otimes s_{3} + 2m_{1,1} \\otimes s_{2,1} + m_{2} \\otimes s_{2,1} + m_{2,1} \\otimes s_{1,1,1} + m_{2,1} \\otimes s_{2,1} + m_{2,2} \\otimes s_{1,1,1} + m_{3} \\otimes s_{2,1} + m_{3,1} \\otimes s_{1,1,1} + m_{4} \\otimes s_{1,1,1}</script></html>"
      ],
      "text/plain": [
       "m[1] # s[3] + 2*m[1, 1] # s[2, 1] + m[2] # s[2, 1] + m[2, 1] # s[1, 1, 1] + m[2, 1] # s[2, 1] + m[2, 2] # s[1, 1, 1] + m[3] # s[2, 1] + m[3, 1] # s[1, 1, 1] + m[4] # s[1, 1, 1]"
      ]
     },
     "execution_count": 23,
     "metadata": {},
     "output_type": "execute_result"
    }
   ],
   "source": [
    "character(W2, 3, 2, left_basis=m) - character(Range(W2, sym_diff), 3, 2, left_basis=m)"
   ]
  },
  {
   "cell_type": "markdown",
   "metadata": {},
   "source": [
    "We factorise the character in terms of representations of $S_3$."
   ]
  },
  {
   "cell_type": "code",
   "execution_count": 24,
   "metadata": {
    "scrolled": true
   },
   "outputs": [
    {
     "name": "stdout",
     "output_type": "stream",
     "text": [
      "[1, 1, 1]\n"
     ]
    },
    {
     "data": {
      "text/html": [
       "<html><script type=\"math/tex; mode=display\">\\newcommand{\\Bold}[1]{\\mathbf{#1}}s_{2,1} + s_{4}</script></html>"
      ],
      "text/plain": [
       "s[2, 1] + s[4]"
      ]
     },
     "metadata": {},
     "output_type": "display_data"
    },
    {
     "name": "stdout",
     "output_type": "stream",
     "text": [
      "[3]\n"
     ]
    },
    {
     "data": {
      "text/html": [
       "<html><script type=\"math/tex; mode=display\">\\newcommand{\\Bold}[1]{\\mathbf{#1}}s_{1}</script></html>"
      ],
      "text/plain": [
       "s[1]"
      ]
     },
     "metadata": {},
     "output_type": "display_data"
    },
    {
     "name": "stdout",
     "output_type": "stream",
     "text": [
      "[2, 1]\n"
     ]
    },
    {
     "data": {
      "text/html": [
       "<html><script type=\"math/tex; mode=display\">\\newcommand{\\Bold}[1]{\\mathbf{#1}}s_{1,1} + s_{2} + s_{3}</script></html>"
      ],
      "text/plain": [
       "s[1, 1] + s[2] + s[3]"
      ]
     },
     "metadata": {},
     "output_type": "display_data"
    }
   ],
   "source": [
    "factorise(charac, 3)"
   ]
  },
  {
   "cell_type": "markdown",
   "metadata": {},
   "source": [
    "### Partition 311"
   ]
  },
  {
   "cell_type": "code",
   "execution_count": 42,
   "metadata": {},
   "outputs": [
    {
     "data": {
      "text/html": [
       "<html><script type=\"math/tex; mode=display\">\\newcommand{\\Bold}[1]{\\mathbf{#1}}s_{} \\otimes s_{3,1,1} + s_{1} \\otimes s_{2,1,1,1} + s_{1} \\otimes s_{2,2,1} + s_{1,1} \\otimes s_{1,1,1,1,1} + s_{2} \\otimes s_{2,1,1,1} + s_{3} \\otimes s_{1,1,1,1,1}</script></html>"
      ],
      "text/plain": [
       "s[] # s[3, 1, 1] + s[1] # s[2, 1, 1, 1] + s[1] # s[2, 2, 1] + s[1, 1] # s[1, 1, 1, 1, 1] + s[2] # s[2, 1, 1, 1] + s[3] # s[1, 1, 1, 1, 1]"
      ]
     },
     "execution_count": 42,
     "metadata": {},
     "output_type": "execute_result"
    }
   ],
   "source": [
    "P1 = DiagonalPolynomialRing(QQ, 5, 1, inert=1)\n",
    "v = vandermonde(Partition([3,1,1]))\n",
    "deg_v = 3\n",
    "generator = {P1._grading_set((deg_v,)) : [P1(v)]}\n",
    "list_op = partial_derivatives(P1)\n",
    "W1 = Subspace(generators=generator, operators=list_op, add_degrees=add_degree)\n",
    "\n",
    "P2 = DiagonalPolynomialRing(QQ, 5, 2, inert=1)\n",
    "op_pol = polarization_operators(P2)\n",
    "W2 = PolarizedSpace(P2, Isotyp(W1, 5), op_pol)\n",
    "character(W2, 5, 2)"
   ]
  },
  {
   "cell_type": "markdown",
   "metadata": {},
   "source": [
    "### Others cases\n",
    "\n",
    "#### Diagramme $\\{(0,0),(0,1),(1,1),(0,2)\\}$ et autres\n",
    "\n",
    "Pas de quotient dans ce cas."
   ]
  },
  {
   "cell_type": "code",
   "execution_count": 74,
   "metadata": {},
   "outputs": [
    {
     "data": {
      "text/html": [
       "<html><script type=\"math/tex; mode=display\">\\newcommand{\\Bold}[1]{\\mathbf{#1}}x_{00} x_{02} \\theta_{00} \\theta_{01} - x_{01} x_{02} \\theta_{00} \\theta_{01} - x_{00} x_{03} \\theta_{00} \\theta_{01} + x_{01} x_{03} \\theta_{00} \\theta_{01} - x_{00} x_{01} \\theta_{00} \\theta_{02} + x_{01} x_{02} \\theta_{00} \\theta_{02} + x_{00} x_{03} \\theta_{00} \\theta_{02} - x_{02} x_{03} \\theta_{00} \\theta_{02} + x_{00} x_{01} \\theta_{01} \\theta_{02} - x_{00} x_{02} \\theta_{01} \\theta_{02} - x_{01} x_{03} \\theta_{01} \\theta_{02} + x_{02} x_{03} \\theta_{01} \\theta_{02} + x_{00} x_{01} \\theta_{00} \\theta_{03} - x_{00} x_{02} \\theta_{00} \\theta_{03} - x_{01} x_{03} \\theta_{00} \\theta_{03} + x_{02} x_{03} \\theta_{00} \\theta_{03} - x_{00} x_{01} \\theta_{01} \\theta_{03} + x_{01} x_{02} \\theta_{01} \\theta_{03} + x_{00} x_{03} \\theta_{01} \\theta_{03} - x_{02} x_{03} \\theta_{01} \\theta_{03} + x_{00} x_{02} \\theta_{02} \\theta_{03} - x_{01} x_{02} \\theta_{02} \\theta_{03} - x_{00} x_{03} \\theta_{02} \\theta_{03} + x_{01} x_{03} \\theta_{02} \\theta_{03}</script></html>"
      ],
      "text/plain": [
       "x00*x02*theta00*theta01 - x01*x02*theta00*theta01 - x00*x03*theta00*theta01 + x01*x03*theta00*theta01 - x00*x01*theta00*theta02 + x01*x02*theta00*theta02 + x00*x03*theta00*theta02 - x02*x03*theta00*theta02 + x00*x01*theta01*theta02 - x00*x02*theta01*theta02 - x01*x03*theta01*theta02 + x02*x03*theta01*theta02 + x00*x01*theta00*theta03 - x00*x02*theta00*theta03 - x01*x03*theta00*theta03 + x02*x03*theta00*theta03 - x00*x01*theta01*theta03 + x01*x02*theta01*theta03 + x00*x03*theta01*theta03 - x02*x03*theta01*theta03 + x00*x02*theta02*theta03 - x01*x02*theta02*theta03 - x00*x03*theta02*theta03 + x01*x03*theta02*theta03"
      ]
     },
     "metadata": {},
     "output_type": "display_data"
    },
    {
     "data": {
      "text/html": [
       "<html><script type=\"math/tex; mode=display\">\\newcommand{\\Bold}[1]{\\mathbf{#1}}s_{} \\otimes s_{2,2} + s_{1} \\otimes s_{2,1,1} + s_{2} \\otimes s_{1,1,1,1}</script></html>"
      ],
      "text/plain": [
       "s[] # s[2, 2] + s[1] # s[2, 1, 1] + s[2] # s[1, 1, 1, 1]"
      ]
     },
     "metadata": {},
     "output_type": "display_data"
    },
    {
     "data": {
      "text/html": [
       "<html><script type=\"math/tex; mode=display\">\\newcommand{\\Bold}[1]{\\mathbf{#1}}s_{} \\otimes s_{2,2} + s_{1} \\otimes s_{2,1,1} + s_{2} \\otimes s_{1,1,1,1}</script></html>"
      ],
      "text/plain": [
       "s[] # s[2, 2] + s[1] # s[2, 1, 1] + s[2] # s[1, 1, 1, 1]"
      ]
     },
     "execution_count": 74,
     "metadata": {},
     "output_type": "execute_result"
    }
   ],
   "source": [
    "n = 4\n",
    "P1 = DiagonalPolynomialRing(QQ, n, 1, inert=1)\n",
    "gamma = Partition([2,2])\n",
    "v = vandermonde(gamma)\n",
    "show(v)\n",
    "deg_v = degree_vandermonde(gamma)\n",
    "generator = {P1._grading_set((deg_v,)) : [P1(v)]}\n",
    "list_op = partial_derivatives(P1)\n",
    "W1 = Subspace(generators=generator, operators=list_op, add_degrees=add_degree)\n",
    "show(character(Isotyp(W1, n), n, 1))\n",
    "\n",
    "r = 3\n",
    "P2 = DiagonalPolynomialRing(QQ, n, r, inert=1)\n",
    "op_pol = polarization_operators(P2)\n",
    "W1 = PolarizedSpace(P2, Isotyp(W1, n), op_pol)\n",
    "character(W1, n, r)"
   ]
  },
  {
   "cell_type": "code",
   "execution_count": 73,
   "metadata": {},
   "outputs": [
    {
     "data": {
      "text/html": [
       "<html><script type=\"math/tex; mode=display\">\\newcommand{\\Bold}[1]{\\mathbf{#1}}s_{} \\otimes s_{2,2,1} + s_{1} \\otimes s_{2,1,1,1} + s_{2} \\otimes s_{1,1,1,1,1}</script></html>"
      ],
      "text/plain": [
       "s[] # s[2, 2, 1] + s[1] # s[2, 1, 1, 1] + s[2] # s[1, 1, 1, 1, 1]"
      ]
     },
     "metadata": {},
     "output_type": "display_data"
    },
    {
     "data": {
      "text/html": [
       "<html><script type=\"math/tex; mode=display\">\\newcommand{\\Bold}[1]{\\mathbf{#1}}s_{} \\otimes s_{2,2,1} + s_{1} \\otimes s_{2,1,1,1} + s_{2} \\otimes s_{1,1,1,1,1}</script></html>"
      ],
      "text/plain": [
       "s[] # s[2, 2, 1] + s[1] # s[2, 1, 1, 1] + s[2] # s[1, 1, 1, 1, 1]"
      ]
     },
     "execution_count": 73,
     "metadata": {},
     "output_type": "execute_result"
    }
   ],
   "source": [
    "n = 5\n",
    "P1 = DiagonalPolynomialRing(QQ, n, 1, inert=1)\n",
    "gamma = Partition([2,2,1])\n",
    "v = vandermonde(gamma)\n",
    "deg_v = degree_vandermonde(gamma)\n",
    "generator = {P1._grading_set((deg_v,)) : [P1(v)]}\n",
    "list_op = partial_derivatives(P1)\n",
    "W1 = Subspace(generators=generator, operators=list_op, add_degrees=add_degree)\n",
    "show(character(Isotyp(W1, n), n, 1))\n",
    "\n",
    "r = 4\n",
    "P2 = DiagonalPolynomialRing(QQ, n, r, inert=1)\n",
    "op_pol = polarization_operators(P2)\n",
    "W1 = PolarizedSpace(P2, Isotyp(W1, n), op_pol)\n",
    "character(W1, n, r)"
   ]
  },
  {
   "cell_type": "code",
   "execution_count": 54,
   "metadata": {},
   "outputs": [
    {
     "name": "stdout",
     "output_type": "stream",
     "text": [
      "[1, 1, 1, 1]\n"
     ]
    },
    {
     "data": {
      "text/html": [
       "<html><script type=\"math/tex; mode=display\">\\newcommand{\\Bold}[1]{\\mathbf{#1}}s_{2}</script></html>"
      ],
      "text/plain": [
       "s[2]"
      ]
     },
     "metadata": {},
     "output_type": "display_data"
    },
    {
     "name": "stdout",
     "output_type": "stream",
     "text": [
      "[2, 2]\n"
     ]
    },
    {
     "data": {
      "text/html": [
       "<html><script type=\"math/tex; mode=display\">\\newcommand{\\Bold}[1]{\\mathbf{#1}}s_{}</script></html>"
      ],
      "text/plain": [
       "s[]"
      ]
     },
     "metadata": {},
     "output_type": "display_data"
    },
    {
     "name": "stdout",
     "output_type": "stream",
     "text": [
      "[2, 1, 1]\n"
     ]
    },
    {
     "data": {
      "text/html": [
       "<html><script type=\"math/tex; mode=display\">\\newcommand{\\Bold}[1]{\\mathbf{#1}}s_{1}</script></html>"
      ],
      "text/plain": [
       "s[1]"
      ]
     },
     "metadata": {},
     "output_type": "display_data"
    }
   ],
   "source": [
    "gamma = Partition([2,2])\n",
    "n = gamma.size()\n",
    "P1 = DiagonalPolynomialRing(QQ, n, 1, inert=1)\n",
    "v = vandermonde(gamma)\n",
    "deg_v = degree_vandermonde(gamma)\n",
    "generator = {P1._grading_set((deg_v,)) : [P1(v)]}\n",
    "list_op = partial_derivatives(P1)\n",
    "W1 = Subspace(generators=generator, operators=list_op, add_degrees=add_degree)\n",
    "character(Isotyp(W1, n), n, 1)\n",
    "\n",
    "P2 = DiagonalPolynomialRing(QQ, n, 3, inert=1)\n",
    "op_pol = polarization_operators(P2)\n",
    "W1 = PolarizedSpace(P2, Isotyp(W1, n), op_pol)\n",
    "factorise(character(W1, n, 3), 4)"
   ]
  }
 ],
 "metadata": {
  "kernelspec": {
   "display_name": "SageMath 8.7",
   "language": "",
   "name": "sagemath"
  },
  "language_info": {
   "codemirror_mode": {
    "name": "ipython",
    "version": 2
   },
   "file_extension": ".py",
   "mimetype": "text/x-python",
   "name": "python",
   "nbconvert_exporter": "python",
   "pygments_lexer": "ipython2",
   "version": "2.7.15"
  }
 },
 "nbformat": 4,
 "nbformat_minor": 2
}
