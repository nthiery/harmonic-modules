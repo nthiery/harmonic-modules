{
 "cells": [
  {
   "cell_type": "code",
   "execution_count": 5,
   "metadata": {},
   "outputs": [],
   "source": [
    "%display latex\n",
    "%runfile character.py"
   ]
  },
  {
   "cell_type": "markdown",
   "metadata": {},
   "source": [
    "On note $\\Delta$ un déterminant de type Vandermonde."
   ]
  },
  {
   "cell_type": "markdown",
   "metadata": {},
   "source": [
    "``v = vandermonde(Diagram)``"
   ]
  },
  {
   "cell_type": "code",
   "execution_count": 3,
   "metadata": {},
   "outputs": [
    {
     "data": {
      "text/html": [
       "<html><script type=\"math/tex; mode=display\">\\newcommand{\\Bold}[1]{\\mathbf{#1}}- x_{00}^{4} x_{01}^{2} + x_{00}^{2} x_{01}^{4} + x_{00}^{4} x_{02}^{2} -  x_{01}^{4} x_{02}^{2} -  x_{00}^{2} x_{02}^{4} + x_{01}^{2} x_{02}^{4}</script></html>"
      ],
      "text/plain": [
       "-x00^4*x01^2 + x00^2*x01^4 + x00^4*x02^2 - x01^4*x02^2 - x00^2*x02^4 + x01^2*x02^4"
      ]
     },
     "execution_count": 3,
     "metadata": {},
     "output_type": "execute_result"
    }
   ],
   "source": [
    "H = DerivativeVandermondeSpaceWithInert(QQ, Diagram([(0,0),(2,0),(4,0)]))\n",
    "v = H.vandermonde()\n",
    "v"
   ]
  },
  {
   "cell_type": "markdown",
   "metadata": {},
   "source": [
    "On constate que $p_1(\\partial)\\Delta$"
   ]
  },
  {
   "cell_type": "code",
   "execution_count": 4,
   "metadata": {},
   "outputs": [
    {
     "data": {
      "text/html": [
       "<html><script type=\"math/tex; mode=display\">\\newcommand{\\Bold}[1]{\\mathbf{#1}}-2 x_{00}^{4} x_{01} - 4 x_{00}^{3} x_{01}^{2} + 4 x_{00}^{2} x_{01}^{3} + 2 x_{00} x_{01}^{4} + 2 x_{00}^{4} x_{02} - 2 x_{01}^{4} x_{02} + 4 x_{00}^{3} x_{02}^{2} - 4 x_{01}^{3} x_{02}^{2} - 4 x_{00}^{2} x_{02}^{3} + 4 x_{01}^{2} x_{02}^{3} - 2 x_{00} x_{02}^{4} + 2 x_{01} x_{02}^{4}</script></html>"
      ],
      "text/plain": [
       "-2*x00^4*x01 - 4*x00^3*x01^2 + 4*x00^2*x01^3 + 2*x00*x01^4 + 2*x00^4*x02 - 2*x01^4*x02 + 4*x00^3*x02^2 - 4*x01^3*x02^2 - 4*x00^2*x02^3 + 4*x01^2*x02^3 - 2*x00*x02^4 + 2*x01*x02^4"
      ]
     },
     "execution_count": 4,
     "metadata": {},
     "output_type": "execute_result"
    }
   ],
   "source": [
    "x = H._P.variables()[0]\n",
    "sum(v.derivative(x[i]) for i in range(0,3))"
   ]
  },
  {
   "cell_type": "markdown",
   "metadata": {},
   "source": [
    "est différent de $\\sum_i y_i \\partial_{x_i}^2 \\sum_j x_j \\partial_{y_j} \\Delta$."
   ]
  },
  {
   "cell_type": "code",
   "execution_count": 5,
   "metadata": {
    "scrolled": true
   },
   "outputs": [
    {
     "data": {
      "text/html": [
       "<html><script type=\"math/tex; mode=display\">\\newcommand{\\Bold}[1]{\\mathbf{#1}}-2 x_{00}^{4} x_{01} - 12 x_{00}^{3} x_{01}^{2} + 12 x_{00}^{2} x_{01}^{3} + 2 x_{00} x_{01}^{4} + 2 x_{00}^{4} x_{02} - 2 x_{01}^{4} x_{02} + 12 x_{00}^{3} x_{02}^{2} - 12 x_{01}^{3} x_{02}^{2} - 12 x_{00}^{2} x_{02}^{3} + 12 x_{01}^{2} x_{02}^{3} - 2 x_{00} x_{02}^{4} + 2 x_{01} x_{02}^{4}</script></html>"
      ],
      "text/plain": [
       "-2*x00^4*x01 - 12*x00^3*x01^2 + 12*x00^2*x01^3 + 2*x00*x01^4 + 2*x00^4*x02 - 2*x01^4*x02 + 12*x00^3*x02^2 - 12*x01^3*x02^2 - 12*x00^2*x02^3 + 12*x01^2*x02^3 - 2*x00*x02^4 + 2*x01*x02^4"
      ]
     },
     "execution_count": 5,
     "metadata": {},
     "output_type": "execute_result"
    }
   ],
   "source": [
    "P = DiagonalPolynomialRing(QQ, 3, 2)\n",
    "x = P.variables()[0]\n",
    "y = P.variables()[1]\n",
    "v = P(v)\n",
    "sum(x[i]*sum(y[j]*v.derivative(x[j],2) for j in range(0,3)).derivative(y[i]) for i in range(0,3))"
   ]
  },
  {
   "cell_type": "markdown",
   "metadata": {},
   "source": [
    "Or le commutateur de $\\sum_i y_i \\partial_{x_i}^2$ et $\\sum_j x_j \\partial_{y_j}$ nous donne $\\sum_i x_i \\partial_{x_i}^2$. On va donc essayer d'ajouter cet opérateur dans nos calculs."
   ]
  },
  {
   "cell_type": "markdown",
   "metadata": {},
   "source": [
    "### Sans quotient\n",
    "\n",
    "Pour vérifier que tout est correct au niveau de la polarisation en un jeu de variables, on prend tous les opérateurs ensemble (dérivées partielles, polarisateurs et $\\sum_i x_i \\partial_{x_i}^k$ pour k=2,3) et on génère le sous-espace."
   ]
  },
  {
   "cell_type": "markdown",
   "metadata": {},
   "source": [
    "``V = Isotyp(Subspace(Delta, list_op))\n",
    "charac(V)``"
   ]
  },
  {
   "cell_type": "code",
   "execution_count": 6,
   "metadata": {},
   "outputs": [
    {
     "name": "stdout",
     "output_type": "stream",
     "text": [
      "[3]\n",
      "q0^3 + q0^2*q1 + q0*q1^2 + q1^3 + 2*q0^2 + 2*q0*q1 + 2*q1^2 + q0 + q1 + 1\n",
      "s[] + s[1] + 2*s[2] + s[3]\n",
      "\n",
      "[2, 1]\n",
      "q0^5 + q0^4*q1 + q0^3*q1^2 + q0^2*q1^3 + q0*q1^4 + q1^5 + 3*q0^4 + 4*q0^3*q1 + 4*q0^2*q1^2 + 4*q0*q1^3 + 3*q1^4 + 3*q0^3 + 5*q0^2*q1 + 5*q0*q1^2 + 3*q1^3 + 2*q0^2 + 3*q0*q1 + 2*q1^2 + q0 + q1\n",
      "s[1] + s[1, 1] + 2*s[2] + 2*s[2, 1] + 3*s[3] + s[3, 1] + 3*s[4] + s[5]\n",
      "\n",
      "[1, 1, 1]\n",
      "q0^6 + q0^5*q1 + q0^4*q1^2 + q0^3*q1^3 + q0^2*q1^4 + q0*q1^5 + q1^6 + 2*q0^5 + 3*q0^4*q1 + 3*q0^3*q1^2 + 3*q0^2*q1^3 + 3*q0*q1^4 + 2*q1^5 + q0^4 + 3*q0^3*q1 + 3*q0^2*q1^2 + 3*q0*q1^3 + q1^4 + q0^3 + 2*q0^2*q1 + 2*q0*q1^2 + q1^3 + q0*q1\n",
      "s[1, 1] + s[2, 1] + s[3] + 2*s[3, 1] + s[4] + s[4, 1] + 2*s[5] + s[6]\n",
      "\n"
     ]
    }
   ],
   "source": [
    "H = DerivativeVandermondeSpaceWithInert(QQ, Diagram([(0,0),(2,0),(4,0)]))\n",
    "P = DiagonalPolynomialRing(QQ, 3, 2)\n",
    "v = P(H.vandermonde())\n",
    "d=4\n",
    "n=3\n",
    "\n",
    "X = P.variables()[0]\n",
    "Y = P.variables()[1]\n",
    "D = P._grading_set\n",
    "\n",
    "s = SymmetricFunctions(QQ).s()\n",
    "\n",
    "operators = {}\n",
    "\n",
    "def make_pol_comp_young(X, Y, k, mu):\n",
    "    def f(p):\n",
    "        return apply_young_idempotent(sum(Y[i]*p.derivative(X[i],k) for i in range(0,len(X))), mu)\n",
    "    return f\n",
    "\n",
    "for nu in Partitions(3):\n",
    "    operators[(D((-1,0)),nu)] = [make_deriv_comp_young(X[i], nu) for i in range(0,n)]\n",
    "    operators[(D((0,-1)),nu)] = [make_deriv_comp_young(Y[i], nu) for i in range(0,n)]\n",
    "    \n",
    "    operators[(D((-1,0)),nu)] += [make_deriv_comp_young2(X, 2, nu)]\n",
    "    operators[(D((-2,0)),nu)] = [make_deriv_comp_young2(X, 3, nu)]\n",
    "    \n",
    "    for k in range(1,d+1):\n",
    "        operators[(D((-k,1)),nu)] = [make_pol_comp_young(X, Y, k, nu)]\n",
    "        operators[(D((1,-k)),nu)] = [make_pol_comp_young(Y, X, k, nu)]\n",
    "        \n",
    "generators={(D((6,0)),Partition([1,1,1])):[v]}\n",
    "\n",
    "basis = Subspace(generators=generators, operators=operators, add_degrees=add_degree_isotyp).basis()\n",
    "\n",
    "for nu in Partitions(3):\n",
    "    charac = 0\n",
    "    print nu\n",
    "    for key in basis.iterkeys():\n",
    "        if nu == key[1]:\n",
    "            charac += len(basis[key])*P.multipower(key[0])\n",
    "    print charac\n",
    "        \n",
    "    charac = (s.from_polynomial(charac)).restrict_partition_lengths(2,exact=False)\n",
    "    print charac\n",
    "    print"
   ]
  },
  {
   "cell_type": "markdown",
   "metadata": {},
   "source": [
    "Si on restreint les résultats précédents à un jeu de variables on obtient bien la même chose qu'avec le calcul optimisé. "
   ]
  },
  {
   "cell_type": "markdown",
   "metadata": {},
   "source": [
    "``V = Isotyp(Subspace(vandermonde(Diagram),list_op),mu)``"
   ]
  },
  {
   "cell_type": "code",
   "execution_count": 7,
   "metadata": {
    "scrolled": true
   },
   "outputs": [
    {
     "name": "stdout",
     "output_type": "stream",
     "text": [
      "[3]\n",
      "charac :  s[] + s[1] + 2*s[2] + s[3]\n",
      "\n",
      "[2, 1]\n",
      "charac :  s[1] + 2*s[2] + 3*s[3] + 3*s[4] + s[5]\n",
      "\n",
      "[1, 1, 1]\n",
      "charac :  s[3] + s[4] + 2*s[5] + s[6]\n",
      "\n"
     ]
    },
    {
     "data": {
      "text/html": [
       "<html><script type=\"math/tex; mode=display\">\\newcommand{\\Bold}[1]{\\mathbf{#1}}\\left\\{\\left(5\\right) : 2, \\left(3\\right) : 1, \\left(6\\right) : 1, \\left(4\\right) : 1\\right\\}</script></html>"
      ],
      "text/plain": [
       "{(3,): 1, (4,): 1, (5,): 2, (6,): 1}"
      ]
     },
     "execution_count": 7,
     "metadata": {},
     "output_type": "execute_result"
    }
   ],
   "source": [
    "character_by_isotypic_plain(Diagram([(0,0),(2,0),(4,0)]), Partition([3]), r=1, quotient=False)\n",
    "character_by_isotypic_plain(Diagram([(0,0),(2,0),(4,0)]), Partition([2,1]), r=1, quotient=False)\n",
    "character_by_isotypic_plain(Diagram([(0,0),(2,0),(4,0)]), Partition([1,1,1]), r=1, quotient=False)"
   ]
  },
  {
   "cell_type": "markdown",
   "metadata": {},
   "source": [
    "### Avec quotient\n",
    "\n",
    "On essaye maintenant d'ajouter les $\\sum_i x_i \\partial_{x_i}^k$ dans le quotient. On commence par regarder si ça fonctionne pour un seul jeu de variables. "
   ]
  },
  {
   "cell_type": "markdown",
   "metadata": {},
   "source": [
    "``V1 = Isotyp(Subspace(Delta, list_derivatives), mu)\n",
    "V2 = Quotient(V1, list_op)\n",
    "charac(V1)-charac(V2)``"
   ]
  },
  {
   "cell_type": "code",
   "execution_count": 6,
   "metadata": {
    "scrolled": false
   },
   "outputs": [
    {
     "name": "stdout",
     "output_type": "stream",
     "text": [
      "[1, 1, 1]\n",
      "quotient : \n",
      "s[3] + s[4] + s[5]\n",
      "\n",
      "avant quotient : \n",
      "s[3] + s[4] + s[5] + s[6]\n",
      "\n",
      "charac :  s[6]\n",
      "\n",
      "[2, 1]\n",
      "quotient : \n",
      "s[1] + 2*s[2] + 2*s[3] + s[4]\n",
      "\n",
      "avant quotient : \n",
      "s[1] + 2*s[2] + 2*s[3] + 2*s[4] + s[5]\n",
      "\n",
      "charac :  s[4] + s[5]\n",
      "\n",
      "[3]\n",
      "quotient : \n",
      "s[] + s[1] + s[2]\n",
      "\n",
      "avant quotient : \n",
      "s[] + s[1] + s[2] + s[3]\n",
      "\n",
      "charac :  s[3]\n",
      "\n"
     ]
    },
    {
     "data": {
      "text/html": [
       "<html><script type=\"math/tex; mode=display\">\\newcommand{\\Bold}[1]{\\mathbf{#1}}\\left\\{\\left(3\\right) : 1\\right\\}</script></html>"
      ],
      "text/plain": [
       "{(3,): 1}"
      ]
     },
     "execution_count": 6,
     "metadata": {},
     "output_type": "execute_result"
    }
   ],
   "source": [
    "character_by_isotypic_plain(Diagram([(0,0),(2,0),(4,0)]), Partition([1,1,1]), r=1, quotient=True, use_steenrod_op=False)\n",
    "character_by_isotypic_plain(Diagram([(0,0),(2,0),(4,0)]), Partition([2,1]), r=1, quotient=True, use_steenrod_op=False)\n",
    "character_by_isotypic_plain(Diagram([(0,0),(2,0),(4,0)]), Partition([3]), r=1, quotient=True, use_steenrod_op=False)"
   ]
  },
  {
   "cell_type": "code",
   "execution_count": 43,
   "metadata": {
    "scrolled": false
   },
   "outputs": [
    {
     "name": "stdout",
     "output_type": "stream",
     "text": [
      "[1, 1, 1]\n",
      "quotient : \n",
      "s[3]\n",
      "\n",
      "avant quotient : \n",
      "s[3] + s[4]\n",
      "\n",
      "charac :  s[4]\n",
      "\n",
      "[2, 1]\n",
      "quotient : \n",
      "s[1] + s[2]\n",
      "\n",
      "avant quotient : \n",
      "s[1] + 2*s[2] + s[3]\n",
      "\n",
      "charac :  s[2] + s[3]\n",
      "\n",
      "[3]\n",
      "quotient : \n",
      "s[]\n",
      "\n",
      "avant quotient : \n",
      "s[] + s[1]\n",
      "\n",
      "charac :  s[1]\n",
      "\n"
     ]
    },
    {
     "data": {
      "text/html": [
       "<html><script type=\"math/tex; mode=display\">\\newcommand{\\Bold}[1]{\\mathbf{#1}}\\left\\{\\left(1\\right) : 1\\right\\}</script></html>"
      ],
      "text/plain": [
       "{(1,): 1}"
      ]
     },
     "execution_count": 43,
     "metadata": {},
     "output_type": "execute_result"
    }
   ],
   "source": [
    "character_by_isotypic_plain(Diagram([(0,0),(1,0),(3,0)]), Partition([1,1,1]), r=1, quotient=True, use_steenrod_op=False)\n",
    "character_by_isotypic_plain(Diagram([(0,0),(1,0),(3,0)]), Partition([2,1]), r=1, quotient=True, use_steenrod_op=False)\n",
    "character_by_isotypic_plain(Diagram([(0,0),(1,0),(3,0)]), Partition([3]), r=1, quotient=True, use_steenrod_op=False)"
   ]
  },
  {
   "cell_type": "markdown",
   "metadata": {},
   "source": [
    "``V1 = Isotyp(Subspace(Delta, list_derivatives_steenrod), mu)\n",
    "V2 = Quotient(V1, list_op)\n",
    "charac(V1)-charac(V2)``"
   ]
  },
  {
   "cell_type": "code",
   "execution_count": 44,
   "metadata": {},
   "outputs": [
    {
     "name": "stdout",
     "output_type": "stream",
     "text": [
      "[1, 1, 1]\n",
      "quotient : \n",
      "s[3] + s[4] + 2*s[5]\n",
      "\n",
      "avant quotient : \n",
      "s[3] + s[4] + 2*s[5] + s[6]\n",
      "\n",
      "charac :  s[6]\n",
      "\n",
      "[2, 1]\n",
      "quotient : \n",
      "s[1] + 2*s[2] + 3*s[3] + 2*s[4]\n",
      "\n",
      "avant quotient : \n",
      "s[1] + 2*s[2] + 3*s[3] + 3*s[4] + s[5]\n",
      "\n",
      "charac :  s[4] + s[5]\n",
      "\n",
      "[3]\n",
      "quotient : \n",
      "s[] + s[1] + 2*s[2]\n",
      "\n",
      "avant quotient : \n",
      "s[] + s[1] + 2*s[2] + s[3]\n",
      "\n",
      "charac :  s[3]\n",
      "\n"
     ]
    },
    {
     "data": {
      "text/html": [
       "<html><script type=\"math/tex; mode=display\">\\newcommand{\\Bold}[1]{\\mathbf{#1}}\\left\\{\\left(3\\right) : 1\\right\\}</script></html>"
      ],
      "text/plain": [
       "{(3,): 1}"
      ]
     },
     "execution_count": 44,
     "metadata": {},
     "output_type": "execute_result"
    }
   ],
   "source": [
    "character_by_isotypic_plain(Diagram([(0,0),(2,0),(4,0)]), Partition([1,1,1]), r=1, quotient=True, use_steenrod_op=True)\n",
    "character_by_isotypic_plain(Diagram([(0,0),(2,0),(4,0)]), Partition([2,1]), r=1, quotient=True, use_steenrod_op=True)\n",
    "character_by_isotypic_plain(Diagram([(0,0),(2,0),(4,0)]), Partition([3]), r=1, quotient=True, use_steenrod_op=True)"
   ]
  },
  {
   "cell_type": "code",
   "execution_count": 45,
   "metadata": {},
   "outputs": [
    {
     "name": "stdout",
     "output_type": "stream",
     "text": [
      "[1, 1, 1]\n",
      "quotient : \n",
      "s[3]\n",
      "\n",
      "avant quotient : \n",
      "s[3] + s[4]\n",
      "\n",
      "charac :  s[4]\n",
      "\n",
      "[2, 1]\n",
      "quotient : \n",
      "s[1] + 2*s[2]\n",
      "\n",
      "avant quotient : \n",
      "s[1] + 2*s[2] + s[3]\n",
      "\n",
      "charac :  s[3]\n",
      "\n",
      "[3]\n",
      "quotient : \n",
      "s[]\n",
      "\n",
      "avant quotient : \n",
      "s[] + s[1]\n",
      "\n",
      "charac :  s[1]\n",
      "\n"
     ]
    },
    {
     "data": {
      "text/html": [
       "<html><script type=\"math/tex; mode=display\">\\newcommand{\\Bold}[1]{\\mathbf{#1}}\\left\\{\\left(1\\right) : 1\\right\\}</script></html>"
      ],
      "text/plain": [
       "{(1,): 1}"
      ]
     },
     "execution_count": 45,
     "metadata": {},
     "output_type": "execute_result"
    }
   ],
   "source": [
    "character_by_isotypic_plain(Diagram([(0,0),(1,0),(3,0)]), Partition([1,1,1]), r=1, quotient=True, use_steenrod_op=True)\n",
    "character_by_isotypic_plain(Diagram([(0,0),(1,0),(3,0)]), Partition([2,1]), r=1, quotient=True, use_steenrod_op=True)\n",
    "character_by_isotypic_plain(Diagram([(0,0),(1,0),(3,0)]), Partition([3]), r=1, quotient=True, use_steenrod_op=True)"
   ]
  },
  {
   "cell_type": "markdown",
   "metadata": {},
   "source": [
    "Puis essais avec polarisation"
   ]
  },
  {
   "cell_type": "markdown",
   "metadata": {},
   "source": [
    "``V1 = Subspace(Isotyp(Subspace(Delta, list_derivatives_steenrod), mu), list_polariz)\n",
    "V2 = Quotient(V1, list_op)\n",
    "charac(V1)-charac(V2)``"
   ]
  },
  {
   "cell_type": "code",
   "execution_count": 33,
   "metadata": {},
   "outputs": [
    {
     "data": {
      "text/html": [
       "<html><script type=\"math/tex; mode=display\">\\newcommand{\\Bold}[1]{\\mathbf{#1}}- x_{00}^{3} x_{01} + x_{00} x_{01}^{3} + x_{00}^{3} x_{02} -  x_{01}^{3} x_{02} -  x_{00} x_{02}^{3} + x_{01} x_{02}^{3}</script></html>"
      ],
      "text/plain": [
       "-x00^3*x01 + x00*x01^3 + x00^3*x02 - x01^3*x02 - x00*x02^3 + x01*x02^3"
      ]
     },
     "execution_count": 33,
     "metadata": {},
     "output_type": "execute_result"
    }
   ],
   "source": [
    "v = DerivativeVandermondeSpaceWithInert(QQ, Diagram([(0,0),(1,0),(3,0)])).vandermonde()\n",
    "v"
   ]
  },
  {
   "cell_type": "code",
   "execution_count": 34,
   "metadata": {},
   "outputs": [],
   "source": [
    "P = DiagonalPolynomialRing(QQ, 3, 2)\n",
    "x = P.variables()[0]\n",
    "y = P.variables()[1]\n",
    "v = P(v)"
   ]
  },
  {
   "cell_type": "code",
   "execution_count": 35,
   "metadata": {},
   "outputs": [
    {
     "data": {
      "text/html": [
       "<html><script type=\"math/tex; mode=display\">\\newcommand{\\Bold}[1]{\\mathbf{#1}}-3 x_{00}^{2} x_{01} + 3 x_{00} x_{01}^{2} + 3 x_{00}^{2} x_{02} - 3 x_{01}^{2} x_{02} - 3 x_{00} x_{02}^{2} + 3 x_{01} x_{02}^{2}</script></html>"
      ],
      "text/plain": [
       "-3*x00^2*x01 + 3*x00*x01^2 + 3*x00^2*x02 - 3*x01^2*x02 - 3*x00*x02^2 + 3*x01*x02^2"
      ]
     },
     "execution_count": 35,
     "metadata": {},
     "output_type": "execute_result"
    }
   ],
   "source": [
    "sum(v.derivative(x[i]) for i in range(0,3))"
   ]
  },
  {
   "cell_type": "code",
   "execution_count": 39,
   "metadata": {},
   "outputs": [
    {
     "data": {
      "text/html": [
       "<html><script type=\"math/tex; mode=display\">\\newcommand{\\Bold}[1]{\\mathbf{#1}}-6 x_{00}^{2} x_{01} + 6 x_{00} x_{01}^{2} + 6 x_{00}^{2} x_{02} - 6 x_{01}^{2} x_{02} - 6 x_{00} x_{02}^{2} + 6 x_{01} x_{02}^{2}</script></html>"
      ],
      "text/plain": [
       "-6*x00^2*x01 + 6*x00*x01^2 + 6*x00^2*x02 - 6*x01^2*x02 - 6*x00*x02^2 + 6*x01*x02^2"
      ]
     },
     "execution_count": 39,
     "metadata": {},
     "output_type": "execute_result"
    }
   ],
   "source": [
    "f1 = sum(y[i]*v.derivative(x[i],2) for i in range(0,3))\n",
    "sum(x[i]*f1.derivative(y[i]) for i in range(0,3))"
   ]
  },
  {
   "cell_type": "code",
   "execution_count": 40,
   "metadata": {},
   "outputs": [
    {
     "data": {
      "text/html": [
       "<html><script type=\"math/tex; mode=display\">\\newcommand{\\Bold}[1]{\\mathbf{#1}}-6 x_{00}^{2} x_{01} + 6 x_{00} x_{01}^{2} + 6 x_{00}^{2} x_{02} - 6 x_{01}^{2} x_{02} - 6 x_{00} x_{02}^{2} + 6 x_{01} x_{02}^{2}</script></html>"
      ],
      "text/plain": [
       "-6*x00^2*x01 + 6*x00*x01^2 + 6*x00^2*x02 - 6*x01^2*x02 - 6*x00*x02^2 + 6*x01*x02^2"
      ]
     },
     "execution_count": 40,
     "metadata": {},
     "output_type": "execute_result"
    }
   ],
   "source": [
    "sum(x[i]*v.derivative(x[i],2) for i in range(0,3))"
   ]
  },
  {
   "cell_type": "code",
   "execution_count": 69,
   "metadata": {},
   "outputs": [
    {
     "name": "stdout",
     "output_type": "stream",
     "text": [
      "[3]\n",
      "charac :  s[] + s[1] + 2*s[2] + s[3]\n",
      "\n",
      "[2, 1]\n",
      "charac :  s[1] + 2*s[2] + 3*s[3] + 3*s[4] + s[5]\n",
      "\n",
      "[1, 1, 1]\n",
      "charac :  s[3] + s[4] + 2*s[5] + s[6]\n",
      "\n"
     ]
    },
    {
     "data": {
      "text/html": [
       "<html><script type=\"math/tex; mode=display\">\\newcommand{\\Bold}[1]{\\mathbf{#1}}s_{} \\otimes s_{3} + s_{1} \\otimes s_{2,1} + s_{1} \\otimes s_{3} - s_{1,1} \\otimes s_{3} + 2s_{2} \\otimes s_{2,1} + 2s_{2} \\otimes s_{3} - s_{2,1} \\otimes s_{2,1} - s_{2,2} \\otimes s_{1,1,1} + s_{3} \\otimes s_{1,1,1} + 3s_{3} \\otimes s_{2,1} - s_{3,1} \\otimes s_{2,1} + s_{4} \\otimes s_{1,1,1} + 2s_{4} \\otimes s_{2,1} - s_{4,1} \\otimes s_{1,1,1} + 2s_{5} \\otimes s_{1,1,1}</script></html>"
      ],
      "text/plain": [
       "s[] # s[3] + s[1] # s[2, 1] + s[1] # s[3] - s[1, 1] # s[3] + 2*s[2] # s[2, 1] + 2*s[2] # s[3] - s[2, 1] # s[2, 1] - s[2, 2] # s[1, 1, 1] + s[3] # s[1, 1, 1] + 3*s[3] # s[2, 1] - s[3, 1] # s[2, 1] + s[4] # s[1, 1, 1] + 2*s[4] # s[2, 1] - s[4, 1] # s[1, 1, 1] + 2*s[5] # s[1, 1, 1]"
      ]
     },
     "execution_count": 69,
     "metadata": {},
     "output_type": "execute_result"
    }
   ],
   "source": [
    "c1 = character_with_inert(Diagram([(0,0),(2,0),(4,0)]), quotient=False)\n",
    "s = SymmetricFunctions(QQ).s()\n",
    "c2 = s[1, 1].tensor(s[3]) + s[2, 1].tensor(s[2, 1]) + s[2, 2].tensor(s[1, 1, 1]) + s[3].tensor(s[3]) + s[3, 1].tensor( s[2, 1]) + s[4].tensor( s[2, 1]) + s[4, 1].tensor(s[1, 1, 1]) + s[5].tensor( s[2, 1]) + s[6].tensor(s[1, 1, 1])\n",
    "c1-c2"
   ]
  },
  {
   "cell_type": "code",
   "execution_count": 58,
   "metadata": {},
   "outputs": [
    {
     "data": {
      "text/html": [
       "<html><script type=\"math/tex; mode=display\">\\newcommand{\\Bold}[1]{\\mathbf{#1}}-m_{1,1,1} \\otimes s_{2,1} - 2m_{1,1,1,1} \\otimes s_{1,1,1} - 2m_{1,1,1,1} \\otimes s_{2,1} - 3m_{1,1,1,1,1} \\otimes s_{1,1,1} + m_{2} \\otimes s_{3} - m_{2,1,1} \\otimes s_{1,1,1} - m_{2,1,1} \\otimes s_{2,1} - 2m_{2,1,1,1} \\otimes s_{1,1,1} - m_{2,2} \\otimes s_{1,1,1} - m_{2,2,1} \\otimes s_{1,1,1} + m_{3} \\otimes s_{2,1} - m_{3,1,1} \\otimes s_{1,1,1} + m_{4} \\otimes s_{2,1} + m_{5} \\otimes s_{1,1,1}</script></html>"
      ],
      "text/plain": [
       "-m[1, 1, 1] # s[2, 1] - 2*m[1, 1, 1, 1] # s[1, 1, 1] - 2*m[1, 1, 1, 1] # s[2, 1] - 3*m[1, 1, 1, 1, 1] # s[1, 1, 1] + m[2] # s[3] - m[2, 1, 1] # s[1, 1, 1] - m[2, 1, 1] # s[2, 1] - 2*m[2, 1, 1, 1] # s[1, 1, 1] - m[2, 2] # s[1, 1, 1] - m[2, 2, 1] # s[1, 1, 1] + m[3] # s[2, 1] - m[3, 1, 1] # s[1, 1, 1] + m[4] # s[2, 1] + m[5] # s[1, 1, 1]"
      ]
     },
     "execution_count": 58,
     "metadata": {},
     "output_type": "execute_result"
    }
   ],
   "source": [
    "tensor([m,s])(c1-c2)"
   ]
  },
  {
   "cell_type": "code",
   "execution_count": 52,
   "metadata": {},
   "outputs": [
    {
     "data": {
      "text/html": [
       "<html><script type=\"math/tex; mode=display\">\\newcommand{\\Bold}[1]{\\mathbf{#1}}s_{2} \\otimes s_{3} + s_{3} \\otimes s_{2,1} + s_{3} \\otimes s_{3} + 2s_{4} \\otimes s_{2,1} + s_{5} \\otimes s_{1,1,1} + s_{5} \\otimes s_{2,1} + s_{6} \\otimes s_{1,1,1}</script></html>"
      ],
      "text/plain": [
       "s[2] # s[3] + s[3] # s[2, 1] + s[3] # s[3] + 2*s[4] # s[2, 1] + s[5] # s[1, 1, 1] + s[5] # s[2, 1] + s[6] # s[1, 1, 1]"
      ]
     },
     "execution_count": 52,
     "metadata": {},
     "output_type": "execute_result"
    }
   ],
   "source": [
    "c1"
   ]
  },
  {
   "cell_type": "code",
   "execution_count": 49,
   "metadata": {},
   "outputs": [
    {
     "data": {
      "text/html": [
       "<html><script type=\"math/tex; mode=display\">\\newcommand{\\Bold}[1]{\\mathbf{#1}}s_{1,1} \\otimes s_{3} + s_{2,1} \\otimes s_{2,1} + s_{2,2} \\otimes s_{1,1,1} + s_{3} \\otimes s_{3} + s_{3,1} \\otimes s_{2,1} + s_{4} \\otimes s_{2,1} + s_{4,1} \\otimes s_{1,1,1} + s_{5} \\otimes s_{2,1} + s_{6} \\otimes s_{1,1,1}</script></html>"
      ],
      "text/plain": [
       "s[1, 1] # s[3] + s[2, 1] # s[2, 1] + s[2, 2] # s[1, 1, 1] + s[3] # s[3] + s[3, 1] # s[2, 1] + s[4] # s[2, 1] + s[4, 1] # s[1, 1, 1] + s[5] # s[2, 1] + s[6] # s[1, 1, 1]"
      ]
     },
     "execution_count": 49,
     "metadata": {},
     "output_type": "execute_result"
    }
   ],
   "source": [
    "c2"
   ]
  },
  {
   "cell_type": "code",
   "execution_count": 70,
   "metadata": {},
   "outputs": [],
   "source": [
    "def Crache(F,w=None,g=None):\n",
    "    if F==0: \n",
    "        show()\n",
    "    elif g==None:\n",
    "        Dishout(F,s,s)\n",
    "    else:\n",
    "        n=3\n",
    "        for mu in sorted(list(Partitions(n))):\n",
    "            val=w(Scalar2(F,g(mu)))\n",
    "            if val<>0:\n",
    "                show((tuple(mu),val))\n",
    "\n",
    "@cached_function\n",
    "def Scalar2(U,f): \n",
    "    res=add(_c*s(_a)*(s(_b).scalar(f)) for (_a,_b),_c in tensor([s,s])(U))\n",
    "    if res==None: \n",
    "        return 0*Un\n",
    "    else:\n",
    "        return res"
   ]
  },
  {
   "cell_type": "code",
   "execution_count": 71,
   "metadata": {},
   "outputs": [
    {
     "data": {
      "text/html": [
       "<html><script type=\"math/tex; mode=display\">\\newcommand{\\Bold}[1]{\\mathbf{#1}}\\left(\\left(1, 1, 1\\right), m_{1,1,1} - m_{1,1,1,1} - 2m_{1,1,1,1,1} + m_{2,1} - m_{2,1,1,1} + m_{3} + m_{3,1} + m_{3,2} + m_{4} + m_{4,1} + 2m_{5}\\right)</script></html>"
      ],
      "text/plain": [
       "((1, 1, 1),\n",
       " m[1, 1, 1] - m[1, 1, 1, 1] - 2*m[1, 1, 1, 1, 1] + m[2, 1] - m[2, 1, 1, 1] + m[3] + m[3, 1] + m[3, 2] + m[4] + m[4, 1] + 2*m[5])"
      ]
     },
     "metadata": {},
     "output_type": "display_data"
    },
    {
     "data": {
      "text/html": [
       "<html><script type=\"math/tex; mode=display\">\\newcommand{\\Bold}[1]{\\mathbf{#1}}\\left(\\left(2, 1\\right), m_{1} + 2m_{1,1} + m_{1,1,1} - m_{1,1,1,1} + 2m_{2} + 2m_{2,1} + m_{2,2} + 3m_{3} + m_{3,1} + 2m_{4}\\right)</script></html>"
      ],
      "text/plain": [
       "((2, 1),\n",
       " m[1] + 2*m[1, 1] + m[1, 1, 1] - m[1, 1, 1, 1] + 2*m[2] + 2*m[2, 1] + m[2, 2] + 3*m[3] + m[3, 1] + 2*m[4])"
      ]
     },
     "metadata": {},
     "output_type": "display_data"
    },
    {
     "data": {
      "text/html": [
       "<html><script type=\"math/tex; mode=display\">\\newcommand{\\Bold}[1]{\\mathbf{#1}}\\left(\\left(3\\right), m_{} + m_{1} + m_{1,1} + 2m_{2}\\right)</script></html>"
      ],
      "text/plain": [
       "((3,), m[] + m[1] + m[1, 1] + 2*m[2])"
      ]
     },
     "metadata": {},
     "output_type": "display_data"
    }
   ],
   "source": [
    "Crache(c1-c2,m,s)"
   ]
  },
  {
   "cell_type": "code",
   "execution_count": 79,
   "metadata": {},
   "outputs": [
    {
     "data": {
      "text/html": [
       "<html><script type=\"math/tex; mode=display\">\\newcommand{\\Bold}[1]{\\mathbf{#1}}- x_{00}^{4} x_{01}^{2} + x_{00}^{2} x_{01}^{4} + x_{00}^{4} x_{02}^{2} -  x_{01}^{4} x_{02}^{2} -  x_{00}^{2} x_{02}^{4} + x_{01}^{2} x_{02}^{4}</script></html>"
      ],
      "text/plain": [
       "-x00^4*x01^2 + x00^2*x01^4 + x00^4*x02^2 - x01^4*x02^2 - x00^2*x02^4 + x01^2*x02^4"
      ]
     },
     "execution_count": 79,
     "metadata": {},
     "output_type": "execute_result"
    }
   ],
   "source": [
    "v = DerivativeVandermondeSpaceWithInert(QQ, Diagram([(0,0),(2,0),(4,0)])).vandermonde()\n",
    "v = P(v)\n",
    "v"
   ]
  },
  {
   "cell_type": "code",
   "execution_count": 81,
   "metadata": {},
   "outputs": [
    {
     "data": {
      "text/html": [
       "<html><script type=\"math/tex; mode=display\">\\newcommand{\\Bold}[1]{\\mathbf{#1}}-4 x_{00}^{4} x_{01} - 8 x_{00}^{3} x_{01}^{2} + 8 x_{00}^{2} x_{01}^{3} + 4 x_{00} x_{01}^{4} + 4 x_{00}^{4} x_{02} - 4 x_{01}^{4} x_{02} + 8 x_{00}^{3} x_{02}^{2} - 8 x_{01}^{3} x_{02}^{2} - 8 x_{00}^{2} x_{02}^{3} + 8 x_{01}^{2} x_{02}^{3} - 4 x_{00} x_{02}^{4} + 4 x_{01} x_{02}^{4}</script></html>"
      ],
      "text/plain": [
       "-4*x00^4*x01 - 8*x00^3*x01^2 + 8*x00^2*x01^3 + 4*x00*x01^4 + 4*x00^4*x02 - 4*x01^4*x02 + 8*x00^3*x02^2 - 8*x01^3*x02^2 - 8*x00^2*x02^3 + 8*x01^2*x02^3 - 4*x00*x02^4 + 4*x01*x02^4"
      ]
     },
     "metadata": {},
     "output_type": "display_data"
    },
    {
     "data": {
      "text/html": [
       "<html><script type=\"math/tex; mode=display\">\\newcommand{\\Bold}[1]{\\mathbf{#1}}-4 x_{00}^{4} x_{01} - 8 x_{00}^{3} x_{01}^{2} + 8 x_{00}^{2} x_{01}^{3} + 4 x_{00} x_{01}^{4} + 4 x_{00}^{4} x_{02} - 4 x_{01}^{4} x_{02} + 8 x_{00}^{3} x_{02}^{2} - 8 x_{01}^{3} x_{02}^{2} - 8 x_{00}^{2} x_{02}^{3} + 8 x_{01}^{2} x_{02}^{3} - 4 x_{00} x_{02}^{4} + 4 x_{01} x_{02}^{4}</script></html>"
      ],
      "text/plain": [
       "-4*x00^4*x01 - 8*x00^3*x01^2 + 8*x00^2*x01^3 + 4*x00*x01^4 + 4*x00^4*x02 - 4*x01^4*x02 + 8*x00^3*x02^2 - 8*x01^3*x02^2 - 8*x00^2*x02^3 + 8*x01^2*x02^3 - 4*x00*x02^4 + 4*x01*x02^4"
      ]
     },
     "metadata": {},
     "output_type": "display_data"
    },
    {
     "data": {
      "text/html": [
       "<html><script type=\"math/tex; mode=display\">\\newcommand{\\Bold}[1]{\\mathbf{#1}}-4 x_{00}^{4} x_{01} - 8 x_{00}^{3} x_{01}^{2} + 8 x_{00}^{2} x_{01}^{3} + 4 x_{00} x_{01}^{4} + 4 x_{00}^{4} x_{02} - 4 x_{01}^{4} x_{02} + 8 x_{00}^{3} x_{02}^{2} - 8 x_{01}^{3} x_{02}^{2} - 8 x_{00}^{2} x_{02}^{3} + 8 x_{01}^{2} x_{02}^{3} - 4 x_{00} x_{02}^{4} + 4 x_{01} x_{02}^{4}</script></html>"
      ],
      "text/plain": [
       "-4*x00^4*x01 - 8*x00^3*x01^2 + 8*x00^2*x01^3 + 4*x00*x01^4 + 4*x00^4*x02 - 4*x01^4*x02 + 8*x00^3*x02^2 - 8*x01^3*x02^2 - 8*x00^2*x02^3 + 8*x01^2*x02^3 - 4*x00*x02^4 + 4*x01*x02^4"
      ]
     },
     "metadata": {},
     "output_type": "display_data"
    }
   ],
   "source": [
    "for i in range (0,3) :\n",
    "    show(apply_young_idempotent(v.derivative(x[i]), Partition([1,1,1])))"
   ]
  },
  {
   "cell_type": "code",
   "execution_count": null,
   "metadata": {},
   "outputs": [],
   "source": []
  }
 ],
 "metadata": {
  "kernelspec": {
   "display_name": "SageMath 8.7",
   "language": "",
   "name": "sagemath"
  },
  "language_info": {
   "codemirror_mode": {
    "name": "ipython",
    "version": 2
   },
   "file_extension": ".py",
   "mimetype": "text/x-python",
   "name": "python",
   "nbconvert_exporter": "python",
   "pygments_lexer": "ipython2",
   "version": "2.7.15"
  }
 },
 "nbformat": 4,
 "nbformat_minor": 2
}
