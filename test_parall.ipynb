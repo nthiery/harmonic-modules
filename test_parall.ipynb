{
 "cells": [
  {
   "cell_type": "markdown",
   "metadata": {},
   "source": [
    "Sage Days 2019 - 10/07\n",
    "\n",
    "Tests on parallization"
   ]
  },
  {
   "cell_type": "code",
   "execution_count": 1,
   "metadata": {},
   "outputs": [],
   "source": [
    "from compute_character import*"
   ]
  },
  {
   "cell_type": "markdown",
   "metadata": {},
   "source": [
    "Immediate computation, persist. "
   ]
  },
  {
   "cell_type": "code",
   "execution_count": 2,
   "metadata": {},
   "outputs": [
    {
     "data": {
      "text/plain": [
       "s[] # s[4] + s[1] # s[3, 1] + s[1, 1] # s[2, 1, 1] + s[1, 1, 1] # s[1, 1, 1, 1] + s[2] # s[2, 2] + s[2] # s[3, 1] + s[2, 1] # s[2, 1, 1] + s[2, 1] # s[2, 2] + s[3] # s[2, 1, 1] + s[3] # s[3, 1] + s[3, 1] # s[1, 1, 1, 1] + s[3, 1] # s[2, 1, 1] + s[4] # s[2, 1, 1] + s[4] # s[2, 2] + s[4, 1] # s[1, 1, 1, 1] + s[5] # s[2, 1, 1] + s[6] # s[1, 1, 1, 1]"
      ]
     },
     "execution_count": 2,
     "metadata": {},
     "output_type": "execute_result"
    }
   ],
   "source": [
    "compute_character(Partition([4]))"
   ]
  },
  {
   "cell_type": "markdown",
   "metadata": {},
   "source": [
    "Define a function to get the isotypic component of the space associated to $\\mu$ in one set of $n = |\\mu|$ variables. "
   ]
  },
  {
   "cell_type": "code",
   "execution_count": 3,
   "metadata": {},
   "outputs": [],
   "source": [
    "def isotypic_component_1set(mu, use_antisymmetry=True, row_symmetry=\"permutation\") :\n",
    "    \n",
    "    n = Integer(mu.size())\n",
    "    # Determinant computation\n",
    "    v = vandermonde(mu)\n",
    "    # Span by derivatives\n",
    "    generator = {v.multidegree() : [v]}\n",
    "    list_op = partial_derivatives(v.parent())\n",
    "    V = Subspace(generators=generator, operators=list_op, add_degrees=add_degree)\n",
    "    # Projection on isotypic components\n",
    "    V_iso = IsotypicComponent(V, n, use_antisymmetry=use_antisymmetry)\n",
    "    \n",
    "    return V_iso"
   ]
  },
  {
   "cell_type": "markdown",
   "metadata": {},
   "source": [
    "Try parallel computation of polarized spaces and their respective characters"
   ]
  },
  {
   "cell_type": "code",
   "execution_count": 4,
   "metadata": {},
   "outputs": [
    {
     "name": "stdout",
     "output_type": "stream",
     "text": [
      "{(-1, 1): [*.polarization(i1=0, row_symmetry=permutation, i2=1, d=1)], (1, -1): [*.polarization(i1=1, row_symmetry=permutation, i2=0, d=1)]}\n",
      "{[1, 1, 1]: <subspace.Subspace object at 0x7f5b88c05610>, [2, 1]: <subspace.Subspace object at 0x7f5b88c05050>}\n"
     ]
    }
   ],
   "source": [
    "mu = Partition([2,1])\n",
    "S = isotypic_component_1set(mu)\n",
    "r = 2\n",
    "operators = polarization_operators(2, row_symmetry=\"permutation\")\n",
    "print operators\n",
    "print S"
   ]
  },
  {
   "cell_type": "code",
   "execution_count": 5,
   "metadata": {
    "scrolled": false
   },
   "outputs": [
    {
     "data": {
      "text/plain": [
       "{((), (2, 1)): 1, ((1,), (1, 1, 1)): 1}"
      ]
     },
     "execution_count": 5,
     "metadata": {},
     "output_type": "execute_result"
    }
   ],
   "source": [
    "parallel_character(S, operators)"
   ]
  },
  {
   "cell_type": "code",
   "execution_count": 6,
   "metadata": {},
   "outputs": [],
   "source": [
    "res = _"
   ]
  },
  {
   "cell_type": "code",
   "execution_count": 9,
   "metadata": {},
   "outputs": [
    {
     "data": {
      "text/plain": [
       "True"
      ]
     },
     "execution_count": 9,
     "metadata": {},
     "output_type": "execute_result"
    }
   ],
   "source": [
    "loads(dumps(res)) == res"
   ]
  },
  {
   "cell_type": "code",
   "execution_count": 5,
   "metadata": {},
   "outputs": [
    {
     "name": "stdout",
     "output_type": "stream",
     "text": [
      "{((0,), (1,)): (1,)}\n"
     ]
    },
    {
     "data": {
      "text/plain": [
       "{0: <subspace.Subspace object at 0x7f409dbfa090>}"
      ]
     },
     "execution_count": 5,
     "metadata": {},
     "output_type": "execute_result"
    }
   ],
   "source": [
    "S = isotypic_component_1set(Partition([1]))\n",
    "print S.basis()\n",
    "S = {0:S}\n",
    "S"
   ]
  },
  {
   "cell_type": "code",
   "execution_count": 6,
   "metadata": {
    "scrolled": false
   },
   "outputs": [
    {
     "name": "stdout",
     "output_type": "stream",
     "text": [
      "<function parallel_character at 0x7f5b8ad5c140>\n",
      "(<subspace.Subspace object at 0x7f5b88c05610>, {})\n",
      "{((1,), (1, 1, 1)): 1}\n",
      "\n",
      "<function parallel_character at 0x7f5b8ad5c140>\n",
      "(<subspace.Subspace object at 0x7f5b88c05050>, {})\n",
      "{((), (2, 1)): 1}\n",
      "\n"
     ]
    }
   ],
   "source": [
    "for (((_,_),_), V_pol) in parallel_character([(subspace, {}) \n",
    "                                    for subspace in S.values()]):\n",
    "    print V_pol\n",
    "    print"
   ]
  },
  {
   "cell_type": "code",
   "execution_count": 35,
   "metadata": {},
   "outputs": [
    {
     "data": {
      "text/plain": [
       "{(-1, 1): [*.polarization(i1=0, row_symmetry=permutation, i2=1, d=1)],\n",
       " (1, -1): [*.polarization(i1=1, row_symmetry=permutation, i2=0, d=1)]}"
      ]
     },
     "execution_count": 35,
     "metadata": {},
     "output_type": "execute_result"
    }
   ],
   "source": [
    "loads(dumps(operators))"
   ]
  },
  {
   "cell_type": "code",
   "execution_count": 9,
   "metadata": {
    "scrolled": false
   },
   "outputs": [],
   "source": [
    "T = loads(dumps(S))"
   ]
  },
  {
   "cell_type": "code",
   "execution_count": 10,
   "metadata": {},
   "outputs": [
    {
     "data": {
      "text/plain": [
       "1"
      ]
     },
     "execution_count": 10,
     "metadata": {},
     "output_type": "execute_result"
    }
   ],
   "source": [
    "T[Partition([2,1])].dimension()"
   ]
  },
  {
   "cell_type": "code",
   "execution_count": 11,
   "metadata": {},
   "outputs": [
    {
     "ename": "AttributeError",
     "evalue": "'list' object has no attribute '__code__'",
     "output_type": "error",
     "traceback": [
      "\u001b[1;31m---------------------------------------------------------------------------\u001b[0m",
      "\u001b[1;31mAttributeError\u001b[0m                            Traceback (most recent call last)",
      "\u001b[1;32m<ipython-input-11-951442f00f8e>\u001b[0m in \u001b[0;36m<module>\u001b[1;34m()\u001b[0m\n\u001b[1;32m----> 1\u001b[1;33m \u001b[0mpickle_function\u001b[0m\u001b[1;33m(\u001b[0m\u001b[0moperators\u001b[0m\u001b[1;33m[\u001b[0m\u001b[1;33m(\u001b[0m\u001b[1;33m-\u001b[0m\u001b[0mInteger\u001b[0m\u001b[1;33m(\u001b[0m\u001b[1;36m1\u001b[0m\u001b[1;33m)\u001b[0m\u001b[1;33m,\u001b[0m\u001b[0mInteger\u001b[0m\u001b[1;33m(\u001b[0m\u001b[1;36m1\u001b[0m\u001b[1;33m)\u001b[0m\u001b[1;33m)\u001b[0m\u001b[1;33m]\u001b[0m\u001b[1;33m)\u001b[0m\u001b[1;33m\u001b[0m\u001b[0m\n\u001b[0m",
      "\u001b[1;32m/home/pauline/Applications/sage/local/lib/python2.7/site-packages/sage/misc/fpickle.pyx\u001b[0m in \u001b[0;36msage.misc.fpickle.pickle_function (build/cythonized/sage/misc/fpickle.c:1895)\u001b[1;34m()\u001b[0m\n\u001b[0;32m     81\u001b[0m         \u001b[1;36m11\u001b[0m\u001b[1;33m\u001b[0m\u001b[0m\n\u001b[0;32m     82\u001b[0m     \"\"\"\n\u001b[1;32m---> 83\u001b[1;33m     \u001b[1;32mreturn\u001b[0m \u001b[0mcPickle\u001b[0m\u001b[1;33m.\u001b[0m\u001b[0mdumps\u001b[0m\u001b[1;33m(\u001b[0m\u001b[0mfunc\u001b[0m\u001b[1;33m.\u001b[0m\u001b[0m__code__\u001b[0m\u001b[1;33m)\u001b[0m\u001b[1;33m\u001b[0m\u001b[0m\n\u001b[0m\u001b[0;32m     84\u001b[0m \u001b[1;33m\u001b[0m\u001b[0m\n\u001b[0;32m     85\u001b[0m \u001b[1;32mdef\u001b[0m \u001b[0munpickle_function\u001b[0m\u001b[1;33m(\u001b[0m\u001b[0mpickled\u001b[0m\u001b[1;33m)\u001b[0m\u001b[1;33m:\u001b[0m\u001b[1;33m\u001b[0m\u001b[0m\n",
      "\u001b[1;31mAttributeError\u001b[0m: 'list' object has no attribute '__code__'"
     ]
    },
    {
     "name": "stdout",
     "output_type": "stream",
     "text": [
      "> \u001b[1;32m/home/pauline/Documents/Doctorat/harmonic-modules/sage/misc/fpickle.pyx\u001b[0m(83)\u001b[0;36msage.misc.fpickle.pickle_function (build/cythonized/sage/misc/fpickle.c:1895)\u001b[1;34m()\u001b[0m\n",
      "\n",
      "\n",
      "KeyboardInterrupt\n"
     ]
    }
   ],
   "source": [
    "pickle_function(operators[(-1,1)])"
   ]
  }
 ],
 "metadata": {
  "kernelspec": {
   "display_name": "SageMath 8.7",
   "language": "",
   "name": "sagemath"
  },
  "language_info": {
   "codemirror_mode": {
    "name": "ipython",
    "version": 2
   },
   "file_extension": ".py",
   "mimetype": "text/x-python",
   "name": "python",
   "nbconvert_exporter": "python",
   "pygments_lexer": "ipython2",
   "version": "2.7.15"
  }
 },
 "nbformat": 4,
 "nbformat_minor": 2
}
