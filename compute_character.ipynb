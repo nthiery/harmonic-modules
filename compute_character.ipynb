{
 "cells": [
  {
   "cell_type": "code",
   "execution_count": 1,
   "metadata": {},
   "outputs": [],
   "source": [
    "%display latex"
   ]
  },
  {
   "cell_type": "code",
   "execution_count": 2,
   "metadata": {},
   "outputs": [],
   "source": [
    "%runfile character.py"
   ]
  },
  {
   "cell_type": "markdown",
   "metadata": {},
   "source": [
    "Morceau de code de François pour affichage"
   ]
  },
  {
   "cell_type": "code",
   "execution_count": 3,
   "metadata": {},
   "outputs": [],
   "source": [
    "def Crache(F, deg, w=None, g=None):\n",
    "    if F==0: \n",
    "        show()\n",
    "    elif g==None:\n",
    "        Dishout(F,deg,s,s)\n",
    "    else:\n",
    "        n=deg\n",
    "        for mu in sorted(list(Partitions(n))):\n",
    "            val=w(Scalar2(F,g(mu)))\n",
    "            if val<>0:\n",
    "                show((tuple(mu),val))\n",
    "\n",
    "@cached_function\n",
    "def Scalar2(U,f): \n",
    "    res=add(_c*s(_a)*(s(_b).scalar(f)) for (_a,_b),_c in tensor([s,s])(U))\n",
    "    if res==None: \n",
    "        return 0*Un\n",
    "    else:\n",
    "        return res"
   ]
  },
  {
   "cell_type": "markdown",
   "metadata": {},
   "source": [
    "Calcul du Vandermonde associé au diagramme $\\gamma$, où $\\gamma$ est un partage (Partition) ou un diagramme (Diagram)."
   ]
  },
  {
   "cell_type": "code",
   "execution_count": 4,
   "metadata": {},
   "outputs": [],
   "source": [
    "def vandermonde(gamma):\n",
    "    n = gamma.size()\n",
    "    P = DiagonalPolynomialRing(QQ, n, 1, inert=1)\n",
    "    X = P.variables()\n",
    "    Theta = P.inert_variables()\n",
    "    return matrix([[x**i[1]*theta**i[0] for i in gamma.cells()] \n",
    "                   for x,theta in zip(X[0],Theta[0])]).determinant()"
   ]
  },
  {
   "cell_type": "code",
   "execution_count": 5,
   "metadata": {},
   "outputs": [
    {
     "data": {
      "text/html": [
       "<html><script type=\"math/tex; mode=display\">\\newcommand{\\Bold}[1]{\\mathbf{#1}}- x_{01} \\theta_{00} + x_{02} \\theta_{00} + x_{00} \\theta_{01} -  x_{02} \\theta_{01} -  x_{00} \\theta_{02} + x_{01} \\theta_{02}</script></html>"
      ],
      "text/plain": [
       "-x01*theta00 + x02*theta00 + x00*theta01 - x02*theta01 - x00*theta02 + x01*theta02"
      ]
     },
     "execution_count": 5,
     "metadata": {},
     "output_type": "execute_result"
    }
   ],
   "source": [
    "vandermonde(Partition([2,1]))"
   ]
  },
  {
   "cell_type": "code",
   "execution_count": 6,
   "metadata": {},
   "outputs": [
    {
     "data": {
      "text/html": [
       "<html><script type=\"math/tex; mode=display\">\\newcommand{\\Bold}[1]{\\mathbf{#1}}- x_{00}^{4} x_{01}^{2} + x_{00}^{2} x_{01}^{4} + x_{00}^{4} x_{02}^{2} -  x_{01}^{4} x_{02}^{2} -  x_{00}^{2} x_{02}^{4} + x_{01}^{2} x_{02}^{4}</script></html>"
      ],
      "text/plain": [
       "-x00^4*x01^2 + x00^2*x01^4 + x00^4*x02^2 - x01^4*x02^2 - x00^2*x02^4 + x01^2*x02^4"
      ]
     },
     "execution_count": 6,
     "metadata": {},
     "output_type": "execute_result"
    }
   ],
   "source": [
    "vandermonde(Diagram([(0,0),(2,0),(4,0)]))"
   ]
  },
  {
   "cell_type": "code",
   "execution_count": 7,
   "metadata": {},
   "outputs": [
    {
     "data": {
      "text/html": [
       "<html><script type=\"math/tex; mode=display\">\\newcommand{\\Bold}[1]{\\mathbf{#1}}6</script></html>"
      ],
      "text/plain": [
       "6"
      ]
     },
     "execution_count": 7,
     "metadata": {},
     "output_type": "execute_result"
    }
   ],
   "source": [
    "v = vandermonde(Diagram([(0,0),(2,0),(4,0)]))\n",
    "v.degree()"
   ]
  },
  {
   "cell_type": "code",
   "execution_count": 8,
   "metadata": {},
   "outputs": [
    {
     "data": {
      "text/html": [
       "<html><script type=\"math/tex; mode=display\">\\newcommand{\\Bold}[1]{\\mathbf{#1}}\\Bold{Q}[x_{00}, x_{01}, x_{02}, \\theta_{00}, \\theta_{01}, \\theta_{02}]</script></html>"
      ],
      "text/plain": [
       "Multivariate Polynomial Ring in x00, x01, x02, theta00, theta01, theta02 over Rational Field"
      ]
     },
     "execution_count": 8,
     "metadata": {},
     "output_type": "execute_result"
    }
   ],
   "source": [
    "v.parent()"
   ]
  },
  {
   "cell_type": "markdown",
   "metadata": {},
   "source": [
    "Fonctions qui nous renvoient des listes d'opérateurs par degrés pour toutes les variables (non inertes) de l'anneau de polynômes concerné."
   ]
  },
  {
   "cell_type": "code",
   "execution_count": 9,
   "metadata": {},
   "outputs": [],
   "source": [
    "def deriv(x, k=1):\n",
    "    def f(p):\n",
    "        return derivative(p, x, k)\n",
    "    return f\n",
    "\n",
    "def partial_derivatives(P):\n",
    "    n = P._n\n",
    "    r = P._r\n",
    "    D = P._grading_set\n",
    "    X = P.variables()\n",
    "    op = {}\n",
    "    for i in range(r):\n",
    "        op[D((-1 if j==i else 0 for j in range(r)))] = [deriv(X[i,k]) for k in range(n)]\n",
    "    return op\n",
    "\n",
    "def steenrod_op(P, degree=1):\n",
    "    r = P._r\n",
    "    D = P._grading_set\n",
    "    op = {}\n",
    "    for i in range(r):\n",
    "        op[D((-degree if j==i else 0 for j in range(r)))] = [functools.partial(P.steenrod_op, i=i, k=degree+1)]\n",
    "    return op\n",
    "\n",
    "def merge_dict(dict1, dict2):\n",
    "    result = dict1\n",
    "    for key, value in dict2.iteritems():\n",
    "        if key in result:\n",
    "            result[key] += value\n",
    "        else:\n",
    "            result[key] = value\n",
    "    return result"
   ]
  },
  {
   "cell_type": "markdown",
   "metadata": {},
   "source": [
    "Créaction du sous-espace engendré par un détermiant de type Vandermonde, ses dérivées partielles et les opérateurs de Steenrod de degré 1 et 2."
   ]
  },
  {
   "cell_type": "code",
   "execution_count": 58,
   "metadata": {},
   "outputs": [],
   "source": [
    "P = DiagonalPolynomialRing(QQ, 3, 1)\n",
    "v = vandermonde(Diagram([(0,0),(2,0),(4,0)]))\n",
    "generator = {P._grading_set((v.degree(),)) : [P(v)]}\n",
    "list_steenrod = merge_dict(steenrod_op(P,1), steenrod_op(P,2))\n",
    "list_op = merge_dict(partial_derivatives(P), list_steenrod)"
   ]
  },
  {
   "cell_type": "code",
   "execution_count": 59,
   "metadata": {},
   "outputs": [
    {
     "data": {
      "text/html": [
       "<html><script type=\"math/tex; mode=display\">\\newcommand{\\Bold}[1]{\\mathbf{#1}}\\left\\{\\left(0\\right) : \\left(1\\right), \\left(1\\right) : \\left(x_{00}, x_{01}, x_{02}\\right), \\left(2\\right) : \\left(x_{00} x_{02}, x_{01} x_{02}, x_{00}^{2}, x_{01}^{2}, x_{02}^{2}, x_{00} x_{01}\\right), \\left(3\\right) : \\left(x_{01} x_{02}^{2} - \\frac{1}{3} x_{02}^{3}, x_{00} x_{02}^{2} - \\frac{1}{3} x_{02}^{3}, x_{00}^{2} x_{02} - \\frac{1}{3} x_{02}^{3}, x_{00} x_{01}^{2} - \\frac{1}{3} x_{02}^{3}, x_{00}^{2} x_{01} - \\frac{1}{3} x_{02}^{3}, x_{01}^{2} x_{02} - \\frac{1}{3} x_{02}^{3}, x_{01}^{3} -  x_{02}^{3}, x_{00}^{3} -  x_{02}^{3}\\right), \\left(4\\right) : \\left(-\\frac{1}{4} x_{00}^{4} + x_{00}^{3} x_{01} -  x_{01}^{3} x_{02} + \\frac{1}{4} x_{02}^{4}, -\\frac{1}{4} x_{00}^{4} + x_{00} x_{01}^{3} -  x_{01}^{3} x_{02} + \\frac{1}{4} x_{02}^{4}, - x_{01}^{3} x_{02} + x_{01} x_{02}^{3}, -\\frac{1}{4} x_{00}^{4} + \\frac{1}{4} x_{01}^{4} + x_{00}^{3} x_{02} -  x_{01}^{3} x_{02}, -\\frac{1}{4} x_{00}^{4} + \\frac{1}{4} x_{01}^{4} -  x_{01}^{3} x_{02} + x_{00} x_{02}^{3}, \\frac{1}{6} x_{00}^{4} -  x_{00}^{2} x_{01}^{2} + x_{01}^{2} x_{02}^{2} - \\frac{1}{6} x_{02}^{4}, - x_{00}^{2} x_{01}^{2} + \\frac{1}{6} x_{01}^{4} + x_{00}^{2} x_{02}^{2} - \\frac{1}{6} x_{02}^{4}\\right), \\left(5\\right) : \\left(x_{00}^{2} x_{01}^{3} - \\frac{1}{2} x_{00} x_{01}^{4} - \\frac{1}{2} x_{00}^{4} x_{02} + \\frac{1}{2} x_{01}^{4} x_{02} -  x_{01}^{3} x_{02}^{2} + \\frac{1}{2} x_{00} x_{02}^{4}, - x_{00}^{3} x_{01}^{2} + \\frac{1}{2} x_{00} x_{01}^{4} + x_{00}^{3} x_{02}^{2} - \\frac{1}{2} x_{00} x_{02}^{4}, \\frac{1}{2} x_{00}^{4} x_{02} - \\frac{1}{2} x_{01}^{4} x_{02} -  x_{00}^{2} x_{02}^{3} + x_{01}^{2} x_{02}^{3}, x_{00}^{4} x_{01} -  x_{00} x_{01}^{4} -  x_{00}^{4} x_{02} + x_{01}^{4} x_{02} + x_{00} x_{02}^{4} -  x_{01} x_{02}^{4}\\right), \\left(6\\right) : \\left(x_{00}^{4} x_{01}^{2} -  x_{00}^{2} x_{01}^{4} -  x_{00}^{4} x_{02}^{2} + x_{01}^{4} x_{02}^{2} + x_{00}^{2} x_{02}^{4} -  x_{01}^{2} x_{02}^{4}\\right)\\right\\}</script></html>"
      ],
      "text/plain": [
       "{(0,): (1,),\n",
       " (1,): (x00, x01, x02),\n",
       " (2,): (x00*x02, x01*x02, x00^2, x01^2, x02^2, x00*x01),\n",
       " (3,): (x01*x02^2 - 1/3*x02^3,\n",
       "  x00*x02^2 - 1/3*x02^3,\n",
       "  x00^2*x02 - 1/3*x02^3,\n",
       "  x00*x01^2 - 1/3*x02^3,\n",
       "  x00^2*x01 - 1/3*x02^3,\n",
       "  x01^2*x02 - 1/3*x02^3,\n",
       "  x01^3 - x02^3,\n",
       "  x00^3 - x02^3),\n",
       " (4,): (-1/4*x00^4 + x00^3*x01 - x01^3*x02 + 1/4*x02^4,\n",
       "  -1/4*x00^4 + x00*x01^3 - x01^3*x02 + 1/4*x02^4,\n",
       "  -x01^3*x02 + x01*x02^3,\n",
       "  -1/4*x00^4 + 1/4*x01^4 + x00^3*x02 - x01^3*x02,\n",
       "  -1/4*x00^4 + 1/4*x01^4 - x01^3*x02 + x00*x02^3,\n",
       "  1/6*x00^4 - x00^2*x01^2 + x01^2*x02^2 - 1/6*x02^4,\n",
       "  -x00^2*x01^2 + 1/6*x01^4 + x00^2*x02^2 - 1/6*x02^4),\n",
       " (5,): (x00^2*x01^3 - 1/2*x00*x01^4 - 1/2*x00^4*x02 + 1/2*x01^4*x02 - x01^3*x02^2 + 1/2*x00*x02^4,\n",
       "  -x00^3*x01^2 + 1/2*x00*x01^4 + x00^3*x02^2 - 1/2*x00*x02^4,\n",
       "  1/2*x00^4*x02 - 1/2*x01^4*x02 - x00^2*x02^3 + x01^2*x02^3,\n",
       "  x00^4*x01 - x00*x01^4 - x00^4*x02 + x01^4*x02 + x00*x02^4 - x01*x02^4),\n",
       " (6,): (x00^4*x01^2 - x00^2*x01^4 - x00^4*x02^2 + x01^4*x02^2 + x00^2*x02^4 - x01^2*x02^4,)}"
      ]
     },
     "execution_count": 59,
     "metadata": {},
     "output_type": "execute_result"
    }
   ],
   "source": [
    "V1 = Subspace(generators=generator, operators=list_op, add_degrees=add_degree)\n",
    "V1.basis()"
   ]
  },
  {
   "cell_type": "markdown",
   "metadata": {},
   "source": [
    "Projection sur les composantes isotypiques.\n",
    "\n",
    "Prend en paramètre un sous-espace (Subspace) et un entier ou un partage. "
   ]
  },
  {
   "cell_type": "code",
   "execution_count": 60,
   "metadata": {},
   "outputs": [],
   "source": [
    "def isotyp(S, arg):\n",
    "    if isinstance(arg, Partition):\n",
    "        list_partitions = [arg]\n",
    "    elif isinstance(arg, Integer):\n",
    "        list_partitions = Partitions(arg)\n",
    "    \n",
    "    basis = S.basis()\n",
    "    result = {}\n",
    "    for nu in list_partitions:\n",
    "        for key, value in basis.iteritems():\n",
    "            result[(key, tuple(nu))] = Subspace(value, [functools.partial(apply_young_idempotent, t=nu)]).basis()[0]\n",
    "    return result"
   ]
  },
  {
   "cell_type": "code",
   "execution_count": 61,
   "metadata": {},
   "outputs": [
    {
     "data": {
      "text/html": [
       "<html><script type=\"math/tex; mode=display\">\\newcommand{\\Bold}[1]{\\mathbf{#1}}\\left\\{\\left(\\left(2\\right), \\left(1, 1, 1\\right)\\right) : \\left(x_{00} x_{02}, x_{01} x_{02}, x_{00}^{2}, x_{01}^{2}, x_{02}^{2}, x_{00} x_{01}\\right), \\left(\\left(6\\right), \\left(1, 1, 1\\right)\\right) : \\left(x_{00}^{4} x_{01}^{2} -  x_{00}^{2} x_{01}^{4} -  x_{00}^{4} x_{02}^{2} + x_{01}^{4} x_{02}^{2} + x_{00}^{2} x_{02}^{4} -  x_{01}^{2} x_{02}^{4}\\right), \\left(\\left(3\\right), \\left(1, 1, 1\\right)\\right) : \\left(-\\frac{1}{3} x_{00}^{3} + x_{01} x_{02}^{2}, - x_{00}^{3} + x_{02}^{3}, -\\frac{1}{3} x_{00}^{3} + x_{00} x_{02}^{2}, -\\frac{1}{3} x_{00}^{3} + x_{00}^{2} x_{02}, -\\frac{1}{3} x_{00}^{3} + x_{00} x_{01}^{2}, -\\frac{1}{3} x_{00}^{3} + x_{00}^{2} x_{01}, -\\frac{1}{3} x_{00}^{3} + x_{01}^{2} x_{02}, - x_{00}^{3} + x_{01}^{3}\\right), \\left(\\left(5\\right), \\left(1, 1, 1\\right)\\right) : \\left(-\\frac{1}{2} x_{00}^{4} x_{01} + x_{00}^{2} x_{01}^{3} -  x_{01}^{3} x_{02}^{2} + \\frac{1}{2} x_{01} x_{02}^{4}, x_{00}^{4} x_{01} -  x_{00} x_{01}^{4} - 2 x_{00}^{2} x_{02}^{3} + 2 x_{01}^{2} x_{02}^{3} + x_{00} x_{02}^{4} -  x_{01} x_{02}^{4}, - x_{00}^{4} x_{02} + x_{01}^{4} x_{02} + 2 x_{00}^{2} x_{02}^{3} - 2 x_{01}^{2} x_{02}^{3}, -\\frac{1}{2} x_{00}^{4} x_{01} + x_{00}^{3} x_{01}^{2} -  x_{00}^{3} x_{02}^{2} + x_{00}^{2} x_{02}^{3} -  x_{01}^{2} x_{02}^{3} + \\frac{1}{2} x_{01} x_{02}^{4}\\right), \\left(\\left(0\\right), \\left(1, 1, 1\\right)\\right) : \\left(1\\right), \\left(\\left(1\\right), \\left(1, 1, 1\\right)\\right) : \\left(x_{00}, x_{01}, x_{02}\\right), \\left(\\left(4\\right), \\left(1, 1, 1\\right)\\right) : \\left(x_{01}^{3} x_{02} + \\frac{3}{2} x_{00}^{2} x_{02}^{2} - \\frac{3}{2} x_{01}^{2} x_{02}^{2} -  x_{00} x_{02}^{3}, x_{00}^{3} x_{01} - \\frac{3}{2} x_{00}^{2} x_{01}^{2} + \\frac{3}{2} x_{00}^{2} x_{02}^{2} -  x_{00} x_{02}^{3}, 6 x_{00}^{2} x_{01}^{2} -  x_{01}^{4} - 6 x_{00}^{2} x_{02}^{2} + x_{02}^{4}, x_{00}^{4} -  x_{01}^{4} - 6 x_{00}^{2} x_{02}^{2} + 6 x_{01}^{2} x_{02}^{2}, -\\frac{3}{2} x_{00}^{2} x_{01}^{2} + x_{00} x_{01}^{3} + \\frac{3}{2} x_{00}^{2} x_{02}^{2} -  x_{00} x_{02}^{3}, \\frac{3}{2} x_{00}^{2} x_{02}^{2} - \\frac{3}{2} x_{01}^{2} x_{02}^{2} -  x_{00} x_{02}^{3} + x_{01} x_{02}^{3}, x_{00}^{3} x_{02} -  x_{00} x_{02}^{3}\\right)\\right\\}</script></html>"
      ],
      "text/plain": [
       "{((2,), (1, 1, 1)): (x00*x02, x01*x02, x00^2, x01^2, x02^2, x00*x01),\n",
       " ((6,),\n",
       "  (1,\n",
       "   1,\n",
       "   1)): (x00^4*x01^2 - x00^2*x01^4 - x00^4*x02^2 + x01^4*x02^2 + x00^2*x02^4 - x01^2*x02^4,),\n",
       " ((3,), (1, 1, 1)): (-1/3*x00^3 + x01*x02^2,\n",
       "  -x00^3 + x02^3,\n",
       "  -1/3*x00^3 + x00*x02^2,\n",
       "  -1/3*x00^3 + x00^2*x02,\n",
       "  -1/3*x00^3 + x00*x01^2,\n",
       "  -1/3*x00^3 + x00^2*x01,\n",
       "  -1/3*x00^3 + x01^2*x02,\n",
       "  -x00^3 + x01^3),\n",
       " ((5,),\n",
       "  (1,\n",
       "   1,\n",
       "   1)): (-1/2*x00^4*x01 + x00^2*x01^3 - x01^3*x02^2 + 1/2*x01*x02^4, x00^4*x01 - x00*x01^4 - 2*x00^2*x02^3 + 2*x01^2*x02^3 + x00*x02^4 - x01*x02^4, -x00^4*x02 + x01^4*x02 + 2*x00^2*x02^3 - 2*x01^2*x02^3, -1/2*x00^4*x01 + x00^3*x01^2 - x00^3*x02^2 + x00^2*x02^3 - x01^2*x02^3 + 1/2*x01*x02^4),\n",
       " ((0,), (1, 1, 1)): (1,),\n",
       " ((1,), (1, 1, 1)): (x00, x01, x02),\n",
       " ((4,), (1, 1, 1)): (x01^3*x02 + 3/2*x00^2*x02^2 - 3/2*x01^2*x02^2 - x00*x02^3,\n",
       "  x00^3*x01 - 3/2*x00^2*x01^2 + 3/2*x00^2*x02^2 - x00*x02^3,\n",
       "  6*x00^2*x01^2 - x01^4 - 6*x00^2*x02^2 + x02^4,\n",
       "  x00^4 - x01^4 - 6*x00^2*x02^2 + 6*x01^2*x02^2,\n",
       "  -3/2*x00^2*x01^2 + x00*x01^3 + 3/2*x00^2*x02^2 - x00*x02^3,\n",
       "  3/2*x00^2*x02^2 - 3/2*x01^2*x02^2 - x00*x02^3 + x01*x02^3,\n",
       "  x00^3*x02 - x00*x02^3)}"
      ]
     },
     "execution_count": 61,
     "metadata": {},
     "output_type": "execute_result"
    }
   ],
   "source": [
    "isotyp(V1, Partition([1,1,1]))"
   ]
  },
  {
   "cell_type": "code",
   "execution_count": 62,
   "metadata": {},
   "outputs": [
    {
     "data": {
      "text/html": [
       "<html><script type=\"math/tex; mode=display\">\\newcommand{\\Bold}[1]{\\mathbf{#1}}\\left\\{\\left(\\left(4\\right), \\left(3\\right)\\right) : \\left(x_{01}^{3} x_{02} + \\frac{3}{2} x_{00}^{2} x_{02}^{2} - \\frac{3}{2} x_{01}^{2} x_{02}^{2} -  x_{00} x_{02}^{3}, x_{00}^{3} x_{01} - \\frac{3}{2} x_{00}^{2} x_{01}^{2} + \\frac{3}{2} x_{00}^{2} x_{02}^{2} -  x_{00} x_{02}^{3}, 6 x_{00}^{2} x_{01}^{2} -  x_{01}^{4} - 6 x_{00}^{2} x_{02}^{2} + x_{02}^{4}, x_{00}^{4} -  x_{01}^{4} - 6 x_{00}^{2} x_{02}^{2} + 6 x_{01}^{2} x_{02}^{2}, -\\frac{3}{2} x_{00}^{2} x_{01}^{2} + x_{00} x_{01}^{3} + \\frac{3}{2} x_{00}^{2} x_{02}^{2} -  x_{00} x_{02}^{3}, \\frac{3}{2} x_{00}^{2} x_{02}^{2} - \\frac{3}{2} x_{01}^{2} x_{02}^{2} -  x_{00} x_{02}^{3} + x_{01} x_{02}^{3}, x_{00}^{3} x_{02} -  x_{00} x_{02}^{3}\\right), \\left(\\left(6\\right), \\left(2, 1\\right)\\right) : \\left(x_{00}^{4} x_{01}^{2} -  x_{00}^{2} x_{01}^{4} -  x_{00}^{4} x_{02}^{2} + x_{01}^{4} x_{02}^{2} + x_{00}^{2} x_{02}^{4} -  x_{01}^{2} x_{02}^{4}\\right), \\left(\\left(6\\right), \\left(1, 1, 1\\right)\\right) : \\left(x_{00}^{4} x_{01}^{2} -  x_{00}^{2} x_{01}^{4} -  x_{00}^{4} x_{02}^{2} + x_{01}^{4} x_{02}^{2} + x_{00}^{2} x_{02}^{4} -  x_{01}^{2} x_{02}^{4}\\right), \\left(\\left(2\\right), \\left(2, 1\\right)\\right) : \\left(x_{00} x_{02}, x_{01} x_{02}, x_{00}^{2}, x_{01}^{2}, x_{02}^{2}, x_{00} x_{01}\\right), \\left(\\left(0\\right), \\left(3\\right)\\right) : \\left(1\\right), \\left(\\left(5\\right), \\left(3\\right)\\right) : \\left(-\\frac{1}{2} x_{00}^{4} x_{01} + x_{00}^{2} x_{01}^{3} -  x_{01}^{3} x_{02}^{2} + \\frac{1}{2} x_{01} x_{02}^{4}, x_{00}^{4} x_{01} -  x_{00} x_{01}^{4} - 2 x_{00}^{2} x_{02}^{3} + 2 x_{01}^{2} x_{02}^{3} + x_{00} x_{02}^{4} -  x_{01} x_{02}^{4}, - x_{00}^{4} x_{02} + x_{01}^{4} x_{02} + 2 x_{00}^{2} x_{02}^{3} - 2 x_{01}^{2} x_{02}^{3}, -\\frac{1}{2} x_{00}^{4} x_{01} + x_{00}^{3} x_{01}^{2} -  x_{00}^{3} x_{02}^{2} + x_{00}^{2} x_{02}^{3} -  x_{01}^{2} x_{02}^{3} + \\frac{1}{2} x_{01} x_{02}^{4}\\right), \\left(\\left(5\\right), \\left(2, 1\\right)\\right) : \\left(-\\frac{1}{2} x_{00}^{4} x_{01} + x_{00}^{2} x_{01}^{3} -  x_{01}^{3} x_{02}^{2} + \\frac{1}{2} x_{01} x_{02}^{4}, x_{00}^{4} x_{01} -  x_{00} x_{01}^{4} - 2 x_{00}^{2} x_{02}^{3} + 2 x_{01}^{2} x_{02}^{3} + x_{00} x_{02}^{4} -  x_{01} x_{02}^{4}, - x_{00}^{4} x_{02} + x_{01}^{4} x_{02} + 2 x_{00}^{2} x_{02}^{3} - 2 x_{01}^{2} x_{02}^{3}, -\\frac{1}{2} x_{00}^{4} x_{01} + x_{00}^{3} x_{01}^{2} -  x_{00}^{3} x_{02}^{2} + x_{00}^{2} x_{02}^{3} -  x_{01}^{2} x_{02}^{3} + \\frac{1}{2} x_{01} x_{02}^{4}\\right), \\left(\\left(3\\right), \\left(1, 1, 1\\right)\\right) : \\left(-\\frac{1}{3} x_{00}^{3} + x_{01} x_{02}^{2}, - x_{00}^{3} + x_{02}^{3}, -\\frac{1}{3} x_{00}^{3} + x_{00} x_{02}^{2}, -\\frac{1}{3} x_{00}^{3} + x_{00}^{2} x_{02}, -\\frac{1}{3} x_{00}^{3} + x_{00} x_{01}^{2}, -\\frac{1}{3} x_{00}^{3} + x_{00}^{2} x_{01}, -\\frac{1}{3} x_{00}^{3} + x_{01}^{2} x_{02}, - x_{00}^{3} + x_{01}^{3}\\right), \\left(\\left(3\\right), \\left(3\\right)\\right) : \\left(-\\frac{1}{3} x_{00}^{3} + x_{01} x_{02}^{2}, - x_{00}^{3} + x_{02}^{3}, -\\frac{1}{3} x_{00}^{3} + x_{00} x_{02}^{2}, -\\frac{1}{3} x_{00}^{3} + x_{00}^{2} x_{02}, -\\frac{1}{3} x_{00}^{3} + x_{00} x_{01}^{2}, -\\frac{1}{3} x_{00}^{3} + x_{00}^{2} x_{01}, -\\frac{1}{3} x_{00}^{3} + x_{01}^{2} x_{02}, - x_{00}^{3} + x_{01}^{3}\\right), \\left(\\left(0\\right), \\left(1, 1, 1\\right)\\right) : \\left(1\\right), \\left(\\left(4\\right), \\left(1, 1, 1\\right)\\right) : \\left(x_{01}^{3} x_{02} + \\frac{3}{2} x_{00}^{2} x_{02}^{2} - \\frac{3}{2} x_{01}^{2} x_{02}^{2} -  x_{00} x_{02}^{3}, x_{00}^{3} x_{01} - \\frac{3}{2} x_{00}^{2} x_{01}^{2} + \\frac{3}{2} x_{00}^{2} x_{02}^{2} -  x_{00} x_{02}^{3}, 6 x_{00}^{2} x_{01}^{2} -  x_{01}^{4} - 6 x_{00}^{2} x_{02}^{2} + x_{02}^{4}, x_{00}^{4} -  x_{01}^{4} - 6 x_{00}^{2} x_{02}^{2} + 6 x_{01}^{2} x_{02}^{2}, -\\frac{3}{2} x_{00}^{2} x_{01}^{2} + x_{00} x_{01}^{3} + \\frac{3}{2} x_{00}^{2} x_{02}^{2} -  x_{00} x_{02}^{3}, \\frac{3}{2} x_{00}^{2} x_{02}^{2} - \\frac{3}{2} x_{01}^{2} x_{02}^{2} -  x_{00} x_{02}^{3} + x_{01} x_{02}^{3}, x_{00}^{3} x_{02} -  x_{00} x_{02}^{3}\\right), \\left(\\left(5\\right), \\left(1, 1, 1\\right)\\right) : \\left(-\\frac{1}{2} x_{00}^{4} x_{01} + x_{00}^{2} x_{01}^{3} -  x_{01}^{3} x_{02}^{2} + \\frac{1}{2} x_{01} x_{02}^{4}, x_{00}^{4} x_{01} -  x_{00} x_{01}^{4} - 2 x_{00}^{2} x_{02}^{3} + 2 x_{01}^{2} x_{02}^{3} + x_{00} x_{02}^{4} -  x_{01} x_{02}^{4}, - x_{00}^{4} x_{02} + x_{01}^{4} x_{02} + 2 x_{00}^{2} x_{02}^{3} - 2 x_{01}^{2} x_{02}^{3}, -\\frac{1}{2} x_{00}^{4} x_{01} + x_{00}^{3} x_{01}^{2} -  x_{00}^{3} x_{02}^{2} + x_{00}^{2} x_{02}^{3} -  x_{01}^{2} x_{02}^{3} + \\frac{1}{2} x_{01} x_{02}^{4}\\right), \\left(\\left(0\\right), \\left(2, 1\\right)\\right) : \\left(1\\right), \\left(\\left(2\\right), \\left(1, 1, 1\\right)\\right) : \\left(x_{00} x_{02}, x_{01} x_{02}, x_{00}^{2}, x_{01}^{2}, x_{02}^{2}, x_{00} x_{01}\\right), \\left(\\left(1\\right), \\left(3\\right)\\right) : \\left(x_{00}, x_{01}, x_{02}\\right), \\left(\\left(6\\right), \\left(3\\right)\\right) : \\left(x_{00}^{4} x_{01}^{2} -  x_{00}^{2} x_{01}^{4} -  x_{00}^{4} x_{02}^{2} + x_{01}^{4} x_{02}^{2} + x_{00}^{2} x_{02}^{4} -  x_{01}^{2} x_{02}^{4}\\right), \\left(\\left(1\\right), \\left(1, 1, 1\\right)\\right) : \\left(x_{00}, x_{01}, x_{02}\\right), \\left(\\left(3\\right), \\left(2, 1\\right)\\right) : \\left(-\\frac{1}{3} x_{00}^{3} + x_{01} x_{02}^{2}, - x_{00}^{3} + x_{02}^{3}, -\\frac{1}{3} x_{00}^{3} + x_{00} x_{02}^{2}, -\\frac{1}{3} x_{00}^{3} + x_{00}^{2} x_{02}, -\\frac{1}{3} x_{00}^{3} + x_{00} x_{01}^{2}, -\\frac{1}{3} x_{00}^{3} + x_{00}^{2} x_{01}, -\\frac{1}{3} x_{00}^{3} + x_{01}^{2} x_{02}, - x_{00}^{3} + x_{01}^{3}\\right), \\left(\\left(4\\right), \\left(2, 1\\right)\\right) : \\left(x_{01}^{3} x_{02} + \\frac{3}{2} x_{00}^{2} x_{02}^{2} - \\frac{3}{2} x_{01}^{2} x_{02}^{2} -  x_{00} x_{02}^{3}, x_{00}^{3} x_{01} - \\frac{3}{2} x_{00}^{2} x_{01}^{2} + \\frac{3}{2} x_{00}^{2} x_{02}^{2} -  x_{00} x_{02}^{3}, 6 x_{00}^{2} x_{01}^{2} -  x_{01}^{4} - 6 x_{00}^{2} x_{02}^{2} + x_{02}^{4}, x_{00}^{4} -  x_{01}^{4} - 6 x_{00}^{2} x_{02}^{2} + 6 x_{01}^{2} x_{02}^{2}, -\\frac{3}{2} x_{00}^{2} x_{01}^{2} + x_{00} x_{01}^{3} + \\frac{3}{2} x_{00}^{2} x_{02}^{2} -  x_{00} x_{02}^{3}, \\frac{3}{2} x_{00}^{2} x_{02}^{2} - \\frac{3}{2} x_{01}^{2} x_{02}^{2} -  x_{00} x_{02}^{3} + x_{01} x_{02}^{3}, x_{00}^{3} x_{02} -  x_{00} x_{02}^{3}\\right), \\left(\\left(2\\right), \\left(3\\right)\\right) : \\left(x_{00} x_{02}, x_{01} x_{02}, x_{00}^{2}, x_{01}^{2}, x_{02}^{2}, x_{00} x_{01}\\right), \\left(\\left(1\\right), \\left(2, 1\\right)\\right) : \\left(x_{00}, x_{01}, x_{02}\\right)\\right\\}</script></html>"
      ],
      "text/plain": [
       "{((4,), (3,)): (x01^3*x02 + 3/2*x00^2*x02^2 - 3/2*x01^2*x02^2 - x00*x02^3,\n",
       "  x00^3*x01 - 3/2*x00^2*x01^2 + 3/2*x00^2*x02^2 - x00*x02^3,\n",
       "  6*x00^2*x01^2 - x01^4 - 6*x00^2*x02^2 + x02^4,\n",
       "  x00^4 - x01^4 - 6*x00^2*x02^2 + 6*x01^2*x02^2,\n",
       "  -3/2*x00^2*x01^2 + x00*x01^3 + 3/2*x00^2*x02^2 - x00*x02^3,\n",
       "  3/2*x00^2*x02^2 - 3/2*x01^2*x02^2 - x00*x02^3 + x01*x02^3,\n",
       "  x00^3*x02 - x00*x02^3),\n",
       " ((6,),\n",
       "  (1,\n",
       "   1,\n",
       "   1)): (x00^4*x01^2 - x00^2*x01^4 - x00^4*x02^2 + x01^4*x02^2 + x00^2*x02^4 - x01^2*x02^4,),\n",
       " ((6,),\n",
       "  (2,\n",
       "   1)): (x00^4*x01^2 - x00^2*x01^4 - x00^4*x02^2 + x01^4*x02^2 + x00^2*x02^4 - x01^2*x02^4,),\n",
       " ((2,), (2, 1)): (x00*x02, x01*x02, x00^2, x01^2, x02^2, x00*x01),\n",
       " ((0,), (1, 1, 1)): (1,),\n",
       " ((0,), (3,)): (1,),\n",
       " ((5,), (2, 1)): (-1/2*x00^4*x01 + x00^2*x01^3 - x01^3*x02^2 + 1/2*x01*x02^4,\n",
       "  x00^4*x01 - x00*x01^4 - 2*x00^2*x02^3 + 2*x01^2*x02^3 + x00*x02^4 - x01*x02^4,\n",
       "  -x00^4*x02 + x01^4*x02 + 2*x00^2*x02^3 - 2*x01^2*x02^3,\n",
       "  -1/2*x00^4*x01 + x00^3*x01^2 - x00^3*x02^2 + x00^2*x02^3 - x01^2*x02^3 + 1/2*x01*x02^4),\n",
       " ((5,), (3,)): (-1/2*x00^4*x01 + x00^2*x01^3 - x01^3*x02^2 + 1/2*x01*x02^4,\n",
       "  x00^4*x01 - x00*x01^4 - 2*x00^2*x02^3 + 2*x01^2*x02^3 + x00*x02^4 - x01*x02^4,\n",
       "  -x00^4*x02 + x01^4*x02 + 2*x00^2*x02^3 - 2*x01^2*x02^3,\n",
       "  -1/2*x00^4*x01 + x00^3*x01^2 - x00^3*x02^2 + x00^2*x02^3 - x01^2*x02^3 + 1/2*x01*x02^4),\n",
       " ((3,), (1, 1, 1)): (-1/3*x00^3 + x01*x02^2,\n",
       "  -x00^3 + x02^3,\n",
       "  -1/3*x00^3 + x00*x02^2,\n",
       "  -1/3*x00^3 + x00^2*x02,\n",
       "  -1/3*x00^3 + x00*x01^2,\n",
       "  -1/3*x00^3 + x00^2*x01,\n",
       "  -1/3*x00^3 + x01^2*x02,\n",
       "  -x00^3 + x01^3),\n",
       " ((3,), (3,)): (-1/3*x00^3 + x01*x02^2,\n",
       "  -x00^3 + x02^3,\n",
       "  -1/3*x00^3 + x00*x02^2,\n",
       "  -1/3*x00^3 + x00^2*x02,\n",
       "  -1/3*x00^3 + x00*x01^2,\n",
       "  -1/3*x00^3 + x00^2*x01,\n",
       "  -1/3*x00^3 + x01^2*x02,\n",
       "  -x00^3 + x01^3),\n",
       " ((4,), (1, 1, 1)): (x01^3*x02 + 3/2*x00^2*x02^2 - 3/2*x01^2*x02^2 - x00*x02^3,\n",
       "  x00^3*x01 - 3/2*x00^2*x01^2 + 3/2*x00^2*x02^2 - x00*x02^3,\n",
       "  6*x00^2*x01^2 - x01^4 - 6*x00^2*x02^2 + x02^4,\n",
       "  x00^4 - x01^4 - 6*x00^2*x02^2 + 6*x01^2*x02^2,\n",
       "  -3/2*x00^2*x01^2 + x00*x01^3 + 3/2*x00^2*x02^2 - x00*x02^3,\n",
       "  3/2*x00^2*x02^2 - 3/2*x01^2*x02^2 - x00*x02^3 + x01*x02^3,\n",
       "  x00^3*x02 - x00*x02^3),\n",
       " ((5,),\n",
       "  (1,\n",
       "   1,\n",
       "   1)): (-1/2*x00^4*x01 + x00^2*x01^3 - x01^3*x02^2 + 1/2*x01*x02^4, x00^4*x01 - x00*x01^4 - 2*x00^2*x02^3 + 2*x01^2*x02^3 + x00*x02^4 - x01*x02^4, -x00^4*x02 + x01^4*x02 + 2*x00^2*x02^3 - 2*x01^2*x02^3, -1/2*x00^4*x01 + x00^3*x01^2 - x00^3*x02^2 + x00^2*x02^3 - x01^2*x02^3 + 1/2*x01*x02^4),\n",
       " ((0,), (2, 1)): (1,),\n",
       " ((2,), (1, 1, 1)): (x00*x02, x01*x02, x00^2, x01^2, x02^2, x00*x01),\n",
       " ((1,), (1, 1, 1)): (x00, x01, x02),\n",
       " ((1,), (2, 1)): (x00, x01, x02),\n",
       " ((1,), (3,)): (x00, x01, x02),\n",
       " ((6,),\n",
       "  (3,)): (x00^4*x01^2 - x00^2*x01^4 - x00^4*x02^2 + x01^4*x02^2 + x00^2*x02^4 - x01^2*x02^4,),\n",
       " ((3,), (2, 1)): (-1/3*x00^3 + x01*x02^2,\n",
       "  -x00^3 + x02^3,\n",
       "  -1/3*x00^3 + x00*x02^2,\n",
       "  -1/3*x00^3 + x00^2*x02,\n",
       "  -1/3*x00^3 + x00*x01^2,\n",
       "  -1/3*x00^3 + x00^2*x01,\n",
       "  -1/3*x00^3 + x01^2*x02,\n",
       "  -x00^3 + x01^3),\n",
       " ((4,), (2, 1)): (x01^3*x02 + 3/2*x00^2*x02^2 - 3/2*x01^2*x02^2 - x00*x02^3,\n",
       "  x00^3*x01 - 3/2*x00^2*x01^2 + 3/2*x00^2*x02^2 - x00*x02^3,\n",
       "  6*x00^2*x01^2 - x01^4 - 6*x00^2*x02^2 + x02^4,\n",
       "  x00^4 - x01^4 - 6*x00^2*x02^2 + 6*x01^2*x02^2,\n",
       "  -3/2*x00^2*x01^2 + x00*x01^3 + 3/2*x00^2*x02^2 - x00*x02^3,\n",
       "  3/2*x00^2*x02^2 - 3/2*x01^2*x02^2 - x00*x02^3 + x01*x02^3,\n",
       "  x00^3*x02 - x00*x02^3),\n",
       " ((2,), (3,)): (x00*x02, x01*x02, x00^2, x01^2, x02^2, x00*x01)}"
      ]
     },
     "execution_count": 62,
     "metadata": {},
     "output_type": "execute_result"
    }
   ],
   "source": [
    "isotyp(V1, 3)"
   ]
  },
  {
   "cell_type": "code",
   "execution_count": 56,
   "metadata": {},
   "outputs": [
    {
     "data": {
      "text/html": [
       "<html><script type=\"math/tex; mode=display\">\\newcommand{\\Bold}[1]{\\mathbf{#1}}\\left\\{\\left(-1, 1\\right) : \\left[\\verb|<functools.partial|\\phantom{\\verb!x!}\\verb|object|\\phantom{\\verb!x!}\\verb|at|\\phantom{\\verb!x!}\\verb|0x7ff0d86f1418>|\\right], \\left(1, -1\\right) : \\left[\\verb|<functools.partial|\\phantom{\\verb!x!}\\verb|object|\\phantom{\\verb!x!}\\verb|at|\\phantom{\\verb!x!}\\verb|0x7ff0d858caa0>|\\right]\\right\\}</script></html>"
      ],
      "text/plain": [
       "{(-1, 1): [<functools.partial object at 0x7ff0d86f1418>],\n",
       " (1, -1): [<functools.partial object at 0x7ff0d858caa0>]}"
      ]
     },
     "execution_count": 56,
     "metadata": {},
     "output_type": "execute_result"
    }
   ],
   "source": [
    "polarization_operators_by_multidegree(P)"
   ]
  },
  {
   "cell_type": "code",
   "execution_count": 52,
   "metadata": {},
   "outputs": [
    {
     "data": {
      "text/html": [
       "<html><script type=\"math/tex; mode=display\">\\newcommand{\\Bold}[1]{\\mathbf{#1}}\\left\\{\\left(-1, 1\\right) : \\left[\\verb|<functools.partial|\\phantom{\\verb!x!}\\verb|object|\\phantom{\\verb!x!}\\verb|at|\\phantom{\\verb!x!}\\verb|0x7ff0d86f1470>|\\right], \\left(1, -1\\right) : \\left[\\verb|<functools.partial|\\phantom{\\verb!x!}\\verb|object|\\phantom{\\verb!x!}\\verb|at|\\phantom{\\verb!x!}\\verb|0x7ff0d86f1af8>|\\right]\\right\\}</script></html>"
      ],
      "text/plain": [
       "{(-1, 1): [<functools.partial object at 0x7ff0d86f1470>],\n",
       " (1, -1): [<functools.partial object at 0x7ff0d86f1af8>]}"
      ]
     },
     "execution_count": 52,
     "metadata": {},
     "output_type": "execute_result"
    }
   ],
   "source": [
    "P = DiagonalPolynomialRing(QQ, 3, 2)\n",
    "polarization_operators_by_multidegree(P)"
   ]
  },
  {
   "cell_type": "code",
   "execution_count": 83,
   "metadata": {},
   "outputs": [],
   "source": [
    "def add_degrees_isotypic(gen_deg, op_deg):\n",
    "    D = cartesian_product([ZZ for i in range(len(gen_deg[0]))])\n",
    "    return D(gen_deg[0])+D(op_deg), gen_deg[1]\n",
    "    \n",
    "def polarizedSpace(pol_ring, basis, operators):\n",
    "    n = pol_ring._n\n",
    "    generators = {}\n",
    "    for key, value in basis.iteritems():\n",
    "        generators[key] = [P(b) for b in value]\n",
    "    return Subspace(generators, operators, add_degrees=add_degrees_isotypic)"
   ]
  },
  {
   "cell_type": "code",
   "execution_count": 85,
   "metadata": {},
   "outputs": [],
   "source": [
    "list_steenrod = merge_dict(steenrod_op(P,1), steenrod_op(P,2))\n",
    "op_pol = merge_dict(polarization_operators_by_multidegree(P), list_steenrod)\n",
    "V2 = polarizedSpace(P, isotyp(V1, 3), op_pol)"
   ]
  },
  {
   "cell_type": "code",
   "execution_count": 86,
   "metadata": {},
   "outputs": [
    {
     "data": {
      "text/html": [
       "<html><script type=\"math/tex; mode=display\">\\newcommand{\\Bold}[1]{\\mathbf{#1}}\\left\\{\\left(\\left(4\\right), \\left(3\\right)\\right) : \\left(x_{01}^{3} x_{02} -  x_{01} x_{02}^{3}, - x_{00}^{2} x_{01}^{2} + \\frac{2}{3} x_{00} x_{01}^{3} - \\frac{2}{3} x_{00}^{3} x_{02} + x_{00}^{2} x_{02}^{2}, - x_{00}^{3} x_{02} + x_{00} x_{02}^{3}, - x_{00}^{2} x_{01}^{2} + \\frac{2}{3} x_{00} x_{01}^{3} + x_{01}^{2} x_{02}^{2} - \\frac{2}{3} x_{01} x_{02}^{3}, x_{00}^{3} x_{01} -  x_{00} x_{01}^{3}, - x_{00}^{4} + x_{01}^{4} + 4 x_{00}^{3} x_{02} - 4 x_{01} x_{02}^{3}, - x_{00}^{4} + 4 x_{00} x_{01}^{3} - 4 x_{01} x_{02}^{3} + x_{02}^{4}\\right), \\left(\\left(2\\right), \\left(1, 1, 1\\right)\\right) : \\left(x_{00} x_{02}, x_{01} x_{02}, x_{00}^{2}, x_{01}^{2}, x_{02}^{2}, x_{00} x_{01}\\right), \\left(\\left(6\\right), \\left(1, 1, 1\\right)\\right) : \\left(x_{00}^{4} x_{01}^{2} -  x_{00}^{2} x_{01}^{4} -  x_{00}^{4} x_{02}^{2} + x_{01}^{4} x_{02}^{2} + x_{00}^{2} x_{02}^{4} -  x_{01}^{2} x_{02}^{4}\\right), \\left(\\left(3\\right), \\left(3\\right)\\right) : \\left(-\\frac{1}{3} x_{01}^{3} + x_{01} x_{02}^{2}, x_{00}^{3} -  x_{01}^{3}, - x_{01}^{3} + x_{02}^{3}, -\\frac{1}{3} x_{01}^{3} + x_{00} x_{02}^{2}, -\\frac{1}{3} x_{01}^{3} + x_{00}^{2} x_{02}, x_{00} x_{01}^{2} - \\frac{1}{3} x_{01}^{3}, x_{00}^{2} x_{01} - \\frac{1}{3} x_{01}^{3}, -\\frac{1}{3} x_{01}^{3} + x_{01}^{2} x_{02}\\right), \\left(\\left(2\\right), \\left(2, 1\\right)\\right) : \\left(x_{00} x_{02}, x_{01} x_{02}, x_{00}^{2}, x_{01}^{2}, x_{02}^{2}, x_{00} x_{01}\\right), \\left(\\left(3\\right), \\left(2, 1\\right)\\right) : \\left(-\\frac{1}{3} x_{01}^{3} + x_{01} x_{02}^{2}, x_{00}^{3} -  x_{01}^{3}, - x_{01}^{3} + x_{02}^{3}, -\\frac{1}{3} x_{01}^{3} + x_{00} x_{02}^{2}, -\\frac{1}{3} x_{01}^{3} + x_{00}^{2} x_{02}, x_{00} x_{01}^{2} - \\frac{1}{3} x_{01}^{3}, x_{00}^{2} x_{01} - \\frac{1}{3} x_{01}^{3}, -\\frac{1}{3} x_{01}^{3} + x_{01}^{2} x_{02}\\right), \\left(\\left(5\\right), \\left(3\\right)\\right) : \\left(- x_{00}^{3} x_{01}^{2} + x_{00}^{2} x_{01}^{3} - \\frac{1}{2} x_{00}^{4} x_{02} + \\frac{1}{2} x_{01}^{4} x_{02} + x_{00}^{3} x_{02}^{2} -  x_{01}^{3} x_{02}^{2}, x_{00}^{4} x_{01} - 2 x_{00}^{3} x_{01}^{2} -  x_{00}^{4} x_{02} + x_{01}^{4} x_{02} + 2 x_{00}^{3} x_{02}^{2} -  x_{01} x_{02}^{4}, -\\frac{1}{2} x_{00}^{4} x_{02} + \\frac{1}{2} x_{01}^{4} x_{02} + x_{00}^{2} x_{02}^{3} -  x_{01}^{2} x_{02}^{3}, 2 x_{00}^{3} x_{01}^{2} -  x_{00} x_{01}^{4} - 2 x_{00}^{3} x_{02}^{2} + x_{00} x_{02}^{4}\\right), \\left(\\left(6\\right), \\left(3\\right)\\right) : \\left(x_{00}^{4} x_{01}^{2} -  x_{00}^{2} x_{01}^{4} -  x_{00}^{4} x_{02}^{2} + x_{01}^{4} x_{02}^{2} + x_{00}^{2} x_{02}^{4} -  x_{01}^{2} x_{02}^{4}\\right), \\left(\\left(3\\right), \\left(1, 1, 1\\right)\\right) : \\left(-\\frac{1}{3} x_{01}^{3} + x_{01} x_{02}^{2}, x_{00}^{3} -  x_{01}^{3}, - x_{01}^{3} + x_{02}^{3}, -\\frac{1}{3} x_{01}^{3} + x_{00} x_{02}^{2}, -\\frac{1}{3} x_{01}^{3} + x_{00}^{2} x_{02}, x_{00} x_{01}^{2} - \\frac{1}{3} x_{01}^{3}, x_{00}^{2} x_{01} - \\frac{1}{3} x_{01}^{3}, -\\frac{1}{3} x_{01}^{3} + x_{01}^{2} x_{02}\\right), \\left(\\left(5\\right), \\left(2, 1\\right)\\right) : \\left(- x_{00}^{3} x_{01}^{2} + x_{00}^{2} x_{01}^{3} - \\frac{1}{2} x_{00}^{4} x_{02} + \\frac{1}{2} x_{01}^{4} x_{02} + x_{00}^{3} x_{02}^{2} -  x_{01}^{3} x_{02}^{2}, x_{00}^{4} x_{01} - 2 x_{00}^{3} x_{01}^{2} -  x_{00}^{4} x_{02} + x_{01}^{4} x_{02} + 2 x_{00}^{3} x_{02}^{2} -  x_{01} x_{02}^{4}, -\\frac{1}{2} x_{00}^{4} x_{02} + \\frac{1}{2} x_{01}^{4} x_{02} + x_{00}^{2} x_{02}^{3} -  x_{01}^{2} x_{02}^{3}, 2 x_{00}^{3} x_{01}^{2} -  x_{00} x_{01}^{4} - 2 x_{00}^{3} x_{02}^{2} + x_{00} x_{02}^{4}\\right), \\left(\\left(5\\right), \\left(1, 1, 1\\right)\\right) : \\left(- x_{00}^{3} x_{01}^{2} + x_{00}^{2} x_{01}^{3} - \\frac{1}{2} x_{00}^{4} x_{02} + \\frac{1}{2} x_{01}^{4} x_{02} + x_{00}^{3} x_{02}^{2} -  x_{01}^{3} x_{02}^{2}, x_{00}^{4} x_{01} - 2 x_{00}^{3} x_{01}^{2} -  x_{00}^{4} x_{02} + x_{01}^{4} x_{02} + 2 x_{00}^{3} x_{02}^{2} -  x_{01} x_{02}^{4}, -\\frac{1}{2} x_{00}^{4} x_{02} + \\frac{1}{2} x_{01}^{4} x_{02} + x_{00}^{2} x_{02}^{3} -  x_{01}^{2} x_{02}^{3}, 2 x_{00}^{3} x_{01}^{2} -  x_{00} x_{01}^{4} - 2 x_{00}^{3} x_{02}^{2} + x_{00} x_{02}^{4}\\right), \\left(\\left(0\\right), \\left(3\\right)\\right) : \\left(1\\right), \\left(\\left(2\\right), \\left(3\\right)\\right) : \\left(x_{00} x_{02}, x_{01} x_{02}, x_{00}^{2}, x_{01}^{2}, x_{02}^{2}, x_{00} x_{01}\\right), \\left(\\left(0\\right), \\left(2, 1\\right)\\right) : \\left(1\\right), \\left(\\left(6\\right), \\left(2, 1\\right)\\right) : \\left(x_{00}^{4} x_{01}^{2} -  x_{00}^{2} x_{01}^{4} -  x_{00}^{4} x_{02}^{2} + x_{01}^{4} x_{02}^{2} + x_{00}^{2} x_{02}^{4} -  x_{01}^{2} x_{02}^{4}\\right), \\left(\\left(1\\right), \\left(3\\right)\\right) : \\left(x_{00}, x_{01}, x_{02}\\right), \\left(\\left(4\\right), \\left(2, 1\\right)\\right) : \\left(x_{01}^{3} x_{02} -  x_{01} x_{02}^{3}, - x_{00}^{2} x_{01}^{2} + \\frac{2}{3} x_{00} x_{01}^{3} - \\frac{2}{3} x_{00}^{3} x_{02} + x_{00}^{2} x_{02}^{2}, - x_{00}^{3} x_{02} + x_{00} x_{02}^{3}, - x_{00}^{2} x_{01}^{2} + \\frac{2}{3} x_{00} x_{01}^{3} + x_{01}^{2} x_{02}^{2} - \\frac{2}{3} x_{01} x_{02}^{3}, x_{00}^{3} x_{01} -  x_{00} x_{01}^{3}, - x_{00}^{4} + x_{01}^{4} + 4 x_{00}^{3} x_{02} - 4 x_{01} x_{02}^{3}, - x_{00}^{4} + 4 x_{00} x_{01}^{3} - 4 x_{01} x_{02}^{3} + x_{02}^{4}\\right), \\left(\\left(1\\right), \\left(1, 1, 1\\right)\\right) : \\left(x_{00}, x_{01}, x_{02}\\right), \\left(\\left(0\\right), \\left(1, 1, 1\\right)\\right) : \\left(1\\right), \\left(\\left(4\\right), \\left(1, 1, 1\\right)\\right) : \\left(x_{01}^{3} x_{02} -  x_{01} x_{02}^{3}, - x_{00}^{2} x_{01}^{2} + \\frac{2}{3} x_{00} x_{01}^{3} - \\frac{2}{3} x_{00}^{3} x_{02} + x_{00}^{2} x_{02}^{2}, - x_{00}^{3} x_{02} + x_{00} x_{02}^{3}, - x_{00}^{2} x_{01}^{2} + \\frac{2}{3} x_{00} x_{01}^{3} + x_{01}^{2} x_{02}^{2} - \\frac{2}{3} x_{01} x_{02}^{3}, x_{00}^{3} x_{01} -  x_{00} x_{01}^{3}, - x_{00}^{4} + x_{01}^{4} + 4 x_{00}^{3} x_{02} - 4 x_{01} x_{02}^{3}, - x_{00}^{4} + 4 x_{00} x_{01}^{3} - 4 x_{01} x_{02}^{3} + x_{02}^{4}\\right), \\left(\\left(1\\right), \\left(2, 1\\right)\\right) : \\left(x_{00}, x_{01}, x_{02}\\right)\\right\\}</script></html>"
      ],
      "text/plain": [
       "{((4,), (3,)): (x01^3*x02 - x01*x02^3,\n",
       "  -x00^2*x01^2 + 2/3*x00*x01^3 - 2/3*x00^3*x02 + x00^2*x02^2,\n",
       "  -x00^3*x02 + x00*x02^3,\n",
       "  -x00^2*x01^2 + 2/3*x00*x01^3 + x01^2*x02^2 - 2/3*x01*x02^3,\n",
       "  x00^3*x01 - x00*x01^3,\n",
       "  -x00^4 + x01^4 + 4*x00^3*x02 - 4*x01*x02^3,\n",
       "  -x00^4 + 4*x00*x01^3 - 4*x01*x02^3 + x02^4),\n",
       " ((2,), (1, 1, 1)): (x00*x02, x01*x02, x00^2, x01^2, x02^2, x00*x01),\n",
       " ((6,),\n",
       "  (1,\n",
       "   1,\n",
       "   1)): (x00^4*x01^2 - x00^2*x01^4 - x00^4*x02^2 + x01^4*x02^2 + x00^2*x02^4 - x01^2*x02^4,),\n",
       " ((3,), (3,)): (-1/3*x01^3 + x01*x02^2,\n",
       "  x00^3 - x01^3,\n",
       "  -x01^3 + x02^3,\n",
       "  -1/3*x01^3 + x00*x02^2,\n",
       "  -1/3*x01^3 + x00^2*x02,\n",
       "  x00*x01^2 - 1/3*x01^3,\n",
       "  x00^2*x01 - 1/3*x01^3,\n",
       "  -1/3*x01^3 + x01^2*x02),\n",
       " ((2,), (2, 1)): (x00*x02, x01*x02, x00^2, x01^2, x02^2, x00*x01),\n",
       " ((3,), (2, 1)): (-1/3*x01^3 + x01*x02^2,\n",
       "  x00^3 - x01^3,\n",
       "  -x01^3 + x02^3,\n",
       "  -1/3*x01^3 + x00*x02^2,\n",
       "  -1/3*x01^3 + x00^2*x02,\n",
       "  x00*x01^2 - 1/3*x01^3,\n",
       "  x00^2*x01 - 1/3*x01^3,\n",
       "  -1/3*x01^3 + x01^2*x02),\n",
       " ((5,),\n",
       "  (3,)): (-x00^3*x01^2 + x00^2*x01^3 - 1/2*x00^4*x02 + 1/2*x01^4*x02 + x00^3*x02^2 - x01^3*x02^2, x00^4*x01 - 2*x00^3*x01^2 - x00^4*x02 + x01^4*x02 + 2*x00^3*x02^2 - x01*x02^4, -1/2*x00^4*x02 + 1/2*x01^4*x02 + x00^2*x02^3 - x01^2*x02^3, 2*x00^3*x01^2 - x00*x01^4 - 2*x00^3*x02^2 + x00*x02^4),\n",
       " ((6,),\n",
       "  (2,\n",
       "   1)): (x00^4*x01^2 - x00^2*x01^4 - x00^4*x02^2 + x01^4*x02^2 + x00^2*x02^4 - x01^2*x02^4,),\n",
       " ((6,),\n",
       "  (3,)): (x00^4*x01^2 - x00^2*x01^4 - x00^4*x02^2 + x01^4*x02^2 + x00^2*x02^4 - x01^2*x02^4,),\n",
       " ((3,), (1, 1, 1)): (-1/3*x01^3 + x01*x02^2,\n",
       "  x00^3 - x01^3,\n",
       "  -x01^3 + x02^3,\n",
       "  -1/3*x01^3 + x00*x02^2,\n",
       "  -1/3*x01^3 + x00^2*x02,\n",
       "  x00*x01^2 - 1/3*x01^3,\n",
       "  x00^2*x01 - 1/3*x01^3,\n",
       "  -1/3*x01^3 + x01^2*x02),\n",
       " ((5,),\n",
       "  (1,\n",
       "   1,\n",
       "   1)): (-x00^3*x01^2 + x00^2*x01^3 - 1/2*x00^4*x02 + 1/2*x01^4*x02 + x00^3*x02^2 - x01^3*x02^2, x00^4*x01 - 2*x00^3*x01^2 - x00^4*x02 + x01^4*x02 + 2*x00^3*x02^2 - x01*x02^4, -1/2*x00^4*x02 + 1/2*x01^4*x02 + x00^2*x02^3 - x01^2*x02^3, 2*x00^3*x01^2 - x00*x01^4 - 2*x00^3*x02^2 + x00*x02^4),\n",
       " ((5,),\n",
       "  (2,\n",
       "   1)): (-x00^3*x01^2 + x00^2*x01^3 - 1/2*x00^4*x02 + 1/2*x01^4*x02 + x00^3*x02^2 - x01^3*x02^2, x00^4*x01 - 2*x00^3*x01^2 - x00^4*x02 + x01^4*x02 + 2*x00^3*x02^2 - x01*x02^4, -1/2*x00^4*x02 + 1/2*x01^4*x02 + x00^2*x02^3 - x01^2*x02^3, 2*x00^3*x01^2 - x00*x01^4 - 2*x00^3*x02^2 + x00*x02^4),\n",
       " ((0,), (1, 1, 1)): (1,),\n",
       " ((0,), (3,)): (1,),\n",
       " ((2,), (3,)): (x00*x02, x01*x02, x00^2, x01^2, x02^2, x00*x01),\n",
       " ((0,), (2, 1)): (1,),\n",
       " ((1,), (1, 1, 1)): (x00, x01, x02),\n",
       " ((1,), (3,)): (x00, x01, x02),\n",
       " ((4,), (1, 1, 1)): (x01^3*x02 - x01*x02^3,\n",
       "  -x00^2*x01^2 + 2/3*x00*x01^3 - 2/3*x00^3*x02 + x00^2*x02^2,\n",
       "  -x00^3*x02 + x00*x02^3,\n",
       "  -x00^2*x01^2 + 2/3*x00*x01^3 + x01^2*x02^2 - 2/3*x01*x02^3,\n",
       "  x00^3*x01 - x00*x01^3,\n",
       "  -x00^4 + x01^4 + 4*x00^3*x02 - 4*x01*x02^3,\n",
       "  -x00^4 + 4*x00*x01^3 - 4*x01*x02^3 + x02^4),\n",
       " ((4,), (2, 1)): (x01^3*x02 - x01*x02^3,\n",
       "  -x00^2*x01^2 + 2/3*x00*x01^3 - 2/3*x00^3*x02 + x00^2*x02^2,\n",
       "  -x00^3*x02 + x00*x02^3,\n",
       "  -x00^2*x01^2 + 2/3*x00*x01^3 + x01^2*x02^2 - 2/3*x01*x02^3,\n",
       "  x00^3*x01 - x00*x01^3,\n",
       "  -x00^4 + x01^4 + 4*x00^3*x02 - 4*x01*x02^3,\n",
       "  -x00^4 + 4*x00*x01^3 - 4*x01*x02^3 + x02^4),\n",
       " ((1,), (2, 1)): (x00, x01, x02)}"
      ]
     },
     "execution_count": 86,
     "metadata": {},
     "output_type": "execute_result"
    }
   ],
   "source": [
    "V2.basis()"
   ]
  },
  {
   "cell_type": "code",
   "execution_count": null,
   "metadata": {},
   "outputs": [],
   "source": [
    "def character(S, n, left_basis=s, right_basis=s, row_symmetry=None):\n",
    "    basis = S.basis()\n",
    "    charac = 0\n",
    "    for nu in Partitions(n):\n",
    "        basis_nu = {}\n",
    "        for key, value in basis.iteritems():\n",
    "            if key[1] == nu:\n",
    "                basis_nu[key[0]] = value\n",
    "            if row_symmetry == \"permutation\":\n",
    "                #avec les monomiales\n",
    "            else:\n",
    "                #avec les q\n",
    "    return charac"
   ]
  }
 ],
 "metadata": {
  "kernelspec": {
   "display_name": "SageMath 8.2",
   "language": "",
   "name": "sagemath"
  },
  "language_info": {
   "codemirror_mode": {
    "name": "ipython",
    "version": 2
   },
   "file_extension": ".py",
   "mimetype": "text/x-python",
   "name": "python",
   "nbconvert_exporter": "python",
   "pygments_lexer": "ipython2",
   "version": "2.7.14"
  }
 },
 "nbformat": 4,
 "nbformat_minor": 2
}
