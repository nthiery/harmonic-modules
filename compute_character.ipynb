{
 "cells": [
  {
   "cell_type": "code",
   "execution_count": 84,
   "metadata": {},
   "outputs": [],
   "source": [
    "%display latex\n",
    "\n",
    "%runfile diagonal_polynomial_ring.py\n",
    "%runfile subspace.py\n",
    "%runfile young_idempotent.py\n",
    "%runfile add_degree.py\n",
    "\n",
    "SymmetricFunctions(QQ).inject_shorthands(verbose=False)"
   ]
  },
  {
   "cell_type": "markdown",
   "metadata": {},
   "source": [
    "# Code"
   ]
  },
  {
   "cell_type": "markdown",
   "metadata": {},
   "source": [
    "Calcul du Vandermonde associé au diagramme $\\gamma$, où $\\gamma$ est un partage (Partition) ou un diagramme (Diagram)."
   ]
  },
  {
   "cell_type": "code",
   "execution_count": 3,
   "metadata": {},
   "outputs": [],
   "source": [
    "def vandermonde(gamma):\n",
    "    n = gamma.size()\n",
    "    P = DiagonalPolynomialRing(QQ, n, 1, inert=1)\n",
    "    X = P.variables()\n",
    "    Theta = P.inert_variables()\n",
    "    return matrix([[x**i[1]*theta**i[0] for i in gamma.cells()] \n",
    "                   for x,theta in zip(X[0],Theta[0])]).determinant()"
   ]
  },
  {
   "cell_type": "markdown",
   "metadata": {},
   "source": [
    "Fonctions qui nous renvoient des listes d'opérateurs par degrés pour toutes les variables (non inertes) de l'anneau de polynômes concerné."
   ]
  },
  {
   "cell_type": "code",
   "execution_count": 4,
   "metadata": {},
   "outputs": [],
   "source": [
    "def deriv(x, k=1):\n",
    "    def f(p):\n",
    "        return derivative(p, x, k)\n",
    "    return f\n",
    "\n",
    "def partial_derivatives(P):\n",
    "    n = P._n\n",
    "    r = P._r\n",
    "    D = P._grading_set\n",
    "    X = P.variables()\n",
    "    op = {}\n",
    "    for i in range(r):\n",
    "        op[D((-1 if j==i else 0 for j in range(r)))] = [deriv(X[i,k]) for k in range(n)]\n",
    "    return op\n",
    "\n",
    "def steenrod_operators(P, degree=1):\n",
    "    r = P._r\n",
    "    D = P._grading_set\n",
    "    op = {}\n",
    "    for i in range(r):\n",
    "        op[D((-degree if j==i else 0 for j in range(r)))] = [functools.partial(P.steenrod_op, i=i, k=degree+1)]\n",
    "    return op\n",
    "\n",
    "def polarization_operators(P, side=None, row_symmetry=None):\n",
    "    n = P._n\n",
    "    r = P._r\n",
    "    grading_set = P._grading_set\n",
    "    return {grading_set([-d if i==i1 else 1 if i==i2 else 0 for i in range(r)]):\n",
    "            [functools.partial(P.polarization, i1=i1, i2=i2, d=d, row_symmetry=row_symmetry)]\n",
    "            for d in range(1, n)\n",
    "            for i1 in range(0, r)\n",
    "            for i2 in range(0, r)\n",
    "            if (i1<i2 if side == 'down' else i1!=i2)\n",
    "           }\n",
    "\n",
    "def symmetric_derivatives(P, list_deg, row_symmetry=None):\n",
    "    D = P._grading_set\n",
    "    return {D(-i for i in d) : [functools.partial(P.symmetric_derivative, d=d, row_symmetry=row_symmetry)] for d in list_deg}\n",
    "  \n",
    "\n",
    "def merge(dict1, dict2):\n",
    "    result = dict1\n",
    "    for key, value in dict2.iteritems():\n",
    "        if key in result:\n",
    "            result[key] += value\n",
    "        else:\n",
    "            result[key] = value\n",
    "    return result"
   ]
  },
  {
   "cell_type": "markdown",
   "metadata": {},
   "source": [
    "Projection sur les composantes isotypiques; prend en paramètre un sous-espace (Subspace) et un entier ou un partage. "
   ]
  },
  {
   "cell_type": "code",
   "execution_count": 5,
   "metadata": {},
   "outputs": [],
   "source": [
    "def Isotyp(S, arg):\n",
    "    if isinstance(arg, Partition):\n",
    "        list_partitions = [arg]\n",
    "    elif isinstance(arg, Integer):\n",
    "        list_partitions = Partitions(arg)\n",
    "    else : \n",
    "        print(\"Error: arg should be a partition or an integer.\")\n",
    "    \n",
    "    basis = S.basis()\n",
    "    result = {}\n",
    "    for nu in list_partitions:\n",
    "        for key, value in basis.iteritems():\n",
    "            gen = [apply_young_idempotent(p, nu) for p in value]\n",
    "            basis_nu = Subspace(gen, {}).basis()\n",
    "            if basis_nu != {} :\n",
    "                result[(key, tuple(nu))] = basis_nu[0]\n",
    "    return Subspace(result, operators={})\n",
    "\n",
    "\n",
    "def add_degrees_isotypic(gen_deg, op_deg):\n",
    "    D = cartesian_product([ZZ for i in range(len(gen_deg[0]))])\n",
    "    return D(gen_deg[0])+D(op_deg), gen_deg[1]"
   ]
  },
  {
   "cell_type": "markdown",
   "metadata": {},
   "source": [
    "Création de l'espace polarisé par les opérateurs donnés en paramètres."
   ]
  },
  {
   "cell_type": "code",
   "execution_count": 6,
   "metadata": {},
   "outputs": [],
   "source": [
    "def PolarizedSpace(pol_ring, S, operators):\n",
    "    basis = S.basis()\n",
    "    P = pol_ring\n",
    "    r = P._r\n",
    "    D = P._grading_set\n",
    "    \n",
    "    generators = {}\n",
    "    for key, value in basis.iteritems():\n",
    "        d = (D((key[0][0] if i==0 else 0 for i in range(0,r))), key[1])\n",
    "        generators[d] = [P(b) for b in value]\n",
    "    return Subspace(generators, operators, add_degrees=add_degrees_isotypic)"
   ]
  },
  {
   "cell_type": "markdown",
   "metadata": {},
   "source": [
    "Calcul de l'image de S (Subspace) par les opérateurs donnés."
   ]
  },
  {
   "cell_type": "code",
   "execution_count": 7,
   "metadata": {},
   "outputs": [],
   "source": [
    "def Range(S, operators):\n",
    "    result = {}\n",
    "    basis = S.basis()\n",
    "    for key, b in basis.iteritems():\n",
    "        result = merge(result, {add_degrees_isotypic(key, deg): \n",
    "                                     [op(p) for p in b for op in op_list if op(p)!=0] \n",
    "                                     for deg, op_list in operators.iteritems()})    \n",
    "    if result != {} :\n",
    "        return Subspace(result, {})\n",
    "    else :\n",
    "        return None"
   ]
  },
  {
   "cell_type": "markdown",
   "metadata": {},
   "source": [
    "Calcul du caractère à partir d'un sous-espace (S) d'éléments projetés sur les composantes isotypiques."
   ]
  },
  {
   "cell_type": "code",
   "execution_count": 8,
   "metadata": {},
   "outputs": [],
   "source": [
    "def character(S, n, r, left_basis=s, right_basis=s, row_symmetry=None):\n",
    "    basis = S.basis()\n",
    "    charac = 0\n",
    "    if row_symmetry != \"permutation\":\n",
    "        q = PolynomialRing(QQ,'q',r).gens()\n",
    "        \n",
    "    for nu in Partitions(n):\n",
    "        basis_nu = {}\n",
    "        charac_nu = 0\n",
    "        # Get the nu_isotypic part of the basis\n",
    "        for key, value in basis.iteritems():\n",
    "            if Partition(key[1]) == nu:\n",
    "                basis_nu[key[0]] = value\n",
    "        \n",
    "        # Use monomials to compute the character\n",
    "        if row_symmetry == \"permutation\":\n",
    "            for deg, b in basis_nu.iteritems():\n",
    "                charac_nu += sum(m(Partition(deg)) for p in b)\n",
    "            if charac_nu != 0 :\n",
    "                if left_basis == s :\n",
    "                    charac_nu = s(charac_nu).restrict_partition_lengths(r,exact=False)\n",
    "                elif left_basis != m :\n",
    "                    charac_nu = left_basis(charac_nu)\n",
    "                \n",
    "        # Or use directly the degrees\n",
    "        else:\n",
    "            for deg, b in basis_nu.iteritems():\n",
    "                charac_nu += sum(prod(q[i]**deg[i] for i in range(0,len(deg))) for p in b)\n",
    "            if charac_nu != 0 :\n",
    "                if left_basis == s :\n",
    "                    charac_nu = s.from_polynomial(charac_nu).restrict_partition_lengths(r,exact=False)           \n",
    "                else:\n",
    "                    charac_nu = left_basis.from_polynomial(charac_nu)\n",
    "                \n",
    "        # Do the tensor product with s[nu]\n",
    "        if charac_nu != 0:\n",
    "            charac += tensor([charac_nu, right_basis(s(nu))])\n",
    "    return charac"
   ]
  },
  {
   "cell_type": "markdown",
   "metadata": {},
   "source": [
    "Factorisation du produit tensoriel par représentation de $S_n$."
   ]
  },
  {
   "cell_type": "code",
   "execution_count": 9,
   "metadata": {},
   "outputs": [],
   "source": [
    "def factorise(f, n):\n",
    "    SymmetricFunctions(QQ).s()\n",
    "    supp = sorted(f.support())\n",
    "    result = {}\n",
    "    res = []\n",
    "    for mu in Partitions(n):\n",
    "        result[mu] = []\n",
    "        for (a, b), c in zip(supp, f.coefficients()):\n",
    "            if b == mu :\n",
    "                result[mu] += [(a,c)]\n",
    "    result2 = [(mu,sum(c*s(nu) for (nu,c) in result[mu])) for mu in result.keys()]\n",
    "    for a, b in result2:\n",
    "        print a\n",
    "        show(b)"
   ]
  },
  {
   "cell_type": "markdown",
   "metadata": {},
   "source": [
    "# Exemples de calculs"
   ]
  },
  {
   "cell_type": "markdown",
   "metadata": {},
   "source": [
    "### Cas du partage 21"
   ]
  },
  {
   "cell_type": "markdown",
   "metadata": {},
   "source": [
    "Calcul du déterminant de Vandermonde $\\mathcal{V}_\\lambda$ associé au partage $\\lambda = 21$."
   ]
  },
  {
   "cell_type": "code",
   "execution_count": 10,
   "metadata": {},
   "outputs": [
    {
     "data": {
      "text/html": [
       "<html><script type=\"math/tex; mode=display\">\\newcommand{\\Bold}[1]{\\mathbf{#1}}- x_{01} \\theta_{00} + x_{02} \\theta_{00} + x_{00} \\theta_{01} -  x_{02} \\theta_{01} -  x_{00} \\theta_{02} + x_{01} \\theta_{02}</script></html>"
      ],
      "text/plain": [
       "-x01*theta00 + x02*theta00 + x00*theta01 - x02*theta01 - x00*theta02 + x01*theta02"
      ]
     },
     "execution_count": 10,
     "metadata": {},
     "output_type": "execute_result"
    }
   ],
   "source": [
    "v = vandermonde(Partition([2,1]))\n",
    "v"
   ]
  },
  {
   "cell_type": "markdown",
   "metadata": {},
   "source": [
    "Espace généré par $\\mathcal{V}_\\lambda$ et ses dérivées partielles."
   ]
  },
  {
   "cell_type": "code",
   "execution_count": 11,
   "metadata": {
    "scrolled": false
   },
   "outputs": [
    {
     "data": {
      "text/html": [
       "<html><script type=\"math/tex; mode=display\">\\newcommand{\\Bold}[1]{\\mathbf{#1}}\\left\\{\\left(0\\right) : \\left(\\theta_{01} -  \\theta_{02}, \\theta_{00} -  \\theta_{02}\\right), \\left(1\\right) : \\left(x_{01} \\theta_{00} -  x_{02} \\theta_{00} -  x_{00} \\theta_{01} + x_{02} \\theta_{01} + x_{00} \\theta_{02} -  x_{01} \\theta_{02}\\right)\\right\\}</script></html>"
      ],
      "text/plain": [
       "{(0,): (theta01 - theta02, theta00 - theta02),\n",
       " (1,): (x01*theta00 - x02*theta00 - x00*theta01 + x02*theta01 + x00*theta02 - x01*theta02,)}"
      ]
     },
     "execution_count": 11,
     "metadata": {},
     "output_type": "execute_result"
    }
   ],
   "source": [
    "P1 = DiagonalPolynomialRing(QQ, 3, 1, inert=1)\n",
    "generator = {P1._grading_set((1,)) : [P1(v)]}\n",
    "list_op = partial_derivatives(P1)\n",
    "V1 = Subspace(generators=generator, operators=list_op, add_degrees=add_degree)\n",
    "V1.basis()"
   ]
  },
  {
   "cell_type": "markdown",
   "metadata": {},
   "source": [
    "Projection sur les composantes isotypiques."
   ]
  },
  {
   "cell_type": "code",
   "execution_count": 12,
   "metadata": {},
   "outputs": [
    {
     "data": {
      "text/html": [
       "<html><script type=\"math/tex; mode=display\">\\newcommand{\\Bold}[1]{\\mathbf{#1}}\\left\\{\\left(\\left(1\\right), \\left(1, 1, 1\\right)\\right) : \\left(x_{01} \\theta_{00} -  x_{02} \\theta_{00} -  x_{00} \\theta_{01} + x_{02} \\theta_{01} + x_{00} \\theta_{02} -  x_{01} \\theta_{02}\\right), \\left(\\left(0\\right), \\left(2, 1\\right)\\right) : \\left(- \\theta_{00} + \\theta_{02}\\right)\\right\\}</script></html>"
      ],
      "text/plain": [
       "{((1,),\n",
       "  (1,\n",
       "   1,\n",
       "   1)): (x01*theta00 - x02*theta00 - x00*theta01 + x02*theta01 + x00*theta02 - x01*theta02,),\n",
       " ((0,), (2, 1)): (-theta00 + theta02,)}"
      ]
     },
     "execution_count": 12,
     "metadata": {},
     "output_type": "execute_result"
    }
   ],
   "source": [
    "V1_iso = Isotyp(V1, 3)\n",
    "V1_iso.basis()"
   ]
  },
  {
   "cell_type": "markdown",
   "metadata": {},
   "source": [
    "On ajoute un jeu de variables supplémentaire et on polsarise."
   ]
  },
  {
   "cell_type": "code",
   "execution_count": 13,
   "metadata": {},
   "outputs": [
    {
     "data": {
      "text/html": [
       "<html><script type=\"math/tex; mode=display\">\\newcommand{\\Bold}[1]{\\mathbf{#1}}\\left\\{\\left(\\left(0, 1\\right), \\left(1, 1, 1\\right)\\right) : \\left(- x_{11} \\theta_{00} + x_{12} \\theta_{00} + x_{10} \\theta_{01} -  x_{12} \\theta_{01} -  x_{10} \\theta_{02} + x_{11} \\theta_{02}\\right), \\left(\\left(0, 0\\right), \\left(2, 1\\right)\\right) : \\left(\\theta_{00} -  \\theta_{02}\\right), \\left(\\left(1, 0\\right), \\left(1, 1, 1\\right)\\right) : \\left(x_{01} \\theta_{00} -  x_{02} \\theta_{00} -  x_{00} \\theta_{01} + x_{02} \\theta_{01} + x_{00} \\theta_{02} -  x_{01} \\theta_{02}\\right)\\right\\}</script></html>"
      ],
      "text/plain": [
       "{((0, 1),\n",
       "  (1,\n",
       "   1,\n",
       "   1)): (-x11*theta00 + x12*theta00 + x10*theta01 - x12*theta01 - x10*theta02 + x11*theta02,),\n",
       " ((0, 0), (2, 1)): (theta00 - theta02,),\n",
       " ((1, 0),\n",
       "  (1,\n",
       "   1,\n",
       "   1)): (x01*theta00 - x02*theta00 - x00*theta01 + x02*theta01 + x00*theta02 - x01*theta02,)}"
      ]
     },
     "execution_count": 13,
     "metadata": {},
     "output_type": "execute_result"
    }
   ],
   "source": [
    "P2 = DiagonalPolynomialRing(QQ, 3, 2, inert=1)\n",
    "op_pol = polarization_operators(P2)\n",
    "V1_pol = PolarizedSpace(P2, V1_iso, op_pol)\n",
    "V1_pol.basis()"
   ]
  },
  {
   "cell_type": "markdown",
   "metadata": {},
   "source": [
    "Calcul du bicaractère."
   ]
  },
  {
   "cell_type": "code",
   "execution_count": 14,
   "metadata": {
    "scrolled": true
   },
   "outputs": [
    {
     "data": {
      "text/html": [
       "<html><script type=\"math/tex; mode=display\">\\newcommand{\\Bold}[1]{\\mathbf{#1}}s_{} \\otimes s_{2,1} + s_{1} \\otimes s_{1,1,1}</script></html>"
      ],
      "text/plain": [
       "s[] # s[2, 1] + s[1] # s[1, 1, 1]"
      ]
     },
     "execution_count": 14,
     "metadata": {},
     "output_type": "execute_result"
    }
   ],
   "source": [
    "character(V1_pol, 3, 2)"
   ]
  },
  {
   "cell_type": "markdown",
   "metadata": {},
   "source": [
    "### Cas du diagramme 013 : pas ok "
   ]
  },
  {
   "cell_type": "code",
   "execution_count": 46,
   "metadata": {},
   "outputs": [
    {
     "data": {
      "text/html": [
       "<html><script type=\"math/tex; mode=display\">\\newcommand{\\Bold}[1]{\\mathbf{#1}}- x_{00}^{3} x_{01} + x_{00} x_{01}^{3} + x_{00}^{3} x_{02} -  x_{01}^{3} x_{02} -  x_{00} x_{02}^{3} + x_{01} x_{02}^{3}</script></html>"
      ],
      "text/plain": [
       "-x00^3*x01 + x00*x01^3 + x00^3*x02 - x01^3*x02 - x00*x02^3 + x01*x02^3"
      ]
     },
     "execution_count": 46,
     "metadata": {},
     "output_type": "execute_result"
    }
   ],
   "source": [
    "v = vandermonde(Diagram([(0,0),(1,0),(3,0)]))\n",
    "v"
   ]
  },
  {
   "cell_type": "markdown",
   "metadata": {},
   "source": [
    "Créaction du sous-espace engendré par un détermiant de type Vandermonde, ses dérivées partielles."
   ]
  },
  {
   "cell_type": "code",
   "execution_count": 62,
   "metadata": {},
   "outputs": [],
   "source": [
    "P1 = DiagonalPolynomialRing(QQ, 3, 1)\n",
    "generator = {P1._grading_set((v.degree(),)) : [P1(v)]}\n",
    "#list_op = partial_derivatives(P1)\n",
    "list_op = merge(merge(partial_derivatives(P1), steenrod_operators(P1, 1)), steenrod_operators(P1, 2))"
   ]
  },
  {
   "cell_type": "code",
   "execution_count": 63,
   "metadata": {
    "scrolled": true
   },
   "outputs": [
    {
     "data": {
      "text/html": [
       "<html><script type=\"math/tex; mode=display\">\\newcommand{\\Bold}[1]{\\mathbf{#1}}\\left\\{\\left(2\\right) : \\left(- x_{00} x_{01} + x_{00} x_{02}, - x_{00} x_{01} + x_{01} x_{02}, x_{00}^{2} -  x_{02}^{2}, x_{01}^{2} -  x_{02}^{2}\\right), \\left(0\\right) : \\left(1\\right), \\left(3\\right) : \\left(\\frac{1}{3} x_{00}^{3} - \\frac{1}{3} x_{01}^{3} -  x_{00} x_{02}^{2} + x_{01} x_{02}^{2}, - x_{00}^{2} x_{01} + \\frac{1}{3} x_{01}^{3} + x_{00}^{2} x_{02} - \\frac{1}{3} x_{02}^{3}, -\\frac{1}{3} x_{00}^{3} + x_{00} x_{01}^{2} -  x_{01}^{2} x_{02} + \\frac{1}{3} x_{02}^{3}\\right), \\left(1\\right) : \\left(x_{00}, x_{01}, x_{02}\\right), \\left(4\\right) : \\left(x_{00}^{3} x_{01} -  x_{00} x_{01}^{3} -  x_{00}^{3} x_{02} + x_{01}^{3} x_{02} + x_{00} x_{02}^{3} -  x_{01} x_{02}^{3}\\right)\\right\\}</script></html>"
      ],
      "text/plain": [
       "{(2,): (-x00*x01 + x00*x02, -x00*x01 + x01*x02, x00^2 - x02^2, x01^2 - x02^2),\n",
       " (0,): (1,),\n",
       " (3,): (1/3*x00^3 - 1/3*x01^3 - x00*x02^2 + x01*x02^2,\n",
       "  -x00^2*x01 + 1/3*x01^3 + x00^2*x02 - 1/3*x02^3,\n",
       "  -1/3*x00^3 + x00*x01^2 - x01^2*x02 + 1/3*x02^3),\n",
       " (1,): (x00, x01, x02),\n",
       " (4,): (x00^3*x01 - x00*x01^3 - x00^3*x02 + x01^3*x02 + x00*x02^3 - x01*x02^3,)}"
      ]
     },
     "execution_count": 63,
     "metadata": {},
     "output_type": "execute_result"
    }
   ],
   "source": [
    "W1 = Subspace(generators=generator, operators=list_op, add_degrees=add_degree)\n",
    "W1.basis()"
   ]
  },
  {
   "cell_type": "code",
   "execution_count": 65,
   "metadata": {},
   "outputs": [
    {
     "data": {
      "text/html": [
       "<html><script type=\"math/tex; mode=display\">\\newcommand{\\Bold}[1]{\\mathbf{#1}}s_{} \\otimes s_{3} + s_{1} \\otimes s_{2,1} + s_{1} \\otimes s_{3} + 2s_{2} \\otimes s_{2,1} + s_{3} \\otimes s_{1,1,1} + s_{3} \\otimes s_{2,1} + s_{4} \\otimes s_{1,1,1}</script></html>"
      ],
      "text/plain": [
       "s[] # s[3] + s[1] # s[2, 1] + s[1] # s[3] + 2*s[2] # s[2, 1] + s[3] # s[1, 1, 1] + s[3] # s[2, 1] + s[4] # s[1, 1, 1]"
      ]
     },
     "execution_count": 65,
     "metadata": {},
     "output_type": "execute_result"
    }
   ],
   "source": [
    "character(Isotyp(W1, 3), 3, 1)"
   ]
  },
  {
   "cell_type": "markdown",
   "metadata": {},
   "source": [
    "Appliquons p_1 et P_1 à v. "
   ]
  },
  {
   "cell_type": "code",
   "execution_count": 91,
   "metadata": {},
   "outputs": [
    {
     "data": {
      "text/html": [
       "<html><script type=\"math/tex; mode=display\">\\newcommand{\\Bold}[1]{\\mathbf{#1}}-3 x_{00}^{2} x_{01} + 3 x_{00} x_{01}^{2} + 3 x_{00}^{2} x_{02} - 3 x_{01}^{2} x_{02} - 3 x_{00} x_{02}^{2} + 3 x_{01} x_{02}^{2}</script></html>"
      ],
      "text/plain": [
       "-3*x00^2*x01 + 3*x00*x01^2 + 3*x00^2*x02 - 3*x01^2*x02 - 3*x00*x02^2 + 3*x01*x02^2"
      ]
     },
     "execution_count": 91,
     "metadata": {},
     "output_type": "execute_result"
    }
   ],
   "source": [
    "P1.symmetric_derivative(P1(v), (1,))"
   ]
  },
  {
   "cell_type": "code",
   "execution_count": 92,
   "metadata": {},
   "outputs": [
    {
     "data": {
      "text/html": [
       "<html><script type=\"math/tex; mode=display\">\\newcommand{\\Bold}[1]{\\mathbf{#1}}-6 x_{00}^{2} x_{01} + 6 x_{00} x_{01}^{2} + 6 x_{00}^{2} x_{02} - 6 x_{01}^{2} x_{02} - 6 x_{00} x_{02}^{2} + 6 x_{01} x_{02}^{2}</script></html>"
      ],
      "text/plain": [
       "-6*x00^2*x01 + 6*x00*x01^2 + 6*x00^2*x02 - 6*x01^2*x02 - 6*x00*x02^2 + 6*x01*x02^2"
      ]
     },
     "execution_count": 92,
     "metadata": {},
     "output_type": "execute_result"
    }
   ],
   "source": [
    "P1.steenrod_op(P1(v), 0, 2)"
   ]
  },
  {
   "cell_type": "markdown",
   "metadata": {},
   "source": [
    "Polarisation"
   ]
  },
  {
   "cell_type": "code",
   "execution_count": 67,
   "metadata": {},
   "outputs": [
    {
     "data": {
      "text/html": [
       "<html><script type=\"math/tex; mode=display\">\\newcommand{\\Bold}[1]{\\mathbf{#1}}s_{} \\otimes s_{3} + s_{1} \\otimes s_{2,1} + s_{1} \\otimes s_{3} + s_{1,1} \\otimes s_{1,1,1} + s_{1,1} \\otimes s_{2,1} + 2s_{2} \\otimes s_{2,1} + s_{2,1} \\otimes s_{1,1,1} + s_{3} \\otimes s_{1,1,1} + s_{3} \\otimes s_{2,1} + s_{4} \\otimes s_{1,1,1}</script></html>"
      ],
      "text/plain": [
       "s[] # s[3] + s[1] # s[2, 1] + s[1] # s[3] + s[1, 1] # s[1, 1, 1] + s[1, 1] # s[2, 1] + 2*s[2] # s[2, 1] + s[2, 1] # s[1, 1, 1] + s[3] # s[1, 1, 1] + s[3] # s[2, 1] + s[4] # s[1, 1, 1]"
      ]
     },
     "execution_count": 67,
     "metadata": {},
     "output_type": "execute_result"
    }
   ],
   "source": [
    "P2 = DiagonalPolynomialRing(QQ, 3, 2)\n",
    "op_pol = polarization_operators(P2)\n",
    "W2 = PolarizedSpace(P2, Isotyp(W1, 3), op_pol)\n",
    "character(W2, 3, 2)"
   ]
  },
  {
   "cell_type": "code",
   "execution_count": 101,
   "metadata": {
    "scrolled": true
   },
   "outputs": [
    {
     "data": {
      "text/html": [
       "<html><script type=\"math/tex; mode=display\">\\newcommand{\\Bold}[1]{\\mathbf{#1}}s_{} \\otimes s_{3} + s_{1} \\otimes s_{2,1} + s_{1,1} \\otimes s_{1,1,1} + s_{2} \\otimes s_{2,1} + s_{3} \\otimes s_{1,1,1}</script></html>"
      ],
      "text/plain": [
       "s[] # s[3] + s[1] # s[2, 1] + s[1, 1] # s[1, 1, 1] + s[2] # s[2, 1] + s[3] # s[1, 1, 1]"
      ]
     },
     "execution_count": 101,
     "metadata": {},
     "output_type": "execute_result"
    }
   ],
   "source": [
    "list_degrees = [tuple(k1 if j==i1 else 0 for j in range(P2._r)) \n",
    "                for k1 in range(1, 3+1) for i1 in range(0, P2._r)]\n",
    "#list_degrees += [(1,1),(1,2),(1,3),(2,1),(2,2),(2,3),(3,1),(3,2),(3,3)]\n",
    "sym_diff = symmetric_derivatives(P2, list_degrees)\n",
    "#sym_diff = merge(merge(symmetric_derivatives(P2, list_degrees), \n",
    "#                       steenrod_operators(P2, 1)), steenrod_operators(P2, 2))\n",
    "character(Range(W2, sym_diff), 3, 2)"
   ]
  },
  {
   "cell_type": "code",
   "execution_count": 73,
   "metadata": {},
   "outputs": [
    {
     "data": {
      "text/html": [
       "<html><script type=\"math/tex; mode=display\">\\newcommand{\\Bold}[1]{\\mathbf{#1}}s_{1} \\otimes s_{3} + s_{1,1} \\otimes s_{2,1} + s_{2} \\otimes s_{2,1} + s_{2,1} \\otimes s_{1,1,1} + s_{3} \\otimes s_{2,1} + s_{4} \\otimes s_{1,1,1}</script></html>"
      ],
      "text/plain": [
       "s[1] # s[3] + s[1, 1] # s[2, 1] + s[2] # s[2, 1] + s[2, 1] # s[1, 1, 1] + s[3] # s[2, 1] + s[4] # s[1, 1, 1]"
      ]
     },
     "execution_count": 73,
     "metadata": {},
     "output_type": "execute_result"
    }
   ],
   "source": [
    "charac = character(W2, 3, 2) - character(Range(W2, sym_diff), 3, 2)\n",
    "charac"
   ]
  },
  {
   "cell_type": "markdown",
   "metadata": {},
   "source": [
    "Ou dans la base des monomiales"
   ]
  },
  {
   "cell_type": "code",
   "execution_count": 74,
   "metadata": {
    "scrolled": false
   },
   "outputs": [
    {
     "data": {
      "text/html": [
       "<html><script type=\"math/tex; mode=display\">\\newcommand{\\Bold}[1]{\\mathbf{#1}}m_{1} \\otimes s_{3} + 2m_{1,1} \\otimes s_{2,1} + m_{2} \\otimes s_{2,1} + m_{2,1} \\otimes s_{1,1,1} + m_{2,1} \\otimes s_{2,1} + m_{2,2} \\otimes s_{1,1,1} + m_{3} \\otimes s_{2,1} + m_{3,1} \\otimes s_{1,1,1} + m_{4} \\otimes s_{1,1,1}</script></html>"
      ],
      "text/plain": [
       "m[1] # s[3] + 2*m[1, 1] # s[2, 1] + m[2] # s[2, 1] + m[2, 1] # s[1, 1, 1] + m[2, 1] # s[2, 1] + m[2, 2] # s[1, 1, 1] + m[3] # s[2, 1] + m[3, 1] # s[1, 1, 1] + m[4] # s[1, 1, 1]"
      ]
     },
     "execution_count": 74,
     "metadata": {},
     "output_type": "execute_result"
    }
   ],
   "source": [
    "character(W2, 3, 2, left_basis=m) - character(Range(W2, sym_diff), 3, 2, left_basis=m)"
   ]
  },
  {
   "cell_type": "markdown",
   "metadata": {},
   "source": [
    "On factorise le caractère par représentation de $S_3$."
   ]
  },
  {
   "cell_type": "code",
   "execution_count": 75,
   "metadata": {
    "scrolled": true
   },
   "outputs": [
    {
     "name": "stdout",
     "output_type": "stream",
     "text": [
      "[1, 1, 1]\n"
     ]
    },
    {
     "data": {
      "text/html": [
       "<html><script type=\"math/tex; mode=display\">\\newcommand{\\Bold}[1]{\\mathbf{#1}}s_{2,1} + s_{4}</script></html>"
      ],
      "text/plain": [
       "s[2, 1] + s[4]"
      ]
     },
     "metadata": {},
     "output_type": "display_data"
    },
    {
     "name": "stdout",
     "output_type": "stream",
     "text": [
      "[3]\n"
     ]
    },
    {
     "data": {
      "text/html": [
       "<html><script type=\"math/tex; mode=display\">\\newcommand{\\Bold}[1]{\\mathbf{#1}}s_{1}</script></html>"
      ],
      "text/plain": [
       "s[1]"
      ]
     },
     "metadata": {},
     "output_type": "display_data"
    },
    {
     "name": "stdout",
     "output_type": "stream",
     "text": [
      "[2, 1]\n"
     ]
    },
    {
     "data": {
      "text/html": [
       "<html><script type=\"math/tex; mode=display\">\\newcommand{\\Bold}[1]{\\mathbf{#1}}s_{1,1} + s_{2} + s_{3}</script></html>"
      ],
      "text/plain": [
       "s[1, 1] + s[2] + s[3]"
      ]
     },
     "metadata": {},
     "output_type": "display_data"
    }
   ],
   "source": [
    "factorise(charac, 3)"
   ]
  },
  {
   "cell_type": "markdown",
   "metadata": {},
   "source": [
    "### Cas du diagramme 024 : ok en un jeu mais pas en 2"
   ]
  },
  {
   "cell_type": "code",
   "execution_count": 15,
   "metadata": {
    "scrolled": false
   },
   "outputs": [
    {
     "data": {
      "text/html": [
       "<html><script type=\"math/tex; mode=display\">\\newcommand{\\Bold}[1]{\\mathbf{#1}}- x_{00}^{4} x_{01}^{2} + x_{00}^{2} x_{01}^{4} + x_{00}^{4} x_{02}^{2} -  x_{01}^{4} x_{02}^{2} -  x_{00}^{2} x_{02}^{4} + x_{01}^{2} x_{02}^{4}</script></html>"
      ],
      "text/plain": [
       "-x00^4*x01^2 + x00^2*x01^4 + x00^4*x02^2 - x01^4*x02^2 - x00^2*x02^4 + x01^2*x02^4"
      ]
     },
     "execution_count": 15,
     "metadata": {},
     "output_type": "execute_result"
    }
   ],
   "source": [
    "v = vandermonde(Diagram([(0,0),(2,0),(4,0)]))\n",
    "v"
   ]
  },
  {
   "cell_type": "markdown",
   "metadata": {},
   "source": [
    "Créaction du sous-espace engendré par un détermiant de type Vandermonde, ses dérivées partielles et les opérateurs de Steenrod de degré 1 et 2."
   ]
  },
  {
   "cell_type": "code",
   "execution_count": 16,
   "metadata": {},
   "outputs": [],
   "source": [
    "P1 = DiagonalPolynomialRing(QQ, 3, 1)\n",
    "v = vandermonde(Diagram([(0,0),(2,0),(4,0)]))\n",
    "generator = {P1._grading_set((v.degree(),)) : [P1(v)]}\n",
    "list_steenrod = merge(steenrod_operators(P1,1), steenrod_operators(P1,2))\n",
    "list_op = merge(partial_derivatives(P1), list_steenrod)"
   ]
  },
  {
   "cell_type": "code",
   "execution_count": 17,
   "metadata": {},
   "outputs": [
    {
     "data": {
      "text/html": [
       "<html><script type=\"math/tex; mode=display\">\\newcommand{\\Bold}[1]{\\mathbf{#1}}\\left\\{\\left(0\\right) : \\left(1\\right), \\left(1\\right) : \\left(x_{00}, x_{01}, x_{02}\\right), \\left(2\\right) : \\left(x_{00} x_{02}, x_{01} x_{02}, x_{00}^{2}, x_{01}^{2}, x_{02}^{2}, x_{00} x_{01}\\right), \\left(3\\right) : \\left(x_{01} x_{02}^{2} - \\frac{1}{3} x_{02}^{3}, x_{00} x_{02}^{2} - \\frac{1}{3} x_{02}^{3}, x_{00}^{2} x_{02} - \\frac{1}{3} x_{02}^{3}, x_{00} x_{01}^{2} - \\frac{1}{3} x_{02}^{3}, x_{00}^{2} x_{01} - \\frac{1}{3} x_{02}^{3}, x_{01}^{2} x_{02} - \\frac{1}{3} x_{02}^{3}, x_{01}^{3} -  x_{02}^{3}, x_{00}^{3} -  x_{02}^{3}\\right), \\left(4\\right) : \\left(-\\frac{1}{4} x_{00}^{4} + x_{00}^{3} x_{01} -  x_{01}^{3} x_{02} + \\frac{1}{4} x_{02}^{4}, -\\frac{1}{4} x_{00}^{4} + x_{00} x_{01}^{3} -  x_{01}^{3} x_{02} + \\frac{1}{4} x_{02}^{4}, - x_{01}^{3} x_{02} + x_{01} x_{02}^{3}, -\\frac{1}{4} x_{00}^{4} + \\frac{1}{4} x_{01}^{4} + x_{00}^{3} x_{02} -  x_{01}^{3} x_{02}, -\\frac{1}{4} x_{00}^{4} + \\frac{1}{4} x_{01}^{4} -  x_{01}^{3} x_{02} + x_{00} x_{02}^{3}, \\frac{1}{6} x_{00}^{4} -  x_{00}^{2} x_{01}^{2} + x_{01}^{2} x_{02}^{2} - \\frac{1}{6} x_{02}^{4}, - x_{00}^{2} x_{01}^{2} + \\frac{1}{6} x_{01}^{4} + x_{00}^{2} x_{02}^{2} - \\frac{1}{6} x_{02}^{4}\\right), \\left(5\\right) : \\left(x_{00}^{2} x_{01}^{3} - \\frac{1}{2} x_{00} x_{01}^{4} - \\frac{1}{2} x_{00}^{4} x_{02} + \\frac{1}{2} x_{01}^{4} x_{02} -  x_{01}^{3} x_{02}^{2} + \\frac{1}{2} x_{00} x_{02}^{4}, - x_{00}^{3} x_{01}^{2} + \\frac{1}{2} x_{00} x_{01}^{4} + x_{00}^{3} x_{02}^{2} - \\frac{1}{2} x_{00} x_{02}^{4}, \\frac{1}{2} x_{00}^{4} x_{02} - \\frac{1}{2} x_{01}^{4} x_{02} -  x_{00}^{2} x_{02}^{3} + x_{01}^{2} x_{02}^{3}, x_{00}^{4} x_{01} -  x_{00} x_{01}^{4} -  x_{00}^{4} x_{02} + x_{01}^{4} x_{02} + x_{00} x_{02}^{4} -  x_{01} x_{02}^{4}\\right), \\left(6\\right) : \\left(x_{00}^{4} x_{01}^{2} -  x_{00}^{2} x_{01}^{4} -  x_{00}^{4} x_{02}^{2} + x_{01}^{4} x_{02}^{2} + x_{00}^{2} x_{02}^{4} -  x_{01}^{2} x_{02}^{4}\\right)\\right\\}</script></html>"
      ],
      "text/plain": [
       "{(0,): (1,),\n",
       " (1,): (x00, x01, x02),\n",
       " (2,): (x00*x02, x01*x02, x00^2, x01^2, x02^2, x00*x01),\n",
       " (3,): (x01*x02^2 - 1/3*x02^3,\n",
       "  x00*x02^2 - 1/3*x02^3,\n",
       "  x00^2*x02 - 1/3*x02^3,\n",
       "  x00*x01^2 - 1/3*x02^3,\n",
       "  x00^2*x01 - 1/3*x02^3,\n",
       "  x01^2*x02 - 1/3*x02^3,\n",
       "  x01^3 - x02^3,\n",
       "  x00^3 - x02^3),\n",
       " (4,): (-1/4*x00^4 + x00^3*x01 - x01^3*x02 + 1/4*x02^4,\n",
       "  -1/4*x00^4 + x00*x01^3 - x01^3*x02 + 1/4*x02^4,\n",
       "  -x01^3*x02 + x01*x02^3,\n",
       "  -1/4*x00^4 + 1/4*x01^4 + x00^3*x02 - x01^3*x02,\n",
       "  -1/4*x00^4 + 1/4*x01^4 - x01^3*x02 + x00*x02^3,\n",
       "  1/6*x00^4 - x00^2*x01^2 + x01^2*x02^2 - 1/6*x02^4,\n",
       "  -x00^2*x01^2 + 1/6*x01^4 + x00^2*x02^2 - 1/6*x02^4),\n",
       " (5,): (x00^2*x01^3 - 1/2*x00*x01^4 - 1/2*x00^4*x02 + 1/2*x01^4*x02 - x01^3*x02^2 + 1/2*x00*x02^4,\n",
       "  -x00^3*x01^2 + 1/2*x00*x01^4 + x00^3*x02^2 - 1/2*x00*x02^4,\n",
       "  1/2*x00^4*x02 - 1/2*x01^4*x02 - x00^2*x02^3 + x01^2*x02^3,\n",
       "  x00^4*x01 - x00*x01^4 - x00^4*x02 + x01^4*x02 + x00*x02^4 - x01*x02^4),\n",
       " (6,): (x00^4*x01^2 - x00^2*x01^4 - x00^4*x02^2 + x01^4*x02^2 + x00^2*x02^4 - x01^2*x02^4,)}"
      ]
     },
     "execution_count": 17,
     "metadata": {},
     "output_type": "execute_result"
    }
   ],
   "source": [
    "W1 = Subspace(generators=generator, operators=list_op, add_degrees=add_degree)\n",
    "W1.basis()"
   ]
  },
  {
   "cell_type": "markdown",
   "metadata": {},
   "source": [
    "On demande uniquement la composante isotypique de type $111$."
   ]
  },
  {
   "cell_type": "code",
   "execution_count": 18,
   "metadata": {
    "scrolled": false
   },
   "outputs": [
    {
     "data": {
      "text/html": [
       "<html><script type=\"math/tex; mode=display\">\\newcommand{\\Bold}[1]{\\mathbf{#1}}\\left\\{\\left(\\left(1\\right), \\left(1, 1, 1\\right)\\right) : \\left(x_{01} \\theta_{00} -  x_{02} \\theta_{00} -  x_{00} \\theta_{01} + x_{02} \\theta_{01} + x_{00} \\theta_{02} -  x_{01} \\theta_{02}\\right)\\right\\}</script></html>"
      ],
      "text/plain": [
       "{((1,),\n",
       "  (1,\n",
       "   1,\n",
       "   1)): (x01*theta00 - x02*theta00 - x00*theta01 + x02*theta01 + x00*theta02 - x01*theta02,)}"
      ]
     },
     "execution_count": 18,
     "metadata": {},
     "output_type": "execute_result"
    }
   ],
   "source": [
    "Isotyp(V1, Partition([1,1,1])).basis()"
   ]
  },
  {
   "cell_type": "code",
   "execution_count": 19,
   "metadata": {},
   "outputs": [
    {
     "data": {
      "text/html": [
       "<html><script type=\"math/tex; mode=display\">\\newcommand{\\Bold}[1]{\\mathbf{#1}}s_{} \\otimes s_{3} + s_{1} \\otimes s_{2,1} + s_{1} \\otimes s_{3} + s_{1,1} \\otimes s_{1,1,1} + s_{1,1} \\otimes s_{2,1} + 2s_{2} \\otimes s_{2,1} + 2s_{2} \\otimes s_{3} + s_{2,1} \\otimes s_{1,1,1} + 2s_{2,1} \\otimes s_{2,1} + s_{3} \\otimes s_{1,1,1} + 3s_{3} \\otimes s_{2,1} + s_{3} \\otimes s_{3} + 2s_{3,1} \\otimes s_{1,1,1} + s_{3,1} \\otimes s_{2,1} + s_{4} \\otimes s_{1,1,1} + 3s_{4} \\otimes s_{2,1} + s_{4,1} \\otimes s_{1,1,1} + 2s_{5} \\otimes s_{1,1,1} + s_{5} \\otimes s_{2,1} + s_{6} \\otimes s_{1,1,1}</script></html>"
      ],
      "text/plain": [
       "s[] # s[3] + s[1] # s[2, 1] + s[1] # s[3] + s[1, 1] # s[1, 1, 1] + s[1, 1] # s[2, 1] + 2*s[2] # s[2, 1] + 2*s[2] # s[3] + s[2, 1] # s[1, 1, 1] + 2*s[2, 1] # s[2, 1] + s[3] # s[1, 1, 1] + 3*s[3] # s[2, 1] + s[3] # s[3] + 2*s[3, 1] # s[1, 1, 1] + s[3, 1] # s[2, 1] + s[4] # s[1, 1, 1] + 3*s[4] # s[2, 1] + s[4, 1] # s[1, 1, 1] + 2*s[5] # s[1, 1, 1] + s[5] # s[2, 1] + s[6] # s[1, 1, 1]"
      ]
     },
     "execution_count": 19,
     "metadata": {},
     "output_type": "execute_result"
    }
   ],
   "source": [
    "P2 = DiagonalPolynomialRing(QQ, 3, 2)\n",
    "list_steenrod = merge(steenrod_operators(P2,1), steenrod_operators(P2,2))\n",
    "op_pol = merge(polarization_operators(P2), list_steenrod)\n",
    "W2 = PolarizedSpace(P2, Isotyp(W1, 3), op_pol)\n",
    "character(W2, 3, 2)"
   ]
  },
  {
   "cell_type": "markdown",
   "metadata": {},
   "source": [
    "Calcul de l'idéal pour quotienter. "
   ]
  },
  {
   "cell_type": "code",
   "execution_count": 20,
   "metadata": {
    "scrolled": true
   },
   "outputs": [
    {
     "data": {
      "text/html": [
       "<html><script type=\"math/tex; mode=display\">\\newcommand{\\Bold}[1]{\\mathbf{#1}}s_{} \\otimes s_{3} + s_{1} \\otimes s_{2,1} + s_{1} \\otimes s_{3} + s_{1,1} \\otimes s_{1,1,1} + s_{1,1} \\otimes s_{2,1} + 2s_{2} \\otimes s_{2,1} + 2s_{2} \\otimes s_{3} + s_{2,1} \\otimes s_{1,1,1} + 2s_{2,1} \\otimes s_{2,1} + s_{3} \\otimes s_{1,1,1} + 3s_{3} \\otimes s_{2,1} + 2s_{3,1} \\otimes s_{1,1,1} + s_{3,1} \\otimes s_{2,1} + s_{4} \\otimes s_{1,1,1} + 2s_{4} \\otimes s_{2,1} + s_{4,1} \\otimes s_{1,1,1} + 2s_{5} \\otimes s_{1,1,1}</script></html>"
      ],
      "text/plain": [
       "s[] # s[3] + s[1] # s[2, 1] + s[1] # s[3] + s[1, 1] # s[1, 1, 1] + s[1, 1] # s[2, 1] + 2*s[2] # s[2, 1] + 2*s[2] # s[3] + s[2, 1] # s[1, 1, 1] + 2*s[2, 1] # s[2, 1] + s[3] # s[1, 1, 1] + 3*s[3] # s[2, 1] + 2*s[3, 1] # s[1, 1, 1] + s[3, 1] # s[2, 1] + s[4] # s[1, 1, 1] + 2*s[4] # s[2, 1] + s[4, 1] # s[1, 1, 1] + 2*s[5] # s[1, 1, 1]"
      ]
     },
     "execution_count": 20,
     "metadata": {},
     "output_type": "execute_result"
    }
   ],
   "source": [
    "list_degrees = [tuple(k1 if j==i1 else 0 for j in range(P2._r)) for k1 in range(1, 3+1) for i1 in range(0, P2._r)]\n",
    "sym_diff = symmetric_derivatives(P2, list_degrees)\n",
    "range_op = merge(merge(sym_diff, steenrod_operators(P2, degree=1)), steenrod_operators(P2, degree=2))\n",
    "character(Range(W2, range_op), 3, 2)"
   ]
  },
  {
   "cell_type": "code",
   "execution_count": 21,
   "metadata": {},
   "outputs": [
    {
     "data": {
      "text/html": [
       "<html><script type=\"math/tex; mode=display\">\\newcommand{\\Bold}[1]{\\mathbf{#1}}s_{3} \\otimes s_{3} + s_{4} \\otimes s_{2,1} + s_{5} \\otimes s_{2,1} + s_{6} \\otimes s_{1,1,1}</script></html>"
      ],
      "text/plain": [
       "s[3] # s[3] + s[4] # s[2, 1] + s[5] # s[2, 1] + s[6] # s[1, 1, 1]"
      ]
     },
     "execution_count": 21,
     "metadata": {},
     "output_type": "execute_result"
    }
   ],
   "source": [
    "charac = character(W2, 3, 2) - character(Range(W2, range_op), 3, 2)\n",
    "charac"
   ]
  },
  {
   "cell_type": "markdown",
   "metadata": {},
   "source": [
    "Ou dans la base des monomiales"
   ]
  },
  {
   "cell_type": "code",
   "execution_count": 22,
   "metadata": {
    "scrolled": false
   },
   "outputs": [
    {
     "data": {
      "text/html": [
       "<html><script type=\"math/tex; mode=display\">\\newcommand{\\Bold}[1]{\\mathbf{#1}}m_{2,1} \\otimes s_{3} + m_{2,2} \\otimes s_{2,1} + m_{3} \\otimes s_{3} + m_{3,1} \\otimes s_{2,1} + m_{3,2} \\otimes s_{2,1} + m_{3,3} \\otimes s_{1,1,1} + m_{4} \\otimes s_{2,1} + m_{4,1} \\otimes s_{2,1} + m_{4,2} \\otimes s_{1,1,1} + m_{5} \\otimes s_{2,1} + m_{5,1} \\otimes s_{1,1,1} + m_{6} \\otimes s_{1,1,1}</script></html>"
      ],
      "text/plain": [
       "m[2, 1] # s[3] + m[2, 2] # s[2, 1] + m[3] # s[3] + m[3, 1] # s[2, 1] + m[3, 2] # s[2, 1] + m[3, 3] # s[1, 1, 1] + m[4] # s[2, 1] + m[4, 1] # s[2, 1] + m[4, 2] # s[1, 1, 1] + m[5] # s[2, 1] + m[5, 1] # s[1, 1, 1] + m[6] # s[1, 1, 1]"
      ]
     },
     "execution_count": 22,
     "metadata": {},
     "output_type": "execute_result"
    }
   ],
   "source": [
    "character(W2, 3, 2, left_basis=m) - character(Range(W2, range_op), 3, 2, left_basis=m)"
   ]
  },
  {
   "cell_type": "markdown",
   "metadata": {},
   "source": [
    "On factorise le caractère par représentation de $S_3$."
   ]
  },
  {
   "cell_type": "code",
   "execution_count": 23,
   "metadata": {
    "scrolled": true
   },
   "outputs": [
    {
     "name": "stdout",
     "output_type": "stream",
     "text": [
      "[1, 1, 1]\n"
     ]
    },
    {
     "data": {
      "text/html": [
       "<html><script type=\"math/tex; mode=display\">\\newcommand{\\Bold}[1]{\\mathbf{#1}}s_{6}</script></html>"
      ],
      "text/plain": [
       "s[6]"
      ]
     },
     "metadata": {},
     "output_type": "display_data"
    },
    {
     "name": "stdout",
     "output_type": "stream",
     "text": [
      "[3]\n"
     ]
    },
    {
     "data": {
      "text/html": [
       "<html><script type=\"math/tex; mode=display\">\\newcommand{\\Bold}[1]{\\mathbf{#1}}s_{3}</script></html>"
      ],
      "text/plain": [
       "s[3]"
      ]
     },
     "metadata": {},
     "output_type": "display_data"
    },
    {
     "name": "stdout",
     "output_type": "stream",
     "text": [
      "[2, 1]\n"
     ]
    },
    {
     "data": {
      "text/html": [
       "<html><script type=\"math/tex; mode=display\">\\newcommand{\\Bold}[1]{\\mathbf{#1}}s_{4} + s_{5}</script></html>"
      ],
      "text/plain": [
       "s[4] + s[5]"
      ]
     },
     "metadata": {},
     "output_type": "display_data"
    }
   ],
   "source": [
    "factorise(charac, 3)"
   ]
  },
  {
   "cell_type": "markdown",
   "metadata": {},
   "source": [
    "### Cas du partage 311"
   ]
  },
  {
   "cell_type": "code",
   "execution_count": 24,
   "metadata": {},
   "outputs": [
    {
     "data": {
      "text/html": [
       "<html><script type=\"math/tex; mode=display\">\\newcommand{\\Bold}[1]{\\mathbf{#1}}s_{} \\otimes s_{3,1,1} + s_{1} \\otimes s_{2,1,1,1} + s_{1} \\otimes s_{2,2,1} + s_{1,1} \\otimes s_{1,1,1,1,1} + s_{2} \\otimes s_{2,1,1,1} + s_{3} \\otimes s_{1,1,1,1,1}</script></html>"
      ],
      "text/plain": [
       "s[] # s[3, 1, 1] + s[1] # s[2, 1, 1, 1] + s[1] # s[2, 2, 1] + s[1, 1] # s[1, 1, 1, 1, 1] + s[2] # s[2, 1, 1, 1] + s[3] # s[1, 1, 1, 1, 1]"
      ]
     },
     "execution_count": 24,
     "metadata": {},
     "output_type": "execute_result"
    }
   ],
   "source": [
    "P1 = DiagonalPolynomialRing(QQ, 5, 1, inert=1)\n",
    "v = vandermonde(Partition([3,1,1]))\n",
    "deg_v = 3\n",
    "generator = {P1._grading_set((deg_v,)) : [P1(v)]}\n",
    "list_op = partial_derivatives(P1)\n",
    "W1 = Subspace(generators=generator, operators=list_op, add_degrees=add_degree)\n",
    "\n",
    "P2 = DiagonalPolynomialRing(QQ, 5, 2, inert=1)\n",
    "op_pol = polarization_operators(P2)\n",
    "W2 = PolarizedSpace(P2, Isotyp(W1, 5), op_pol)\n",
    "character(W2, 5, 2)"
   ]
  },
  {
   "cell_type": "markdown",
   "metadata": {},
   "source": [
    "### Cas du diagramme $\\{(0,0),(0,1),(1,1),(0,2)\\}$\n",
    "\n",
    "Pas de quotient, ni de polarisation dans ce cas."
   ]
  },
  {
   "cell_type": "code",
   "execution_count": 25,
   "metadata": {},
   "outputs": [
    {
     "data": {
      "text/html": [
       "<html><script type=\"math/tex; mode=display\">\\newcommand{\\Bold}[1]{\\mathbf{#1}}x_{01} \\theta_{00}^{2} \\theta_{01} \\theta_{02} -  x_{02} \\theta_{00}^{2} \\theta_{01} \\theta_{02} -  x_{00} \\theta_{00} \\theta_{01}^{2} \\theta_{02} + x_{02} \\theta_{00} \\theta_{01}^{2} \\theta_{02} + x_{00} \\theta_{00} \\theta_{01} \\theta_{02}^{2} -  x_{01} \\theta_{00} \\theta_{01} \\theta_{02}^{2} -  x_{01} \\theta_{00}^{2} \\theta_{01} \\theta_{03} + x_{03} \\theta_{00}^{2} \\theta_{01} \\theta_{03} + x_{00} \\theta_{00} \\theta_{01}^{2} \\theta_{03} -  x_{03} \\theta_{00} \\theta_{01}^{2} \\theta_{03} + x_{02} \\theta_{00}^{2} \\theta_{02} \\theta_{03} -  x_{03} \\theta_{00}^{2} \\theta_{02} \\theta_{03} -  x_{02} \\theta_{01}^{2} \\theta_{02} \\theta_{03} + x_{03} \\theta_{01}^{2} \\theta_{02} \\theta_{03} -  x_{00} \\theta_{00} \\theta_{02}^{2} \\theta_{03} + x_{03} \\theta_{00} \\theta_{02}^{2} \\theta_{03} + x_{01} \\theta_{01} \\theta_{02}^{2} \\theta_{03} -  x_{03} \\theta_{01} \\theta_{02}^{2} \\theta_{03} -  x_{00} \\theta_{00} \\theta_{01} \\theta_{03}^{2} + x_{01} \\theta_{00} \\theta_{01} \\theta_{03}^{2} + x_{00} \\theta_{00} \\theta_{02} \\theta_{03}^{2} -  x_{02} \\theta_{00} \\theta_{02} \\theta_{03}^{2} -  x_{01} \\theta_{01} \\theta_{02} \\theta_{03}^{2} + x_{02} \\theta_{01} \\theta_{02} \\theta_{03}^{2}</script></html>"
      ],
      "text/plain": [
       "x01*theta00^2*theta01*theta02 - x02*theta00^2*theta01*theta02 - x00*theta00*theta01^2*theta02 + x02*theta00*theta01^2*theta02 + x00*theta00*theta01*theta02^2 - x01*theta00*theta01*theta02^2 - x01*theta00^2*theta01*theta03 + x03*theta00^2*theta01*theta03 + x00*theta00*theta01^2*theta03 - x03*theta00*theta01^2*theta03 + x02*theta00^2*theta02*theta03 - x03*theta00^2*theta02*theta03 - x02*theta01^2*theta02*theta03 + x03*theta01^2*theta02*theta03 - x00*theta00*theta02^2*theta03 + x03*theta00*theta02^2*theta03 + x01*theta01*theta02^2*theta03 - x03*theta01*theta02^2*theta03 - x00*theta00*theta01*theta03^2 + x01*theta00*theta01*theta03^2 + x00*theta00*theta02*theta03^2 - x02*theta00*theta02*theta03^2 - x01*theta01*theta02*theta03^2 + x02*theta01*theta02*theta03^2"
      ]
     },
     "metadata": {},
     "output_type": "display_data"
    },
    {
     "data": {
      "text/html": [
       "<html><script type=\"math/tex; mode=display\">\\newcommand{\\Bold}[1]{\\mathbf{#1}}s_{} \\otimes s_{2,1,1} + s_{1} \\otimes s_{1,1,1,1}</script></html>"
      ],
      "text/plain": [
       "s[] # s[2, 1, 1] + s[1] # s[1, 1, 1, 1]"
      ]
     },
     "execution_count": 25,
     "metadata": {},
     "output_type": "execute_result"
    }
   ],
   "source": [
    "P1 = DiagonalPolynomialRing(QQ, 4, 1, inert=1)\n",
    "v = vandermonde(Diagram([(0,0),(0,1),(1,1),(0,2)]))\n",
    "show(v)\n",
    "deg_v = 1\n",
    "generator = {P1._grading_set((deg_v,)) : [P1(v)]}\n",
    "list_op = partial_derivatives(P1)\n",
    "W1 = Subspace(generators=generator, operators=list_op, add_degrees=add_degree)\n",
    "character(Isotyp(W1, 4), 4, 1)"
   ]
  },
  {
   "cell_type": "code",
   "execution_count": null,
   "metadata": {},
   "outputs": [],
   "source": []
  }
 ],
 "metadata": {
  "kernelspec": {
   "display_name": "SageMath 8.2",
   "language": "",
   "name": "sagemath"
  },
  "language_info": {
   "codemirror_mode": {
    "name": "ipython",
    "version": 2
   },
   "file_extension": ".py",
   "mimetype": "text/x-python",
   "name": "python",
   "nbconvert_exporter": "python",
   "pygments_lexer": "ipython2",
   "version": "2.7.14"
  }
 },
 "nbformat": 4,
 "nbformat_minor": 2
}
