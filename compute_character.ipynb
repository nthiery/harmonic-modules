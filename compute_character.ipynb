{
 "cells": [
  {
   "cell_type": "code",
   "execution_count": 1,
   "metadata": {},
   "outputs": [],
   "source": [
    "%display latex\n",
    "\n",
    "%runfile young_idempotent.py\n",
    "%runfile diagonal_polynomial_ring.py\n",
    "%runfile subspace.py\n",
    "%runfile add_degree.py\n",
    "%runfile diagram.py\n",
    "\n",
    "SymmetricFunctions(QQ).inject_shorthands(verbose=False)"
   ]
  },
  {
   "cell_type": "code",
   "execution_count": 1,
   "metadata": {},
   "outputs": [],
   "source": [
    "%display latex\n",
    "%runfile character.py"
   ]
  },
  {
   "cell_type": "markdown",
   "metadata": {},
   "source": [
    "# Code"
   ]
  },
  {
   "cell_type": "markdown",
   "metadata": {},
   "source": [
    "Calcul du Vandermonde associé au diagramme $\\gamma$, où $\\gamma$ est un partage (Partition) ou un diagramme (Diagram)."
   ]
  },
  {
   "cell_type": "code",
   "execution_count": 2,
   "metadata": {},
   "outputs": [],
   "source": [
    "def vandermonde(gamma, r=0):\n",
    "    n = gamma.size()\n",
    "    if r == 0:\n",
    "        r = 1\n",
    "    P = DiagonalPolynomialRing(QQ, n, r, inert=1) \n",
    "    X = P.variables()\n",
    "    Theta = P.inert_variables()\n",
    "    return matrix([[x**i[1]*theta**i[0] for i in gamma.cells()] \n",
    "                   for x,theta in zip(X[0],Theta[0])]).determinant()"
   ]
  },
  {
   "cell_type": "markdown",
   "metadata": {},
   "source": [
    "Fonctions qui nous renvoient des listes d'opérateurs par degrés pour toutes les variables (non inertes) de l'anneau de polynômes concerné."
   ]
  },
  {
   "cell_type": "code",
   "execution_count": 3,
   "metadata": {},
   "outputs": [],
   "source": [
    "def partial_derivatives(P):\n",
    "    \"\"\"\n",
    "    Return the partial derivative functions in all the variables of `P`.\n",
    "    \n",
    "    INPUT:\n",
    "    - `P` -- a diagonal polynomial ring\n",
    "    \n",
    "    \"\"\"\n",
    "    n = P.ncols()\n",
    "    r = P.nrows()\n",
    "    D = P.grading_set()\n",
    "    X = P.derivative_variables()\n",
    "    op = {}\n",
    "    for i in range(r):\n",
    "        op[D((-1 if j==i else 0 for j in range(r)))] = [attrcall(\"derivative\", X[i,k]) for k in range(n)]\n",
    "    return op\n",
    "\n",
    "def polarization_operators(r, max_deg=1, side=None, row_symmetry=None):\n",
    "    D = cartesian_product([ZZ for i in range(r)])\n",
    "    return {D([-d if i==i1 else 1 if i==i2 else 0 for i in range(r)]):\n",
    "            [attrcall(\"polarization\", i1=i1, i2=i2, d=d, row_symmetry=row_symmetry)]\n",
    "            for d in range(1, max_deg+1)\n",
    "            for i1 in range(0, r)\n",
    "            for i2 in range(0, r)\n",
    "            if (i1<i2 if side == 'down' else i1!=i2)\n",
    "           }\n",
    "\n",
    "##############################################################\n",
    "\n",
    "def steenrod_operators(r, degree=1, row_symmetry=None):\n",
    "    D = cartesian_product([ZZ for i in range(r)])\n",
    "    op = {}\n",
    "    for i in range(r):\n",
    "        op[D((-degree if j==i else 0 for j in range(r)))] = [\n",
    "            attrcall(\"steenrod_op\", i=i, k=degree+1, row_symmetry=row_symmetry)]\n",
    "    return op\n",
    "\n",
    "def diagonal_steenrod_operators(list_deg):\n",
    "    r = len(list_deg[0])\n",
    "    D = cartesian_product([ZZ for i in range(r)])\n",
    "    op = {}\n",
    "    for dx, dy in list_deg:\n",
    "        op[D((-dx if j==0 else -dy if j==1 else 0 for j in range(r)))] = [\n",
    "            attrcall(\"diagonal_steenrod\", i1=0, i2=1, d1=dx, d2=dy)]\n",
    "    return op\n",
    "\n",
    "def higher_polarization_operators(r, max_deg=1, side=None, row_symmetry=None):\n",
    "    D = cartesian_product([ZZ for i in range(r)])\n",
    "    return {D([-d1 if i==i1 else d2 if i==i2 else 0 for i in range(r)]):\n",
    "            [attrcall(\"higher_polarization\", i1=i1, i2=i2, d1=d1, d2=d2, row_symmetry=row_symmetry)]\n",
    "            for d1 in range(1, max_deg+1)\n",
    "            for d2 in range(1, 3)\n",
    "            for i1 in range(0, r)\n",
    "            for i2 in range(0, r)\n",
    "            if (i1<i2 if side == 'down' else i1!=i2)\n",
    "           }\n",
    "\n",
    "def multipolarization(list_deg, i2):\n",
    "    r = len(list_deg[0])\n",
    "    D = cartesian_product([ZZ for i in range(r)])\n",
    "    return {D(-d[i]+1 if i==i2 else -d[i] for i in range(len(d))) : \n",
    "            [attrcall(\"multi_polarization\", D=d, i2=i2)] for d in list_deg}\n",
    "\n",
    "def symmetric_derivatives(list_deg, row_symmetry=None):\n",
    "    r = len(list_deg[0])\n",
    "    D = cartesian_product([ZZ for i in range(r)])\n",
    "    return {D(-i for i in d) : [attrcall(\"symmetric_derivative\", d=d, row_symmetry=row_symmetry)] \n",
    "            for d in list_deg}"
   ]
  },
  {
   "cell_type": "code",
   "execution_count": 4,
   "metadata": {},
   "outputs": [],
   "source": [
    "def merge(dict1, dict2):\n",
    "    result = dict1\n",
    "    for key, value in dict2.iteritems():\n",
    "        if key in result:\n",
    "            result[key] += value\n",
    "        else:\n",
    "            result[key] = value\n",
    "    return result\n",
    "\n",
    "def antisymmetries(mu):\n",
    "    mu = Partition(mu)\n",
    "    return antisymmetries_of_tableau(mu.initial_tableau())"
   ]
  },
  {
   "cell_type": "markdown",
   "metadata": {},
   "source": [
    "Projection sur les composantes isotypiques; prend en paramètre un sous-espace (Subspace) et un entier ou un partage. "
   ]
  },
  {
   "cell_type": "code",
   "execution_count": 5,
   "metadata": {},
   "outputs": [],
   "source": [
    "def IsotypicComponent(S, arg, use_antisymmetry=False):\n",
    "    if isinstance(arg, Partition):\n",
    "        list_partitions = [arg]\n",
    "    elif isinstance(arg, Integer):\n",
    "        list_partitions = Partitions(arg)\n",
    "    else : \n",
    "        print(\"Error: arg should be a partition or an integer.\")\n",
    "    \n",
    "    basis = S.basis()\n",
    "    result = {}\n",
    "    P1 = basis.values().pop()[0].parent()\n",
    "    for nu in list_partitions:\n",
    "        result_nu = {}\n",
    "        if use_antisymmetry == True:\n",
    "            antisymmetries = antisymmetries_of_tableau(nu.initial_tableau())\n",
    "            P2 = DiagonalAntisymmetricPolynomialRing(P1._R, P1.ncols(), P1.nrows(), \n",
    "                                                 P1.ninert(), antisymmetries)\n",
    "        for deg, value in basis.iteritems():\n",
    "            if use_antisymmetry:\n",
    "                gen = []\n",
    "                for p in value:\n",
    "                    temp = apply_young_idempotent(P2(p), nu)\n",
    "                    if temp != 0: \n",
    "                        gen += [temp]\n",
    "            else:\n",
    "                gen = []\n",
    "                for p in value:\n",
    "                    temp = apply_young_idempotent(p, nu)\n",
    "                    if temp != 0:\n",
    "                        gen += [temp]\n",
    "            if gen != []:\n",
    "                result_nu[(deg, tuple(nu))] = Subspace(gen, {}).basis()[0]\n",
    "        if result_nu != {}:\n",
    "            result[nu] = Subspace(result_nu, operators={})\n",
    "                \n",
    "    if len(result.keys()) == 1:\n",
    "        key = result.keys()[0]\n",
    "        return result[key]\n",
    "    else:\n",
    "        return result"
   ]
  },
  {
   "cell_type": "code",
   "execution_count": 6,
   "metadata": {},
   "outputs": [],
   "source": [
    "def add_degrees_isotypic(gen_deg, op_deg):\n",
    "    D = cartesian_product([ZZ for i in range(len(gen_deg[0]))])\n",
    "    return D(gen_deg[0])+D(op_deg), gen_deg[1]\n",
    "\n",
    "def add_degrees_symmetric(gen_deg,op_deg):\n",
    "    D = cartesian_product([ZZ for i in range(len(gen_deg[0]))])\n",
    "    d = D(gen_deg[0])+D(op_deg)\n",
    "    return D(sorted(d, reverse=True)), gen_deg[1]\n",
    "\n",
    "def add_degrees_test(gen_deg, op_deg):\n",
    "    return gen_deg+op_deg"
   ]
  },
  {
   "cell_type": "markdown",
   "metadata": {},
   "source": [
    "Création de l'espace polarisé par les opérateurs donnés en paramètres."
   ]
  },
  {
   "cell_type": "code",
   "execution_count": 7,
   "metadata": {},
   "outputs": [],
   "source": [
    "def PolarizedSpace(S, operators, add_degrees=add_degrees_isotypic):\n",
    "    if isinstance(S, dict):\n",
    "        return {key : PolarizedSpace(value, operators, add_degrees=add_degrees)\n",
    "                for key, value in S.iteritems()}\n",
    "    else:\n",
    "        basis = S.basis()\n",
    "        basis_element = basis.values().pop()[0]\n",
    "        P1 = basis_element.parent()\n",
    "        r = len(op_pol.keys().pop())\n",
    "        row_symmetry = op_pol.values().pop()[0].kwds['row_symmetry']\n",
    "        if row_symmetry == \"permutation\":\n",
    "            add_degrees = add_degrees_symmetric\n",
    "        D = cartesian_product([ZZ for i in range(r)])\n",
    "        generators = {}\n",
    "\n",
    "        if isinstance(P1, DiagonalAntisymmetricPolynomialRing):\n",
    "            P2 = DiagonalAntisymmetricPolynomialRing(P1._R, P1.ncols(), r , P1.ninert(), P1.antisymmetries())\n",
    "            for key, value in basis.iteritems():\n",
    "                d = (D((key[0][0] if i==0 else 0 for i in range(0,r))), key[1])\n",
    "                generators[d] = tuple(reduce_antisymmetric_normal(P2(b), \n",
    "                                                      b.parent().ncols(), \n",
    "                                                      b.parent().nrows()+b.parent().ninert(), \n",
    "                                                      b.antisymmetries()) for b in value)\n",
    "        else :\n",
    "            P2 = DiagonalPolynomialRing(P1._R, P1.ncols(), r , P1.ninert())\n",
    "            for key, value in basis.iteritems():\n",
    "                d = (D((key[0][0] if i==0 else 0 for i in range(0,r))), key[1])\n",
    "                generators[d] = tuple(P2(b) for b in value)\n",
    "        return Subspace(generators, operators, add_degrees=add_degrees)"
   ]
  },
  {
   "cell_type": "markdown",
   "metadata": {},
   "source": [
    "Calcul de l'image de S (Subspace) par les opérateurs donnés."
   ]
  },
  {
   "cell_type": "code",
   "execution_count": 8,
   "metadata": {},
   "outputs": [],
   "source": [
    "def Range(S, operators, add_degrees=add_degrees_isotypic):\n",
    "    if isinstance(S, dict):\n",
    "        return {key : Range(value, operators, add_degrees=add_degrees)\n",
    "                for key, value in S.iteritems()}\n",
    "\n",
    "    result = {}\n",
    "    basis = S.basis()\n",
    "    for key, b in basis.iteritems():\n",
    "        result = merge(result, {add_degrees(key, deg): \n",
    "                                     [op(p) for p in b for op in op_list if op(p)!=0] \n",
    "                                     for deg, op_list in operators.iteritems()})    \n",
    "    if result != {} :\n",
    "        return Subspace(result, {}, add_degrees) #{} <-> operators\n",
    "    else :\n",
    "        return None"
   ]
  },
  {
   "cell_type": "markdown",
   "metadata": {},
   "source": [
    "Calcul du caractère à partir d'un sous-espace (S) d'éléments projetés sur les composantes isotypiques."
   ]
  },
  {
   "cell_type": "code",
   "execution_count": 9,
   "metadata": {},
   "outputs": [],
   "source": [
    "def character(S, left_basis=s, right_basis=s, row_symmetry=None):\n",
    "    if isinstance(S, dict):\n",
    "        return sum(character(V,\n",
    "                             left_basis=left_basis, right_basis=right_basis, row_symmetry=row_symmetry) \n",
    "                   for V in S.values())\n",
    "    else:\n",
    "        basis = S.basis()\n",
    "        basis_element = basis.values().pop()[0]\n",
    "        P = basis_element.parent()\n",
    "        n = P.ncols()\n",
    "        r = P.nrows()\n",
    "        \n",
    "        charac = 0\n",
    "        if row_symmetry != \"permutation\":\n",
    "            q = PolynomialRing(QQ,'q',r).gens()\n",
    "\n",
    "        for nu in Partitions(n):\n",
    "            basis_nu = {}\n",
    "            charac_nu = 0\n",
    "            # Get the nu_isotypic part of the basis\n",
    "            for key, value in basis.iteritems():\n",
    "                if Partition(key[1]) == nu:\n",
    "                    basis_nu[key[0]] = value\n",
    "\n",
    "            # Use monomials to compute the character\n",
    "            if row_symmetry == \"permutation\":\n",
    "                for deg, b in basis_nu.iteritems():\n",
    "                    charac_nu += sum(m(Partition(deg)) for p in b)\n",
    "                if charac_nu != 0 :\n",
    "                    if left_basis == s :\n",
    "                        charac_nu = s(charac_nu).restrict_partition_lengths(r,exact=False)\n",
    "                    elif left_basis != m :\n",
    "                        charac_nu = left_basis(charac_nu)\n",
    "\n",
    "            # Or use directly the degrees\n",
    "            else:\n",
    "                for deg, b in basis_nu.iteritems():\n",
    "                    charac_nu += sum(prod(q[i]**deg[i] for i in range(0,len(deg))) for p in b)\n",
    "                if charac_nu != 0 :\n",
    "                    if left_basis == s :\n",
    "                        charac_nu = s.from_polynomial(charac_nu).restrict_partition_lengths(r,exact=False)           \n",
    "                    else:\n",
    "                        charac_nu = left_basis.from_polynomial(charac_nu)\n",
    "\n",
    "            # Make the tensor product with s[nu]\n",
    "            if charac_nu != 0:\n",
    "                charac += tensor([charac_nu, right_basis(s(nu))])\n",
    "        return charac"
   ]
  },
  {
   "cell_type": "code",
   "execution_count": 10,
   "metadata": {},
   "outputs": [],
   "source": [
    "def character_quotient(M, N, n, r, left_basis=s, right_basis=s): # a corriger\n",
    "    b_tot = M.basis()\n",
    "    b_ideal = N.basis()\n",
    "    charac = 0\n",
    "    q = PolynomialRing(QQ,'q',r).gens()\n",
    "    \n",
    "    for nu in Partitions(n):\n",
    "        basis_nu_tot = {}\n",
    "        basis_nu_ideal = {}\n",
    "        charac_nu = 0\n",
    "        # Get the nu_isotypic part of the bases\n",
    "        for key, value in b_tot.iteritems():\n",
    "            if Partition(key[1]) == nu:\n",
    "                basis_nu_tot[key[0]] = value\n",
    "        for key, value in b_ideal.iteritems():\n",
    "            if Partition(key[1]) == nu:\n",
    "                basis_nu_ideal[key[0]] = value\n",
    "                \n",
    "        # Use the degrees to compute the character\n",
    "        for deg, b in basis_nu_tot.iteritems():\n",
    "            charac_nu += sum(prod(q[i]**deg[i] for i in range(0,len(deg))) for p in b)\n",
    "        for deg, b in basis_nu_ideal.iteritems():\n",
    "            charac_nu -= sum(prod(q[i]**deg[i] for i in range(0,len(deg))) for p in b)\n",
    "        if charac_nu != 0 :\n",
    "            if left_basis == s :\n",
    "                charac_nu = s.from_polynomial(charac_nu).restrict_partition_lengths(r,exact=False)           \n",
    "            else:\n",
    "                charac_nu = left_basis.from_polynomial(charac_nu)      \n",
    "            # Make the tensor product with s[nu]\n",
    "            charac += tensor([charac_nu, right_basis(s(nu))])\n",
    "            \n",
    "    return charac"
   ]
  },
  {
   "cell_type": "markdown",
   "metadata": {},
   "source": [
    "Factorisation du produit tensoriel par représentation de $S_n$. Et calcul de la dimension."
   ]
  },
  {
   "cell_type": "code",
   "execution_count": 11,
   "metadata": {
    "scrolled": true
   },
   "outputs": [],
   "source": [
    "def factorize(f, n):\n",
    "    SymmetricFunctions(QQ).s()\n",
    "    supp = sorted(f.support())\n",
    "    result = {}\n",
    "    res = []\n",
    "    for mu in Partitions(n):\n",
    "        result[mu] = []\n",
    "        for (a, b), c in zip(supp, f.coefficients()):\n",
    "            if b == mu :\n",
    "                result[mu] += [(a,c)]\n",
    "    result2 = [(mu,sum(c*s(nu) for (nu,c) in result[mu])) for mu in result.keys()]\n",
    "    for a, b in result2:\n",
    "        if b!=0:\n",
    "            print a\n",
    "            show(b)\n",
    "        \n",
    "def dimension(f, n):\n",
    "    supp = sorted(f.support())\n",
    "    result = {}\n",
    "    res = []\n",
    "    for mu in Partitions(n):\n",
    "        result[mu] = []\n",
    "        for (a, b), c in zip(supp, f.coefficients()):\n",
    "            if b == mu :\n",
    "                result[mu] += [(a,c)]\n",
    "    result2 = [(mu,sum(c*s(nu) for (nu,c) in result[mu]).expand(1, alphabet=['q'])) for mu in result.keys()]\n",
    "    q = result2[0][1].parent().gens()[0]\n",
    "    return [(tuple(a), b.subs({q:1})) for a,b in result2]\n",
    "\n",
    "def dimension2(f, n):\n",
    "    q,t = QQ['q,t'].gens()\n",
    "    supp = sorted(f.support())\n",
    "    result = {}\n",
    "    res = []\n",
    "    for mu in Partitions(n):\n",
    "        result[mu] = []\n",
    "        for (a, b), c in zip(supp, f.coefficients()):\n",
    "            if b == mu :\n",
    "                result[mu] += [(a,c)]\n",
    "    result2 = [(mu,sum(c*s(nu) for (nu,c) in result[mu]).expand(2, alphabet=[q,t])) for mu in result.keys()]\n",
    "    return [(tuple(a), b.subs({q:1,t:1})) for a,b in result2]"
   ]
  },
  {
   "cell_type": "code",
   "execution_count": 12,
   "metadata": {},
   "outputs": [],
   "source": [
    "def compute_character(mu, use_antisymmetry=True, row_symmetry=\"permutation\"):\n",
    "    n = Integer(mu.size())\n",
    "    # Determinant computation\n",
    "    v = vandermonde(mu)\n",
    "    # Span by derivatives\n",
    "    generator = {v.multidegree() : [v]}\n",
    "    list_op = partial_derivatives(v.parent())\n",
    "    V = Subspace(generators=generator, operators=list_op, add_degrees=add_degree)\n",
    "    # Projection on isotypic components\n",
    "    V_iso = IsotypicComponent(V, n, use_antisymmetry=use_antisymmetry)\n",
    "    # Polarization\n",
    "    r = n-1\n",
    "    deg = v.degree()\n",
    "    if deg == 0:\n",
    "        deg = 1\n",
    "    op_pol = polarization_operators(r, deg, row_symmetry=row_symmetry)\n",
    "    V_pol = PolarizedSpace(V_iso, op_pol)\n",
    "    \n",
    "    # character\n",
    "    return character(V_pol, row_symmetry=row_symmetry)"
   ]
  },
  {
   "cell_type": "code",
   "execution_count": 13,
   "metadata": {},
   "outputs": [],
   "source": [
    "#import pdb"
   ]
  },
  {
   "cell_type": "code",
   "execution_count": 14,
   "metadata": {
    "scrolled": true
   },
   "outputs": [],
   "source": [
    "#pdb.pm()"
   ]
  },
  {
   "cell_type": "markdown",
   "metadata": {},
   "source": [
    "# Exemples de calculs"
   ]
  },
  {
   "cell_type": "markdown",
   "metadata": {},
   "source": [
    "### Cas du partage 21 - sans antisymétries"
   ]
  },
  {
   "cell_type": "markdown",
   "metadata": {},
   "source": [
    "Calcul du déterminant de Vandermonde $\\mathcal{V}_\\lambda$ associé au partage $\\lambda = 21$."
   ]
  },
  {
   "cell_type": "code",
   "execution_count": 2,
   "metadata": {},
   "outputs": [
    {
     "data": {
      "text/html": [
       "<html><script type=\"math/tex; mode=display\">\\newcommand{\\Bold}[1]{\\mathbf{#1}}-x_{01} \\theta_{00} + x_{02} \\theta_{00} + x_{00} \\theta_{01} - x_{02} \\theta_{01} - x_{00} \\theta_{02} + x_{01} \\theta_{02}</script></html>"
      ],
      "text/plain": [
       "-x01*theta00 + x02*theta00 + x00*theta01 - x02*theta01 - x00*theta02 + x01*theta02"
      ]
     },
     "execution_count": 2,
     "metadata": {},
     "output_type": "execute_result"
    }
   ],
   "source": [
    "n = 3\n",
    "v = vandermonde(Partition([2,1]))\n",
    "v"
   ]
  },
  {
   "cell_type": "markdown",
   "metadata": {},
   "source": [
    "Espace généré par $\\mathcal{V}_\\lambda$ et ses dérivées partielles."
   ]
  },
  {
   "cell_type": "code",
   "execution_count": 3,
   "metadata": {
    "scrolled": false
   },
   "outputs": [
    {
     "data": {
      "text/html": [
       "<html><script type=\"math/tex; mode=display\">\\newcommand{\\Bold}[1]{\\mathbf{#1}}\\left\\{\\left(0\\right) : \\left(\\theta_{01} - \\theta_{02}, \\theta_{00} - \\theta_{02}\\right), \\left(1\\right) : \\left(x_{01} \\theta_{00} - x_{02} \\theta_{00} - x_{00} \\theta_{01} + x_{02} \\theta_{01} + x_{00} \\theta_{02} - x_{01} \\theta_{02}\\right)\\right\\}</script></html>"
      ],
      "text/plain": [
       "{(0,): (theta01 - theta02, theta00 - theta02),\n",
       " (1,): (x01*theta00 - x02*theta00 - x00*theta01 + x02*theta01 + x00*theta02 - x01*theta02,)}"
      ]
     },
     "execution_count": 3,
     "metadata": {},
     "output_type": "execute_result"
    }
   ],
   "source": [
    "generator = {v.multidegree() : [v]}\n",
    "list_op = partial_derivatives(v.parent())\n",
    "V = Subspace(generators=generator, operators=list_op, add_degrees=add_degree)\n",
    "V.basis()"
   ]
  },
  {
   "cell_type": "markdown",
   "metadata": {},
   "source": [
    "Projection sur les composantes isotypiques."
   ]
  },
  {
   "cell_type": "code",
   "execution_count": 4,
   "metadata": {
    "scrolled": false
   },
   "outputs": [
    {
     "data": {
      "text/html": [
       "<html><script type=\"math/tex; mode=display\">\\newcommand{\\Bold}[1]{\\mathbf{#1}}\\left\\{\\left(\\left(1\\right), \\left(1, 1, 1\\right)\\right) : \\left(x_{01} \\theta_{00} - x_{02} \\theta_{00} - x_{00} \\theta_{01} + x_{02} \\theta_{01} + x_{00} \\theta_{02} - x_{01} \\theta_{02}\\right)\\right\\}</script></html>"
      ],
      "text/plain": [
       "{((1,),\n",
       "  (1,\n",
       "   1,\n",
       "   1)): (x01*theta00 - x02*theta00 - x00*theta01 + x02*theta01 + x00*theta02 - x01*theta02,)}"
      ]
     },
     "metadata": {},
     "output_type": "display_data"
    },
    {
     "data": {
      "text/html": [
       "<html><script type=\"math/tex; mode=display\">\\newcommand{\\Bold}[1]{\\mathbf{#1}}\\left\\{\\left(\\left(0\\right), \\left(2, 1\\right)\\right) : \\left(-\\theta_{00} + \\theta_{02}\\right)\\right\\}</script></html>"
      ],
      "text/plain": [
       "{((0,), (2, 1)): (-theta00 + theta02,)}"
      ]
     },
     "metadata": {},
     "output_type": "display_data"
    }
   ],
   "source": [
    "V_iso = IsotypicComponent(V, n)\n",
    "for value in V_iso.values():\n",
    "    show(value.basis())"
   ]
  },
  {
   "cell_type": "markdown",
   "metadata": {},
   "source": [
    "On ajoute un jeu de variables supplémentaire et on polsarise."
   ]
  },
  {
   "cell_type": "code",
   "execution_count": 200,
   "metadata": {
    "scrolled": true
   },
   "outputs": [
    {
     "data": {
      "text/html": [
       "<html><script type=\"math/tex; mode=display\">\\newcommand{\\Bold}[1]{\\mathbf{#1}}\\left\\{\\left(\\left(0, 1\\right), \\left(1, 1, 1\\right)\\right) : \\left(-x_{11} \\theta_{00} + x_{12} \\theta_{00} + x_{10} \\theta_{01} - x_{12} \\theta_{01} - x_{10} \\theta_{02} + x_{11} \\theta_{02}\\right), \\left(\\left(1, 0\\right), \\left(1, 1, 1\\right)\\right) : \\left(x_{01} \\theta_{00} - x_{02} \\theta_{00} - x_{00} \\theta_{01} + x_{02} \\theta_{01} + x_{00} \\theta_{02} - x_{01} \\theta_{02}\\right)\\right\\}</script></html>"
      ],
      "text/plain": [
       "{((0, 1),\n",
       "  (1,\n",
       "   1,\n",
       "   1)): (-x11*theta00 + x12*theta00 + x10*theta01 - x12*theta01 - x10*theta02 + x11*theta02,),\n",
       " ((1, 0),\n",
       "  (1,\n",
       "   1,\n",
       "   1)): (x01*theta00 - x02*theta00 - x00*theta01 + x02*theta01 + x00*theta02 - x01*theta02,)}"
      ]
     },
     "metadata": {},
     "output_type": "display_data"
    },
    {
     "data": {
      "text/html": [
       "<html><script type=\"math/tex; mode=display\">\\newcommand{\\Bold}[1]{\\mathbf{#1}}\\left\\{\\left(\\left(0, 0\\right), \\left(2, 1\\right)\\right) : \\left(\\theta_{00} - \\theta_{02}\\right)\\right\\}</script></html>"
      ],
      "text/plain": [
       "{((0, 0), (2, 1)): (theta00 - theta02,)}"
      ]
     },
     "metadata": {},
     "output_type": "display_data"
    }
   ],
   "source": [
    "r = 2 \n",
    "deg = 2\n",
    "op_pol = polarization_operators(r, deg)\n",
    "V_pol = PolarizedSpace(V_iso, op_pol)\n",
    "for value in V_pol.values():\n",
    "    show(value.basis())"
   ]
  },
  {
   "cell_type": "markdown",
   "metadata": {},
   "source": [
    "Calcul du bicaractère."
   ]
  },
  {
   "cell_type": "code",
   "execution_count": 201,
   "metadata": {
    "scrolled": false
   },
   "outputs": [
    {
     "data": {
      "text/html": [
       "<html><script type=\"math/tex; mode=display\">\\newcommand{\\Bold}[1]{\\mathbf{#1}}s_{} \\otimes s_{2,1} + s_{1} \\otimes s_{1,1,1}</script></html>"
      ],
      "text/plain": [
       "s[] # s[2, 1] + s[1] # s[1, 1, 1]"
      ]
     },
     "execution_count": 201,
     "metadata": {},
     "output_type": "execute_result"
    }
   ],
   "source": [
    "character(V_pol)"
   ]
  },
  {
   "cell_type": "markdown",
   "metadata": {},
   "source": [
    "### Cas du partage 21 - avec antisymétries"
   ]
  },
  {
   "cell_type": "code",
   "execution_count": 202,
   "metadata": {},
   "outputs": [
    {
     "data": {
      "text/html": [
       "<html><script type=\"math/tex; mode=display\">\\newcommand{\\Bold}[1]{\\mathbf{#1}}-x_{01} \\theta_{00} + x_{02} \\theta_{00} + x_{00} \\theta_{01} - x_{02} \\theta_{01} - x_{00} \\theta_{02} + x_{01} \\theta_{02}</script></html>"
      ],
      "text/plain": [
       "-x01*theta00 + x02*theta00 + x00*theta01 - x02*theta01 - x00*theta02 + x01*theta02"
      ]
     },
     "execution_count": 202,
     "metadata": {},
     "output_type": "execute_result"
    }
   ],
   "source": [
    "v = vandermonde(Partition([2,1]))\n",
    "v"
   ]
  },
  {
   "cell_type": "markdown",
   "metadata": {},
   "source": [
    "Espace généré par $\\mathcal{V}_\\lambda$ et ses dérivées partielles."
   ]
  },
  {
   "cell_type": "code",
   "execution_count": 203,
   "metadata": {},
   "outputs": [
    {
     "data": {
      "text/html": [
       "<html><script type=\"math/tex; mode=display\">\\newcommand{\\Bold}[1]{\\mathbf{#1}}\\left\\{\\left(0\\right) : \\left(\\theta_{01} - \\theta_{02}, \\theta_{00} - \\theta_{02}\\right), \\left(1\\right) : \\left(x_{01} \\theta_{00} - x_{02} \\theta_{00} - x_{00} \\theta_{01} + x_{02} \\theta_{01} + x_{00} \\theta_{02} - x_{01} \\theta_{02}\\right)\\right\\}</script></html>"
      ],
      "text/plain": [
       "{(0,): (theta01 - theta02, theta00 - theta02),\n",
       " (1,): (x01*theta00 - x02*theta00 - x00*theta01 + x02*theta01 + x00*theta02 - x01*theta02,)}"
      ]
     },
     "execution_count": 203,
     "metadata": {},
     "output_type": "execute_result"
    }
   ],
   "source": [
    "generator = {v.multidegree() : [v]}\n",
    "list_op = partial_derivatives(v.parent())\n",
    "V = Subspace(generators=generator, operators=list_op, add_degrees=add_degree)\n",
    "V.basis()"
   ]
  },
  {
   "cell_type": "markdown",
   "metadata": {},
   "source": [
    "Projection sur les composantes isotypiques."
   ]
  },
  {
   "cell_type": "code",
   "execution_count": 204,
   "metadata": {
    "scrolled": false
   },
   "outputs": [
    {
     "data": {
      "text/html": [
       "<html><script type=\"math/tex; mode=display\">\\newcommand{\\Bold}[1]{\\mathbf{#1}}\\left\\{\\left(\\left(1\\right), \\left(1, 1, 1\\right)\\right) : \\left(x_{00} \\theta_{01}\\right)\\right\\}</script></html>"
      ],
      "text/plain": [
       "{((1,), (1, 1, 1)): (x00*theta01,)}"
      ]
     },
     "metadata": {},
     "output_type": "display_data"
    },
    {
     "data": {
      "text/html": [
       "<html><script type=\"math/tex; mode=display\">\\newcommand{\\Bold}[1]{\\mathbf{#1}}\\left\\{\\left(\\left(0\\right), \\left(2, 1\\right)\\right) : \\left(\\theta_{00}\\right)\\right\\}</script></html>"
      ],
      "text/plain": [
       "{((0,), (2, 1)): (theta00,)}"
      ]
     },
     "metadata": {},
     "output_type": "display_data"
    }
   ],
   "source": [
    "V_iso = IsotypicComponent(V, 3, use_antisymmetry=True)\n",
    "for value in V_iso.values():\n",
    "    show(value.basis())"
   ]
  },
  {
   "cell_type": "markdown",
   "metadata": {},
   "source": [
    "On ajoute un jeu de variables supplémentaire et on polsarise."
   ]
  },
  {
   "cell_type": "code",
   "execution_count": 205,
   "metadata": {},
   "outputs": [
    {
     "data": {
      "text/html": [
       "<html><script type=\"math/tex; mode=display\">\\newcommand{\\Bold}[1]{\\mathbf{#1}}\\left\\{\\left(\\left(0, 1\\right), \\left(1, 1, 1\\right)\\right) : \\left(x_{10} \\theta_{01}\\right), \\left(\\left(1, 0\\right), \\left(1, 1, 1\\right)\\right) : \\left(x_{00} \\theta_{01}\\right)\\right\\}</script></html>"
      ],
      "text/plain": [
       "{((0, 1), (1, 1, 1)): (x10*theta01,), ((1, 0), (1, 1, 1)): (x00*theta01,)}"
      ]
     },
     "metadata": {},
     "output_type": "display_data"
    },
    {
     "data": {
      "text/html": [
       "<html><script type=\"math/tex; mode=display\">\\newcommand{\\Bold}[1]{\\mathbf{#1}}\\left\\{\\left(\\left(0, 0\\right), \\left(2, 1\\right)\\right) : \\left(\\theta_{00}\\right)\\right\\}</script></html>"
      ],
      "text/plain": [
       "{((0, 0), (2, 1)): (theta00,)}"
      ]
     },
     "metadata": {},
     "output_type": "display_data"
    }
   ],
   "source": [
    "r = 2 \n",
    "deg = 2\n",
    "op_pol = polarization_operators(r, deg)\n",
    "V_pol = PolarizedSpace(V_iso, op_pol)\n",
    "for value in V_pol.values():\n",
    "    show(value.basis())"
   ]
  },
  {
   "cell_type": "markdown",
   "metadata": {},
   "source": [
    "Calcul du bicaractère"
   ]
  },
  {
   "cell_type": "code",
   "execution_count": 206,
   "metadata": {
    "scrolled": false
   },
   "outputs": [
    {
     "data": {
      "text/html": [
       "<html><script type=\"math/tex; mode=display\">\\newcommand{\\Bold}[1]{\\mathbf{#1}}s_{} \\otimes s_{2,1} + s_{1} \\otimes s_{1,1,1}</script></html>"
      ],
      "text/plain": [
       "s[] # s[2, 1] + s[1] # s[1, 1, 1]"
      ]
     },
     "execution_count": 206,
     "metadata": {},
     "output_type": "execute_result"
    }
   ],
   "source": [
    "character(V_pol)"
   ]
  },
  {
   "cell_type": "markdown",
   "metadata": {},
   "source": [
    "### Tout en un"
   ]
  },
  {
   "cell_type": "code",
   "execution_count": 207,
   "metadata": {
    "scrolled": false
   },
   "outputs": [
    {
     "data": {
      "text/html": [
       "<html><script type=\"math/tex; mode=display\">\\newcommand{\\Bold}[1]{\\mathbf{#1}}s_{} \\otimes s_{4,1} + s_{1} \\otimes s_{3,1,1} + s_{1} \\otimes s_{3,2} + s_{1,1} \\otimes s_{2,1,1,1} + s_{1,1} \\otimes s_{2,2,1} + s_{1,1,1} \\otimes s_{1,1,1,1,1} + s_{2} \\otimes s_{2,2,1} + s_{2} \\otimes s_{3,1,1} + s_{2} \\otimes s_{3,2} + s_{2,1} \\otimes s_{2,1,1,1} + s_{2,1} \\otimes s_{2,2,1} + s_{3} \\otimes s_{2,1,1,1} + s_{3} \\otimes s_{2,2,1} + s_{3} \\otimes s_{3,1,1} + s_{3,1} \\otimes s_{1,1,1,1,1} + s_{3,1} \\otimes s_{2,1,1,1} + s_{4} \\otimes s_{2,1,1,1} + s_{4} \\otimes s_{2,2,1} + s_{4,1} \\otimes s_{1,1,1,1,1} + s_{5} \\otimes s_{2,1,1,1} + s_{6} \\otimes s_{1,1,1,1,1}</script></html>"
      ],
      "text/plain": [
       "s[] # s[4, 1] + s[1] # s[3, 1, 1] + s[1] # s[3, 2] + s[1, 1] # s[2, 1, 1, 1] + s[1, 1] # s[2, 2, 1] + s[1, 1, 1] # s[1, 1, 1, 1, 1] + s[2] # s[2, 2, 1] + s[2] # s[3, 1, 1] + s[2] # s[3, 2] + s[2, 1] # s[2, 1, 1, 1] + s[2, 1] # s[2, 2, 1] + s[3] # s[2, 1, 1, 1] + s[3] # s[2, 2, 1] + s[3] # s[3, 1, 1] + s[3, 1] # s[1, 1, 1, 1, 1] + s[3, 1] # s[2, 1, 1, 1] + s[4] # s[2, 1, 1, 1] + s[4] # s[2, 2, 1] + s[4, 1] # s[1, 1, 1, 1, 1] + s[5] # s[2, 1, 1, 1] + s[6] # s[1, 1, 1, 1, 1]"
      ]
     },
     "execution_count": 207,
     "metadata": {},
     "output_type": "execute_result"
    }
   ],
   "source": [
    "mu = Partition([4,1])\n",
    "n = mu.size()\n",
    "v = vandermonde(mu)\n",
    "generator = {v.multidegree() : [v]}\n",
    "list_op = partial_derivatives(v.parent())\n",
    "V = Subspace(generators=generator, operators=list_op, add_degrees=add_degree)\n",
    "V_iso = IsotypicComponent(V, n, use_antisymmetry=True)\n",
    "\n",
    "r = n-1\n",
    "deg = degree_vandermonde(mu)\n",
    "if deg == 0:\n",
    "    deg = 1\n",
    "op_pol = polarization_operators(r, deg, row_symmetry=\"permutation\")\n",
    "V_pol = PolarizedSpace(V_iso, op_pol)\n",
    "\n",
    "character(V_pol, row_symmetry=\"permutation\")"
   ]
  },
  {
   "cell_type": "code",
   "execution_count": 208,
   "metadata": {},
   "outputs": [],
   "source": [
    "def compute_caracter(mu, use_antisymmetry=True, row_symmetry=\"permutation\"):\n",
    "    n = Integer(mu.size())\n",
    "    # Determinant computation\n",
    "    v = vandermonde(mu)\n",
    "    # Span by derivatives\n",
    "    generator = {v.multidegree() : [v]}\n",
    "    list_op = partial_derivatives(v.parent())\n",
    "    V = Subspace(generators=generator, operators=list_op, add_degrees=add_degree)\n",
    "    # Projection on isotypic components\n",
    "    V_iso = IsotypicComponent(V, n, use_antisymmetry=use_antisymmetry)\n",
    "    # Polarization\n",
    "    r = n-1\n",
    "    deg = degree_vandermonde(mu)\n",
    "    if deg == 0:\n",
    "        deg = 1\n",
    "    op_pol = polarization_operators(r, deg, row_symmetry=row_symmetry)\n",
    "    V_pol = PolarizedSpace(V_iso, op_pol)\n",
    "    \n",
    "    # character\n",
    "    return character(V_pol, row_symmetry=row_symmetry)"
   ]
  },
  {
   "cell_type": "code",
   "execution_count": 209,
   "metadata": {
    "scrolled": false
   },
   "outputs": [
    {
     "data": {
      "text/html": [
       "<html><script type=\"math/tex; mode=display\">\\newcommand{\\Bold}[1]{\\mathbf{#1}}s_{} \\otimes s_{4,1} + s_{1} \\otimes s_{3,1,1} + s_{1} \\otimes s_{3,2} + s_{1,1} \\otimes s_{2,1,1,1} + s_{1,1} \\otimes s_{2,2,1} + s_{1,1,1} \\otimes s_{1,1,1,1,1} + s_{2} \\otimes s_{2,2,1} + s_{2} \\otimes s_{3,1,1} + s_{2} \\otimes s_{3,2} + s_{2,1} \\otimes s_{2,1,1,1} + s_{2,1} \\otimes s_{2,2,1} + s_{3} \\otimes s_{2,1,1,1} + s_{3} \\otimes s_{2,2,1} + s_{3} \\otimes s_{3,1,1} + s_{3,1} \\otimes s_{1,1,1,1,1} + s_{3,1} \\otimes s_{2,1,1,1} + s_{4} \\otimes s_{2,1,1,1} + s_{4} \\otimes s_{2,2,1} + s_{4,1} \\otimes s_{1,1,1,1,1} + s_{5} \\otimes s_{2,1,1,1} + s_{6} \\otimes s_{1,1,1,1,1}</script></html>"
      ],
      "text/plain": [
       "s[] # s[4, 1] + s[1] # s[3, 1, 1] + s[1] # s[3, 2] + s[1, 1] # s[2, 1, 1, 1] + s[1, 1] # s[2, 2, 1] + s[1, 1, 1] # s[1, 1, 1, 1, 1] + s[2] # s[2, 2, 1] + s[2] # s[3, 1, 1] + s[2] # s[3, 2] + s[2, 1] # s[2, 1, 1, 1] + s[2, 1] # s[2, 2, 1] + s[3] # s[2, 1, 1, 1] + s[3] # s[2, 2, 1] + s[3] # s[3, 1, 1] + s[3, 1] # s[1, 1, 1, 1, 1] + s[3, 1] # s[2, 1, 1, 1] + s[4] # s[2, 1, 1, 1] + s[4] # s[2, 2, 1] + s[4, 1] # s[1, 1, 1, 1, 1] + s[5] # s[2, 1, 1, 1] + s[6] # s[1, 1, 1, 1, 1]"
      ]
     },
     "execution_count": 209,
     "metadata": {},
     "output_type": "execute_result"
    }
   ],
   "source": [
    "compute_character(Partition([4,1]))"
   ]
  },
  {
   "cell_type": "markdown",
   "metadata": {},
   "source": [
    "### Cas du diagramme 013"
   ]
  },
  {
   "cell_type": "code",
   "execution_count": 210,
   "metadata": {
    "scrolled": true
   },
   "outputs": [
    {
     "data": {
      "text/html": [
       "<html><script type=\"math/tex; mode=display\">\\newcommand{\\Bold}[1]{\\mathbf{#1}}(x_{01} - x_{02}) \\cdot (-x_{00} + x_{01}) \\cdot (x_{00} - x_{02}) \\cdot (x_{00} + x_{01} + x_{02})</script></html>"
      ],
      "text/plain": [
       "(x01 - x02) * (-x00 + x01) * (x00 - x02) * (x00 + x01 + x02)"
      ]
     },
     "execution_count": 210,
     "metadata": {},
     "output_type": "execute_result"
    }
   ],
   "source": [
    "v = vandermonde(Diagram([(0,0),(1,0),(3,0)]))\n",
    "v.factor()"
   ]
  },
  {
   "cell_type": "code",
   "execution_count": 211,
   "metadata": {},
   "outputs": [
    {
     "data": {
      "text/html": [
       "<html><script type=\"math/tex; mode=display\">\\newcommand{\\Bold}[1]{\\mathbf{#1}}\\verb|Diagonal|\\phantom{\\verb!x!}\\verb|Polynomial|\\phantom{\\verb!x!}\\verb|Ring|\\phantom{\\verb!x!}\\verb|with|\\phantom{\\verb!x!}\\verb|1|\\phantom{\\verb!x!}\\verb|rows|\\phantom{\\verb!x!}\\verb|of|\\phantom{\\verb!x!}\\verb|3|\\phantom{\\verb!x!}\\verb|variables|\\phantom{\\verb!x!}\\verb|and|\\phantom{\\verb!x!}\\verb|inert|\\phantom{\\verb!x!}\\verb|variables|\\phantom{\\verb!x!}\\verb|over|\\phantom{\\verb!x!}\\verb|Rational|\\phantom{\\verb!x!}\\verb|Field|</script></html>"
      ],
      "text/plain": [
       "Diagonal Polynomial Ring with 1 rows of 3 variables and inert variables over Rational Field"
      ]
     },
     "execution_count": 211,
     "metadata": {},
     "output_type": "execute_result"
    }
   ],
   "source": [
    "v.parent()"
   ]
  },
  {
   "cell_type": "markdown",
   "metadata": {},
   "source": [
    "On crée le sous-espace engendré par $\\mathcal{V}_\\gamma$ et ses dérivées partielles. On peut ajouter les opérateurs de Steenrod sans changement du résultat."
   ]
  },
  {
   "cell_type": "code",
   "execution_count": 212,
   "metadata": {},
   "outputs": [],
   "source": [
    "generator = {v.multidegree() : [v]}\n",
    "list_op = merge(merge(partial_derivatives(v.parent()), steenrod_operators(1, 1)), steenrod_operators(1, 2))"
   ]
  },
  {
   "cell_type": "code",
   "execution_count": 213,
   "metadata": {
    "scrolled": true
   },
   "outputs": [
    {
     "data": {
      "text/html": [
       "<html><script type=\"math/tex; mode=display\">\\newcommand{\\Bold}[1]{\\mathbf{#1}}\\left\\{\\left(2\\right) : \\left(x_{00}^{2} - x_{02}^{2}, x_{01}^{2} - x_{02}^{2}, -x_{00} x_{01} + x_{00} x_{02}, -x_{00} x_{01} + x_{01} x_{02}\\right), \\left(0\\right) : \\left(1\\right), \\left(3\\right) : \\left(\\frac{1}{3} x_{00}^{3} - \\frac{1}{3} x_{01}^{3} - x_{00} x_{02}^{2} + x_{01} x_{02}^{2}, -\\frac{1}{3} x_{00}^{3} + x_{00} x_{01}^{2} - x_{01}^{2} x_{02} + \\frac{1}{3} x_{02}^{3}, -x_{00}^{2} x_{01} + \\frac{1}{3} x_{01}^{3} + x_{00}^{2} x_{02} - \\frac{1}{3} x_{02}^{3}\\right), \\left(1\\right) : \\left(x_{00}, x_{01}, x_{02}\\right), \\left(4\\right) : \\left(-x_{00}^{3} x_{01} + x_{00} x_{01}^{3} + x_{00}^{3} x_{02} - x_{01}^{3} x_{02} - x_{00} x_{02}^{3} + x_{01} x_{02}^{3}\\right)\\right\\}</script></html>"
      ],
      "text/plain": [
       "{(0,): (1,),\n",
       " (1,): (x00, x01, x02),\n",
       " (2,): (x00^2 - x02^2, x01^2 - x02^2, -x00*x01 + x00*x02, -x00*x01 + x01*x02),\n",
       " (3,): (1/3*x00^3 - 1/3*x01^3 - x00*x02^2 + x01*x02^2,\n",
       "  -1/3*x00^3 + x00*x01^2 - x01^2*x02 + 1/3*x02^3,\n",
       "  -x00^2*x01 + 1/3*x01^3 + x00^2*x02 - 1/3*x02^3),\n",
       " (4,): (-x00^3*x01 + x00*x01^3 + x00^3*x02 - x01^3*x02 - x00*x02^3 + x01*x02^3,)}"
      ]
     },
     "execution_count": 213,
     "metadata": {},
     "output_type": "execute_result"
    }
   ],
   "source": [
    "W1 = Subspace(generators=generator, operators=list_op, add_degrees=add_degree)\n",
    "W1.basis()"
   ]
  },
  {
   "cell_type": "code",
   "execution_count": 214,
   "metadata": {},
   "outputs": [
    {
     "data": {
      "text/html": [
       "<html><script type=\"math/tex; mode=display\">\\newcommand{\\Bold}[1]{\\mathbf{#1}}s_{} \\otimes s_{3} + s_{1} \\otimes s_{2,1} + s_{1} \\otimes s_{3} + 2s_{2} \\otimes s_{2,1} + s_{3} \\otimes s_{1,1,1} + s_{3} \\otimes s_{2,1} + s_{4} \\otimes s_{1,1,1}</script></html>"
      ],
      "text/plain": [
       "s[] # s[3] + s[1] # s[2, 1] + s[1] # s[3] + 2*s[2] # s[2, 1] + s[3] # s[1, 1, 1] + s[3] # s[2, 1] + s[4] # s[1, 1, 1]"
      ]
     },
     "execution_count": 214,
     "metadata": {},
     "output_type": "execute_result"
    }
   ],
   "source": [
    "character(IsotypicComponent(W1, 3))"
   ]
  },
  {
   "cell_type": "markdown",
   "metadata": {},
   "source": [
    "Appliquons $\\sum_i \\partial_{x_i}$ et $\\sum_i x_i \\partial_{x_i}^2$ à $\\mathcal{V}_{\\gamma}$. "
   ]
  },
  {
   "cell_type": "code",
   "execution_count": 215,
   "metadata": {
    "scrolled": true
   },
   "outputs": [
    {
     "data": {
      "text/html": [
       "<html><script type=\"math/tex; mode=display\">\\newcommand{\\Bold}[1]{\\mathbf{#1}}-3 x_{00}^{2} x_{01} + 3 x_{00} x_{01}^{2} + 3 x_{00}^{2} x_{02} - 3 x_{01}^{2} x_{02} - 3 x_{00} x_{02}^{2} + 3 x_{01} x_{02}^{2}</script></html>"
      ],
      "text/plain": [
       "-3*x00^2*x01 + 3*x00*x01^2 + 3*x00^2*x02 - 3*x01^2*x02 - 3*x00*x02^2 + 3*x01*x02^2"
      ]
     },
     "execution_count": 215,
     "metadata": {},
     "output_type": "execute_result"
    }
   ],
   "source": [
    "x00, x01, x02 = P1.variables()[0]\n",
    "v.symmetric_derivative((1,))"
   ]
  },
  {
   "cell_type": "code",
   "execution_count": 216,
   "metadata": {},
   "outputs": [
    {
     "data": {
      "text/html": [
       "<html><script type=\"math/tex; mode=display\">\\newcommand{\\Bold}[1]{\\mathbf{#1}}-6 x_{00}^{2} x_{01} + 6 x_{00} x_{01}^{2} + 6 x_{00}^{2} x_{02} - 6 x_{01}^{2} x_{02} - 6 x_{00} x_{02}^{2} + 6 x_{01} x_{02}^{2}</script></html>"
      ],
      "text/plain": [
       "-6*x00^2*x01 + 6*x00*x01^2 + 6*x00^2*x02 - 6*x01^2*x02 - 6*x00*x02^2 + 6*x01*x02^2"
      ]
     },
     "execution_count": 216,
     "metadata": {},
     "output_type": "execute_result"
    }
   ],
   "source": [
    "v.steenrod_op(0, 2)"
   ]
  },
  {
   "cell_type": "markdown",
   "metadata": {},
   "source": [
    "Polarisation"
   ]
  },
  {
   "cell_type": "code",
   "execution_count": 217,
   "metadata": {},
   "outputs": [
    {
     "data": {
      "text/html": [
       "<html><script type=\"math/tex; mode=display\">\\newcommand{\\Bold}[1]{\\mathbf{#1}}s_{} \\otimes s_{3} + s_{1} \\otimes s_{2,1} + s_{1} \\otimes s_{3} + s_{1,1} \\otimes s_{1,1,1} + s_{1,1} \\otimes s_{2,1} + 2s_{2} \\otimes s_{2,1} + s_{2,1} \\otimes s_{1,1,1} + s_{3} \\otimes s_{1,1,1} + s_{3} \\otimes s_{2,1} + s_{4} \\otimes s_{1,1,1}</script></html>"
      ],
      "text/plain": [
       "s[] # s[3] + s[1] # s[2, 1] + s[1] # s[3] + s[1, 1] # s[1, 1, 1] + s[1, 1] # s[2, 1] + 2*s[2] # s[2, 1] + s[2, 1] # s[1, 1, 1] + s[3] # s[1, 1, 1] + s[3] # s[2, 1] + s[4] # s[1, 1, 1]"
      ]
     },
     "execution_count": 217,
     "metadata": {},
     "output_type": "execute_result"
    }
   ],
   "source": [
    "op_pol = polarization_operators(2, max_deg=v.degree())\n",
    "W2 = PolarizedSpace(IsotypicComponent(W1, 3), op_pol)\n",
    "character(W2)"
   ]
  },
  {
   "cell_type": "code",
   "execution_count": 218,
   "metadata": {
    "scrolled": true
   },
   "outputs": [
    {
     "data": {
      "text/html": [
       "<html><script type=\"math/tex; mode=display\">\\newcommand{\\Bold}[1]{\\mathbf{#1}}s_{} \\otimes s_{3} + s_{1} \\otimes s_{2,1} + s_{1,1} \\otimes s_{1,1,1} + s_{2} \\otimes s_{2,1} + s_{3} \\otimes s_{1,1,1}</script></html>"
      ],
      "text/plain": [
       "s[] # s[3] + s[1] # s[2, 1] + s[1, 1] # s[1, 1, 1] + s[2] # s[2, 1] + s[3] # s[1, 1, 1]"
      ]
     },
     "execution_count": 218,
     "metadata": {},
     "output_type": "execute_result"
    }
   ],
   "source": [
    "list_degrees = [tuple(k1 if j==i1 else 0 for j in range(P2._r)) \n",
    "                for k1 in range(1, 3+1) for i1 in range(0, P2._r)]\n",
    "#list_degrees += [(1,1),(1,2),(1,3),(2,1),(2,2),(2,3),(3,1),(3,2),(3,3)]\n",
    "sym_diff = symmetric_derivatives(2, list_degrees)\n",
    "#sym_diff = merge(merge(symmetric_derivatives(P2, list_degrees), \n",
    "#                       steenrod_operators(P2, 1)), steenrod_operators(P2, 2))\n",
    "character(Range(W2, sym_diff))"
   ]
  },
  {
   "cell_type": "code",
   "execution_count": 219,
   "metadata": {},
   "outputs": [
    {
     "data": {
      "text/html": [
       "<html><script type=\"math/tex; mode=display\">\\newcommand{\\Bold}[1]{\\mathbf{#1}}s_{1} \\otimes s_{3} + s_{1,1} \\otimes s_{2,1} + s_{2} \\otimes s_{2,1} + s_{2,1} \\otimes s_{1,1,1} + s_{3} \\otimes s_{2,1} + s_{4} \\otimes s_{1,1,1}</script></html>"
      ],
      "text/plain": [
       "s[1] # s[3] + s[1, 1] # s[2, 1] + s[2] # s[2, 1] + s[2, 1] # s[1, 1, 1] + s[3] # s[2, 1] + s[4] # s[1, 1, 1]"
      ]
     },
     "execution_count": 219,
     "metadata": {},
     "output_type": "execute_result"
    }
   ],
   "source": [
    "charac = character(W2) - character(Range(W2, sym_diff))\n",
    "charac"
   ]
  },
  {
   "cell_type": "markdown",
   "metadata": {},
   "source": [
    "Ou dans la base des monomiales"
   ]
  },
  {
   "cell_type": "code",
   "execution_count": 220,
   "metadata": {
    "scrolled": false
   },
   "outputs": [
    {
     "data": {
      "text/html": [
       "<html><script type=\"math/tex; mode=display\">\\newcommand{\\Bold}[1]{\\mathbf{#1}}m_{1} \\otimes s_{3} + 2m_{1,1} \\otimes s_{2,1} + m_{2} \\otimes s_{2,1} + m_{2,1} \\otimes s_{1,1,1} + m_{2,1} \\otimes s_{2,1} + m_{2,2} \\otimes s_{1,1,1} + m_{3} \\otimes s_{2,1} + m_{3,1} \\otimes s_{1,1,1} + m_{4} \\otimes s_{1,1,1}</script></html>"
      ],
      "text/plain": [
       "m[1] # s[3] + 2*m[1, 1] # s[2, 1] + m[2] # s[2, 1] + m[2, 1] # s[1, 1, 1] + m[2, 1] # s[2, 1] + m[2, 2] # s[1, 1, 1] + m[3] # s[2, 1] + m[3, 1] # s[1, 1, 1] + m[4] # s[1, 1, 1]"
      ]
     },
     "execution_count": 220,
     "metadata": {},
     "output_type": "execute_result"
    }
   ],
   "source": [
    "character(W2, left_basis=m) - character(Range(W2, sym_diff), left_basis=m)"
   ]
  },
  {
   "cell_type": "markdown",
   "metadata": {},
   "source": [
    "On factorise le caractère par représentation de $S_3$."
   ]
  },
  {
   "cell_type": "code",
   "execution_count": 221,
   "metadata": {
    "scrolled": true
   },
   "outputs": [
    {
     "name": "stdout",
     "output_type": "stream",
     "text": [
      "[1, 1, 1]\n"
     ]
    },
    {
     "data": {
      "text/html": [
       "<html><script type=\"math/tex; mode=display\">\\newcommand{\\Bold}[1]{\\mathbf{#1}}s_{2,1} + s_{4}</script></html>"
      ],
      "text/plain": [
       "s[2, 1] + s[4]"
      ]
     },
     "metadata": {},
     "output_type": "display_data"
    },
    {
     "name": "stdout",
     "output_type": "stream",
     "text": [
      "[3]\n"
     ]
    },
    {
     "data": {
      "text/html": [
       "<html><script type=\"math/tex; mode=display\">\\newcommand{\\Bold}[1]{\\mathbf{#1}}s_{1}</script></html>"
      ],
      "text/plain": [
       "s[1]"
      ]
     },
     "metadata": {},
     "output_type": "display_data"
    },
    {
     "name": "stdout",
     "output_type": "stream",
     "text": [
      "[2, 1]\n"
     ]
    },
    {
     "data": {
      "text/html": [
       "<html><script type=\"math/tex; mode=display\">\\newcommand{\\Bold}[1]{\\mathbf{#1}}s_{1,1} + s_{2} + s_{3}</script></html>"
      ],
      "text/plain": [
       "s[1, 1] + s[2] + s[3]"
      ]
     },
     "metadata": {},
     "output_type": "display_data"
    }
   ],
   "source": [
    "factorise(charac, 3)"
   ]
  },
  {
   "cell_type": "markdown",
   "metadata": {},
   "source": [
    "### Cas du partage 311"
   ]
  },
  {
   "cell_type": "code",
   "execution_count": 253,
   "metadata": {},
   "outputs": [
    {
     "data": {
      "text/html": [
       "<html><script type=\"math/tex; mode=display\">\\newcommand{\\Bold}[1]{\\mathbf{#1}}s_{} \\otimes s_{3,1,1} + s_{1} \\otimes s_{2,1,1,1} + s_{1} \\otimes s_{2,2,1} + s_{1,1} \\otimes s_{1,1,1,1,1} + s_{2} \\otimes s_{2,1,1,1} + s_{3} \\otimes s_{1,1,1,1,1}</script></html>"
      ],
      "text/plain": [
       "s[] # s[3, 1, 1] + s[1] # s[2, 1, 1, 1] + s[1] # s[2, 2, 1] + s[1, 1] # s[1, 1, 1, 1, 1] + s[2] # s[2, 1, 1, 1] + s[3] # s[1, 1, 1, 1, 1]"
      ]
     },
     "execution_count": 253,
     "metadata": {},
     "output_type": "execute_result"
    }
   ],
   "source": [
    "v = vandermonde(Partition([3,1,1]))\n",
    "deg_v = v.degree()\n",
    "generator = {v.multidegree() : [v]}\n",
    "list_op = partial_derivatives(v.parent())\n",
    "W1 = Subspace(generators=generator, operators=list_op, add_degrees=add_degree)\n",
    "\n",
    "op_pol = polarization_operators(2, max_deg=deg_v)\n",
    "W2 = PolarizedSpace(IsotypicComponent(W1, 5), op_pol)\n",
    "character(W2)"
   ]
  },
  {
   "cell_type": "markdown",
   "metadata": {},
   "source": [
    "### Exemples avec et sans les antisymétries"
   ]
  },
  {
   "cell_type": "markdown",
   "metadata": {},
   "source": [
    "Comparons les bases sur un petit exemple sans puis avec l'utilisation des antisymétries."
   ]
  },
  {
   "cell_type": "code",
   "execution_count": 254,
   "metadata": {},
   "outputs": [
    {
     "name": "stdout",
     "output_type": "stream",
     "text": [
      "[3]\n"
     ]
    },
    {
     "data": {
      "text/html": [
       "<html><script type=\"math/tex; mode=display\">\\newcommand{\\Bold}[1]{\\mathbf{#1}}-x_{00}^{2} x_{01} + x_{00} x_{01}^{2} + x_{00}^{2} x_{02} - x_{01}^{2} x_{02} - x_{00} x_{02}^{2} + x_{01} x_{02}^{2}</script></html>"
      ],
      "text/plain": [
       "-x00^2*x01 + x00*x01^2 + x00^2*x02 - x01^2*x02 - x00*x02^2 + x01*x02^2"
      ]
     },
     "metadata": {},
     "output_type": "display_data"
    },
    {
     "data": {
      "text/html": [
       "<html><script type=\"math/tex; mode=display\">\\newcommand{\\Bold}[1]{\\mathbf{#1}}\\left(\\left(0\\right), \\left(1\\right), \\left(2\\right)\\right)</script></html>"
      ],
      "text/plain": [
       "((0,), (1,), (2,))"
      ]
     },
     "metadata": {},
     "output_type": "display_data"
    },
    {
     "name": "stdout",
     "output_type": "stream",
     "text": [
      "[2, 1]\n"
     ]
    },
    {
     "data": {
      "text/html": [
       "<html><script type=\"math/tex; mode=display\">\\newcommand{\\Bold}[1]{\\mathbf{#1}}-x_{01} \\theta_{00} + x_{02} \\theta_{00} + x_{00} \\theta_{01} - x_{02} \\theta_{01} - x_{00} \\theta_{02} + x_{01} \\theta_{02}</script></html>"
      ],
      "text/plain": [
       "-x01*theta00 + x02*theta00 + x00*theta01 - x02*theta01 - x00*theta02 + x01*theta02"
      ]
     },
     "metadata": {},
     "output_type": "display_data"
    },
    {
     "data": {
      "text/html": [
       "<html><script type=\"math/tex; mode=display\">\\newcommand{\\Bold}[1]{\\mathbf{#1}}\\left(\\left(0, 2\\right), \\left(1\\right)\\right)</script></html>"
      ],
      "text/plain": [
       "((0, 2), (1,))"
      ]
     },
     "metadata": {},
     "output_type": "display_data"
    },
    {
     "name": "stdout",
     "output_type": "stream",
     "text": [
      "[1, 1, 1]\n"
     ]
    },
    {
     "data": {
      "text/html": [
       "<html><script type=\"math/tex; mode=display\">\\newcommand{\\Bold}[1]{\\mathbf{#1}}-\\theta_{00}^{2} \\theta_{01} + \\theta_{00} \\theta_{01}^{2} + \\theta_{00}^{2} \\theta_{02} - \\theta_{01}^{2} \\theta_{02} - \\theta_{00} \\theta_{02}^{2} + \\theta_{01} \\theta_{02}^{2}</script></html>"
      ],
      "text/plain": [
       "-theta00^2*theta01 + theta00*theta01^2 + theta00^2*theta02 - theta01^2*theta02 - theta00*theta02^2 + theta01*theta02^2"
      ]
     },
     "metadata": {},
     "output_type": "display_data"
    },
    {
     "data": {
      "text/html": [
       "<html><script type=\"math/tex; mode=display\">\\newcommand{\\Bold}[1]{\\mathbf{#1}}\\left(\\left(0, 1, 2\\right)\\right)</script></html>"
      ],
      "text/plain": [
       "((0, 1, 2),)"
      ]
     },
     "metadata": {},
     "output_type": "display_data"
    }
   ],
   "source": [
    "for nu in Partitions(3):\n",
    "    print nu\n",
    "    show(vandermonde(nu))\n",
    "    show(antisymmetries(nu))"
   ]
  },
  {
   "cell_type": "code",
   "execution_count": 255,
   "metadata": {},
   "outputs": [
    {
     "data": {
      "text/html": [
       "<html><script type=\"math/tex; mode=display\">\\newcommand{\\Bold}[1]{\\mathbf{#1}}s_{} \\otimes s_{2,1} + s_{1} \\otimes s_{1,1,1}</script></html>"
      ],
      "text/plain": [
       "s[] # s[2, 1] + s[1] # s[1, 1, 1]"
      ]
     },
     "metadata": {},
     "output_type": "display_data"
    },
    {
     "data": {
      "text/html": [
       "<html><script type=\"math/tex; mode=display\">\\newcommand{\\Bold}[1]{\\mathbf{#1}}\\left\\{\\left(\\left(0, 1\\right), \\left(1, 1, 1\\right)\\right) : \\left(-x_{11} \\theta_{00} + x_{12} \\theta_{00} + x_{10} \\theta_{01} - x_{12} \\theta_{01} - x_{10} \\theta_{02} + x_{11} \\theta_{02}\\right), \\left(\\left(1, 0\\right), \\left(1, 1, 1\\right)\\right) : \\left(x_{01} \\theta_{00} - x_{02} \\theta_{00} - x_{00} \\theta_{01} + x_{02} \\theta_{01} + x_{00} \\theta_{02} - x_{01} \\theta_{02}\\right)\\right\\}</script></html>"
      ],
      "text/plain": [
       "{((0, 1),\n",
       "  (1,\n",
       "   1,\n",
       "   1)): (-x11*theta00 + x12*theta00 + x10*theta01 - x12*theta01 - x10*theta02 + x11*theta02,),\n",
       " ((1, 0),\n",
       "  (1,\n",
       "   1,\n",
       "   1)): (x01*theta00 - x02*theta00 - x00*theta01 + x02*theta01 + x00*theta02 - x01*theta02,)}"
      ]
     },
     "metadata": {},
     "output_type": "display_data"
    },
    {
     "data": {
      "text/html": [
       "<html><script type=\"math/tex; mode=display\">\\newcommand{\\Bold}[1]{\\mathbf{#1}}\\left\\{\\left(\\left(0, 0\\right), \\left(2, 1\\right)\\right) : \\left(\\theta_{00} - \\theta_{02}\\right)\\right\\}</script></html>"
      ],
      "text/plain": [
       "{((0, 0), (2, 1)): (theta00 - theta02,)}"
      ]
     },
     "metadata": {},
     "output_type": "display_data"
    }
   ],
   "source": [
    "mu = Partition([2,1])\n",
    "n = 3\n",
    "r = n-1\n",
    "v = vandermonde(mu)\n",
    "deg_v = v.degree()\n",
    "generator = {v.multidegree() : [v]}\n",
    "list_op = partial_derivatives(v.parent())\n",
    "W1 = Subspace(generators=generator, operators=list_op, add_degrees=add_degree)\n",
    "\n",
    "op_pol = polarization_operators(2, deg_v)\n",
    "W2 = PolarizedSpace(IsotypicComponent(W1, n), op_pol)\n",
    "show(character(W2))\n",
    "for v in W2.values():\n",
    "    show(v.basis())"
   ]
  },
  {
   "cell_type": "code",
   "execution_count": 256,
   "metadata": {},
   "outputs": [
    {
     "data": {
      "text/html": [
       "<html><script type=\"math/tex; mode=display\">\\newcommand{\\Bold}[1]{\\mathbf{#1}}s_{} \\otimes s_{2,1} + s_{1} \\otimes s_{1,1,1}</script></html>"
      ],
      "text/plain": [
       "s[] # s[2, 1] + s[1] # s[1, 1, 1]"
      ]
     },
     "metadata": {},
     "output_type": "display_data"
    },
    {
     "data": {
      "text/html": [
       "<html><script type=\"math/tex; mode=display\">\\newcommand{\\Bold}[1]{\\mathbf{#1}}\\left\\{\\left(\\left(0, 1\\right), \\left(1, 1, 1\\right)\\right) : \\left(x_{10} \\theta_{01}\\right), \\left(\\left(1, 0\\right), \\left(1, 1, 1\\right)\\right) : \\left(x_{00} \\theta_{01}\\right)\\right\\}</script></html>"
      ],
      "text/plain": [
       "{((0, 1), (1, 1, 1)): (x10*theta01,), ((1, 0), (1, 1, 1)): (x00*theta01,)}"
      ]
     },
     "metadata": {},
     "output_type": "display_data"
    },
    {
     "data": {
      "text/html": [
       "<html><script type=\"math/tex; mode=display\">\\newcommand{\\Bold}[1]{\\mathbf{#1}}\\left\\{\\left(\\left(0, 0\\right), \\left(2, 1\\right)\\right) : \\left(\\theta_{00}\\right)\\right\\}</script></html>"
      ],
      "text/plain": [
       "{((0, 0), (2, 1)): (theta00,)}"
      ]
     },
     "metadata": {},
     "output_type": "display_data"
    }
   ],
   "source": [
    "mu = Partition([2,1])\n",
    "n = 3\n",
    "r = n-1\n",
    "v = vandermonde(mu)\n",
    "deg_v = v.degree()\n",
    "generator = {v.multidegree() : [v]}\n",
    "list_op = partial_derivatives(v.parent())\n",
    "W1 = Subspace(generators=generator, operators=list_op, add_degrees=add_degree)\n",
    "\n",
    "op_pol = polarization_operators(r, deg_v)\n",
    "W2 = PolarizedSpace(IsotypicComponent(W1, n, use_antisymmetry=True), op_pol)\n",
    "show(character(W2))\n",
    "for v in W2.values():\n",
    "    show(v.basis())"
   ]
  },
  {
   "cell_type": "markdown",
   "metadata": {},
   "source": [
    "Comparaison des temps de calcul avec et sans les antisymétries sur un exemple plus gros"
   ]
  },
  {
   "cell_type": "code",
   "execution_count": 257,
   "metadata": {},
   "outputs": [],
   "source": [
    "import datetime"
   ]
  },
  {
   "cell_type": "code",
   "execution_count": 258,
   "metadata": {},
   "outputs": [
    {
     "data": {
      "text/html": [
       "<html><script type=\"math/tex; mode=display\">\\newcommand{\\Bold}[1]{\\mathbf{#1}}s_{} \\otimes s_{3,1} + s_{1} \\otimes s_{2,1,1} + s_{1} \\otimes s_{2,2} + s_{1,1} \\otimes s_{1,1,1,1} + s_{2} \\otimes s_{2,1,1} + s_{3} \\otimes s_{1,1,1,1}</script></html>"
      ],
      "text/plain": [
       "s[] # s[3, 1] + s[1] # s[2, 1, 1] + s[1] # s[2, 2] + s[1, 1] # s[1, 1, 1, 1] + s[2] # s[2, 1, 1] + s[3] # s[1, 1, 1, 1]"
      ]
     },
     "metadata": {},
     "output_type": "display_data"
    },
    {
     "data": {
      "text/html": [
       "<html><script type=\"math/tex; mode=display\">\\newcommand{\\Bold}[1]{\\mathbf{#1}}\\verb|0:00:01.667741|</script></html>"
      ],
      "text/plain": [
       "datetime.timedelta(0, 1, 667741)"
      ]
     },
     "metadata": {},
     "output_type": "display_data"
    }
   ],
   "source": [
    "t1 = datetime.datetime.now()\n",
    "mu = Partition([3,1])\n",
    "n = mu.size()\n",
    "r = n-1\n",
    "v = vandermonde(mu)\n",
    "deg_v = v.degree()\n",
    "generator = {v.multidegree() : [v]}\n",
    "list_op = partial_derivatives(v.parent())\n",
    "W1 = Subspace(generators=generator, operators=list_op, add_degrees=add_degree)\n",
    "\n",
    "op_pol = polarization_operators(r, deg_v)\n",
    "W2 = PolarizedSpace(IsotypicComponent(W1, n), op_pol)\n",
    "show(character(W2))\n",
    "t2 = datetime.datetime.now()\n",
    "show(t2-t1)"
   ]
  },
  {
   "cell_type": "code",
   "execution_count": 259,
   "metadata": {
    "scrolled": false
   },
   "outputs": [
    {
     "data": {
      "text/html": [
       "<html><script type=\"math/tex; mode=display\">\\newcommand{\\Bold}[1]{\\mathbf{#1}}s_{} \\otimes s_{3,1} + s_{1} \\otimes s_{2,1,1} + s_{1} \\otimes s_{2,2} + s_{1,1} \\otimes s_{1,1,1,1} + s_{2} \\otimes s_{2,1,1} + s_{3} \\otimes s_{1,1,1,1}</script></html>"
      ],
      "text/plain": [
       "s[] # s[3, 1] + s[1] # s[2, 1, 1] + s[1] # s[2, 2] + s[1, 1] # s[1, 1, 1, 1] + s[2] # s[2, 1, 1] + s[3] # s[1, 1, 1, 1]"
      ]
     },
     "metadata": {},
     "output_type": "display_data"
    },
    {
     "data": {
      "text/html": [
       "<html><script type=\"math/tex; mode=display\">\\newcommand{\\Bold}[1]{\\mathbf{#1}}\\verb|0:00:00.735903|</script></html>"
      ],
      "text/plain": [
       "datetime.timedelta(0, 0, 735903)"
      ]
     },
     "metadata": {},
     "output_type": "display_data"
    }
   ],
   "source": [
    "t1 = datetime.datetime.now()\n",
    "mu = Partition([3,1])\n",
    "n = mu.size()\n",
    "r = n-1\n",
    "v = vandermonde(mu)\n",
    "deg_v = v.degree()\n",
    "generator = {v.multidegree() : [v]}\n",
    "list_op = partial_derivatives(v.parent())\n",
    "W1 = Subspace(generators=generator, operators=list_op, add_degrees=add_degree)\n",
    "\n",
    "op_pol = polarization_operators(r, deg_v)\n",
    "W2 = PolarizedSpace(IsotypicComponent(W1, n, use_antisymmetry=True), op_pol)\n",
    "show(character(W2))\n",
    "t2 = datetime.datetime.now()\n",
    "show(t2-t1)"
   ]
  },
  {
   "cell_type": "markdown",
   "metadata": {},
   "source": [
    "### Exemples avec et sans les symétries sur les lignes"
   ]
  },
  {
   "cell_type": "markdown",
   "metadata": {},
   "source": [
    "Comparons les bases sur un petit exemple sans puis avec l'utilisation des symétries sur les lignes."
   ]
  },
  {
   "cell_type": "code",
   "execution_count": 260,
   "metadata": {},
   "outputs": [
    {
     "data": {
      "text/html": [
       "<html><script type=\"math/tex; mode=display\">\\newcommand{\\Bold}[1]{\\mathbf{#1}}s_{} \\otimes s_{2,1,1} + s_{1} \\otimes s_{1,1,1,1}</script></html>"
      ],
      "text/plain": [
       "s[] # s[2, 1, 1] + s[1] # s[1, 1, 1, 1]"
      ]
     },
     "metadata": {},
     "output_type": "display_data"
    },
    {
     "data": {
      "text/html": [
       "<html><script type=\"math/tex; mode=display\">\\newcommand{\\Bold}[1]{\\mathbf{#1}}\\left\\{\\left(\\left(0, 0, 0\\right), \\left(2, 1, 1\\right)\\right) : \\left(\\theta_{00}^{2} \\theta_{02} - \\theta_{00} \\theta_{02}^{2} - \\theta_{00}^{2} \\theta_{03} + \\theta_{02}^{2} \\theta_{03} + \\theta_{00} \\theta_{03}^{2} - \\theta_{02} \\theta_{03}^{2}\\right)\\right\\}</script></html>"
      ],
      "text/plain": [
       "{((0, 0, 0),\n",
       "  (2,\n",
       "   1,\n",
       "   1)): (theta00^2*theta02 - theta00*theta02^2 - theta00^2*theta03 + theta02^2*theta03 + theta00*theta03^2 - theta02*theta03^2,)}"
      ]
     },
     "metadata": {},
     "output_type": "display_data"
    },
    {
     "data": {
      "text/html": [
       "<html><script type=\"math/tex; mode=display\">\\newcommand{\\Bold}[1]{\\mathbf{#1}}\\left\\{\\left(\\left(0, 0, 1\\right), \\left(1, 1, 1, 1\\right)\\right) : \\left(-x_{22} \\theta_{00}^{2} \\theta_{01} + x_{23} \\theta_{00}^{2} \\theta_{01} + x_{22} \\theta_{00} \\theta_{01}^{2} - x_{23} \\theta_{00} \\theta_{01}^{2} + x_{21} \\theta_{00}^{2} \\theta_{02} - x_{23} \\theta_{00}^{2} \\theta_{02} - x_{20} \\theta_{01}^{2} \\theta_{02} + x_{23} \\theta_{01}^{2} \\theta_{02} - x_{21} \\theta_{00} \\theta_{02}^{2} + x_{23} \\theta_{00} \\theta_{02}^{2} + x_{20} \\theta_{01} \\theta_{02}^{2} - x_{23} \\theta_{01} \\theta_{02}^{2} - x_{21} \\theta_{00}^{2} \\theta_{03} + x_{22} \\theta_{00}^{2} \\theta_{03} + x_{20} \\theta_{01}^{2} \\theta_{03} - x_{22} \\theta_{01}^{2} \\theta_{03} - x_{20} \\theta_{02}^{2} \\theta_{03} + x_{21} \\theta_{02}^{2} \\theta_{03} + x_{21} \\theta_{00} \\theta_{03}^{2} - x_{22} \\theta_{00} \\theta_{03}^{2} - x_{20} \\theta_{01} \\theta_{03}^{2} + x_{22} \\theta_{01} \\theta_{03}^{2} + x_{20} \\theta_{02} \\theta_{03}^{2} - x_{21} \\theta_{02} \\theta_{03}^{2}\\right), \\left(\\left(0, 1, 0\\right), \\left(1, 1, 1, 1\\right)\\right) : \\left(-x_{12} \\theta_{00}^{2} \\theta_{01} + x_{13} \\theta_{00}^{2} \\theta_{01} + x_{12} \\theta_{00} \\theta_{01}^{2} - x_{13} \\theta_{00} \\theta_{01}^{2} + x_{11} \\theta_{00}^{2} \\theta_{02} - x_{13} \\theta_{00}^{2} \\theta_{02} - x_{10} \\theta_{01}^{2} \\theta_{02} + x_{13} \\theta_{01}^{2} \\theta_{02} - x_{11} \\theta_{00} \\theta_{02}^{2} + x_{13} \\theta_{00} \\theta_{02}^{2} + x_{10} \\theta_{01} \\theta_{02}^{2} - x_{13} \\theta_{01} \\theta_{02}^{2} - x_{11} \\theta_{00}^{2} \\theta_{03} + x_{12} \\theta_{00}^{2} \\theta_{03} + x_{10} \\theta_{01}^{2} \\theta_{03} - x_{12} \\theta_{01}^{2} \\theta_{03} - x_{10} \\theta_{02}^{2} \\theta_{03} + x_{11} \\theta_{02}^{2} \\theta_{03} + x_{11} \\theta_{00} \\theta_{03}^{2} - x_{12} \\theta_{00} \\theta_{03}^{2} - x_{10} \\theta_{01} \\theta_{03}^{2} + x_{12} \\theta_{01} \\theta_{03}^{2} + x_{10} \\theta_{02} \\theta_{03}^{2} - x_{11} \\theta_{02} \\theta_{03}^{2}\\right), \\left(\\left(1, 0, 0\\right), \\left(1, 1, 1, 1\\right)\\right) : \\left(-x_{02} \\theta_{00}^{2} \\theta_{01} + x_{03} \\theta_{00}^{2} \\theta_{01} + x_{02} \\theta_{00} \\theta_{01}^{2} - x_{03} \\theta_{00} \\theta_{01}^{2} + x_{01} \\theta_{00}^{2} \\theta_{02} - x_{03} \\theta_{00}^{2} \\theta_{02} - x_{00} \\theta_{01}^{2} \\theta_{02} + x_{03} \\theta_{01}^{2} \\theta_{02} - x_{01} \\theta_{00} \\theta_{02}^{2} + x_{03} \\theta_{00} \\theta_{02}^{2} + x_{00} \\theta_{01} \\theta_{02}^{2} - x_{03} \\theta_{01} \\theta_{02}^{2} - x_{01} \\theta_{00}^{2} \\theta_{03} + x_{02} \\theta_{00}^{2} \\theta_{03} + x_{00} \\theta_{01}^{2} \\theta_{03} - x_{02} \\theta_{01}^{2} \\theta_{03} - x_{00} \\theta_{02}^{2} \\theta_{03} + x_{01} \\theta_{02}^{2} \\theta_{03} + x_{01} \\theta_{00} \\theta_{03}^{2} - x_{02} \\theta_{00} \\theta_{03}^{2} - x_{00} \\theta_{01} \\theta_{03}^{2} + x_{02} \\theta_{01} \\theta_{03}^{2} + x_{00} \\theta_{02} \\theta_{03}^{2} - x_{01} \\theta_{02} \\theta_{03}^{2}\\right)\\right\\}</script></html>"
      ],
      "text/plain": [
       "{((0, 0, 1),\n",
       "  (1,\n",
       "   1,\n",
       "   1,\n",
       "   1)): (-x22*theta00^2*theta01 + x23*theta00^2*theta01 + x22*theta00*theta01^2 - x23*theta00*theta01^2 + x21*theta00^2*theta02 - x23*theta00^2*theta02 - x20*theta01^2*theta02 + x23*theta01^2*theta02 - x21*theta00*theta02^2 + x23*theta00*theta02^2 + x20*theta01*theta02^2 - x23*theta01*theta02^2 - x21*theta00^2*theta03 + x22*theta00^2*theta03 + x20*theta01^2*theta03 - x22*theta01^2*theta03 - x20*theta02^2*theta03 + x21*theta02^2*theta03 + x21*theta00*theta03^2 - x22*theta00*theta03^2 - x20*theta01*theta03^2 + x22*theta01*theta03^2 + x20*theta02*theta03^2 - x21*theta02*theta03^2,),\n",
       " ((0, 1, 0),\n",
       "  (1,\n",
       "   1,\n",
       "   1,\n",
       "   1)): (-x12*theta00^2*theta01 + x13*theta00^2*theta01 + x12*theta00*theta01^2 - x13*theta00*theta01^2 + x11*theta00^2*theta02 - x13*theta00^2*theta02 - x10*theta01^2*theta02 + x13*theta01^2*theta02 - x11*theta00*theta02^2 + x13*theta00*theta02^2 + x10*theta01*theta02^2 - x13*theta01*theta02^2 - x11*theta00^2*theta03 + x12*theta00^2*theta03 + x10*theta01^2*theta03 - x12*theta01^2*theta03 - x10*theta02^2*theta03 + x11*theta02^2*theta03 + x11*theta00*theta03^2 - x12*theta00*theta03^2 - x10*theta01*theta03^2 + x12*theta01*theta03^2 + x10*theta02*theta03^2 - x11*theta02*theta03^2,),\n",
       " ((1, 0, 0),\n",
       "  (1,\n",
       "   1,\n",
       "   1,\n",
       "   1)): (-x02*theta00^2*theta01 + x03*theta00^2*theta01 + x02*theta00*theta01^2 - x03*theta00*theta01^2 + x01*theta00^2*theta02 - x03*theta00^2*theta02 - x00*theta01^2*theta02 + x03*theta01^2*theta02 - x01*theta00*theta02^2 + x03*theta00*theta02^2 + x00*theta01*theta02^2 - x03*theta01*theta02^2 - x01*theta00^2*theta03 + x02*theta00^2*theta03 + x00*theta01^2*theta03 - x02*theta01^2*theta03 - x00*theta02^2*theta03 + x01*theta02^2*theta03 + x01*theta00*theta03^2 - x02*theta00*theta03^2 - x00*theta01*theta03^2 + x02*theta01*theta03^2 + x00*theta02*theta03^2 - x01*theta02*theta03^2,)}"
      ]
     },
     "metadata": {},
     "output_type": "display_data"
    }
   ],
   "source": [
    "mu = Partition([2,1,1])\n",
    "n = mu.size()\n",
    "r = n-1\n",
    "v = vandermonde(mu)\n",
    "deg_v = v.degree()\n",
    "generator = {v.multidegree() : [v]}\n",
    "list_op = partial_derivatives(v.parent())\n",
    "W1 = Subspace(generators=generator, operators=list_op, add_degrees=add_degree)\n",
    "\n",
    "op_pol = polarization_operators(r, deg_v)\n",
    "W2 = PolarizedSpace(IsotypicComponent(W1, n), op_pol)\n",
    "show(character(W2))\n",
    "for v in W2.values():\n",
    "    show(v.basis())"
   ]
  },
  {
   "cell_type": "code",
   "execution_count": 261,
   "metadata": {
    "scrolled": false
   },
   "outputs": [
    {
     "data": {
      "text/html": [
       "<html><script type=\"math/tex; mode=display\">\\newcommand{\\Bold}[1]{\\mathbf{#1}}s_{} \\otimes s_{2,1,1} + s_{1} \\otimes s_{1,1,1,1}</script></html>"
      ],
      "text/plain": [
       "s[] # s[2, 1, 1] + s[1] # s[1, 1, 1, 1]"
      ]
     },
     "metadata": {},
     "output_type": "display_data"
    },
    {
     "data": {
      "text/html": [
       "<html><script type=\"math/tex; mode=display\">\\newcommand{\\Bold}[1]{\\mathbf{#1}}\\left\\{\\left(\\left(0, 0, 0\\right), \\left(2, 1, 1\\right)\\right) : \\left(\\theta_{00}^{2} \\theta_{02} - \\theta_{00} \\theta_{02}^{2} - \\theta_{00}^{2} \\theta_{03} + \\theta_{02}^{2} \\theta_{03} + \\theta_{00} \\theta_{03}^{2} - \\theta_{02} \\theta_{03}^{2}\\right)\\right\\}</script></html>"
      ],
      "text/plain": [
       "{((0, 0, 0),\n",
       "  (2,\n",
       "   1,\n",
       "   1)): (theta00^2*theta02 - theta00*theta02^2 - theta00^2*theta03 + theta02^2*theta03 + theta00*theta03^2 - theta02*theta03^2,)}"
      ]
     },
     "metadata": {},
     "output_type": "display_data"
    },
    {
     "data": {
      "text/html": [
       "<html><script type=\"math/tex; mode=display\">\\newcommand{\\Bold}[1]{\\mathbf{#1}}\\left\\{\\left(\\left(1, 0, 0\\right), \\left(1, 1, 1, 1\\right)\\right) : \\left(-x_{02} \\theta_{00}^{2} \\theta_{01} + x_{03} \\theta_{00}^{2} \\theta_{01} + x_{02} \\theta_{00} \\theta_{01}^{2} - x_{03} \\theta_{00} \\theta_{01}^{2} + x_{01} \\theta_{00}^{2} \\theta_{02} - x_{03} \\theta_{00}^{2} \\theta_{02} - x_{00} \\theta_{01}^{2} \\theta_{02} + x_{03} \\theta_{01}^{2} \\theta_{02} - x_{01} \\theta_{00} \\theta_{02}^{2} + x_{03} \\theta_{00} \\theta_{02}^{2} + x_{00} \\theta_{01} \\theta_{02}^{2} - x_{03} \\theta_{01} \\theta_{02}^{2} - x_{01} \\theta_{00}^{2} \\theta_{03} + x_{02} \\theta_{00}^{2} \\theta_{03} + x_{00} \\theta_{01}^{2} \\theta_{03} - x_{02} \\theta_{01}^{2} \\theta_{03} - x_{00} \\theta_{02}^{2} \\theta_{03} + x_{01} \\theta_{02}^{2} \\theta_{03} + x_{01} \\theta_{00} \\theta_{03}^{2} - x_{02} \\theta_{00} \\theta_{03}^{2} - x_{00} \\theta_{01} \\theta_{03}^{2} + x_{02} \\theta_{01} \\theta_{03}^{2} + x_{00} \\theta_{02} \\theta_{03}^{2} - x_{01} \\theta_{02} \\theta_{03}^{2}\\right)\\right\\}</script></html>"
      ],
      "text/plain": [
       "{((1, 0, 0),\n",
       "  (1,\n",
       "   1,\n",
       "   1,\n",
       "   1)): (-x02*theta00^2*theta01 + x03*theta00^2*theta01 + x02*theta00*theta01^2 - x03*theta00*theta01^2 + x01*theta00^2*theta02 - x03*theta00^2*theta02 - x00*theta01^2*theta02 + x03*theta01^2*theta02 - x01*theta00*theta02^2 + x03*theta00*theta02^2 + x00*theta01*theta02^2 - x03*theta01*theta02^2 - x01*theta00^2*theta03 + x02*theta00^2*theta03 + x00*theta01^2*theta03 - x02*theta01^2*theta03 - x00*theta02^2*theta03 + x01*theta02^2*theta03 + x01*theta00*theta03^2 - x02*theta00*theta03^2 - x00*theta01*theta03^2 + x02*theta01*theta03^2 + x00*theta02*theta03^2 - x01*theta02*theta03^2,)}"
      ]
     },
     "metadata": {},
     "output_type": "display_data"
    }
   ],
   "source": [
    "mu = Partition([2,1,1])\n",
    "n = 4\n",
    "r = n-1\n",
    "v = vandermonde(mu)\n",
    "deg_v = v.degree()\n",
    "generator = {v.multidegree() : [v]}\n",
    "list_op = partial_derivatives(v.parent())\n",
    "W1 = Subspace(generators=generator, operators=list_op, add_degrees=add_degree)\n",
    "\n",
    "op_pol = polarization_operators(r, max_deg=deg_v, row_symmetry=\"permutation\")\n",
    "W2 = PolarizedSpace(IsotypicComponent(W1, n), op_pol, add_degrees=add_degrees_symmetric)\n",
    "show(character(W2, row_symmetry=\"permutation\"))\n",
    "for v in W2.values():\n",
    "    show(v.basis())"
   ]
  },
  {
   "cell_type": "markdown",
   "metadata": {},
   "source": [
    "Avec les antisymétries aussi. "
   ]
  },
  {
   "cell_type": "code",
   "execution_count": 262,
   "metadata": {},
   "outputs": [
    {
     "data": {
      "text/html": [
       "<html><script type=\"math/tex; mode=display\">\\newcommand{\\Bold}[1]{\\mathbf{#1}}s_{} \\otimes s_{2,1,1} + s_{1} \\otimes s_{1,1,1,1}</script></html>"
      ],
      "text/plain": [
       "s[] # s[2, 1, 1] + s[1] # s[1, 1, 1, 1]"
      ]
     },
     "metadata": {},
     "output_type": "display_data"
    },
    {
     "data": {
      "text/html": [
       "<html><script type=\"math/tex; mode=display\">\\newcommand{\\Bold}[1]{\\mathbf{#1}}\\left\\{\\left(\\left(0, 0, 0\\right), \\left(2, 1, 1\\right)\\right) : \\left(\\theta_{00}^{2} \\theta_{02}\\right)\\right\\}</script></html>"
      ],
      "text/plain": [
       "{((0, 0, 0), (2, 1, 1)): (theta00^2*theta02,)}"
      ]
     },
     "metadata": {},
     "output_type": "display_data"
    },
    {
     "data": {
      "text/html": [
       "<html><script type=\"math/tex; mode=display\">\\newcommand{\\Bold}[1]{\\mathbf{#1}}\\left\\{\\left(\\left(1, 0, 0\\right), \\left(1, 1, 1, 1\\right)\\right) : \\left(x_{00} \\theta_{01}^{2} \\theta_{02}\\right)\\right\\}</script></html>"
      ],
      "text/plain": [
       "{((1, 0, 0), (1, 1, 1, 1)): (x00*theta01^2*theta02,)}"
      ]
     },
     "metadata": {},
     "output_type": "display_data"
    }
   ],
   "source": [
    "mu = Partition([2,1,1])\n",
    "n = 4\n",
    "r = n-1\n",
    "v = vandermonde(mu)\n",
    "deg_v = v.degree()\n",
    "generator = {v.multidegree() : [v]}\n",
    "list_op = partial_derivatives(v.parent())\n",
    "W1 = Subspace(generators=generator, operators=list_op, add_degrees=add_degree)\n",
    "\n",
    "op_pol = polarization_operators(r, max_deg=deg_v, row_symmetry=\"permutation\")\n",
    "W2 = PolarizedSpace(IsotypicComponent(W1, n, use_antisymmetry=True), op_pol, add_degrees=add_degrees_symmetric)\n",
    "show(character(W2, row_symmetry=\"permutation\"))\n",
    "for v in W2.values():\n",
    "    show(v.basis())"
   ]
  },
  {
   "cell_type": "markdown",
   "metadata": {},
   "source": [
    "Comparaison des temps de calcul avec et sans les symétries sur un exemple plus gros"
   ]
  },
  {
   "cell_type": "code",
   "execution_count": 263,
   "metadata": {},
   "outputs": [],
   "source": [
    "import datetime"
   ]
  },
  {
   "cell_type": "code",
   "execution_count": 264,
   "metadata": {},
   "outputs": [
    {
     "data": {
      "text/html": [
       "<html><script type=\"math/tex; mode=display\">\\newcommand{\\Bold}[1]{\\mathbf{#1}}s_{} \\otimes s_{3,1} + s_{1} \\otimes s_{2,1,1} + s_{1} \\otimes s_{2,2} + s_{1,1} \\otimes s_{1,1,1,1} + s_{2} \\otimes s_{2,1,1} + s_{3} \\otimes s_{1,1,1,1}</script></html>"
      ],
      "text/plain": [
       "s[] # s[3, 1] + s[1] # s[2, 1, 1] + s[1] # s[2, 2] + s[1, 1] # s[1, 1, 1, 1] + s[2] # s[2, 1, 1] + s[3] # s[1, 1, 1, 1]"
      ]
     },
     "metadata": {},
     "output_type": "display_data"
    },
    {
     "data": {
      "text/html": [
       "<html><script type=\"math/tex; mode=display\">\\newcommand{\\Bold}[1]{\\mathbf{#1}}\\verb|0:00:01.772244|</script></html>"
      ],
      "text/plain": [
       "datetime.timedelta(0, 1, 772244)"
      ]
     },
     "metadata": {},
     "output_type": "display_data"
    }
   ],
   "source": [
    "t1 = datetime.datetime.now()\n",
    "mu = Partition([3,1])\n",
    "n = mu.size()\n",
    "r = n-1\n",
    "v = vandermonde(mu)\n",
    "deg_v = v.degree()\n",
    "generator = {v.multidegree() : [v]}\n",
    "list_op = partial_derivatives(v.parent())\n",
    "W1 = Subspace(generators=generator, operators=list_op, add_degrees=add_degree)\n",
    "\n",
    "op_pol = polarization_operators(r, deg_v)\n",
    "W2 = PolarizedSpace(IsotypicComponent(W1, n), op_pol)\n",
    "show(character(W2))\n",
    "t2 = datetime.datetime.now()\n",
    "show(t2-t1)"
   ]
  },
  {
   "cell_type": "code",
   "execution_count": 265,
   "metadata": {},
   "outputs": [
    {
     "data": {
      "text/html": [
       "<html><script type=\"math/tex; mode=display\">\\newcommand{\\Bold}[1]{\\mathbf{#1}}s_{} \\otimes s_{3,1} + s_{1} \\otimes s_{2,1,1} + s_{1} \\otimes s_{2,2} + s_{1,1} \\otimes s_{1,1,1,1} + s_{2} \\otimes s_{2,1,1} + s_{3} \\otimes s_{1,1,1,1}</script></html>"
      ],
      "text/plain": [
       "s[] # s[3, 1] + s[1] # s[2, 1, 1] + s[1] # s[2, 2] + s[1, 1] # s[1, 1, 1, 1] + s[2] # s[2, 1, 1] + s[3] # s[1, 1, 1, 1]"
      ]
     },
     "metadata": {},
     "output_type": "display_data"
    },
    {
     "data": {
      "text/html": [
       "<html><script type=\"math/tex; mode=display\">\\newcommand{\\Bold}[1]{\\mathbf{#1}}\\verb|0:00:01.209982|</script></html>"
      ],
      "text/plain": [
       "datetime.timedelta(0, 1, 209982)"
      ]
     },
     "metadata": {},
     "output_type": "display_data"
    }
   ],
   "source": [
    "t1 = datetime.datetime.now()\n",
    "mu = Partition([3,1])\n",
    "n = mu.size()\n",
    "r = n-1\n",
    "v = vandermonde(mu)\n",
    "deg_v = v.degree()\n",
    "generator = {v.multidegree() : [v]}\n",
    "list_op = partial_derivatives(v.parent())\n",
    "W1 = Subspace(generators=generator, operators=list_op, add_degrees=add_degree)\n",
    "\n",
    "op_pol = polarization_operators(r, max_deg=deg_v, row_symmetry=\"permutation\")\n",
    "W2 = PolarizedSpace(IsotypicComponent(W1, n), op_pol, add_degrees=add_degrees_symmetric)\n",
    "show(character(W2, row_symmetry=\"permutation\"))\n",
    "t2 = datetime.datetime.now()\n",
    "show(t2-t1)"
   ]
  },
  {
   "cell_type": "code",
   "execution_count": 266,
   "metadata": {},
   "outputs": [
    {
     "data": {
      "text/html": [
       "<html><script type=\"math/tex; mode=display\">\\newcommand{\\Bold}[1]{\\mathbf{#1}}s_{} \\otimes s_{3,1} + s_{1} \\otimes s_{2,1,1} + s_{1} \\otimes s_{2,2} + s_{1,1} \\otimes s_{1,1,1,1} + s_{2} \\otimes s_{2,1,1} + s_{3} \\otimes s_{1,1,1,1}</script></html>"
      ],
      "text/plain": [
       "s[] # s[3, 1] + s[1] # s[2, 1, 1] + s[1] # s[2, 2] + s[1, 1] # s[1, 1, 1, 1] + s[2] # s[2, 1, 1] + s[3] # s[1, 1, 1, 1]"
      ]
     },
     "metadata": {},
     "output_type": "display_data"
    },
    {
     "data": {
      "text/html": [
       "<html><script type=\"math/tex; mode=display\">\\newcommand{\\Bold}[1]{\\mathbf{#1}}\\verb|0:00:00.584504|</script></html>"
      ],
      "text/plain": [
       "datetime.timedelta(0, 0, 584504)"
      ]
     },
     "metadata": {},
     "output_type": "display_data"
    }
   ],
   "source": [
    "t1 = datetime.datetime.now()\n",
    "mu = Partition([3,1])\n",
    "n = mu.size()\n",
    "r = n-1\n",
    "v = vandermonde(mu)\n",
    "deg_v = v.degree()\n",
    "generator = {v.multidegree() : [v]}\n",
    "list_op = partial_derivatives(v.parent())\n",
    "W1 = Subspace(generators=generator, operators=list_op, add_degrees=add_degree)\n",
    "\n",
    "op_pol = polarization_operators(r, max_deg=deg_v, row_symmetry=\"permutation\")\n",
    "W2 = PolarizedSpace(IsotypicComponent(W1, n, use_antisymmetry=True), op_pol, add_degrees=add_degrees_symmetric)\n",
    "show(character(W2, row_symmetry=\"permutation\"))\n",
    "t2 = datetime.datetime.now()\n",
    "show(t2-t1)"
   ]
  },
  {
   "cell_type": "markdown",
   "metadata": {},
   "source": [
    "### Cas $m=4$, $n=6$"
   ]
  },
  {
   "cell_type": "code",
   "execution_count": 267,
   "metadata": {
    "scrolled": true
   },
   "outputs": [],
   "source": [
    "v = vandermonde(Diagram([(0,0),(1,0),(2,0),(3,0),(0,1),(2,1)]))\n",
    "deg_v = v.degree()\n",
    "generator = {v.multidegree() : [v]}\n",
    "list_op = partial_derivatives(v.parent())\n",
    "W1 = Subspace(generators=generator, operators=list_op, add_degrees=add_degree)\n",
    "\n",
    "op_pol = polarization_operators(3, max_deg=deg_v, row_symmetry=\"permutation\")\n",
    "#W2 = PolarizedSpace(IsotypicComponent(W1, 6, use_antisymmetry=True), op_pol)\n",
    "#character(W2, row_symmetry=\"permutation\")"
   ]
  },
  {
   "cell_type": "markdown",
   "metadata": {},
   "source": [
    "### Autres cas\n",
    "\n",
    "#### Diagramme $\\{(0,0),(0,1),(1,1),(0,2)\\}$ et autres\n",
    "\n",
    "Pas de quotient dans ce cas."
   ]
  },
  {
   "cell_type": "code",
   "execution_count": 56,
   "metadata": {},
   "outputs": [],
   "source": [
    "def f(gamma):\n",
    "    v = vandermonde(gamma)\n",
    "    n = gamma.size()\n",
    "    deg_v = v.degree()\n",
    "    generator = {v.multidegree() : [v]}\n",
    "    list_op = partial_derivatives(v.parent())\n",
    "    W1 = Subspace(generators=generator, operators=list_op, add_degrees=add_degree)\n",
    "\n",
    "    r = 1\n",
    "    op_pol = polarization_operators(r, deg_v, row_symmetry=\"permutation\")\n",
    "    show(IsotypicComponent(W1, Partition([1 for i in range(n)])).basis())\n",
    "    show(IsotypicComponent(W1, gamma).basis())\n",
    "    W1 = PolarizedSpace(IsotypicComponent(W1, n, use_antisymmetry=True), op_pol)\n",
    "    return character(W1, row_symmetry=\"permutation\")"
   ]
  },
  {
   "cell_type": "code",
   "execution_count": 57,
   "metadata": {},
   "outputs": [
    {
     "data": {
      "text/html": [
       "<html><script type=\"math/tex; mode=display\">\\newcommand{\\Bold}[1]{\\mathbf{#1}}\\left\\{\\left(\\left(1\\right), \\left(1, 1\\right)\\right) : \\left(-x_{00} + x_{01}\\right)\\right\\}</script></html>"
      ],
      "text/plain": [
       "{((1,), (1, 1)): (-x00 + x01,)}"
      ]
     },
     "metadata": {},
     "output_type": "display_data"
    },
    {
     "data": {
      "text/html": [
       "<html><script type=\"math/tex; mode=display\">\\newcommand{\\Bold}[1]{\\mathbf{#1}}\\left\\{\\left(\\left(0\\right), \\left(2\\right)\\right) : \\left(1\\right)\\right\\}</script></html>"
      ],
      "text/plain": [
       "{((0,), (2,)): (1,)}"
      ]
     },
     "metadata": {},
     "output_type": "display_data"
    },
    {
     "data": {
      "text/html": [
       "<html><script type=\"math/tex; mode=display\">\\newcommand{\\Bold}[1]{\\mathbf{#1}}s_{} \\otimes s_{2} + s_{1} \\otimes s_{1,1}</script></html>"
      ],
      "text/plain": [
       "s[] # s[2] + s[1] # s[1, 1]"
      ]
     },
     "execution_count": 57,
     "metadata": {},
     "output_type": "execute_result"
    }
   ],
   "source": [
    "f(Partition([2]))"
   ]
  },
  {
   "cell_type": "code",
   "execution_count": 58,
   "metadata": {},
   "outputs": [
    {
     "data": {
      "text/html": [
       "<html><script type=\"math/tex; mode=display\">\\newcommand{\\Bold}[1]{\\mathbf{#1}}\\left\\{\\left(\\left(1\\right), \\left(1, 1, 1\\right)\\right) : \\left(x_{01} \\theta_{00} - x_{02} \\theta_{00} - x_{00} \\theta_{01} + x_{02} \\theta_{01} + x_{00} \\theta_{02} - x_{01} \\theta_{02}\\right)\\right\\}</script></html>"
      ],
      "text/plain": [
       "{((1,),\n",
       "  (1,\n",
       "   1,\n",
       "   1)): (x01*theta00 - x02*theta00 - x00*theta01 + x02*theta01 + x00*theta02 - x01*theta02,)}"
      ]
     },
     "metadata": {},
     "output_type": "display_data"
    },
    {
     "data": {
      "text/html": [
       "<html><script type=\"math/tex; mode=display\">\\newcommand{\\Bold}[1]{\\mathbf{#1}}\\left\\{\\left(\\left(0\\right), \\left(2, 1\\right)\\right) : \\left(-\\theta_{00} + \\theta_{02}\\right)\\right\\}</script></html>"
      ],
      "text/plain": [
       "{((0,), (2, 1)): (-theta00 + theta02,)}"
      ]
     },
     "metadata": {},
     "output_type": "display_data"
    },
    {
     "data": {
      "text/html": [
       "<html><script type=\"math/tex; mode=display\">\\newcommand{\\Bold}[1]{\\mathbf{#1}}s_{} \\otimes s_{2,1} + s_{1} \\otimes s_{1,1,1}</script></html>"
      ],
      "text/plain": [
       "s[] # s[2, 1] + s[1] # s[1, 1, 1]"
      ]
     },
     "execution_count": 58,
     "metadata": {},
     "output_type": "execute_result"
    }
   ],
   "source": [
    "f(Partition([2,1]))"
   ]
  },
  {
   "cell_type": "code",
   "execution_count": 59,
   "metadata": {},
   "outputs": [
    {
     "data": {
      "text/html": [
       "<html><script type=\"math/tex; mode=display\">\\newcommand{\\Bold}[1]{\\mathbf{#1}}\\left\\{\\left(\\left(1\\right), \\left(1, 1, 1, 1\\right)\\right) : \\left(x_{02} \\theta_{00}^{2} \\theta_{01} - x_{03} \\theta_{00}^{2} \\theta_{01} - x_{02} \\theta_{00} \\theta_{01}^{2} + x_{03} \\theta_{00} \\theta_{01}^{2} - x_{01} \\theta_{00}^{2} \\theta_{02} + x_{03} \\theta_{00}^{2} \\theta_{02} + x_{00} \\theta_{01}^{2} \\theta_{02} - x_{03} \\theta_{01}^{2} \\theta_{02} + x_{01} \\theta_{00} \\theta_{02}^{2} - x_{03} \\theta_{00} \\theta_{02}^{2} - x_{00} \\theta_{01} \\theta_{02}^{2} + x_{03} \\theta_{01} \\theta_{02}^{2} + x_{01} \\theta_{00}^{2} \\theta_{03} - x_{02} \\theta_{00}^{2} \\theta_{03} - x_{00} \\theta_{01}^{2} \\theta_{03} + x_{02} \\theta_{01}^{2} \\theta_{03} + x_{00} \\theta_{02}^{2} \\theta_{03} - x_{01} \\theta_{02}^{2} \\theta_{03} - x_{01} \\theta_{00} \\theta_{03}^{2} + x_{02} \\theta_{00} \\theta_{03}^{2} + x_{00} \\theta_{01} \\theta_{03}^{2} - x_{02} \\theta_{01} \\theta_{03}^{2} - x_{00} \\theta_{02} \\theta_{03}^{2} + x_{01} \\theta_{02} \\theta_{03}^{2}\\right)\\right\\}</script></html>"
      ],
      "text/plain": [
       "{((1,),\n",
       "  (1,\n",
       "   1,\n",
       "   1,\n",
       "   1)): (x02*theta00^2*theta01 - x03*theta00^2*theta01 - x02*theta00*theta01^2 + x03*theta00*theta01^2 - x01*theta00^2*theta02 + x03*theta00^2*theta02 + x00*theta01^2*theta02 - x03*theta01^2*theta02 + x01*theta00*theta02^2 - x03*theta00*theta02^2 - x00*theta01*theta02^2 + x03*theta01*theta02^2 + x01*theta00^2*theta03 - x02*theta00^2*theta03 - x00*theta01^2*theta03 + x02*theta01^2*theta03 + x00*theta02^2*theta03 - x01*theta02^2*theta03 - x01*theta00*theta03^2 + x02*theta00*theta03^2 + x00*theta01*theta03^2 - x02*theta01*theta03^2 - x00*theta02*theta03^2 + x01*theta02*theta03^2,)}"
      ]
     },
     "metadata": {},
     "output_type": "display_data"
    },
    {
     "data": {
      "text/html": [
       "<html><script type=\"math/tex; mode=display\">\\newcommand{\\Bold}[1]{\\mathbf{#1}}\\left\\{\\left(\\left(0\\right), \\left(2, 1, 1\\right)\\right) : \\left(-\\theta_{00}^{2} \\theta_{02} + \\theta_{00} \\theta_{02}^{2} + \\theta_{00}^{2} \\theta_{03} - \\theta_{02}^{2} \\theta_{03} - \\theta_{00} \\theta_{03}^{2} + \\theta_{02} \\theta_{03}^{2}\\right)\\right\\}</script></html>"
      ],
      "text/plain": [
       "{((0,),\n",
       "  (2,\n",
       "   1,\n",
       "   1)): (-theta00^2*theta02 + theta00*theta02^2 + theta00^2*theta03 - theta02^2*theta03 - theta00*theta03^2 + theta02*theta03^2,)}"
      ]
     },
     "metadata": {},
     "output_type": "display_data"
    },
    {
     "data": {
      "text/html": [
       "<html><script type=\"math/tex; mode=display\">\\newcommand{\\Bold}[1]{\\mathbf{#1}}s_{} \\otimes s_{2,1,1} + s_{1} \\otimes s_{1,1,1,1}</script></html>"
      ],
      "text/plain": [
       "s[] # s[2, 1, 1] + s[1] # s[1, 1, 1, 1]"
      ]
     },
     "execution_count": 59,
     "metadata": {},
     "output_type": "execute_result"
    }
   ],
   "source": [
    "f(Partition([2,1,1]))"
   ]
  },
  {
   "cell_type": "code",
   "execution_count": 61,
   "metadata": {},
   "outputs": [
    {
     "data": {
      "text/html": [
       "<html><script type=\"math/tex; mode=display\">\\newcommand{\\Bold}[1]{\\mathbf{#1}}\\left\\{\\left(\\left(2\\right), \\left(1, 1, 1, 1, 1, 1\\right)\\right) : \\left(x_{02} x_{04} \\theta_{00}^{3} \\theta_{01}^{2} \\theta_{02} \\theta_{03} - x_{03} x_{04} \\theta_{00}^{3} \\theta_{01}^{2} \\theta_{02} \\theta_{03} - x_{02} x_{05} \\theta_{00}^{3} \\theta_{01}^{2} \\theta_{02} \\theta_{03} + x_{03} x_{05} \\theta_{00}^{3} \\theta_{01}^{2} \\theta_{02} \\theta_{03} - x_{02} x_{04} \\theta_{00}^{2} \\theta_{01}^{3} \\theta_{02} \\theta_{03} + x_{03} x_{04} \\theta_{00}^{2} \\theta_{01}^{3} \\theta_{02} \\theta_{03} + x_{02} x_{05} \\theta_{00}^{2} \\theta_{01}^{3} \\theta_{02} \\theta_{03} - x_{03} x_{05} \\theta_{00}^{2} \\theta_{01}^{3} \\theta_{02} \\theta_{03} - x_{01} x_{04} \\theta_{00}^{3} \\theta_{01} \\theta_{02}^{2} \\theta_{03} + x_{03} x_{04} \\theta_{00}^{3} \\theta_{01} \\theta_{02}^{2} \\theta_{03} + x_{01} x_{05} \\theta_{00}^{3} \\theta_{01} \\theta_{02}^{2} \\theta_{03} - x_{03} x_{05} \\theta_{00}^{3} \\theta_{01} \\theta_{02}^{2} \\theta_{03} + x_{00} x_{04} \\theta_{00} \\theta_{01}^{3} \\theta_{02}^{2} \\theta_{03} - x_{03} x_{04} \\theta_{00} \\theta_{01}^{3} \\theta_{02}^{2} \\theta_{03} - x_{00} x_{05} \\theta_{00} \\theta_{01}^{3} \\theta_{02}^{2} \\theta_{03} + x_{03} x_{05} \\theta_{00} \\theta_{01}^{3} \\theta_{02}^{2} \\theta_{03} + x_{01} x_{04} \\theta_{00}^{2} \\theta_{01} \\theta_{02}^{3} \\theta_{03} - x_{03} x_{04} \\theta_{00}^{2} \\theta_{01} \\theta_{02}^{3} \\theta_{03} - x_{01} x_{05} \\theta_{00}^{2} \\theta_{01} \\theta_{02}^{3} \\theta_{03} + x_{03} x_{05} \\theta_{00}^{2} \\theta_{01} \\theta_{02}^{3} \\theta_{03} - x_{00} x_{04} \\theta_{00} \\theta_{01}^{2} \\theta_{02}^{3} \\theta_{03} + x_{03} x_{04} \\theta_{00} \\theta_{01}^{2} \\theta_{02}^{3} \\theta_{03} + x_{00} x_{05} \\theta_{00} \\theta_{01}^{2} \\theta_{02}^{3} \\theta_{03} - x_{03} x_{05} \\theta_{00} \\theta_{01}^{2} \\theta_{02}^{3} \\theta_{03} + x_{01} x_{04} \\theta_{00}^{3} \\theta_{01} \\theta_{02} \\theta_{03}^{2} - x_{02} x_{04} \\theta_{00}^{3} \\theta_{01} \\theta_{02} \\theta_{03}^{2} - x_{01} x_{05} \\theta_{00}^{3} \\theta_{01} \\theta_{02} \\theta_{03}^{2} + x_{02} x_{05} \\theta_{00}^{3} \\theta_{01} \\theta_{02} \\theta_{03}^{2} - x_{00} x_{04} \\theta_{00} \\theta_{01}^{3} \\theta_{02} \\theta_{03}^{2} + x_{02} x_{04} \\theta_{00} \\theta_{01}^{3} \\theta_{02} \\theta_{03}^{2} + x_{00} x_{05} \\theta_{00} \\theta_{01}^{3} \\theta_{02} \\theta_{03}^{2} - x_{02} x_{05} \\theta_{00} \\theta_{01}^{3} \\theta_{02} \\theta_{03}^{2} + x_{00} x_{04} \\theta_{00} \\theta_{01} \\theta_{02}^{3} \\theta_{03}^{2} - x_{01} x_{04} \\theta_{00} \\theta_{01} \\theta_{02}^{3} \\theta_{03}^{2} - x_{00} x_{05} \\theta_{00} \\theta_{01} \\theta_{02}^{3} \\theta_{03}^{2} + x_{01} x_{05} \\theta_{00} \\theta_{01} \\theta_{02}^{3} \\theta_{03}^{2} - x_{01} x_{04} \\theta_{00}^{2} \\theta_{01} \\theta_{02} \\theta_{03}^{3} + x_{02} x_{04} \\theta_{00}^{2} \\theta_{01} \\theta_{02} \\theta_{03}^{3} + x_{01} x_{05} \\theta_{00}^{2} \\theta_{01} \\theta_{02} \\theta_{03}^{3} - x_{02} x_{05} \\theta_{00}^{2} \\theta_{01} \\theta_{02} \\theta_{03}^{3} + x_{00} x_{04} \\theta_{00} \\theta_{01}^{2} \\theta_{02} \\theta_{03}^{3} - x_{02} x_{04} \\theta_{00} \\theta_{01}^{2} \\theta_{02} \\theta_{03}^{3} - x_{00} x_{05} \\theta_{00} \\theta_{01}^{2} \\theta_{02} \\theta_{03}^{3} + x_{02} x_{05} \\theta_{00} \\theta_{01}^{2} \\theta_{02} \\theta_{03}^{3} - x_{00} x_{04} \\theta_{00} \\theta_{01} \\theta_{02}^{2} \\theta_{03}^{3} + x_{01} x_{04} \\theta_{00} \\theta_{01} \\theta_{02}^{2} \\theta_{03}^{3} + x_{00} x_{05} \\theta_{00} \\theta_{01} \\theta_{02}^{2} \\theta_{03}^{3} - x_{01} x_{05} \\theta_{00} \\theta_{01} \\theta_{02}^{2} \\theta_{03}^{3} - x_{02} x_{03} \\theta_{00}^{3} \\theta_{01}^{2} \\theta_{02} \\theta_{04} + x_{03} x_{04} \\theta_{00}^{3} \\theta_{01}^{2} \\theta_{02} \\theta_{04} + x_{02} x_{05} \\theta_{00}^{3} \\theta_{01}^{2} \\theta_{02} \\theta_{04} - x_{04} x_{05} \\theta_{00}^{3} \\theta_{01}^{2} \\theta_{02} \\theta_{04} + x_{02} x_{03} \\theta_{00}^{2} \\theta_{01}^{3} \\theta_{02} \\theta_{04} - x_{03} x_{04} \\theta_{00}^{2} \\theta_{01}^{3} \\theta_{02} \\theta_{04} - x_{02} x_{05} \\theta_{00}^{2} \\theta_{01}^{3} \\theta_{02} \\theta_{04} + x_{04} x_{05} \\theta_{00}^{2} \\theta_{01}^{3} \\theta_{02} \\theta_{04} + x_{01} x_{03} \\theta_{00}^{3} \\theta_{01} \\theta_{02}^{2} \\theta_{04} - x_{03} x_{04} \\theta_{00}^{3} \\theta_{01} \\theta_{02}^{2} \\theta_{04} - x_{01} x_{05} \\theta_{00}^{3} \\theta_{01} \\theta_{02}^{2} \\theta_{04} + x_{04} x_{05} \\theta_{00}^{3} \\theta_{01} \\theta_{02}^{2} \\theta_{04} - x_{00} x_{03} \\theta_{00} \\theta_{01}^{3} \\theta_{02}^{2} \\theta_{04} + x_{03} x_{04} \\theta_{00} \\theta_{01}^{3} \\theta_{02}^{2} \\theta_{04} + x_{00} x_{05} \\theta_{00} \\theta_{01}^{3} \\theta_{02}^{2} \\theta_{04} - x_{04} x_{05} \\theta_{00} \\theta_{01}^{3} \\theta_{02}^{2} \\theta_{04} - x_{01} x_{03} \\theta_{00}^{2} \\theta_{01} \\theta_{02}^{3} \\theta_{04} + x_{03} x_{04} \\theta_{00}^{2} \\theta_{01} \\theta_{02}^{3} \\theta_{04} + x_{01} x_{05} \\theta_{00}^{2} \\theta_{01} \\theta_{02}^{3} \\theta_{04} - x_{04} x_{05} \\theta_{00}^{2} \\theta_{01} \\theta_{02}^{3} \\theta_{04} + x_{00} x_{03} \\theta_{00} \\theta_{01}^{2} \\theta_{02}^{3} \\theta_{04} - x_{03} x_{04} \\theta_{00} \\theta_{01}^{2} \\theta_{02}^{3} \\theta_{04} - x_{00} x_{05} \\theta_{00} \\theta_{01}^{2} \\theta_{02}^{3} \\theta_{04} + x_{04} x_{05} \\theta_{00} \\theta_{01}^{2} \\theta_{02}^{3} \\theta_{04} + x_{02} x_{03} \\theta_{00}^{3} \\theta_{01}^{2} \\theta_{03} \\theta_{04} - x_{02} x_{04} \\theta_{00}^{3} \\theta_{01}^{2} \\theta_{03} \\theta_{04} - x_{03} x_{05} \\theta_{00}^{3} \\theta_{01}^{2} \\theta_{03} \\theta_{04} + x_{04} x_{05} \\theta_{00}^{3} \\theta_{01}^{2} \\theta_{03} \\theta_{04} - x_{02} x_{03} \\theta_{00}^{2} \\theta_{01}^{3} \\theta_{03} \\theta_{04} + x_{02} x_{04} \\theta_{00}^{2} \\theta_{01}^{3} \\theta_{03} \\theta_{04} + x_{03} x_{05} \\theta_{00}^{2} \\theta_{01}^{3} \\theta_{03} \\theta_{04} - x_{04} x_{05} \\theta_{00}^{2} \\theta_{01}^{3} \\theta_{03} \\theta_{04} - x_{01} x_{03} \\theta_{00}^{3} \\theta_{02}^{2} \\theta_{03} \\theta_{04} + x_{01} x_{04} \\theta_{00}^{3} \\theta_{02}^{2} \\theta_{03} \\theta_{04} + x_{03} x_{05} \\theta_{00}^{3} \\theta_{02}^{2} \\theta_{03} \\theta_{04} - x_{04} x_{05} \\theta_{00}^{3} \\theta_{02}^{2} \\theta_{03} \\theta_{04} + x_{00} x_{03} \\theta_{01}^{3} \\theta_{02}^{2} \\theta_{03} \\theta_{04} - x_{00} x_{04} \\theta_{01}^{3} \\theta_{02}^{2} \\theta_{03} \\theta_{04} - x_{03} x_{05} \\theta_{01}^{3} \\theta_{02}^{2} \\theta_{03} \\theta_{04} + x_{04} x_{05} \\theta_{01}^{3} \\theta_{02}^{2} \\theta_{03} \\theta_{04} + x_{01} x_{03} \\theta_{00}^{2} \\theta_{02}^{3} \\theta_{03} \\theta_{04} - x_{01} x_{04} \\theta_{00}^{2} \\theta_{02}^{3} \\theta_{03} \\theta_{04} - x_{03} x_{05} \\theta_{00}^{2} \\theta_{02}^{3} \\theta_{03} \\theta_{04} + x_{04} x_{05} \\theta_{00}^{2} \\theta_{02}^{3} \\theta_{03} \\theta_{04} - x_{00} x_{03} \\theta_{01}^{2} \\theta_{02}^{3} \\theta_{03} \\theta_{04} + x_{00} x_{04} \\theta_{01}^{2} \\theta_{02}^{3} \\theta_{03} \\theta_{04} + x_{03} x_{05} \\theta_{01}^{2} \\theta_{02}^{3} \\theta_{03} \\theta_{04} - x_{04} x_{05} \\theta_{01}^{2} \\theta_{02}^{3} \\theta_{03} \\theta_{04} - x_{01} x_{02} \\theta_{00}^{3} \\theta_{01} \\theta_{03}^{2} \\theta_{04} + x_{02} x_{04} \\theta_{00}^{3} \\theta_{01} \\theta_{03}^{2} \\theta_{04} + x_{01} x_{05} \\theta_{00}^{3} \\theta_{01} \\theta_{03}^{2} \\theta_{04} - x_{04} x_{05} \\theta_{00}^{3} \\theta_{01} \\theta_{03}^{2} \\theta_{04} + x_{00} x_{02} \\theta_{00} \\theta_{01}^{3} \\theta_{03}^{2} \\theta_{04} - x_{02} x_{04} \\theta_{00} \\theta_{01}^{3} \\theta_{03}^{2} \\theta_{04} - x_{00} x_{05} \\theta_{00} \\theta_{01}^{3} \\theta_{03}^{2} \\theta_{04} + x_{04} x_{05} \\theta_{00} \\theta_{01}^{3} \\theta_{03}^{2} \\theta_{04} + x_{01} x_{02} \\theta_{00}^{3} \\theta_{02} \\theta_{03}^{2} \\theta_{04} - x_{01} x_{04} \\theta_{00}^{3} \\theta_{02} \\theta_{03}^{2} \\theta_{04} - x_{02} x_{05} \\theta_{00}^{3} \\theta_{02} \\theta_{03}^{2} \\theta_{04} + x_{04} x_{05} \\theta_{00}^{3} \\theta_{02} \\theta_{03}^{2} \\theta_{04} - x_{00} x_{02} \\theta_{01}^{3} \\theta_{02} \\theta_{03}^{2} \\theta_{04} + x_{00} x_{04} \\theta_{01}^{3} \\theta_{02} \\theta_{03}^{2} \\theta_{04} + x_{02} x_{05} \\theta_{01}^{3} \\theta_{02} \\theta_{03}^{2} \\theta_{04} - x_{04} x_{05} \\theta_{01}^{3} \\theta_{02} \\theta_{03}^{2} \\theta_{04} - x_{00} x_{01} \\theta_{00} \\theta_{02}^{3} \\theta_{03}^{2} \\theta_{04} + x_{01} x_{04} \\theta_{00} \\theta_{02}^{3} \\theta_{03}^{2} \\theta_{04} + x_{00} x_{05} \\theta_{00} \\theta_{02}^{3} \\theta_{03}^{2} \\theta_{04} - x_{04} x_{05} \\theta_{00} \\theta_{02}^{3} \\theta_{03}^{2} \\theta_{04} + x_{00} x_{01} \\theta_{01} \\theta_{02}^{3} \\theta_{03}^{2} \\theta_{04} - x_{00} x_{04} \\theta_{01} \\theta_{02}^{3} \\theta_{03}^{2} \\theta_{04} - x_{01} x_{05} \\theta_{01} \\theta_{02}^{3} \\theta_{03}^{2} \\theta_{04} + x_{04} x_{05} \\theta_{01} \\theta_{02}^{3} \\theta_{03}^{2} \\theta_{04} + x_{01} x_{02} \\theta_{00}^{2} \\theta_{01} \\theta_{03}^{3} \\theta_{04} - x_{02} x_{04} \\theta_{00}^{2} \\theta_{01} \\theta_{03}^{3} \\theta_{04} - x_{01} x_{05} \\theta_{00}^{2} \\theta_{01} \\theta_{03}^{3} \\theta_{04} + x_{04} x_{05} \\theta_{00}^{2} \\theta_{01} \\theta_{03}^{3} \\theta_{04} - x_{00} x_{02} \\theta_{00} \\theta_{01}^{2} \\theta_{03}^{3} \\theta_{04} + x_{02} x_{04} \\theta_{00} \\theta_{01}^{2} \\theta_{03}^{3} \\theta_{04} + x_{00} x_{05} \\theta_{00} \\theta_{01}^{2} \\theta_{03}^{3} \\theta_{04} - x_{04} x_{05} \\theta_{00} \\theta_{01}^{2} \\theta_{03}^{3} \\theta_{04} - x_{01} x_{02} \\theta_{00}^{2} \\theta_{02} \\theta_{03}^{3} \\theta_{04} + x_{01} x_{04} \\theta_{00}^{2} \\theta_{02} \\theta_{03}^{3} \\theta_{04} + x_{02} x_{05} \\theta_{00}^{2} \\theta_{02} \\theta_{03}^{3} \\theta_{04} - x_{04} x_{05} \\theta_{00}^{2} \\theta_{02} \\theta_{03}^{3} \\theta_{04} + x_{00} x_{02} \\theta_{01}^{2} \\theta_{02} \\theta_{03}^{3} \\theta_{04} - x_{00} x_{04} \\theta_{01}^{2} \\theta_{02} \\theta_{03}^{3} \\theta_{04} - x_{02} x_{05} \\theta_{01}^{2} \\theta_{02} \\theta_{03}^{3} \\theta_{04} + x_{04} x_{05} \\theta_{01}^{2} \\theta_{02} \\theta_{03}^{3} \\theta_{04} + x_{00} x_{01} \\theta_{00} \\theta_{02}^{2} \\theta_{03}^{3} \\theta_{04} - x_{01} x_{04} \\theta_{00} \\theta_{02}^{2} \\theta_{03}^{3} \\theta_{04} - x_{00} x_{05} \\theta_{00} \\theta_{02}^{2} \\theta_{03}^{3} \\theta_{04} + x_{04} x_{05} \\theta_{00} \\theta_{02}^{2} \\theta_{03}^{3} \\theta_{04} - x_{00} x_{01} \\theta_{01} \\theta_{02}^{2} \\theta_{03}^{3} \\theta_{04} + x_{00} x_{04} \\theta_{01} \\theta_{02}^{2} \\theta_{03}^{3} \\theta_{04} + x_{01} x_{05} \\theta_{01} \\theta_{02}^{2} \\theta_{03}^{3} \\theta_{04} - x_{04} x_{05} \\theta_{01} \\theta_{02}^{2} \\theta_{03}^{3} \\theta_{04} - x_{01} x_{03} \\theta_{00}^{3} \\theta_{01} \\theta_{02} \\theta_{04}^{2} + x_{02} x_{03} \\theta_{00}^{3} \\theta_{01} \\theta_{02} \\theta_{04}^{2} + x_{01} x_{05} \\theta_{00}^{3} \\theta_{01} \\theta_{02} \\theta_{04}^{2} - x_{02} x_{05} \\theta_{00}^{3} \\theta_{01} \\theta_{02} \\theta_{04}^{2} + x_{00} x_{03} \\theta_{00} \\theta_{01}^{3} \\theta_{02} \\theta_{04}^{2} - x_{02} x_{03} \\theta_{00} \\theta_{01}^{3} \\theta_{02} \\theta_{04}^{2} - x_{00} x_{05} \\theta_{00} \\theta_{01}^{3} \\theta_{02} \\theta_{04}^{2} + x_{02} x_{05} \\theta_{00} \\theta_{01}^{3} \\theta_{02} \\theta_{04}^{2} - x_{00} x_{03} \\theta_{00} \\theta_{01} \\theta_{02}^{3} \\theta_{04}^{2} + x_{01} x_{03} \\theta_{00} \\theta_{01} \\theta_{02}^{3} \\theta_{04}^{2} + x_{00} x_{05} \\theta_{00} \\theta_{01} \\theta_{02}^{3} \\theta_{04}^{2} - x_{01} x_{05} \\theta_{00} \\theta_{01} \\theta_{02}^{3} \\theta_{04}^{2} + x_{01} x_{02} \\theta_{00}^{3} \\theta_{01} \\theta_{03} \\theta_{04}^{2} - x_{02} x_{03} \\theta_{00}^{3} \\theta_{01} \\theta_{03} \\theta_{04}^{2} - x_{01} x_{05} \\theta_{00}^{3} \\theta_{01} \\theta_{03} \\theta_{04}^{2} + x_{03} x_{05} \\theta_{00}^{3} \\theta_{01} \\theta_{03} \\theta_{04}^{2} - x_{00} x_{02} \\theta_{00} \\theta_{01}^{3} \\theta_{03} \\theta_{04}^{2} + x_{02} x_{03} \\theta_{00} \\theta_{01}^{3} \\theta_{03} \\theta_{04}^{2} + x_{00} x_{05} \\theta_{00} \\theta_{01}^{3} \\theta_{03} \\theta_{04}^{2} - x_{03} x_{05} \\theta_{00} \\theta_{01}^{3} \\theta_{03} \\theta_{04}^{2} - x_{01} x_{02} \\theta_{00}^{3} \\theta_{02} \\theta_{03} \\theta_{04}^{2} + x_{01} x_{03} \\theta_{00}^{3} \\theta_{02} \\theta_{03} \\theta_{04}^{2} + x_{02} x_{05} \\theta_{00}^{3} \\theta_{02} \\theta_{03} \\theta_{04}^{2} - x_{03} x_{05} \\theta_{00}^{3} \\theta_{02} \\theta_{03} \\theta_{04}^{2} + x_{00} x_{02} \\theta_{01}^{3} \\theta_{02} \\theta_{03} \\theta_{04}^{2} - x_{00} x_{03} \\theta_{01}^{3} \\theta_{02} \\theta_{03} \\theta_{04}^{2} - x_{02} x_{05} \\theta_{01}^{3} \\theta_{02} \\theta_{03} \\theta_{04}^{2} + x_{03} x_{05} \\theta_{01}^{3} \\theta_{02} \\theta_{03} \\theta_{04}^{2} + x_{00} x_{01} \\theta_{00} \\theta_{02}^{3} \\theta_{03} \\theta_{04}^{2} - x_{01} x_{03} \\theta_{00} \\theta_{02}^{3} \\theta_{03} \\theta_{04}^{2} - x_{00} x_{05} \\theta_{00} \\theta_{02}^{3} \\theta_{03} \\theta_{04}^{2} + x_{03} x_{05} \\theta_{00} \\theta_{02}^{3} \\theta_{03} \\theta_{04}^{2} - x_{00} x_{01} \\theta_{01} \\theta_{02}^{3} \\theta_{03} \\theta_{04}^{2} + x_{00} x_{03} \\theta_{01} \\theta_{02}^{3} \\theta_{03} \\theta_{04}^{2} + x_{01} x_{05} \\theta_{01} \\theta_{02}^{3} \\theta_{03} \\theta_{04}^{2} - x_{03} x_{05} \\theta_{01} \\theta_{02}^{3} \\theta_{03} \\theta_{04}^{2} + x_{00} x_{02} \\theta_{00} \\theta_{01} \\theta_{03}^{3} \\theta_{04}^{2} - x_{01} x_{02} \\theta_{00} \\theta_{01} \\theta_{03}^{3} \\theta_{04}^{2} - x_{00} x_{05} \\theta_{00} \\theta_{01} \\theta_{03}^{3} \\theta_{04}^{2} + x_{01} x_{05} \\theta_{00} \\theta_{01} \\theta_{03}^{3} \\theta_{04}^{2} - x_{00} x_{01} \\theta_{00} \\theta_{02} \\theta_{03}^{3} \\theta_{04}^{2} + x_{01} x_{02} \\theta_{00} \\theta_{02} \\theta_{03}^{3} \\theta_{04}^{2} + x_{00} x_{05} \\theta_{00} \\theta_{02} \\theta_{03}^{3} \\theta_{04}^{2} - x_{02} x_{05} \\theta_{00} \\theta_{02} \\theta_{03}^{3} \\theta_{04}^{2} + x_{00} x_{01} \\theta_{01} \\theta_{02} \\theta_{03}^{3} \\theta_{04}^{2} - x_{00} x_{02} \\theta_{01} \\theta_{02} \\theta_{03}^{3} \\theta_{04}^{2} - x_{01} x_{05} \\theta_{01} \\theta_{02} \\theta_{03}^{3} \\theta_{04}^{2} + x_{02} x_{05} \\theta_{01} \\theta_{02} \\theta_{03}^{3} \\theta_{04}^{2} + x_{01} x_{03} \\theta_{00}^{2} \\theta_{01} \\theta_{02} \\theta_{04}^{3} - x_{02} x_{03} \\theta_{00}^{2} \\theta_{01} \\theta_{02} \\theta_{04}^{3} - x_{01} x_{05} \\theta_{00}^{2} \\theta_{01} \\theta_{02} \\theta_{04}^{3} + x_{02} x_{05} \\theta_{00}^{2} \\theta_{01} \\theta_{02} \\theta_{04}^{3} - x_{00} x_{03} \\theta_{00} \\theta_{01}^{2} \\theta_{02} \\theta_{04}^{3} + x_{02} x_{03} \\theta_{00} \\theta_{01}^{2} \\theta_{02} \\theta_{04}^{3} + x_{00} x_{05} \\theta_{00} \\theta_{01}^{2} \\theta_{02} \\theta_{04}^{3} - x_{02} x_{05} \\theta_{00} \\theta_{01}^{2} \\theta_{02} \\theta_{04}^{3} + x_{00} x_{03} \\theta_{00} \\theta_{01} \\theta_{02}^{2} \\theta_{04}^{3} - x_{01} x_{03} \\theta_{00} \\theta_{01} \\theta_{02}^{2} \\theta_{04}^{3} - x_{00} x_{05} \\theta_{00} \\theta_{01} \\theta_{02}^{2} \\theta_{04}^{3} + x_{01} x_{05} \\theta_{00} \\theta_{01} \\theta_{02}^{2} \\theta_{04}^{3} - x_{01} x_{02} \\theta_{00}^{2} \\theta_{01} \\theta_{03} \\theta_{04}^{3} + x_{02} x_{03} \\theta_{00}^{2} \\theta_{01} \\theta_{03} \\theta_{04}^{3} + x_{01} x_{05} \\theta_{00}^{2} \\theta_{01} \\theta_{03} \\theta_{04}^{3} - x_{03} x_{05} \\theta_{00}^{2} \\theta_{01} \\theta_{03} \\theta_{04}^{3} + x_{00} x_{02} \\theta_{00} \\theta_{01}^{2} \\theta_{03} \\theta_{04}^{3} - x_{02} x_{03} \\theta_{00} \\theta_{01}^{2} \\theta_{03} \\theta_{04}^{3} - x_{00} x_{05} \\theta_{00} \\theta_{01}^{2} \\theta_{03} \\theta_{04}^{3} + x_{03} x_{05} \\theta_{00} \\theta_{01}^{2} \\theta_{03} \\theta_{04}^{3} + x_{01} x_{02} \\theta_{00}^{2} \\theta_{02} \\theta_{03} \\theta_{04}^{3} - x_{01} x_{03} \\theta_{00}^{2} \\theta_{02} \\theta_{03} \\theta_{04}^{3} - x_{02} x_{05} \\theta_{00}^{2} \\theta_{02} \\theta_{03} \\theta_{04}^{3} + x_{03} x_{05} \\theta_{00}^{2} \\theta_{02} \\theta_{03} \\theta_{04}^{3} - x_{00} x_{02} \\theta_{01}^{2} \\theta_{02} \\theta_{03} \\theta_{04}^{3} + x_{00} x_{03} \\theta_{01}^{2} \\theta_{02} \\theta_{03} \\theta_{04}^{3} + x_{02} x_{05} \\theta_{01}^{2} \\theta_{02} \\theta_{03} \\theta_{04}^{3} - x_{03} x_{05} \\theta_{01}^{2} \\theta_{02} \\theta_{03} \\theta_{04}^{3} - x_{00} x_{01} \\theta_{00} \\theta_{02}^{2} \\theta_{03} \\theta_{04}^{3} + x_{01} x_{03} \\theta_{00} \\theta_{02}^{2} \\theta_{03} \\theta_{04}^{3} + x_{00} x_{05} \\theta_{00} \\theta_{02}^{2} \\theta_{03} \\theta_{04}^{3} - x_{03} x_{05} \\theta_{00} \\theta_{02}^{2} \\theta_{03} \\theta_{04}^{3} + x_{00} x_{01} \\theta_{01} \\theta_{02}^{2} \\theta_{03} \\theta_{04}^{3} - x_{00} x_{03} \\theta_{01} \\theta_{02}^{2} \\theta_{03} \\theta_{04}^{3} - x_{01} x_{05} \\theta_{01} \\theta_{02}^{2} \\theta_{03} \\theta_{04}^{3} + x_{03} x_{05} \\theta_{01} \\theta_{02}^{2} \\theta_{03} \\theta_{04}^{3} - x_{00} x_{02} \\theta_{00} \\theta_{01} \\theta_{03}^{2} \\theta_{04}^{3} + x_{01} x_{02} \\theta_{00} \\theta_{01} \\theta_{03}^{2} \\theta_{04}^{3} + x_{00} x_{05} \\theta_{00} \\theta_{01} \\theta_{03}^{2} \\theta_{04}^{3} - x_{01} x_{05} \\theta_{00} \\theta_{01} \\theta_{03}^{2} \\theta_{04}^{3} + x_{00} x_{01} \\theta_{00} \\theta_{02} \\theta_{03}^{2} \\theta_{04}^{3} - x_{01} x_{02} \\theta_{00} \\theta_{02} \\theta_{03}^{2} \\theta_{04}^{3} - x_{00} x_{05} \\theta_{00} \\theta_{02} \\theta_{03}^{2} \\theta_{04}^{3} + x_{02} x_{05} \\theta_{00} \\theta_{02} \\theta_{03}^{2} \\theta_{04}^{3} - x_{00} x_{01} \\theta_{01} \\theta_{02} \\theta_{03}^{2} \\theta_{04}^{3} + x_{00} x_{02} \\theta_{01} \\theta_{02} \\theta_{03}^{2} \\theta_{04}^{3} + x_{01} x_{05} \\theta_{01} \\theta_{02} \\theta_{03}^{2} \\theta_{04}^{3} - x_{02} x_{05} \\theta_{01} \\theta_{02} \\theta_{03}^{2} \\theta_{04}^{3} + x_{02} x_{03} \\theta_{00}^{3} \\theta_{01}^{2} \\theta_{02} \\theta_{05} - x_{02} x_{04} \\theta_{00}^{3} \\theta_{01}^{2} \\theta_{02} \\theta_{05} - x_{03} x_{05} \\theta_{00}^{3} \\theta_{01}^{2} \\theta_{02} \\theta_{05} + x_{04} x_{05} \\theta_{00}^{3} \\theta_{01}^{2} \\theta_{02} \\theta_{05} - x_{02} x_{03} \\theta_{00}^{2} \\theta_{01}^{3} \\theta_{02} \\theta_{05} + x_{02} x_{04} \\theta_{00}^{2} \\theta_{01}^{3} \\theta_{02} \\theta_{05} + x_{03} x_{05} \\theta_{00}^{2} \\theta_{01}^{3} \\theta_{02} \\theta_{05} - x_{04} x_{05} \\theta_{00}^{2} \\theta_{01}^{3} \\theta_{02} \\theta_{05} - x_{01} x_{03} \\theta_{00}^{3} \\theta_{01} \\theta_{02}^{2} \\theta_{05} + x_{01} x_{04} \\theta_{00}^{3} \\theta_{01} \\theta_{02}^{2} \\theta_{05} + x_{03} x_{05} \\theta_{00}^{3} \\theta_{01} \\theta_{02}^{2} \\theta_{05} - x_{04} x_{05} \\theta_{00}^{3} \\theta_{01} \\theta_{02}^{2} \\theta_{05} + x_{00} x_{03} \\theta_{00} \\theta_{01}^{3} \\theta_{02}^{2} \\theta_{05} - x_{00} x_{04} \\theta_{00} \\theta_{01}^{3} \\theta_{02}^{2} \\theta_{05} - x_{03} x_{05} \\theta_{00} \\theta_{01}^{3} \\theta_{02}^{2} \\theta_{05} + x_{04} x_{05} \\theta_{00} \\theta_{01}^{3} \\theta_{02}^{2} \\theta_{05} + x_{01} x_{03} \\theta_{00}^{2} \\theta_{01} \\theta_{02}^{3} \\theta_{05} - x_{01} x_{04} \\theta_{00}^{2} \\theta_{01} \\theta_{02}^{3} \\theta_{05} - x_{03} x_{05} \\theta_{00}^{2} \\theta_{01} \\theta_{02}^{3} \\theta_{05} + x_{04} x_{05} \\theta_{00}^{2} \\theta_{01} \\theta_{02}^{3} \\theta_{05} - x_{00} x_{03} \\theta_{00} \\theta_{01}^{2} \\theta_{02}^{3} \\theta_{05} + x_{00} x_{04} \\theta_{00} \\theta_{01}^{2} \\theta_{02}^{3} \\theta_{05} + x_{03} x_{05} \\theta_{00} \\theta_{01}^{2} \\theta_{02}^{3} \\theta_{05} - x_{04} x_{05} \\theta_{00} \\theta_{01}^{2} \\theta_{02}^{3} \\theta_{05} - x_{02} x_{03} \\theta_{00}^{3} \\theta_{01}^{2} \\theta_{03} \\theta_{05} + x_{03} x_{04} \\theta_{00}^{3} \\theta_{01}^{2} \\theta_{03} \\theta_{05} + x_{02} x_{05} \\theta_{00}^{3} \\theta_{01}^{2} \\theta_{03} \\theta_{05} - x_{04} x_{05} \\theta_{00}^{3} \\theta_{01}^{2} \\theta_{03} \\theta_{05} + x_{02} x_{03} \\theta_{00}^{2} \\theta_{01}^{3} \\theta_{03} \\theta_{05} - x_{03} x_{04} \\theta_{00}^{2} \\theta_{01}^{3} \\theta_{03} \\theta_{05} - x_{02} x_{05} \\theta_{00}^{2} \\theta_{01}^{3} \\theta_{03} \\theta_{05} + x_{04} x_{05} \\theta_{00}^{2} \\theta_{01}^{3} \\theta_{03} \\theta_{05} + x_{01} x_{03} \\theta_{00}^{3} \\theta_{02}^{2} \\theta_{03} \\theta_{05} - x_{03} x_{04} \\theta_{00}^{3} \\theta_{02}^{2} \\theta_{03} \\theta_{05} - x_{01} x_{05} \\theta_{00}^{3} \\theta_{02}^{2} \\theta_{03} \\theta_{05} + x_{04} x_{05} \\theta_{00}^{3} \\theta_{02}^{2} \\theta_{03} \\theta_{05} - x_{00} x_{03} \\theta_{01}^{3} \\theta_{02}^{2} \\theta_{03} \\theta_{05} + x_{03} x_{04} \\theta_{01}^{3} \\theta_{02}^{2} \\theta_{03} \\theta_{05} + x_{00} x_{05} \\theta_{01}^{3} \\theta_{02}^{2} \\theta_{03} \\theta_{05} - x_{04} x_{05} \\theta_{01}^{3} \\theta_{02}^{2} \\theta_{03} \\theta_{05} - x_{01} x_{03} \\theta_{00}^{2} \\theta_{02}^{3} \\theta_{03} \\theta_{05} + x_{03} x_{04} \\theta_{00}^{2} \\theta_{02}^{3} \\theta_{03} \\theta_{05} + x_{01} x_{05} \\theta_{00}^{2} \\theta_{02}^{3} \\theta_{03} \\theta_{05} - x_{04} x_{05} \\theta_{00}^{2} \\theta_{02}^{3} \\theta_{03} \\theta_{05} + x_{00} x_{03} \\theta_{01}^{2} \\theta_{02}^{3} \\theta_{03} \\theta_{05} - x_{03} x_{04} \\theta_{01}^{2} \\theta_{02}^{3} \\theta_{03} \\theta_{05} - x_{00} x_{05} \\theta_{01}^{2} \\theta_{02}^{3} \\theta_{03} \\theta_{05} + x_{04} x_{05} \\theta_{01}^{2} \\theta_{02}^{3} \\theta_{03} \\theta_{05} + x_{01} x_{02} \\theta_{00}^{3} \\theta_{01} \\theta_{03}^{2} \\theta_{05} - x_{01} x_{04} \\theta_{00}^{3} \\theta_{01} \\theta_{03}^{2} \\theta_{05} - x_{02} x_{05} \\theta_{00}^{3} \\theta_{01} \\theta_{03}^{2} \\theta_{05} + x_{04} x_{05} \\theta_{00}^{3} \\theta_{01} \\theta_{03}^{2} \\theta_{05} - x_{00} x_{02} \\theta_{00} \\theta_{01}^{3} \\theta_{03}^{2} \\theta_{05} + x_{00} x_{04} \\theta_{00} \\theta_{01}^{3} \\theta_{03}^{2} \\theta_{05} + x_{02} x_{05} \\theta_{00} \\theta_{01}^{3} \\theta_{03}^{2} \\theta_{05} - x_{04} x_{05} \\theta_{00} \\theta_{01}^{3} \\theta_{03}^{2} \\theta_{05} - x_{01} x_{02} \\theta_{00}^{3} \\theta_{02} \\theta_{03}^{2} \\theta_{05} + x_{02} x_{04} \\theta_{00}^{3} \\theta_{02} \\theta_{03}^{2} \\theta_{05} + x_{01} x_{05} \\theta_{00}^{3} \\theta_{02} \\theta_{03}^{2} \\theta_{05} - x_{04} x_{05} \\theta_{00}^{3} \\theta_{02} \\theta_{03}^{2} \\theta_{05} + x_{00} x_{02} \\theta_{01}^{3} \\theta_{02} \\theta_{03}^{2} \\theta_{05} - x_{02} x_{04} \\theta_{01}^{3} \\theta_{02} \\theta_{03}^{2} \\theta_{05} - x_{00} x_{05} \\theta_{01}^{3} \\theta_{02} \\theta_{03}^{2} \\theta_{05} + x_{04} x_{05} \\theta_{01}^{3} \\theta_{02} \\theta_{03}^{2} \\theta_{05} + x_{00} x_{01} \\theta_{00} \\theta_{02}^{3} \\theta_{03}^{2} \\theta_{05} - x_{00} x_{04} \\theta_{00} \\theta_{02}^{3} \\theta_{03}^{2} \\theta_{05} - x_{01} x_{05} \\theta_{00} \\theta_{02}^{3} \\theta_{03}^{2} \\theta_{05} + x_{04} x_{05} \\theta_{00} \\theta_{02}^{3} \\theta_{03}^{2} \\theta_{05} - x_{00} x_{01} \\theta_{01} \\theta_{02}^{3} \\theta_{03}^{2} \\theta_{05} + x_{01} x_{04} \\theta_{01} \\theta_{02}^{3} \\theta_{03}^{2} \\theta_{05} + x_{00} x_{05} \\theta_{01} \\theta_{02}^{3} \\theta_{03}^{2} \\theta_{05} - x_{04} x_{05} \\theta_{01} \\theta_{02}^{3} \\theta_{03}^{2} \\theta_{05} - x_{01} x_{02} \\theta_{00}^{2} \\theta_{01} \\theta_{03}^{3} \\theta_{05} + x_{01} x_{04} \\theta_{00}^{2} \\theta_{01} \\theta_{03}^{3} \\theta_{05} + x_{02} x_{05} \\theta_{00}^{2} \\theta_{01} \\theta_{03}^{3} \\theta_{05} - x_{04} x_{05} \\theta_{00}^{2} \\theta_{01} \\theta_{03}^{3} \\theta_{05} + x_{00} x_{02} \\theta_{00} \\theta_{01}^{2} \\theta_{03}^{3} \\theta_{05} - x_{00} x_{04} \\theta_{00} \\theta_{01}^{2} \\theta_{03}^{3} \\theta_{05} - x_{02} x_{05} \\theta_{00} \\theta_{01}^{2} \\theta_{03}^{3} \\theta_{05} + x_{04} x_{05} \\theta_{00} \\theta_{01}^{2} \\theta_{03}^{3} \\theta_{05} + x_{01} x_{02} \\theta_{00}^{2} \\theta_{02} \\theta_{03}^{3} \\theta_{05} - x_{02} x_{04} \\theta_{00}^{2} \\theta_{02} \\theta_{03}^{3} \\theta_{05} - x_{01} x_{05} \\theta_{00}^{2} \\theta_{02} \\theta_{03}^{3} \\theta_{05} + x_{04} x_{05} \\theta_{00}^{2} \\theta_{02} \\theta_{03}^{3} \\theta_{05} - x_{00} x_{02} \\theta_{01}^{2} \\theta_{02} \\theta_{03}^{3} \\theta_{05} + x_{02} x_{04} \\theta_{01}^{2} \\theta_{02} \\theta_{03}^{3} \\theta_{05} + x_{00} x_{05} \\theta_{01}^{2} \\theta_{02} \\theta_{03}^{3} \\theta_{05} - x_{04} x_{05} \\theta_{01}^{2} \\theta_{02} \\theta_{03}^{3} \\theta_{05} - x_{00} x_{01} \\theta_{00} \\theta_{02}^{2} \\theta_{03}^{3} \\theta_{05} + x_{00} x_{04} \\theta_{00} \\theta_{02}^{2} \\theta_{03}^{3} \\theta_{05} + x_{01} x_{05} \\theta_{00} \\theta_{02}^{2} \\theta_{03}^{3} \\theta_{05} - x_{04} x_{05} \\theta_{00} \\theta_{02}^{2} \\theta_{03}^{3} \\theta_{05} + x_{00} x_{01} \\theta_{01} \\theta_{02}^{2} \\theta_{03}^{3} \\theta_{05} - x_{01} x_{04} \\theta_{01} \\theta_{02}^{2} \\theta_{03}^{3} \\theta_{05} - x_{00} x_{05} \\theta_{01} \\theta_{02}^{2} \\theta_{03}^{3} \\theta_{05} + x_{04} x_{05} \\theta_{01} \\theta_{02}^{2} \\theta_{03}^{3} \\theta_{05} + x_{02} x_{04} \\theta_{00}^{3} \\theta_{01}^{2} \\theta_{04} \\theta_{05} - x_{03} x_{04} \\theta_{00}^{3} \\theta_{01}^{2} \\theta_{04} \\theta_{05} - x_{02} x_{05} \\theta_{00}^{3} \\theta_{01}^{2} \\theta_{04} \\theta_{05} + x_{03} x_{05} \\theta_{00}^{3} \\theta_{01}^{2} \\theta_{04} \\theta_{05} - x_{02} x_{04} \\theta_{00}^{2} \\theta_{01}^{3} \\theta_{04} \\theta_{05} + x_{03} x_{04} \\theta_{00}^{2} \\theta_{01}^{3} \\theta_{04} \\theta_{05} + x_{02} x_{05} \\theta_{00}^{2} \\theta_{01}^{3} \\theta_{04} \\theta_{05} - x_{03} x_{05} \\theta_{00}^{2} \\theta_{01}^{3} \\theta_{04} \\theta_{05} - x_{01} x_{04} \\theta_{00}^{3} \\theta_{02}^{2} \\theta_{04} \\theta_{05} + x_{03} x_{04} \\theta_{00}^{3} \\theta_{02}^{2} \\theta_{04} \\theta_{05} + x_{01} x_{05} \\theta_{00}^{3} \\theta_{02}^{2} \\theta_{04} \\theta_{05} - x_{03} x_{05} \\theta_{00}^{3} \\theta_{02}^{2} \\theta_{04} \\theta_{05} + x_{00} x_{04} \\theta_{01}^{3} \\theta_{02}^{2} \\theta_{04} \\theta_{05} - x_{03} x_{04} \\theta_{01}^{3} \\theta_{02}^{2} \\theta_{04} \\theta_{05} - x_{00} x_{05} \\theta_{01}^{3} \\theta_{02}^{2} \\theta_{04} \\theta_{05} + x_{03} x_{05} \\theta_{01}^{3} \\theta_{02}^{2} \\theta_{04} \\theta_{05} + x_{01} x_{04} \\theta_{00}^{2} \\theta_{02}^{3} \\theta_{04} \\theta_{05} - x_{03} x_{04} \\theta_{00}^{2} \\theta_{02}^{3} \\theta_{04} \\theta_{05} - x_{01} x_{05} \\theta_{00}^{2} \\theta_{02}^{3} \\theta_{04} \\theta_{05} + x_{03} x_{05} \\theta_{00}^{2} \\theta_{02}^{3} \\theta_{04} \\theta_{05} - x_{00} x_{04} \\theta_{01}^{2} \\theta_{02}^{3} \\theta_{04} \\theta_{05} + x_{03} x_{04} \\theta_{01}^{2} \\theta_{02}^{3} \\theta_{04} \\theta_{05} + x_{00} x_{05} \\theta_{01}^{2} \\theta_{02}^{3} \\theta_{04} \\theta_{05} - x_{03} x_{05} \\theta_{01}^{2} \\theta_{02}^{3} \\theta_{04} \\theta_{05} + x_{01} x_{04} \\theta_{00}^{3} \\theta_{03}^{2} \\theta_{04} \\theta_{05} - x_{02} x_{04} \\theta_{00}^{3} \\theta_{03}^{2} \\theta_{04} \\theta_{05} - x_{01} x_{05} \\theta_{00}^{3} \\theta_{03}^{2} \\theta_{04} \\theta_{05} + x_{02} x_{05} \\theta_{00}^{3} \\theta_{03}^{2} \\theta_{04} \\theta_{05} - x_{00} x_{04} \\theta_{01}^{3} \\theta_{03}^{2} \\theta_{04} \\theta_{05} + x_{02} x_{04} \\theta_{01}^{3} \\theta_{03}^{2} \\theta_{04} \\theta_{05} + x_{00} x_{05} \\theta_{01}^{3} \\theta_{03}^{2} \\theta_{04} \\theta_{05} - x_{02} x_{05} \\theta_{01}^{3} \\theta_{03}^{2} \\theta_{04} \\theta_{05} + x_{00} x_{04} \\theta_{02}^{3} \\theta_{03}^{2} \\theta_{04} \\theta_{05} - x_{01} x_{04} \\theta_{02}^{3} \\theta_{03}^{2} \\theta_{04} \\theta_{05} - x_{00} x_{05} \\theta_{02}^{3} \\theta_{03}^{2} \\theta_{04} \\theta_{05} + x_{01} x_{05} \\theta_{02}^{3} \\theta_{03}^{2} \\theta_{04} \\theta_{05} - x_{01} x_{04} \\theta_{00}^{2} \\theta_{03}^{3} \\theta_{04} \\theta_{05} + x_{02} x_{04} \\theta_{00}^{2} \\theta_{03}^{3} \\theta_{04} \\theta_{05} + x_{01} x_{05} \\theta_{00}^{2} \\theta_{03}^{3} \\theta_{04} \\theta_{05} - x_{02} x_{05} \\theta_{00}^{2} \\theta_{03}^{3} \\theta_{04} \\theta_{05} + x_{00} x_{04} \\theta_{01}^{2} \\theta_{03}^{3} \\theta_{04} \\theta_{05} - x_{02} x_{04} \\theta_{01}^{2} \\theta_{03}^{3} \\theta_{04} \\theta_{05} - x_{00} x_{05} \\theta_{01}^{2} \\theta_{03}^{3} \\theta_{04} \\theta_{05} + x_{02} x_{05} \\theta_{01}^{2} \\theta_{03}^{3} \\theta_{04} \\theta_{05} - x_{00} x_{04} \\theta_{02}^{2} \\theta_{03}^{3} \\theta_{04} \\theta_{05} + x_{01} x_{04} \\theta_{02}^{2} \\theta_{03}^{3} \\theta_{04} \\theta_{05} + x_{00} x_{05} \\theta_{02}^{2} \\theta_{03}^{3} \\theta_{04} \\theta_{05} - x_{01} x_{05} \\theta_{02}^{2} \\theta_{03}^{3} \\theta_{04} \\theta_{05} - x_{01} x_{02} \\theta_{00}^{3} \\theta_{01} \\theta_{04}^{2} \\theta_{05} + x_{01} x_{03} \\theta_{00}^{3} \\theta_{01} \\theta_{04}^{2} \\theta_{05} + x_{02} x_{05} \\theta_{00}^{3} \\theta_{01} \\theta_{04}^{2} \\theta_{05} - x_{03} x_{05} \\theta_{00}^{3} \\theta_{01} \\theta_{04}^{2} \\theta_{05} + x_{00} x_{02} \\theta_{00} \\theta_{01}^{3} \\theta_{04}^{2} \\theta_{05} - x_{00} x_{03} \\theta_{00} \\theta_{01}^{3} \\theta_{04}^{2} \\theta_{05} - x_{02} x_{05} \\theta_{00} \\theta_{01}^{3} \\theta_{04}^{2} \\theta_{05} + x_{03} x_{05} \\theta_{00} \\theta_{01}^{3} \\theta_{04}^{2} \\theta_{05} + x_{01} x_{02} \\theta_{00}^{3} \\theta_{02} \\theta_{04}^{2} \\theta_{05} - x_{02} x_{03} \\theta_{00}^{3} \\theta_{02} \\theta_{04}^{2} \\theta_{05} - x_{01} x_{05} \\theta_{00}^{3} \\theta_{02} \\theta_{04}^{2} \\theta_{05} + x_{03} x_{05} \\theta_{00}^{3} \\theta_{02} \\theta_{04}^{2} \\theta_{05} - x_{00} x_{02} \\theta_{01}^{3} \\theta_{02} \\theta_{04}^{2} \\theta_{05} + x_{02} x_{03} \\theta_{01}^{3} \\theta_{02} \\theta_{04}^{2} \\theta_{05} + x_{00} x_{05} \\theta_{01}^{3} \\theta_{02} \\theta_{04}^{2} \\theta_{05} - x_{03} x_{05} \\theta_{01}^{3} \\theta_{02} \\theta_{04}^{2} \\theta_{05} - x_{00} x_{01} \\theta_{00} \\theta_{02}^{3} \\theta_{04}^{2} \\theta_{05} + x_{00} x_{03} \\theta_{00} \\theta_{02}^{3} \\theta_{04}^{2} \\theta_{05} + x_{01} x_{05} \\theta_{00} \\theta_{02}^{3} \\theta_{04}^{2} \\theta_{05} - x_{03} x_{05} \\theta_{00} \\theta_{02}^{3} \\theta_{04}^{2} \\theta_{05} + x_{00} x_{01} \\theta_{01} \\theta_{02}^{3} \\theta_{04}^{2} \\theta_{05} - x_{01} x_{03} \\theta_{01} \\theta_{02}^{3} \\theta_{04}^{2} \\theta_{05} - x_{00} x_{05} \\theta_{01} \\theta_{02}^{3} \\theta_{04}^{2} \\theta_{05} + x_{03} x_{05} \\theta_{01} \\theta_{02}^{3} \\theta_{04}^{2} \\theta_{05} - x_{01} x_{03} \\theta_{00}^{3} \\theta_{03} \\theta_{04}^{2} \\theta_{05} + x_{02} x_{03} \\theta_{00}^{3} \\theta_{03} \\theta_{04}^{2} \\theta_{05} + x_{01} x_{05} \\theta_{00}^{3} \\theta_{03} \\theta_{04}^{2} \\theta_{05} - x_{02} x_{05} \\theta_{00}^{3} \\theta_{03} \\theta_{04}^{2} \\theta_{05} + x_{00} x_{03} \\theta_{01}^{3} \\theta_{03} \\theta_{04}^{2} \\theta_{05} - x_{02} x_{03} \\theta_{01}^{3} \\theta_{03} \\theta_{04}^{2} \\theta_{05} - x_{00} x_{05} \\theta_{01}^{3} \\theta_{03} \\theta_{04}^{2} \\theta_{05} + x_{02} x_{05} \\theta_{01}^{3} \\theta_{03} \\theta_{04}^{2} \\theta_{05} - x_{00} x_{03} \\theta_{02}^{3} \\theta_{03} \\theta_{04}^{2} \\theta_{05} + x_{01} x_{03} \\theta_{02}^{3} \\theta_{03} \\theta_{04}^{2} \\theta_{05} + x_{00} x_{05} \\theta_{02}^{3} \\theta_{03} \\theta_{04}^{2} \\theta_{05} - x_{01} x_{05} \\theta_{02}^{3} \\theta_{03} \\theta_{04}^{2} \\theta_{05} + x_{00} x_{01} \\theta_{00} \\theta_{03}^{3} \\theta_{04}^{2} \\theta_{05} - x_{00} x_{02} \\theta_{00} \\theta_{03}^{3} \\theta_{04}^{2} \\theta_{05} - x_{01} x_{05} \\theta_{00} \\theta_{03}^{3} \\theta_{04}^{2} \\theta_{05} + x_{02} x_{05} \\theta_{00} \\theta_{03}^{3} \\theta_{04}^{2} \\theta_{05} - x_{00} x_{01} \\theta_{01} \\theta_{03}^{3} \\theta_{04}^{2} \\theta_{05} + x_{01} x_{02} \\theta_{01} \\theta_{03}^{3} \\theta_{04}^{2} \\theta_{05} + x_{00} x_{05} \\theta_{01} \\theta_{03}^{3} \\theta_{04}^{2} \\theta_{05} - x_{02} x_{05} \\theta_{01} \\theta_{03}^{3} \\theta_{04}^{2} \\theta_{05} + x_{00} x_{02} \\theta_{02} \\theta_{03}^{3} \\theta_{04}^{2} \\theta_{05} - x_{01} x_{02} \\theta_{02} \\theta_{03}^{3} \\theta_{04}^{2} \\theta_{05} - x_{00} x_{05} \\theta_{02} \\theta_{03}^{3} \\theta_{04}^{2} \\theta_{05} + x_{01} x_{05} \\theta_{02} \\theta_{03}^{3} \\theta_{04}^{2} \\theta_{05} + x_{01} x_{02} \\theta_{00}^{2} \\theta_{01} \\theta_{04}^{3} \\theta_{05} - x_{01} x_{03} \\theta_{00}^{2} \\theta_{01} \\theta_{04}^{3} \\theta_{05} - x_{02} x_{05} \\theta_{00}^{2} \\theta_{01} \\theta_{04}^{3} \\theta_{05} + x_{03} x_{05} \\theta_{00}^{2} \\theta_{01} \\theta_{04}^{3} \\theta_{05} - x_{00} x_{02} \\theta_{00} \\theta_{01}^{2} \\theta_{04}^{3} \\theta_{05} + x_{00} x_{03} \\theta_{00} \\theta_{01}^{2} \\theta_{04}^{3} \\theta_{05} + x_{02} x_{05} \\theta_{00} \\theta_{01}^{2} \\theta_{04}^{3} \\theta_{05} - x_{03} x_{05} \\theta_{00} \\theta_{01}^{2} \\theta_{04}^{3} \\theta_{05} - x_{01} x_{02} \\theta_{00}^{2} \\theta_{02} \\theta_{04}^{3} \\theta_{05} + x_{02} x_{03} \\theta_{00}^{2} \\theta_{02} \\theta_{04}^{3} \\theta_{05} + x_{01} x_{05} \\theta_{00}^{2} \\theta_{02} \\theta_{04}^{3} \\theta_{05} - x_{03} x_{05} \\theta_{00}^{2} \\theta_{02} \\theta_{04}^{3} \\theta_{05} + x_{00} x_{02} \\theta_{01}^{2} \\theta_{02} \\theta_{04}^{3} \\theta_{05} - x_{02} x_{03} \\theta_{01}^{2} \\theta_{02} \\theta_{04}^{3} \\theta_{05} - x_{00} x_{05} \\theta_{01}^{2} \\theta_{02} \\theta_{04}^{3} \\theta_{05} + x_{03} x_{05} \\theta_{01}^{2} \\theta_{02} \\theta_{04}^{3} \\theta_{05} + x_{00} x_{01} \\theta_{00} \\theta_{02}^{2} \\theta_{04}^{3} \\theta_{05} - x_{00} x_{03} \\theta_{00} \\theta_{02}^{2} \\theta_{04}^{3} \\theta_{05} - x_{01} x_{05} \\theta_{00} \\theta_{02}^{2} \\theta_{04}^{3} \\theta_{05} + x_{03} x_{05} \\theta_{00} \\theta_{02}^{2} \\theta_{04}^{3} \\theta_{05} - x_{00} x_{01} \\theta_{01} \\theta_{02}^{2} \\theta_{04}^{3} \\theta_{05} + x_{01} x_{03} \\theta_{01} \\theta_{02}^{2} \\theta_{04}^{3} \\theta_{05} + x_{00} x_{05} \\theta_{01} \\theta_{02}^{2} \\theta_{04}^{3} \\theta_{05} - x_{03} x_{05} \\theta_{01} \\theta_{02}^{2} \\theta_{04}^{3} \\theta_{05} + x_{01} x_{03} \\theta_{00}^{2} \\theta_{03} \\theta_{04}^{3} \\theta_{05} - x_{02} x_{03} \\theta_{00}^{2} \\theta_{03} \\theta_{04}^{3} \\theta_{05} - x_{01} x_{05} \\theta_{00}^{2} \\theta_{03} \\theta_{04}^{3} \\theta_{05} + x_{02} x_{05} \\theta_{00}^{2} \\theta_{03} \\theta_{04}^{3} \\theta_{05} - x_{00} x_{03} \\theta_{01}^{2} \\theta_{03} \\theta_{04}^{3} \\theta_{05} + x_{02} x_{03} \\theta_{01}^{2} \\theta_{03} \\theta_{04}^{3} \\theta_{05} + x_{00} x_{05} \\theta_{01}^{2} \\theta_{03} \\theta_{04}^{3} \\theta_{05} - x_{02} x_{05} \\theta_{01}^{2} \\theta_{03} \\theta_{04}^{3} \\theta_{05} + x_{00} x_{03} \\theta_{02}^{2} \\theta_{03} \\theta_{04}^{3} \\theta_{05} - x_{01} x_{03} \\theta_{02}^{2} \\theta_{03} \\theta_{04}^{3} \\theta_{05} - x_{00} x_{05} \\theta_{02}^{2} \\theta_{03} \\theta_{04}^{3} \\theta_{05} + x_{01} x_{05} \\theta_{02}^{2} \\theta_{03} \\theta_{04}^{3} \\theta_{05} - x_{00} x_{01} \\theta_{00} \\theta_{03}^{2} \\theta_{04}^{3} \\theta_{05} + x_{00} x_{02} \\theta_{00} \\theta_{03}^{2} \\theta_{04}^{3} \\theta_{05} + x_{01} x_{05} \\theta_{00} \\theta_{03}^{2} \\theta_{04}^{3} \\theta_{05} - x_{02} x_{05} \\theta_{00} \\theta_{03}^{2} \\theta_{04}^{3} \\theta_{05} + x_{00} x_{01} \\theta_{01} \\theta_{03}^{2} \\theta_{04}^{3} \\theta_{05} - x_{01} x_{02} \\theta_{01} \\theta_{03}^{2} \\theta_{04}^{3} \\theta_{05} - x_{00} x_{05} \\theta_{01} \\theta_{03}^{2} \\theta_{04}^{3} \\theta_{05} + x_{02} x_{05} \\theta_{01} \\theta_{03}^{2} \\theta_{04}^{3} \\theta_{05} - x_{00} x_{02} \\theta_{02} \\theta_{03}^{2} \\theta_{04}^{3} \\theta_{05} + x_{01} x_{02} \\theta_{02} \\theta_{03}^{2} \\theta_{04}^{3} \\theta_{05} + x_{00} x_{05} \\theta_{02} \\theta_{03}^{2} \\theta_{04}^{3} \\theta_{05} - x_{01} x_{05} \\theta_{02} \\theta_{03}^{2} \\theta_{04}^{3} \\theta_{05} + x_{01} x_{03} \\theta_{00}^{3} \\theta_{01} \\theta_{02} \\theta_{05}^{2} - x_{02} x_{03} \\theta_{00}^{3} \\theta_{01} \\theta_{02} \\theta_{05}^{2} - x_{01} x_{04} \\theta_{00}^{3} \\theta_{01} \\theta_{02} \\theta_{05}^{2} + x_{02} x_{04} \\theta_{00}^{3} \\theta_{01} \\theta_{02} \\theta_{05}^{2} - x_{00} x_{03} \\theta_{00} \\theta_{01}^{3} \\theta_{02} \\theta_{05}^{2} + x_{02} x_{03} \\theta_{00} \\theta_{01}^{3} \\theta_{02} \\theta_{05}^{2} + x_{00} x_{04} \\theta_{00} \\theta_{01}^{3} \\theta_{02} \\theta_{05}^{2} - x_{02} x_{04} \\theta_{00} \\theta_{01}^{3} \\theta_{02} \\theta_{05}^{2} + x_{00} x_{03} \\theta_{00} \\theta_{01} \\theta_{02}^{3} \\theta_{05}^{2} - x_{01} x_{03} \\theta_{00} \\theta_{01} \\theta_{02}^{3} \\theta_{05}^{2} - x_{00} x_{04} \\theta_{00} \\theta_{01} \\theta_{02}^{3} \\theta_{05}^{2} + x_{01} x_{04} \\theta_{00} \\theta_{01} \\theta_{02}^{3} \\theta_{05}^{2} - x_{01} x_{02} \\theta_{00}^{3} \\theta_{01} \\theta_{03} \\theta_{05}^{2} + x_{02} x_{03} \\theta_{00}^{3} \\theta_{01} \\theta_{03} \\theta_{05}^{2} + x_{01} x_{04} \\theta_{00}^{3} \\theta_{01} \\theta_{03} \\theta_{05}^{2} - x_{03} x_{04} \\theta_{00}^{3} \\theta_{01} \\theta_{03} \\theta_{05}^{2} + x_{00} x_{02} \\theta_{00} \\theta_{01}^{3} \\theta_{03} \\theta_{05}^{2} - x_{02} x_{03} \\theta_{00} \\theta_{01}^{3} \\theta_{03} \\theta_{05}^{2} - x_{00} x_{04} \\theta_{00} \\theta_{01}^{3} \\theta_{03} \\theta_{05}^{2} + x_{03} x_{04} \\theta_{00} \\theta_{01}^{3} \\theta_{03} \\theta_{05}^{2} + x_{01} x_{02} \\theta_{00}^{3} \\theta_{02} \\theta_{03} \\theta_{05}^{2} - x_{01} x_{03} \\theta_{00}^{3} \\theta_{02} \\theta_{03} \\theta_{05}^{2} - x_{02} x_{04} \\theta_{00}^{3} \\theta_{02} \\theta_{03} \\theta_{05}^{2} + x_{03} x_{04} \\theta_{00}^{3} \\theta_{02} \\theta_{03} \\theta_{05}^{2} - x_{00} x_{02} \\theta_{01}^{3} \\theta_{02} \\theta_{03} \\theta_{05}^{2} + x_{00} x_{03} \\theta_{01}^{3} \\theta_{02} \\theta_{03} \\theta_{05}^{2} + x_{02} x_{04} \\theta_{01}^{3} \\theta_{02} \\theta_{03} \\theta_{05}^{2} - x_{03} x_{04} \\theta_{01}^{3} \\theta_{02} \\theta_{03} \\theta_{05}^{2} - x_{00} x_{01} \\theta_{00} \\theta_{02}^{3} \\theta_{03} \\theta_{05}^{2} + x_{01} x_{03} \\theta_{00} \\theta_{02}^{3} \\theta_{03} \\theta_{05}^{2} + x_{00} x_{04} \\theta_{00} \\theta_{02}^{3} \\theta_{03} \\theta_{05}^{2} - x_{03} x_{04} \\theta_{00} \\theta_{02}^{3} \\theta_{03} \\theta_{05}^{2} + x_{00} x_{01} \\theta_{01} \\theta_{02}^{3} \\theta_{03} \\theta_{05}^{2} - x_{00} x_{03} \\theta_{01} \\theta_{02}^{3} \\theta_{03} \\theta_{05}^{2} - x_{01} x_{04} \\theta_{01} \\theta_{02}^{3} \\theta_{03} \\theta_{05}^{2} + x_{03} x_{04} \\theta_{01} \\theta_{02}^{3} \\theta_{03} \\theta_{05}^{2} - x_{00} x_{02} \\theta_{00} \\theta_{01} \\theta_{03}^{3} \\theta_{05}^{2} + x_{01} x_{02} \\theta_{00} \\theta_{01} \\theta_{03}^{3} \\theta_{05}^{2} + x_{00} x_{04} \\theta_{00} \\theta_{01} \\theta_{03}^{3} \\theta_{05}^{2} - x_{01} x_{04} \\theta_{00} \\theta_{01} \\theta_{03}^{3} \\theta_{05}^{2} + x_{00} x_{01} \\theta_{00} \\theta_{02} \\theta_{03}^{3} \\theta_{05}^{2} - x_{01} x_{02} \\theta_{00} \\theta_{02} \\theta_{03}^{3} \\theta_{05}^{2} - x_{00} x_{04} \\theta_{00} \\theta_{02} \\theta_{03}^{3} \\theta_{05}^{2} + x_{02} x_{04} \\theta_{00} \\theta_{02} \\theta_{03}^{3} \\theta_{05}^{2} - x_{00} x_{01} \\theta_{01} \\theta_{02} \\theta_{03}^{3} \\theta_{05}^{2} + x_{00} x_{02} \\theta_{01} \\theta_{02} \\theta_{03}^{3} \\theta_{05}^{2} + x_{01} x_{04} \\theta_{01} \\theta_{02} \\theta_{03}^{3} \\theta_{05}^{2} - x_{02} x_{04} \\theta_{01} \\theta_{02} \\theta_{03}^{3} \\theta_{05}^{2} + x_{01} x_{02} \\theta_{00}^{3} \\theta_{01} \\theta_{04} \\theta_{05}^{2} - x_{01} x_{03} \\theta_{00}^{3} \\theta_{01} \\theta_{04} \\theta_{05}^{2} - x_{02} x_{04} \\theta_{00}^{3} \\theta_{01} \\theta_{04} \\theta_{05}^{2} + x_{03} x_{04} \\theta_{00}^{3} \\theta_{01} \\theta_{04} \\theta_{05}^{2} - x_{00} x_{02} \\theta_{00} \\theta_{01}^{3} \\theta_{04} \\theta_{05}^{2} + x_{00} x_{03} \\theta_{00} \\theta_{01}^{3} \\theta_{04} \\theta_{05}^{2} + x_{02} x_{04} \\theta_{00} \\theta_{01}^{3} \\theta_{04} \\theta_{05}^{2} - x_{03} x_{04} \\theta_{00} \\theta_{01}^{3} \\theta_{04} \\theta_{05}^{2} - x_{01} x_{02} \\theta_{00}^{3} \\theta_{02} \\theta_{04} \\theta_{05}^{2} + x_{02} x_{03} \\theta_{00}^{3} \\theta_{02} \\theta_{04} \\theta_{05}^{2} + x_{01} x_{04} \\theta_{00}^{3} \\theta_{02} \\theta_{04} \\theta_{05}^{2} - x_{03} x_{04} \\theta_{00}^{3} \\theta_{02} \\theta_{04} \\theta_{05}^{2} + x_{00} x_{02} \\theta_{01}^{3} \\theta_{02} \\theta_{04} \\theta_{05}^{2} - x_{02} x_{03} \\theta_{01}^{3} \\theta_{02} \\theta_{04} \\theta_{05}^{2} - x_{00} x_{04} \\theta_{01}^{3} \\theta_{02} \\theta_{04} \\theta_{05}^{2} + x_{03} x_{04} \\theta_{01}^{3} \\theta_{02} \\theta_{04} \\theta_{05}^{2} + x_{00} x_{01} \\theta_{00} \\theta_{02}^{3} \\theta_{04} \\theta_{05}^{2} - x_{00} x_{03} \\theta_{00} \\theta_{02}^{3} \\theta_{04} \\theta_{05}^{2} - x_{01} x_{04} \\theta_{00} \\theta_{02}^{3} \\theta_{04} \\theta_{05}^{2} + x_{03} x_{04} \\theta_{00} \\theta_{02}^{3} \\theta_{04} \\theta_{05}^{2} - x_{00} x_{01} \\theta_{01} \\theta_{02}^{3} \\theta_{04} \\theta_{05}^{2} + x_{01} x_{03} \\theta_{01} \\theta_{02}^{3} \\theta_{04} \\theta_{05}^{2} + x_{00} x_{04} \\theta_{01} \\theta_{02}^{3} \\theta_{04} \\theta_{05}^{2} - x_{03} x_{04} \\theta_{01} \\theta_{02}^{3} \\theta_{04} \\theta_{05}^{2} + x_{01} x_{03} \\theta_{00}^{3} \\theta_{03} \\theta_{04} \\theta_{05}^{2} - x_{02} x_{03} \\theta_{00}^{3} \\theta_{03} \\theta_{04} \\theta_{05}^{2} - x_{01} x_{04} \\theta_{00}^{3} \\theta_{03} \\theta_{04} \\theta_{05}^{2} + x_{02} x_{04} \\theta_{00}^{3} \\theta_{03} \\theta_{04} \\theta_{05}^{2} - x_{00} x_{03} \\theta_{01}^{3} \\theta_{03} \\theta_{04} \\theta_{05}^{2} + x_{02} x_{03} \\theta_{01}^{3} \\theta_{03} \\theta_{04} \\theta_{05}^{2} + x_{00} x_{04} \\theta_{01}^{3} \\theta_{03} \\theta_{04} \\theta_{05}^{2} - x_{02} x_{04} \\theta_{01}^{3} \\theta_{03} \\theta_{04} \\theta_{05}^{2} + x_{00} x_{03} \\theta_{02}^{3} \\theta_{03} \\theta_{04} \\theta_{05}^{2} - x_{01} x_{03} \\theta_{02}^{3} \\theta_{03} \\theta_{04} \\theta_{05}^{2} - x_{00} x_{04} \\theta_{02}^{3} \\theta_{03} \\theta_{04} \\theta_{05}^{2} + x_{01} x_{04} \\theta_{02}^{3} \\theta_{03} \\theta_{04} \\theta_{05}^{2} - x_{00} x_{01} \\theta_{00} \\theta_{03}^{3} \\theta_{04} \\theta_{05}^{2} + x_{00} x_{02} \\theta_{00} \\theta_{03}^{3} \\theta_{04} \\theta_{05}^{2} + x_{01} x_{04} \\theta_{00} \\theta_{03}^{3} \\theta_{04} \\theta_{05}^{2} - x_{02} x_{04} \\theta_{00} \\theta_{03}^{3} \\theta_{04} \\theta_{05}^{2} + x_{00} x_{01} \\theta_{01} \\theta_{03}^{3} \\theta_{04} \\theta_{05}^{2} - x_{01} x_{02} \\theta_{01} \\theta_{03}^{3} \\theta_{04} \\theta_{05}^{2} - x_{00} x_{04} \\theta_{01} \\theta_{03}^{3} \\theta_{04} \\theta_{05}^{2} + x_{02} x_{04} \\theta_{01} \\theta_{03}^{3} \\theta_{04} \\theta_{05}^{2} - x_{00} x_{02} \\theta_{02} \\theta_{03}^{3} \\theta_{04} \\theta_{05}^{2} + x_{01} x_{02} \\theta_{02} \\theta_{03}^{3} \\theta_{04} \\theta_{05}^{2} + x_{00} x_{04} \\theta_{02} \\theta_{03}^{3} \\theta_{04} \\theta_{05}^{2} - x_{01} x_{04} \\theta_{02} \\theta_{03}^{3} \\theta_{04} \\theta_{05}^{2} + x_{00} x_{02} \\theta_{00} \\theta_{01} \\theta_{04}^{3} \\theta_{05}^{2} - x_{01} x_{02} \\theta_{00} \\theta_{01} \\theta_{04}^{3} \\theta_{05}^{2} - x_{00} x_{03} \\theta_{00} \\theta_{01} \\theta_{04}^{3} \\theta_{05}^{2} + x_{01} x_{03} \\theta_{00} \\theta_{01} \\theta_{04}^{3} \\theta_{05}^{2} - x_{00} x_{01} \\theta_{00} \\theta_{02} \\theta_{04}^{3} \\theta_{05}^{2} + x_{01} x_{02} \\theta_{00} \\theta_{02} \\theta_{04}^{3} \\theta_{05}^{2} + x_{00} x_{03} \\theta_{00} \\theta_{02} \\theta_{04}^{3} \\theta_{05}^{2} - x_{02} x_{03} \\theta_{00} \\theta_{02} \\theta_{04}^{3} \\theta_{05}^{2} + x_{00} x_{01} \\theta_{01} \\theta_{02} \\theta_{04}^{3} \\theta_{05}^{2} - x_{00} x_{02} \\theta_{01} \\theta_{02} \\theta_{04}^{3} \\theta_{05}^{2} - x_{01} x_{03} \\theta_{01} \\theta_{02} \\theta_{04}^{3} \\theta_{05}^{2} + x_{02} x_{03} \\theta_{01} \\theta_{02} \\theta_{04}^{3} \\theta_{05}^{2} + x_{00} x_{01} \\theta_{00} \\theta_{03} \\theta_{04}^{3} \\theta_{05}^{2} - x_{00} x_{02} \\theta_{00} \\theta_{03} \\theta_{04}^{3} \\theta_{05}^{2} - x_{01} x_{03} \\theta_{00} \\theta_{03} \\theta_{04}^{3} \\theta_{05}^{2} + x_{02} x_{03} \\theta_{00} \\theta_{03} \\theta_{04}^{3} \\theta_{05}^{2} - x_{00} x_{01} \\theta_{01} \\theta_{03} \\theta_{04}^{3} \\theta_{05}^{2} + x_{01} x_{02} \\theta_{01} \\theta_{03} \\theta_{04}^{3} \\theta_{05}^{2} + x_{00} x_{03} \\theta_{01} \\theta_{03} \\theta_{04}^{3} \\theta_{05}^{2} - x_{02} x_{03} \\theta_{01} \\theta_{03} \\theta_{04}^{3} \\theta_{05}^{2} + x_{00} x_{02} \\theta_{02} \\theta_{03} \\theta_{04}^{3} \\theta_{05}^{2} - x_{01} x_{02} \\theta_{02} \\theta_{03} \\theta_{04}^{3} \\theta_{05}^{2} - x_{00} x_{03} \\theta_{02} \\theta_{03} \\theta_{04}^{3} \\theta_{05}^{2} + x_{01} x_{03} \\theta_{02} \\theta_{03} \\theta_{04}^{3} \\theta_{05}^{2} - x_{01} x_{03} \\theta_{00}^{2} \\theta_{01} \\theta_{02} \\theta_{05}^{3} + x_{02} x_{03} \\theta_{00}^{2} \\theta_{01} \\theta_{02} \\theta_{05}^{3} + x_{01} x_{04} \\theta_{00}^{2} \\theta_{01} \\theta_{02} \\theta_{05}^{3} - x_{02} x_{04} \\theta_{00}^{2} \\theta_{01} \\theta_{02} \\theta_{05}^{3} + x_{00} x_{03} \\theta_{00} \\theta_{01}^{2} \\theta_{02} \\theta_{05}^{3} - x_{02} x_{03} \\theta_{00} \\theta_{01}^{2} \\theta_{02} \\theta_{05}^{3} - x_{00} x_{04} \\theta_{00} \\theta_{01}^{2} \\theta_{02} \\theta_{05}^{3} + x_{02} x_{04} \\theta_{00} \\theta_{01}^{2} \\theta_{02} \\theta_{05}^{3} - x_{00} x_{03} \\theta_{00} \\theta_{01} \\theta_{02}^{2} \\theta_{05}^{3} + x_{01} x_{03} \\theta_{00} \\theta_{01} \\theta_{02}^{2} \\theta_{05}^{3} + x_{00} x_{04} \\theta_{00} \\theta_{01} \\theta_{02}^{2} \\theta_{05}^{3} - x_{01} x_{04} \\theta_{00} \\theta_{01} \\theta_{02}^{2} \\theta_{05}^{3} + x_{01} x_{02} \\theta_{00}^{2} \\theta_{01} \\theta_{03} \\theta_{05}^{3} - x_{02} x_{03} \\theta_{00}^{2} \\theta_{01} \\theta_{03} \\theta_{05}^{3} - x_{01} x_{04} \\theta_{00}^{2} \\theta_{01} \\theta_{03} \\theta_{05}^{3} + x_{03} x_{04} \\theta_{00}^{2} \\theta_{01} \\theta_{03} \\theta_{05}^{3} - x_{00} x_{02} \\theta_{00} \\theta_{01}^{2} \\theta_{03} \\theta_{05}^{3} + x_{02} x_{03} \\theta_{00} \\theta_{01}^{2} \\theta_{03} \\theta_{05}^{3} + x_{00} x_{04} \\theta_{00} \\theta_{01}^{2} \\theta_{03} \\theta_{05}^{3} - x_{03} x_{04} \\theta_{00} \\theta_{01}^{2} \\theta_{03} \\theta_{05}^{3} - x_{01} x_{02} \\theta_{00}^{2} \\theta_{02} \\theta_{03} \\theta_{05}^{3} + x_{01} x_{03} \\theta_{00}^{2} \\theta_{02} \\theta_{03} \\theta_{05}^{3} + x_{02} x_{04} \\theta_{00}^{2} \\theta_{02} \\theta_{03} \\theta_{05}^{3} - x_{03} x_{04} \\theta_{00}^{2} \\theta_{02} \\theta_{03} \\theta_{05}^{3} + x_{00} x_{02} \\theta_{01}^{2} \\theta_{02} \\theta_{03} \\theta_{05}^{3} - x_{00} x_{03} \\theta_{01}^{2} \\theta_{02} \\theta_{03} \\theta_{05}^{3} - x_{02} x_{04} \\theta_{01}^{2} \\theta_{02} \\theta_{03} \\theta_{05}^{3} + x_{03} x_{04} \\theta_{01}^{2} \\theta_{02} \\theta_{03} \\theta_{05}^{3} + x_{00} x_{01} \\theta_{00} \\theta_{02}^{2} \\theta_{03} \\theta_{05}^{3} - x_{01} x_{03} \\theta_{00} \\theta_{02}^{2} \\theta_{03} \\theta_{05}^{3} - x_{00} x_{04} \\theta_{00} \\theta_{02}^{2} \\theta_{03} \\theta_{05}^{3} + x_{03} x_{04} \\theta_{00} \\theta_{02}^{2} \\theta_{03} \\theta_{05}^{3} - x_{00} x_{01} \\theta_{01} \\theta_{02}^{2} \\theta_{03} \\theta_{05}^{3} + x_{00} x_{03} \\theta_{01} \\theta_{02}^{2} \\theta_{03} \\theta_{05}^{3} + x_{01} x_{04} \\theta_{01} \\theta_{02}^{2} \\theta_{03} \\theta_{05}^{3} - x_{03} x_{04} \\theta_{01} \\theta_{02}^{2} \\theta_{03} \\theta_{05}^{3} + x_{00} x_{02} \\theta_{00} \\theta_{01} \\theta_{03}^{2} \\theta_{05}^{3} - x_{01} x_{02} \\theta_{00} \\theta_{01} \\theta_{03}^{2} \\theta_{05}^{3} - x_{00} x_{04} \\theta_{00} \\theta_{01} \\theta_{03}^{2} \\theta_{05}^{3} + x_{01} x_{04} \\theta_{00} \\theta_{01} \\theta_{03}^{2} \\theta_{05}^{3} - x_{00} x_{01} \\theta_{00} \\theta_{02} \\theta_{03}^{2} \\theta_{05}^{3} + x_{01} x_{02} \\theta_{00} \\theta_{02} \\theta_{03}^{2} \\theta_{05}^{3} + x_{00} x_{04} \\theta_{00} \\theta_{02} \\theta_{03}^{2} \\theta_{05}^{3} - x_{02} x_{04} \\theta_{00} \\theta_{02} \\theta_{03}^{2} \\theta_{05}^{3} + x_{00} x_{01} \\theta_{01} \\theta_{02} \\theta_{03}^{2} \\theta_{05}^{3} - x_{00} x_{02} \\theta_{01} \\theta_{02} \\theta_{03}^{2} \\theta_{05}^{3} - x_{01} x_{04} \\theta_{01} \\theta_{02} \\theta_{03}^{2} \\theta_{05}^{3} + x_{02} x_{04} \\theta_{01} \\theta_{02} \\theta_{03}^{2} \\theta_{05}^{3} - x_{01} x_{02} \\theta_{00}^{2} \\theta_{01} \\theta_{04} \\theta_{05}^{3} + x_{01} x_{03} \\theta_{00}^{2} \\theta_{01} \\theta_{04} \\theta_{05}^{3} + x_{02} x_{04} \\theta_{00}^{2} \\theta_{01} \\theta_{04} \\theta_{05}^{3} - x_{03} x_{04} \\theta_{00}^{2} \\theta_{01} \\theta_{04} \\theta_{05}^{3} + x_{00} x_{02} \\theta_{00} \\theta_{01}^{2} \\theta_{04} \\theta_{05}^{3} - x_{00} x_{03} \\theta_{00} \\theta_{01}^{2} \\theta_{04} \\theta_{05}^{3} - x_{02} x_{04} \\theta_{00} \\theta_{01}^{2} \\theta_{04} \\theta_{05}^{3} + x_{03} x_{04} \\theta_{00} \\theta_{01}^{2} \\theta_{04} \\theta_{05}^{3} + x_{01} x_{02} \\theta_{00}^{2} \\theta_{02} \\theta_{04} \\theta_{05}^{3} - x_{02} x_{03} \\theta_{00}^{2} \\theta_{02} \\theta_{04} \\theta_{05}^{3} - x_{01} x_{04} \\theta_{00}^{2} \\theta_{02} \\theta_{04} \\theta_{05}^{3} + x_{03} x_{04} \\theta_{00}^{2} \\theta_{02} \\theta_{04} \\theta_{05}^{3} - x_{00} x_{02} \\theta_{01}^{2} \\theta_{02} \\theta_{04} \\theta_{05}^{3} + x_{02} x_{03} \\theta_{01}^{2} \\theta_{02} \\theta_{04} \\theta_{05}^{3} + x_{00} x_{04} \\theta_{01}^{2} \\theta_{02} \\theta_{04} \\theta_{05}^{3} - x_{03} x_{04} \\theta_{01}^{2} \\theta_{02} \\theta_{04} \\theta_{05}^{3} - x_{00} x_{01} \\theta_{00} \\theta_{02}^{2} \\theta_{04} \\theta_{05}^{3} + x_{00} x_{03} \\theta_{00} \\theta_{02}^{2} \\theta_{04} \\theta_{05}^{3} + x_{01} x_{04} \\theta_{00} \\theta_{02}^{2} \\theta_{04} \\theta_{05}^{3} - x_{03} x_{04} \\theta_{00} \\theta_{02}^{2} \\theta_{04} \\theta_{05}^{3} + x_{00} x_{01} \\theta_{01} \\theta_{02}^{2} \\theta_{04} \\theta_{05}^{3} - x_{01} x_{03} \\theta_{01} \\theta_{02}^{2} \\theta_{04} \\theta_{05}^{3} - x_{00} x_{04} \\theta_{01} \\theta_{02}^{2} \\theta_{04} \\theta_{05}^{3} + x_{03} x_{04} \\theta_{01} \\theta_{02}^{2} \\theta_{04} \\theta_{05}^{3} - x_{01} x_{03} \\theta_{00}^{2} \\theta_{03} \\theta_{04} \\theta_{05}^{3} + x_{02} x_{03} \\theta_{00}^{2} \\theta_{03} \\theta_{04} \\theta_{05}^{3} + x_{01} x_{04} \\theta_{00}^{2} \\theta_{03} \\theta_{04} \\theta_{05}^{3} - x_{02} x_{04} \\theta_{00}^{2} \\theta_{03} \\theta_{04} \\theta_{05}^{3} + x_{00} x_{03} \\theta_{01}^{2} \\theta_{03} \\theta_{04} \\theta_{05}^{3} - x_{02} x_{03} \\theta_{01}^{2} \\theta_{03} \\theta_{04} \\theta_{05}^{3} - x_{00} x_{04} \\theta_{01}^{2} \\theta_{03} \\theta_{04} \\theta_{05}^{3} + x_{02} x_{04} \\theta_{01}^{2} \\theta_{03} \\theta_{04} \\theta_{05}^{3} - x_{00} x_{03} \\theta_{02}^{2} \\theta_{03} \\theta_{04} \\theta_{05}^{3} + x_{01} x_{03} \\theta_{02}^{2} \\theta_{03} \\theta_{04} \\theta_{05}^{3} + x_{00} x_{04} \\theta_{02}^{2} \\theta_{03} \\theta_{04} \\theta_{05}^{3} - x_{01} x_{04} \\theta_{02}^{2} \\theta_{03} \\theta_{04} \\theta_{05}^{3} + x_{00} x_{01} \\theta_{00} \\theta_{03}^{2} \\theta_{04} \\theta_{05}^{3} - x_{00} x_{02} \\theta_{00} \\theta_{03}^{2} \\theta_{04} \\theta_{05}^{3} - x_{01} x_{04} \\theta_{00} \\theta_{03}^{2} \\theta_{04} \\theta_{05}^{3} + x_{02} x_{04} \\theta_{00} \\theta_{03}^{2} \\theta_{04} \\theta_{05}^{3} - x_{00} x_{01} \\theta_{01} \\theta_{03}^{2} \\theta_{04} \\theta_{05}^{3} + x_{01} x_{02} \\theta_{01} \\theta_{03}^{2} \\theta_{04} \\theta_{05}^{3} + x_{00} x_{04} \\theta_{01} \\theta_{03}^{2} \\theta_{04} \\theta_{05}^{3} - x_{02} x_{04} \\theta_{01} \\theta_{03}^{2} \\theta_{04} \\theta_{05}^{3} + x_{00} x_{02} \\theta_{02} \\theta_{03}^{2} \\theta_{04} \\theta_{05}^{3} - x_{01} x_{02} \\theta_{02} \\theta_{03}^{2} \\theta_{04} \\theta_{05}^{3} - x_{00} x_{04} \\theta_{02} \\theta_{03}^{2} \\theta_{04} \\theta_{05}^{3} + x_{01} x_{04} \\theta_{02} \\theta_{03}^{2} \\theta_{04} \\theta_{05}^{3} - x_{00} x_{02} \\theta_{00} \\theta_{01} \\theta_{04}^{2} \\theta_{05}^{3} + x_{01} x_{02} \\theta_{00} \\theta_{01} \\theta_{04}^{2} \\theta_{05}^{3} + x_{00} x_{03} \\theta_{00} \\theta_{01} \\theta_{04}^{2} \\theta_{05}^{3} - x_{01} x_{03} \\theta_{00} \\theta_{01} \\theta_{04}^{2} \\theta_{05}^{3} + x_{00} x_{01} \\theta_{00} \\theta_{02} \\theta_{04}^{2} \\theta_{05}^{3} - x_{01} x_{02} \\theta_{00} \\theta_{02} \\theta_{04}^{2} \\theta_{05}^{3} - x_{00} x_{03} \\theta_{00} \\theta_{02} \\theta_{04}^{2} \\theta_{05}^{3} + x_{02} x_{03} \\theta_{00} \\theta_{02} \\theta_{04}^{2} \\theta_{05}^{3} - x_{00} x_{01} \\theta_{01} \\theta_{02} \\theta_{04}^{2} \\theta_{05}^{3} + x_{00} x_{02} \\theta_{01} \\theta_{02} \\theta_{04}^{2} \\theta_{05}^{3} + x_{01} x_{03} \\theta_{01} \\theta_{02} \\theta_{04}^{2} \\theta_{05}^{3} - x_{02} x_{03} \\theta_{01} \\theta_{02} \\theta_{04}^{2} \\theta_{05}^{3} - x_{00} x_{01} \\theta_{00} \\theta_{03} \\theta_{04}^{2} \\theta_{05}^{3} + x_{00} x_{02} \\theta_{00} \\theta_{03} \\theta_{04}^{2} \\theta_{05}^{3} + x_{01} x_{03} \\theta_{00} \\theta_{03} \\theta_{04}^{2} \\theta_{05}^{3} - x_{02} x_{03} \\theta_{00} \\theta_{03} \\theta_{04}^{2} \\theta_{05}^{3} + x_{00} x_{01} \\theta_{01} \\theta_{03} \\theta_{04}^{2} \\theta_{05}^{3} - x_{01} x_{02} \\theta_{01} \\theta_{03} \\theta_{04}^{2} \\theta_{05}^{3} - x_{00} x_{03} \\theta_{01} \\theta_{03} \\theta_{04}^{2} \\theta_{05}^{3} + x_{02} x_{03} \\theta_{01} \\theta_{03} \\theta_{04}^{2} \\theta_{05}^{3} - x_{00} x_{02} \\theta_{02} \\theta_{03} \\theta_{04}^{2} \\theta_{05}^{3} + x_{01} x_{02} \\theta_{02} \\theta_{03} \\theta_{04}^{2} \\theta_{05}^{3} + x_{00} x_{03} \\theta_{02} \\theta_{03} \\theta_{04}^{2} \\theta_{05}^{3} - x_{01} x_{03} \\theta_{02} \\theta_{03} \\theta_{04}^{2} \\theta_{05}^{3}\\right)\\right\\}</script></html>"
      ],
      "text/plain": [
       "{((2,),\n",
       "  (1,\n",
       "   1,\n",
       "   1,\n",
       "   1,\n",
       "   1,\n",
       "   1)): (x02*x04*theta00^3*theta01^2*theta02*theta03 - x03*x04*theta00^3*theta01^2*theta02*theta03 - x02*x05*theta00^3*theta01^2*theta02*theta03 + x03*x05*theta00^3*theta01^2*theta02*theta03 - x02*x04*theta00^2*theta01^3*theta02*theta03 + x03*x04*theta00^2*theta01^3*theta02*theta03 + x02*x05*theta00^2*theta01^3*theta02*theta03 - x03*x05*theta00^2*theta01^3*theta02*theta03 - x01*x04*theta00^3*theta01*theta02^2*theta03 + x03*x04*theta00^3*theta01*theta02^2*theta03 + x01*x05*theta00^3*theta01*theta02^2*theta03 - x03*x05*theta00^3*theta01*theta02^2*theta03 + x00*x04*theta00*theta01^3*theta02^2*theta03 - x03*x04*theta00*theta01^3*theta02^2*theta03 - x00*x05*theta00*theta01^3*theta02^2*theta03 + x03*x05*theta00*theta01^3*theta02^2*theta03 + x01*x04*theta00^2*theta01*theta02^3*theta03 - x03*x04*theta00^2*theta01*theta02^3*theta03 - x01*x05*theta00^2*theta01*theta02^3*theta03 + x03*x05*theta00^2*theta01*theta02^3*theta03 - x00*x04*theta00*theta01^2*theta02^3*theta03 + x03*x04*theta00*theta01^2*theta02^3*theta03 + x00*x05*theta00*theta01^2*theta02^3*theta03 - x03*x05*theta00*theta01^2*theta02^3*theta03 + x01*x04*theta00^3*theta01*theta02*theta03^2 - x02*x04*theta00^3*theta01*theta02*theta03^2 - x01*x05*theta00^3*theta01*theta02*theta03^2 + x02*x05*theta00^3*theta01*theta02*theta03^2 - x00*x04*theta00*theta01^3*theta02*theta03^2 + x02*x04*theta00*theta01^3*theta02*theta03^2 + x00*x05*theta00*theta01^3*theta02*theta03^2 - x02*x05*theta00*theta01^3*theta02*theta03^2 + x00*x04*theta00*theta01*theta02^3*theta03^2 - x01*x04*theta00*theta01*theta02^3*theta03^2 - x00*x05*theta00*theta01*theta02^3*theta03^2 + x01*x05*theta00*theta01*theta02^3*theta03^2 - x01*x04*theta00^2*theta01*theta02*theta03^3 + x02*x04*theta00^2*theta01*theta02*theta03^3 + x01*x05*theta00^2*theta01*theta02*theta03^3 - x02*x05*theta00^2*theta01*theta02*theta03^3 + x00*x04*theta00*theta01^2*theta02*theta03^3 - x02*x04*theta00*theta01^2*theta02*theta03^3 - x00*x05*theta00*theta01^2*theta02*theta03^3 + x02*x05*theta00*theta01^2*theta02*theta03^3 - x00*x04*theta00*theta01*theta02^2*theta03^3 + x01*x04*theta00*theta01*theta02^2*theta03^3 + x00*x05*theta00*theta01*theta02^2*theta03^3 - x01*x05*theta00*theta01*theta02^2*theta03^3 - x02*x03*theta00^3*theta01^2*theta02*theta04 + x03*x04*theta00^3*theta01^2*theta02*theta04 + x02*x05*theta00^3*theta01^2*theta02*theta04 - x04*x05*theta00^3*theta01^2*theta02*theta04 + x02*x03*theta00^2*theta01^3*theta02*theta04 - x03*x04*theta00^2*theta01^3*theta02*theta04 - x02*x05*theta00^2*theta01^3*theta02*theta04 + x04*x05*theta00^2*theta01^3*theta02*theta04 + x01*x03*theta00^3*theta01*theta02^2*theta04 - x03*x04*theta00^3*theta01*theta02^2*theta04 - x01*x05*theta00^3*theta01*theta02^2*theta04 + x04*x05*theta00^3*theta01*theta02^2*theta04 - x00*x03*theta00*theta01^3*theta02^2*theta04 + x03*x04*theta00*theta01^3*theta02^2*theta04 + x00*x05*theta00*theta01^3*theta02^2*theta04 - x04*x05*theta00*theta01^3*theta02^2*theta04 - x01*x03*theta00^2*theta01*theta02^3*theta04 + x03*x04*theta00^2*theta01*theta02^3*theta04 + x01*x05*theta00^2*theta01*theta02^3*theta04 - x04*x05*theta00^2*theta01*theta02^3*theta04 + x00*x03*theta00*theta01^2*theta02^3*theta04 - x03*x04*theta00*theta01^2*theta02^3*theta04 - x00*x05*theta00*theta01^2*theta02^3*theta04 + x04*x05*theta00*theta01^2*theta02^3*theta04 + x02*x03*theta00^3*theta01^2*theta03*theta04 - x02*x04*theta00^3*theta01^2*theta03*theta04 - x03*x05*theta00^3*theta01^2*theta03*theta04 + x04*x05*theta00^3*theta01^2*theta03*theta04 - x02*x03*theta00^2*theta01^3*theta03*theta04 + x02*x04*theta00^2*theta01^3*theta03*theta04 + x03*x05*theta00^2*theta01^3*theta03*theta04 - x04*x05*theta00^2*theta01^3*theta03*theta04 - x01*x03*theta00^3*theta02^2*theta03*theta04 + x01*x04*theta00^3*theta02^2*theta03*theta04 + x03*x05*theta00^3*theta02^2*theta03*theta04 - x04*x05*theta00^3*theta02^2*theta03*theta04 + x00*x03*theta01^3*theta02^2*theta03*theta04 - x00*x04*theta01^3*theta02^2*theta03*theta04 - x03*x05*theta01^3*theta02^2*theta03*theta04 + x04*x05*theta01^3*theta02^2*theta03*theta04 + x01*x03*theta00^2*theta02^3*theta03*theta04 - x01*x04*theta00^2*theta02^3*theta03*theta04 - x03*x05*theta00^2*theta02^3*theta03*theta04 + x04*x05*theta00^2*theta02^3*theta03*theta04 - x00*x03*theta01^2*theta02^3*theta03*theta04 + x00*x04*theta01^2*theta02^3*theta03*theta04 + x03*x05*theta01^2*theta02^3*theta03*theta04 - x04*x05*theta01^2*theta02^3*theta03*theta04 - x01*x02*theta00^3*theta01*theta03^2*theta04 + x02*x04*theta00^3*theta01*theta03^2*theta04 + x01*x05*theta00^3*theta01*theta03^2*theta04 - x04*x05*theta00^3*theta01*theta03^2*theta04 + x00*x02*theta00*theta01^3*theta03^2*theta04 - x02*x04*theta00*theta01^3*theta03^2*theta04 - x00*x05*theta00*theta01^3*theta03^2*theta04 + x04*x05*theta00*theta01^3*theta03^2*theta04 + x01*x02*theta00^3*theta02*theta03^2*theta04 - x01*x04*theta00^3*theta02*theta03^2*theta04 - x02*x05*theta00^3*theta02*theta03^2*theta04 + x04*x05*theta00^3*theta02*theta03^2*theta04 - x00*x02*theta01^3*theta02*theta03^2*theta04 + x00*x04*theta01^3*theta02*theta03^2*theta04 + x02*x05*theta01^3*theta02*theta03^2*theta04 - x04*x05*theta01^3*theta02*theta03^2*theta04 - x00*x01*theta00*theta02^3*theta03^2*theta04 + x01*x04*theta00*theta02^3*theta03^2*theta04 + x00*x05*theta00*theta02^3*theta03^2*theta04 - x04*x05*theta00*theta02^3*theta03^2*theta04 + x00*x01*theta01*theta02^3*theta03^2*theta04 - x00*x04*theta01*theta02^3*theta03^2*theta04 - x01*x05*theta01*theta02^3*theta03^2*theta04 + x04*x05*theta01*theta02^3*theta03^2*theta04 + x01*x02*theta00^2*theta01*theta03^3*theta04 - x02*x04*theta00^2*theta01*theta03^3*theta04 - x01*x05*theta00^2*theta01*theta03^3*theta04 + x04*x05*theta00^2*theta01*theta03^3*theta04 - x00*x02*theta00*theta01^2*theta03^3*theta04 + x02*x04*theta00*theta01^2*theta03^3*theta04 + x00*x05*theta00*theta01^2*theta03^3*theta04 - x04*x05*theta00*theta01^2*theta03^3*theta04 - x01*x02*theta00^2*theta02*theta03^3*theta04 + x01*x04*theta00^2*theta02*theta03^3*theta04 + x02*x05*theta00^2*theta02*theta03^3*theta04 - x04*x05*theta00^2*theta02*theta03^3*theta04 + x00*x02*theta01^2*theta02*theta03^3*theta04 - x00*x04*theta01^2*theta02*theta03^3*theta04 - x02*x05*theta01^2*theta02*theta03^3*theta04 + x04*x05*theta01^2*theta02*theta03^3*theta04 + x00*x01*theta00*theta02^2*theta03^3*theta04 - x01*x04*theta00*theta02^2*theta03^3*theta04 - x00*x05*theta00*theta02^2*theta03^3*theta04 + x04*x05*theta00*theta02^2*theta03^3*theta04 - x00*x01*theta01*theta02^2*theta03^3*theta04 + x00*x04*theta01*theta02^2*theta03^3*theta04 + x01*x05*theta01*theta02^2*theta03^3*theta04 - x04*x05*theta01*theta02^2*theta03^3*theta04 - x01*x03*theta00^3*theta01*theta02*theta04^2 + x02*x03*theta00^3*theta01*theta02*theta04^2 + x01*x05*theta00^3*theta01*theta02*theta04^2 - x02*x05*theta00^3*theta01*theta02*theta04^2 + x00*x03*theta00*theta01^3*theta02*theta04^2 - x02*x03*theta00*theta01^3*theta02*theta04^2 - x00*x05*theta00*theta01^3*theta02*theta04^2 + x02*x05*theta00*theta01^3*theta02*theta04^2 - x00*x03*theta00*theta01*theta02^3*theta04^2 + x01*x03*theta00*theta01*theta02^3*theta04^2 + x00*x05*theta00*theta01*theta02^3*theta04^2 - x01*x05*theta00*theta01*theta02^3*theta04^2 + x01*x02*theta00^3*theta01*theta03*theta04^2 - x02*x03*theta00^3*theta01*theta03*theta04^2 - x01*x05*theta00^3*theta01*theta03*theta04^2 + x03*x05*theta00^3*theta01*theta03*theta04^2 - x00*x02*theta00*theta01^3*theta03*theta04^2 + x02*x03*theta00*theta01^3*theta03*theta04^2 + x00*x05*theta00*theta01^3*theta03*theta04^2 - x03*x05*theta00*theta01^3*theta03*theta04^2 - x01*x02*theta00^3*theta02*theta03*theta04^2 + x01*x03*theta00^3*theta02*theta03*theta04^2 + x02*x05*theta00^3*theta02*theta03*theta04^2 - x03*x05*theta00^3*theta02*theta03*theta04^2 + x00*x02*theta01^3*theta02*theta03*theta04^2 - x00*x03*theta01^3*theta02*theta03*theta04^2 - x02*x05*theta01^3*theta02*theta03*theta04^2 + x03*x05*theta01^3*theta02*theta03*theta04^2 + x00*x01*theta00*theta02^3*theta03*theta04^2 - x01*x03*theta00*theta02^3*theta03*theta04^2 - x00*x05*theta00*theta02^3*theta03*theta04^2 + x03*x05*theta00*theta02^3*theta03*theta04^2 - x00*x01*theta01*theta02^3*theta03*theta04^2 + x00*x03*theta01*theta02^3*theta03*theta04^2 + x01*x05*theta01*theta02^3*theta03*theta04^2 - x03*x05*theta01*theta02^3*theta03*theta04^2 + x00*x02*theta00*theta01*theta03^3*theta04^2 - x01*x02*theta00*theta01*theta03^3*theta04^2 - x00*x05*theta00*theta01*theta03^3*theta04^2 + x01*x05*theta00*theta01*theta03^3*theta04^2 - x00*x01*theta00*theta02*theta03^3*theta04^2 + x01*x02*theta00*theta02*theta03^3*theta04^2 + x00*x05*theta00*theta02*theta03^3*theta04^2 - x02*x05*theta00*theta02*theta03^3*theta04^2 + x00*x01*theta01*theta02*theta03^3*theta04^2 - x00*x02*theta01*theta02*theta03^3*theta04^2 - x01*x05*theta01*theta02*theta03^3*theta04^2 + x02*x05*theta01*theta02*theta03^3*theta04^2 + x01*x03*theta00^2*theta01*theta02*theta04^3 - x02*x03*theta00^2*theta01*theta02*theta04^3 - x01*x05*theta00^2*theta01*theta02*theta04^3 + x02*x05*theta00^2*theta01*theta02*theta04^3 - x00*x03*theta00*theta01^2*theta02*theta04^3 + x02*x03*theta00*theta01^2*theta02*theta04^3 + x00*x05*theta00*theta01^2*theta02*theta04^3 - x02*x05*theta00*theta01^2*theta02*theta04^3 + x00*x03*theta00*theta01*theta02^2*theta04^3 - x01*x03*theta00*theta01*theta02^2*theta04^3 - x00*x05*theta00*theta01*theta02^2*theta04^3 + x01*x05*theta00*theta01*theta02^2*theta04^3 - x01*x02*theta00^2*theta01*theta03*theta04^3 + x02*x03*theta00^2*theta01*theta03*theta04^3 + x01*x05*theta00^2*theta01*theta03*theta04^3 - x03*x05*theta00^2*theta01*theta03*theta04^3 + x00*x02*theta00*theta01^2*theta03*theta04^3 - x02*x03*theta00*theta01^2*theta03*theta04^3 - x00*x05*theta00*theta01^2*theta03*theta04^3 + x03*x05*theta00*theta01^2*theta03*theta04^3 + x01*x02*theta00^2*theta02*theta03*theta04^3 - x01*x03*theta00^2*theta02*theta03*theta04^3 - x02*x05*theta00^2*theta02*theta03*theta04^3 + x03*x05*theta00^2*theta02*theta03*theta04^3 - x00*x02*theta01^2*theta02*theta03*theta04^3 + x00*x03*theta01^2*theta02*theta03*theta04^3 + x02*x05*theta01^2*theta02*theta03*theta04^3 - x03*x05*theta01^2*theta02*theta03*theta04^3 - x00*x01*theta00*theta02^2*theta03*theta04^3 + x01*x03*theta00*theta02^2*theta03*theta04^3 + x00*x05*theta00*theta02^2*theta03*theta04^3 - x03*x05*theta00*theta02^2*theta03*theta04^3 + x00*x01*theta01*theta02^2*theta03*theta04^3 - x00*x03*theta01*theta02^2*theta03*theta04^3 - x01*x05*theta01*theta02^2*theta03*theta04^3 + x03*x05*theta01*theta02^2*theta03*theta04^3 - x00*x02*theta00*theta01*theta03^2*theta04^3 + x01*x02*theta00*theta01*theta03^2*theta04^3 + x00*x05*theta00*theta01*theta03^2*theta04^3 - x01*x05*theta00*theta01*theta03^2*theta04^3 + x00*x01*theta00*theta02*theta03^2*theta04^3 - x01*x02*theta00*theta02*theta03^2*theta04^3 - x00*x05*theta00*theta02*theta03^2*theta04^3 + x02*x05*theta00*theta02*theta03^2*theta04^3 - x00*x01*theta01*theta02*theta03^2*theta04^3 + x00*x02*theta01*theta02*theta03^2*theta04^3 + x01*x05*theta01*theta02*theta03^2*theta04^3 - x02*x05*theta01*theta02*theta03^2*theta04^3 + x02*x03*theta00^3*theta01^2*theta02*theta05 - x02*x04*theta00^3*theta01^2*theta02*theta05 - x03*x05*theta00^3*theta01^2*theta02*theta05 + x04*x05*theta00^3*theta01^2*theta02*theta05 - x02*x03*theta00^2*theta01^3*theta02*theta05 + x02*x04*theta00^2*theta01^3*theta02*theta05 + x03*x05*theta00^2*theta01^3*theta02*theta05 - x04*x05*theta00^2*theta01^3*theta02*theta05 - x01*x03*theta00^3*theta01*theta02^2*theta05 + x01*x04*theta00^3*theta01*theta02^2*theta05 + x03*x05*theta00^3*theta01*theta02^2*theta05 - x04*x05*theta00^3*theta01*theta02^2*theta05 + x00*x03*theta00*theta01^3*theta02^2*theta05 - x00*x04*theta00*theta01^3*theta02^2*theta05 - x03*x05*theta00*theta01^3*theta02^2*theta05 + x04*x05*theta00*theta01^3*theta02^2*theta05 + x01*x03*theta00^2*theta01*theta02^3*theta05 - x01*x04*theta00^2*theta01*theta02^3*theta05 - x03*x05*theta00^2*theta01*theta02^3*theta05 + x04*x05*theta00^2*theta01*theta02^3*theta05 - x00*x03*theta00*theta01^2*theta02^3*theta05 + x00*x04*theta00*theta01^2*theta02^3*theta05 + x03*x05*theta00*theta01^2*theta02^3*theta05 - x04*x05*theta00*theta01^2*theta02^3*theta05 - x02*x03*theta00^3*theta01^2*theta03*theta05 + x03*x04*theta00^3*theta01^2*theta03*theta05 + x02*x05*theta00^3*theta01^2*theta03*theta05 - x04*x05*theta00^3*theta01^2*theta03*theta05 + x02*x03*theta00^2*theta01^3*theta03*theta05 - x03*x04*theta00^2*theta01^3*theta03*theta05 - x02*x05*theta00^2*theta01^3*theta03*theta05 + x04*x05*theta00^2*theta01^3*theta03*theta05 + x01*x03*theta00^3*theta02^2*theta03*theta05 - x03*x04*theta00^3*theta02^2*theta03*theta05 - x01*x05*theta00^3*theta02^2*theta03*theta05 + x04*x05*theta00^3*theta02^2*theta03*theta05 - x00*x03*theta01^3*theta02^2*theta03*theta05 + x03*x04*theta01^3*theta02^2*theta03*theta05 + x00*x05*theta01^3*theta02^2*theta03*theta05 - x04*x05*theta01^3*theta02^2*theta03*theta05 - x01*x03*theta00^2*theta02^3*theta03*theta05 + x03*x04*theta00^2*theta02^3*theta03*theta05 + x01*x05*theta00^2*theta02^3*theta03*theta05 - x04*x05*theta00^2*theta02^3*theta03*theta05 + x00*x03*theta01^2*theta02^3*theta03*theta05 - x03*x04*theta01^2*theta02^3*theta03*theta05 - x00*x05*theta01^2*theta02^3*theta03*theta05 + x04*x05*theta01^2*theta02^3*theta03*theta05 + x01*x02*theta00^3*theta01*theta03^2*theta05 - x01*x04*theta00^3*theta01*theta03^2*theta05 - x02*x05*theta00^3*theta01*theta03^2*theta05 + x04*x05*theta00^3*theta01*theta03^2*theta05 - x00*x02*theta00*theta01^3*theta03^2*theta05 + x00*x04*theta00*theta01^3*theta03^2*theta05 + x02*x05*theta00*theta01^3*theta03^2*theta05 - x04*x05*theta00*theta01^3*theta03^2*theta05 - x01*x02*theta00^3*theta02*theta03^2*theta05 + x02*x04*theta00^3*theta02*theta03^2*theta05 + x01*x05*theta00^3*theta02*theta03^2*theta05 - x04*x05*theta00^3*theta02*theta03^2*theta05 + x00*x02*theta01^3*theta02*theta03^2*theta05 - x02*x04*theta01^3*theta02*theta03^2*theta05 - x00*x05*theta01^3*theta02*theta03^2*theta05 + x04*x05*theta01^3*theta02*theta03^2*theta05 + x00*x01*theta00*theta02^3*theta03^2*theta05 - x00*x04*theta00*theta02^3*theta03^2*theta05 - x01*x05*theta00*theta02^3*theta03^2*theta05 + x04*x05*theta00*theta02^3*theta03^2*theta05 - x00*x01*theta01*theta02^3*theta03^2*theta05 + x01*x04*theta01*theta02^3*theta03^2*theta05 + x00*x05*theta01*theta02^3*theta03^2*theta05 - x04*x05*theta01*theta02^3*theta03^2*theta05 - x01*x02*theta00^2*theta01*theta03^3*theta05 + x01*x04*theta00^2*theta01*theta03^3*theta05 + x02*x05*theta00^2*theta01*theta03^3*theta05 - x04*x05*theta00^2*theta01*theta03^3*theta05 + x00*x02*theta00*theta01^2*theta03^3*theta05 - x00*x04*theta00*theta01^2*theta03^3*theta05 - x02*x05*theta00*theta01^2*theta03^3*theta05 + x04*x05*theta00*theta01^2*theta03^3*theta05 + x01*x02*theta00^2*theta02*theta03^3*theta05 - x02*x04*theta00^2*theta02*theta03^3*theta05 - x01*x05*theta00^2*theta02*theta03^3*theta05 + x04*x05*theta00^2*theta02*theta03^3*theta05 - x00*x02*theta01^2*theta02*theta03^3*theta05 + x02*x04*theta01^2*theta02*theta03^3*theta05 + x00*x05*theta01^2*theta02*theta03^3*theta05 - x04*x05*theta01^2*theta02*theta03^3*theta05 - x00*x01*theta00*theta02^2*theta03^3*theta05 + x00*x04*theta00*theta02^2*theta03^3*theta05 + x01*x05*theta00*theta02^2*theta03^3*theta05 - x04*x05*theta00*theta02^2*theta03^3*theta05 + x00*x01*theta01*theta02^2*theta03^3*theta05 - x01*x04*theta01*theta02^2*theta03^3*theta05 - x00*x05*theta01*theta02^2*theta03^3*theta05 + x04*x05*theta01*theta02^2*theta03^3*theta05 + x02*x04*theta00^3*theta01^2*theta04*theta05 - x03*x04*theta00^3*theta01^2*theta04*theta05 - x02*x05*theta00^3*theta01^2*theta04*theta05 + x03*x05*theta00^3*theta01^2*theta04*theta05 - x02*x04*theta00^2*theta01^3*theta04*theta05 + x03*x04*theta00^2*theta01^3*theta04*theta05 + x02*x05*theta00^2*theta01^3*theta04*theta05 - x03*x05*theta00^2*theta01^3*theta04*theta05 - x01*x04*theta00^3*theta02^2*theta04*theta05 + x03*x04*theta00^3*theta02^2*theta04*theta05 + x01*x05*theta00^3*theta02^2*theta04*theta05 - x03*x05*theta00^3*theta02^2*theta04*theta05 + x00*x04*theta01^3*theta02^2*theta04*theta05 - x03*x04*theta01^3*theta02^2*theta04*theta05 - x00*x05*theta01^3*theta02^2*theta04*theta05 + x03*x05*theta01^3*theta02^2*theta04*theta05 + x01*x04*theta00^2*theta02^3*theta04*theta05 - x03*x04*theta00^2*theta02^3*theta04*theta05 - x01*x05*theta00^2*theta02^3*theta04*theta05 + x03*x05*theta00^2*theta02^3*theta04*theta05 - x00*x04*theta01^2*theta02^3*theta04*theta05 + x03*x04*theta01^2*theta02^3*theta04*theta05 + x00*x05*theta01^2*theta02^3*theta04*theta05 - x03*x05*theta01^2*theta02^3*theta04*theta05 + x01*x04*theta00^3*theta03^2*theta04*theta05 - x02*x04*theta00^3*theta03^2*theta04*theta05 - x01*x05*theta00^3*theta03^2*theta04*theta05 + x02*x05*theta00^3*theta03^2*theta04*theta05 - x00*x04*theta01^3*theta03^2*theta04*theta05 + x02*x04*theta01^3*theta03^2*theta04*theta05 + x00*x05*theta01^3*theta03^2*theta04*theta05 - x02*x05*theta01^3*theta03^2*theta04*theta05 + x00*x04*theta02^3*theta03^2*theta04*theta05 - x01*x04*theta02^3*theta03^2*theta04*theta05 - x00*x05*theta02^3*theta03^2*theta04*theta05 + x01*x05*theta02^3*theta03^2*theta04*theta05 - x01*x04*theta00^2*theta03^3*theta04*theta05 + x02*x04*theta00^2*theta03^3*theta04*theta05 + x01*x05*theta00^2*theta03^3*theta04*theta05 - x02*x05*theta00^2*theta03^3*theta04*theta05 + x00*x04*theta01^2*theta03^3*theta04*theta05 - x02*x04*theta01^2*theta03^3*theta04*theta05 - x00*x05*theta01^2*theta03^3*theta04*theta05 + x02*x05*theta01^2*theta03^3*theta04*theta05 - x00*x04*theta02^2*theta03^3*theta04*theta05 + x01*x04*theta02^2*theta03^3*theta04*theta05 + x00*x05*theta02^2*theta03^3*theta04*theta05 - x01*x05*theta02^2*theta03^3*theta04*theta05 - x01*x02*theta00^3*theta01*theta04^2*theta05 + x01*x03*theta00^3*theta01*theta04^2*theta05 + x02*x05*theta00^3*theta01*theta04^2*theta05 - x03*x05*theta00^3*theta01*theta04^2*theta05 + x00*x02*theta00*theta01^3*theta04^2*theta05 - x00*x03*theta00*theta01^3*theta04^2*theta05 - x02*x05*theta00*theta01^3*theta04^2*theta05 + x03*x05*theta00*theta01^3*theta04^2*theta05 + x01*x02*theta00^3*theta02*theta04^2*theta05 - x02*x03*theta00^3*theta02*theta04^2*theta05 - x01*x05*theta00^3*theta02*theta04^2*theta05 + x03*x05*theta00^3*theta02*theta04^2*theta05 - x00*x02*theta01^3*theta02*theta04^2*theta05 + x02*x03*theta01^3*theta02*theta04^2*theta05 + x00*x05*theta01^3*theta02*theta04^2*theta05 - x03*x05*theta01^3*theta02*theta04^2*theta05 - x00*x01*theta00*theta02^3*theta04^2*theta05 + x00*x03*theta00*theta02^3*theta04^2*theta05 + x01*x05*theta00*theta02^3*theta04^2*theta05 - x03*x05*theta00*theta02^3*theta04^2*theta05 + x00*x01*theta01*theta02^3*theta04^2*theta05 - x01*x03*theta01*theta02^3*theta04^2*theta05 - x00*x05*theta01*theta02^3*theta04^2*theta05 + x03*x05*theta01*theta02^3*theta04^2*theta05 - x01*x03*theta00^3*theta03*theta04^2*theta05 + x02*x03*theta00^3*theta03*theta04^2*theta05 + x01*x05*theta00^3*theta03*theta04^2*theta05 - x02*x05*theta00^3*theta03*theta04^2*theta05 + x00*x03*theta01^3*theta03*theta04^2*theta05 - x02*x03*theta01^3*theta03*theta04^2*theta05 - x00*x05*theta01^3*theta03*theta04^2*theta05 + x02*x05*theta01^3*theta03*theta04^2*theta05 - x00*x03*theta02^3*theta03*theta04^2*theta05 + x01*x03*theta02^3*theta03*theta04^2*theta05 + x00*x05*theta02^3*theta03*theta04^2*theta05 - x01*x05*theta02^3*theta03*theta04^2*theta05 + x00*x01*theta00*theta03^3*theta04^2*theta05 - x00*x02*theta00*theta03^3*theta04^2*theta05 - x01*x05*theta00*theta03^3*theta04^2*theta05 + x02*x05*theta00*theta03^3*theta04^2*theta05 - x00*x01*theta01*theta03^3*theta04^2*theta05 + x01*x02*theta01*theta03^3*theta04^2*theta05 + x00*x05*theta01*theta03^3*theta04^2*theta05 - x02*x05*theta01*theta03^3*theta04^2*theta05 + x00*x02*theta02*theta03^3*theta04^2*theta05 - x01*x02*theta02*theta03^3*theta04^2*theta05 - x00*x05*theta02*theta03^3*theta04^2*theta05 + x01*x05*theta02*theta03^3*theta04^2*theta05 + x01*x02*theta00^2*theta01*theta04^3*theta05 - x01*x03*theta00^2*theta01*theta04^3*theta05 - x02*x05*theta00^2*theta01*theta04^3*theta05 + x03*x05*theta00^2*theta01*theta04^3*theta05 - x00*x02*theta00*theta01^2*theta04^3*theta05 + x00*x03*theta00*theta01^2*theta04^3*theta05 + x02*x05*theta00*theta01^2*theta04^3*theta05 - x03*x05*theta00*theta01^2*theta04^3*theta05 - x01*x02*theta00^2*theta02*theta04^3*theta05 + x02*x03*theta00^2*theta02*theta04^3*theta05 + x01*x05*theta00^2*theta02*theta04^3*theta05 - x03*x05*theta00^2*theta02*theta04^3*theta05 + x00*x02*theta01^2*theta02*theta04^3*theta05 - x02*x03*theta01^2*theta02*theta04^3*theta05 - x00*x05*theta01^2*theta02*theta04^3*theta05 + x03*x05*theta01^2*theta02*theta04^3*theta05 + x00*x01*theta00*theta02^2*theta04^3*theta05 - x00*x03*theta00*theta02^2*theta04^3*theta05 - x01*x05*theta00*theta02^2*theta04^3*theta05 + x03*x05*theta00*theta02^2*theta04^3*theta05 - x00*x01*theta01*theta02^2*theta04^3*theta05 + x01*x03*theta01*theta02^2*theta04^3*theta05 + x00*x05*theta01*theta02^2*theta04^3*theta05 - x03*x05*theta01*theta02^2*theta04^3*theta05 + x01*x03*theta00^2*theta03*theta04^3*theta05 - x02*x03*theta00^2*theta03*theta04^3*theta05 - x01*x05*theta00^2*theta03*theta04^3*theta05 + x02*x05*theta00^2*theta03*theta04^3*theta05 - x00*x03*theta01^2*theta03*theta04^3*theta05 + x02*x03*theta01^2*theta03*theta04^3*theta05 + x00*x05*theta01^2*theta03*theta04^3*theta05 - x02*x05*theta01^2*theta03*theta04^3*theta05 + x00*x03*theta02^2*theta03*theta04^3*theta05 - x01*x03*theta02^2*theta03*theta04^3*theta05 - x00*x05*theta02^2*theta03*theta04^3*theta05 + x01*x05*theta02^2*theta03*theta04^3*theta05 - x00*x01*theta00*theta03^2*theta04^3*theta05 + x00*x02*theta00*theta03^2*theta04^3*theta05 + x01*x05*theta00*theta03^2*theta04^3*theta05 - x02*x05*theta00*theta03^2*theta04^3*theta05 + x00*x01*theta01*theta03^2*theta04^3*theta05 - x01*x02*theta01*theta03^2*theta04^3*theta05 - x00*x05*theta01*theta03^2*theta04^3*theta05 + x02*x05*theta01*theta03^2*theta04^3*theta05 - x00*x02*theta02*theta03^2*theta04^3*theta05 + x01*x02*theta02*theta03^2*theta04^3*theta05 + x00*x05*theta02*theta03^2*theta04^3*theta05 - x01*x05*theta02*theta03^2*theta04^3*theta05 + x01*x03*theta00^3*theta01*theta02*theta05^2 - x02*x03*theta00^3*theta01*theta02*theta05^2 - x01*x04*theta00^3*theta01*theta02*theta05^2 + x02*x04*theta00^3*theta01*theta02*theta05^2 - x00*x03*theta00*theta01^3*theta02*theta05^2 + x02*x03*theta00*theta01^3*theta02*theta05^2 + x00*x04*theta00*theta01^3*theta02*theta05^2 - x02*x04*theta00*theta01^3*theta02*theta05^2 + x00*x03*theta00*theta01*theta02^3*theta05^2 - x01*x03*theta00*theta01*theta02^3*theta05^2 - x00*x04*theta00*theta01*theta02^3*theta05^2 + x01*x04*theta00*theta01*theta02^3*theta05^2 - x01*x02*theta00^3*theta01*theta03*theta05^2 + x02*x03*theta00^3*theta01*theta03*theta05^2 + x01*x04*theta00^3*theta01*theta03*theta05^2 - x03*x04*theta00^3*theta01*theta03*theta05^2 + x00*x02*theta00*theta01^3*theta03*theta05^2 - x02*x03*theta00*theta01^3*theta03*theta05^2 - x00*x04*theta00*theta01^3*theta03*theta05^2 + x03*x04*theta00*theta01^3*theta03*theta05^2 + x01*x02*theta00^3*theta02*theta03*theta05^2 - x01*x03*theta00^3*theta02*theta03*theta05^2 - x02*x04*theta00^3*theta02*theta03*theta05^2 + x03*x04*theta00^3*theta02*theta03*theta05^2 - x00*x02*theta01^3*theta02*theta03*theta05^2 + x00*x03*theta01^3*theta02*theta03*theta05^2 + x02*x04*theta01^3*theta02*theta03*theta05^2 - x03*x04*theta01^3*theta02*theta03*theta05^2 - x00*x01*theta00*theta02^3*theta03*theta05^2 + x01*x03*theta00*theta02^3*theta03*theta05^2 + x00*x04*theta00*theta02^3*theta03*theta05^2 - x03*x04*theta00*theta02^3*theta03*theta05^2 + x00*x01*theta01*theta02^3*theta03*theta05^2 - x00*x03*theta01*theta02^3*theta03*theta05^2 - x01*x04*theta01*theta02^3*theta03*theta05^2 + x03*x04*theta01*theta02^3*theta03*theta05^2 - x00*x02*theta00*theta01*theta03^3*theta05^2 + x01*x02*theta00*theta01*theta03^3*theta05^2 + x00*x04*theta00*theta01*theta03^3*theta05^2 - x01*x04*theta00*theta01*theta03^3*theta05^2 + x00*x01*theta00*theta02*theta03^3*theta05^2 - x01*x02*theta00*theta02*theta03^3*theta05^2 - x00*x04*theta00*theta02*theta03^3*theta05^2 + x02*x04*theta00*theta02*theta03^3*theta05^2 - x00*x01*theta01*theta02*theta03^3*theta05^2 + x00*x02*theta01*theta02*theta03^3*theta05^2 + x01*x04*theta01*theta02*theta03^3*theta05^2 - x02*x04*theta01*theta02*theta03^3*theta05^2 + x01*x02*theta00^3*theta01*theta04*theta05^2 - x01*x03*theta00^3*theta01*theta04*theta05^2 - x02*x04*theta00^3*theta01*theta04*theta05^2 + x03*x04*theta00^3*theta01*theta04*theta05^2 - x00*x02*theta00*theta01^3*theta04*theta05^2 + x00*x03*theta00*theta01^3*theta04*theta05^2 + x02*x04*theta00*theta01^3*theta04*theta05^2 - x03*x04*theta00*theta01^3*theta04*theta05^2 - x01*x02*theta00^3*theta02*theta04*theta05^2 + x02*x03*theta00^3*theta02*theta04*theta05^2 + x01*x04*theta00^3*theta02*theta04*theta05^2 - x03*x04*theta00^3*theta02*theta04*theta05^2 + x00*x02*theta01^3*theta02*theta04*theta05^2 - x02*x03*theta01^3*theta02*theta04*theta05^2 - x00*x04*theta01^3*theta02*theta04*theta05^2 + x03*x04*theta01^3*theta02*theta04*theta05^2 + x00*x01*theta00*theta02^3*theta04*theta05^2 - x00*x03*theta00*theta02^3*theta04*theta05^2 - x01*x04*theta00*theta02^3*theta04*theta05^2 + x03*x04*theta00*theta02^3*theta04*theta05^2 - x00*x01*theta01*theta02^3*theta04*theta05^2 + x01*x03*theta01*theta02^3*theta04*theta05^2 + x00*x04*theta01*theta02^3*theta04*theta05^2 - x03*x04*theta01*theta02^3*theta04*theta05^2 + x01*x03*theta00^3*theta03*theta04*theta05^2 - x02*x03*theta00^3*theta03*theta04*theta05^2 - x01*x04*theta00^3*theta03*theta04*theta05^2 + x02*x04*theta00^3*theta03*theta04*theta05^2 - x00*x03*theta01^3*theta03*theta04*theta05^2 + x02*x03*theta01^3*theta03*theta04*theta05^2 + x00*x04*theta01^3*theta03*theta04*theta05^2 - x02*x04*theta01^3*theta03*theta04*theta05^2 + x00*x03*theta02^3*theta03*theta04*theta05^2 - x01*x03*theta02^3*theta03*theta04*theta05^2 - x00*x04*theta02^3*theta03*theta04*theta05^2 + x01*x04*theta02^3*theta03*theta04*theta05^2 - x00*x01*theta00*theta03^3*theta04*theta05^2 + x00*x02*theta00*theta03^3*theta04*theta05^2 + x01*x04*theta00*theta03^3*theta04*theta05^2 - x02*x04*theta00*theta03^3*theta04*theta05^2 + x00*x01*theta01*theta03^3*theta04*theta05^2 - x01*x02*theta01*theta03^3*theta04*theta05^2 - x00*x04*theta01*theta03^3*theta04*theta05^2 + x02*x04*theta01*theta03^3*theta04*theta05^2 - x00*x02*theta02*theta03^3*theta04*theta05^2 + x01*x02*theta02*theta03^3*theta04*theta05^2 + x00*x04*theta02*theta03^3*theta04*theta05^2 - x01*x04*theta02*theta03^3*theta04*theta05^2 + x00*x02*theta00*theta01*theta04^3*theta05^2 - x01*x02*theta00*theta01*theta04^3*theta05^2 - x00*x03*theta00*theta01*theta04^3*theta05^2 + x01*x03*theta00*theta01*theta04^3*theta05^2 - x00*x01*theta00*theta02*theta04^3*theta05^2 + x01*x02*theta00*theta02*theta04^3*theta05^2 + x00*x03*theta00*theta02*theta04^3*theta05^2 - x02*x03*theta00*theta02*theta04^3*theta05^2 + x00*x01*theta01*theta02*theta04^3*theta05^2 - x00*x02*theta01*theta02*theta04^3*theta05^2 - x01*x03*theta01*theta02*theta04^3*theta05^2 + x02*x03*theta01*theta02*theta04^3*theta05^2 + x00*x01*theta00*theta03*theta04^3*theta05^2 - x00*x02*theta00*theta03*theta04^3*theta05^2 - x01*x03*theta00*theta03*theta04^3*theta05^2 + x02*x03*theta00*theta03*theta04^3*theta05^2 - x00*x01*theta01*theta03*theta04^3*theta05^2 + x01*x02*theta01*theta03*theta04^3*theta05^2 + x00*x03*theta01*theta03*theta04^3*theta05^2 - x02*x03*theta01*theta03*theta04^3*theta05^2 + x00*x02*theta02*theta03*theta04^3*theta05^2 - x01*x02*theta02*theta03*theta04^3*theta05^2 - x00*x03*theta02*theta03*theta04^3*theta05^2 + x01*x03*theta02*theta03*theta04^3*theta05^2 - x01*x03*theta00^2*theta01*theta02*theta05^3 + x02*x03*theta00^2*theta01*theta02*theta05^3 + x01*x04*theta00^2*theta01*theta02*theta05^3 - x02*x04*theta00^2*theta01*theta02*theta05^3 + x00*x03*theta00*theta01^2*theta02*theta05^3 - x02*x03*theta00*theta01^2*theta02*theta05^3 - x00*x04*theta00*theta01^2*theta02*theta05^3 + x02*x04*theta00*theta01^2*theta02*theta05^3 - x00*x03*theta00*theta01*theta02^2*theta05^3 + x01*x03*theta00*theta01*theta02^2*theta05^3 + x00*x04*theta00*theta01*theta02^2*theta05^3 - x01*x04*theta00*theta01*theta02^2*theta05^3 + x01*x02*theta00^2*theta01*theta03*theta05^3 - x02*x03*theta00^2*theta01*theta03*theta05^3 - x01*x04*theta00^2*theta01*theta03*theta05^3 + x03*x04*theta00^2*theta01*theta03*theta05^3 - x00*x02*theta00*theta01^2*theta03*theta05^3 + x02*x03*theta00*theta01^2*theta03*theta05^3 + x00*x04*theta00*theta01^2*theta03*theta05^3 - x03*x04*theta00*theta01^2*theta03*theta05^3 - x01*x02*theta00^2*theta02*theta03*theta05^3 + x01*x03*theta00^2*theta02*theta03*theta05^3 + x02*x04*theta00^2*theta02*theta03*theta05^3 - x03*x04*theta00^2*theta02*theta03*theta05^3 + x00*x02*theta01^2*theta02*theta03*theta05^3 - x00*x03*theta01^2*theta02*theta03*theta05^3 - x02*x04*theta01^2*theta02*theta03*theta05^3 + x03*x04*theta01^2*theta02*theta03*theta05^3 + x00*x01*theta00*theta02^2*theta03*theta05^3 - x01*x03*theta00*theta02^2*theta03*theta05^3 - x00*x04*theta00*theta02^2*theta03*theta05^3 + x03*x04*theta00*theta02^2*theta03*theta05^3 - x00*x01*theta01*theta02^2*theta03*theta05^3 + x00*x03*theta01*theta02^2*theta03*theta05^3 + x01*x04*theta01*theta02^2*theta03*theta05^3 - x03*x04*theta01*theta02^2*theta03*theta05^3 + x00*x02*theta00*theta01*theta03^2*theta05^3 - x01*x02*theta00*theta01*theta03^2*theta05^3 - x00*x04*theta00*theta01*theta03^2*theta05^3 + x01*x04*theta00*theta01*theta03^2*theta05^3 - x00*x01*theta00*theta02*theta03^2*theta05^3 + x01*x02*theta00*theta02*theta03^2*theta05^3 + x00*x04*theta00*theta02*theta03^2*theta05^3 - x02*x04*theta00*theta02*theta03^2*theta05^3 + x00*x01*theta01*theta02*theta03^2*theta05^3 - x00*x02*theta01*theta02*theta03^2*theta05^3 - x01*x04*theta01*theta02*theta03^2*theta05^3 + x02*x04*theta01*theta02*theta03^2*theta05^3 - x01*x02*theta00^2*theta01*theta04*theta05^3 + x01*x03*theta00^2*theta01*theta04*theta05^3 + x02*x04*theta00^2*theta01*theta04*theta05^3 - x03*x04*theta00^2*theta01*theta04*theta05^3 + x00*x02*theta00*theta01^2*theta04*theta05^3 - x00*x03*theta00*theta01^2*theta04*theta05^3 - x02*x04*theta00*theta01^2*theta04*theta05^3 + x03*x04*theta00*theta01^2*theta04*theta05^3 + x01*x02*theta00^2*theta02*theta04*theta05^3 - x02*x03*theta00^2*theta02*theta04*theta05^3 - x01*x04*theta00^2*theta02*theta04*theta05^3 + x03*x04*theta00^2*theta02*theta04*theta05^3 - x00*x02*theta01^2*theta02*theta04*theta05^3 + x02*x03*theta01^2*theta02*theta04*theta05^3 + x00*x04*theta01^2*theta02*theta04*theta05^3 - x03*x04*theta01^2*theta02*theta04*theta05^3 - x00*x01*theta00*theta02^2*theta04*theta05^3 + x00*x03*theta00*theta02^2*theta04*theta05^3 + x01*x04*theta00*theta02^2*theta04*theta05^3 - x03*x04*theta00*theta02^2*theta04*theta05^3 + x00*x01*theta01*theta02^2*theta04*theta05^3 - x01*x03*theta01*theta02^2*theta04*theta05^3 - x00*x04*theta01*theta02^2*theta04*theta05^3 + x03*x04*theta01*theta02^2*theta04*theta05^3 - x01*x03*theta00^2*theta03*theta04*theta05^3 + x02*x03*theta00^2*theta03*theta04*theta05^3 + x01*x04*theta00^2*theta03*theta04*theta05^3 - x02*x04*theta00^2*theta03*theta04*theta05^3 + x00*x03*theta01^2*theta03*theta04*theta05^3 - x02*x03*theta01^2*theta03*theta04*theta05^3 - x00*x04*theta01^2*theta03*theta04*theta05^3 + x02*x04*theta01^2*theta03*theta04*theta05^3 - x00*x03*theta02^2*theta03*theta04*theta05^3 + x01*x03*theta02^2*theta03*theta04*theta05^3 + x00*x04*theta02^2*theta03*theta04*theta05^3 - x01*x04*theta02^2*theta03*theta04*theta05^3 + x00*x01*theta00*theta03^2*theta04*theta05^3 - x00*x02*theta00*theta03^2*theta04*theta05^3 - x01*x04*theta00*theta03^2*theta04*theta05^3 + x02*x04*theta00*theta03^2*theta04*theta05^3 - x00*x01*theta01*theta03^2*theta04*theta05^3 + x01*x02*theta01*theta03^2*theta04*theta05^3 + x00*x04*theta01*theta03^2*theta04*theta05^3 - x02*x04*theta01*theta03^2*theta04*theta05^3 + x00*x02*theta02*theta03^2*theta04*theta05^3 - x01*x02*theta02*theta03^2*theta04*theta05^3 - x00*x04*theta02*theta03^2*theta04*theta05^3 + x01*x04*theta02*theta03^2*theta04*theta05^3 - x00*x02*theta00*theta01*theta04^2*theta05^3 + x01*x02*theta00*theta01*theta04^2*theta05^3 + x00*x03*theta00*theta01*theta04^2*theta05^3 - x01*x03*theta00*theta01*theta04^2*theta05^3 + x00*x01*theta00*theta02*theta04^2*theta05^3 - x01*x02*theta00*theta02*theta04^2*theta05^3 - x00*x03*theta00*theta02*theta04^2*theta05^3 + x02*x03*theta00*theta02*theta04^2*theta05^3 - x00*x01*theta01*theta02*theta04^2*theta05^3 + x00*x02*theta01*theta02*theta04^2*theta05^3 + x01*x03*theta01*theta02*theta04^2*theta05^3 - x02*x03*theta01*theta02*theta04^2*theta05^3 - x00*x01*theta00*theta03*theta04^2*theta05^3 + x00*x02*theta00*theta03*theta04^2*theta05^3 + x01*x03*theta00*theta03*theta04^2*theta05^3 - x02*x03*theta00*theta03*theta04^2*theta05^3 + x00*x01*theta01*theta03*theta04^2*theta05^3 - x01*x02*theta01*theta03*theta04^2*theta05^3 - x00*x03*theta01*theta03*theta04^2*theta05^3 + x02*x03*theta01*theta03*theta04^2*theta05^3 - x00*x02*theta02*theta03*theta04^2*theta05^3 + x01*x02*theta02*theta03*theta04^2*theta05^3 + x00*x03*theta02*theta03*theta04^2*theta05^3 - x01*x03*theta02*theta03*theta04^2*theta05^3,)}"
      ]
     },
     "metadata": {},
     "output_type": "display_data"
    },
    {
     "data": {
      "text/html": [
       "<html><script type=\"math/tex; mode=display\">\\newcommand{\\Bold}[1]{\\mathbf{#1}}\\left\\{\\left(\\left(0\\right), \\left(2, 2, 1, 1\\right)\\right) : \\left(-\\theta_{00}^{3} \\theta_{01} \\theta_{02}^{2} \\theta_{04} + \\theta_{00}^{2} \\theta_{01} \\theta_{02}^{3} \\theta_{04} + \\theta_{00}^{3} \\theta_{02}^{2} \\theta_{03} \\theta_{04} - \\theta_{00}^{2} \\theta_{02}^{3} \\theta_{03} \\theta_{04} + \\theta_{00}^{3} \\theta_{01} \\theta_{02} \\theta_{04}^{2} - \\theta_{00} \\theta_{01} \\theta_{02}^{3} \\theta_{04}^{2} - \\theta_{00}^{3} \\theta_{02} \\theta_{03} \\theta_{04}^{2} + \\theta_{00} \\theta_{02}^{3} \\theta_{03} \\theta_{04}^{2} - \\theta_{00}^{2} \\theta_{01} \\theta_{02} \\theta_{04}^{3} + \\theta_{00} \\theta_{01} \\theta_{02}^{2} \\theta_{04}^{3} + \\theta_{00}^{2} \\theta_{02} \\theta_{03} \\theta_{04}^{3} - \\theta_{00} \\theta_{02}^{2} \\theta_{03} \\theta_{04}^{3} + \\theta_{00}^{3} \\theta_{01} \\theta_{02}^{2} \\theta_{05} - \\theta_{00}^{2} \\theta_{01} \\theta_{02}^{3} \\theta_{05} - \\theta_{00}^{3} \\theta_{02}^{2} \\theta_{03} \\theta_{05} + \\theta_{00}^{2} \\theta_{02}^{3} \\theta_{03} \\theta_{05} - \\theta_{00}^{3} \\theta_{01} \\theta_{04}^{2} \\theta_{05} + \\theta_{01} \\theta_{02}^{3} \\theta_{04}^{2} \\theta_{05} + \\theta_{00}^{3} \\theta_{03} \\theta_{04}^{2} \\theta_{05} - \\theta_{02}^{3} \\theta_{03} \\theta_{04}^{2} \\theta_{05} + \\theta_{00}^{2} \\theta_{01} \\theta_{04}^{3} \\theta_{05} - \\theta_{01} \\theta_{02}^{2} \\theta_{04}^{3} \\theta_{05} - \\theta_{00}^{2} \\theta_{03} \\theta_{04}^{3} \\theta_{05} + \\theta_{02}^{2} \\theta_{03} \\theta_{04}^{3} \\theta_{05} - \\theta_{00}^{3} \\theta_{01} \\theta_{02} \\theta_{05}^{2} + \\theta_{00} \\theta_{01} \\theta_{02}^{3} \\theta_{05}^{2} + \\theta_{00}^{3} \\theta_{02} \\theta_{03} \\theta_{05}^{2} - \\theta_{00} \\theta_{02}^{3} \\theta_{03} \\theta_{05}^{2} + \\theta_{00}^{3} \\theta_{01} \\theta_{04} \\theta_{05}^{2} - \\theta_{01} \\theta_{02}^{3} \\theta_{04} \\theta_{05}^{2} - \\theta_{00}^{3} \\theta_{03} \\theta_{04} \\theta_{05}^{2} + \\theta_{02}^{3} \\theta_{03} \\theta_{04} \\theta_{05}^{2} - \\theta_{00} \\theta_{01} \\theta_{04}^{3} \\theta_{05}^{2} + \\theta_{01} \\theta_{02} \\theta_{04}^{3} \\theta_{05}^{2} + \\theta_{00} \\theta_{03} \\theta_{04}^{3} \\theta_{05}^{2} - \\theta_{02} \\theta_{03} \\theta_{04}^{3} \\theta_{05}^{2} + \\theta_{00}^{2} \\theta_{01} \\theta_{02} \\theta_{05}^{3} - \\theta_{00} \\theta_{01} \\theta_{02}^{2} \\theta_{05}^{3} - \\theta_{00}^{2} \\theta_{02} \\theta_{03} \\theta_{05}^{3} + \\theta_{00} \\theta_{02}^{2} \\theta_{03} \\theta_{05}^{3} - \\theta_{00}^{2} \\theta_{01} \\theta_{04} \\theta_{05}^{3} + \\theta_{01} \\theta_{02}^{2} \\theta_{04} \\theta_{05}^{3} + \\theta_{00}^{2} \\theta_{03} \\theta_{04} \\theta_{05}^{3} - \\theta_{02}^{2} \\theta_{03} \\theta_{04} \\theta_{05}^{3} + \\theta_{00} \\theta_{01} \\theta_{04}^{2} \\theta_{05}^{3} - \\theta_{01} \\theta_{02} \\theta_{04}^{2} \\theta_{05}^{3} - \\theta_{00} \\theta_{03} \\theta_{04}^{2} \\theta_{05}^{3} + \\theta_{02} \\theta_{03} \\theta_{04}^{2} \\theta_{05}^{3}\\right)\\right\\}</script></html>"
      ],
      "text/plain": [
       "{((0,),\n",
       "  (2,\n",
       "   2,\n",
       "   1,\n",
       "   1)): (-theta00^3*theta01*theta02^2*theta04 + theta00^2*theta01*theta02^3*theta04 + theta00^3*theta02^2*theta03*theta04 - theta00^2*theta02^3*theta03*theta04 + theta00^3*theta01*theta02*theta04^2 - theta00*theta01*theta02^3*theta04^2 - theta00^3*theta02*theta03*theta04^2 + theta00*theta02^3*theta03*theta04^2 - theta00^2*theta01*theta02*theta04^3 + theta00*theta01*theta02^2*theta04^3 + theta00^2*theta02*theta03*theta04^3 - theta00*theta02^2*theta03*theta04^3 + theta00^3*theta01*theta02^2*theta05 - theta00^2*theta01*theta02^3*theta05 - theta00^3*theta02^2*theta03*theta05 + theta00^2*theta02^3*theta03*theta05 - theta00^3*theta01*theta04^2*theta05 + theta01*theta02^3*theta04^2*theta05 + theta00^3*theta03*theta04^2*theta05 - theta02^3*theta03*theta04^2*theta05 + theta00^2*theta01*theta04^3*theta05 - theta01*theta02^2*theta04^3*theta05 - theta00^2*theta03*theta04^3*theta05 + theta02^2*theta03*theta04^3*theta05 - theta00^3*theta01*theta02*theta05^2 + theta00*theta01*theta02^3*theta05^2 + theta00^3*theta02*theta03*theta05^2 - theta00*theta02^3*theta03*theta05^2 + theta00^3*theta01*theta04*theta05^2 - theta01*theta02^3*theta04*theta05^2 - theta00^3*theta03*theta04*theta05^2 + theta02^3*theta03*theta04*theta05^2 - theta00*theta01*theta04^3*theta05^2 + theta01*theta02*theta04^3*theta05^2 + theta00*theta03*theta04^3*theta05^2 - theta02*theta03*theta04^3*theta05^2 + theta00^2*theta01*theta02*theta05^3 - theta00*theta01*theta02^2*theta05^3 - theta00^2*theta02*theta03*theta05^3 + theta00*theta02^2*theta03*theta05^3 - theta00^2*theta01*theta04*theta05^3 + theta01*theta02^2*theta04*theta05^3 + theta00^2*theta03*theta04*theta05^3 - theta02^2*theta03*theta04*theta05^3 + theta00*theta01*theta04^2*theta05^3 - theta01*theta02*theta04^2*theta05^3 - theta00*theta03*theta04^2*theta05^3 + theta02*theta03*theta04^2*theta05^3,)}"
      ]
     },
     "metadata": {},
     "output_type": "display_data"
    },
    {
     "data": {
      "text/html": [
       "<html><script type=\"math/tex; mode=display\">\\newcommand{\\Bold}[1]{\\mathbf{#1}}s_{} \\otimes s_{2,2,1,1} + s_{1} \\otimes s_{2,1,1,1,1} + s_{2} \\otimes s_{1,1,1,1,1,1}</script></html>"
      ],
      "text/plain": [
       "s[] # s[2, 2, 1, 1] + s[1] # s[2, 1, 1, 1, 1] + s[2] # s[1, 1, 1, 1, 1, 1]"
      ]
     },
     "execution_count": 61,
     "metadata": {},
     "output_type": "execute_result"
    }
   ],
   "source": [
    "f(Partition([2,2,1,1]))"
   ]
  },
  {
   "cell_type": "markdown",
   "metadata": {},
   "source": [
    "### Latex factorize output for characters"
   ]
  },
  {
   "cell_type": "code",
   "execution_count": 87,
   "metadata": {},
   "outputs": [],
   "source": [
    "def latex_output_character(f):\n",
    "    n = c.support().pop()[1].size()\n",
    "    tensor = sorted(factorise(f, n), reverse=True)\n",
    "    output = ''\n",
    "    for a,b in tensor:\n",
    "        if b != 0 :\n",
    "            if b == s([]) or b == 1:\n",
    "                b = 1\n",
    "                output += str(b)\n",
    "            elif len(b) > 1:\n",
    "                output += \"(%s)\"%latex(b)\n",
    "            else:\n",
    "                output += latex(b)\n",
    "            output += \" \\otimes %s +\"%latex(s(a))\n",
    "    output = output[:len(output)-1]\n",
    "    return output"
   ]
  },
  {
   "cell_type": "code",
   "execution_count": 98,
   "metadata": {},
   "outputs": [
    {
     "name": "stdout",
     "output_type": "stream",
     "text": [
      "1 \\otimes s_{3} +(s_{1} + s_{2}) \\otimes s_{2,1} +(s_{1,1} + s_{3}) \\otimes s_{1,1,1} \n",
      "1 \\otimes s_{2,1} + s_{1} \\otimes s_{1,1,1} \n",
      "1 \\otimes s_{1,1,1} \n"
     ]
    }
   ],
   "source": [
    "for mu in Partitions(3):\n",
    "    print(latex_output_character(compute_character(mu)))"
   ]
  },
  {
   "cell_type": "markdown",
   "metadata": {},
   "source": [
    "### Implémentation formule de François\n",
    "\n",
    "Ne fonctionne que pour un jeu de variables."
   ]
  },
  {
   "cell_type": "code",
   "execution_count": 271,
   "metadata": {},
   "outputs": [
    {
     "data": {
      "text/html": [
       "<html><script type=\"math/tex; mode=display\">\\newcommand{\\Bold}[1]{\\mathbf{#1}}\\verb|Symmetric|\\phantom{\\verb!x!}\\verb|Functions|\\phantom{\\verb!x!}\\verb|over|\\phantom{\\verb!x!}\\verb|Fraction|\\phantom{\\verb!x!}\\verb|Field|\\phantom{\\verb!x!}\\verb|of|\\phantom{\\verb!x!}\\verb|Multivariate|\\phantom{\\verb!x!}\\verb|Polynomial|\\phantom{\\verb!x!}\\verb|Ring|\\phantom{\\verb!x!}\\verb|in|\\phantom{\\verb!x!}\\verb|q,|\\phantom{\\verb!x!}\\verb|t|\\phantom{\\verb!x!}\\verb|over|\\phantom{\\verb!x!}\\verb|Rational|\\phantom{\\verb!x!}\\verb|Field|\\phantom{\\verb!x!}\\verb|in|\\phantom{\\verb!x!}\\verb|the|\\phantom{\\verb!x!}\\verb|Macdonald|\\phantom{\\verb!x!}\\verb|Ht|\\phantom{\\verb!x!}\\verb|basis|</script></html>"
      ],
      "text/plain": [
       "Symmetric Functions over Fraction Field of Multivariate Polynomial Ring in q, t over Rational Field in the Macdonald Ht basis"
      ]
     },
     "execution_count": 271,
     "metadata": {},
     "output_type": "execute_result"
    }
   ],
   "source": [
    "Sym = SymmetricFunctions(FractionField(QQ['q','t']))\n",
    "Sym.inject_shorthands(verbose=False)\n",
    "Ht = Sym.macdonald().Ht(); Ht"
   ]
  },
  {
   "cell_type": "code",
   "execution_count": 272,
   "metadata": {},
   "outputs": [
    {
     "data": {
      "text/html": [
       "<html><script type=\"math/tex; mode=display\">\\newcommand{\\Bold}[1]{\\mathbf{#1}}t^{3}s_{1,1,1} + \\left(t^{2} + t\\right)s_{2,1} + s_{3}</script></html>"
      ],
      "text/plain": [
       "t^3*s[1, 1, 1] + (t^2+t)*s[2, 1] + s[3]"
      ]
     },
     "execution_count": 272,
     "metadata": {},
     "output_type": "execute_result"
    }
   ],
   "source": [
    "s(Ht([1,1,1]))"
   ]
  },
  {
   "cell_type": "code",
   "execution_count": 273,
   "metadata": {},
   "outputs": [
    {
     "data": {
      "text/html": [
       "<html><script type=\"math/tex; mode=display\">\\newcommand{\\Bold}[1]{\\mathbf{#1}}q ts_{1,1,1} + \\left(q + t\\right)s_{2,1} + s_{3}</script></html>"
      ],
      "text/plain": [
       "q*t*s[1, 1, 1] + (q+t)*s[2, 1] + s[3]"
      ]
     },
     "execution_count": 273,
     "metadata": {},
     "output_type": "execute_result"
    }
   ],
   "source": [
    "s(Ht([2,1]))"
   ]
  },
  {
   "cell_type": "code",
   "execution_count": 274,
   "metadata": {},
   "outputs": [
    {
     "data": {
      "text/html": [
       "<html><script type=\"math/tex; mode=display\">\\newcommand{\\Bold}[1]{\\mathbf{#1}}q^{3}s_{1,1,1} + \\left(q^{2} + q\\right)s_{2,1} + s_{3}</script></html>"
      ],
      "text/plain": [
       "q^3*s[1, 1, 1] + (q^2+q)*s[2, 1] + s[3]"
      ]
     },
     "execution_count": 274,
     "metadata": {},
     "output_type": "execute_result"
    }
   ],
   "source": [
    "s(Ht([3]))"
   ]
  }
 ],
 "metadata": {
  "kernelspec": {
   "display_name": "SageMath 8.7",
   "language": "",
   "name": "sagemath"
  },
  "language_info": {
   "codemirror_mode": {
    "name": "ipython",
    "version": 2
   },
   "file_extension": ".py",
   "mimetype": "text/x-python",
   "name": "python",
   "nbconvert_exporter": "python",
   "pygments_lexer": "ipython2",
   "version": "2.7.15"
  }
 },
 "nbformat": 4,
 "nbformat_minor": 2
}
