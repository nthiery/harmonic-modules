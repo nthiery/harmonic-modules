{
 "cells": [
  {
   "cell_type": "markdown",
   "metadata": {},
   "source": [
    "# Tests sur le quotient (mars à mai 2019)"
   ]
  },
  {
   "cell_type": "code",
   "execution_count": 1,
   "metadata": {},
   "outputs": [],
   "source": [
    "%display latex\n",
    "%runfile character.py"
   ]
  },
  {
   "cell_type": "markdown",
   "metadata": {},
   "source": [
    "### Cas du diagramme 013"
   ]
  },
  {
   "cell_type": "code",
   "execution_count": 2,
   "metadata": {},
   "outputs": [
    {
     "data": {
      "text/html": [
       "<html><script type=\"math/tex; mode=display\">\\newcommand{\\Bold}[1]{\\mathbf{#1}}-x_{00}^{3} x_{01} + x_{00} x_{01}^{3} + x_{00}^{3} x_{02} - x_{01}^{3} x_{02} - x_{00} x_{02}^{3} + x_{01} x_{02}^{3}</script></html>"
      ],
      "text/plain": [
       "-x00^3*x01 + x00*x01^3 + x00^3*x02 - x01^3*x02 - x00*x02^3 + x01*x02^3"
      ]
     },
     "execution_count": 2,
     "metadata": {},
     "output_type": "execute_result"
    }
   ],
   "source": [
    "v = vandermonde(Diagram([(0,0),(1,0),(3,0)]))\n",
    "v"
   ]
  },
  {
   "cell_type": "code",
   "execution_count": 3,
   "metadata": {},
   "outputs": [
    {
     "data": {
      "text/html": [
       "<html><script type=\"math/tex; mode=display\">\\newcommand{\\Bold}[1]{\\mathbf{#1}}(x_{01} - x_{02}) \\cdot (-x_{00} + x_{01}) \\cdot (x_{00} - x_{02}) \\cdot (x_{00} + x_{01} + x_{02})</script></html>"
      ],
      "text/plain": [
       "(x01 - x02) * (-x00 + x01) * (x00 - x02) * (x00 + x01 + x02)"
      ]
     },
     "execution_count": 3,
     "metadata": {},
     "output_type": "execute_result"
    }
   ],
   "source": [
    "v.factor()"
   ]
  },
  {
   "cell_type": "markdown",
   "metadata": {},
   "source": [
    "On crée le sous-espace engendré par $V_\\gamma$ et ses dérivées partielles. On peut ajouter les opérateurs de Steenrod sans changement du résultat."
   ]
  },
  {
   "cell_type": "code",
   "execution_count": 4,
   "metadata": {},
   "outputs": [
    {
     "data": {
      "text/html": [
       "<html><script type=\"math/tex; mode=display\">\\newcommand{\\Bold}[1]{\\mathbf{#1}}\\left\\{\\left(2\\right) : \\left(x_{00}^{2} - x_{02}^{2}, x_{01}^{2} - x_{02}^{2}, -x_{00} x_{01} + x_{00} x_{02}, -x_{00} x_{01} + x_{01} x_{02}\\right), \\left(0\\right) : \\left(1\\right), \\left(3\\right) : \\left(\\frac{1}{3} x_{00}^{3} - \\frac{1}{3} x_{01}^{3} - x_{00} x_{02}^{2} + x_{01} x_{02}^{2}, -\\frac{1}{3} x_{00}^{3} + x_{00} x_{01}^{2} - x_{01}^{2} x_{02} + \\frac{1}{3} x_{02}^{3}, -x_{00}^{2} x_{01} + \\frac{1}{3} x_{01}^{3} + x_{00}^{2} x_{02} - \\frac{1}{3} x_{02}^{3}\\right), \\left(1\\right) : \\left(x_{00}, x_{01}, x_{02}\\right), \\left(4\\right) : \\left(-x_{00}^{3} x_{01} + x_{00} x_{01}^{3} + x_{00}^{3} x_{02} - x_{01}^{3} x_{02} - x_{00} x_{02}^{3} + x_{01} x_{02}^{3}\\right)\\right\\}</script></html>"
      ],
      "text/plain": [
       "{(0,): (1,),\n",
       " (1,): (x00, x01, x02),\n",
       " (2,): (x00^2 - x02^2, x01^2 - x02^2, -x00*x01 + x00*x02, -x00*x01 + x01*x02),\n",
       " (3,): (1/3*x00^3 - 1/3*x01^3 - x00*x02^2 + x01*x02^2,\n",
       "  -1/3*x00^3 + x00*x01^2 - x01^2*x02 + 1/3*x02^3,\n",
       "  -x00^2*x01 + 1/3*x01^3 + x00^2*x02 - 1/3*x02^3),\n",
       " (4,): (-x00^3*x01 + x00*x01^3 + x00^3*x02 - x01^3*x02 - x00*x02^3 + x01*x02^3,)}"
      ]
     },
     "execution_count": 4,
     "metadata": {},
     "output_type": "execute_result"
    }
   ],
   "source": [
    "r=1\n",
    "generator = {v.multidegree() : [v]}\n",
    "list_op = merge(merge(partial_derivatives(v.parent()), steenrod_operators(r, 1)), steenrod_operators(r, 2))\n",
    "W1 = Subspace(generators=generator, operators=list_op, add_degrees=add_degree)\n",
    "W1.basis()"
   ]
  },
  {
   "cell_type": "code",
   "execution_count": 5,
   "metadata": {},
   "outputs": [
    {
     "data": {
      "text/html": [
       "<html><script type=\"math/tex; mode=display\">\\newcommand{\\Bold}[1]{\\mathbf{#1}}s_{} \\otimes s_{3} + s_{1} \\otimes s_{2,1} + s_{1} \\otimes s_{3} + 2s_{2} \\otimes s_{2,1} + s_{3} \\otimes s_{1,1,1} + s_{3} \\otimes s_{2,1} + s_{4} \\otimes s_{1,1,1}</script></html>"
      ],
      "text/plain": [
       "s[] # s[3] + s[1] # s[2, 1] + s[1] # s[3] + 2*s[2] # s[2, 1] + s[3] # s[1, 1, 1] + s[3] # s[2, 1] + s[4] # s[1, 1, 1]"
      ]
     },
     "execution_count": 5,
     "metadata": {},
     "output_type": "execute_result"
    }
   ],
   "source": [
    "character(IsotypicComponent(W1, 3))"
   ]
  },
  {
   "cell_type": "markdown",
   "metadata": {},
   "source": [
    "Appliquons $\\sum_i \\partial_{x_i}$ et $\\sum_i x_i \\partial_{x_i}^2$ à $V_{\\gamma}$. "
   ]
  },
  {
   "cell_type": "code",
   "execution_count": 6,
   "metadata": {
    "scrolled": true
   },
   "outputs": [
    {
     "data": {
      "text/html": [
       "<html><script type=\"math/tex; mode=display\">\\newcommand{\\Bold}[1]{\\mathbf{#1}}-3 x_{00}^{2} x_{01} + 3 x_{00} x_{01}^{2} + 3 x_{00}^{2} x_{02} - 3 x_{01}^{2} x_{02} - 3 x_{00} x_{02}^{2} + 3 x_{01} x_{02}^{2}</script></html>"
      ],
      "text/plain": [
       "-3*x00^2*x01 + 3*x00*x01^2 + 3*x00^2*x02 - 3*x01^2*x02 - 3*x00*x02^2 + 3*x01*x02^2"
      ]
     },
     "execution_count": 6,
     "metadata": {},
     "output_type": "execute_result"
    }
   ],
   "source": [
    "sum([v.derivative(x) for x in v.parent().multivar_pol_ring_variables()[0]])"
   ]
  },
  {
   "cell_type": "code",
   "execution_count": 7,
   "metadata": {},
   "outputs": [
    {
     "data": {
      "text/html": [
       "<html><script type=\"math/tex; mode=display\">\\newcommand{\\Bold}[1]{\\mathbf{#1}}-6 x_{00}^{2} x_{01} + 6 x_{00} x_{01}^{2} + 6 x_{00}^{2} x_{02} - 6 x_{01}^{2} x_{02} - 6 x_{00} x_{02}^{2} + 6 x_{01} x_{02}^{2}</script></html>"
      ],
      "text/plain": [
       "-6*x00^2*x01 + 6*x00*x01^2 + 6*x00^2*x02 - 6*x01^2*x02 - 6*x00*x02^2 + 6*x01*x02^2"
      ]
     },
     "execution_count": 7,
     "metadata": {},
     "output_type": "execute_result"
    }
   ],
   "source": [
    "v.steenrod_op(0, 2)"
   ]
  },
  {
   "cell_type": "markdown",
   "metadata": {},
   "source": [
    "Polarisation"
   ]
  },
  {
   "cell_type": "code",
   "execution_count": 8,
   "metadata": {},
   "outputs": [
    {
     "data": {
      "text/html": [
       "<html><script type=\"math/tex; mode=display\">\\newcommand{\\Bold}[1]{\\mathbf{#1}}s_{} \\otimes s_{3} + s_{1} \\otimes s_{2,1} + s_{1} \\otimes s_{3} + s_{1,1} \\otimes s_{1,1,1} + s_{1,1} \\otimes s_{2,1} + 2s_{2} \\otimes s_{2,1} + s_{2,1} \\otimes s_{1,1,1} + s_{3} \\otimes s_{1,1,1} + s_{3} \\otimes s_{2,1} + s_{4} \\otimes s_{1,1,1}</script></html>"
      ],
      "text/plain": [
       "s[] # s[3] + s[1] # s[2, 1] + s[1] # s[3] + s[1, 1] # s[1, 1, 1] + s[1, 1] # s[2, 1] + 2*s[2] # s[2, 1] + s[2, 1] # s[1, 1, 1] + s[3] # s[1, 1, 1] + s[3] # s[2, 1] + s[4] # s[1, 1, 1]"
      ]
     },
     "execution_count": 8,
     "metadata": {},
     "output_type": "execute_result"
    }
   ],
   "source": [
    "r = 2\n",
    "op_pol = polarization_operators(r, max_deg=v.degree(), side=\"down\")\n",
    "W2 = PolarizedSpace(IsotypicComponent(W1, 3), op_pol)\n",
    "#for S in W2.values():\n",
    "#    show(S.basis())\n",
    "character(W2)"
   ]
  },
  {
   "cell_type": "code",
   "execution_count": 9,
   "metadata": {},
   "outputs": [
    {
     "name": "stdout",
     "output_type": "stream",
     "text": [
      "(s_{} + s_{1}) \\otimes s_{3} +(s_{1} + 3s_{1,1} + 2s_{2} + s_{2,1} + s_{3}) \\otimes s_{2,1} +(s_{1,1} + 2s_{2,1} + s_{2,2} + s_{3} + s_{3,1} + s_{4}) \\otimes s_{1,1,1} \n"
     ]
    }
   ],
   "source": [
    "print latex_output_character(character(W2, left_basis=m))"
   ]
  },
  {
   "cell_type": "code",
   "execution_count": 10,
   "metadata": {
    "scrolled": false
   },
   "outputs": [
    {
     "data": {
      "text/html": [
       "<html><script type=\"math/tex; mode=display\">\\newcommand{\\Bold}[1]{\\mathbf{#1}}s_{} \\otimes s_{3} + s_{1} \\otimes s_{2,1} + s_{1,1} \\otimes s_{1,1,1} + s_{2} \\otimes s_{2,1} + s_{3} \\otimes s_{1,1,1}</script></html>"
      ],
      "text/plain": [
       "s[] # s[3] + s[1] # s[2, 1] + s[1, 1] # s[1, 1, 1] + s[2] # s[2, 1] + s[3] # s[1, 1, 1]"
      ]
     },
     "execution_count": 10,
     "metadata": {},
     "output_type": "execute_result"
    }
   ],
   "source": [
    "d = v.degree()\n",
    "list_degrees = [tuple((i,j)) for i in range(0,d) for j in range(0,d) if i+j>0]\n",
    "sym_diff = symmetric_derivatives(list_degrees)\n",
    "character(Range(W2, sym_diff))"
   ]
  },
  {
   "cell_type": "code",
   "execution_count": 11,
   "metadata": {},
   "outputs": [
    {
     "data": {
      "text/html": [
       "<html><script type=\"math/tex; mode=display\">\\newcommand{\\Bold}[1]{\\mathbf{#1}}s_{1} \\otimes s_{3} + s_{1,1} \\otimes s_{2,1} + s_{2} \\otimes s_{2,1} + s_{2,1} \\otimes s_{1,1,1} + s_{3} \\otimes s_{2,1} + s_{4} \\otimes s_{1,1,1}</script></html>"
      ],
      "text/plain": [
       "s[1] # s[3] + s[1, 1] # s[2, 1] + s[2] # s[2, 1] + s[2, 1] # s[1, 1, 1] + s[3] # s[2, 1] + s[4] # s[1, 1, 1]"
      ]
     },
     "execution_count": 11,
     "metadata": {},
     "output_type": "execute_result"
    }
   ],
   "source": [
    "charac = character(W2) - character(Range(W2, sym_diff))\n",
    "charac"
   ]
  },
  {
   "cell_type": "code",
   "execution_count": 12,
   "metadata": {},
   "outputs": [
    {
     "name": "stdout",
     "output_type": "stream",
     "text": [
      "s_{1} \\otimes s_{3} + (s_{1,1} + s_{2} + s_{3}) \\otimes s_{2,1} + (s_{2,1} + s_{4}) \\otimes s_{1,1,1} \n"
     ]
    }
   ],
   "source": [
    "print latex_output_character(charac)"
   ]
  },
  {
   "cell_type": "markdown",
   "metadata": {},
   "source": [
    "Ou dans la base des monomiales"
   ]
  },
  {
   "cell_type": "code",
   "execution_count": 13,
   "metadata": {
    "scrolled": false
   },
   "outputs": [
    {
     "data": {
      "text/html": [
       "<html><script type=\"math/tex; mode=display\">\\newcommand{\\Bold}[1]{\\mathbf{#1}}m_{1} \\otimes s_{3} + 2m_{1,1} \\otimes s_{2,1} + m_{2} \\otimes s_{2,1} + m_{2,1} \\otimes s_{1,1,1} + m_{2,1} \\otimes s_{2,1} + m_{2,2} \\otimes s_{1,1,1} + m_{3} \\otimes s_{2,1} + m_{3,1} \\otimes s_{1,1,1} + m_{4} \\otimes s_{1,1,1}</script></html>"
      ],
      "text/plain": [
       "m[1] # s[3] + 2*m[1, 1] # s[2, 1] + m[2] # s[2, 1] + m[2, 1] # s[1, 1, 1] + m[2, 1] # s[2, 1] + m[2, 2] # s[1, 1, 1] + m[3] # s[2, 1] + m[3, 1] # s[1, 1, 1] + m[4] # s[1, 1, 1]"
      ]
     },
     "execution_count": 13,
     "metadata": {},
     "output_type": "execute_result"
    }
   ],
   "source": [
    "character(W2, left_basis=m) - character(Range(W2, sym_diff), left_basis=m)"
   ]
  },
  {
   "cell_type": "markdown",
   "metadata": {},
   "source": [
    "On factorise le caractère par représentation de $S_3$."
   ]
  },
  {
   "cell_type": "code",
   "execution_count": 14,
   "metadata": {
    "scrolled": true
   },
   "outputs": [
    {
     "data": {
      "text/html": [
       "<html><script type=\"math/tex; mode=display\">\\newcommand{\\Bold}[1]{\\mathbf{#1}}\\left[\\left(\\left(1, 1, 1\\right), s_{2,1} + s_{4}\\right), \\left(\\left(3\\right), s_{1}\\right), \\left(\\left(2, 1\\right), s_{1,1} + s_{2} + s_{3}\\right)\\right]</script></html>"
      ],
      "text/plain": [
       "[((1, 1, 1), s[2, 1] + s[4]), ((3,), s[1]), ((2, 1), s[1, 1] + s[2] + s[3])]"
      ]
     },
     "execution_count": 14,
     "metadata": {},
     "output_type": "execute_result"
    }
   ],
   "source": [
    "factorize(charac, 3)"
   ]
  },
  {
   "cell_type": "markdown",
   "metadata": {},
   "source": [
    "### Cas du diagramme 024 : en cours de résolution"
   ]
  },
  {
   "cell_type": "code",
   "execution_count": 15,
   "metadata": {
    "scrolled": false
   },
   "outputs": [
    {
     "data": {
      "text/html": [
       "<html><script type=\"math/tex; mode=display\">\\newcommand{\\Bold}[1]{\\mathbf{#1}}(x_{01} - x_{02}) \\cdot (x_{01} + x_{02}) \\cdot (-x_{00} + x_{01}) \\cdot (x_{00} - x_{02}) \\cdot (x_{00} + x_{02}) \\cdot (x_{00} + x_{01})</script></html>"
      ],
      "text/plain": [
       "(x01 - x02) * (x01 + x02) * (-x00 + x01) * (x00 - x02) * (x00 + x02) * (x00 + x01)"
      ]
     },
     "execution_count": 15,
     "metadata": {},
     "output_type": "execute_result"
    }
   ],
   "source": [
    "v = vandermonde(Diagram([(0,0),(2,0),(4,0)]))\n",
    "v.factor()"
   ]
  },
  {
   "cell_type": "code",
   "execution_count": 17,
   "metadata": {
    "scrolled": true
   },
   "outputs": [],
   "source": [
    "#print latex_output_character(E_mu(Diagram([(0,0),(2,0),(4,0)])))"
   ]
  },
  {
   "cell_type": "markdown",
   "metadata": {},
   "source": [
    "### Tests pour 024\n",
    "\n",
    "**Quotient puis polarisation** et test des dimensions (vérification du symétriseur de Young)\n",
    "\n",
    "Note : la seule différence notable sur le résultat final apparaît si on utilise les Steenrod (ou non) pour construire l'espace en un jeu de variables. \n",
    "\n",
    "Note 2 : On ne veut pas polariser après car on ne veut pas une représentation de $GL_r$. "
   ]
  },
  {
   "cell_type": "code",
   "execution_count": 18,
   "metadata": {
    "scrolled": false
   },
   "outputs": [
    {
     "name": "stdout",
     "output_type": "stream",
     "text": [
      "dimension V1: 4\n",
      "\n",
      "V1(X)\n"
     ]
    },
    {
     "data": {
      "text/html": [
       "<html><script type=\"math/tex; mode=display\">\\newcommand{\\Bold}[1]{\\mathbf{#1}}s_{3} \\otimes s_{1,1,1} + s_{4} \\otimes s_{1,1,1} + s_{5} \\otimes s_{1,1,1} + s_{6} \\otimes s_{1,1,1}</script></html>"
      ],
      "text/plain": [
       "s[3] # s[1, 1, 1] + s[4] # s[1, 1, 1] + s[5] # s[1, 1, 1] + s[6] # s[1, 1, 1]"
      ]
     },
     "metadata": {},
     "output_type": "display_data"
    },
    {
     "name": "stdout",
     "output_type": "stream",
     "text": [
      "V2(X)\n"
     ]
    },
    {
     "data": {
      "text/html": [
       "<html><script type=\"math/tex; mode=display\">\\newcommand{\\Bold}[1]{\\mathbf{#1}}s_{3} \\otimes s_{1,1,1} + s_{4} \\otimes s_{1,1,1} + s_{5} \\otimes s_{1,1,1}</script></html>"
      ],
      "text/plain": [
       "s[3] # s[1, 1, 1] + s[4] # s[1, 1, 1] + s[5] # s[1, 1, 1]"
      ]
     },
     "metadata": {},
     "output_type": "display_data"
    },
    {
     "name": "stdout",
     "output_type": "stream",
     "text": [
      "V1(X)-V2(X)\n"
     ]
    },
    {
     "data": {
      "text/html": [
       "<html><script type=\"math/tex; mode=display\">\\newcommand{\\Bold}[1]{\\mathbf{#1}}s_{6} \\otimes s_{1,1,1}</script></html>"
      ],
      "text/plain": [
       "s[6] # s[1, 1, 1]"
      ]
     },
     "metadata": {},
     "output_type": "display_data"
    },
    {
     "data": {
      "text/html": [
       "<html><script type=\"math/tex; mode=display\">\\newcommand{\\Bold}[1]{\\mathbf{#1}}s_{6} \\otimes s_{1,1,1}</script></html>"
      ],
      "text/plain": [
       "s[6] # s[1, 1, 1]"
      ]
     },
     "metadata": {},
     "output_type": "display_data"
    },
    {
     "name": "stdout",
     "output_type": "stream",
     "text": [
      "V1(X,Y)\n"
     ]
    },
    {
     "data": {
      "text/html": [
       "<html><script type=\"math/tex; mode=display\">\\newcommand{\\Bold}[1]{\\mathbf{#1}}m_{1,1} \\otimes s_{1,1,1} + 2m_{2,1} \\otimes s_{1,1,1} + 3m_{2,2} \\otimes s_{1,1,1} + m_{3} \\otimes s_{1,1,1} + 3m_{3,1} \\otimes s_{1,1,1} + 2m_{3,2} \\otimes s_{1,1,1} + m_{3,3} \\otimes s_{1,1,1} + m_{4} \\otimes s_{1,1,1} + 2m_{4,1} \\otimes s_{1,1,1} + m_{4,2} \\otimes s_{1,1,1} + m_{5} \\otimes s_{1,1,1} + m_{5,1} \\otimes s_{1,1,1} + m_{6} \\otimes s_{1,1,1}</script></html>"
      ],
      "text/plain": [
       "m[1, 1] # s[1, 1, 1] + 2*m[2, 1] # s[1, 1, 1] + 3*m[2, 2] # s[1, 1, 1] + m[3] # s[1, 1, 1] + 3*m[3, 1] # s[1, 1, 1] + 2*m[3, 2] # s[1, 1, 1] + m[3, 3] # s[1, 1, 1] + m[4] # s[1, 1, 1] + 2*m[4, 1] # s[1, 1, 1] + m[4, 2] # s[1, 1, 1] + m[5] # s[1, 1, 1] + m[5, 1] # s[1, 1, 1] + m[6] # s[1, 1, 1]"
      ]
     },
     "metadata": {},
     "output_type": "display_data"
    },
    {
     "name": "stdout",
     "output_type": "stream",
     "text": [
      "V2(X,Y)\n"
     ]
    },
    {
     "data": {
      "text/html": [
       "<html><script type=\"math/tex; mode=display\">\\newcommand{\\Bold}[1]{\\mathbf{#1}}m_{1,1} \\otimes s_{1,1,1} + 2m_{2,1} \\otimes s_{1,1,1} + 2m_{2,2} \\otimes s_{1,1,1} + m_{3} \\otimes s_{1,1,1} + 2m_{3,1} \\otimes s_{1,1,1} + m_{3,2} \\otimes s_{1,1,1} + m_{4} \\otimes s_{1,1,1} + m_{4,1} \\otimes s_{1,1,1} + m_{5} \\otimes s_{1,1,1}</script></html>"
      ],
      "text/plain": [
       "m[1, 1] # s[1, 1, 1] + 2*m[2, 1] # s[1, 1, 1] + 2*m[2, 2] # s[1, 1, 1] + m[3] # s[1, 1, 1] + 2*m[3, 1] # s[1, 1, 1] + m[3, 2] # s[1, 1, 1] + m[4] # s[1, 1, 1] + m[4, 1] # s[1, 1, 1] + m[5] # s[1, 1, 1]"
      ]
     },
     "metadata": {},
     "output_type": "display_data"
    },
    {
     "name": "stdout",
     "output_type": "stream",
     "text": [
      "V1(X,Y)-V2(X,Y)\n"
     ]
    },
    {
     "data": {
      "text/html": [
       "<html><script type=\"math/tex; mode=display\">\\newcommand{\\Bold}[1]{\\mathbf{#1}}m_{2,2} \\otimes s_{1,1,1} + m_{3,1} \\otimes s_{1,1,1} + m_{3,2} \\otimes s_{1,1,1} + m_{3,3} \\otimes s_{1,1,1} + m_{4,1} \\otimes s_{1,1,1} + m_{4,2} \\otimes s_{1,1,1} + m_{5,1} \\otimes s_{1,1,1} + m_{6} \\otimes s_{1,1,1}</script></html>"
      ],
      "text/plain": [
       "m[2, 2] # s[1, 1, 1] + m[3, 1] # s[1, 1, 1] + m[3, 2] # s[1, 1, 1] + m[3, 3] # s[1, 1, 1] + m[4, 1] # s[1, 1, 1] + m[4, 2] # s[1, 1, 1] + m[5, 1] # s[1, 1, 1] + m[6] # s[1, 1, 1]"
      ]
     },
     "metadata": {},
     "output_type": "display_data"
    },
    {
     "data": {
      "text/html": [
       "<html><script type=\"math/tex; mode=display\">\\newcommand{\\Bold}[1]{\\mathbf{#1}}s_{3,1} \\otimes s_{1,1,1} + s_{4,1} \\otimes s_{1,1,1} + s_{6} \\otimes s_{1,1,1}</script></html>"
      ],
      "text/plain": [
       "s[3, 1] # s[1, 1, 1] + s[4, 1] # s[1, 1, 1] + s[6] # s[1, 1, 1]"
      ]
     },
     "metadata": {},
     "output_type": "display_data"
    }
   ],
   "source": [
    "# Create M with V, partial derivatives and Steenrod in x\n",
    "v = vandermonde(Diagram([(0,0),(2,0),(4,0)]))\n",
    "deg = v.degree()\n",
    "generator = {v.multidegree() : [v]}\n",
    "list_op = partial_derivatives(v.parent())\n",
    "list_op = merge(steenrod_operators(1, 1), steenrod_operators(1, 2))\n",
    "W1 = Subspace(generators=generator, operators=list_op, add_degrees=add_degree)\n",
    "print \"dimension V1:\",W1.dimension()\n",
    "W1 = IsotypicComponent(W1, Partition([1,1,1]))\n",
    "#print dimension(character(W1, 3, 1), 3)\n",
    "print\n",
    "\n",
    "# Create ideal I*M in x using symmetric derivatives\n",
    "list_degrees = [tuple((i,)) for i in range(1,4)]\n",
    "sym_diff = symmetric_derivatives(list_degrees)\n",
    "sym_diff = merge(steenrod_operators(1, 1), steenrod_operators(1, 2))\n",
    "W2 = Range(W1, sym_diff)\n",
    "\n",
    "# Print caracters in one set of variables\n",
    "print \"V1(X)\"\n",
    "show(character(W1))\n",
    "print \"V2(X)\"\n",
    "show(character(W2))\n",
    "print \"V1(X)-V2(X)\"\n",
    "show(character(W1)- character(W2))\n",
    "show(character_quotient(W1, W2, 3, 1))\n",
    "\n",
    "# Polarisation of M and I*M\n",
    "r=2\n",
    "op_pol = polarization_operators(r, max_deg=4)\n",
    "op_pol2 = polarization_operators(r, max_deg=4, side=\"down\")\n",
    "list_degrees = [tuple((i,j)) for i in range(1,deg) for j in range(1,deg) if i+j!=0 and i+j<=deg]\n",
    "list_degrees += [(0,1), (0,2), (1,0), (2,0)]\n",
    "#op_pol = merge(merge(op_pol, steenrod_operators(r, 1)), steenrod_operators(r,2))\n",
    "#op_pol = merge(op_pol, symmetric_derivatives(list_degrees))\n",
    "op_pol2 = merge(merge(op_pol, multipolarization(r, list_degrees, 0)), multipolarization(r, list_degrees, 1))\n",
    "W1 = PolarizedSpace(W1, op_pol)\n",
    "W2 = PolarizedSpace(W2, op_pol)\n",
    "\n",
    "# Print caracters in two sets of variables\n",
    "print \"V1(X,Y)\"\n",
    "show(character(W1, left_basis=m))\n",
    "print \"V2(X,Y)\"\n",
    "show(character(W2, left_basis=m))\n",
    "charac = character(W1, left_basis=m) - character(W2, left_basis=m)\n",
    "print \"V1(X,Y)-V2(X,Y)\"\n",
    "show(charac)\n",
    "show(character_quotient(W1, W2, 3, 2))"
   ]
  },
  {
   "cell_type": "markdown",
   "metadata": {},
   "source": [
    "**Polarisation puis quotient**"
   ]
  },
  {
   "cell_type": "code",
   "execution_count": 19,
   "metadata": {},
   "outputs": [
    {
     "name": "stdout",
     "output_type": "stream",
     "text": [
      "V1(X)\n"
     ]
    },
    {
     "data": {
      "text/html": [
       "<html><script type=\"math/tex; mode=display\">\\newcommand{\\Bold}[1]{\\mathbf{#1}}s_{} \\otimes s_{3} + s_{1} \\otimes s_{2,1} + s_{1} \\otimes s_{3} + 2s_{2} \\otimes s_{2,1} + 2s_{2} \\otimes s_{3} + s_{3} \\otimes s_{1,1,1} + 3s_{3} \\otimes s_{2,1} + s_{3} \\otimes s_{3} + s_{4} \\otimes s_{1,1,1} + 3s_{4} \\otimes s_{2,1} + 2s_{5} \\otimes s_{1,1,1} + s_{5} \\otimes s_{2,1} + s_{6} \\otimes s_{1,1,1}</script></html>"
      ],
      "text/plain": [
       "s[] # s[3] + s[1] # s[2, 1] + s[1] # s[3] + 2*s[2] # s[2, 1] + 2*s[2] # s[3] + s[3] # s[1, 1, 1] + 3*s[3] # s[2, 1] + s[3] # s[3] + s[4] # s[1, 1, 1] + 3*s[4] # s[2, 1] + 2*s[5] # s[1, 1, 1] + s[5] # s[2, 1] + s[6] # s[1, 1, 1]"
      ]
     },
     "metadata": {},
     "output_type": "display_data"
    },
    {
     "name": "stdout",
     "output_type": "stream",
     "text": [
      "V1(X,Y)\n"
     ]
    },
    {
     "data": {
      "text/html": [
       "<html><script type=\"math/tex; mode=display\">\\newcommand{\\Bold}[1]{\\mathbf{#1}}s_{} \\otimes s_{3} + s_{1} \\otimes s_{2,1} + s_{1} \\otimes s_{3} + s_{1,1} \\otimes s_{1,1,1} + s_{1,1} \\otimes s_{2,1} + 2s_{2} \\otimes s_{2,1} + 2s_{2} \\otimes s_{3} + s_{2,1} \\otimes s_{1,1,1} + 2s_{2,1} \\otimes s_{2,1} + s_{3} \\otimes s_{1,1,1} + 3s_{3} \\otimes s_{2,1} + s_{3} \\otimes s_{3} + 2s_{3,1} \\otimes s_{1,1,1} + s_{3,1} \\otimes s_{2,1} + s_{4} \\otimes s_{1,1,1} + 3s_{4} \\otimes s_{2,1} + s_{4,1} \\otimes s_{1,1,1} + 2s_{5} \\otimes s_{1,1,1} + s_{5} \\otimes s_{2,1} + s_{6} \\otimes s_{1,1,1}</script></html>"
      ],
      "text/plain": [
       "s[] # s[3] + s[1] # s[2, 1] + s[1] # s[3] + s[1, 1] # s[1, 1, 1] + s[1, 1] # s[2, 1] + 2*s[2] # s[2, 1] + 2*s[2] # s[3] + s[2, 1] # s[1, 1, 1] + 2*s[2, 1] # s[2, 1] + s[3] # s[1, 1, 1] + 3*s[3] # s[2, 1] + s[3] # s[3] + 2*s[3, 1] # s[1, 1, 1] + s[3, 1] # s[2, 1] + s[4] # s[1, 1, 1] + 3*s[4] # s[2, 1] + s[4, 1] # s[1, 1, 1] + 2*s[5] # s[1, 1, 1] + s[5] # s[2, 1] + s[6] # s[1, 1, 1]"
      ]
     },
     "metadata": {},
     "output_type": "display_data"
    },
    {
     "name": "stdout",
     "output_type": "stream",
     "text": [
      "V2(X,Y)\n"
     ]
    },
    {
     "data": {
      "text/html": [
       "<html><script type=\"math/tex; mode=display\">\\newcommand{\\Bold}[1]{\\mathbf{#1}}s_{} \\otimes s_{3} + s_{1} \\otimes s_{2,1} + s_{1} \\otimes s_{3} + s_{1,1} \\otimes s_{1,1,1} + s_{1,1} \\otimes s_{2,1} + 2s_{2} \\otimes s_{2,1} + s_{2} \\otimes s_{3} + s_{2,1} \\otimes s_{1,1,1} + s_{2,1} \\otimes s_{2,1} + s_{3} \\otimes s_{1,1,1} + 2s_{3} \\otimes s_{2,1} + s_{3,1} \\otimes s_{1,1,1} + s_{4} \\otimes s_{1,1,1} + s_{4} \\otimes s_{2,1} + s_{5} \\otimes s_{1,1,1}</script></html>"
      ],
      "text/plain": [
       "s[] # s[3] + s[1] # s[2, 1] + s[1] # s[3] + s[1, 1] # s[1, 1, 1] + s[1, 1] # s[2, 1] + 2*s[2] # s[2, 1] + s[2] # s[3] + s[2, 1] # s[1, 1, 1] + s[2, 1] # s[2, 1] + s[3] # s[1, 1, 1] + 2*s[3] # s[2, 1] + s[3, 1] # s[1, 1, 1] + s[4] # s[1, 1, 1] + s[4] # s[2, 1] + s[5] # s[1, 1, 1]"
      ]
     },
     "metadata": {},
     "output_type": "display_data"
    },
    {
     "name": "stdout",
     "output_type": "stream",
     "text": [
      "V1(X,Y)-V2(X,Y)\n"
     ]
    },
    {
     "data": {
      "text/html": [
       "<html><script type=\"math/tex; mode=display\">\\newcommand{\\Bold}[1]{\\mathbf{#1}}s_{2} \\otimes s_{3} + s_{2,1} \\otimes s_{2,1} + s_{3} \\otimes s_{2,1} + s_{3} \\otimes s_{3} + s_{3,1} \\otimes s_{1,1,1} + s_{3,1} \\otimes s_{2,1} + 2s_{4} \\otimes s_{2,1} + s_{4,1} \\otimes s_{1,1,1} + s_{5} \\otimes s_{1,1,1} + s_{5} \\otimes s_{2,1} + s_{6} \\otimes s_{1,1,1}</script></html>"
      ],
      "text/plain": [
       "s[2] # s[3] + s[2, 1] # s[2, 1] + s[3] # s[2, 1] + s[3] # s[3] + s[3, 1] # s[1, 1, 1] + s[3, 1] # s[2, 1] + 2*s[4] # s[2, 1] + s[4, 1] # s[1, 1, 1] + s[5] # s[1, 1, 1] + s[5] # s[2, 1] + s[6] # s[1, 1, 1]"
      ]
     },
     "metadata": {},
     "output_type": "display_data"
    }
   ],
   "source": [
    "v = vandermonde(Diagram([(0,0),(2,0),(4,0)]))\n",
    "generator = {v.multidegree() : [v]}\n",
    "list_op = partial_derivatives(v.parent())\n",
    "list_op = merge(merge(list_op, steenrod_operators(1, 1)), steenrod_operators(1, 2))\n",
    "W1 = Subspace(generators=generator, operators=list_op, add_degrees=add_degree)\n",
    "W1 = IsotypicComponent(W1, 3)\n",
    "\n",
    "print \"V1(X)\"\n",
    "show(character(W1))\n",
    "\n",
    "r=2\n",
    "op_pol = polarization_operators(r, max_deg=v.degree(), side=\"down\")\n",
    "op_pol = merge(merge(op_pol, steenrod_operators(r, 1)), steenrod_operators(r, 2))\n",
    "W1 = PolarizedSpace(W1, op_pol)\n",
    "\n",
    "print \"V1(X,Y)\"\n",
    "show(character(W1))\n",
    "\n",
    "deg = v.degree()\n",
    "list_degrees = [tuple((i,j)) for i in range(0, deg) for j in range(0, deg) if i+j>0 and i+j<deg]\n",
    "sym_diff = symmetric_derivatives(list_degrees)\n",
    "#sym_diff = merge(merge(sym_diff, steenrod_operators(r, 1)), steenrod_operators(r, 2))\n",
    "W2 = Range(W1, sym_diff, add_degrees=add_degrees_isotypic)\n",
    "\n",
    "print \"V2(X,Y)\"\n",
    "show(character(W2))\n",
    "\n",
    "print \"V1(X,Y)-V2(X,Y)\"\n",
    "charac = character(W1) - character(W2)\n",
    "show(charac)"
   ]
  },
  {
   "cell_type": "markdown",
   "metadata": {},
   "source": [
    "**Tests** sur le modèle polarisation puis quotient"
   ]
  },
  {
   "cell_type": "code",
   "execution_count": 20,
   "metadata": {
    "scrolled": true
   },
   "outputs": [
    {
     "name": "stdout",
     "output_type": "stream",
     "text": [
      "V1(X)\n"
     ]
    },
    {
     "data": {
      "text/html": [
       "<html><script type=\"math/tex; mode=display\">\\newcommand{\\Bold}[1]{\\mathbf{#1}}s_{3} \\otimes s_{1,1,1} + s_{4} \\otimes s_{1,1,1} + s_{5} \\otimes s_{1,1,1} + s_{6} \\otimes s_{1,1,1}</script></html>"
      ],
      "text/plain": [
       "s[3] # s[1, 1, 1] + s[4] # s[1, 1, 1] + s[5] # s[1, 1, 1] + s[6] # s[1, 1, 1]"
      ]
     },
     "metadata": {},
     "output_type": "display_data"
    },
    {
     "name": "stdout",
     "output_type": "stream",
     "text": [
      "V1(X,Y)\n"
     ]
    },
    {
     "data": {
      "text/html": [
       "<html><script type=\"math/tex; mode=display\">\\newcommand{\\Bold}[1]{\\mathbf{#1}}s_{3} \\otimes s_{1,1,1} + s_{4} \\otimes s_{1,1,1} + s_{5} \\otimes s_{1,1,1} + s_{6} \\otimes s_{1,1,1}</script></html>"
      ],
      "text/plain": [
       "s[3] # s[1, 1, 1] + s[4] # s[1, 1, 1] + s[5] # s[1, 1, 1] + s[6] # s[1, 1, 1]"
      ]
     },
     "metadata": {},
     "output_type": "display_data"
    },
    {
     "name": "stdout",
     "output_type": "stream",
     "text": [
      "V2(X,Y) steenrod\n"
     ]
    },
    {
     "data": {
      "text/html": [
       "<html><script type=\"math/tex; mode=display\">\\newcommand{\\Bold}[1]{\\mathbf{#1}}s_{1,1} \\otimes s_{1,1,1} + s_{2,1} \\otimes s_{1,1,1} + s_{3} \\otimes s_{1,1,1} + 2s_{3,1} \\otimes s_{1,1,1} + s_{4} \\otimes s_{1,1,1} + s_{4,1} \\otimes s_{1,1,1} + s_{5} \\otimes s_{1,1,1}</script></html>"
      ],
      "text/plain": [
       "s[1, 1] # s[1, 1, 1] + s[2, 1] # s[1, 1, 1] + s[3] # s[1, 1, 1] + 2*s[3, 1] # s[1, 1, 1] + s[4] # s[1, 1, 1] + s[4, 1] # s[1, 1, 1] + s[5] # s[1, 1, 1]"
      ]
     },
     "metadata": {},
     "output_type": "display_data"
    },
    {
     "name": "stdout",
     "output_type": "stream",
     "text": [
      "V3(X,Y) steenrod x2\n"
     ]
    },
    {
     "data": {
      "text/html": [
       "<html><script type=\"math/tex; mode=display\">\\newcommand{\\Bold}[1]{\\mathbf{#1}}s_{1,1} \\otimes s_{1,1,1} + s_{2,1} \\otimes s_{1,1,1} - s_{2,2} \\otimes s_{1,1,1} + s_{3} \\otimes s_{1,1,1} + 2s_{3,1} \\otimes s_{1,1,1} + s_{4} \\otimes s_{1,1,1}</script></html>"
      ],
      "text/plain": [
       "s[1, 1] # s[1, 1, 1] + s[2, 1] # s[1, 1, 1] - s[2, 2] # s[1, 1, 1] + s[3] # s[1, 1, 1] + 2*s[3, 1] # s[1, 1, 1] + s[4] # s[1, 1, 1]"
      ]
     },
     "metadata": {},
     "output_type": "display_data"
    },
    {
     "name": "stdout",
     "output_type": "stream",
     "text": [
      "V1(X,Y)-V2(X,Y)\n"
     ]
    },
    {
     "data": {
      "text/html": [
       "<html><script type=\"math/tex; mode=display\">\\newcommand{\\Bold}[1]{\\mathbf{#1}}-s_{1,1} \\otimes s_{1,1,1} - s_{2,1} \\otimes s_{1,1,1} + s_{2,2} \\otimes s_{1,1,1} - s_{3} \\otimes s_{1,1,1} - 2s_{3,1} \\otimes s_{1,1,1} - s_{4} \\otimes s_{1,1,1} + s_{6} \\otimes s_{1,1,1}</script></html>"
      ],
      "text/plain": [
       "-s[1, 1] # s[1, 1, 1] - s[2, 1] # s[1, 1, 1] + s[2, 2] # s[1, 1, 1] - s[3] # s[1, 1, 1] - 2*s[3, 1] # s[1, 1, 1] - s[4] # s[1, 1, 1] + s[6] # s[1, 1, 1]"
      ]
     },
     "metadata": {},
     "output_type": "display_data"
    }
   ],
   "source": [
    "v = vandermonde(Diagram([(0,0),(2,0),(4,0)]))\n",
    "generator = {v.multidegree() : [v]}\n",
    "list_op2 = merge(steenrod_operators(1, 1), steenrod_operators(1, 2))\n",
    "W1 = Subspace(generators=generator, operators=list_op2, add_degrees=add_degree)\n",
    "W1 = IsotypicComponent(W1, Partition([1,1,1]))\n",
    "W1bis = Subspace(generators=generator, operators={}, add_degrees=add_degree)\n",
    "W1bis = IsotypicComponent(W1bis, Partition([1,1,1]))\n",
    "\n",
    "print \"V1(X)\"\n",
    "show(character(W1))\n",
    "\n",
    "W2bis = Range(W1bis, steenrod_operators(1, 1))\n",
    "\n",
    "r=2\n",
    "op_pol = polarization_operators(r, side=\"down\")\n",
    "#op_pol = merge(merge(op_pol, steenrod_operators(r, 1)), steenrod_operators(r, 2))\n",
    "W1 = PolarizedSpace(W1, op_pol)\n",
    "print \"V1(X,Y)\"\n",
    "show(character(W1))\n",
    "\n",
    "sym_diff = {}\n",
    "sym_diff2 = merge(steenrod_operators(r, 1), steenrod_operators(r, 2))\n",
    "W2 = Range(W1, sym_diff2, add_degrees=add_degrees_isotypic)\n",
    "W3 = Range(W2, sym_diff2, add_degrees=add_degrees_isotypic)\n",
    "\n",
    "print \"V2(X,Y) steenrod\"\n",
    "show(character(W2, left_basis=s))\n",
    "print \"V3(X,Y) steenrod x2\"\n",
    "show(character(W3, left_basis=s))\n",
    "\n",
    "print \"V1(X,Y)-V2(X,Y)\"\n",
    "charac = character(W1) - character(W3) - character(W2bis)\n",
    "show(charac)"
   ]
  },
  {
   "cell_type": "code",
   "execution_count": 21,
   "metadata": {},
   "outputs": [
    {
     "name": "stdout",
     "output_type": "stream",
     "text": [
      "V1(X)\n"
     ]
    },
    {
     "data": {
      "text/html": [
       "<html><script type=\"math/tex; mode=display\">\\newcommand{\\Bold}[1]{\\mathbf{#1}}s_{3} \\otimes s_{1,1,1} + s_{4} \\otimes s_{1,1,1} + s_{5} \\otimes s_{1,1,1} + s_{6} \\otimes s_{1,1,1}</script></html>"
      ],
      "text/plain": [
       "s[3] # s[1, 1, 1] + s[4] # s[1, 1, 1] + s[5] # s[1, 1, 1] + s[6] # s[1, 1, 1]"
      ]
     },
     "metadata": {},
     "output_type": "display_data"
    },
    {
     "name": "stdout",
     "output_type": "stream",
     "text": [
      "V1(X,Y)\n"
     ]
    },
    {
     "data": {
      "text/html": [
       "<html><script type=\"math/tex; mode=display\">\\newcommand{\\Bold}[1]{\\mathbf{#1}}s_{1,1} \\otimes s_{1,1,1} + s_{2,1} \\otimes s_{1,1,1} + s_{3} \\otimes s_{1,1,1} + 2s_{3,1} \\otimes s_{1,1,1} + s_{3,2} \\otimes s_{1,1,1} + s_{4} \\otimes s_{1,1,1} + 2s_{4,1} \\otimes s_{1,1,1} + s_{4,2} \\otimes s_{1,1,1} + 2s_{5} \\otimes s_{1,1,1} + s_{5,1} \\otimes s_{1,1,1} + s_{6} \\otimes s_{1,1,1}</script></html>"
      ],
      "text/plain": [
       "s[1, 1] # s[1, 1, 1] + s[2, 1] # s[1, 1, 1] + s[3] # s[1, 1, 1] + 2*s[3, 1] # s[1, 1, 1] + s[3, 2] # s[1, 1, 1] + s[4] # s[1, 1, 1] + 2*s[4, 1] # s[1, 1, 1] + s[4, 2] # s[1, 1, 1] + 2*s[5] # s[1, 1, 1] + s[5, 1] # s[1, 1, 1] + s[6] # s[1, 1, 1]"
      ]
     },
     "metadata": {},
     "output_type": "display_data"
    },
    {
     "name": "stdout",
     "output_type": "stream",
     "text": [
      "V2(X,Y)\n"
     ]
    },
    {
     "data": {
      "text/html": [
       "<html><script type=\"math/tex; mode=display\">\\newcommand{\\Bold}[1]{\\mathbf{#1}}s_{1,1} \\otimes s_{1,1,1} + s_{2,1} \\otimes s_{1,1,1} + s_{3} \\otimes s_{1,1,1} + 2s_{3,1} \\otimes s_{1,1,1} + s_{3,2} \\otimes s_{1,1,1} + s_{4} \\otimes s_{1,1,1} + 2s_{4,1} \\otimes s_{1,1,1} + 2s_{5} \\otimes s_{1,1,1}</script></html>"
      ],
      "text/plain": [
       "s[1, 1] # s[1, 1, 1] + s[2, 1] # s[1, 1, 1] + s[3] # s[1, 1, 1] + 2*s[3, 1] # s[1, 1, 1] + s[3, 2] # s[1, 1, 1] + s[4] # s[1, 1, 1] + 2*s[4, 1] # s[1, 1, 1] + 2*s[5] # s[1, 1, 1]"
      ]
     },
     "metadata": {},
     "output_type": "display_data"
    },
    {
     "name": "stdout",
     "output_type": "stream",
     "text": [
      "V1(X,Y)-V2(X,Y)\n"
     ]
    },
    {
     "data": {
      "text/html": [
       "<html><script type=\"math/tex; mode=display\">\\newcommand{\\Bold}[1]{\\mathbf{#1}}s_{4,2} \\otimes s_{1,1,1} + s_{5,1} \\otimes s_{1,1,1} + s_{6} \\otimes s_{1,1,1}</script></html>"
      ],
      "text/plain": [
       "s[4, 2] # s[1, 1, 1] + s[5, 1] # s[1, 1, 1] + s[6] # s[1, 1, 1]"
      ]
     },
     "metadata": {},
     "output_type": "display_data"
    }
   ],
   "source": [
    "v = vandermonde(Diagram([(0,0),(2,0),(4,0)]))\n",
    "generator = {v.multidegree() : [v]}\n",
    "list_op = partial_derivatives(v.parent())\n",
    "#list_op = merge(merge(list_op, steenrod_operators(1, 1)), steenrod_operators(1, 2))\n",
    "W1 = Subspace(generators=generator, operators=list_op, add_degrees=add_degree)\n",
    "W1 = IsotypicComponent(W1, Partition([1,1,1]))\n",
    "\n",
    "print \"V1(X)\"\n",
    "show(character(W1))\n",
    "\n",
    "r=2\n",
    "D = cartesian_product([ZZ for i in range(r)])\n",
    "op_pol = polarization_operators(r, side=\"down\")\n",
    "op_pol = merge(merge(op_pol, steenrod_operators(r, 1)), steenrod_operators(r, 2))\n",
    "new_pol={D([-2,2]):[attrcall(\"higher_polarization\", i1=0, i2=1, d1=2, d2=2)], \n",
    "         D([2,-2]):[attrcall(\"higher_polarization\", i1=1, i2=0, d1=2, d2=2)]}\n",
    "op_pol = merge(op_pol, new_pol)\n",
    "W1 = PolarizedSpace(W1, op_pol)\n",
    "\n",
    "print \"V1(X,Y)\"\n",
    "show(character(W1))\n",
    "\n",
    "list_degrees = [tuple((i,j)) for i in range(0, deg) for j in range(0, deg) if i+j>0 and i+j<deg]\n",
    "sym_diff = symmetric_derivatives(list_degrees)\n",
    "sym_diff = merge(merge(sym_diff, steenrod_operators(r, 1)), steenrod_operators(r, 2))\n",
    "W2 = Range(W1, sym_diff, add_degrees=add_degrees_isotypic)\n",
    "\n",
    "print \"V2(X,Y)\"\n",
    "show(character(W2))\n",
    "\n",
    "print \"V1(X,Y)-V2(X,Y)\"\n",
    "charac = character(W1) - character(W2)\n",
    "show(charac)"
   ]
  },
  {
   "cell_type": "code",
   "execution_count": 22,
   "metadata": {
    "scrolled": false
   },
   "outputs": [
    {
     "name": "stdout",
     "output_type": "stream",
     "text": [
      "V1(X)\n"
     ]
    },
    {
     "data": {
      "text/html": [
       "<html><script type=\"math/tex; mode=display\">\\newcommand{\\Bold}[1]{\\mathbf{#1}}s_{3} \\otimes s_{1,1,1} + s_{4} \\otimes s_{1,1,1} + s_{5} \\otimes s_{1,1,1} + s_{6} \\otimes s_{1,1,1}</script></html>"
      ],
      "text/plain": [
       "s[3] # s[1, 1, 1] + s[4] # s[1, 1, 1] + s[5] # s[1, 1, 1] + s[6] # s[1, 1, 1]"
      ]
     },
     "metadata": {},
     "output_type": "display_data"
    },
    {
     "name": "stdout",
     "output_type": "stream",
     "text": [
      "V1(X,Y)\n"
     ]
    },
    {
     "data": {
      "text/html": [
       "<html><script type=\"math/tex; mode=display\">\\newcommand{\\Bold}[1]{\\mathbf{#1}}s_{1,1} \\otimes s_{1,1,1} + s_{2,1} \\otimes s_{1,1,1} + s_{3} \\otimes s_{1,1,1} + 2s_{3,1} \\otimes s_{1,1,1} + s_{4} \\otimes s_{1,1,1} + s_{4,1} \\otimes s_{1,1,1} + s_{5} \\otimes s_{1,1,1} + s_{6} \\otimes s_{1,1,1}</script></html>"
      ],
      "text/plain": [
       "s[1, 1] # s[1, 1, 1] + s[2, 1] # s[1, 1, 1] + s[3] # s[1, 1, 1] + 2*s[3, 1] # s[1, 1, 1] + s[4] # s[1, 1, 1] + s[4, 1] # s[1, 1, 1] + s[5] # s[1, 1, 1] + s[6] # s[1, 1, 1]"
      ]
     },
     "metadata": {},
     "output_type": "display_data"
    },
    {
     "name": "stdout",
     "output_type": "stream",
     "text": [
      "V2(X,Y) steenrod\n"
     ]
    },
    {
     "data": {
      "text/html": [
       "<html><script type=\"math/tex; mode=display\">\\newcommand{\\Bold}[1]{\\mathbf{#1}}s_{1,1} \\otimes s_{1,1,1} + s_{2,1} \\otimes s_{1,1,1} - s_{2,2} \\otimes s_{1,1,1} + s_{3} \\otimes s_{1,1,1} + 2s_{3,1} \\otimes s_{1,1,1} + s_{4} \\otimes s_{1,1,1} + s_{4,1} \\otimes s_{1,1,1} + s_{5} \\otimes s_{1,1,1}</script></html>"
      ],
      "text/plain": [
       "s[1, 1] # s[1, 1, 1] + s[2, 1] # s[1, 1, 1] - s[2, 2] # s[1, 1, 1] + s[3] # s[1, 1, 1] + 2*s[3, 1] # s[1, 1, 1] + s[4] # s[1, 1, 1] + s[4, 1] # s[1, 1, 1] + s[5] # s[1, 1, 1]"
      ]
     },
     "metadata": {},
     "output_type": "display_data"
    },
    {
     "name": "stdout",
     "output_type": "stream",
     "text": [
      "V3(X,Y) steenrod x2\n"
     ]
    },
    {
     "data": {
      "text/html": [
       "<html><script type=\"math/tex; mode=display\">\\newcommand{\\Bold}[1]{\\mathbf{#1}}s_{1,1} \\otimes s_{1,1,1} + s_{2,1} \\otimes s_{1,1,1} - s_{2,2} \\otimes s_{1,1,1} + s_{3} \\otimes s_{1,1,1} + 2s_{3,1} \\otimes s_{1,1,1} + s_{4} \\otimes s_{1,1,1}</script></html>"
      ],
      "text/plain": [
       "s[1, 1] # s[1, 1, 1] + s[2, 1] # s[1, 1, 1] - s[2, 2] # s[1, 1, 1] + s[3] # s[1, 1, 1] + 2*s[3, 1] # s[1, 1, 1] + s[4] # s[1, 1, 1]"
      ]
     },
     "metadata": {},
     "output_type": "display_data"
    },
    {
     "name": "stdout",
     "output_type": "stream",
     "text": [
      "V4(X,Y) deriv sym\n"
     ]
    },
    {
     "data": {
      "text/html": [
       "<html><script type=\"math/tex; mode=display\">\\newcommand{\\Bold}[1]{\\mathbf{#1}}s_{1,1} \\otimes s_{1,1,1} + s_{2,1} \\otimes s_{1,1,1} + s_{3} \\otimes s_{1,1,1} + s_{3,1} \\otimes s_{1,1,1} + s_{4} \\otimes s_{1,1,1} + s_{5} \\otimes s_{1,1,1}</script></html>"
      ],
      "text/plain": [
       "s[1, 1] # s[1, 1, 1] + s[2, 1] # s[1, 1, 1] + s[3] # s[1, 1, 1] + s[3, 1] # s[1, 1, 1] + s[4] # s[1, 1, 1] + s[5] # s[1, 1, 1]"
      ]
     },
     "metadata": {},
     "output_type": "display_data"
    },
    {
     "name": "stdout",
     "output_type": "stream",
     "text": [
      "V5(X,Y) deriv sym x2\n"
     ]
    },
    {
     "data": {
      "text/html": [
       "<html><script type=\"math/tex; mode=display\">\\newcommand{\\Bold}[1]{\\mathbf{#1}}s_{1,1} \\otimes s_{1,1,1} + s_{2,1} \\otimes s_{1,1,1} + s_{3} \\otimes s_{1,1,1} + s_{4} \\otimes s_{1,1,1}</script></html>"
      ],
      "text/plain": [
       "s[1, 1] # s[1, 1, 1] + s[2, 1] # s[1, 1, 1] + s[3] # s[1, 1, 1] + s[4] # s[1, 1, 1]"
      ]
     },
     "metadata": {},
     "output_type": "display_data"
    },
    {
     "name": "stdout",
     "output_type": "stream",
     "text": [
      "V1(X,Y)-V2(X,Y)\n"
     ]
    },
    {
     "data": {
      "text/html": [
       "<html><script type=\"math/tex; mode=display\">\\newcommand{\\Bold}[1]{\\mathbf{#1}}s_{2,2} \\otimes s_{1,1,1} - s_{3,1} \\otimes s_{1,1,1} + s_{4,1} \\otimes s_{1,1,1} + s_{6} \\otimes s_{1,1,1}</script></html>"
      ],
      "text/plain": [
       "s[2, 2] # s[1, 1, 1] - s[3, 1] # s[1, 1, 1] + s[4, 1] # s[1, 1, 1] + s[6] # s[1, 1, 1]"
      ]
     },
     "metadata": {},
     "output_type": "display_data"
    }
   ],
   "source": [
    "v = vandermonde(Diagram([(0,0),(2,0),(4,0)]))\n",
    "generator = {v.multidegree() : [v]}\n",
    "list_op1 = partial_derivatives(v.parent())\n",
    "list_op2 = merge(steenrod_operators(1, 1), steenrod_operators(1, 2))\n",
    "W1 = Subspace(generators=generator, operators=list_op2, add_degrees=add_degree)\n",
    "W1 = IsotypicComponent(W1, Partition([1,1,1]))\n",
    "W1bis = Subspace(generators=generator, operators={}, add_degrees=add_degree)\n",
    "W1bis = IsotypicComponent(W1bis, Partition([1,1,1]))\n",
    "\n",
    "print \"V1(X)\"\n",
    "show(character(W1))\n",
    "\n",
    "W2bis = Range(W1bis, steenrod_operators(1, 1))\n",
    "\n",
    "r=2\n",
    "op_pol = polarization_operators(r, side=\"down\")\n",
    "op_pol = merge(merge(op_pol, steenrod_operators(r, 1)), steenrod_operators(r, 2))\n",
    "W1 = PolarizedSpace(W1, op_pol)\n",
    "\n",
    "print \"V1(X,Y)\"\n",
    "show(character(W1))\n",
    "\n",
    "sym_diff = {}\n",
    "list_degrees = [tuple((i,j)) for i in range(0, deg) for j in range(0, deg) if i+j>0 and i+j<deg]\n",
    "sym_diff1 = symmetric_derivatives(list_degrees)\n",
    "sym_diff2 = steenrod_operators(r, 1)\n",
    "sym_diff3 = steenrod_operators(r, 2)\n",
    "sym_diff4 = merge(symmetric_derivatives(list_degrees), steenrod_operators(r, 1))\n",
    "W2 = Range(W1, sym_diff2, add_degrees=add_degrees_isotypic)\n",
    "W3 = Range(W2, sym_diff2, add_degrees=add_degrees_isotypic)\n",
    "W4 = Range(W1, sym_diff1, add_degrees=add_degrees_isotypic)\n",
    "W5 = Range(W4, sym_diff1, add_degrees=add_degrees_isotypic)\n",
    "\n",
    "print \"V2(X,Y) steenrod\"\n",
    "show(character(W2, left_basis=s))\n",
    "print \"V3(X,Y) steenrod x2\"\n",
    "show(character(W3, left_basis=s))\n",
    "print \"V4(X,Y) deriv sym\"\n",
    "show(character(W4, left_basis=s))\n",
    "print \"V5(X,Y) deriv sym x2\"\n",
    "show(character(W5, left_basis=s))\n",
    "\n",
    "print \"V1(X,Y)-V2(X,Y)\"\n",
    "charac = character(W1) - character(W3) - character(W4) + character(W5)\n",
    "show(charac)"
   ]
  },
  {
   "cell_type": "markdown",
   "metadata": {},
   "source": [
    "**Steenrod** : On construit $V_1$ uniquement avec les opérateurs de Steenrod. Puis on polarise. Puis on calcule le quotient avec les opérateurs de Steenrod. \n",
    "\n",
    "Note : on obtient enfin $s_{22}$ mais il manque maintenant $s_{41}$"
   ]
  },
  {
   "cell_type": "code",
   "execution_count": 23,
   "metadata": {},
   "outputs": [
    {
     "name": "stdout",
     "output_type": "stream",
     "text": [
      "V1(X)\n"
     ]
    },
    {
     "data": {
      "text/html": [
       "<html><script type=\"math/tex; mode=display\">\\newcommand{\\Bold}[1]{\\mathbf{#1}}s_{3} \\otimes s_{1,1,1} + s_{4} \\otimes s_{1,1,1} + s_{5} \\otimes s_{1,1,1} + s_{6} \\otimes s_{1,1,1}</script></html>"
      ],
      "text/plain": [
       "s[3] # s[1, 1, 1] + s[4] # s[1, 1, 1] + s[5] # s[1, 1, 1] + s[6] # s[1, 1, 1]"
      ]
     },
     "metadata": {},
     "output_type": "display_data"
    },
    {
     "name": "stdout",
     "output_type": "stream",
     "text": [
      "V1(X,Y)\n"
     ]
    },
    {
     "data": {
      "text/html": [
       "<html><script type=\"math/tex; mode=display\">\\newcommand{\\Bold}[1]{\\mathbf{#1}}s_{1,1} \\otimes s_{1,1,1} + s_{2,1} \\otimes s_{1,1,1} + s_{3} \\otimes s_{1,1,1} + 2s_{3,1} \\otimes s_{1,1,1} + s_{4} \\otimes s_{1,1,1} + s_{4,1} \\otimes s_{1,1,1} + s_{5} \\otimes s_{1,1,1} + s_{6} \\otimes s_{1,1,1}</script></html>"
      ],
      "text/plain": [
       "s[1, 1] # s[1, 1, 1] + s[2, 1] # s[1, 1, 1] + s[3] # s[1, 1, 1] + 2*s[3, 1] # s[1, 1, 1] + s[4] # s[1, 1, 1] + s[4, 1] # s[1, 1, 1] + s[5] # s[1, 1, 1] + s[6] # s[1, 1, 1]"
      ]
     },
     "metadata": {},
     "output_type": "display_data"
    },
    {
     "name": "stdout",
     "output_type": "stream",
     "text": [
      "V2(X,Y)\n"
     ]
    },
    {
     "data": {
      "text/html": [
       "<html><script type=\"math/tex; mode=display\">\\newcommand{\\Bold}[1]{\\mathbf{#1}}s_{1,1} \\otimes s_{1,1,1} + s_{2,1} \\otimes s_{1,1,1} - s_{2,2} \\otimes s_{1,1,1} + s_{3} \\otimes s_{1,1,1} + 2s_{3,1} \\otimes s_{1,1,1} + s_{4} \\otimes s_{1,1,1} + s_{4,1} \\otimes s_{1,1,1} + s_{5} \\otimes s_{1,1,1}</script></html>"
      ],
      "text/plain": [
       "s[1, 1] # s[1, 1, 1] + s[2, 1] # s[1, 1, 1] - s[2, 2] # s[1, 1, 1] + s[3] # s[1, 1, 1] + 2*s[3, 1] # s[1, 1, 1] + s[4] # s[1, 1, 1] + s[4, 1] # s[1, 1, 1] + s[5] # s[1, 1, 1]"
      ]
     },
     "metadata": {},
     "output_type": "display_data"
    },
    {
     "name": "stdout",
     "output_type": "stream",
     "text": [
      "V3(X,Y)\n"
     ]
    },
    {
     "data": {
      "text/html": [
       "<html><script type=\"math/tex; mode=display\">\\newcommand{\\Bold}[1]{\\mathbf{#1}}s_{1,1} \\otimes s_{1,1,1} + s_{2,1} \\otimes s_{1,1,1} + s_{3} \\otimes s_{1,1,1} + s_{3,1} \\otimes s_{1,1,1} + s_{4} \\otimes s_{1,1,1} + s_{5} \\otimes s_{1,1,1}</script></html>"
      ],
      "text/plain": [
       "s[1, 1] # s[1, 1, 1] + s[2, 1] # s[1, 1, 1] + s[3] # s[1, 1, 1] + s[3, 1] # s[1, 1, 1] + s[4] # s[1, 1, 1] + s[5] # s[1, 1, 1]"
      ]
     },
     "metadata": {},
     "output_type": "display_data"
    },
    {
     "name": "stdout",
     "output_type": "stream",
     "text": [
      "V1(X,Y)-V2(X,Y)\n"
     ]
    },
    {
     "data": {
      "text/html": [
       "<html><script type=\"math/tex; mode=display\">\\newcommand{\\Bold}[1]{\\mathbf{#1}}s_{2,2} \\otimes s_{1,1,1} + s_{6} \\otimes s_{1,1,1}</script></html>"
      ],
      "text/plain": [
       "s[2, 2] # s[1, 1, 1] + s[6] # s[1, 1, 1]"
      ]
     },
     "metadata": {},
     "output_type": "display_data"
    }
   ],
   "source": [
    "v = vandermonde(Diagram([(0,0),(2,0),(4,0)]))\n",
    "generator = {v.multidegree() : [v]}\n",
    "list_op = {}\n",
    "#list_op = partial_derivatives(v.parent())\n",
    "#list_op = merge(merge(list_op, steenrod_operators(1, 1)), steenrod_operators(1, 2))\n",
    "list_op = merge(list_op, steenrod_operators(1, 1))\n",
    "W1 = Subspace(generators=generator, operators=list_op, add_degrees=add_degree)\n",
    "W1 = IsotypicComponent(W1, Partition([1,1,1]))\n",
    "\n",
    "print \"V1(X)\"\n",
    "show(character(W1))\n",
    "\n",
    "r=2\n",
    "op_pol = polarization_operators(r, max_deg=2)\n",
    "#op_pol = merge(op_pol, steenrod_operators(r, 1)), steenrod_operators(r, 2))\n",
    "W1 = PolarizedSpace(W1, op_pol)\n",
    "\n",
    "print \"V1(X,Y)\"\n",
    "show(character(W1))\n",
    "\n",
    "list_degrees = [tuple((i,j)) for i in range(0, deg) for j in range(0, deg) if i+j>0 and i+j<deg]\n",
    "#sym_diff = symmetric_derivatives(list_degrees)\n",
    "#sym_diff = merge(merge(sym_diff, steenrod_operators(r, 1)), steenrod_operators(r, 2))\n",
    "sym_diff = steenrod_operators(r, 1)\n",
    "W2 = Range(W1, sym_diff, add_degrees=add_degrees_isotypic)\n",
    "W3 = Range(W1, symmetric_derivatives(list_degrees), add_degrees=add_degrees_isotypic )\n",
    "\n",
    "print \"V2(X,Y)\"\n",
    "show(character(W2))\n",
    "print \"V3(X,Y)\"\n",
    "show(character(W3))\n",
    "\n",
    "print \"V1(X,Y)-V2(X,Y)\"\n",
    "charac = character(W1) - character(W2)\n",
    "show(charac)"
   ]
  },
  {
   "cell_type": "markdown",
   "metadata": {},
   "source": [
    "On vérifie ici aussi que **$V_1(X,Y)$ stable par dérivation partielle mais pas $V_2(X,Y)$**. \n",
    "\n",
    "(*Ok pour les partages $3$ et $21$ mais problème avec $111$.*)"
   ]
  },
  {
   "cell_type": "code",
   "execution_count": 24,
   "metadata": {
    "scrolled": false
   },
   "outputs": [
    {
     "data": {
      "text/html": [
       "<html><script type=\"math/tex; mode=display\">\\newcommand{\\Bold}[1]{\\mathbf{#1}}0</script></html>"
      ],
      "text/plain": [
       "0"
      ]
     },
     "metadata": {},
     "output_type": "display_data"
    },
    {
     "data": {
      "text/html": [
       "<html><script type=\"math/tex; mode=display\">\\newcommand{\\Bold}[1]{\\mathbf{#1}}0</script></html>"
      ],
      "text/plain": [
       "0"
      ]
     },
     "metadata": {},
     "output_type": "display_data"
    },
    {
     "name": "stdout",
     "output_type": "stream",
     "text": [
      "\n"
     ]
    },
    {
     "data": {
      "text/html": [
       "<html><script type=\"math/tex; mode=display\">\\newcommand{\\Bold}[1]{\\mathbf{#1}}0</script></html>"
      ],
      "text/plain": [
       "0"
      ]
     },
     "metadata": {},
     "output_type": "display_data"
    },
    {
     "data": {
      "text/html": [
       "<html><script type=\"math/tex; mode=display\">\\newcommand{\\Bold}[1]{\\mathbf{#1}}0</script></html>"
      ],
      "text/plain": [
       "0"
      ]
     },
     "metadata": {},
     "output_type": "display_data"
    }
   ],
   "source": [
    "W12 = Subspace(W1.basis(), merge(partial_derivatives(v.parent()), steenrod_operators(r, 1)), add_degrees=add_degrees_isotypic)\n",
    "#W12 = Isotyp2(W12, 3)\n",
    "W22 = Subspace(W2.basis(), merge(partial_derivatives(v.parent()), steenrod_operators(r, 1)), add_degrees=add_degrees_isotypic)\n",
    "#W22 = Isotyp2(W22, 3)\n",
    "\n",
    "nu = Partition([3])\n",
    "show(character(IsotypicComponent(W1, nu), left_basis=s))\n",
    "show(character(IsotypicComponent(W12, nu), left_basis=s))\n",
    "print \n",
    "show(character(IsotypicComponent(W2, nu), left_basis=s))\n",
    "show(character(IsotypicComponent(W22, nu), left_basis=s))\n",
    "#print \n",
    "#show(character(Isotyp2(W1, nu), 3, r, left_basis=m) - character(Isotyp2(W2, nu), 3, r, left_basis=m))\n",
    "#show(character(Isotyp2(W12, nu), 3, r, left_basis=m) - character(Isotyp2(W22, nu), 3, r, left_basis=m))\n",
    "#show(character(W12, 3, 2))\n",
    "#show(character(W22, 3, 2))"
   ]
  },
  {
   "cell_type": "markdown",
   "metadata": {},
   "source": [
    "Projection sur les composantes isotypiques après polarisation et ajout de tous les opérateurs **sans optimisation**. Et vérification des dimensions.  "
   ]
  },
  {
   "cell_type": "code",
   "execution_count": 25,
   "metadata": {
    "scrolled": false
   },
   "outputs": [
    {
     "name": "stdout",
     "output_type": "stream",
     "text": [
      "dimension 152\n",
      "V1(X,Y)\n"
     ]
    },
    {
     "data": {
      "text/html": [
       "<html><script type=\"math/tex; mode=display\">\\newcommand{\\Bold}[1]{\\mathbf{#1}}s_{} \\otimes s_{3} + s_{1} \\otimes s_{2,1} + s_{1} \\otimes s_{3} + s_{1,1} \\otimes s_{1,1,1} + s_{1,1} \\otimes s_{2,1} + 2s_{2} \\otimes s_{2,1} + 2s_{2} \\otimes s_{3} + s_{2,1} \\otimes s_{1,1,1} + 2s_{2,1} \\otimes s_{2,1} + s_{3} \\otimes s_{1,1,1} + 3s_{3} \\otimes s_{2,1} + s_{3} \\otimes s_{3} + 2s_{3,1} \\otimes s_{1,1,1} + s_{3,1} \\otimes s_{2,1} + s_{4} \\otimes s_{1,1,1} + 3s_{4} \\otimes s_{2,1} + s_{4,1} \\otimes s_{1,1,1} + 2s_{5} \\otimes s_{1,1,1} + s_{5} \\otimes s_{2,1} + s_{6} \\otimes s_{1,1,1}</script></html>"
      ],
      "text/plain": [
       "s[] # s[3] + s[1] # s[2, 1] + s[1] # s[3] + s[1, 1] # s[1, 1, 1] + s[1, 1] # s[2, 1] + 2*s[2] # s[2, 1] + 2*s[2] # s[3] + s[2, 1] # s[1, 1, 1] + 2*s[2, 1] # s[2, 1] + s[3] # s[1, 1, 1] + 3*s[3] # s[2, 1] + s[3] # s[3] + 2*s[3, 1] # s[1, 1, 1] + s[3, 1] # s[2, 1] + s[4] # s[1, 1, 1] + 3*s[4] # s[2, 1] + s[4, 1] # s[1, 1, 1] + 2*s[5] # s[1, 1, 1] + s[5] # s[2, 1] + s[6] # s[1, 1, 1]"
      ]
     },
     "metadata": {},
     "output_type": "display_data"
    },
    {
     "name": "stdout",
     "output_type": "stream",
     "text": [
      "V2(X,Y)\n"
     ]
    },
    {
     "data": {
      "text/html": [
       "<html><script type=\"math/tex; mode=display\">\\newcommand{\\Bold}[1]{\\mathbf{#1}}s_{} \\otimes s_{3} + s_{1} \\otimes s_{2,1} + s_{1} \\otimes s_{3} + s_{1,1} \\otimes s_{1,1,1} + s_{1,1} \\otimes s_{2,1} + 2s_{2} \\otimes s_{2,1} + s_{2} \\otimes s_{3} + s_{2,1} \\otimes s_{1,1,1} + s_{2,1} \\otimes s_{2,1} + s_{3} \\otimes s_{1,1,1} + 2s_{3} \\otimes s_{2,1} + s_{3,1} \\otimes s_{1,1,1} + s_{4} \\otimes s_{1,1,1} + s_{4} \\otimes s_{2,1} + s_{5} \\otimes s_{1,1,1}</script></html>"
      ],
      "text/plain": [
       "s[] # s[3] + s[1] # s[2, 1] + s[1] # s[3] + s[1, 1] # s[1, 1, 1] + s[1, 1] # s[2, 1] + 2*s[2] # s[2, 1] + s[2] # s[3] + s[2, 1] # s[1, 1, 1] + s[2, 1] # s[2, 1] + s[3] # s[1, 1, 1] + 2*s[3] # s[2, 1] + s[3, 1] # s[1, 1, 1] + s[4] # s[1, 1, 1] + s[4] # s[2, 1] + s[5] # s[1, 1, 1]"
      ]
     },
     "metadata": {},
     "output_type": "display_data"
    },
    {
     "name": "stdout",
     "output_type": "stream",
     "text": [
      "V1(X,Y)-V2(X,Y)\n"
     ]
    },
    {
     "data": {
      "text/html": [
       "<html><script type=\"math/tex; mode=display\">\\newcommand{\\Bold}[1]{\\mathbf{#1}}s_{2} \\otimes s_{3} + s_{2,1} \\otimes s_{2,1} + s_{3} \\otimes s_{2,1} + s_{3} \\otimes s_{3} + s_{3,1} \\otimes s_{1,1,1} + s_{3,1} \\otimes s_{2,1} + 2s_{4} \\otimes s_{2,1} + s_{4,1} \\otimes s_{1,1,1} + s_{5} \\otimes s_{1,1,1} + s_{5} \\otimes s_{2,1} + s_{6} \\otimes s_{1,1,1}</script></html>"
      ],
      "text/plain": [
       "s[2] # s[3] + s[2, 1] # s[2, 1] + s[3] # s[2, 1] + s[3] # s[3] + s[3, 1] # s[1, 1, 1] + s[3, 1] # s[2, 1] + 2*s[4] # s[2, 1] + s[4, 1] # s[1, 1, 1] + s[5] # s[1, 1, 1] + s[5] # s[2, 1] + s[6] # s[1, 1, 1]"
      ]
     },
     "execution_count": 25,
     "metadata": {},
     "output_type": "execute_result"
    }
   ],
   "source": [
    "def add_degrees_test(gen_deg, op_deg):\n",
    "    return gen_deg+op_deg\n",
    "\n",
    "r = 2\n",
    "v = vandermonde(Diagram([(0,0),(2,0),(4,0)]), r)\n",
    "generator = {v.multidegree() : [v]}\n",
    "list_op = partial_derivatives(v.parent())\n",
    "list_op = merge(merge(list_op, steenrod_operators(r, 1)), steenrod_operators(r, 2))\n",
    "list_op = merge(list_op, polarization_operators(r, max_deg=4))\n",
    "W1 = Subspace(generators=generator, operators=list_op, add_degrees=add_degree)\n",
    "\n",
    "list_degrees = [tuple((i,j)) for i in range(0,deg+1) for j in range(0,deg+1) if i+j!=0 and i+j<deg+1]\n",
    "sym_diff = symmetric_derivatives(list_degrees)\n",
    "#sym_diff = merge(merge(sym_diff, steenrod_operators(r, 1)), steenrod_operators(r, 2))\n",
    "W2 = Range(W1, sym_diff, add_degrees=add_degrees_test)\n",
    "\n",
    "print 'dimension', W1.dimension()\n",
    "W1 = IsotypicComponent(W1, 3)\n",
    "print \"V1(X,Y)\"\n",
    "show(character(W1))\n",
    "#print 'dimension', dimension2(character(W1), 3)\n",
    "\n",
    "W2 = IsotypicComponent(W2, 3)\n",
    "print \"V2(X,Y)\"\n",
    "show(character(W2))\n",
    "\n",
    "charac = character(W1) - character(W2)\n",
    "print \"V1(X,Y)-V2(X,Y)\"\n",
    "charac"
   ]
  },
  {
   "cell_type": "markdown",
   "metadata": {},
   "source": [
    "Construction du **quotient avec des générateurs différents** : utilisant les déplacements des cases. Avec les opérateurs actuels, on retrouve bien le caractère obtenu en quotientant avant de polariser. "
   ]
  },
  {
   "cell_type": "code",
   "execution_count": 26,
   "metadata": {},
   "outputs": [
    {
     "name": "stdout",
     "output_type": "stream",
     "text": [
      "V1_014(X,Y)\n"
     ]
    },
    {
     "data": {
      "text/html": [
       "<html><script type=\"math/tex; mode=display\">\\newcommand{\\Bold}[1]{\\mathbf{#1}}s_{} \\otimes s_{3} + s_{1} \\otimes s_{2,1} + s_{1} \\otimes s_{3} + s_{1,1} \\otimes s_{1,1,1} + s_{1,1} \\otimes s_{2,1} + 2s_{2} \\otimes s_{2,1} + s_{2} \\otimes s_{3} + s_{2,1} \\otimes s_{1,1,1} + s_{2,1} \\otimes s_{2,1} + s_{3} \\otimes s_{1,1,1} + 2s_{3} \\otimes s_{2,1} + s_{3,1} \\otimes s_{1,1,1} + s_{4} \\otimes s_{1,1,1} + s_{4} \\otimes s_{2,1} + s_{5} \\otimes s_{1,1,1}</script></html>"
      ],
      "text/plain": [
       "s[] # s[3] + s[1] # s[2, 1] + s[1] # s[3] + s[1, 1] # s[1, 1, 1] + s[1, 1] # s[2, 1] + 2*s[2] # s[2, 1] + s[2] # s[3] + s[2, 1] # s[1, 1, 1] + s[2, 1] # s[2, 1] + s[3] # s[1, 1, 1] + 2*s[3] # s[2, 1] + s[3, 1] # s[1, 1, 1] + s[4] # s[1, 1, 1] + s[4] # s[2, 1] + s[5] # s[1, 1, 1]"
      ]
     },
     "metadata": {},
     "output_type": "display_data"
    },
    {
     "name": "stdout",
     "output_type": "stream",
     "text": [
      "V1_013(X,Y)\n"
     ]
    },
    {
     "data": {
      "text/html": [
       "<html><script type=\"math/tex; mode=display\">\\newcommand{\\Bold}[1]{\\mathbf{#1}}s_{} \\otimes s_{3} + s_{1} \\otimes s_{2,1} + s_{1} \\otimes s_{3} + s_{1,1} \\otimes s_{1,1,1} + s_{1,1} \\otimes s_{2,1} + 2s_{2} \\otimes s_{2,1} + s_{2,1} \\otimes s_{1,1,1} + s_{3} \\otimes s_{1,1,1} + s_{3} \\otimes s_{2,1} + s_{4} \\otimes s_{1,1,1}</script></html>"
      ],
      "text/plain": [
       "s[] # s[3] + s[1] # s[2, 1] + s[1] # s[3] + s[1, 1] # s[1, 1, 1] + s[1, 1] # s[2, 1] + 2*s[2] # s[2, 1] + s[2, 1] # s[1, 1, 1] + s[3] # s[1, 1, 1] + s[3] # s[2, 1] + s[4] # s[1, 1, 1]"
      ]
     },
     "metadata": {},
     "output_type": "display_data"
    },
    {
     "name": "stdout",
     "output_type": "stream",
     "text": [
      "V1_012(X,Y)\n"
     ]
    },
    {
     "data": {
      "text/html": [
       "<html><script type=\"math/tex; mode=display\">\\newcommand{\\Bold}[1]{\\mathbf{#1}}s_{} \\otimes s_{3} + s_{1} \\otimes s_{2,1} + s_{1,1} \\otimes s_{1,1,1} + s_{2} \\otimes s_{2,1} + s_{3} \\otimes s_{1,1,1}</script></html>"
      ],
      "text/plain": [
       "s[] # s[3] + s[1] # s[2, 1] + s[1, 1] # s[1, 1, 1] + s[2] # s[2, 1] + s[3] # s[1, 1, 1]"
      ]
     },
     "metadata": {},
     "output_type": "display_data"
    },
    {
     "name": "stdout",
     "output_type": "stream",
     "text": [
      "V1_023(X,Y)\n"
     ]
    },
    {
     "data": {
      "text/html": [
       "<html><script type=\"math/tex; mode=display\">\\newcommand{\\Bold}[1]{\\mathbf{#1}}s_{} \\otimes s_{3} + s_{1} \\otimes s_{2,1} + s_{1} \\otimes s_{3} + s_{1,1} \\otimes s_{1,1,1} + s_{1,1} \\otimes s_{2,1} + 2s_{2} \\otimes s_{2,1} + s_{2} \\otimes s_{3} + s_{2,1} \\otimes s_{1,1,1} + s_{2,1} \\otimes s_{2,1} + s_{3} \\otimes s_{1,1,1} + 2s_{3} \\otimes s_{2,1} + s_{3,1} \\otimes s_{1,1,1} + s_{4} \\otimes s_{1,1,1} + s_{4} \\otimes s_{2,1} + s_{5} \\otimes s_{1,1,1}</script></html>"
      ],
      "text/plain": [
       "s[] # s[3] + s[1] # s[2, 1] + s[1] # s[3] + s[1, 1] # s[1, 1, 1] + s[1, 1] # s[2, 1] + 2*s[2] # s[2, 1] + s[2] # s[3] + s[2, 1] # s[1, 1, 1] + s[2, 1] # s[2, 1] + s[3] # s[1, 1, 1] + 2*s[3] # s[2, 1] + s[3, 1] # s[1, 1, 1] + s[4] # s[1, 1, 1] + s[4] # s[2, 1] + s[5] # s[1, 1, 1]"
      ]
     },
     "metadata": {},
     "output_type": "display_data"
    },
    {
     "name": "stdout",
     "output_type": "stream",
     "text": [
      "V1(X,Y)\n"
     ]
    },
    {
     "data": {
      "text/html": [
       "<html><script type=\"math/tex; mode=display\">\\newcommand{\\Bold}[1]{\\mathbf{#1}}s_{} \\otimes s_{3} + s_{1} \\otimes s_{2,1} + s_{1} \\otimes s_{3} + s_{1,1} \\otimes s_{1,1,1} + s_{1,1} \\otimes s_{2,1} + 2s_{2} \\otimes s_{2,1} + 2s_{2} \\otimes s_{3} + s_{2,1} \\otimes s_{1,1,1} + 2s_{2,1} \\otimes s_{2,1} + s_{3} \\otimes s_{1,1,1} + 3s_{3} \\otimes s_{2,1} + s_{3} \\otimes s_{3} + 2s_{3,1} \\otimes s_{1,1,1} + s_{3,1} \\otimes s_{2,1} + s_{4} \\otimes s_{1,1,1} + 3s_{4} \\otimes s_{2,1} + s_{4,1} \\otimes s_{1,1,1} + 2s_{5} \\otimes s_{1,1,1} + s_{5} \\otimes s_{2,1} + s_{6} \\otimes s_{1,1,1}</script></html>"
      ],
      "text/plain": [
       "s[] # s[3] + s[1] # s[2, 1] + s[1] # s[3] + s[1, 1] # s[1, 1, 1] + s[1, 1] # s[2, 1] + 2*s[2] # s[2, 1] + 2*s[2] # s[3] + s[2, 1] # s[1, 1, 1] + 2*s[2, 1] # s[2, 1] + s[3] # s[1, 1, 1] + 3*s[3] # s[2, 1] + s[3] # s[3] + 2*s[3, 1] # s[1, 1, 1] + s[3, 1] # s[2, 1] + s[4] # s[1, 1, 1] + 3*s[4] # s[2, 1] + s[4, 1] # s[1, 1, 1] + 2*s[5] # s[1, 1, 1] + s[5] # s[2, 1] + s[6] # s[1, 1, 1]"
      ]
     },
     "metadata": {},
     "output_type": "display_data"
    },
    {
     "name": "stdout",
     "output_type": "stream",
     "text": [
      "V1_tot(X,Y)\n"
     ]
    },
    {
     "data": {
      "text/html": [
       "<html><script type=\"math/tex; mode=display\">\\newcommand{\\Bold}[1]{\\mathbf{#1}}s_{} \\otimes s_{3} + s_{1} \\otimes s_{2,1} + s_{1} \\otimes s_{3} + s_{1,1} \\otimes s_{1,1,1} + s_{1,1} \\otimes s_{2,1} + 2s_{2} \\otimes s_{2,1} + 2s_{2} \\otimes s_{3} + s_{2,1} \\otimes s_{1,1,1} + 2s_{2,1} \\otimes s_{2,1} + s_{3} \\otimes s_{1,1,1} + 3s_{3} \\otimes s_{2,1} + 2s_{3,1} \\otimes s_{1,1,1} + s_{4} \\otimes s_{1,1,1} + 2s_{4} \\otimes s_{2,1} + 2s_{5} \\otimes s_{1,1,1}</script></html>"
      ],
      "text/plain": [
       "s[] # s[3] + s[1] # s[2, 1] + s[1] # s[3] + s[1, 1] # s[1, 1, 1] + s[1, 1] # s[2, 1] + 2*s[2] # s[2, 1] + 2*s[2] # s[3] + s[2, 1] # s[1, 1, 1] + 2*s[2, 1] # s[2, 1] + s[3] # s[1, 1, 1] + 3*s[3] # s[2, 1] + 2*s[3, 1] # s[1, 1, 1] + s[4] # s[1, 1, 1] + 2*s[4] # s[2, 1] + 2*s[5] # s[1, 1, 1]"
      ]
     },
     "metadata": {},
     "output_type": "display_data"
    },
    {
     "name": "stdout",
     "output_type": "stream",
     "text": [
      "diff\n"
     ]
    },
    {
     "data": {
      "text/html": [
       "<html><script type=\"math/tex; mode=display\">\\newcommand{\\Bold}[1]{\\mathbf{#1}}s_{3} \\otimes s_{3} + s_{3,1} \\otimes s_{2,1} + s_{4} \\otimes s_{2,1} + s_{4,1} \\otimes s_{1,1,1} + s_{5} \\otimes s_{2,1} + s_{6} \\otimes s_{1,1,1}</script></html>"
      ],
      "text/plain": [
       "s[3] # s[3] + s[3, 1] # s[2, 1] + s[4] # s[2, 1] + s[4, 1] # s[1, 1, 1] + s[5] # s[2, 1] + s[6] # s[1, 1, 1]"
      ]
     },
     "metadata": {},
     "output_type": "display_data"
    }
   ],
   "source": [
    "r = 2\n",
    "v = vandermonde(Diagram([(0,0),(2,0),(4,0)]), r)\n",
    "generator = {v.multidegree() : [v]}\n",
    "list_op = partial_derivatives(v.parent())\n",
    "list_op = merge(merge(list_op, steenrod_operators(r, 1)), steenrod_operators(r, 2))\n",
    "list_op = merge(list_op, polarization_operators(r, max_deg=4))\n",
    "W1 = Subspace(generators=generator, operators=list_op, add_degrees=add_degree)\n",
    "\n",
    "v014 = vandermonde(Diagram([(0,0),(1,0),(4,0)]), r)\n",
    "generator014 = {v014.multidegree() : [v014]}\n",
    "W1_014 = Subspace(generators=generator014, operators=list_op, add_degrees=add_degree)\n",
    "W1_014 = IsotypicComponent(W1_014, 3)\n",
    "print \"V1_014(X,Y)\"\n",
    "show(character(W1_014))\n",
    "\n",
    "v013 = vandermonde(Diagram([(0,0),(1,0),(3,0)]), r)\n",
    "generator013 = {v013.multidegree() : [v013]}\n",
    "W1_013 = Subspace(generators=generator013, operators=list_op, add_degrees=add_degree)\n",
    "W1_013 = IsotypicComponent(W1_013, 3)\n",
    "print \"V1_013(X,Y)\"\n",
    "show(character(W1_013))\n",
    "\n",
    "v012 = vandermonde(Diagram([(0,0),(1,0),(2,0)]), r)\n",
    "generator012 = {v012.multidegree() : [v012]}\n",
    "W1_012 = Subspace(generators=generator012, operators=list_op, add_degrees=add_degree)\n",
    "W1_012 = IsotypicComponent(W1_012, 3)\n",
    "print \"V1_012(X,Y)\"\n",
    "show(character(W1_012))\n",
    "\n",
    "v023 = vandermonde(Diagram([(0,0),(2,0),(3,0)]), r)\n",
    "generator023 = {v023.multidegree() : [v023]}\n",
    "W1_023 = Subspace(generators=generator023, operators=list_op, add_degrees=add_degree)\n",
    "W1_023 = IsotypicComponent(W1_023, 3)\n",
    "print \"V1_023(X,Y)\"\n",
    "show(character(W1_023))\n",
    "\n",
    "generators = {v023.multidegree() : [v023, v014], v013.multidegree() : [v013], v012.multidegree() : [v012]}\n",
    "W1_tot = Subspace(generators=generators, operators=list_op, add_degrees=add_degree)\n",
    "\n",
    "list_degrees = [tuple((i,j)) for i in range(0,deg+1) for j in range(0,deg+1) if i+j!=0 and i+j<deg+1]\n",
    "sym_diff = symmetric_derivatives(list_degrees)\n",
    "W2 = Range(W1, sym_diff, add_degrees=add_degrees_test)\n",
    "W2_tot = Range(W1_tot, sym_diff, add_degrees=add_degrees_test)\n",
    "\n",
    "W1 = IsotypicComponent(W1, 3)\n",
    "print \"V1(X,Y)\"\n",
    "show(character(W1))\n",
    "\n",
    "W1_tot = IsotypicComponent(W1_tot, 3)\n",
    "W2_tot = IsotypicComponent(W2_tot, 3)\n",
    "print \"V1_tot(X,Y)\"\n",
    "show(character(W1_tot))\n",
    "print \"diff\"\n",
    "show(character(W1) - character(W1_tot))"
   ]
  },
  {
   "cell_type": "markdown",
   "metadata": {},
   "source": [
    "**Vérification de l'indépendance linéaire des opérateurs.** But trouver celui qui va nous permettre d'obtenir $s_{22}$"
   ]
  },
  {
   "cell_type": "code",
   "execution_count": 27,
   "metadata": {},
   "outputs": [
    {
     "data": {
      "text/html": [
       "<html><script type=\"math/tex; mode=display\">\\newcommand{\\Bold}[1]{\\mathbf{#1}}-48 x_{00}^{2} x_{10} x_{11} + 48 x_{01}^{2} x_{10} x_{11} + 48 x_{00}^{2} x_{10} x_{12} - 48 x_{02}^{2} x_{10} x_{12} - 48 x_{01}^{2} x_{11} x_{12} + 48 x_{02}^{2} x_{11} x_{12}</script></html>"
      ],
      "text/plain": [
       "-48*x00^2*x10*x11 + 48*x01^2*x10*x11 + 48*x00^2*x10*x12 - 48*x02^2*x10*x12 - 48*x01^2*x11*x12 + 48*x02^2*x11*x12"
      ]
     },
     "metadata": {},
     "output_type": "display_data"
    },
    {
     "data": {
      "text/html": [
       "<html><script type=\"math/tex; mode=display\">\\newcommand{\\Bold}[1]{\\mathbf{#1}}\\left\\{0 : \\left(-x_{00} x_{01} x_{10}^{2} + x_{00} x_{02} x_{10}^{2} + x_{00} x_{01} x_{11}^{2} - x_{01} x_{02} x_{11}^{2} - x_{00} x_{02} x_{12}^{2} + x_{01} x_{02} x_{12}^{2}, -x_{01}^{2} x_{10}^{2} + x_{02}^{2} x_{10}^{2} + x_{00}^{2} x_{11}^{2} - x_{02}^{2} x_{11}^{2} - x_{00}^{2} x_{12}^{2} + x_{01}^{2} x_{12}^{2}, x_{00}^{2} x_{10} x_{11} - x_{01}^{2} x_{10} x_{11} - x_{00}^{2} x_{10} x_{12} + x_{02}^{2} x_{10} x_{12} + x_{01}^{2} x_{11} x_{12} - x_{02}^{2} x_{11} x_{12}\\right)\\right\\}</script></html>"
      ],
      "text/plain": [
       "{0: (-x00*x01*x10^2 + x00*x02*x10^2 + x00*x01*x11^2 - x01*x02*x11^2 - x00*x02*x12^2 + x01*x02*x12^2,\n",
       "  -x01^2*x10^2 + x02^2*x10^2 + x00^2*x11^2 - x02^2*x11^2 - x00^2*x12^2 + x01^2*x12^2,\n",
       "  x00^2*x10*x11 - x01^2*x10*x11 - x00^2*x10*x12 + x02^2*x10*x12 + x01^2*x11*x12 - x02^2*x11*x12)}"
      ]
     },
     "metadata": {},
     "output_type": "display_data"
    },
    {
     "data": {
      "text/html": [
       "<html><script type=\"math/tex; mode=display\">\\newcommand{\\Bold}[1]{\\mathbf{#1}}3</script></html>"
      ],
      "text/plain": [
       "3"
      ]
     },
     "execution_count": 27,
     "metadata": {},
     "output_type": "execute_result"
    }
   ],
   "source": [
    "P1 = DiagonalPolynomialRing(QQ, 3, 2)\n",
    "v = vandermonde(Diagram([(0,0),(2,0),(4,0)]))\n",
    "x = P1.multivar_pol_ring_variables()[0]\n",
    "y = P1.multivar_pol_ring_variables()[1]\n",
    "\n",
    "#grand vert = B\n",
    "f1 = sum(y[i]*derivative(P1(v), x[i]) for i in range(0,3))\n",
    "B = sum(y[i]*derivative(P1(f1), x[i], 3) for i in range(0,3))\n",
    "\n",
    "#petit vert\n",
    "f3 = sum(y[i]*derivative(P1(v), x[i], 2) for i in range(0,3))\n",
    "Z = sum(y[i]*derivative(P1(f3), x[i], 2) for i in range(0,3))\n",
    "\n",
    "#rouge = A\n",
    "f5 = sum(y[i]*derivative(P1(v), x[i]) for i in range(0,3))\n",
    "f6 = sum(derivative(P1(f5), x[i]) for i in range(0,3))\n",
    "A = sum(y[i]*derivative(P1(f6), x[i], 2) for i in range(0,3))\n",
    "\n",
    "#bleu = C\n",
    "f8 = sum(derivative(P1(v), x[i]) for i in range(0,3))\n",
    "f9 = sum(derivative(P1(f8), x[i]) for i in range(0,3))\n",
    "f10 = sum(y[i]*derivative(P1(f9), x[i]) for i in range(0,3))\n",
    "C = sum(y[i]*derivative(P1(f10), x[i]) for i in range(0,3))\n",
    "\n",
    "g1 = sum(x[i]*derivative(P1(v), x[i], 2) for i in range(0,3))\n",
    "g2 = sum(y[i]*derivative(P1(g1), x[i], 2) for i in range(0,3))\n",
    "D = sum(y[i]*derivative(P1(g2), x[i]) for i in range(0,3))\n",
    "\n",
    "#test element\n",
    "g3 = sum(y[i]*derivative(P1(v), x[i], 2) for i in range(0,3))\n",
    "E = sum(x[i]*y[i]*derivative(P1(g3), x[i], 3) for i in range(0,3))\n",
    "\n",
    "show(E)\n",
    "\n",
    "S = Subspace([A, B, C, D, E])\n",
    "show(S.basis())\n",
    "S.dimension()"
   ]
  },
  {
   "cell_type": "markdown",
   "metadata": {},
   "source": [
    "# Tests pour these : 13 aout"
   ]
  },
  {
   "cell_type": "markdown",
   "metadata": {},
   "source": [
    "### polarisation puis quotient "
   ]
  },
  {
   "cell_type": "code",
   "execution_count": 28,
   "metadata": {},
   "outputs": [
    {
     "name": "stdout",
     "output_type": "stream",
     "text": [
      "V2(X,Y)\n"
     ]
    },
    {
     "data": {
      "text/html": [
       "<html><script type=\"math/tex; mode=display\">\\newcommand{\\Bold}[1]{\\mathbf{#1}}s_{1,1} \\otimes s_{1,1,1} + s_{2,1} \\otimes s_{1,1,1} + s_{3} \\otimes s_{1,1,1} + s_{3,1} \\otimes s_{1,1,1} + s_{4} \\otimes s_{1,1,1} + s_{5} \\otimes s_{1,1,1}</script></html>"
      ],
      "text/plain": [
       "s[1, 1] # s[1, 1, 1] + s[2, 1] # s[1, 1, 1] + s[3] # s[1, 1, 1] + s[3, 1] # s[1, 1, 1] + s[4] # s[1, 1, 1] + s[5] # s[1, 1, 1]"
      ]
     },
     "metadata": {},
     "output_type": "display_data"
    },
    {
     "name": "stdout",
     "output_type": "stream",
     "text": [
      "V1(X,Y)-V2(X,Y)\n"
     ]
    },
    {
     "data": {
      "text/html": [
       "<html><script type=\"math/tex; mode=display\">\\newcommand{\\Bold}[1]{\\mathbf{#1}}s_{3,1} \\otimes s_{1,1,1} + s_{4,1} \\otimes s_{1,1,1} + s_{5} \\otimes s_{1,1,1} + s_{6} \\otimes s_{1,1,1}</script></html>"
      ],
      "text/plain": [
       "s[3, 1] # s[1, 1, 1] + s[4, 1] # s[1, 1, 1] + s[5] # s[1, 1, 1] + s[6] # s[1, 1, 1]"
      ]
     },
     "metadata": {},
     "output_type": "display_data"
    }
   ],
   "source": [
    "v = vandermonde(Diagram([(0,0),(2,0),(4,0)]))\n",
    "generator = {v.multidegree() : [v]}\n",
    "list_op = partial_derivatives(v.parent())\n",
    "W1 = Subspace(generators=generator, operators=list_op, add_degrees=add_degree)\n",
    "W1 = IsotypicComponent(W1, Partition([1,1,1]))\n",
    "\n",
    "#print \"V1(X)\"\n",
    "#show(character(W1))\n",
    "\n",
    "r=2\n",
    "op_pol = polarization_operators(r, max_deg=v.degree(), side=\"down\")\n",
    "op_pol = merge(merge(op_pol, steenrod_operators(r, 1)), steenrod_operators(r, 2))\n",
    "W1 = PolarizedSpace(W1, op_pol)\n",
    "\n",
    "#print \"V1(X,Y)\"\n",
    "#show(character(W1))\n",
    "\n",
    "deg = v.degree()\n",
    "list_degrees = [tuple((i,j)) for i in range(0, deg) for j in range(0, deg) if i+j>0 and i+j<deg]\n",
    "sym_diff = symmetric_derivatives(list_degrees)\n",
    "W2 = Range(W1, sym_diff, add_degrees=add_degrees_isotypic)\n",
    "\n",
    "print \"V2(X,Y)\"\n",
    "show(character(W2))\n",
    "\n",
    "print \"V1(X,Y)-V2(X,Y)\"\n",
    "charac = character(W1) - character(W2)\n",
    "show(charac)"
   ]
  },
  {
   "cell_type": "markdown",
   "metadata": {},
   "source": [
    "uniquement $St_x$"
   ]
  },
  {
   "cell_type": "code",
   "execution_count": 29,
   "metadata": {},
   "outputs": [
    {
     "name": "stdout",
     "output_type": "stream",
     "text": [
      "V2(X,Y)\n"
     ]
    },
    {
     "data": {
      "text/html": [
       "<html><script type=\"math/tex; mode=display\">\\newcommand{\\Bold}[1]{\\mathbf{#1}}s_{1,1} \\otimes s_{1,1,1} + s_{2,1} \\otimes s_{1,1,1} + s_{3} \\otimes s_{1,1,1} + s_{3,1} \\otimes s_{1,1,1} + s_{4} \\otimes s_{1,1,1} + s_{5} \\otimes s_{1,1,1}</script></html>"
      ],
      "text/plain": [
       "s[1, 1] # s[1, 1, 1] + s[2, 1] # s[1, 1, 1] + s[3] # s[1, 1, 1] + s[3, 1] # s[1, 1, 1] + s[4] # s[1, 1, 1] + s[5] # s[1, 1, 1]"
      ]
     },
     "metadata": {},
     "output_type": "display_data"
    },
    {
     "name": "stdout",
     "output_type": "stream",
     "text": [
      "V1(X,Y)-V2(X,Y)\n"
     ]
    },
    {
     "data": {
      "text/html": [
       "<html><script type=\"math/tex; mode=display\">\\newcommand{\\Bold}[1]{\\mathbf{#1}}s_{3,1} \\otimes s_{1,1,1} + s_{4,1} \\otimes s_{1,1,1} + s_{6} \\otimes s_{1,1,1}</script></html>"
      ],
      "text/plain": [
       "s[3, 1] # s[1, 1, 1] + s[4, 1] # s[1, 1, 1] + s[6] # s[1, 1, 1]"
      ]
     },
     "metadata": {},
     "output_type": "display_data"
    }
   ],
   "source": [
    "v = vandermonde(Diagram([(0,0),(2,0),(4,0)]))\n",
    "generator = {v.multidegree() : [v]}\n",
    "list_op = merge(steenrod_operators(1, 1), steenrod_operators(1,2))\n",
    "W1 = Subspace(generators=generator, operators=list_op, add_degrees=add_degree)\n",
    "W1 = IsotypicComponent(W1, Partition([1,1,1]))\n",
    "\n",
    "#print \"V1(X)\"\n",
    "#show(character(W1))\n",
    "\n",
    "r=2\n",
    "op_pol = polarization_operators(r, max_deg=v.degree(), side=\"down\")\n",
    "op_pol = merge(merge(op_pol, steenrod_operators(r, 1)), steenrod_operators(r, 2))\n",
    "W1 = PolarizedSpace(W1, op_pol)\n",
    "\n",
    "#print \"V1(X,Y)\"\n",
    "#show(character(W1))\n",
    "\n",
    "deg = v.degree()\n",
    "list_degrees = [tuple((i,j)) for i in range(0, deg) for j in range(0, deg) if i+j>0 and i+j<deg]\n",
    "sym_diff = symmetric_derivatives(list_degrees)\n",
    "W2 = Range(W1, sym_diff, add_degrees=add_degrees_isotypic)\n",
    "\n",
    "print \"V2(X,Y)\"\n",
    "show(character(W2))\n",
    "\n",
    "print \"V1(X,Y)-V2(X,Y)\"\n",
    "charac = character(W1) - character(W2)\n",
    "show(charac)"
   ]
  },
  {
   "cell_type": "markdown",
   "metadata": {},
   "source": [
    "polarisation puis quotient avec $St_x$"
   ]
  },
  {
   "cell_type": "code",
   "execution_count": 30,
   "metadata": {},
   "outputs": [
    {
     "name": "stdout",
     "output_type": "stream",
     "text": [
      "V2(X,Y)\n"
     ]
    },
    {
     "data": {
      "text/html": [
       "<html><script type=\"math/tex; mode=display\">\\newcommand{\\Bold}[1]{\\mathbf{#1}}s_{1,1} \\otimes s_{1,1,1} + s_{2,1} \\otimes s_{1,1,1} + s_{3} \\otimes s_{1,1,1} + s_{3,1} \\otimes s_{1,1,1} + s_{4} \\otimes s_{1,1,1} + s_{5} \\otimes s_{1,1,1}</script></html>"
      ],
      "text/plain": [
       "s[1, 1] # s[1, 1, 1] + s[2, 1] # s[1, 1, 1] + s[3] # s[1, 1, 1] + s[3, 1] # s[1, 1, 1] + s[4] # s[1, 1, 1] + s[5] # s[1, 1, 1]"
      ]
     },
     "metadata": {},
     "output_type": "display_data"
    },
    {
     "name": "stdout",
     "output_type": "stream",
     "text": [
      "V1(X,Y)-V2(X,Y)\n"
     ]
    },
    {
     "data": {
      "text/html": [
       "<html><script type=\"math/tex; mode=display\">\\newcommand{\\Bold}[1]{\\mathbf{#1}}s_{3,1} \\otimes s_{1,1,1} + s_{4,1} \\otimes s_{1,1,1} + s_{5} \\otimes s_{1,1,1} + s_{6} \\otimes s_{1,1,1}</script></html>"
      ],
      "text/plain": [
       "s[3, 1] # s[1, 1, 1] + s[4, 1] # s[1, 1, 1] + s[5] # s[1, 1, 1] + s[6] # s[1, 1, 1]"
      ]
     },
     "metadata": {},
     "output_type": "display_data"
    }
   ],
   "source": [
    "v = vandermonde(Diagram([(0,0),(2,0),(4,0)]))\n",
    "generator = {v.multidegree() : [v]}\n",
    "list_op = partial_derivatives(v.parent())\n",
    "list_op = merge(merge(list_op, steenrod_operators(1, 1)), steenrod_operators(1,2))\n",
    "W1 = Subspace(generators=generator, operators=list_op, add_degrees=add_degree)\n",
    "W1 = IsotypicComponent(W1, Partition([1,1,1]))\n",
    "\n",
    "#print \"V1(X)\"\n",
    "#show(character(W1))\n",
    "\n",
    "r=2\n",
    "op_pol = polarization_operators(r, max_deg=v.degree(), side=\"down\")\n",
    "op_pol = merge(merge(op_pol, steenrod_operators(r, 1)), steenrod_operators(r, 2))\n",
    "W1 = PolarizedSpace(W1, op_pol)\n",
    "\n",
    "#print \"V1(X,Y)\"\n",
    "#show(character(W1))\n",
    "\n",
    "deg = v.degree()\n",
    "list_degrees = [tuple((i,j)) for i in range(0, deg) for j in range(0, deg) if i+j>0 and i+j<deg]\n",
    "sym_diff = symmetric_derivatives(list_degrees)\n",
    "W2 = Range(W1, sym_diff, add_degrees=add_degrees_isotypic)\n",
    "\n",
    "print \"V2(X,Y)\"\n",
    "show(character(W2))\n",
    "\n",
    "print \"V1(X,Y)-V2(X,Y)\"\n",
    "charac = character(W1) - character(W2)\n",
    "show(charac)"
   ]
  },
  {
   "cell_type": "markdown",
   "metadata": {},
   "source": [
    "polarisation puis quotient avec $St_x$ et $St$ dans quotient"
   ]
  },
  {
   "cell_type": "code",
   "execution_count": 31,
   "metadata": {},
   "outputs": [
    {
     "name": "stdout",
     "output_type": "stream",
     "text": [
      "V2(X,Y)\n"
     ]
    },
    {
     "data": {
      "text/html": [
       "<html><script type=\"math/tex; mode=display\">\\newcommand{\\Bold}[1]{\\mathbf{#1}}s_{1,1} \\otimes s_{1,1,1} + s_{2,1} \\otimes s_{1,1,1} + s_{3} \\otimes s_{1,1,1} + 2s_{3,1} \\otimes s_{1,1,1} + s_{4} \\otimes s_{1,1,1} + s_{4,1} \\otimes s_{1,1,1} + 2s_{5} \\otimes s_{1,1,1}</script></html>"
      ],
      "text/plain": [
       "s[1, 1] # s[1, 1, 1] + s[2, 1] # s[1, 1, 1] + s[3] # s[1, 1, 1] + 2*s[3, 1] # s[1, 1, 1] + s[4] # s[1, 1, 1] + s[4, 1] # s[1, 1, 1] + 2*s[5] # s[1, 1, 1]"
      ]
     },
     "metadata": {},
     "output_type": "display_data"
    },
    {
     "name": "stdout",
     "output_type": "stream",
     "text": [
      "V1(X,Y)-V2(X,Y)\n"
     ]
    },
    {
     "data": {
      "text/html": [
       "<html><script type=\"math/tex; mode=display\">\\newcommand{\\Bold}[1]{\\mathbf{#1}}s_{6} \\otimes s_{1,1,1}</script></html>"
      ],
      "text/plain": [
       "s[6] # s[1, 1, 1]"
      ]
     },
     "metadata": {},
     "output_type": "display_data"
    }
   ],
   "source": [
    "v = vandermonde(Diagram([(0,0),(2,0),(4,0)]))\n",
    "generator = {v.multidegree() : [v]}\n",
    "list_op = partial_derivatives(v.parent())\n",
    "list_op = merge(merge(list_op, steenrod_operators(1, 1)), steenrod_operators(1,2))\n",
    "W1 = Subspace(generators=generator, operators=list_op, add_degrees=add_degree)\n",
    "W1 = IsotypicComponent(W1, Partition([1,1,1]))\n",
    "\n",
    "#print \"V1(X)\"\n",
    "#show(character(W1))\n",
    "\n",
    "r=2\n",
    "op_pol = polarization_operators(r, max_deg=v.degree(), side=\"down\")\n",
    "op_pol = merge(merge(op_pol, steenrod_operators(r, 1)), steenrod_operators(r, 2))\n",
    "W1 = PolarizedSpace(W1, op_pol)\n",
    "\n",
    "#print \"V1(X,Y)\"\n",
    "#show(character(W1))\n",
    "\n",
    "deg = v.degree()\n",
    "list_degrees = [tuple((i,j)) for i in range(0, deg) for j in range(0, deg) if i+j>0 and i+j<deg]\n",
    "sym_diff = symmetric_derivatives(list_degrees)\n",
    "sym_diff = merge(merge(sym_diff, steenrod_operators(r, 1)), steenrod_operators(r, 2))\n",
    "W2 = Range(W1, sym_diff, add_degrees=add_degrees_isotypic)\n",
    "\n",
    "print \"V2(X,Y)\"\n",
    "show(character(W2))\n",
    "\n",
    "print \"V1(X,Y)-V2(X,Y)\"\n",
    "charac = character(W1) - character(W2)\n",
    "show(charac)"
   ]
  },
  {
   "cell_type": "markdown",
   "metadata": {},
   "source": [
    "uniquement $St_x$ + $St$"
   ]
  },
  {
   "cell_type": "code",
   "execution_count": 32,
   "metadata": {},
   "outputs": [
    {
     "name": "stdout",
     "output_type": "stream",
     "text": [
      "V2(X,Y)\n"
     ]
    },
    {
     "data": {
      "text/html": [
       "<html><script type=\"math/tex; mode=display\">\\newcommand{\\Bold}[1]{\\mathbf{#1}}s_{1,1} \\otimes s_{1,1,1} + s_{2,1} \\otimes s_{1,1,1} + s_{3} \\otimes s_{1,1,1} + 2s_{3,1} \\otimes s_{1,1,1} + s_{4} \\otimes s_{1,1,1} + s_{4,1} \\otimes s_{1,1,1} + 2s_{5} \\otimes s_{1,1,1}</script></html>"
      ],
      "text/plain": [
       "s[1, 1] # s[1, 1, 1] + s[2, 1] # s[1, 1, 1] + s[3] # s[1, 1, 1] + 2*s[3, 1] # s[1, 1, 1] + s[4] # s[1, 1, 1] + s[4, 1] # s[1, 1, 1] + 2*s[5] # s[1, 1, 1]"
      ]
     },
     "metadata": {},
     "output_type": "display_data"
    },
    {
     "name": "stdout",
     "output_type": "stream",
     "text": [
      "V1(X,Y)-V2(X,Y)\n"
     ]
    },
    {
     "data": {
      "text/html": [
       "<html><script type=\"math/tex; mode=display\">\\newcommand{\\Bold}[1]{\\mathbf{#1}}-s_{5} \\otimes s_{1,1,1} + s_{6} \\otimes s_{1,1,1}</script></html>"
      ],
      "text/plain": [
       "-s[5] # s[1, 1, 1] + s[6] # s[1, 1, 1]"
      ]
     },
     "metadata": {},
     "output_type": "display_data"
    }
   ],
   "source": [
    "v = vandermonde(Diagram([(0,0),(2,0),(4,0)]))\n",
    "generator = {v.multidegree() : [v]}\n",
    "list_op = merge(steenrod_operators(1, 1), steenrod_operators(1,2))\n",
    "W1 = Subspace(generators=generator, operators=list_op, add_degrees=add_degree)\n",
    "W1 = IsotypicComponent(W1, Partition([1,1,1]))\n",
    "\n",
    "#print \"V1(X)\"\n",
    "#show(character(W1))\n",
    "\n",
    "r=2\n",
    "op_pol = polarization_operators(r, max_deg=v.degree(), side=\"down\")\n",
    "op_pol = merge(merge(op_pol, steenrod_operators(r, 1)), steenrod_operators(r, 2))\n",
    "W1 = PolarizedSpace(W1, op_pol)\n",
    "\n",
    "#print \"V1(X,Y)\"\n",
    "#show(character(W1))\n",
    "\n",
    "deg = v.degree()\n",
    "list_degrees = [tuple((i,j)) for i in range(0, deg) for j in range(0, deg) if i+j>0 and i+j<deg]\n",
    "sym_diff = symmetric_derivatives(list_degrees)\n",
    "sym_diff = merge(merge(sym_diff, steenrod_operators(r, 1)), steenrod_operators(r, 2))\n",
    "W2 = Range(W1, sym_diff, add_degrees=add_degrees_isotypic)\n",
    "\n",
    "print \"V2(X,Y)\"\n",
    "show(character(W2))\n",
    "\n",
    "print \"V1(X,Y)-V2(X,Y)\"\n",
    "charac = character(W1) - character(W2)\n",
    "show(charac)"
   ]
  },
  {
   "cell_type": "markdown",
   "metadata": {},
   "source": [
    "### quotient avant polarisation"
   ]
  },
  {
   "cell_type": "code",
   "execution_count": 33,
   "metadata": {
    "scrolled": true
   },
   "outputs": [
    {
     "name": "stdout",
     "output_type": "stream",
     "text": [
      "V2(X,Y)\n"
     ]
    },
    {
     "data": {
      "text/html": [
       "<html><script type=\"math/tex; mode=display\">\\newcommand{\\Bold}[1]{\\mathbf{#1}}s_{1,1} \\otimes s_{1,1,1} + s_{2,1} \\otimes s_{1,1,1} + s_{3} \\otimes s_{1,1,1} + s_{3,1} \\otimes s_{1,1,1} + s_{4} \\otimes s_{1,1,1} + s_{5} \\otimes s_{1,1,1}</script></html>"
      ],
      "text/plain": [
       "s[1, 1] # s[1, 1, 1] + s[2, 1] # s[1, 1, 1] + s[3] # s[1, 1, 1] + s[3, 1] # s[1, 1, 1] + s[4] # s[1, 1, 1] + s[5] # s[1, 1, 1]"
      ]
     },
     "metadata": {},
     "output_type": "display_data"
    },
    {
     "name": "stdout",
     "output_type": "stream",
     "text": [
      "V1(X,Y)-V2(X,Y)\n"
     ]
    },
    {
     "data": {
      "text/html": [
       "<html><script type=\"math/tex; mode=display\">\\newcommand{\\Bold}[1]{\\mathbf{#1}}s_{3,1} \\otimes s_{1,1,1} + s_{4,1} \\otimes s_{1,1,1} + s_{5} \\otimes s_{1,1,1} + s_{6} \\otimes s_{1,1,1}</script></html>"
      ],
      "text/plain": [
       "s[3, 1] # s[1, 1, 1] + s[4, 1] # s[1, 1, 1] + s[5] # s[1, 1, 1] + s[6] # s[1, 1, 1]"
      ]
     },
     "metadata": {},
     "output_type": "display_data"
    }
   ],
   "source": [
    "v = vandermonde(Diagram([(0,0),(2,0),(4,0)]))\n",
    "deg = v.degree()\n",
    "generator = {v.multidegree() : [v]}\n",
    "list_op = partial_derivatives(v.parent())\n",
    "W1 = Subspace(generators=generator, operators=list_op, add_degrees=add_degree)\n",
    "W1 = IsotypicComponent(W1, Partition([1,1,1]))\n",
    "\n",
    "list_degrees = [tuple((i,)) for i in range(1,4)]\n",
    "sym_diff = symmetric_derivatives(list_degrees)\n",
    "W2 = Range(W1, sym_diff)\n",
    "\n",
    "r=2\n",
    "op_pol = polarization_operators(r, max_deg=4)\n",
    "list_degrees = [tuple((i,j)) for i in range(0,deg) for j in range(0,deg) if i+j!=0 and i+j<=deg]\n",
    "W1 = PolarizedSpace(W1, op_pol)\n",
    "W2 = PolarizedSpace(W2, op_pol)\n",
    "\n",
    "print \"V2(X,Y)\"\n",
    "show(character(W2))\n",
    "print \"V1(X,Y)-V2(X,Y)\"\n",
    "charac = character(W1) - character(W2)\n",
    "show(charac)"
   ]
  },
  {
   "cell_type": "markdown",
   "metadata": {},
   "source": [
    "uniquement $St_x$"
   ]
  },
  {
   "cell_type": "code",
   "execution_count": 34,
   "metadata": {},
   "outputs": [
    {
     "name": "stdout",
     "output_type": "stream",
     "text": [
      "V2(X,Y)\n"
     ]
    },
    {
     "data": {
      "text/html": [
       "<html><script type=\"math/tex; mode=display\">\\newcommand{\\Bold}[1]{\\mathbf{#1}}s_{1,1} \\otimes s_{1,1,1} + s_{2,1} \\otimes s_{1,1,1} + s_{3} \\otimes s_{1,1,1} + s_{3,1} \\otimes s_{1,1,1} + s_{4} \\otimes s_{1,1,1} + s_{5} \\otimes s_{1,1,1}</script></html>"
      ],
      "text/plain": [
       "s[1, 1] # s[1, 1, 1] + s[2, 1] # s[1, 1, 1] + s[3] # s[1, 1, 1] + s[3, 1] # s[1, 1, 1] + s[4] # s[1, 1, 1] + s[5] # s[1, 1, 1]"
      ]
     },
     "metadata": {},
     "output_type": "display_data"
    },
    {
     "name": "stdout",
     "output_type": "stream",
     "text": [
      "V1(X,Y)-V2(X,Y)\n"
     ]
    },
    {
     "data": {
      "text/html": [
       "<html><script type=\"math/tex; mode=display\">\\newcommand{\\Bold}[1]{\\mathbf{#1}}s_{3,1} \\otimes s_{1,1,1} + s_{4,1} \\otimes s_{1,1,1} + s_{6} \\otimes s_{1,1,1}</script></html>"
      ],
      "text/plain": [
       "s[3, 1] # s[1, 1, 1] + s[4, 1] # s[1, 1, 1] + s[6] # s[1, 1, 1]"
      ]
     },
     "metadata": {},
     "output_type": "display_data"
    }
   ],
   "source": [
    "v = vandermonde(Diagram([(0,0),(2,0),(4,0)]))\n",
    "deg = v.degree()\n",
    "generator = {v.multidegree() : [v]}\n",
    "list_op = merge(steenrod_operators(1, 1), steenrod_operators(1,2))\n",
    "W1 = Subspace(generators=generator, operators=list_op, add_degrees=add_degree)\n",
    "W1 = IsotypicComponent(W1, Partition([1,1,1]))\n",
    "\n",
    "list_degrees = [tuple((i,)) for i in range(1,4)]\n",
    "sym_diff = symmetric_derivatives(list_degrees)\n",
    "W2 = Range(W1, sym_diff)\n",
    "\n",
    "r=2\n",
    "op_pol = polarization_operators(r, max_deg=4)\n",
    "list_degrees = [tuple((i,j)) for i in range(0,deg) for j in range(0,deg) if i+j!=0 and i+j<=deg]\n",
    "W1 = PolarizedSpace(W1, op_pol)\n",
    "W2 = PolarizedSpace(W2, op_pol)\n",
    "\n",
    "print \"V2(X,Y)\"\n",
    "show(character(W2))\n",
    "print \"V1(X,Y)-V2(X,Y)\"\n",
    "charac = character(W1) - character(W2)\n",
    "show(charac)"
   ]
  },
  {
   "cell_type": "markdown",
   "metadata": {},
   "source": [
    "quotient avant polarisation avec $St_x$"
   ]
  },
  {
   "cell_type": "code",
   "execution_count": 35,
   "metadata": {},
   "outputs": [
    {
     "name": "stdout",
     "output_type": "stream",
     "text": [
      "V2(X,Y)\n"
     ]
    },
    {
     "data": {
      "text/html": [
       "<html><script type=\"math/tex; mode=display\">\\newcommand{\\Bold}[1]{\\mathbf{#1}}s_{1,1} \\otimes s_{1,1,1} + s_{2,1} \\otimes s_{1,1,1} + s_{3} \\otimes s_{1,1,1} + s_{3,1} \\otimes s_{1,1,1} + s_{4} \\otimes s_{1,1,1} + s_{5} \\otimes s_{1,1,1}</script></html>"
      ],
      "text/plain": [
       "s[1, 1] # s[1, 1, 1] + s[2, 1] # s[1, 1, 1] + s[3] # s[1, 1, 1] + s[3, 1] # s[1, 1, 1] + s[4] # s[1, 1, 1] + s[5] # s[1, 1, 1]"
      ]
     },
     "metadata": {},
     "output_type": "display_data"
    },
    {
     "name": "stdout",
     "output_type": "stream",
     "text": [
      "V1(X,Y)-V2(X,Y)\n"
     ]
    },
    {
     "data": {
      "text/html": [
       "<html><script type=\"math/tex; mode=display\">\\newcommand{\\Bold}[1]{\\mathbf{#1}}s_{3,1} \\otimes s_{1,1,1} + s_{4,1} \\otimes s_{1,1,1} + s_{5} \\otimes s_{1,1,1} + s_{6} \\otimes s_{1,1,1}</script></html>"
      ],
      "text/plain": [
       "s[3, 1] # s[1, 1, 1] + s[4, 1] # s[1, 1, 1] + s[5] # s[1, 1, 1] + s[6] # s[1, 1, 1]"
      ]
     },
     "metadata": {},
     "output_type": "display_data"
    }
   ],
   "source": [
    "v = vandermonde(Diagram([(0,0),(2,0),(4,0)]))\n",
    "deg = v.degree()\n",
    "generator = {v.multidegree() : [v]}\n",
    "list_op = partial_derivatives(v.parent())\n",
    "list_op = merge(merge(list_op, steenrod_operators(1, 1)), steenrod_operators(1,2))\n",
    "W1 = Subspace(generators=generator, operators=list_op, add_degrees=add_degree)\n",
    "W1 = IsotypicComponent(W1, Partition([1,1,1]))\n",
    "\n",
    "list_degrees = [tuple((i,)) for i in range(1,4)]\n",
    "sym_diff = symmetric_derivatives(list_degrees)\n",
    "W2 = Range(W1, sym_diff)\n",
    "\n",
    "r=2\n",
    "op_pol = polarization_operators(r, max_deg=4)\n",
    "list_degrees = [tuple((i,j)) for i in range(0,deg) for j in range(0,deg) if i+j!=0 and i+j<=deg]\n",
    "W1 = PolarizedSpace(W1, op_pol)\n",
    "W2 = PolarizedSpace(W2, op_pol)\n",
    "\n",
    "print \"V2(X,Y)\"\n",
    "show(character(W2))\n",
    "print \"V1(X,Y)-V2(X,Y)\"\n",
    "charac = character(W1) - character(W2)\n",
    "show(charac)"
   ]
  },
  {
   "cell_type": "markdown",
   "metadata": {},
   "source": [
    "quotient avant polarisation avec $St_x$ et $St$ dans quotient"
   ]
  },
  {
   "cell_type": "code",
   "execution_count": 40,
   "metadata": {},
   "outputs": [
    {
     "name": "stdout",
     "output_type": "stream",
     "text": [
      "V2(X,Y)\n"
     ]
    },
    {
     "data": {
      "text/html": [
       "<html><script type=\"math/tex; mode=display\">\\newcommand{\\Bold}[1]{\\mathbf{#1}}s_{1,1} \\otimes s_{1,1,1} + s_{2,1} \\otimes s_{1,1,1} + s_{3} \\otimes s_{1,1,1} + 2s_{3,1} \\otimes s_{1,1,1} + s_{4} \\otimes s_{1,1,1} + 2s_{5} \\otimes s_{1,1,1}</script></html>"
      ],
      "text/plain": [
       "s[1, 1] # s[1, 1, 1] + s[2, 1] # s[1, 1, 1] + s[3] # s[1, 1, 1] + 2*s[3, 1] # s[1, 1, 1] + s[4] # s[1, 1, 1] + 2*s[5] # s[1, 1, 1]"
      ]
     },
     "metadata": {},
     "output_type": "display_data"
    },
    {
     "name": "stdout",
     "output_type": "stream",
     "text": [
      "V1(X,Y)-V2(X,Y)\n"
     ]
    },
    {
     "data": {
      "text/html": [
       "<html><script type=\"math/tex; mode=display\">\\newcommand{\\Bold}[1]{\\mathbf{#1}}s_{4,1} \\otimes s_{1,1,1} + s_{6} \\otimes s_{1,1,1}</script></html>"
      ],
      "text/plain": [
       "s[4, 1] # s[1, 1, 1] + s[6] # s[1, 1, 1]"
      ]
     },
     "metadata": {},
     "output_type": "display_data"
    }
   ],
   "source": [
    "v = vandermonde(Diagram([(0,0),(2,0),(4,0)]))\n",
    "deg = v.degree()\n",
    "generator = {v.multidegree() : [v]}\n",
    "list_op = partial_derivatives(v.parent())\n",
    "list_op = merge(merge(list_op, steenrod_operators(1, 1)), steenrod_operators(1,2))\n",
    "W1 = Subspace(generators=generator, operators=list_op, add_degrees=add_degree)\n",
    "W1 = IsotypicComponent(W1, Partition([1,1,1]))\n",
    "\n",
    "list_degrees = [tuple((i,)) for i in range(1,4)]\n",
    "sym_diff = symmetric_derivatives(list_degrees)\n",
    "sym_diff = merge(merge(sym_diff, steenrod_operators(1, 1)), steenrod_operators(1, 2))\n",
    "W2 = Range(W1, sym_diff)\n",
    "\n",
    "r=2\n",
    "op_pol = polarization_operators(r, max_deg=4)\n",
    "list_degrees = [tuple((i,j)) for i in range(0,deg) for j in range(0,deg) if i+j!=0 and i+j<=deg]\n",
    "op_pol = merge(merge(op_pol, steenrod_operators(r, 1)), steenrod_operators(r,2))\n",
    "W1 = PolarizedSpace(W1, op_pol)\n",
    "W2 = PolarizedSpace(W2, op_pol)\n",
    "\n",
    "print \"V2(X,Y)\"\n",
    "show(character(W2))\n",
    "print \"V1(X,Y)-V2(X,Y)\"\n",
    "charac = character(W1) - character(W2)\n",
    "show(charac)"
   ]
  },
  {
   "cell_type": "markdown",
   "metadata": {},
   "source": [
    "uniquement $St_x$ + $St$"
   ]
  },
  {
   "cell_type": "code",
   "execution_count": 37,
   "metadata": {},
   "outputs": [
    {
     "name": "stdout",
     "output_type": "stream",
     "text": [
      "V2(X,Y)\n"
     ]
    },
    {
     "data": {
      "text/html": [
       "<html><script type=\"math/tex; mode=display\">\\newcommand{\\Bold}[1]{\\mathbf{#1}}s_{1,1} \\otimes s_{1,1,1} + s_{2,1} \\otimes s_{1,1,1} + s_{3} \\otimes s_{1,1,1} + 2s_{3,1} \\otimes s_{1,1,1} + s_{4} \\otimes s_{1,1,1} + 2s_{5} \\otimes s_{1,1,1}</script></html>"
      ],
      "text/plain": [
       "s[1, 1] # s[1, 1, 1] + s[2, 1] # s[1, 1, 1] + s[3] # s[1, 1, 1] + 2*s[3, 1] # s[1, 1, 1] + s[4] # s[1, 1, 1] + 2*s[5] # s[1, 1, 1]"
      ]
     },
     "metadata": {},
     "output_type": "display_data"
    },
    {
     "name": "stdout",
     "output_type": "stream",
     "text": [
      "V1(X,Y)-V2(X,Y)\n"
     ]
    },
    {
     "data": {
      "text/html": [
       "<html><script type=\"math/tex; mode=display\">\\newcommand{\\Bold}[1]{\\mathbf{#1}}s_{4,1} \\otimes s_{1,1,1} - s_{5} \\otimes s_{1,1,1} + s_{6} \\otimes s_{1,1,1}</script></html>"
      ],
      "text/plain": [
       "s[4, 1] # s[1, 1, 1] - s[5] # s[1, 1, 1] + s[6] # s[1, 1, 1]"
      ]
     },
     "metadata": {},
     "output_type": "display_data"
    }
   ],
   "source": [
    "v = vandermonde(Diagram([(0,0),(2,0),(4,0)]))\n",
    "deg = v.degree()\n",
    "generator = {v.multidegree() : [v]}\n",
    "list_op = merge(steenrod_operators(1, 1), steenrod_operators(1,2))\n",
    "W1 = Subspace(generators=generator, operators=list_op, add_degrees=add_degree)\n",
    "W1 = IsotypicComponent(W1, Partition([1,1,1]))\n",
    "\n",
    "list_degrees = [tuple((i,)) for i in range(1,4)]\n",
    "sym_diff = symmetric_derivatives(list_degrees)\n",
    "sym_diff = merge(merge(sym_diff, steenrod_operators(1, 1)), steenrod_operators(1, 2))\n",
    "W2 = Range(W1, sym_diff)\n",
    "\n",
    "r=2\n",
    "op_pol = polarization_operators(r, max_deg=4)\n",
    "list_degrees = [tuple((i,j)) for i in range(0,deg) for j in range(0,deg) if i+j!=0 and i+j<=deg]\n",
    "W1 = PolarizedSpace(W1, op_pol)\n",
    "W2 = PolarizedSpace(W2, op_pol)\n",
    "\n",
    "print \"V2(X,Y)\"\n",
    "show(character(W2))\n",
    "print \"V1(X,Y)-V2(X,Y)\"\n",
    "charac = character(W1) - character(W2)\n",
    "show(charac)"
   ]
  },
  {
   "cell_type": "markdown",
   "metadata": {},
   "source": [
    "### test"
   ]
  },
  {
   "cell_type": "markdown",
   "metadata": {},
   "source": [
    "polarisation puis quotient, uniquement $St_x^1$ et $St^1$"
   ]
  },
  {
   "cell_type": "code",
   "execution_count": 38,
   "metadata": {},
   "outputs": [
    {
     "name": "stdout",
     "output_type": "stream",
     "text": [
      "V2(X,Y)\n"
     ]
    },
    {
     "data": {
      "text/html": [
       "<html><script type=\"math/tex; mode=display\">\\newcommand{\\Bold}[1]{\\mathbf{#1}}s_{1,1} \\otimes s_{1,1,1} + s_{2,1} \\otimes s_{1,1,1} - s_{2,2} \\otimes s_{1,1,1} + s_{3} \\otimes s_{1,1,1} + 2s_{3,1} \\otimes s_{1,1,1} + s_{4} \\otimes s_{1,1,1} + s_{4,1} \\otimes s_{1,1,1} + s_{5} \\otimes s_{1,1,1}</script></html>"
      ],
      "text/plain": [
       "s[1, 1] # s[1, 1, 1] + s[2, 1] # s[1, 1, 1] - s[2, 2] # s[1, 1, 1] + s[3] # s[1, 1, 1] + 2*s[3, 1] # s[1, 1, 1] + s[4] # s[1, 1, 1] + s[4, 1] # s[1, 1, 1] + s[5] # s[1, 1, 1]"
      ]
     },
     "metadata": {},
     "output_type": "display_data"
    },
    {
     "name": "stdout",
     "output_type": "stream",
     "text": [
      "V1(X,Y)-V2(X,Y)\n"
     ]
    },
    {
     "data": {
      "text/html": [
       "<html><script type=\"math/tex; mode=display\">\\newcommand{\\Bold}[1]{\\mathbf{#1}}s_{2,2} \\otimes s_{1,1,1} + s_{6} \\otimes s_{1,1,1}</script></html>"
      ],
      "text/plain": [
       "s[2, 2] # s[1, 1, 1] + s[6] # s[1, 1, 1]"
      ]
     },
     "metadata": {},
     "output_type": "display_data"
    }
   ],
   "source": [
    "v = vandermonde(Diagram([(0,0),(2,0),(4,0)]))\n",
    "generator = {v.multidegree() : [v]}\n",
    "list_op = {}\n",
    "list_op = merge(list_op, steenrod_operators(1, 1))\n",
    "W1 = Subspace(generators=generator, operators=list_op, add_degrees=add_degree)\n",
    "W1 = IsotypicComponent(W1, Partition([1,1,1]))\n",
    "\n",
    "r=2\n",
    "op_pol = polarization_operators(r, max_deg=2)\n",
    "op_pol = merge(merge(op_pol, steenrod_operators(r, 1)), steenrod_operators(r, 2))\n",
    "W1 = PolarizedSpace(W1, op_pol)\n",
    "\n",
    "list_degrees = [tuple((i,j)) for i in range(0, deg) for j in range(0, deg) if i+j>0 and i+j<deg]\n",
    "sym_diff = steenrod_operators(r, 1)\n",
    "W2 = Range(W1, sym_diff, add_degrees=add_degrees_isotypic)\n",
    "\n",
    "print \"V2(X,Y)\"\n",
    "show(character(W2))\n",
    "\n",
    "print \"V1(X,Y)-V2(X,Y)\"\n",
    "charac = character(W1) - character(W2)\n",
    "show(charac)"
   ]
  },
  {
   "cell_type": "markdown",
   "metadata": {},
   "source": [
    "quotient avant polarisation, uniquement $St_x^1$ et $St^1$"
   ]
  },
  {
   "cell_type": "code",
   "execution_count": 39,
   "metadata": {},
   "outputs": [
    {
     "name": "stdout",
     "output_type": "stream",
     "text": [
      "V2(X,Y)\n"
     ]
    },
    {
     "data": {
      "text/html": [
       "<html><script type=\"math/tex; mode=display\">\\newcommand{\\Bold}[1]{\\mathbf{#1}}s_{1,1} \\otimes s_{1,1,1} + s_{2,1} \\otimes s_{1,1,1} + s_{3} \\otimes s_{1,1,1} + s_{3,1} \\otimes s_{1,1,1} + s_{4} \\otimes s_{1,1,1} + s_{5} \\otimes s_{1,1,1}</script></html>"
      ],
      "text/plain": [
       "s[1, 1] # s[1, 1, 1] + s[2, 1] # s[1, 1, 1] + s[3] # s[1, 1, 1] + s[3, 1] # s[1, 1, 1] + s[4] # s[1, 1, 1] + s[5] # s[1, 1, 1]"
      ]
     },
     "metadata": {},
     "output_type": "display_data"
    },
    {
     "name": "stdout",
     "output_type": "stream",
     "text": [
      "V1(X,Y)-V2(X,Y)\n"
     ]
    },
    {
     "data": {
      "text/html": [
       "<html><script type=\"math/tex; mode=display\">\\newcommand{\\Bold}[1]{\\mathbf{#1}}s_{3,1} \\otimes s_{1,1,1} + s_{4,1} \\otimes s_{1,1,1} + s_{6} \\otimes s_{1,1,1}</script></html>"
      ],
      "text/plain": [
       "s[3, 1] # s[1, 1, 1] + s[4, 1] # s[1, 1, 1] + s[6] # s[1, 1, 1]"
      ]
     },
     "metadata": {},
     "output_type": "display_data"
    }
   ],
   "source": [
    "v = vandermonde(Diagram([(0,0),(2,0),(4,0)]))\n",
    "generator = {v.multidegree() : [v]}\n",
    "list_op = {}\n",
    "list_op = merge(list_op, steenrod_operators(1, 1))\n",
    "W1 = Subspace(generators=generator, operators=list_op, add_degrees=add_degree)\n",
    "W1 = IsotypicComponent(W1, Partition([1,1,1]))\n",
    "\n",
    "list_degrees = [tuple((i,j)) for i in range(0, deg) for j in range(0, deg) if i+j>0 and i+j<deg]\n",
    "sym_diff = steenrod_operators(1, 1)\n",
    "W2 = Range(W1, sym_diff, add_degrees=add_degrees_isotypic)\n",
    "\n",
    "r=2\n",
    "op_pol = polarization_operators(r, max_deg=2)\n",
    "op_pol = merge(merge(op_pol, steenrod_operators(r, 1)), steenrod_operators(r, 2))\n",
    "W1 = PolarizedSpace(W1, op_pol)\n",
    "W2 = PolarizedSpace(W2, op_pol)\n",
    "\n",
    "\n",
    "print \"V2(X,Y)\"\n",
    "show(character(W2))\n",
    "print \"V1(X,Y)-V2(X,Y)\"\n",
    "charac = character(W1) - character(W2)\n",
    "show(charac)"
   ]
  },
  {
   "cell_type": "code",
   "execution_count": null,
   "metadata": {},
   "outputs": [],
   "source": []
  }
 ],
 "metadata": {
  "kernelspec": {
   "display_name": "SageMath 8.7",
   "language": "",
   "name": "sagemath"
  },
  "language_info": {
   "codemirror_mode": {
    "name": "ipython",
    "version": 2
   },
   "file_extension": ".py",
   "mimetype": "text/x-python",
   "name": "python",
   "nbconvert_exporter": "python",
   "pygments_lexer": "ipython2",
   "version": "2.7.15"
  }
 },
 "nbformat": 4,
 "nbformat_minor": 2
}
