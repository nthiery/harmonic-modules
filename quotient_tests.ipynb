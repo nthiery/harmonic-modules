{
 "cells": [
  {
   "cell_type": "code",
   "execution_count": 1,
   "metadata": {},
   "outputs": [],
   "source": [
    "%display latex\n",
    "\n",
    "%runfile diagonal_polynomial_ring.py\n",
    "%runfile subspace.py\n",
    "%runfile young_idempotent.py\n",
    "%runfile add_degree.py\n",
    "%runfile diagram.py\n",
    "\n",
    "SymmetricFunctions(QQ).inject_shorthands(verbose=False)\n",
    "\n",
    "#%runfile compute_character.py"
   ]
  },
  {
   "cell_type": "markdown",
   "metadata": {},
   "source": [
    "# Code"
   ]
  },
  {
   "cell_type": "markdown",
   "metadata": {},
   "source": [
    "Calcul du Vandermonde associé au diagramme $\\gamma$, où $\\gamma$ est un partage (Partition) ou un diagramme (Diagram)."
   ]
  },
  {
   "cell_type": "code",
   "execution_count": 2,
   "metadata": {},
   "outputs": [],
   "source": [
    "def vandermonde(gamma):\n",
    "    n = gamma.size()\n",
    "    P = DiagonalPolynomialRing(QQ, n, 1, inert=1)\n",
    "    X = P.variables()\n",
    "    Theta = P.inert_variables()\n",
    "    return matrix([[x**i[1]*theta**i[0] for i in gamma.cells()] \n",
    "                   for x,theta in zip(X[0],Theta[0])]).determinant()\n",
    "\n",
    "def degree_vandermonde(gamma):\n",
    "    return sum([i[1] for i in gamma.cells()])"
   ]
  },
  {
   "cell_type": "markdown",
   "metadata": {},
   "source": [
    "Fonctions qui nous renvoient des listes d'opérateurs par degrés pour toutes les variables (non inertes) de l'anneau de polynômes concerné."
   ]
  },
  {
   "cell_type": "code",
   "execution_count": 3,
   "metadata": {},
   "outputs": [],
   "source": [
    "def deriv(x, k=1):\n",
    "    def f(p):\n",
    "        return derivative(p, x, k)\n",
    "    return f\n",
    "\n",
    "def partial_derivatives(P):\n",
    "    n = P._n\n",
    "    r = P._r\n",
    "    D = P._grading_set\n",
    "    X = P.variables()\n",
    "    op = {}\n",
    "    for i in range(r):\n",
    "        op[D((-1 if j==i else 0 for j in range(r)))] = [deriv(X[i,k]) for k in range(n)]\n",
    "    return op\n",
    "\n",
    "def steenrod_operators(P, degree=1, row_symmetry=None):\n",
    "    r = P._r\n",
    "    D = P._grading_set\n",
    "    op = {}\n",
    "    for i in range(r):\n",
    "        op[D((-degree if j==i else 0 for j in range(r)))] = [\n",
    "            functools.partial(P.steenrod_op, i=i, k=degree+1, row_symmetry=row_symmetry)]\n",
    "    return op\n",
    "\n",
    "def diagonal_steenrod_operators(P, list_deg):\n",
    "    r = P._r\n",
    "    D = P._grading_set\n",
    "    op = {}\n",
    "    for dx, dy in list_deg:\n",
    "        op[D((-dx if j==0 else -dy if j==1 else 0 for j in range(r)))] = [\n",
    "            functools.partial(P.diagonal_steenrod, i1=0, i2=1, d1=dx, d2=dy)]\n",
    "    return op\n",
    "\n",
    "def polarization_operators(P, side=None, row_symmetry=None, max_deg=0):\n",
    "    n = P._n\n",
    "    r = P._r\n",
    "    D = P._grading_set\n",
    "    if max_deg==0:\n",
    "        max_deg=n\n",
    "    return {D([-d if i==i1 else 1 if i==i2 else 0 for i in range(r)]):\n",
    "            [functools.partial(P.polarization, i1=i1, i2=i2, d=d, row_symmetry=row_symmetry)]\n",
    "            for d in range(1, max_deg+1)\n",
    "            for i1 in range(0, r)\n",
    "            for i2 in range(0, r)\n",
    "            if (i1<i2 if side == 'down' else i1!=i2)\n",
    "           }\n",
    "\n",
    "def higher_polarization_operators(P, side=None, row_symmetry=None, max_deg=0):\n",
    "    n = P._n\n",
    "    r = P._r\n",
    "    D = P._grading_set\n",
    "    if max_deg==0:\n",
    "        max_deg=n\n",
    "    return {D([-d1 if i==i1 else d2 if i==i2 else 0 for i in range(r)]):\n",
    "            [functools.partial(P.higher_polarization, i1=i1, i2=i2, d1=d1, d2=d2, row_symmetry=row_symmetry)]\n",
    "            for d1 in range(1, max_deg+1)\n",
    "            for d2 in range(1, 3)\n",
    "            for i1 in range(0, r)\n",
    "            for i2 in range(0, r)\n",
    "            if (i1<i2 if side == 'down' else i1!=i2)\n",
    "           }\n",
    "\n",
    "def multipolarization(P, list_deg, i2): \n",
    "    D = P._grading_set\n",
    "    return {D(-d[i]+1 if i==i2 else -d[i] for i in range(len(d))) : \n",
    "            [functools.partial(P.multi_polarization, D=d, i2=i2)] for d in list_deg}\n",
    "\n",
    "def symmetric_derivatives(P, list_deg, row_symmetry=None):\n",
    "    D = P._grading_set\n",
    "    return {D(-i for i in d) : [functools.partial(P.symmetric_derivative, d=d, row_symmetry=row_symmetry)] \n",
    "            for d in list_deg}"
   ]
  },
  {
   "cell_type": "code",
   "execution_count": 4,
   "metadata": {},
   "outputs": [],
   "source": [
    "def merge(dict1, dict2):\n",
    "    result = dict1\n",
    "    for key, value in dict2.iteritems():\n",
    "        if key in result:\n",
    "            result[key] += value\n",
    "        else:\n",
    "            result[key] = value\n",
    "    return result\n",
    "\n",
    "def antisymmetries(mu):\n",
    "    mu = Partition(mu)\n",
    "    return antisymmetries_of_tableau(mu.initial_tableau())"
   ]
  },
  {
   "cell_type": "markdown",
   "metadata": {},
   "source": [
    "Projection sur les composantes isotypiques; prend en paramètre un sous-espace (Subspace) et un entier ou un partage. "
   ]
  },
  {
   "cell_type": "code",
   "execution_count": 5,
   "metadata": {},
   "outputs": [],
   "source": [
    "def Isotyp(S, arg, use_antisymmetry=False):\n",
    "    if isinstance(arg, Partition):\n",
    "        list_partitions = [arg]\n",
    "    elif isinstance(arg, Integer):\n",
    "        list_partitions = Partitions(arg)\n",
    "    else : \n",
    "        print(\"Error: arg should be a partition or an integer.\")\n",
    "    \n",
    "    basis = S.basis()\n",
    "    result = {}\n",
    "    for nu in list_partitions:\n",
    "        for key, value in basis.iteritems():\n",
    "            gen = [apply_young_idempotent(p, nu, use_antisymmetry=use_antisymmetry) for p in value]\n",
    "            basis_nu = Subspace(gen, {}).basis()\n",
    "            if basis_nu != {} :\n",
    "                result[(key, tuple(nu))] = basis_nu[0]\n",
    "    if result:\n",
    "        return Subspace(result, operators={})\n",
    "    else:\n",
    "        return Subspace([0],{})\n",
    "\n",
    "def Isotyp2(S, arg):\n",
    "    if isinstance(arg, Partition):\n",
    "        list_partitions = [arg]\n",
    "    elif isinstance(arg, Integer):\n",
    "        list_partitions = Partitions(arg)\n",
    "    else : \n",
    "        print(\"Error: arg should be a partition or an integer.\")\n",
    "    \n",
    "    basis = S.basis()\n",
    "    result = {}\n",
    "    for nu in list_partitions:\n",
    "        for key, value in basis.iteritems():\n",
    "            gen = [apply_young_idempotent(p, nu) for p in value]\n",
    "            basis_nu = Subspace(gen, {}).basis()\n",
    "            if basis_nu != {} :\n",
    "                result[(key[0], tuple(nu))] = basis_nu[0] #key[0] >>> key\n",
    "    return Subspace(result, operators={})"
   ]
  },
  {
   "cell_type": "code",
   "execution_count": 6,
   "metadata": {},
   "outputs": [],
   "source": [
    "def add_degrees_isotypic(gen_deg, op_deg):\n",
    "    D = cartesian_product([ZZ for i in range(len(gen_deg[0]))])\n",
    "    return D(gen_deg[0])+D(op_deg), gen_deg[1]\n",
    "\n",
    "def add_degrees_symmetric(gen_deg,op_deg):\n",
    "    D = cartesian_product([ZZ for i in range(len(gen_deg[0]))])\n",
    "    d = D(gen_deg[0])+D(op_deg)\n",
    "    return D(sorted(d, reverse=True)), gen_deg[1]\n",
    "\n",
    "def add_degrees_test(gen_deg, op_deg):\n",
    "    return gen_deg+op_deg"
   ]
  },
  {
   "cell_type": "markdown",
   "metadata": {},
   "source": [
    "Création de l'espace polarisé par les opérateurs donnés en paramètres."
   ]
  },
  {
   "cell_type": "code",
   "execution_count": 7,
   "metadata": {},
   "outputs": [],
   "source": [
    "def PolarizedSpace(P, S, operators, add_degrees=add_degrees_isotypic):\n",
    "    basis = S.basis()\n",
    "    n = P._n\n",
    "    r = P._r\n",
    "    inert = P._inert\n",
    "    D = P._grading_set\n",
    "    generators = {}\n",
    "    \n",
    "    if isinstance(P, DiagonalAntisymmetricPolynomialRing):\n",
    "        antisymmetries = P._antisymmetries\n",
    "        for key, value in basis.iteritems():\n",
    "            d = (D((key[0][0] if i==0 else 0 for i in range(0,r))), key[1])\n",
    "            generators[d] = [antisymmetric_normal(P(b), n, r+inert, antisymmetries) for b in value]\n",
    "    else :\n",
    "        for key, value in basis.iteritems():\n",
    "            d = (D((key[0][0] if i==0 else 0 for i in range(0,r))), key[1])\n",
    "            generators[d] = [P(b) for b in value]\n",
    "            \n",
    "    if generators:\n",
    "        return Subspace(generators, operators, add_degrees=add_degrees)\n",
    "    else:\n",
    "        return Subspace([0],{})"
   ]
  },
  {
   "cell_type": "markdown",
   "metadata": {},
   "source": [
    "Calcul de l'image de S (Subspace) par les opérateurs donnés."
   ]
  },
  {
   "cell_type": "code",
   "execution_count": 8,
   "metadata": {},
   "outputs": [],
   "source": [
    "def Range(S, operators, add_degrees=add_degrees_isotypic):\n",
    "    result = {}\n",
    "    basis = S.basis()\n",
    "    for key, b in basis.iteritems():\n",
    "        result = merge(result, {add_degrees(key, deg): \n",
    "                                     [op(p) for p in b for op in op_list if op(p)!=0] \n",
    "                                     for deg, op_list in operators.iteritems()})    \n",
    "    if result != {} :\n",
    "        return Subspace(result, {}, add_degrees) #{} <-> operators\n",
    "    else :\n",
    "        return None"
   ]
  },
  {
   "cell_type": "markdown",
   "metadata": {},
   "source": [
    "Calcul du caractère à partir d'un sous-espace (S) d'éléments projetés sur les composantes isotypiques."
   ]
  },
  {
   "cell_type": "code",
   "execution_count": 9,
   "metadata": {},
   "outputs": [],
   "source": [
    "def character(S, n, r, left_basis=s, right_basis=s, row_symmetry=None):\n",
    "    basis = S.basis()\n",
    "    charac = 0\n",
    "    if row_symmetry != \"permutation\":\n",
    "        q = PolynomialRing(QQ,'q',r).gens()\n",
    "        \n",
    "    for nu in Partitions(n):\n",
    "        basis_nu = {}\n",
    "        charac_nu = 0\n",
    "        # Get the nu_isotypic part of the basis\n",
    "        for key, value in basis.iteritems():\n",
    "            if Partition(key[1]) == nu:\n",
    "                basis_nu[key[0]] = value\n",
    "        \n",
    "        # Use monomials to compute the character\n",
    "        if row_symmetry == \"permutation\":\n",
    "            for deg, b in basis_nu.iteritems():\n",
    "                charac_nu += sum(m(Partition(deg)) for p in b)\n",
    "            if charac_nu != 0 :\n",
    "                if left_basis == s :\n",
    "                    charac_nu = s(charac_nu).restrict_partition_lengths(r,exact=False)\n",
    "                elif left_basis != m :\n",
    "                    charac_nu = left_basis(charac_nu)\n",
    "                \n",
    "        # Or use directly the degrees\n",
    "        else:\n",
    "            for deg, b in basis_nu.iteritems():\n",
    "                charac_nu += sum(prod(q[i]**deg[i] for i in range(0,len(deg))) for p in b)\n",
    "            if charac_nu != 0 :\n",
    "                if left_basis == s :\n",
    "                    charac_nu = s.from_polynomial(charac_nu).restrict_partition_lengths(r,exact=False)           \n",
    "                else:\n",
    "                    charac_nu = left_basis.from_polynomial(charac_nu)\n",
    "                \n",
    "        # Make the tensor product with s[nu]\n",
    "        if charac_nu != 0:\n",
    "            charac += tensor([charac_nu, right_basis(s(nu))])\n",
    "    return charac"
   ]
  },
  {
   "cell_type": "code",
   "execution_count": 10,
   "metadata": {},
   "outputs": [],
   "source": [
    "def character_quotient(M, N, n, r, left_basis=s, right_basis=s):\n",
    "    b_tot = M.basis()\n",
    "    b_ideal = N.basis()\n",
    "    charac = 0\n",
    "    q = PolynomialRing(QQ,'q',r).gens()\n",
    "    \n",
    "    for nu in Partitions(n):\n",
    "        basis_nu_tot = {}\n",
    "        basis_nu_ideal = {}\n",
    "        charac_nu = 0\n",
    "        # Get the nu_isotypic part of the bases\n",
    "        for key, value in b_tot.iteritems():\n",
    "            if Partition(key[1]) == nu:\n",
    "                basis_nu_tot[key[0]] = value\n",
    "        for key, value in b_ideal.iteritems():\n",
    "            if Partition(key[1]) == nu:\n",
    "                basis_nu_ideal[key[0]] = value\n",
    "                \n",
    "        # Use the degrees to compute the character\n",
    "        for deg, b in basis_nu_tot.iteritems():\n",
    "            charac_nu += sum(prod(q[i]**deg[i] for i in range(0,len(deg))) for p in b)\n",
    "        for deg, b in basis_nu_ideal.iteritems():\n",
    "            charac_nu -= sum(prod(q[i]**deg[i] for i in range(0,len(deg))) for p in b)\n",
    "        if charac_nu != 0 :\n",
    "            if left_basis == s :\n",
    "                charac_nu = s.from_polynomial(charac_nu).restrict_partition_lengths(r,exact=False)           \n",
    "            else:\n",
    "                charac_nu = left_basis.from_polynomial(charac_nu)      \n",
    "            # Make the tensor product with s[nu]\n",
    "            charac += tensor([charac_nu, right_basis(s(nu))])\n",
    "            \n",
    "    return charac"
   ]
  },
  {
   "cell_type": "markdown",
   "metadata": {},
   "source": [
    "Factorisation du produit tensoriel par représentation de $S_n$. Et calcul de la dimension."
   ]
  },
  {
   "cell_type": "code",
   "execution_count": 11,
   "metadata": {
    "scrolled": true
   },
   "outputs": [],
   "source": [
    "def factorise(f, n):\n",
    "    SymmetricFunctions(QQ).s()\n",
    "    supp = sorted(f.support())\n",
    "    result = {}\n",
    "    res = []\n",
    "    for mu in Partitions(n):\n",
    "        result[mu] = []\n",
    "        for (a, b), c in zip(supp, f.coefficients()):\n",
    "            if b == mu :\n",
    "                result[mu] += [(a,c)]\n",
    "    result2 = [(mu,sum(c*s(nu) for (nu,c) in result[mu])) for mu in result.keys()]\n",
    "    for a, b in result2:\n",
    "        if b!=0:\n",
    "            print a\n",
    "            show(b)\n",
    "        \n",
    "def dimension(f, n):\n",
    "    supp = sorted(f.support())\n",
    "    result = {}\n",
    "    res = []\n",
    "    for mu in Partitions(n):\n",
    "        result[mu] = []\n",
    "        for (a, b), c in zip(supp, f.coefficients()):\n",
    "            if b == mu :\n",
    "                result[mu] += [(a,c)]\n",
    "    result2 = [(mu,sum(c*s(nu) for (nu,c) in result[mu]).expand(1, alphabet=['q'])) for mu in result.keys()]\n",
    "    q = result2[0][1].parent().gens()[0]\n",
    "    return [(tuple(a), b.subs({q:1})) for a,b in result2]\n",
    "\n",
    "def dimension2(f, n):\n",
    "    q,t = QQ['q,t'].gens()\n",
    "    supp = sorted(f.support())\n",
    "    result = {}\n",
    "    res = []\n",
    "    for mu in Partitions(n):\n",
    "        result[mu] = []\n",
    "        for (a, b), c in zip(supp, f.coefficients()):\n",
    "            if b == mu :\n",
    "                result[mu] += [(a,c)]\n",
    "    result2 = [(mu,sum(c*s(nu) for (nu,c) in result[mu]).expand(2, alphabet=[q,t])) for mu in result.keys()]\n",
    "    return [(tuple(a), b.subs({q:1,t:1})) for a,b in result2]"
   ]
  },
  {
   "cell_type": "markdown",
   "metadata": {},
   "source": [
    "### Cas du diagramme 013"
   ]
  },
  {
   "cell_type": "code",
   "execution_count": 12,
   "metadata": {},
   "outputs": [
    {
     "data": {
      "text/html": [
       "<html><script type=\"math/tex; mode=display\">\\newcommand{\\Bold}[1]{\\mathbf{#1}}(x_{01} - x_{02}) \\cdot (-x_{00} + x_{01}) \\cdot (x_{00} - x_{02}) \\cdot (x_{00} + x_{01} + x_{02})</script></html>"
      ],
      "text/plain": [
       "(x01 - x02) * (-x00 + x01) * (x00 - x02) * (x00 + x01 + x02)"
      ]
     },
     "execution_count": 12,
     "metadata": {},
     "output_type": "execute_result"
    }
   ],
   "source": [
    "v = vandermonde(Diagram([(0,0),(1,0),(3,0)]))\n",
    "v.factor()"
   ]
  },
  {
   "cell_type": "markdown",
   "metadata": {},
   "source": [
    "On crée le sous-espace engendré par $\\mathcal{V}_\\gamma$ et ses dérivées partielles. On peut ajouter les opérateurs de Steenrod sans changement du résultat."
   ]
  },
  {
   "cell_type": "code",
   "execution_count": 13,
   "metadata": {},
   "outputs": [
    {
     "data": {
      "text/html": [
       "<html><script type=\"math/tex; mode=display\">\\newcommand{\\Bold}[1]{\\mathbf{#1}}\\left\\{\\left(2\\right) : \\left(-x_{00} x_{01} + x_{00} x_{02}, -x_{00} x_{01} + x_{01} x_{02}, x_{00}^{2} - x_{02}^{2}, x_{01}^{2} - x_{02}^{2}\\right), \\left(0\\right) : \\left(1\\right), \\left(3\\right) : \\left(\\frac{1}{3} x_{00}^{3} - \\frac{1}{3} x_{01}^{3} - x_{00} x_{02}^{2} + x_{01} x_{02}^{2}, -x_{00}^{2} x_{01} + \\frac{1}{3} x_{01}^{3} + x_{00}^{2} x_{02} - \\frac{1}{3} x_{02}^{3}, -\\frac{1}{3} x_{00}^{3} + x_{00} x_{01}^{2} - x_{01}^{2} x_{02} + \\frac{1}{3} x_{02}^{3}\\right), \\left(1\\right) : \\left(x_{00}, x_{01}, x_{02}\\right), \\left(4\\right) : \\left(x_{00}^{3} x_{01} - x_{00} x_{01}^{3} - x_{00}^{3} x_{02} + x_{01}^{3} x_{02} + x_{00} x_{02}^{3} - x_{01} x_{02}^{3}\\right)\\right\\}</script></html>"
      ],
      "text/plain": [
       "{(0,): (1,),\n",
       " (1,): (x00, x01, x02),\n",
       " (2,): (-x00*x01 + x00*x02, -x00*x01 + x01*x02, x00^2 - x02^2, x01^2 - x02^2),\n",
       " (3,): (1/3*x00^3 - 1/3*x01^3 - x00*x02^2 + x01*x02^2,\n",
       "  -x00^2*x01 + 1/3*x01^3 + x00^2*x02 - 1/3*x02^3,\n",
       "  -1/3*x00^3 + x00*x01^2 - x01^2*x02 + 1/3*x02^3),\n",
       " (4,): (x00^3*x01 - x00*x01^3 - x00^3*x02 + x01^3*x02 + x00*x02^3 - x01*x02^3,)}"
      ]
     },
     "execution_count": 13,
     "metadata": {},
     "output_type": "execute_result"
    }
   ],
   "source": [
    "P1 = DiagonalPolynomialRing(QQ, 3, 1)\n",
    "generator = {P1._grading_set((v.degree(),)) : [P1(v)]}\n",
    "list_op = merge(merge(partial_derivatives(P1), steenrod_operators(P1, 1)), steenrod_operators(P1, 2))\n",
    "W1 = Subspace(generators=generator, operators=list_op, add_degrees=add_degree)\n",
    "W1.basis()"
   ]
  },
  {
   "cell_type": "code",
   "execution_count": 14,
   "metadata": {},
   "outputs": [
    {
     "data": {
      "text/html": [
       "<html><script type=\"math/tex; mode=display\">\\newcommand{\\Bold}[1]{\\mathbf{#1}}s_{} \\otimes s_{3} + s_{1} \\otimes s_{2,1} + s_{1} \\otimes s_{3} + 2s_{2} \\otimes s_{2,1} + s_{3} \\otimes s_{1,1,1} + s_{3} \\otimes s_{2,1} + s_{4} \\otimes s_{1,1,1}</script></html>"
      ],
      "text/plain": [
       "s[] # s[3] + s[1] # s[2, 1] + s[1] # s[3] + 2*s[2] # s[2, 1] + s[3] # s[1, 1, 1] + s[3] # s[2, 1] + s[4] # s[1, 1, 1]"
      ]
     },
     "execution_count": 14,
     "metadata": {},
     "output_type": "execute_result"
    }
   ],
   "source": [
    "character(Isotyp(W1, 3), 3, 1)"
   ]
  },
  {
   "cell_type": "markdown",
   "metadata": {},
   "source": [
    "Appliquons $\\sum_i \\partial_{x_i}$ et $\\sum_i x_i \\partial_{x_i}^2$ à $\\mathcal{V}_{\\gamma}$. "
   ]
  },
  {
   "cell_type": "code",
   "execution_count": 15,
   "metadata": {
    "scrolled": true
   },
   "outputs": [
    {
     "data": {
      "text/html": [
       "<html><script type=\"math/tex; mode=display\">\\newcommand{\\Bold}[1]{\\mathbf{#1}}-3 x_{00}^{2} x_{01} + 3 x_{00} x_{01}^{2} + 3 x_{00}^{2} x_{02} - 3 x_{01}^{2} x_{02} - 3 x_{00} x_{02}^{2} + 3 x_{01} x_{02}^{2}</script></html>"
      ],
      "text/plain": [
       "-3*x00^2*x01 + 3*x00*x01^2 + 3*x00^2*x02 - 3*x01^2*x02 - 3*x00*x02^2 + 3*x01*x02^2"
      ]
     },
     "execution_count": 15,
     "metadata": {},
     "output_type": "execute_result"
    }
   ],
   "source": [
    "x00, x01, x02 = P1.variables()[0]\n",
    "P1.symmetric_derivative(P1(v), (1,))"
   ]
  },
  {
   "cell_type": "code",
   "execution_count": 16,
   "metadata": {},
   "outputs": [
    {
     "data": {
      "text/html": [
       "<html><script type=\"math/tex; mode=display\">\\newcommand{\\Bold}[1]{\\mathbf{#1}}-6 x_{00}^{2} x_{01} + 6 x_{00} x_{01}^{2} + 6 x_{00}^{2} x_{02} - 6 x_{01}^{2} x_{02} - 6 x_{00} x_{02}^{2} + 6 x_{01} x_{02}^{2}</script></html>"
      ],
      "text/plain": [
       "-6*x00^2*x01 + 6*x00*x01^2 + 6*x00^2*x02 - 6*x01^2*x02 - 6*x00*x02^2 + 6*x01*x02^2"
      ]
     },
     "execution_count": 16,
     "metadata": {},
     "output_type": "execute_result"
    }
   ],
   "source": [
    "P1.steenrod_op(P1(v), 0, 2)"
   ]
  },
  {
   "cell_type": "markdown",
   "metadata": {},
   "source": [
    "Polarisation"
   ]
  },
  {
   "cell_type": "code",
   "execution_count": 17,
   "metadata": {},
   "outputs": [
    {
     "data": {
      "text/html": [
       "<html><script type=\"math/tex; mode=display\">\\newcommand{\\Bold}[1]{\\mathbf{#1}}s_{} \\otimes s_{3} + s_{1} \\otimes s_{2,1} + s_{1} \\otimes s_{3} + s_{1,1} \\otimes s_{1,1,1} + s_{1,1} \\otimes s_{2,1} + 2s_{2} \\otimes s_{2,1} + s_{2,1} \\otimes s_{1,1,1} + s_{3} \\otimes s_{1,1,1} + s_{3} \\otimes s_{2,1} + s_{4} \\otimes s_{1,1,1}</script></html>"
      ],
      "text/plain": [
       "s[] # s[3] + s[1] # s[2, 1] + s[1] # s[3] + s[1, 1] # s[1, 1, 1] + s[1, 1] # s[2, 1] + 2*s[2] # s[2, 1] + s[2, 1] # s[1, 1, 1] + s[3] # s[1, 1, 1] + s[3] # s[2, 1] + s[4] # s[1, 1, 1]"
      ]
     },
     "execution_count": 17,
     "metadata": {},
     "output_type": "execute_result"
    }
   ],
   "source": [
    "P2 = DiagonalPolynomialRing(QQ, 3, 2)\n",
    "op_pol = polarization_operators(P2)\n",
    "W2 = PolarizedSpace(P2, Isotyp(W1, 3), op_pol)\n",
    "character(W2, 3, 2)"
   ]
  },
  {
   "cell_type": "code",
   "execution_count": 18,
   "metadata": {
    "scrolled": true
   },
   "outputs": [
    {
     "data": {
      "text/html": [
       "<html><script type=\"math/tex; mode=display\">\\newcommand{\\Bold}[1]{\\mathbf{#1}}s_{} \\otimes s_{3} + s_{1} \\otimes s_{2,1} + s_{1,1} \\otimes s_{1,1,1} + s_{2} \\otimes s_{2,1} + s_{3} \\otimes s_{1,1,1}</script></html>"
      ],
      "text/plain": [
       "s[] # s[3] + s[1] # s[2, 1] + s[1, 1] # s[1, 1, 1] + s[2] # s[2, 1] + s[3] # s[1, 1, 1]"
      ]
     },
     "execution_count": 18,
     "metadata": {},
     "output_type": "execute_result"
    }
   ],
   "source": [
    "list_degrees = [tuple(k1 if j==i1 else 0 for j in range(P2._r)) \n",
    "                for k1 in range(1, 3+1) for i1 in range(0, P2._r)]\n",
    "sym_diff = symmetric_derivatives(P2, list_degrees)\n",
    "character(Range(W2, sym_diff), 3, 2)"
   ]
  },
  {
   "cell_type": "code",
   "execution_count": 19,
   "metadata": {},
   "outputs": [
    {
     "data": {
      "text/html": [
       "<html><script type=\"math/tex; mode=display\">\\newcommand{\\Bold}[1]{\\mathbf{#1}}s_{1} \\otimes s_{3} + s_{1,1} \\otimes s_{2,1} + s_{2} \\otimes s_{2,1} + s_{2,1} \\otimes s_{1,1,1} + s_{3} \\otimes s_{2,1} + s_{4} \\otimes s_{1,1,1}</script></html>"
      ],
      "text/plain": [
       "s[1] # s[3] + s[1, 1] # s[2, 1] + s[2] # s[2, 1] + s[2, 1] # s[1, 1, 1] + s[3] # s[2, 1] + s[4] # s[1, 1, 1]"
      ]
     },
     "execution_count": 19,
     "metadata": {},
     "output_type": "execute_result"
    }
   ],
   "source": [
    "charac = character(W2, 3, 2) - character(Range(W2, sym_diff), 3, 2)\n",
    "charac"
   ]
  },
  {
   "cell_type": "markdown",
   "metadata": {},
   "source": [
    "Ou dans la base des monomiales"
   ]
  },
  {
   "cell_type": "code",
   "execution_count": 20,
   "metadata": {
    "scrolled": false
   },
   "outputs": [
    {
     "data": {
      "text/html": [
       "<html><script type=\"math/tex; mode=display\">\\newcommand{\\Bold}[1]{\\mathbf{#1}}m_{1} \\otimes s_{3} + 2m_{1,1} \\otimes s_{2,1} + m_{2} \\otimes s_{2,1} + m_{2,1} \\otimes s_{1,1,1} + m_{2,1} \\otimes s_{2,1} + m_{2,2} \\otimes s_{1,1,1} + m_{3} \\otimes s_{2,1} + m_{3,1} \\otimes s_{1,1,1} + m_{4} \\otimes s_{1,1,1}</script></html>"
      ],
      "text/plain": [
       "m[1] # s[3] + 2*m[1, 1] # s[2, 1] + m[2] # s[2, 1] + m[2, 1] # s[1, 1, 1] + m[2, 1] # s[2, 1] + m[2, 2] # s[1, 1, 1] + m[3] # s[2, 1] + m[3, 1] # s[1, 1, 1] + m[4] # s[1, 1, 1]"
      ]
     },
     "execution_count": 20,
     "metadata": {},
     "output_type": "execute_result"
    }
   ],
   "source": [
    "character(W2, 3, 2, left_basis=m) - character(Range(W2, sym_diff), 3, 2, left_basis=m)"
   ]
  },
  {
   "cell_type": "markdown",
   "metadata": {},
   "source": [
    "On factorise le caractère par représentation de $S_3$."
   ]
  },
  {
   "cell_type": "code",
   "execution_count": 21,
   "metadata": {
    "scrolled": true
   },
   "outputs": [
    {
     "name": "stdout",
     "output_type": "stream",
     "text": [
      "[1, 1, 1]\n"
     ]
    },
    {
     "data": {
      "text/html": [
       "<html><script type=\"math/tex; mode=display\">\\newcommand{\\Bold}[1]{\\mathbf{#1}}s_{2,1} + s_{4}</script></html>"
      ],
      "text/plain": [
       "s[2, 1] + s[4]"
      ]
     },
     "metadata": {},
     "output_type": "display_data"
    },
    {
     "name": "stdout",
     "output_type": "stream",
     "text": [
      "[3]\n"
     ]
    },
    {
     "data": {
      "text/html": [
       "<html><script type=\"math/tex; mode=display\">\\newcommand{\\Bold}[1]{\\mathbf{#1}}s_{1}</script></html>"
      ],
      "text/plain": [
       "s[1]"
      ]
     },
     "metadata": {},
     "output_type": "display_data"
    },
    {
     "name": "stdout",
     "output_type": "stream",
     "text": [
      "[2, 1]\n"
     ]
    },
    {
     "data": {
      "text/html": [
       "<html><script type=\"math/tex; mode=display\">\\newcommand{\\Bold}[1]{\\mathbf{#1}}s_{1,1} + s_{2} + s_{3}</script></html>"
      ],
      "text/plain": [
       "s[1, 1] + s[2] + s[3]"
      ]
     },
     "metadata": {},
     "output_type": "display_data"
    }
   ],
   "source": [
    "factorise(charac, 3)"
   ]
  },
  {
   "cell_type": "markdown",
   "metadata": {},
   "source": [
    "### Cas du diagramme 024 : en cours de résolution"
   ]
  },
  {
   "cell_type": "code",
   "execution_count": 22,
   "metadata": {
    "scrolled": false
   },
   "outputs": [
    {
     "data": {
      "text/html": [
       "<html><script type=\"math/tex; mode=display\">\\newcommand{\\Bold}[1]{\\mathbf{#1}}(x_{01} - x_{02}) \\cdot (x_{01} + x_{02}) \\cdot (-x_{00} + x_{01}) \\cdot (x_{00} - x_{02}) \\cdot (x_{00} + x_{02}) \\cdot (x_{00} + x_{01})</script></html>"
      ],
      "text/plain": [
       "(x01 - x02) * (x01 + x02) * (-x00 + x01) * (x00 - x02) * (x00 + x02) * (x00 + x01)"
      ]
     },
     "execution_count": 22,
     "metadata": {},
     "output_type": "execute_result"
    }
   ],
   "source": [
    "v = vandermonde(Diagram([(0,0),(2,0),(4,0)]))\n",
    "v.factor()"
   ]
  },
  {
   "cell_type": "markdown",
   "metadata": {},
   "source": [
    "### Tests pour 024\n",
    "\n",
    "**Quotient puis polarisation** et test des dimensions (vérification du symétriseur de Young)"
   ]
  },
  {
   "cell_type": "code",
   "execution_count": 23,
   "metadata": {
    "scrolled": false
   },
   "outputs": [
    {
     "name": "stdout",
     "output_type": "stream",
     "text": [
      "dimension V1: 4\n",
      "\n",
      "V1(X)\n"
     ]
    },
    {
     "data": {
      "text/html": [
       "<html><script type=\"math/tex; mode=display\">\\newcommand{\\Bold}[1]{\\mathbf{#1}}s_{3} \\otimes s_{1,1,1} + s_{4} \\otimes s_{1,1,1} + s_{5} \\otimes s_{1,1,1} + s_{6} \\otimes s_{1,1,1}</script></html>"
      ],
      "text/plain": [
       "s[3] # s[1, 1, 1] + s[4] # s[1, 1, 1] + s[5] # s[1, 1, 1] + s[6] # s[1, 1, 1]"
      ]
     },
     "metadata": {},
     "output_type": "display_data"
    },
    {
     "name": "stdout",
     "output_type": "stream",
     "text": [
      "V2(X)\n"
     ]
    },
    {
     "data": {
      "text/html": [
       "<html><script type=\"math/tex; mode=display\">\\newcommand{\\Bold}[1]{\\mathbf{#1}}s_{3} \\otimes s_{1,1,1} + s_{4} \\otimes s_{1,1,1} + s_{5} \\otimes s_{1,1,1}</script></html>"
      ],
      "text/plain": [
       "s[3] # s[1, 1, 1] + s[4] # s[1, 1, 1] + s[5] # s[1, 1, 1]"
      ]
     },
     "metadata": {},
     "output_type": "display_data"
    },
    {
     "name": "stdout",
     "output_type": "stream",
     "text": [
      "V1(X)-V2(X)\n"
     ]
    },
    {
     "data": {
      "text/html": [
       "<html><script type=\"math/tex; mode=display\">\\newcommand{\\Bold}[1]{\\mathbf{#1}}s_{6} \\otimes s_{1,1,1}</script></html>"
      ],
      "text/plain": [
       "s[6] # s[1, 1, 1]"
      ]
     },
     "metadata": {},
     "output_type": "display_data"
    },
    {
     "data": {
      "text/html": [
       "<html><script type=\"math/tex; mode=display\">\\newcommand{\\Bold}[1]{\\mathbf{#1}}s_{6} \\otimes s_{1,1,1}</script></html>"
      ],
      "text/plain": [
       "s[6] # s[1, 1, 1]"
      ]
     },
     "metadata": {},
     "output_type": "display_data"
    },
    {
     "name": "stdout",
     "output_type": "stream",
     "text": [
      "V1(X,Y)\n"
     ]
    },
    {
     "data": {
      "text/html": [
       "<html><script type=\"math/tex; mode=display\">\\newcommand{\\Bold}[1]{\\mathbf{#1}}m_{1,1} \\otimes s_{1,1,1} + 2m_{2,1} \\otimes s_{1,1,1} + 3m_{2,2} \\otimes s_{1,1,1} + m_{3} \\otimes s_{1,1,1} + 3m_{3,1} \\otimes s_{1,1,1} + 2m_{3,2} \\otimes s_{1,1,1} + m_{3,3} \\otimes s_{1,1,1} + m_{4} \\otimes s_{1,1,1} + 2m_{4,1} \\otimes s_{1,1,1} + m_{4,2} \\otimes s_{1,1,1} + m_{5} \\otimes s_{1,1,1} + m_{5,1} \\otimes s_{1,1,1} + m_{6} \\otimes s_{1,1,1}</script></html>"
      ],
      "text/plain": [
       "m[1, 1] # s[1, 1, 1] + 2*m[2, 1] # s[1, 1, 1] + 3*m[2, 2] # s[1, 1, 1] + m[3] # s[1, 1, 1] + 3*m[3, 1] # s[1, 1, 1] + 2*m[3, 2] # s[1, 1, 1] + m[3, 3] # s[1, 1, 1] + m[4] # s[1, 1, 1] + 2*m[4, 1] # s[1, 1, 1] + m[4, 2] # s[1, 1, 1] + m[5] # s[1, 1, 1] + m[5, 1] # s[1, 1, 1] + m[6] # s[1, 1, 1]"
      ]
     },
     "metadata": {},
     "output_type": "display_data"
    },
    {
     "name": "stdout",
     "output_type": "stream",
     "text": [
      "V2(X,Y)\n"
     ]
    },
    {
     "data": {
      "text/html": [
       "<html><script type=\"math/tex; mode=display\">\\newcommand{\\Bold}[1]{\\mathbf{#1}}m_{1,1} \\otimes s_{1,1,1} + 2m_{2,1} \\otimes s_{1,1,1} + 2m_{2,2} \\otimes s_{1,1,1} + m_{3} \\otimes s_{1,1,1} + 2m_{3,1} \\otimes s_{1,1,1} + m_{3,2} \\otimes s_{1,1,1} + m_{4} \\otimes s_{1,1,1} + m_{4,1} \\otimes s_{1,1,1} + m_{5} \\otimes s_{1,1,1}</script></html>"
      ],
      "text/plain": [
       "m[1, 1] # s[1, 1, 1] + 2*m[2, 1] # s[1, 1, 1] + 2*m[2, 2] # s[1, 1, 1] + m[3] # s[1, 1, 1] + 2*m[3, 1] # s[1, 1, 1] + m[3, 2] # s[1, 1, 1] + m[4] # s[1, 1, 1] + m[4, 1] # s[1, 1, 1] + m[5] # s[1, 1, 1]"
      ]
     },
     "metadata": {},
     "output_type": "display_data"
    },
    {
     "name": "stdout",
     "output_type": "stream",
     "text": [
      "V1(X,Y)-V2(X,Y)\n"
     ]
    },
    {
     "data": {
      "text/html": [
       "<html><script type=\"math/tex; mode=display\">\\newcommand{\\Bold}[1]{\\mathbf{#1}}m_{2,2} \\otimes s_{1,1,1} + m_{3,1} \\otimes s_{1,1,1} + m_{3,2} \\otimes s_{1,1,1} + m_{3,3} \\otimes s_{1,1,1} + m_{4,1} \\otimes s_{1,1,1} + m_{4,2} \\otimes s_{1,1,1} + m_{5,1} \\otimes s_{1,1,1} + m_{6} \\otimes s_{1,1,1}</script></html>"
      ],
      "text/plain": [
       "m[2, 2] # s[1, 1, 1] + m[3, 1] # s[1, 1, 1] + m[3, 2] # s[1, 1, 1] + m[3, 3] # s[1, 1, 1] + m[4, 1] # s[1, 1, 1] + m[4, 2] # s[1, 1, 1] + m[5, 1] # s[1, 1, 1] + m[6] # s[1, 1, 1]"
      ]
     },
     "metadata": {},
     "output_type": "display_data"
    },
    {
     "data": {
      "text/html": [
       "<html><script type=\"math/tex; mode=display\">\\newcommand{\\Bold}[1]{\\mathbf{#1}}s_{3,1} \\otimes s_{1,1,1} + s_{4,1} \\otimes s_{1,1,1} + s_{6} \\otimes s_{1,1,1}</script></html>"
      ],
      "text/plain": [
       "s[3, 1] # s[1, 1, 1] + s[4, 1] # s[1, 1, 1] + s[6] # s[1, 1, 1]"
      ]
     },
     "metadata": {},
     "output_type": "display_data"
    }
   ],
   "source": [
    "# Create M with V, partial derivatives and Steenrod in x\n",
    "P1 = DiagonalPolynomialRing(QQ, 3, 1)\n",
    "v = vandermonde(Diagram([(0,0),(2,0),(4,0)]))\n",
    "deg = degree_vandermonde(Diagram([(0,0),(2,0),(4,0)]))\n",
    "generator = {P1._grading_set((deg,)) : [P1(v)]}\n",
    "#list_op = partial_derivatives(P1)\n",
    "list_op = merge(steenrod_operators(P1, 1), steenrod_operators(P1, 2))\n",
    "W1 = Subspace(generators=generator, operators=list_op, add_degrees=add_degree)\n",
    "print \"dimension V1:\",W1.dimension()\n",
    "W1 = Isotyp(W1, Partition([1,1,1]))\n",
    "#print dimension(character(W1, 3, 1), 3)\n",
    "print\n",
    "\n",
    "# Create ideal I*M in x using symmetric derivatives\n",
    "list_degrees = [tuple((i,)) for i in range(1,4)]\n",
    "#sym_diff = symmetric_derivatives(P1, list_degrees)\n",
    "sym_diff = merge(steenrod_operators(P1, 1), steenrod_operators(P1, 2))\n",
    "W2 = Range(W1, sym_diff)\n",
    "\n",
    "# Print caracters in one set of variables\n",
    "print \"V1(X)\"\n",
    "show(character(W1, 3, 1))\n",
    "print \"V2(X)\"\n",
    "show(character(W2, 3, 1))\n",
    "print \"V1(X)-V2(X)\"\n",
    "show(character(W1, 3, 1)- character(W2, 3, 1))\n",
    "show(character_quotient(W1, W2, 3, 1))\n",
    "\n",
    "# Polarisation of M and I*M\n",
    "r=2\n",
    "P2 = DiagonalPolynomialRing(QQ, 3, r)\n",
    "op_pol = polarization_operators(P2, max_deg=4)\n",
    "op_pol2 = polarization_operators(P2, max_deg=4, side=\"down\")\n",
    "list_degrees = [tuple((i,j)) for i in range(1,deg) for j in range(1,deg) if i+j!=0 and i+j<=deg]\n",
    "list_degrees += [(0,1), (0,2), (1,0), (2,0)]\n",
    "#op_pol2 = merge(op_pol2, diagonal_steenrod_operators(P2, list_degrees))\n",
    "op_pol = merge(merge(op_pol, steenrod_operators(P2, 1)), steenrod_operators(P2,2))\n",
    "op_pol2 = merge(merge(op_pol2, multipolarization(P2, list_degrees, 0)), multipolarization(P2, list_degrees, 1))\n",
    "#op_pol = merge(op_pol, multipolarization(P2, list_degrees, 0))\n",
    "#op_pol = merge(op_pol, multipolarization(P2, list_degrees, 1))\n",
    "W1 = PolarizedSpace(P2, W1, op_pol)\n",
    "W2 = PolarizedSpace(P2, W2, op_pol2)\n",
    "\n",
    "# Print caracters in two sets of variables\n",
    "print \"V1(X,Y)\"\n",
    "show(character(W1, 3, r, left_basis=m))\n",
    "print \"V2(X,Y)\"\n",
    "show(character(W2, 3, r, left_basis=m))\n",
    "charac = character(W1, 3, r, left_basis=m) - character(W2, 3, r, left_basis=m)\n",
    "print \"V1(X,Y)-V2(X,Y)\"\n",
    "show(charac)\n",
    "show(character_quotient(W1, W2, 3, 2))"
   ]
  },
  {
   "cell_type": "markdown",
   "metadata": {},
   "source": [
    "**Polarisation puis quotient**"
   ]
  },
  {
   "cell_type": "code",
   "execution_count": 12,
   "metadata": {},
   "outputs": [
    {
     "name": "stdout",
     "output_type": "stream",
     "text": [
      "V1(X)\n"
     ]
    },
    {
     "data": {
      "text/html": [
       "<html><script type=\"math/tex; mode=display\">\\newcommand{\\Bold}[1]{\\mathbf{#1}}s_{3} \\otimes s_{1,1,1} + s_{4} \\otimes s_{1,1,1} + 2s_{5} \\otimes s_{1,1,1} + s_{6} \\otimes s_{1,1,1}</script></html>"
      ],
      "text/plain": [
       "s[3] # s[1, 1, 1] + s[4] # s[1, 1, 1] + 2*s[5] # s[1, 1, 1] + s[6] # s[1, 1, 1]"
      ]
     },
     "metadata": {},
     "output_type": "display_data"
    },
    {
     "name": "stdout",
     "output_type": "stream",
     "text": [
      "V1(X,Y)\n"
     ]
    },
    {
     "data": {
      "text/html": [
       "<html><script type=\"math/tex; mode=display\">\\newcommand{\\Bold}[1]{\\mathbf{#1}}s_{1,1} \\otimes s_{1,1,1} + s_{2,1} \\otimes s_{1,1,1} + s_{3} \\otimes s_{1,1,1} + 2s_{3,1} \\otimes s_{1,1,1} + s_{4} \\otimes s_{1,1,1} + s_{4,1} \\otimes s_{1,1,1} + 2s_{5} \\otimes s_{1,1,1} + s_{6} \\otimes s_{1,1,1}</script></html>"
      ],
      "text/plain": [
       "s[1, 1] # s[1, 1, 1] + s[2, 1] # s[1, 1, 1] + s[3] # s[1, 1, 1] + 2*s[3, 1] # s[1, 1, 1] + s[4] # s[1, 1, 1] + s[4, 1] # s[1, 1, 1] + 2*s[5] # s[1, 1, 1] + s[6] # s[1, 1, 1]"
      ]
     },
     "metadata": {},
     "output_type": "display_data"
    },
    {
     "name": "stdout",
     "output_type": "stream",
     "text": [
      "V2(X,Y)\n"
     ]
    },
    {
     "data": {
      "text/html": [
       "<html><script type=\"math/tex; mode=display\">\\newcommand{\\Bold}[1]{\\mathbf{#1}}s_{1,1} \\otimes s_{1,1,1} + s_{2,1} \\otimes s_{1,1,1} + s_{3} \\otimes s_{1,1,1} + 2s_{3,1} \\otimes s_{1,1,1} + s_{4} \\otimes s_{1,1,1} + s_{4,1} \\otimes s_{1,1,1} + 2s_{5} \\otimes s_{1,1,1}</script></html>"
      ],
      "text/plain": [
       "s[1, 1] # s[1, 1, 1] + s[2, 1] # s[1, 1, 1] + s[3] # s[1, 1, 1] + 2*s[3, 1] # s[1, 1, 1] + s[4] # s[1, 1, 1] + s[4, 1] # s[1, 1, 1] + 2*s[5] # s[1, 1, 1]"
      ]
     },
     "metadata": {},
     "output_type": "display_data"
    },
    {
     "name": "stdout",
     "output_type": "stream",
     "text": [
      "V1(X,Y)-V2(X,Y)\n"
     ]
    },
    {
     "data": {
      "text/html": [
       "<html><script type=\"math/tex; mode=display\">\\newcommand{\\Bold}[1]{\\mathbf{#1}}s_{6} \\otimes s_{1,1,1}</script></html>"
      ],
      "text/plain": [
       "s[6] # s[1, 1, 1]"
      ]
     },
     "metadata": {},
     "output_type": "display_data"
    }
   ],
   "source": [
    "P1 = DiagonalPolynomialRing(QQ, 3, 1)\n",
    "v = vandermonde(Diagram([(0,0),(2,0),(4,0)]))\n",
    "deg = 6\n",
    "generator = {P1._grading_set((6,)) : [P1(v)]}\n",
    "list_op = partial_derivatives(P1)\n",
    "list_op = merge(merge(list_op, steenrod_operators(P1, 1)), steenrod_operators(P1, 2))\n",
    "W1 = Subspace(generators=generator, operators=list_op, add_degrees=add_degree)\n",
    "W1 = Isotyp(W1, Partition([1,1,1]))\n",
    "\n",
    "print \"V1(X)\"\n",
    "show(character(W1, 3, 1))\n",
    "\n",
    "r=2\n",
    "P2 = DiagonalPolynomialRing(QQ, 3, r)\n",
    "op_pol = polarization_operators(P2, side=\"down\")\n",
    "op_pol = merge(merge(op_pol, steenrod_operators(P2, 1)), steenrod_operators(P2, 2))\n",
    "W1 = PolarizedSpace(P2, W1, op_pol)\n",
    "\n",
    "print \"V1(X,Y)\"\n",
    "show(character(W1, 3, r))\n",
    "\n",
    "list_degrees = [tuple((i,j)) for i in range(0, deg) for j in range(0, deg) if i+j>0 and i+j<deg]\n",
    "sym_diff = symmetric_derivatives(P2, list_degrees)\n",
    "sym_diff = merge(merge(sym_diff, steenrod_operators(P2, 1)), steenrod_operators(P2, 2))\n",
    "W2 = Range(W1, sym_diff, add_degrees=add_degrees_isotypic)\n",
    "\n",
    "print \"V2(X,Y)\"\n",
    "show(character(W2, 3, r))\n",
    "\n",
    "print \"V1(X,Y)-V2(X,Y)\"\n",
    "charac = character(W1, 3, r) - character(W2, 3, r)\n",
    "show(charac)"
   ]
  },
  {
   "cell_type": "markdown",
   "metadata": {},
   "source": [
    "**Tests** sur le modèle polarisation puis quotient"
   ]
  },
  {
   "cell_type": "code",
   "execution_count": 40,
   "metadata": {
    "scrolled": true
   },
   "outputs": [
    {
     "name": "stdout",
     "output_type": "stream",
     "text": [
      "V1(X)\n"
     ]
    },
    {
     "data": {
      "text/html": [
       "<html><script type=\"math/tex; mode=display\">\\newcommand{\\Bold}[1]{\\mathbf{#1}}s_{3} \\otimes s_{1,1,1} + s_{4} \\otimes s_{1,1,1} + s_{5} \\otimes s_{1,1,1} + s_{6} \\otimes s_{1,1,1}</script></html>"
      ],
      "text/plain": [
       "s[3] # s[1, 1, 1] + s[4] # s[1, 1, 1] + s[5] # s[1, 1, 1] + s[6] # s[1, 1, 1]"
      ]
     },
     "metadata": {},
     "output_type": "display_data"
    },
    {
     "name": "stdout",
     "output_type": "stream",
     "text": [
      "V1(X,Y)\n"
     ]
    },
    {
     "data": {
      "text/html": [
       "<html><script type=\"math/tex; mode=display\">\\newcommand{\\Bold}[1]{\\mathbf{#1}}s_{1,1} \\otimes s_{1,1,1} + s_{2,1} \\otimes s_{1,1,1} + s_{3} \\otimes s_{1,1,1} + 2s_{3,1} \\otimes s_{1,1,1} + s_{4} \\otimes s_{1,1,1} + s_{4,1} \\otimes s_{1,1,1} + s_{5} \\otimes s_{1,1,1} + s_{6} \\otimes s_{1,1,1}</script></html>"
      ],
      "text/plain": [
       "s[1, 1] # s[1, 1, 1] + s[2, 1] # s[1, 1, 1] + s[3] # s[1, 1, 1] + 2*s[3, 1] # s[1, 1, 1] + s[4] # s[1, 1, 1] + s[4, 1] # s[1, 1, 1] + s[5] # s[1, 1, 1] + s[6] # s[1, 1, 1]"
      ]
     },
     "metadata": {},
     "output_type": "display_data"
    },
    {
     "name": "stdout",
     "output_type": "stream",
     "text": [
      "V2(X,Y) steenrod\n"
     ]
    },
    {
     "data": {
      "text/html": [
       "<html><script type=\"math/tex; mode=display\">\\newcommand{\\Bold}[1]{\\mathbf{#1}}s_{1,1} \\otimes s_{1,1,1} + s_{2,1} \\otimes s_{1,1,1} + s_{3} \\otimes s_{1,1,1} + 2s_{3,1} \\otimes s_{1,1,1} + s_{4} \\otimes s_{1,1,1} + s_{4,1} \\otimes s_{1,1,1} + s_{5} \\otimes s_{1,1,1}</script></html>"
      ],
      "text/plain": [
       "s[1, 1] # s[1, 1, 1] + s[2, 1] # s[1, 1, 1] + s[3] # s[1, 1, 1] + 2*s[3, 1] # s[1, 1, 1] + s[4] # s[1, 1, 1] + s[4, 1] # s[1, 1, 1] + s[5] # s[1, 1, 1]"
      ]
     },
     "metadata": {},
     "output_type": "display_data"
    },
    {
     "name": "stdout",
     "output_type": "stream",
     "text": [
      "V3(X,Y) steenrod x2\n"
     ]
    },
    {
     "data": {
      "text/html": [
       "<html><script type=\"math/tex; mode=display\">\\newcommand{\\Bold}[1]{\\mathbf{#1}}s_{1,1} \\otimes s_{1,1,1} + s_{2,1} \\otimes s_{1,1,1} - s_{2,2} \\otimes s_{1,1,1} + s_{3} \\otimes s_{1,1,1} + 2s_{3,1} \\otimes s_{1,1,1} + s_{4} \\otimes s_{1,1,1}</script></html>"
      ],
      "text/plain": [
       "s[1, 1] # s[1, 1, 1] + s[2, 1] # s[1, 1, 1] - s[2, 2] # s[1, 1, 1] + s[3] # s[1, 1, 1] + 2*s[3, 1] # s[1, 1, 1] + s[4] # s[1, 1, 1]"
      ]
     },
     "metadata": {},
     "output_type": "display_data"
    },
    {
     "name": "stdout",
     "output_type": "stream",
     "text": [
      "V1(X,Y)-V2(X,Y)\n"
     ]
    },
    {
     "data": {
      "text/html": [
       "<html><script type=\"math/tex; mode=display\">\\newcommand{\\Bold}[1]{\\mathbf{#1}}s_{2,2} \\otimes s_{1,1,1} + s_{4,1} \\otimes s_{1,1,1} + s_{6} \\otimes s_{1,1,1}</script></html>"
      ],
      "text/plain": [
       "s[2, 2] # s[1, 1, 1] + s[4, 1] # s[1, 1, 1] + s[6] # s[1, 1, 1]"
      ]
     },
     "metadata": {},
     "output_type": "display_data"
    }
   ],
   "source": [
    "P1 = DiagonalPolynomialRing(QQ, 3, 1)\n",
    "v = vandermonde(Diagram([(0,0),(2,0),(4,0)]))\n",
    "deg = 6\n",
    "generator = {P1._grading_set((6,)) : [P1(v)]}\n",
    "list_op2 = merge(steenrod_operators(P1, 1), steenrod_operators(P1, 2))\n",
    "W1 = Subspace(generators=generator, operators=list_op2, add_degrees=add_degree)\n",
    "W1 = Isotyp(W1, Partition([1,1,1]))\n",
    "W1bis = Subspace(generators=generator, operators={}, add_degrees=add_degree)\n",
    "W1bis = Isotyp(W1bis, Partition([1,1,1]))\n",
    "\n",
    "print \"V1(X)\"\n",
    "show(character(W1, 3, 1))\n",
    "\n",
    "W2bis = Range(W1bis, steenrod_operators(P1, 1))\n",
    "\n",
    "r=2\n",
    "P2 = DiagonalPolynomialRing(QQ, 3, r)\n",
    "op_pol = polarization_operators(P2, side=\"down\")\n",
    "#op_pol = merge(merge(op_pol, steenrod_operators(P2, 1)), steenrod_operators(P2, 2))\n",
    "W1 = PolarizedSpace(P2, W1, op_pol)\n",
    "print \"V1(X,Y)\"\n",
    "show(character(W1, 3, r))\n",
    "\n",
    "sym_diff = {}\n",
    "sym_diff2 = merge(steenrod_operators(P2, 1), steenrod_operators(P2, 2))\n",
    "W2 = Range(W1, sym_diff2, add_degrees=add_degrees_isotypic)\n",
    "W3 = Range(W2, sym_diff2, add_degrees=add_degrees_isotypic)\n",
    "\n",
    "print \"V2(X,Y) steenrod\"\n",
    "show(character(W2, 3, r, left_basis=s))\n",
    "print \"V3(X,Y) steenrod x2\"\n",
    "show(character(W3, 3, r, left_basis=s))\n",
    "\n",
    "print \"V1(X,Y)-V2(X,Y)\"\n",
    "charac = character(W1, 3, r) - character(W3, 3, r) - character(W2bis, 3, 1)\n",
    "show(charac)"
   ]
  },
  {
   "cell_type": "code",
   "execution_count": 31,
   "metadata": {},
   "outputs": [
    {
     "name": "stdout",
     "output_type": "stream",
     "text": [
      "V1(X)\n"
     ]
    },
    {
     "data": {
      "text/html": [
       "<html><script type=\"math/tex; mode=display\">\\newcommand{\\Bold}[1]{\\mathbf{#1}}s_{3} \\otimes s_{1,1,1} + s_{4} \\otimes s_{1,1,1} + s_{5} \\otimes s_{1,1,1} + s_{6} \\otimes s_{1,1,1}</script></html>"
      ],
      "text/plain": [
       "s[3] # s[1, 1, 1] + s[4] # s[1, 1, 1] + s[5] # s[1, 1, 1] + s[6] # s[1, 1, 1]"
      ]
     },
     "metadata": {},
     "output_type": "display_data"
    },
    {
     "name": "stdout",
     "output_type": "stream",
     "text": [
      "V1(X,Y)\n"
     ]
    },
    {
     "data": {
      "text/html": [
       "<html><script type=\"math/tex; mode=display\">\\newcommand{\\Bold}[1]{\\mathbf{#1}}s_{1,1} \\otimes s_{1,1,1} + s_{2,1} \\otimes s_{1,1,1} + s_{3} \\otimes s_{1,1,1} + 2s_{3,1} \\otimes s_{1,1,1} + s_{3,2} \\otimes s_{1,1,1} + s_{4} \\otimes s_{1,1,1} + 2s_{4,1} \\otimes s_{1,1,1} + s_{4,2} \\otimes s_{1,1,1} + 2s_{5} \\otimes s_{1,1,1} + s_{5,1} \\otimes s_{1,1,1} + s_{6} \\otimes s_{1,1,1}</script></html>"
      ],
      "text/plain": [
       "s[1, 1] # s[1, 1, 1] + s[2, 1] # s[1, 1, 1] + s[3] # s[1, 1, 1] + 2*s[3, 1] # s[1, 1, 1] + s[3, 2] # s[1, 1, 1] + s[4] # s[1, 1, 1] + 2*s[4, 1] # s[1, 1, 1] + s[4, 2] # s[1, 1, 1] + 2*s[5] # s[1, 1, 1] + s[5, 1] # s[1, 1, 1] + s[6] # s[1, 1, 1]"
      ]
     },
     "metadata": {},
     "output_type": "display_data"
    },
    {
     "name": "stdout",
     "output_type": "stream",
     "text": [
      "V2(X,Y)\n"
     ]
    },
    {
     "data": {
      "text/html": [
       "<html><script type=\"math/tex; mode=display\">\\newcommand{\\Bold}[1]{\\mathbf{#1}}s_{1,1} \\otimes s_{1,1,1} + s_{2,1} \\otimes s_{1,1,1} + s_{3} \\otimes s_{1,1,1} + 2s_{3,1} \\otimes s_{1,1,1} + s_{3,2} \\otimes s_{1,1,1} + s_{4} \\otimes s_{1,1,1} + 2s_{4,1} \\otimes s_{1,1,1} + 2s_{5} \\otimes s_{1,1,1}</script></html>"
      ],
      "text/plain": [
       "s[1, 1] # s[1, 1, 1] + s[2, 1] # s[1, 1, 1] + s[3] # s[1, 1, 1] + 2*s[3, 1] # s[1, 1, 1] + s[3, 2] # s[1, 1, 1] + s[4] # s[1, 1, 1] + 2*s[4, 1] # s[1, 1, 1] + 2*s[5] # s[1, 1, 1]"
      ]
     },
     "metadata": {},
     "output_type": "display_data"
    },
    {
     "name": "stdout",
     "output_type": "stream",
     "text": [
      "V1(X,Y)-V2(X,Y)\n"
     ]
    },
    {
     "data": {
      "text/html": [
       "<html><script type=\"math/tex; mode=display\">\\newcommand{\\Bold}[1]{\\mathbf{#1}}s_{4,2} \\otimes s_{1,1,1} + s_{5,1} \\otimes s_{1,1,1} + s_{6} \\otimes s_{1,1,1}</script></html>"
      ],
      "text/plain": [
       "s[4, 2] # s[1, 1, 1] + s[5, 1] # s[1, 1, 1] + s[6] # s[1, 1, 1]"
      ]
     },
     "metadata": {},
     "output_type": "display_data"
    }
   ],
   "source": [
    "P1 = DiagonalPolynomialRing(QQ, 3, 1)\n",
    "v = vandermonde(Diagram([(0,0),(2,0),(4,0)]))\n",
    "deg = 6\n",
    "generator = {P1._grading_set((6,)) : [P1(v)]}\n",
    "list_op = partial_derivatives(P1)\n",
    "#list_op = merge(merge(list_op, steenrod_operators(P1, 1)), steenrod_operators(P1, 2))\n",
    "W1 = Subspace(generators=generator, operators=list_op, add_degrees=add_degree)\n",
    "W1 = Isotyp(W1, Partition([1,1,1]))\n",
    "\n",
    "print \"V1(X)\"\n",
    "show(character(W1, 3, 1))\n",
    "\n",
    "r=2\n",
    "P2 = DiagonalPolynomialRing(QQ, 3, r)\n",
    "op_pol = polarization_operators(P2, side=\"down\")\n",
    "op_pol = merge(merge(op_pol, steenrod_operators(P2, 1)), steenrod_operators(P2, 2))\n",
    "new_pol={P2._grading_set([-2,2]):[functools.partial(P2.higher_polarization, i1=0, i2=1, d1=2, d2=2)], \n",
    "         P2._grading_set([2,-2]):[functools.partial(P2.higher_polarization, i1=1, i2=0, d1=2, d2=2)]}\n",
    "op_pol = merge(op_pol, new_pol)\n",
    "W1 = PolarizedSpace(P2, W1, op_pol)\n",
    "\n",
    "print \"V1(X,Y)\"\n",
    "show(character(W1, 3, r))\n",
    "\n",
    "list_degrees = [tuple((i,j)) for i in range(0, deg) for j in range(0, deg) if i+j>0 and i+j<deg]\n",
    "sym_diff = symmetric_derivatives(P2, list_degrees)\n",
    "sym_diff = merge(merge(sym_diff, steenrod_operators(P2, 1)), steenrod_operators(P2, 2))\n",
    "W2 = Range(W1, sym_diff, add_degrees=add_degrees_isotypic)\n",
    "\n",
    "print \"V2(X,Y)\"\n",
    "show(character(W2, 3, r))\n",
    "\n",
    "print \"V1(X,Y)-V2(X,Y)\"\n",
    "charac = character(W1, 3, r) - character(W2, 3, r)\n",
    "show(charac)"
   ]
  },
  {
   "cell_type": "code",
   "execution_count": 42,
   "metadata": {
    "scrolled": false
   },
   "outputs": [
    {
     "name": "stdout",
     "output_type": "stream",
     "text": [
      "V1(X)\n"
     ]
    },
    {
     "data": {
      "text/html": [
       "<html><script type=\"math/tex; mode=display\">\\newcommand{\\Bold}[1]{\\mathbf{#1}}s_{3} \\otimes s_{1,1,1} + s_{4} \\otimes s_{1,1,1} + s_{5} \\otimes s_{1,1,1} + s_{6} \\otimes s_{1,1,1}</script></html>"
      ],
      "text/plain": [
       "s[3] # s[1, 1, 1] + s[4] # s[1, 1, 1] + s[5] # s[1, 1, 1] + s[6] # s[1, 1, 1]"
      ]
     },
     "metadata": {},
     "output_type": "display_data"
    },
    {
     "name": "stdout",
     "output_type": "stream",
     "text": [
      "V1(X,Y)\n"
     ]
    },
    {
     "data": {
      "text/html": [
       "<html><script type=\"math/tex; mode=display\">\\newcommand{\\Bold}[1]{\\mathbf{#1}}s_{1,1} \\otimes s_{1,1,1} + s_{2,1} \\otimes s_{1,1,1} + s_{3} \\otimes s_{1,1,1} + 2s_{3,1} \\otimes s_{1,1,1} + s_{4} \\otimes s_{1,1,1} + s_{4,1} \\otimes s_{1,1,1} + s_{5} \\otimes s_{1,1,1} + s_{6} \\otimes s_{1,1,1}</script></html>"
      ],
      "text/plain": [
       "s[1, 1] # s[1, 1, 1] + s[2, 1] # s[1, 1, 1] + s[3] # s[1, 1, 1] + 2*s[3, 1] # s[1, 1, 1] + s[4] # s[1, 1, 1] + s[4, 1] # s[1, 1, 1] + s[5] # s[1, 1, 1] + s[6] # s[1, 1, 1]"
      ]
     },
     "metadata": {},
     "output_type": "display_data"
    },
    {
     "name": "stdout",
     "output_type": "stream",
     "text": [
      "V2(X,Y) steenrod\n"
     ]
    },
    {
     "data": {
      "text/html": [
       "<html><script type=\"math/tex; mode=display\">\\newcommand{\\Bold}[1]{\\mathbf{#1}}s_{1,1} \\otimes s_{1,1,1} + s_{2,1} \\otimes s_{1,1,1} - s_{2,2} \\otimes s_{1,1,1} + s_{3} \\otimes s_{1,1,1} + 2s_{3,1} \\otimes s_{1,1,1} + s_{4} \\otimes s_{1,1,1} + s_{4,1} \\otimes s_{1,1,1} + s_{5} \\otimes s_{1,1,1}</script></html>"
      ],
      "text/plain": [
       "s[1, 1] # s[1, 1, 1] + s[2, 1] # s[1, 1, 1] - s[2, 2] # s[1, 1, 1] + s[3] # s[1, 1, 1] + 2*s[3, 1] # s[1, 1, 1] + s[4] # s[1, 1, 1] + s[4, 1] # s[1, 1, 1] + s[5] # s[1, 1, 1]"
      ]
     },
     "metadata": {},
     "output_type": "display_data"
    },
    {
     "name": "stdout",
     "output_type": "stream",
     "text": [
      "V3(X,Y) steenrod x2\n"
     ]
    },
    {
     "data": {
      "text/html": [
       "<html><script type=\"math/tex; mode=display\">\\newcommand{\\Bold}[1]{\\mathbf{#1}}s_{1,1} \\otimes s_{1,1,1} + s_{2,1} \\otimes s_{1,1,1} - s_{2,2} \\otimes s_{1,1,1} + s_{3} \\otimes s_{1,1,1} + 2s_{3,1} \\otimes s_{1,1,1} + s_{4} \\otimes s_{1,1,1}</script></html>"
      ],
      "text/plain": [
       "s[1, 1] # s[1, 1, 1] + s[2, 1] # s[1, 1, 1] - s[2, 2] # s[1, 1, 1] + s[3] # s[1, 1, 1] + 2*s[3, 1] # s[1, 1, 1] + s[4] # s[1, 1, 1]"
      ]
     },
     "metadata": {},
     "output_type": "display_data"
    },
    {
     "name": "stdout",
     "output_type": "stream",
     "text": [
      "V4(X,Y) deriv sym\n"
     ]
    },
    {
     "data": {
      "text/html": [
       "<html><script type=\"math/tex; mode=display\">\\newcommand{\\Bold}[1]{\\mathbf{#1}}s_{1,1} \\otimes s_{1,1,1} + s_{2,1} \\otimes s_{1,1,1} + s_{3} \\otimes s_{1,1,1} + s_{3,1} \\otimes s_{1,1,1} + s_{4} \\otimes s_{1,1,1} + s_{5} \\otimes s_{1,1,1}</script></html>"
      ],
      "text/plain": [
       "s[1, 1] # s[1, 1, 1] + s[2, 1] # s[1, 1, 1] + s[3] # s[1, 1, 1] + s[3, 1] # s[1, 1, 1] + s[4] # s[1, 1, 1] + s[5] # s[1, 1, 1]"
      ]
     },
     "metadata": {},
     "output_type": "display_data"
    },
    {
     "name": "stdout",
     "output_type": "stream",
     "text": [
      "V5(X,Y) deriv sym x2\n"
     ]
    },
    {
     "data": {
      "text/html": [
       "<html><script type=\"math/tex; mode=display\">\\newcommand{\\Bold}[1]{\\mathbf{#1}}s_{1,1} \\otimes s_{1,1,1} + s_{2,1} \\otimes s_{1,1,1} + s_{3} \\otimes s_{1,1,1} + s_{4} \\otimes s_{1,1,1}</script></html>"
      ],
      "text/plain": [
       "s[1, 1] # s[1, 1, 1] + s[2, 1] # s[1, 1, 1] + s[3] # s[1, 1, 1] + s[4] # s[1, 1, 1]"
      ]
     },
     "metadata": {},
     "output_type": "display_data"
    },
    {
     "name": "stdout",
     "output_type": "stream",
     "text": [
      "V1(X,Y)-V2(X,Y)\n"
     ]
    },
    {
     "data": {
      "text/html": [
       "<html><script type=\"math/tex; mode=display\">\\newcommand{\\Bold}[1]{\\mathbf{#1}}s_{2,2} \\otimes s_{1,1,1} - s_{3,1} \\otimes s_{1,1,1} + s_{4,1} \\otimes s_{1,1,1} + s_{6} \\otimes s_{1,1,1}</script></html>"
      ],
      "text/plain": [
       "s[2, 2] # s[1, 1, 1] - s[3, 1] # s[1, 1, 1] + s[4, 1] # s[1, 1, 1] + s[6] # s[1, 1, 1]"
      ]
     },
     "metadata": {},
     "output_type": "display_data"
    }
   ],
   "source": [
    "P1 = DiagonalPolynomialRing(QQ, 3, 1)\n",
    "v = vandermonde(Diagram([(0,0),(2,0),(4,0)]))\n",
    "deg = 6\n",
    "generator = {P1._grading_set((6,)) : [P1(v)]}\n",
    "list_op1 = partial_derivatives(P1)\n",
    "list_op2 = merge(steenrod_operators(P1, 1), steenrod_operators(P1, 2))\n",
    "W1 = Subspace(generators=generator, operators=list_op2, add_degrees=add_degree)\n",
    "W1 = Isotyp(W1, Partition([1,1,1]))\n",
    "W1bis = Subspace(generators=generator, operators={}, add_degrees=add_degree)\n",
    "W1bis = Isotyp(W1bis, Partition([1,1,1]))\n",
    "\n",
    "print \"V1(X)\"\n",
    "show(character(W1, 3, 1))\n",
    "\n",
    "W2bis = Range(W1bis, steenrod_operators(P1, 1))\n",
    "\n",
    "r=2\n",
    "P2 = DiagonalPolynomialRing(QQ, 3, r)\n",
    "op_pol = polarization_operators(P2, side=\"down\")\n",
    "op_pol = merge(merge(op_pol, steenrod_operators(P2, 1)), steenrod_operators(P2, 2))\n",
    "W1 = PolarizedSpace(P2, W1, op_pol)\n",
    "\n",
    "print \"V1(X,Y)\"\n",
    "show(character(W1, 3, r))\n",
    "\n",
    "sym_diff = {}\n",
    "list_degrees = [tuple((i,j)) for i in range(0, deg) for j in range(0, deg) if i+j>0 and i+j<deg]\n",
    "sym_diff1 = symmetric_derivatives(P2, list_degrees)\n",
    "sym_diff2 = steenrod_operators(P2, 1)\n",
    "sym_diff3 = steenrod_operators(P2, 2)\n",
    "sym_diff4 = merge(symmetric_derivatives(P2, list_degrees), steenrod_operators(P2, 1))\n",
    "W2 = Range(W1, sym_diff2, add_degrees=add_degrees_isotypic)\n",
    "W3 = Range(W2, sym_diff2, add_degrees=add_degrees_isotypic)\n",
    "W4 = Range(W1, sym_diff1, add_degrees=add_degrees_isotypic)\n",
    "W5 = Range(W4, sym_diff1, add_degrees=add_degrees_isotypic)\n",
    "\n",
    "print \"V2(X,Y) steenrod\"\n",
    "show(character(W2, 3, r, left_basis=s))\n",
    "print \"V3(X,Y) steenrod x2\"\n",
    "show(character(W3, 3, r, left_basis=s))\n",
    "print \"V4(X,Y) deriv sym\"\n",
    "show(character(W4, 3, r, left_basis=s))\n",
    "print \"V5(X,Y) deriv sym x2\"\n",
    "show(character(W5, 3, r, left_basis=s))\n",
    "\n",
    "print \"V1(X,Y)-V2(X,Y)\"\n",
    "charac = character(W1, 3, r) - character(W3, 3, r) - character(W4, 3, r) + character(W5, 3, r)\n",
    "show(charac)"
   ]
  },
  {
   "cell_type": "code",
   "execution_count": 27,
   "metadata": {},
   "outputs": [
    {
     "name": "stdout",
     "output_type": "stream",
     "text": [
      "V1(X)\n"
     ]
    },
    {
     "data": {
      "text/html": [
       "<html><script type=\"math/tex; mode=display\">\\newcommand{\\Bold}[1]{\\mathbf{#1}}s_{3} \\otimes s_{1,1,1} + s_{4} \\otimes s_{1,1,1} + s_{5} \\otimes s_{1,1,1} + s_{6} \\otimes s_{1,1,1}</script></html>"
      ],
      "text/plain": [
       "s[3] # s[1, 1, 1] + s[4] # s[1, 1, 1] + s[5] # s[1, 1, 1] + s[6] # s[1, 1, 1]"
      ]
     },
     "metadata": {},
     "output_type": "display_data"
    },
    {
     "name": "stdout",
     "output_type": "stream",
     "text": [
      "V1(X,Y)\n"
     ]
    },
    {
     "data": {
      "text/html": [
       "<html><script type=\"math/tex; mode=display\">\\newcommand{\\Bold}[1]{\\mathbf{#1}}s_{1,1} \\otimes s_{1,1,1} + s_{2,1} \\otimes s_{1,1,1} + s_{3} \\otimes s_{1,1,1} + 2s_{3,1} \\otimes s_{1,1,1} + s_{4} \\otimes s_{1,1,1} + s_{4,1} \\otimes s_{1,1,1} + s_{5} \\otimes s_{1,1,1} + s_{6} \\otimes s_{1,1,1}</script></html>"
      ],
      "text/plain": [
       "s[1, 1] # s[1, 1, 1] + s[2, 1] # s[1, 1, 1] + s[3] # s[1, 1, 1] + 2*s[3, 1] # s[1, 1, 1] + s[4] # s[1, 1, 1] + s[4, 1] # s[1, 1, 1] + s[5] # s[1, 1, 1] + s[6] # s[1, 1, 1]"
      ]
     },
     "metadata": {},
     "output_type": "display_data"
    },
    {
     "name": "stdout",
     "output_type": "stream",
     "text": [
      "V2(X,Y)\n"
     ]
    },
    {
     "data": {
      "text/html": [
       "<html><script type=\"math/tex; mode=display\">\\newcommand{\\Bold}[1]{\\mathbf{#1}}s_{1,1} \\otimes s_{1,1,1} + s_{2,1} \\otimes s_{1,1,1} - s_{2,2} \\otimes s_{1,1,1} + s_{3} \\otimes s_{1,1,1} + 2s_{3,1} \\otimes s_{1,1,1} + s_{4} \\otimes s_{1,1,1} + s_{4,1} \\otimes s_{1,1,1} + s_{5} \\otimes s_{1,1,1}</script></html>"
      ],
      "text/plain": [
       "s[1, 1] # s[1, 1, 1] + s[2, 1] # s[1, 1, 1] - s[2, 2] # s[1, 1, 1] + s[3] # s[1, 1, 1] + 2*s[3, 1] # s[1, 1, 1] + s[4] # s[1, 1, 1] + s[4, 1] # s[1, 1, 1] + s[5] # s[1, 1, 1]"
      ]
     },
     "metadata": {},
     "output_type": "display_data"
    },
    {
     "name": "stdout",
     "output_type": "stream",
     "text": [
      "V3(X,Y)\n"
     ]
    },
    {
     "data": {
      "text/html": [
       "<html><script type=\"math/tex; mode=display\">\\newcommand{\\Bold}[1]{\\mathbf{#1}}s_{1,1} \\otimes s_{1,1,1} + s_{2,1} \\otimes s_{1,1,1} + s_{3} \\otimes s_{1,1,1} + s_{3,1} \\otimes s_{1,1,1} + s_{4} \\otimes s_{1,1,1} + s_{5} \\otimes s_{1,1,1}</script></html>"
      ],
      "text/plain": [
       "s[1, 1] # s[1, 1, 1] + s[2, 1] # s[1, 1, 1] + s[3] # s[1, 1, 1] + s[3, 1] # s[1, 1, 1] + s[4] # s[1, 1, 1] + s[5] # s[1, 1, 1]"
      ]
     },
     "metadata": {},
     "output_type": "display_data"
    },
    {
     "name": "stdout",
     "output_type": "stream",
     "text": [
      "V1(X,Y)-V2(X,Y)\n"
     ]
    },
    {
     "data": {
      "text/html": [
       "<html><script type=\"math/tex; mode=display\">\\newcommand{\\Bold}[1]{\\mathbf{#1}}s_{2,2} \\otimes s_{1,1,1} + s_{6} \\otimes s_{1,1,1}</script></html>"
      ],
      "text/plain": [
       "s[2, 2] # s[1, 1, 1] + s[6] # s[1, 1, 1]"
      ]
     },
     "metadata": {},
     "output_type": "display_data"
    }
   ],
   "source": [
    "P1 = DiagonalPolynomialRing(QQ, 3, 1)\n",
    "v = vandermonde(Diagram([(0,0),(2,0),(4,0)]))\n",
    "deg = 6\n",
    "generator = {P1._grading_set((6,)) : [P1(v)]}\n",
    "list_op = {}\n",
    "#list_op = partial_derivatives(P1)\n",
    "#list_op = merge(merge(list_op, steenrod_operators(P1, 1)), steenrod_operators(P1, 2))\n",
    "list_op = merge(list_op, steenrod_operators(P1, 1))\n",
    "W1 = Subspace(generators=generator, operators=list_op, add_degrees=add_degree)\n",
    "W1 = Isotyp(W1, Partition([1,1,1]))\n",
    "\n",
    "print \"V1(X)\"\n",
    "show(character(W1, 3, 1))\n",
    "\n",
    "r=2\n",
    "P2 = DiagonalPolynomialRing(QQ, 3, r)\n",
    "op_pol = polarization_operators(P2, max_deg=2)\n",
    "#op_pol = merge(op_pol, steenrod_operators(P2, 1)), steenrod_operators(P2, 2))\n",
    "W1 = PolarizedSpace(P2, W1, op_pol)\n",
    "\n",
    "print \"V1(X,Y)\"\n",
    "show(character(W1, 3, r))\n",
    "\n",
    "list_degrees = [tuple((i,j)) for i in range(0, deg) for j in range(0, deg) if i+j>0 and i+j<deg]\n",
    "#sym_diff = symmetric_derivatives(P2, list_degrees)\n",
    "#sym_diff = merge(merge(sym_diff, steenrod_operators(P2, 1)), steenrod_operators(P2, 2))\n",
    "sym_diff = steenrod_operators(P2, 1)\n",
    "W2 = Range(W1, sym_diff, add_degrees=add_degrees_isotypic)\n",
    "W3 = Range(W1, symmetric_derivatives(P2, list_degrees), add_degrees=add_degrees_isotypic )\n",
    "\n",
    "print \"V2(X,Y)\"\n",
    "show(character(W2, 3, r))\n",
    "print \"V3(X,Y)\"\n",
    "show(character(W3, 3, r))\n",
    "\n",
    "print \"V1(X,Y)-V2(X,Y)\"\n",
    "charac = character(W1, 3, r) - character(W2, 3, r)\n",
    "show(charac)"
   ]
  },
  {
   "cell_type": "markdown",
   "metadata": {},
   "source": [
    "On vérifie ici aussi que **$V_1(X,Y)$ stable par dérivation partielle mais pas $V_2(X,Y)$**. \n",
    "\n",
    "(*Ok pour les partages $3$ et $21$ mais problème avec $111$.*)"
   ]
  },
  {
   "cell_type": "code",
   "execution_count": 28,
   "metadata": {
    "scrolled": false
   },
   "outputs": [
    {
     "ename": "AssertionError",
     "evalue": "",
     "output_type": "error",
     "traceback": [
      "\u001b[1;31m---------------------------------------------------------------------------\u001b[0m",
      "\u001b[1;31mAssertionError\u001b[0m                            Traceback (most recent call last)",
      "\u001b[1;32m<ipython-input-28-b66d37c40e72>\u001b[0m in \u001b[0;36m<module>\u001b[1;34m()\u001b[0m\n\u001b[0;32m      5\u001b[0m \u001b[1;33m\u001b[0m\u001b[0m\n\u001b[0;32m      6\u001b[0m \u001b[0mnu\u001b[0m \u001b[1;33m=\u001b[0m \u001b[0mPartition\u001b[0m\u001b[1;33m(\u001b[0m\u001b[1;33m[\u001b[0m\u001b[0mInteger\u001b[0m\u001b[1;33m(\u001b[0m\u001b[1;36m3\u001b[0m\u001b[1;33m)\u001b[0m\u001b[1;33m]\u001b[0m\u001b[1;33m)\u001b[0m\u001b[1;33m\u001b[0m\u001b[0m\n\u001b[1;32m----> 7\u001b[1;33m \u001b[0mshow\u001b[0m\u001b[1;33m(\u001b[0m\u001b[0mcharacter\u001b[0m\u001b[1;33m(\u001b[0m\u001b[0mIsotyp2\u001b[0m\u001b[1;33m(\u001b[0m\u001b[0mW1\u001b[0m\u001b[1;33m,\u001b[0m \u001b[0mnu\u001b[0m\u001b[1;33m)\u001b[0m\u001b[1;33m,\u001b[0m \u001b[0mInteger\u001b[0m\u001b[1;33m(\u001b[0m\u001b[1;36m3\u001b[0m\u001b[1;33m)\u001b[0m\u001b[1;33m,\u001b[0m \u001b[0mr\u001b[0m\u001b[1;33m,\u001b[0m \u001b[0mleft_basis\u001b[0m\u001b[1;33m=\u001b[0m\u001b[0ms\u001b[0m\u001b[1;33m)\u001b[0m\u001b[1;33m)\u001b[0m\u001b[1;33m\u001b[0m\u001b[0m\n\u001b[0m\u001b[0;32m      8\u001b[0m \u001b[0mshow\u001b[0m\u001b[1;33m(\u001b[0m\u001b[0mcharacter\u001b[0m\u001b[1;33m(\u001b[0m\u001b[0mIsotyp2\u001b[0m\u001b[1;33m(\u001b[0m\u001b[0mW12\u001b[0m\u001b[1;33m,\u001b[0m \u001b[0mnu\u001b[0m\u001b[1;33m)\u001b[0m\u001b[1;33m,\u001b[0m \u001b[0mInteger\u001b[0m\u001b[1;33m(\u001b[0m\u001b[1;36m3\u001b[0m\u001b[1;33m)\u001b[0m\u001b[1;33m,\u001b[0m \u001b[0mr\u001b[0m\u001b[1;33m,\u001b[0m \u001b[0mleft_basis\u001b[0m\u001b[1;33m=\u001b[0m\u001b[0ms\u001b[0m\u001b[1;33m)\u001b[0m\u001b[1;33m)\u001b[0m\u001b[1;33m\u001b[0m\u001b[0m\n\u001b[0;32m      9\u001b[0m \u001b[1;32mprint\u001b[0m\u001b[1;33m\u001b[0m\u001b[0m\n",
      "\u001b[1;32m<ipython-input-5-c45ca5dfce79>\u001b[0m in \u001b[0;36mIsotyp2\u001b[1;34m(S, arg)\u001b[0m\n\u001b[0;32m     33\u001b[0m             \u001b[1;32mif\u001b[0m \u001b[0mbasis_nu\u001b[0m \u001b[1;33m!=\u001b[0m \u001b[1;33m{\u001b[0m\u001b[1;33m}\u001b[0m \u001b[1;33m:\u001b[0m\u001b[1;33m\u001b[0m\u001b[0m\n\u001b[0;32m     34\u001b[0m                 \u001b[0mresult\u001b[0m\u001b[1;33m[\u001b[0m\u001b[1;33m(\u001b[0m\u001b[0mkey\u001b[0m\u001b[1;33m[\u001b[0m\u001b[0mInteger\u001b[0m\u001b[1;33m(\u001b[0m\u001b[1;36m0\u001b[0m\u001b[1;33m)\u001b[0m\u001b[1;33m]\u001b[0m\u001b[1;33m,\u001b[0m \u001b[0mtuple\u001b[0m\u001b[1;33m(\u001b[0m\u001b[0mnu\u001b[0m\u001b[1;33m)\u001b[0m\u001b[1;33m)\u001b[0m\u001b[1;33m]\u001b[0m \u001b[1;33m=\u001b[0m \u001b[0mbasis_nu\u001b[0m\u001b[1;33m[\u001b[0m\u001b[0mInteger\u001b[0m\u001b[1;33m(\u001b[0m\u001b[1;36m0\u001b[0m\u001b[1;33m)\u001b[0m\u001b[1;33m]\u001b[0m \u001b[1;31m#key[0] >>> key\u001b[0m\u001b[1;33m\u001b[0m\u001b[0m\n\u001b[1;32m---> 35\u001b[1;33m     \u001b[1;32mreturn\u001b[0m \u001b[0mSubspace\u001b[0m\u001b[1;33m(\u001b[0m\u001b[0mresult\u001b[0m\u001b[1;33m,\u001b[0m \u001b[0moperators\u001b[0m\u001b[1;33m=\u001b[0m\u001b[1;33m{\u001b[0m\u001b[1;33m}\u001b[0m\u001b[1;33m)\u001b[0m\u001b[1;33m\u001b[0m\u001b[0m\n\u001b[0m",
      "\u001b[1;32m/home/pauline/Documents/Doctorat/harmonic-modules/subspace.py\u001b[0m in \u001b[0;36m__init__\u001b[1;34m(self, generators, operators, add_degrees, extend_word, hilbert_parent, degree, ambient, verbose)\u001b[0m\n\u001b[0;32m    191\u001b[0m         \u001b[1;32melse\u001b[0m\u001b[1;33m:\u001b[0m\u001b[1;33m\u001b[0m\u001b[0m\n\u001b[0;32m    192\u001b[0m             \u001b[0mambient\u001b[0m \u001b[1;33m=\u001b[0m \u001b[1;33m{\u001b[0m\u001b[0mg\u001b[0m\u001b[1;33m.\u001b[0m\u001b[0mparent\u001b[0m\u001b[1;33m(\u001b[0m\u001b[1;33m)\u001b[0m \u001b[1;32mfor\u001b[0m \u001b[0mgens\u001b[0m \u001b[1;32min\u001b[0m \u001b[0mgenerators\u001b[0m\u001b[1;33m.\u001b[0m\u001b[0mvalues\u001b[0m\u001b[1;33m(\u001b[0m\u001b[1;33m)\u001b[0m \u001b[1;32mfor\u001b[0m \u001b[0mg\u001b[0m \u001b[1;32min\u001b[0m \u001b[0mgens\u001b[0m\u001b[1;33m}\u001b[0m\u001b[1;33m\u001b[0m\u001b[0m\n\u001b[1;32m--> 193\u001b[1;33m             \u001b[1;32massert\u001b[0m \u001b[0mlen\u001b[0m\u001b[1;33m(\u001b[0m\u001b[0mambient\u001b[0m\u001b[1;33m)\u001b[0m \u001b[1;33m==\u001b[0m \u001b[1;36m1\u001b[0m\u001b[1;33m\u001b[0m\u001b[0m\n\u001b[0m\u001b[0;32m    194\u001b[0m             \u001b[0mambient\u001b[0m \u001b[1;33m=\u001b[0m \u001b[0mambient\u001b[0m\u001b[1;33m.\u001b[0m\u001b[0mpop\u001b[0m\u001b[1;33m(\u001b[0m\u001b[1;33m)\u001b[0m\u001b[1;33m\u001b[0m\u001b[0m\n\u001b[0;32m    195\u001b[0m         \u001b[0mself\u001b[0m\u001b[1;33m.\u001b[0m\u001b[0m_ambient\u001b[0m \u001b[1;33m=\u001b[0m \u001b[0mambient\u001b[0m\u001b[1;33m\u001b[0m\u001b[0m\n",
      "\u001b[1;31mAssertionError\u001b[0m: "
     ]
    }
   ],
   "source": [
    "W12 = Subspace(W1.basis(), merge(partial_derivatives(P2), steenrod_operators(P2, 1)), add_degrees=add_degrees_isotypic)\n",
    "#W12 = Isotyp2(W12, 3)\n",
    "W22 = Subspace(W2.basis(), merge(partial_derivatives(P2), steenrod_operators(P2, 1)), add_degrees=add_degrees_isotypic)\n",
    "#W22 = Isotyp2(W22, 3)\n",
    "\n",
    "nu = Partition([3])\n",
    "show(character(Isotyp2(W1, nu), 3, r, left_basis=s))\n",
    "show(character(Isotyp2(W12, nu), 3, r, left_basis=s))\n",
    "print \n",
    "show(character(Isotyp2(W2, nu), 3, r, left_basis=s))\n",
    "show(character(Isotyp2(W22, nu), 3, r, left_basis=s))\n",
    "#print \n",
    "#show(character(Isotyp2(W1, nu), 3, r, left_basis=m) - character(Isotyp2(W2, nu), 3, r, left_basis=m))\n",
    "#show(character(Isotyp2(W12, nu), 3, r, left_basis=m) - character(Isotyp2(W22, nu), 3, r, left_basis=m))\n",
    "#show(character(W12, 3, 2))\n",
    "#show(character(W22, 3, 2))"
   ]
  },
  {
   "cell_type": "markdown",
   "metadata": {},
   "source": [
    "Projection sur les composantes isotypiques après polarisation et ajout de tous les opérateurs **sans optimisation**. Et vérification des dimensions.  "
   ]
  },
  {
   "cell_type": "code",
   "execution_count": 29,
   "metadata": {
    "scrolled": false
   },
   "outputs": [
    {
     "name": "stdout",
     "output_type": "stream",
     "text": [
      "dimension 152\n",
      "V1(X,Y)\n"
     ]
    },
    {
     "data": {
      "text/html": [
       "<html><script type=\"math/tex; mode=display\">\\newcommand{\\Bold}[1]{\\mathbf{#1}}s_{} \\otimes s_{3} + s_{1} \\otimes s_{2,1} + s_{1} \\otimes s_{3} + s_{1,1} \\otimes s_{1,1,1} + s_{1,1} \\otimes s_{2,1} + 2s_{2} \\otimes s_{2,1} + 2s_{2} \\otimes s_{3} + s_{2,1} \\otimes s_{1,1,1} + 2s_{2,1} \\otimes s_{2,1} + s_{3} \\otimes s_{1,1,1} + 3s_{3} \\otimes s_{2,1} + s_{3} \\otimes s_{3} + 2s_{3,1} \\otimes s_{1,1,1} + s_{3,1} \\otimes s_{2,1} + s_{4} \\otimes s_{1,1,1} + 3s_{4} \\otimes s_{2,1} + s_{4,1} \\otimes s_{1,1,1} + 2s_{5} \\otimes s_{1,1,1} + s_{5} \\otimes s_{2,1} + s_{6} \\otimes s_{1,1,1}</script></html>"
      ],
      "text/plain": [
       "s[] # s[3] + s[1] # s[2, 1] + s[1] # s[3] + s[1, 1] # s[1, 1, 1] + s[1, 1] # s[2, 1] + 2*s[2] # s[2, 1] + 2*s[2] # s[3] + s[2, 1] # s[1, 1, 1] + 2*s[2, 1] # s[2, 1] + s[3] # s[1, 1, 1] + 3*s[3] # s[2, 1] + s[3] # s[3] + 2*s[3, 1] # s[1, 1, 1] + s[3, 1] # s[2, 1] + s[4] # s[1, 1, 1] + 3*s[4] # s[2, 1] + s[4, 1] # s[1, 1, 1] + 2*s[5] # s[1, 1, 1] + s[5] # s[2, 1] + s[6] # s[1, 1, 1]"
      ]
     },
     "metadata": {},
     "output_type": "display_data"
    },
    {
     "name": "stdout",
     "output_type": "stream",
     "text": [
      "dimension [((1, 1, 1), 41), ((3,), 13), ((2, 1), 49)]\n",
      "V2(X,Y)\n"
     ]
    },
    {
     "data": {
      "text/html": [
       "<html><script type=\"math/tex; mode=display\">\\newcommand{\\Bold}[1]{\\mathbf{#1}}s_{} \\otimes s_{3} + s_{1} \\otimes s_{2,1} + s_{1} \\otimes s_{3} + s_{1,1} \\otimes s_{1,1,1} + s_{1,1} \\otimes s_{2,1} + 2s_{2} \\otimes s_{2,1} + s_{2} \\otimes s_{3} + s_{2,1} \\otimes s_{1,1,1} + s_{2,1} \\otimes s_{2,1} + s_{3} \\otimes s_{1,1,1} + 2s_{3} \\otimes s_{2,1} + s_{3,1} \\otimes s_{1,1,1} + s_{4} \\otimes s_{1,1,1} + s_{4} \\otimes s_{2,1} + s_{5} \\otimes s_{1,1,1}</script></html>"
      ],
      "text/plain": [
       "s[] # s[3] + s[1] # s[2, 1] + s[1] # s[3] + s[1, 1] # s[1, 1, 1] + s[1, 1] # s[2, 1] + 2*s[2] # s[2, 1] + s[2] # s[3] + s[2, 1] # s[1, 1, 1] + s[2, 1] # s[2, 1] + s[3] # s[1, 1, 1] + 2*s[3] # s[2, 1] + s[3, 1] # s[1, 1, 1] + s[4] # s[1, 1, 1] + s[4] # s[2, 1] + s[5] # s[1, 1, 1]"
      ]
     },
     "metadata": {},
     "output_type": "display_data"
    },
    {
     "name": "stdout",
     "output_type": "stream",
     "text": [
      "V1(X,Y)-V2(X,Y)\n"
     ]
    },
    {
     "data": {
      "text/html": [
       "<html><script type=\"math/tex; mode=display\">\\newcommand{\\Bold}[1]{\\mathbf{#1}}s_{2} \\otimes s_{3} + s_{2,1} \\otimes s_{2,1} + s_{3} \\otimes s_{2,1} + s_{3} \\otimes s_{3} + s_{3,1} \\otimes s_{1,1,1} + s_{3,1} \\otimes s_{2,1} + 2s_{4} \\otimes s_{2,1} + s_{4,1} \\otimes s_{1,1,1} + s_{5} \\otimes s_{1,1,1} + s_{5} \\otimes s_{2,1} + s_{6} \\otimes s_{1,1,1}</script></html>"
      ],
      "text/plain": [
       "s[2] # s[3] + s[2, 1] # s[2, 1] + s[3] # s[2, 1] + s[3] # s[3] + s[3, 1] # s[1, 1, 1] + s[3, 1] # s[2, 1] + 2*s[4] # s[2, 1] + s[4, 1] # s[1, 1, 1] + s[5] # s[1, 1, 1] + s[5] # s[2, 1] + s[6] # s[1, 1, 1]"
      ]
     },
     "execution_count": 29,
     "metadata": {},
     "output_type": "execute_result"
    }
   ],
   "source": [
    "r = 2\n",
    "P1 = DiagonalPolynomialRing(QQ, 3, r)\n",
    "v = vandermonde(Diagram([(0,0),(2,0),(4,0)]))\n",
    "deg = 6\n",
    "generator = {P1._grading_set((6,0)) : [P1(v)]}\n",
    "list_op = partial_derivatives(P1)\n",
    "list_op = merge(merge(list_op, steenrod_operators(P1, 1)), steenrod_operators(P1, 2))\n",
    "list_op = merge(list_op, polarization_operators(P1, max_deg=4))\n",
    "W1 = Subspace(generators=generator, operators=list_op, add_degrees=add_degree)\n",
    "\n",
    "list_degrees = [tuple((i,j)) for i in range(0,deg+1) for j in range(0,deg+1) if i+j!=0 and i+j<deg+1]\n",
    "sym_diff = symmetric_derivatives(P1, list_degrees)\n",
    "#sym_diff = merge(merge(sym_diff, steenrod_operators(P1, 1)), steenrod_operators(P1, 2))\n",
    "W2 = Range(W1, sym_diff, add_degrees=add_degrees_test)\n",
    "\n",
    "print 'dimension', W1.dimension()\n",
    "W1 = Isotyp(W1, 3)\n",
    "print \"V1(X,Y)\"\n",
    "show(character(W1, 3, r))\n",
    "print 'dimension', dimension2(character(W1, 3, r), 3)\n",
    "\n",
    "W2 = Isotyp(W2, 3)\n",
    "print \"V2(X,Y)\"\n",
    "show(character(W2, 3, r))\n",
    "\n",
    "charac = character(W1, 3, r) - character(W2, 3, r)\n",
    "print \"V1(X,Y)-V2(X,Y)\"\n",
    "charac"
   ]
  },
  {
   "cell_type": "markdown",
   "metadata": {},
   "source": [
    "Construction du **quotient avec des générateurs différents** : utilisant les déplacements des cases. Avec les opérateurs actuels, on retrouve bien le caractère obtenu en quotientant avant de polariser. "
   ]
  },
  {
   "cell_type": "code",
   "execution_count": 31,
   "metadata": {},
   "outputs": [
    {
     "name": "stdout",
     "output_type": "stream",
     "text": [
      "V1_014(X,Y)\n"
     ]
    },
    {
     "data": {
      "text/html": [
       "<html><script type=\"math/tex; mode=display\">\\newcommand{\\Bold}[1]{\\mathbf{#1}}s_{} \\otimes s_{3} + s_{1} \\otimes s_{2,1} + s_{1} \\otimes s_{3} + s_{1,1} \\otimes s_{1,1,1} + s_{1,1} \\otimes s_{2,1} + 2s_{2} \\otimes s_{2,1} + s_{2} \\otimes s_{3} + s_{2,1} \\otimes s_{1,1,1} + s_{2,1} \\otimes s_{2,1} + s_{3} \\otimes s_{1,1,1} + 2s_{3} \\otimes s_{2,1} + s_{3,1} \\otimes s_{1,1,1} + s_{4} \\otimes s_{1,1,1} + s_{4} \\otimes s_{2,1} + s_{5} \\otimes s_{1,1,1}</script></html>"
      ],
      "text/plain": [
       "s[] # s[3] + s[1] # s[2, 1] + s[1] # s[3] + s[1, 1] # s[1, 1, 1] + s[1, 1] # s[2, 1] + 2*s[2] # s[2, 1] + s[2] # s[3] + s[2, 1] # s[1, 1, 1] + s[2, 1] # s[2, 1] + s[3] # s[1, 1, 1] + 2*s[3] # s[2, 1] + s[3, 1] # s[1, 1, 1] + s[4] # s[1, 1, 1] + s[4] # s[2, 1] + s[5] # s[1, 1, 1]"
      ]
     },
     "metadata": {},
     "output_type": "display_data"
    },
    {
     "name": "stdout",
     "output_type": "stream",
     "text": [
      "V1_013(X,Y)\n"
     ]
    },
    {
     "data": {
      "text/html": [
       "<html><script type=\"math/tex; mode=display\">\\newcommand{\\Bold}[1]{\\mathbf{#1}}s_{} \\otimes s_{3} + s_{1} \\otimes s_{2,1} + s_{1} \\otimes s_{3} + s_{1,1} \\otimes s_{1,1,1} + s_{1,1} \\otimes s_{2,1} + 2s_{2} \\otimes s_{2,1} + s_{2,1} \\otimes s_{1,1,1} + s_{3} \\otimes s_{1,1,1} + s_{3} \\otimes s_{2,1} + s_{4} \\otimes s_{1,1,1}</script></html>"
      ],
      "text/plain": [
       "s[] # s[3] + s[1] # s[2, 1] + s[1] # s[3] + s[1, 1] # s[1, 1, 1] + s[1, 1] # s[2, 1] + 2*s[2] # s[2, 1] + s[2, 1] # s[1, 1, 1] + s[3] # s[1, 1, 1] + s[3] # s[2, 1] + s[4] # s[1, 1, 1]"
      ]
     },
     "metadata": {},
     "output_type": "display_data"
    },
    {
     "name": "stdout",
     "output_type": "stream",
     "text": [
      "V1_012(X,Y)\n"
     ]
    },
    {
     "data": {
      "text/html": [
       "<html><script type=\"math/tex; mode=display\">\\newcommand{\\Bold}[1]{\\mathbf{#1}}s_{} \\otimes s_{3} + s_{1} \\otimes s_{2,1} + s_{1,1} \\otimes s_{1,1,1} + s_{2} \\otimes s_{2,1} + s_{3} \\otimes s_{1,1,1}</script></html>"
      ],
      "text/plain": [
       "s[] # s[3] + s[1] # s[2, 1] + s[1, 1] # s[1, 1, 1] + s[2] # s[2, 1] + s[3] # s[1, 1, 1]"
      ]
     },
     "metadata": {},
     "output_type": "display_data"
    },
    {
     "name": "stdout",
     "output_type": "stream",
     "text": [
      "V1_023(X,Y)\n"
     ]
    },
    {
     "data": {
      "text/html": [
       "<html><script type=\"math/tex; mode=display\">\\newcommand{\\Bold}[1]{\\mathbf{#1}}s_{} \\otimes s_{3} + s_{1} \\otimes s_{2,1} + s_{1} \\otimes s_{3} + s_{1,1} \\otimes s_{1,1,1} + s_{1,1} \\otimes s_{2,1} + 2s_{2} \\otimes s_{2,1} + s_{2} \\otimes s_{3} + s_{2,1} \\otimes s_{1,1,1} + s_{2,1} \\otimes s_{2,1} + s_{3} \\otimes s_{1,1,1} + 2s_{3} \\otimes s_{2,1} + s_{3,1} \\otimes s_{1,1,1} + s_{4} \\otimes s_{1,1,1} + s_{4} \\otimes s_{2,1} + s_{5} \\otimes s_{1,1,1}</script></html>"
      ],
      "text/plain": [
       "s[] # s[3] + s[1] # s[2, 1] + s[1] # s[3] + s[1, 1] # s[1, 1, 1] + s[1, 1] # s[2, 1] + 2*s[2] # s[2, 1] + s[2] # s[3] + s[2, 1] # s[1, 1, 1] + s[2, 1] # s[2, 1] + s[3] # s[1, 1, 1] + 2*s[3] # s[2, 1] + s[3, 1] # s[1, 1, 1] + s[4] # s[1, 1, 1] + s[4] # s[2, 1] + s[5] # s[1, 1, 1]"
      ]
     },
     "metadata": {},
     "output_type": "display_data"
    },
    {
     "name": "stdout",
     "output_type": "stream",
     "text": [
      "V1(X,Y)\n"
     ]
    },
    {
     "data": {
      "text/html": [
       "<html><script type=\"math/tex; mode=display\">\\newcommand{\\Bold}[1]{\\mathbf{#1}}s_{} \\otimes s_{3} + s_{1} \\otimes s_{2,1} + s_{1} \\otimes s_{3} + s_{1,1} \\otimes s_{1,1,1} + s_{1,1} \\otimes s_{2,1} + 2s_{2} \\otimes s_{2,1} + 2s_{2} \\otimes s_{3} + s_{2,1} \\otimes s_{1,1,1} + 2s_{2,1} \\otimes s_{2,1} + s_{3} \\otimes s_{1,1,1} + 3s_{3} \\otimes s_{2,1} + s_{3} \\otimes s_{3} + 2s_{3,1} \\otimes s_{1,1,1} + s_{3,1} \\otimes s_{2,1} + s_{4} \\otimes s_{1,1,1} + 3s_{4} \\otimes s_{2,1} + s_{4,1} \\otimes s_{1,1,1} + 2s_{5} \\otimes s_{1,1,1} + s_{5} \\otimes s_{2,1} + s_{6} \\otimes s_{1,1,1}</script></html>"
      ],
      "text/plain": [
       "s[] # s[3] + s[1] # s[2, 1] + s[1] # s[3] + s[1, 1] # s[1, 1, 1] + s[1, 1] # s[2, 1] + 2*s[2] # s[2, 1] + 2*s[2] # s[3] + s[2, 1] # s[1, 1, 1] + 2*s[2, 1] # s[2, 1] + s[3] # s[1, 1, 1] + 3*s[3] # s[2, 1] + s[3] # s[3] + 2*s[3, 1] # s[1, 1, 1] + s[3, 1] # s[2, 1] + s[4] # s[1, 1, 1] + 3*s[4] # s[2, 1] + s[4, 1] # s[1, 1, 1] + 2*s[5] # s[1, 1, 1] + s[5] # s[2, 1] + s[6] # s[1, 1, 1]"
      ]
     },
     "metadata": {},
     "output_type": "display_data"
    },
    {
     "name": "stdout",
     "output_type": "stream",
     "text": [
      "V1_tot(X,Y)\n"
     ]
    },
    {
     "data": {
      "text/html": [
       "<html><script type=\"math/tex; mode=display\">\\newcommand{\\Bold}[1]{\\mathbf{#1}}s_{} \\otimes s_{3} + s_{1} \\otimes s_{2,1} + s_{1} \\otimes s_{3} + s_{1,1} \\otimes s_{1,1,1} + s_{1,1} \\otimes s_{2,1} + 2s_{2} \\otimes s_{2,1} + 2s_{2} \\otimes s_{3} + s_{2,1} \\otimes s_{1,1,1} + 2s_{2,1} \\otimes s_{2,1} + s_{3} \\otimes s_{1,1,1} + 3s_{3} \\otimes s_{2,1} + 2s_{3,1} \\otimes s_{1,1,1} + s_{4} \\otimes s_{1,1,1} + 2s_{4} \\otimes s_{2,1} + 2s_{5} \\otimes s_{1,1,1}</script></html>"
      ],
      "text/plain": [
       "s[] # s[3] + s[1] # s[2, 1] + s[1] # s[3] + s[1, 1] # s[1, 1, 1] + s[1, 1] # s[2, 1] + 2*s[2] # s[2, 1] + 2*s[2] # s[3] + s[2, 1] # s[1, 1, 1] + 2*s[2, 1] # s[2, 1] + s[3] # s[1, 1, 1] + 3*s[3] # s[2, 1] + 2*s[3, 1] # s[1, 1, 1] + s[4] # s[1, 1, 1] + 2*s[4] # s[2, 1] + 2*s[5] # s[1, 1, 1]"
      ]
     },
     "metadata": {},
     "output_type": "display_data"
    },
    {
     "name": "stdout",
     "output_type": "stream",
     "text": [
      "diff\n"
     ]
    },
    {
     "data": {
      "text/html": [
       "<html><script type=\"math/tex; mode=display\">\\newcommand{\\Bold}[1]{\\mathbf{#1}}s_{3} \\otimes s_{3} + s_{3,1} \\otimes s_{2,1} + s_{4} \\otimes s_{2,1} + s_{4,1} \\otimes s_{1,1,1} + s_{5} \\otimes s_{2,1} + s_{6} \\otimes s_{1,1,1}</script></html>"
      ],
      "text/plain": [
       "s[3] # s[3] + s[3, 1] # s[2, 1] + s[4] # s[2, 1] + s[4, 1] # s[1, 1, 1] + s[5] # s[2, 1] + s[6] # s[1, 1, 1]"
      ]
     },
     "metadata": {},
     "output_type": "display_data"
    }
   ],
   "source": [
    "r = 2\n",
    "P1 = DiagonalPolynomialRing(QQ, 3, r)\n",
    "v = vandermonde(Diagram([(0,0),(2,0),(4,0)]))\n",
    "deg = 6\n",
    "generator = {P1._grading_set((6,0)) : [P1(v)]}\n",
    "list_op = partial_derivatives(P1)\n",
    "list_op = merge(merge(list_op, steenrod_operators(P1, 1)), steenrod_operators(P1, 2))\n",
    "list_op = merge(list_op, polarization_operators(P1, max_deg=4))\n",
    "W1 = Subspace(generators=generator, operators=list_op, add_degrees=add_degree)\n",
    "\n",
    "v014 = vandermonde(Diagram([(0,0),(1,0),(4,0)]))\n",
    "generator014 = {P1._grading_set((5,0)) : [P1(v014)]}\n",
    "W1_014 = Subspace(generators=generator014, operators=list_op, add_degrees=add_degree)\n",
    "W1_014 = Isotyp(W1_014, 3)\n",
    "print \"V1_014(X,Y)\"\n",
    "show(character(W1_014, 3, r))\n",
    "\n",
    "v013 = vandermonde(Diagram([(0,0),(1,0),(3,0)]))\n",
    "generator013 = {P1._grading_set((4,0)) : [P1(v013)]}\n",
    "W1_013 = Subspace(generators=generator013, operators=list_op, add_degrees=add_degree)\n",
    "W1_013 = Isotyp(W1_013, 3)\n",
    "print \"V1_013(X,Y)\"\n",
    "show(character(W1_013, 3, r))\n",
    "\n",
    "v012 = vandermonde(Diagram([(0,0),(1,0),(2,0)]))\n",
    "generator012 = {P1._grading_set((3,0)) : [P1(v012)]}\n",
    "W1_012 = Subspace(generators=generator012, operators=list_op, add_degrees=add_degree)\n",
    "W1_012 = Isotyp(W1_012, 3)\n",
    "print \"V1_012(X,Y)\"\n",
    "show(character(W1_012, 3, r))\n",
    "\n",
    "v023 = vandermonde(Diagram([(0,0),(2,0),(3,0)]))\n",
    "generator023 = {P1._grading_set((5,0)) : [P1(v023)]}\n",
    "W1_023 = Subspace(generators=generator023, operators=list_op, add_degrees=add_degree)\n",
    "W1_023 = Isotyp(W1_023, 3)\n",
    "print \"V1_023(X,Y)\"\n",
    "show(character(W1_023, 3, r))\n",
    "\n",
    "generators = {P1._grading_set((5,0)) : [P1(v023), P1(v014)], P1._grading_set((4,0)) : [P1(v013)], P1._grading_set((3,0)) : [P1(v012)]}\n",
    "W1_tot = Subspace(generators=generators, operators=list_op, add_degrees=add_degree)\n",
    "\n",
    "list_degrees = [tuple((i,j)) for i in range(0,deg+1) for j in range(0,deg+1) if i+j!=0 and i+j<deg+1]\n",
    "sym_diff = symmetric_derivatives(P1, list_degrees)\n",
    "W2 = Range(W1, sym_diff, add_degrees=add_degrees_test)\n",
    "W2_tot = Range(W1_tot, sym_diff, add_degrees=add_degrees_test)\n",
    "\n",
    "W1 = Isotyp(W1, 3)\n",
    "print \"V1(X,Y)\"\n",
    "show(character(W1, 3, r))\n",
    "\n",
    "W1_tot = Isotyp(W1_tot, 3)\n",
    "W2_tot = Isotyp(W2_tot, 3)\n",
    "print \"V1_tot(X,Y)\"\n",
    "show(character(W1_tot, 3, r))\n",
    "print \"diff\"\n",
    "show(character(W1, 3, r) - character(W1_tot, 3, r))"
   ]
  },
  {
   "cell_type": "markdown",
   "metadata": {},
   "source": [
    "### Rencontre du 1er avril : $s_{22} \\otimes s_{111}$"
   ]
  },
  {
   "cell_type": "code",
   "execution_count": 32,
   "metadata": {},
   "outputs": [
    {
     "name": "stdout",
     "output_type": "stream",
     "text": [
      "V1(X)\n"
     ]
    },
    {
     "data": {
      "text/html": [
       "<html><script type=\"math/tex; mode=display\">\\newcommand{\\Bold}[1]{\\mathbf{#1}}s_{6} \\otimes s_{1,1,1}</script></html>"
      ],
      "text/plain": [
       "s[6] # s[1, 1, 1]"
      ]
     },
     "metadata": {},
     "output_type": "display_data"
    },
    {
     "name": "stdout",
     "output_type": "stream",
     "text": [
      "V1(X,Y)\n"
     ]
    },
    {
     "data": {
      "text/html": [
       "<html><script type=\"math/tex; mode=display\">\\newcommand{\\Bold}[1]{\\mathbf{#1}}s_{1,1} \\otimes s_{1,1,1} + s_{2,1} \\otimes s_{1,1,1} + s_{3} \\otimes s_{1,1,1} + 2s_{3,1} \\otimes s_{1,1,1} + s_{4} \\otimes s_{1,1,1} + s_{4,1} \\otimes s_{1,1,1} + s_{5} \\otimes s_{1,1,1} + s_{6} \\otimes s_{1,1,1}</script></html>"
      ],
      "text/plain": [
       "s[1, 1] # s[1, 1, 1] + s[2, 1] # s[1, 1, 1] + s[3] # s[1, 1, 1] + 2*s[3, 1] # s[1, 1, 1] + s[4] # s[1, 1, 1] + s[4, 1] # s[1, 1, 1] + s[5] # s[1, 1, 1] + s[6] # s[1, 1, 1]"
      ]
     },
     "metadata": {},
     "output_type": "display_data"
    }
   ],
   "source": [
    "P1 = DiagonalPolynomialRing(QQ, 3, 1)\n",
    "v = vandermonde(Diagram([(0,0),(2,0),(4,0)]))\n",
    "deg = degree_vandermonde(Diagram([(0,0),(2,0),(4,0)]))\n",
    "generator = {P1._grading_set((6,)) : [P1(v)]}\n",
    "W1 = Subspace(generators=generator, operators={}, add_degrees=add_degree)\n",
    "W1 = Isotyp(W1, Partition([1,1,1]))\n",
    "\n",
    "print \"V1(X)\"\n",
    "show(character(W1, 3, 1))\n",
    "\n",
    "r=2\n",
    "P2 = DiagonalPolynomialRing(QQ, 3, r)\n",
    "op_pol = polarization_operators(P2, max_deg=4)\n",
    "#op_pol = merge(op_pol, higher_polarization_operators(P2))\n",
    "W1 = PolarizedSpace(P2, W1, op_pol)\n",
    "\n",
    "print \"V1(X,Y)\"\n",
    "show(character(W1, 3, r))"
   ]
  },
  {
   "cell_type": "markdown",
   "metadata": {},
   "source": [
    "**Vérification de l'indépendance linéaire des opérateurs.** But trouver celui qui va nous permettre d'obtenir $s_{22}$"
   ]
  },
  {
   "cell_type": "code",
   "execution_count": 33,
   "metadata": {},
   "outputs": [
    {
     "data": {
      "text/html": [
       "<html><script type=\"math/tex; mode=display\">\\newcommand{\\Bold}[1]{\\mathbf{#1}}-48 x_{00}^{2} x_{10} x_{11} + 48 x_{01}^{2} x_{10} x_{11} + 48 x_{00}^{2} x_{10} x_{12} - 48 x_{02}^{2} x_{10} x_{12} - 48 x_{01}^{2} x_{11} x_{12} + 48 x_{02}^{2} x_{11} x_{12}</script></html>"
      ],
      "text/plain": [
       "-48*x00^2*x10*x11 + 48*x01^2*x10*x11 + 48*x00^2*x10*x12 - 48*x02^2*x10*x12 - 48*x01^2*x11*x12 + 48*x02^2*x11*x12"
      ]
     },
     "metadata": {},
     "output_type": "display_data"
    },
    {
     "data": {
      "text/html": [
       "<html><script type=\"math/tex; mode=display\">\\newcommand{\\Bold}[1]{\\mathbf{#1}}\\left\\{0 : \\left(-x_{00} x_{01} x_{10}^{2} + x_{00} x_{02} x_{10}^{2} + x_{00} x_{01} x_{11}^{2} - x_{01} x_{02} x_{11}^{2} - x_{00} x_{02} x_{12}^{2} + x_{01} x_{02} x_{12}^{2}, -x_{01}^{2} x_{10}^{2} + x_{02}^{2} x_{10}^{2} + x_{00}^{2} x_{11}^{2} - x_{02}^{2} x_{11}^{2} - x_{00}^{2} x_{12}^{2} + x_{01}^{2} x_{12}^{2}, x_{00}^{2} x_{10} x_{11} - x_{01}^{2} x_{10} x_{11} - x_{00}^{2} x_{10} x_{12} + x_{02}^{2} x_{10} x_{12} + x_{01}^{2} x_{11} x_{12} - x_{02}^{2} x_{11} x_{12}\\right)\\right\\}</script></html>"
      ],
      "text/plain": [
       "{0: (-x00*x01*x10^2 + x00*x02*x10^2 + x00*x01*x11^2 - x01*x02*x11^2 - x00*x02*x12^2 + x01*x02*x12^2,\n",
       "  -x01^2*x10^2 + x02^2*x10^2 + x00^2*x11^2 - x02^2*x11^2 - x00^2*x12^2 + x01^2*x12^2,\n",
       "  x00^2*x10*x11 - x01^2*x10*x11 - x00^2*x10*x12 + x02^2*x10*x12 + x01^2*x11*x12 - x02^2*x11*x12)}"
      ]
     },
     "metadata": {},
     "output_type": "display_data"
    },
    {
     "data": {
      "text/html": [
       "<html><script type=\"math/tex; mode=display\">\\newcommand{\\Bold}[1]{\\mathbf{#1}}3</script></html>"
      ],
      "text/plain": [
       "3"
      ]
     },
     "execution_count": 33,
     "metadata": {},
     "output_type": "execute_result"
    }
   ],
   "source": [
    "P1 = DiagonalPolynomialRing(QQ, 3, 2)\n",
    "v = vandermonde(Diagram([(0,0),(2,0),(4,0)]))\n",
    "x = P1.variables()[0]\n",
    "y = P1.variables()[1]\n",
    "\n",
    "#grand vert = B\n",
    "f1 = sum(y[i]*derivative(P1(v), x[i]) for i in range(0,3))\n",
    "B = sum(y[i]*derivative(P1(f1), x[i], 3) for i in range(0,3))\n",
    "\n",
    "#petit vert\n",
    "f3 = sum(y[i]*derivative(P1(v), x[i], 2) for i in range(0,3))\n",
    "Z = sum(y[i]*derivative(P1(f3), x[i], 2) for i in range(0,3))\n",
    "\n",
    "#rouge = A\n",
    "f5 = sum(y[i]*derivative(P1(v), x[i]) for i in range(0,3))\n",
    "f6 = sum(derivative(P1(f5), x[i]) for i in range(0,3))\n",
    "A = sum(y[i]*derivative(P1(f6), x[i], 2) for i in range(0,3))\n",
    "\n",
    "#bleu = C\n",
    "f8 = sum(derivative(P1(v), x[i]) for i in range(0,3))\n",
    "f9 = sum(derivative(P1(f8), x[i]) for i in range(0,3))\n",
    "f10 = sum(y[i]*derivative(P1(f9), x[i]) for i in range(0,3))\n",
    "C = sum(y[i]*derivative(P1(f10), x[i]) for i in range(0,3))\n",
    "\n",
    "g1 = sum(x[i]*derivative(P1(v), x[i], 2) for i in range(0,3))\n",
    "g2 = sum(y[i]*derivative(P1(g1), x[i], 2) for i in range(0,3))\n",
    "D = sum(y[i]*derivative(P1(g2), x[i]) for i in range(0,3))\n",
    "\n",
    "#test element\n",
    "g3 = sum(y[i]*derivative(P1(v), x[i], 2) for i in range(0,3))\n",
    "E = sum(x[i]*y[i]*derivative(P1(g3), x[i], 3) for i in range(0,3))\n",
    "\n",
    "show(E)\n",
    "\n",
    "S = Subspace([A, B, C, D, E])\n",
    "show(S.basis())\n",
    "S.dimension()"
   ]
  },
  {
   "cell_type": "code",
   "execution_count": null,
   "metadata": {},
   "outputs": [],
   "source": []
  }
 ],
 "metadata": {
  "kernelspec": {
   "display_name": "SageMath 8.7",
   "language": "",
   "name": "sagemath"
  },
  "language_info": {
   "codemirror_mode": {
    "name": "ipython",
    "version": 2
   },
   "file_extension": ".py",
   "mimetype": "text/x-python",
   "name": "python",
   "nbconvert_exporter": "python",
   "pygments_lexer": "ipython2",
   "version": "2.7.15"
  }
 },
 "nbformat": 4,
 "nbformat_minor": 2
}
