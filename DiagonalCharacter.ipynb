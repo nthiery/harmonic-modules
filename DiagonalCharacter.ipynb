{
 "cells": [
  {
   "cell_type": "code",
   "execution_count": 26,
   "metadata": {
    "collapsed": false,
    "deletable": true,
    "editable": true
   },
   "outputs": [],
   "source": [
    "%runfile code.py"
   ]
  },
  {
   "cell_type": "markdown",
   "metadata": {
    "deletable": true,
    "editable": true
   },
   "source": [
    "# Computing the stable bimodule character of diagonal harmonic polynomials"
   ]
  },
  {
   "cell_type": "markdown",
   "metadata": {
    "deletable": true,
    "editable": true
   },
   "source": [
    "The $GL_n$ character for a given irreducible representation of $S_n$\n",
    "(fetched from database if not already calculated):"
   ]
  },
  {
   "cell_type": "code",
   "execution_count": 13,
   "metadata": {
    "collapsed": false,
    "deletable": true,
    "editable": true
   },
   "outputs": [
    {
     "data": {
      "text/plain": [
       "s[2] + s[2, 1] + s[2, 2] + s[3] + s[3, 1] + s[4] + s[4, 1] + s[5] + s[6]"
      ]
     },
     "execution_count": 13,
     "metadata": {},
     "output_type": "execute_result"
    }
   ],
   "source": [
    "harmonic_character([3,2])"
   ]
  },
  {
   "cell_type": "markdown",
   "metadata": {},
   "source": [
    "Trigger the calculation of the above for all representations of $S_n$:"
   ]
  },
  {
   "cell_type": "code",
   "execution_count": 14,
   "metadata": {
    "collapsed": false,
    "deletable": true,
    "editable": true
   },
   "outputs": [
    {
     "name": "stdout",
     "output_type": "stream",
     "text": [
      "\r",
      "[3]\t(0:00:00): s[]\n",
      "\r",
      "[2, 1]\t(0:00:00): s[1] + s[2]\n",
      "\r",
      "[1, 1, 1]\t(0:00:00): s[1, 1] + s[3]\n"
     ]
    }
   ],
   "source": [
    "harmonic_characters(3)"
   ]
  },
  {
   "cell_type": "markdown",
   "metadata": {},
   "source": [
    "Compute all the currently computed terms of the $GL_r\\times S_n$ character of diagonal harmonic polynomials:"
   ]
  },
  {
   "cell_type": "code",
   "execution_count": 15,
   "metadata": {
    "collapsed": false,
    "deletable": true,
    "editable": true
   },
   "outputs": [
    {
     "data": {
      "text/plain": [
       "s[] # s[] + s[] # s[1] + s[] # s[2] + s[] # s[3] + s[] # s[4] + s[] # s[5] + s[] # s[6] + s[1] # s[1, 1] + s[1] # s[2, 1] + s[1] # s[3, 1] + s[1] # s[4, 1] + s[1] # s[5, 1] + s[1, 1] # s[1, 1, 1] + s[1, 1] # s[2, 1, 1] + s[1, 1] # s[3, 1, 1] + s[1, 1] # s[4, 1, 1] + s[1, 1, 1] # s[1, 1, 1, 1] + s[1, 1, 1] # s[2, 1, 1, 1] + s[1, 1, 1] # s[3, 1, 1, 1] + s[1, 1, 1, 1] # s[1, 1, 1, 1, 1] + s[1, 1, 1, 1] # s[2, 1, 1, 1, 1] + s[1, 1, 1, 1, 1] # s[1, 1, 1, 1, 1, 1] + s[2] # s[2, 1] + s[2] # s[2, 2] + s[2] # s[3, 1] + s[2] # s[3, 2] + s[2] # s[4, 1] + s[2] # s[4, 2] + s[2] # s[5, 1] + s[2, 1] # s[2, 1, 1] + s[2, 1] # s[2, 2] + s[2, 1] # s[2, 2, 1] + s[2, 1] # s[3, 1, 1] + s[2, 1] # s[3, 2] + s[2, 1] # s[3, 2, 1] + s[2, 1] # s[4, 1, 1] + s[2, 1] # s[4, 2] + s[2, 1, 1] # s[2, 1, 1, 1] + s[2, 1, 1] # s[2, 2, 1] + s[2, 1, 1] # s[2, 2, 1, 1] + s[2, 1, 1] # s[3, 1, 1, 1] + s[2, 1, 1] # s[3, 2, 1] + s[2, 1, 1, 1] # s[2, 1, 1, 1, 1] + s[2, 1, 1, 1] # s[2, 2, 1, 1] + s[2, 2] # s[2, 2, 1] + s[2, 2] # s[2, 2, 2] + s[2, 2] # s[3, 2] + s[2, 2] # s[3, 2, 1] + s[2, 2] # s[3, 3] + s[2, 2] # s[4, 2] + s[2, 2, 1] # s[2, 2, 1, 1] + s[2, 2, 1] # s[2, 2, 2] + s[2, 2, 1] # s[3, 2, 1] + s[2, 2, 1] # s[3, 3] + s[3] # s[1, 1, 1] + s[3] # s[2, 1, 1] + s[3] # s[3, 1] + s[3] # s[3, 1, 1] + s[3] # s[3, 2] + s[3] # s[3, 3] + s[3] # s[4, 1] + s[3] # s[4, 1, 1] + s[3] # s[4, 2] + s[3] # s[5, 1] + s[3, 1] # s[1, 1, 1, 1] + s[3, 1] # s[2, 1, 1] + s[3, 1] # s[2, 1, 1, 1] + s[3, 1] # s[2, 2, 1] + 2*s[3, 1] # s[3, 1, 1] + s[3, 1] # s[3, 1, 1, 1] + s[3, 1] # s[3, 2] + 2*s[3, 1] # s[3, 2, 1] + s[3, 1] # s[3, 3] + 2*s[3, 1] # s[4, 1, 1] + s[3, 1] # s[4, 2] + s[3, 1, 1] # s[1, 1, 1, 1, 1] + s[3, 1, 1] # s[2, 1, 1, 1] + s[3, 1, 1] # s[2, 1, 1, 1, 1] + s[3, 1, 1] # s[2, 2, 1] + s[3, 1, 1] # s[2, 2, 1, 1] + s[3, 1, 1] # s[2, 2, 2] + 2*s[3, 1, 1] # s[3, 1, 1, 1] + 2*s[3, 1, 1] # s[3, 2, 1] + s[3, 1, 1, 1] # s[1, 1, 1, 1, 1, 1] + s[3, 1, 1, 1] # s[2, 1, 1, 1, 1] + s[3, 1, 1, 1] # s[2, 2, 1, 1] + s[3, 1, 1, 1] # s[2, 2, 2] + s[3, 2] # s[2, 1, 1, 1] + s[3, 2] # s[2, 2, 1] + s[3, 2] # s[2, 2, 1, 1] + s[3, 2] # s[3, 1, 1] + s[3, 2] # s[3, 1, 1, 1] + 3*s[3, 2] # s[3, 2, 1] + s[3, 2] # s[3, 3] + s[3, 2] # s[4, 1, 1] + s[3, 2] # s[4, 2] + s[3, 2, 1] # s[2, 1, 1, 1, 1] + 2*s[3, 2, 1] # s[2, 2, 1, 1] + s[3, 2, 1] # s[2, 2, 2] + s[3, 2, 1] # s[3, 1, 1, 1] + 2*s[3, 2, 1] # s[3, 2, 1] + s[3, 3] # s[2, 1, 1, 1] + s[3, 3] # s[2, 2, 1, 1] + 2*s[3, 3] # s[3, 1, 1, 1] + s[3, 3] # s[3, 2, 1] + s[3, 3] # s[4, 1, 1] + s[3, 3, 1] # s[2, 1, 1, 1, 1] + s[3, 3, 1] # s[2, 2, 1, 1] + s[3, 3, 1] # s[2, 2, 2] + s[3, 3, 1] # s[3, 1, 1, 1] + s[4] # s[2, 1, 1] + s[4] # s[2, 2] + s[4] # s[2, 2, 1] + s[4] # s[3, 1, 1] + s[4] # s[3, 2] + s[4] # s[3, 2, 1] + s[4] # s[4, 1] + s[4] # s[4, 1, 1] + 2*s[4] # s[4, 2] + s[4] # s[5, 1] + s[4, 1] # s[1, 1, 1, 1] + 2*s[4, 1] # s[2, 1, 1, 1] + 2*s[4, 1] # s[2, 2, 1] + s[4, 1] # s[2, 2, 1, 1] + s[4, 1] # s[2, 2, 2] + s[4, 1] # s[3, 1, 1] + 2*s[4, 1] # s[3, 1, 1, 1] + s[4, 1] # s[3, 2] + 3*s[4, 1] # s[3, 2, 1] + s[4, 1] # s[3, 3] + 2*s[4, 1] # s[4, 1, 1] + 2*s[4, 1] # s[4, 2] + s[4, 1, 1] # s[1, 1, 1, 1, 1] + s[4, 1, 1] # s[2, 1, 1, 1] + 2*s[4, 1, 1] # s[2, 1, 1, 1, 1] + 3*s[4, 1, 1] # s[2, 2, 1, 1] + s[4, 1, 1] # s[2, 2, 2] + 2*s[4, 1, 1] # s[3, 1, 1, 1] + 2*s[4, 1, 1] # s[3, 2, 1] + s[4, 1, 1] # s[3, 3] + s[4, 1, 1, 1] # s[1, 1, 1, 1, 1, 1] + s[4, 1, 1, 1] # s[2, 1, 1, 1, 1] + s[4, 1, 1, 1] # s[2, 2, 1, 1] + s[4, 2] # s[1, 1, 1, 1, 1] + s[4, 2] # s[2, 1, 1, 1] + s[4, 2] # s[2, 1, 1, 1, 1] + s[4, 2] # s[2, 2, 1] + 2*s[4, 2] # s[2, 2, 1, 1] + 2*s[4, 2] # s[2, 2, 2] + 2*s[4, 2] # s[3, 1, 1, 1] + 4*s[4, 2] # s[3, 2, 1] + s[4, 2] # s[3, 3] + s[4, 2] # s[4, 1, 1] + s[4, 2] # s[4, 2] + s[4, 2, 1] # s[1, 1, 1, 1, 1, 1] + 2*s[4, 2, 1] # s[2, 1, 1, 1, 1] + 3*s[4, 2, 1] # s[2, 2, 1, 1] + s[4, 2, 1] # s[2, 2, 2] + s[4, 2, 1] # s[3, 1, 1, 1] + s[4, 2, 1] # s[3, 2, 1] + s[4, 3] # s[1, 1, 1, 1, 1] + 2*s[4, 3] # s[2, 1, 1, 1, 1] + 2*s[4, 3] # s[2, 2, 1, 1] + s[4, 3] # s[2, 2, 2] + 2*s[4, 3] # s[3, 1, 1, 1] + 2*s[4, 3] # s[3, 2, 1] + s[4, 3, 1] # s[1, 1, 1, 1, 1, 1] + 2*s[4, 3, 1] # s[2, 1, 1, 1, 1] + s[4, 3, 1] # s[2, 2, 1, 1] + s[4, 4] # s[1, 1, 1, 1, 1, 1] + s[4, 4] # s[2, 1, 1, 1, 1] + s[4, 4] # s[2, 2, 1, 1] + s[4, 4] # s[2, 2, 2] + s[4, 4, 1] # s[1, 1, 1, 1, 1, 1] + s[5] # s[2, 1, 1] + s[5] # s[2, 2, 1] + 2*s[5] # s[3, 1, 1] + s[5] # s[3, 2] + 2*s[5] # s[3, 2, 1] + s[5] # s[3, 3] + 2*s[5] # s[4, 1, 1] + s[5] # s[4, 2] + s[5] # s[5, 1] + 2*s[5, 1] # s[2, 1, 1, 1] + 2*s[5, 1] # s[2, 2, 1] + 2*s[5, 1] # s[2, 2, 1, 1] + s[5, 1] # s[2, 2, 2] + s[5, 1] # s[3, 1, 1] + 3*s[5, 1] # s[3, 1, 1, 1] + 5*s[5, 1] # s[3, 2, 1] + s[5, 1] # s[3, 3] + 2*s[5, 1] # s[4, 1, 1] + s[5, 1] # s[4, 2] + s[5, 1, 1] # s[1, 1, 1, 1, 1] + 3*s[5, 1, 1] # s[2, 1, 1, 1, 1] + 3*s[5, 1, 1] # s[2, 2, 1, 1] + 2*s[5, 1, 1] # s[2, 2, 2] + 2*s[5, 1, 1] # s[3, 1, 1, 1] + 2*s[5, 1, 1] # s[3, 2, 1] + s[5, 1, 1, 1] # s[1, 1, 1, 1, 1, 1] + s[5, 1, 1, 1] # s[2, 1, 1, 1, 1] + s[5, 2] # s[2, 1, 1, 1] + s[5, 2] # s[2, 1, 1, 1, 1] + 4*s[5, 2] # s[2, 2, 1, 1] + 2*s[5, 2] # s[2, 2, 2] + 3*s[5, 2] # s[3, 1, 1, 1] + 4*s[5, 2] # s[3, 2, 1] + s[5, 2] # s[3, 3] + s[5, 2] # s[4, 1, 1] + s[5, 2, 1] # s[1, 1, 1, 1, 1, 1] + 2*s[5, 2, 1] # s[2, 1, 1, 1, 1] + 2*s[5, 2, 1] # s[2, 2, 1, 1] + s[5, 2, 1] # s[2, 2, 2] + s[5, 2, 1] # s[3, 1, 1, 1] + 2*s[5, 3] # s[2, 1, 1, 1, 1] + 3*s[5, 3] # s[2, 2, 1, 1] + s[5, 3] # s[2, 2, 2] + 2*s[5, 3] # s[3, 1, 1, 1] + s[5, 3] # s[3, 2, 1] + s[5, 3, 1] # s[1, 1, 1, 1, 1, 1] + s[5, 3, 1] # s[2, 1, 1, 1, 1] + s[5, 4] # s[2, 1, 1, 1, 1] + s[5, 4] # s[2, 2, 1, 1] + s[6] # s[1, 1, 1, 1] + s[6] # s[2, 1, 1, 1] + s[6] # s[2, 2, 1] + s[6] # s[2, 2, 2] + s[6] # s[3, 1, 1] + s[6] # s[3, 1, 1, 1] + s[6] # s[3, 2] + 2*s[6] # s[3, 2, 1] + s[6] # s[3, 3] + 2*s[6] # s[4, 1, 1] + 2*s[6] # s[4, 2] + s[6, 1] # s[1, 1, 1, 1, 1] + 2*s[6, 1] # s[2, 1, 1, 1] + s[6, 1] # s[2, 1, 1, 1, 1] + s[6, 1] # s[2, 2, 1] + 3*s[6, 1] # s[2, 2, 1, 1] + 2*s[6, 1] # s[2, 2, 2] + 4*s[6, 1] # s[3, 1, 1, 1] + 5*s[6, 1] # s[3, 2, 1] + s[6, 1] # s[3, 3] + s[6, 1] # s[4, 1, 1] + s[6, 1] # s[4, 2] + s[6, 1, 1] # s[1, 1, 1, 1, 1, 1] + 3*s[6, 1, 1] # s[2, 1, 1, 1, 1] + 4*s[6, 1, 1] # s[2, 2, 1, 1] + s[6, 1, 1] # s[2, 2, 2] + s[6, 1, 1] # s[3, 1, 1, 1] + s[6, 1, 1] # s[3, 2, 1] + s[6, 1, 1, 1] # s[1, 1, 1, 1, 1, 1] + s[6, 2] # s[1, 1, 1, 1, 1] + 3*s[6, 2] # s[2, 1, 1, 1, 1] + 4*s[6, 2] # s[2, 2, 1, 1] + 2*s[6, 2] # s[2, 2, 2] + 3*s[6, 2] # s[3, 1, 1, 1] + 3*s[6, 2] # s[3, 2, 1] + s[6, 2, 1] # s[1, 1, 1, 1, 1, 1] + 2*s[6, 2, 1] # s[2, 1, 1, 1, 1] + s[6, 2, 1] # s[2, 2, 1, 1] + s[6, 3] # s[1, 1, 1, 1, 1, 1] + 3*s[6, 3] # s[2, 1, 1, 1, 1] + 2*s[6, 3] # s[2, 2, 1, 1] + s[6, 3] # s[2, 2, 2] + s[6, 3] # s[3, 1, 1, 1] + s[6, 3, 1] # s[1, 1, 1, 1, 1, 1] + s[6, 4] # s[1, 1, 1, 1, 1, 1] + s[6, 4] # s[2, 1, 1, 1, 1] + s[7] # s[2, 1, 1, 1] + s[7] # s[2, 2, 1] + s[7] # s[2, 2, 1, 1] + s[7] # s[3, 1, 1] + s[7] # s[3, 1, 1, 1] + 3*s[7] # s[3, 2, 1] + s[7] # s[3, 3] + 2*s[7] # s[4, 1, 1] + s[7] # s[4, 2] + s[7, 1] # s[1, 1, 1, 1, 1] + s[7, 1] # s[2, 1, 1, 1] + 2*s[7, 1] # s[2, 1, 1, 1, 1] + 4*s[7, 1] # s[2, 2, 1, 1] + 2*s[7, 1] # s[2, 2, 2] + 4*s[7, 1] # s[3, 1, 1, 1] + 4*s[7, 1] # s[3, 2, 1] + s[7, 1] # s[3, 3] + s[7, 1] # s[4, 1, 1] + s[7, 1, 1] # s[1, 1, 1, 1, 1, 1] + 3*s[7, 1, 1] # s[2, 1, 1, 1, 1] + 2*s[7, 1, 1] # s[2, 2, 1, 1] + s[7, 1, 1] # s[2, 2, 2] + s[7, 1, 1] # s[3, 1, 1, 1] + s[7, 2] # s[1, 1, 1, 1, 1, 1] + 3*s[7, 2] # s[2, 1, 1, 1, 1] + 4*s[7, 2] # s[2, 2, 1, 1] + s[7, 2] # s[2, 2, 2] + 2*s[7, 2] # s[3, 1, 1, 1] + s[7, 2] # s[3, 2, 1] + s[7, 2, 1] # s[1, 1, 1, 1, 1, 1] + s[7, 2, 1] # s[2, 1, 1, 1, 1] + s[7, 3] # s[1, 1, 1, 1, 1, 1] + 2*s[7, 3] # s[2, 1, 1, 1, 1] + s[7, 3] # s[2, 2, 1, 1] + s[7, 4] # s[1, 1, 1, 1, 1, 1] + s[8] # s[2, 1, 1, 1] + s[8] # s[2, 2, 1] + s[8] # s[2, 2, 1, 1] + s[8] # s[2, 2, 2] + 2*s[8] # s[3, 1, 1, 1] + 3*s[8] # s[3, 2, 1] + s[8] # s[4, 1, 1] + s[8] # s[4, 2] + s[8, 1] # s[1, 1, 1, 1, 1] + 3*s[8, 1] # s[2, 1, 1, 1, 1] + 4*s[8, 1] # s[2, 2, 1, 1] + 2*s[8, 1] # s[2, 2, 2] + 3*s[8, 1] # s[3, 1, 1, 1] + 3*s[8, 1] # s[3, 2, 1] + 2*s[8, 1, 1] # s[1, 1, 1, 1, 1, 1] + 2*s[8, 1, 1] # s[2, 1, 1, 1, 1] + s[8, 1, 1] # s[2, 2, 1, 1] + s[8, 2] # s[1, 1, 1, 1, 1, 1] + 3*s[8, 2] # s[2, 1, 1, 1, 1] + 2*s[8, 2] # s[2, 2, 1, 1] + s[8, 2] # s[2, 2, 2] + s[8, 2] # s[3, 1, 1, 1] + s[8, 2, 1] # s[1, 1, 1, 1, 1, 1] + s[8, 3] # s[1, 1, 1, 1, 1, 1] + s[8, 3] # s[2, 1, 1, 1, 1] + s[9] # s[2, 1, 1, 1] + 2*s[9] # s[2, 2, 1, 1] + s[9] # s[2, 2, 2] + 2*s[9] # s[3, 1, 1, 1] + 2*s[9] # s[3, 2, 1] + s[9] # s[3, 3] + s[9] # s[4, 1, 1] + 3*s[9, 1] # s[2, 1, 1, 1, 1] + 4*s[9, 1] # s[2, 2, 1, 1] + s[9, 1] # s[2, 2, 2] + 2*s[9, 1] # s[3, 1, 1, 1] + s[9, 1] # s[3, 2, 1] + s[9, 1, 1] # s[1, 1, 1, 1, 1, 1] + s[9, 1, 1] # s[2, 1, 1, 1, 1] + s[9, 2] # s[1, 1, 1, 1, 1, 1] + 2*s[9, 2] # s[2, 1, 1, 1, 1] + s[9, 2] # s[2, 2, 1, 1] + s[9, 3] # s[1, 1, 1, 1, 1, 1] + s[10] # s[1, 1, 1, 1, 1] + s[10] # s[2, 1, 1, 1, 1] + s[10] # s[2, 2, 1, 1] + s[10] # s[2, 2, 2] + 2*s[10] # s[3, 1, 1, 1] + 2*s[10] # s[3, 2, 1] + s[10, 1] # s[1, 1, 1, 1, 1, 1] + 3*s[10, 1] # s[2, 1, 1, 1, 1] + 2*s[10, 1] # s[2, 2, 1, 1] + s[10, 1] # s[2, 2, 2] + s[10, 1] # s[3, 1, 1, 1] + s[10, 1, 1] # s[1, 1, 1, 1, 1, 1] + s[10, 2] # s[1, 1, 1, 1, 1, 1] + s[10, 2] # s[2, 1, 1, 1, 1] + s[11] # s[2, 1, 1, 1, 1] + 2*s[11] # s[2, 2, 1, 1] + s[11] # s[3, 1, 1, 1] + s[11] # s[3, 2, 1] + s[11, 1] # s[1, 1, 1, 1, 1, 1] + 2*s[11, 1] # s[2, 1, 1, 1, 1] + s[11, 1] # s[2, 2, 1, 1] + s[11, 2] # s[1, 1, 1, 1, 1, 1] + s[12] # s[2, 1, 1, 1, 1] + s[12] # s[2, 2, 1, 1] + s[12] # s[2, 2, 2] + s[12] # s[3, 1, 1, 1] + s[12, 1] # s[1, 1, 1, 1, 1, 1] + s[12, 1] # s[2, 1, 1, 1, 1] + s[13] # s[2, 1, 1, 1, 1] + s[13] # s[2, 2, 1, 1] + s[13, 1] # s[1, 1, 1, 1, 1, 1] + s[14] # s[2, 1, 1, 1, 1] + s[15] # s[1, 1, 1, 1, 1, 1]"
      ]
     },
     "execution_count": 15,
     "metadata": {},
     "output_type": "execute_result"
    }
   ],
   "source": [
    "harmonic_bicharacter_truncated_series()"
   ]
  },
  {
   "cell_type": "markdown",
   "metadata": {
    "deletable": true,
    "editable": true
   },
   "source": [
    "# Computing the space of harmonics manually"
   ]
  },
  {
   "cell_type": "code",
   "execution_count": 16,
   "metadata": {
    "collapsed": false,
    "deletable": true,
    "editable": true
   },
   "outputs": [
    {
     "data": {
      "text/plain": [
       "[x00 x01 x02 x03 x04]\n",
       "[x10 x11 x12 x13 x14]"
      ]
     },
     "execution_count": 16,
     "metadata": {},
     "output_type": "execute_result"
    }
   ],
   "source": [
    "n = 5\n",
    "r = 2\n",
    "P = DiagonalPolynomialRing(QQ,n,r)\n",
    "X = P.algebra_generators(); X"
   ]
  },
  {
   "cell_type": "code",
   "execution_count": 17,
   "metadata": {
    "collapsed": false,
    "deletable": true,
    "editable": true
   },
   "outputs": [
    {
     "name": "stderr",
     "output_type": "stream",
     "text": [
      "/opt/sage-git2/local/lib/python2.7/site-packages/sage/combinat/sf/sf.py:1416: RuntimeWarning: redefining global value `e`\n",
      "  inject_variable(shorthand, getattr(self, shorthand)())\n"
     ]
    }
   ],
   "source": [
    "Degrees = cartesian_product([ZZ]*r)\n",
    "def add_degree((d1,mu), d2):\n",
    "    d = d1+d2\n",
    "    if not all(i>=0 for i in d):\n",
    "        raise ValueError(\"Invalid degree\")\n",
    "    return d,mu\n",
    "\n",
    "R = QQ['q,t']\n",
    "Sym = SymmetricFunctions(R.fraction_field())\n",
    "Sym.inject_shorthands()\n",
    "def hilbert_parent(dimensions):\n",
    "    return s.sum_of_terms( (mu, R({d:dim})) for (d,mu),dim in dimensions.iteritems() )"
   ]
  },
  {
   "cell_type": "code",
   "execution_count": 18,
   "metadata": {
    "collapsed": false,
    "deletable": true,
    "editable": true
   },
   "outputs": [
    {
     "data": {
      "text/plain": [
       "3*q^2*t"
      ]
     },
     "execution_count": 18,
     "metadata": {},
     "output_type": "execute_result"
    }
   ],
   "source": [
    "R({Degrees([2,1]):3})"
   ]
  },
  {
   "cell_type": "code",
   "execution_count": 19,
   "metadata": {
    "collapsed": false,
    "deletable": true,
    "editable": true
   },
   "outputs": [
    {
     "data": {
      "text/plain": [
       "5*s[2] + 42*q^2*t*s[3, 2]"
      ]
     },
     "execution_count": 19,
     "metadata": {},
     "output_type": "execute_result"
    }
   ],
   "source": [
    "dimensions = {(Degrees([2,1]), Partition([3,2])): 42,\n",
    "              (Degrees([0,0]), Partition([2])): 5}\n",
    "hilbert_parent(dimensions)"
   ]
  },
  {
   "cell_type": "code",
   "execution_count": 20,
   "metadata": {
    "collapsed": false,
    "deletable": true,
    "editable": true
   },
   "outputs": [
    {
     "name": "stdout",
     "output_type": "stream",
     "text": [
      "((5, 0), [3, 2]) [(2/25) * (x01 - x04) * (-x00 + x03) * (x00^3 - 2*x00^2*x01 - 2*x00*x01^2 + x01^3 - 2*x00^2*x02 + 6*x00*x01*x02 - 2*x01^2*x02 + 3*x00*x02^2 + 3*x01*x02^2 - 4*x02^3 + 3*x00^2*x03 + x00*x01*x03 - 2*x01^2*x03 - 14*x00*x02*x03 + 6*x01*x02*x03 + 3*x02^2*x03 + 3*x00*x03^2 - 2*x01*x03^2 - 2*x02*x03^2 + x03^3 - 2*x00^2*x04 + x00*x01*x04 + 3*x01^2*x04 + 6*x00*x02*x04 - 14*x01*x02*x04 + 3*x02^2*x04 + x00*x03*x04 + x01*x03*x04 + 6*x02*x03*x04 - 2*x03^2*x04 - 2*x00*x04^2 + 3*x01*x04^2 - 2*x02*x04^2 - 2*x03*x04^2 + x04^3)]\n",
      "((3, 0), [3, 2]) [(4/5) * (x01 - x04) * (-x00 + x03) * (x00 + x01 - 4*x02 + x03 + x04)]\n",
      "((4, 0), [3, 1, 1]) [(-2/5) * (x03 - x04) * (-x00 + x03) * (x00 - x04) * (2*x00 - 3*x01 - 3*x02 + 2*x03 + 2*x04)]\n",
      "((6, 0), [3, 1, 1]) [(1/20) * (x03 - x04) * (-x00 + x03) * (x00 - x04) * (x00^2*x01 - 2*x01^3 + x00^2*x02 - 8*x00*x01*x02 + 6*x01^2*x02 + 6*x01*x02^2 - 2*x02^3 - x00^2*x03 + 3*x00*x01*x03 + 3*x00*x02*x03 - 8*x01*x02*x03 - x00*x03^2 + x01*x03^2 + x02*x03^2 - x00^2*x04 + 3*x00*x01*x04 + 3*x00*x02*x04 - 8*x01*x02*x04 - 2*x00*x03*x04 + 3*x01*x03*x04 + 3*x02*x03*x04 - x03^2*x04 - x00*x04^2 + x01*x04^2 + x02*x04^2 - x03*x04^2)]\n",
      "((0, 0), [5]) [2^3 * 3 * 5]\n",
      "((4, 0), [2, 2, 1]) [(4) * (x02 - x04) * (-x01 + x03) * (-x00 + x02) * (x00 - x04)]\n",
      "((8, 0), [2, 1, 1, 1]) [(-1/10) * (x03 - x04) * (-x02 + x03) * (x02 - x04) * (-x00 + x03) * (-x00 + x02) * (x00 - x04) * (-3*x00*x01 + 6*x01^2 + x00*x02 - 3*x01*x02 + x00*x03 - 3*x01*x03 + x02*x03 + x00*x04 - 3*x01*x04 + x02*x04 + x03*x04)]\n",
      "((6, 0), [2, 1, 1, 1]) [(-2) * (x03 - x04) * (-x02 + x03) * (x02 - x04) * (-x00 + x03) * (-x00 + x02) * (x00 - x04)]\n",
      "((2, 0), [4, 1]) [(-6/5) * (-3*x00 + 2*x01 + 2*x02 + 2*x03 - 3*x04) * (x00 - x04)]\n",
      "((1, 0), [4, 1]) [(-24) * (x00 - x04)]\n",
      "((5, 0), [3, 1, 1]) [(-2/125) * (x03 - x04) * (-x00 + x03) * (x00 - x04) * (6*x00^2 + 22*x00*x01 - 69*x01^2 + 22*x00*x02 + 72*x01*x02 - 69*x02^2 - 28*x00*x03 + 22*x01*x03 + 22*x02*x03 + 6*x03^2 - 28*x00*x04 + 22*x01*x04 + 22*x02*x04 - 28*x03*x04 + 6*x04^2), (2/125) * (x03 - x04) * (-x00 + x03) * (x00 - x04) * (7*x00^2 - 16*x00*x01 - 18*x01^2 - 16*x00*x02 + 84*x01*x02 - 18*x02^2 + 9*x00*x03 - 16*x01*x03 - 16*x02*x03 + 7*x03^2 + 9*x00*x04 - 16*x01*x04 - 16*x02*x04 + 9*x03*x04 + 7*x04^2)]\n",
      "((7, 0), [2, 1, 1, 1]) [(1/5) * (x03 - x04) * (-x02 + x03) * (x02 - x04) * (-x00 + x03) * (-x00 + x02) * (x00 - x04) * (x00 - 4*x01 + x02 + x03 + x04)]\n",
      "((5, 0), [2, 2, 1]) [(2/5) * (x02 - x04) * (-x01 + x03) * (-2*x00 + 3*x01 - 2*x02 + 3*x03 - 2*x04) * (-x00 + x02) * (x00 - x04)]\n",
      "((4, 0), [3, 2]) [(-2/25) * (x01 - x04) * (-x00 + x03) * (4*x00^2 - 12*x00*x01 + 4*x01^2 + 3*x00*x02 + 3*x01*x02 - 6*x02^2 + 13*x00*x03 - 12*x01*x03 + 3*x02*x03 + 4*x03^2 - 12*x00*x04 + 13*x01*x04 + 3*x02*x04 - 12*x03*x04 + 4*x04^2)]\n",
      "((3, 0), [4, 1]) [(4/5) * (x00 - x04) * (-x00^2 + x00*x01 + x01^2 + x00*x02 - 2*x01*x02 + x02^2 + x00*x03 - 2*x01*x03 - 2*x02*x03 + x03^2 - x00*x04 + x01*x04 + x02*x04 + x03*x04 - x04^2)]\n",
      "((3, 0), [3, 1, 1]) [(6) * (x03 - x04) * (-x00 + x03) * (x00 - x04)]\n",
      "((4, 0), [4, 1]) [(-6/125) * (x00 - x04) * (-3*x00^3 + 4*x00^2*x01 + 6*x00*x01^2 + 4*x01^3 + 4*x00^2*x02 - 12*x00*x01*x02 - 12*x01^2*x02 + 6*x00*x02^2 - 12*x01*x02^2 + 4*x02^3 + 4*x00^2*x03 - 12*x00*x01*x03 - 12*x01^2*x03 - 12*x00*x02*x03 + 72*x01*x02*x03 - 12*x02^2*x03 + 6*x00*x03^2 - 12*x01*x03^2 - 12*x02*x03^2 + 4*x03^3 - 3*x00^2*x04 + 4*x00*x01*x04 + 6*x01^2*x04 + 4*x00*x02*x04 - 12*x01*x02*x04 + 6*x02^2*x04 + 4*x00*x03*x04 - 12*x01*x03*x04 - 12*x02*x03*x04 + 6*x03^2*x04 - 3*x00*x04^2 + 4*x01*x04^2 + 4*x02*x04^2 + 4*x03*x04^2 - 3*x04^3)]\n",
      "((6, 0), [3, 2]) [(1/265) * (x01 - x04) * (-x00 + x03) * (-6*x00^3*x01 + 16*x00^2*x01^2 - 6*x00*x01^3 + 9*x00^3*x02 - 18*x00^2*x01*x02 - 18*x00*x01^2*x02 + 9*x01^3*x02 - 24*x00^2*x02^2 + 72*x00*x01*x02^2 - 24*x01^2*x02^2 - 6*x00*x02^3 - 6*x01*x02^3 + 6*x02^4 + 3*x00^3*x03 - 18*x00^2*x01*x03 + 22*x00*x01^2*x03 - 6*x01^3*x03 + 57*x00^2*x02*x03 - 36*x00*x01*x02*x03 - 18*x01^2*x02*x03 - 78*x00*x02^2*x03 + 72*x01*x02^2*x03 - 6*x02^3*x03 - 15*x00^2*x03^2 - 18*x00*x01*x03^2 + 16*x01^2*x03^2 + 57*x00*x02*x03^2 - 18*x01*x02*x03^2 - 24*x02^2*x03^2 + 3*x00*x03^3 - 6*x01*x03^3 + 9*x02*x03^3 - 6*x00^3*x04 + 22*x00^2*x01*x04 - 18*x00*x01^2*x04 + 3*x01^3*x04 - 18*x00^2*x02*x04 - 36*x00*x01*x02*x04 + 57*x01^2*x02*x04 + 72*x00*x02^2*x04 - 78*x01*x02^2*x04 - 6*x02^3*x04 - 18*x00^2*x03*x04 + 64*x00*x01*x03*x04 - 18*x01^2*x03*x04 - 36*x00*x02*x03*x04 - 36*x01*x02*x03*x04 + 72*x02^2*x03*x04 - 18*x00*x03^2*x04 + 22*x01*x03^2*x04 - 18*x02*x03^2*x04 - 6*x03^3*x04 + 16*x00^2*x04^2 - 18*x00*x01*x04^2 - 15*x01^2*x04^2 - 18*x00*x02*x04^2 + 57*x01*x02*x04^2 - 24*x02^2*x04^2 + 22*x00*x03*x04^2 - 18*x01*x03*x04^2 - 18*x02*x03*x04^2 + 16*x03^2*x04^2 - 6*x00*x04^3 + 3*x01*x04^3 + 9*x02*x04^3 - 6*x03*x04^3)]\n",
      "((6, 0), [2, 2, 1]) [(-1/25) * (x02 - x04) * (-x01 + x03) * (-x00 + x02) * (x00 - x04) * (-3*x00^2 + 4*x00*x01 + 2*x01^2 - x00*x02 + 4*x01*x02 - 3*x02^2 + 4*x00*x03 - 16*x01*x03 + 4*x02*x03 + 2*x03^2 - x00*x04 + 4*x01*x04 - x02*x04 + 4*x03*x04 - 3*x04^2)]\n",
      "((7, 0), [2, 2, 1]) [(-1/20) * (x02 - x04) * (-x01 + x03) * (-x00 + x02) * (x00 - x04) * (x00^2*x01 - 4*x00*x01^2 + 2*x01^3 - x00^2*x02 + 7*x00*x01*x02 - 4*x01^2*x02 - x00*x02^2 + x01*x02^2 + x00^2*x03 - 8*x00*x01*x03 + 6*x01^2*x03 + 7*x00*x02*x03 - 8*x01*x02*x03 + x02^2*x03 - 4*x00*x03^2 + 6*x01*x03^2 - 4*x02*x03^2 + 2*x03^3 - x00^2*x04 + 7*x00*x01*x04 - 4*x01^2*x04 - 10*x00*x02*x04 + 7*x01*x02*x04 - x02^2*x04 + 7*x00*x03*x04 - 8*x01*x03*x04 + 7*x02*x03*x04 - 4*x03^2*x04 - x00*x04^2 + x01*x04^2 - x02*x04^2 + x03*x04^2)]\n",
      "((8, 0), [2, 2, 1]) [(-1/85) * (x02 - x04) * (-x01 + x03) * (-x00 + x02) * (x00 - x04) * (-2*x00^2*x01^2 + 2*x00*x01^3 + 9*x00^2*x01*x02 - 14*x00*x01^2*x02 + 2*x01^3*x02 - 4*x00^2*x02^2 + 9*x00*x01*x02^2 - 2*x01^2*x02^2 - 14*x00^2*x01*x03 + 26*x00*x01^2*x03 - 6*x01^3*x03 + 9*x00^2*x02*x03 - 38*x00*x01*x02*x03 + 26*x01^2*x02*x03 + 9*x00*x02^2*x03 - 14*x01*x02^2*x03 - 2*x00^2*x03^2 + 26*x00*x01*x03^2 - 30*x01^2*x03^2 - 14*x00*x02*x03^2 + 26*x01*x02*x03^2 - 2*x02^2*x03^2 + 2*x00*x03^3 - 6*x01*x03^3 + 2*x02*x03^3 + 9*x00^2*x01*x04 - 14*x00*x01^2*x04 + 2*x01^3*x04 - 10*x00^2*x02*x04 + 30*x00*x01*x02*x04 - 14*x01^2*x02*x04 - 10*x00*x02^2*x04 + 9*x01*x02^2*x04 + 9*x00^2*x03*x04 - 38*x00*x01*x03*x04 + 26*x01^2*x03*x04 + 30*x00*x02*x03*x04 - 38*x01*x02*x03*x04 + 9*x02^2*x03*x04 - 14*x00*x03^2*x04 + 26*x01*x03^2*x04 - 14*x02*x03^2*x04 + 2*x03^3*x04 - 4*x00^2*x04^2 + 9*x00*x01*x04^2 - 2*x01^2*x04^2 - 10*x00*x02*x04^2 + 9*x01*x02*x04^2 - 4*x02^2*x04^2 + 9*x00*x03*x04^2 - 14*x01*x03*x04^2 + 9*x02*x03*x04^2 - 2*x03^2*x04^2)]\n",
      "((7, 0), [3, 1, 1]) [(-1/45) * (x03 - x04) * (-x00 + x03) * (x00 - x04) * (3*x00^2*x01^2 - 4*x00*x01^3 - 12*x00^2*x01*x02 + 12*x00*x01^2*x02 + 12*x01^3*x02 + 3*x00^2*x02^2 + 12*x00*x01*x02^2 - 36*x01^2*x02^2 - 4*x00*x02^3 + 12*x01*x02^3 + 3*x00^2*x01*x03 - 3*x00*x01^2*x03 - 4*x01^3*x03 + 3*x00^2*x02*x03 - 12*x00*x01*x02*x03 + 12*x01^2*x02*x03 - 3*x00*x02^2*x03 + 12*x01*x02^2*x03 - 4*x02^3*x03 - 2*x00^2*x03^2 + 3*x00*x01*x03^2 + 3*x01^2*x03^2 + 3*x00*x02*x03^2 - 12*x01*x02*x03^2 + 3*x02^2*x03^2 + 3*x00^2*x01*x04 - 3*x00*x01^2*x04 - 4*x01^3*x04 + 3*x00^2*x02*x04 - 12*x00*x01*x02*x04 + 12*x01^2*x02*x04 - 3*x00*x02^2*x04 + 12*x01*x02^2*x04 - 4*x02^3*x04 - 2*x00^2*x03*x04 + 6*x00*x01*x03*x04 - 3*x01^2*x03*x04 + 6*x00*x02*x03*x04 - 12*x01*x02*x03*x04 - 3*x02^2*x03*x04 - 2*x00*x03^2*x04 + 3*x01*x03^2*x04 + 3*x02*x03^2*x04 - 2*x00^2*x04^2 + 3*x00*x01*x04^2 + 3*x01^2*x04^2 + 3*x00*x02*x04^2 - 12*x01*x02*x04^2 + 3*x02^2*x04^2 - 2*x00*x03*x04^2 + 3*x01*x03*x04^2 + 3*x02*x03*x04^2 - 2*x03^2*x04^2)]\n",
      "((2, 0), [3, 2]) [(-12) * (x01 - x04) * (-x00 + x03)]\n",
      "((10, 0), [1, 1, 1, 1, 1]) [(x03 - x04) * (-x02 + x03) * (x02 - x04) * (-x01 + x03) * (-x01 + x02) * (x01 - x04) * (-x00 + x03) * (-x00 + x02) * (-x00 + x01) * (x00 - x04)]\n",
      "((9, 0), [2, 1, 1, 1]) [(-1/10) * (x03 - x04) * (-x02 + x03) * (x02 - x04) * (-x00 + x03) * (-x00 + x02) * (x00 - x04) * (-3*x00*x01^2 + 4*x01^3 + 2*x00*x01*x02 - 3*x01^2*x02 + 2*x00*x01*x03 - 3*x01^2*x03 - x00*x02*x03 + 2*x01*x02*x03 + 2*x00*x01*x04 - 3*x01^2*x04 - x00*x02*x04 + 2*x01*x02*x04 - x00*x03*x04 + 2*x01*x03*x04 - x02*x03*x04)]\n"
     ]
    }
   ],
   "source": [
    "generators = {}\n",
    "for mu in Partitions(n):\n",
    "    for t in StandardTableaux(mu):\n",
    "        p = P.higher_specht(t, harmonic=True)\n",
    "        d = (Degrees([p.degree()]+[0]*(r-1)), mu)\n",
    "        if d not in generators:\n",
    "            generators[d] = []\n",
    "        generators[d].append(p)\n",
    "for key,value in generators.iteritems():\n",
    "    print key, [factor(p) for p in value]"
   ]
  },
  {
   "cell_type": "code",
   "execution_count": 21,
   "metadata": {
    "collapsed": false,
    "deletable": true,
    "editable": true
   },
   "outputs": [
    {
     "data": {
      "text/plain": [
       "{(-3, 1): [<functools.partial object at 0x7f1bc22d2628>],\n",
       " (-1, 1): [<functools.partial object at 0x7f1bc22e5050>],\n",
       " (-4, 1): [<functools.partial object at 0x7f1bc22d27e0>],\n",
       " (-2, 1): [<functools.partial object at 0x7f1bc22d2788>]}"
      ]
     },
     "execution_count": 21,
     "metadata": {},
     "output_type": "execute_result"
    }
   ],
   "source": [
    "operators = P.polarization_operators_by_degree(side=\"down\"); operators"
   ]
  },
  {
   "cell_type": "code",
   "execution_count": 22,
   "metadata": {
    "collapsed": false,
    "deletable": true,
    "editable": true
   },
   "outputs": [],
   "source": [
    "F = Subspace(generators, operators=operators, add_degrees=add_degree)\n",
    "F._hilbert_parent = hilbert_parent"
   ]
  },
  {
   "cell_type": "code",
   "execution_count": 23,
   "metadata": {
    "collapsed": false,
    "deletable": true,
    "editable": true,
    "scrolled": true
   },
   "outputs": [
    {
     "name": "stdout",
     "output_type": "stream",
     "text": [
      "CPU times: user 2.37 s, sys: 24 ms, total: 2.4 s\n",
      "Wall time: 2.38 s\n"
     ]
    }
   ],
   "source": [
    "%time dims = F.dimensions()"
   ]
  },
  {
   "cell_type": "code",
   "execution_count": 24,
   "metadata": {
    "collapsed": false,
    "deletable": true,
    "editable": true,
    "scrolled": true
   },
   "outputs": [
    {
     "data": {
      "text/plain": [
       "(q^10+q^9*t+q^8*t^2+q^7*t^3+q^6*t^4+q^5*t^5+q^4*t^6+q^3*t^7+q^2*t^8+q*t^9+t^10+q^8*t+q^7*t^2+q^6*t^3+q^5*t^4+q^4*t^5+q^3*t^6+q^2*t^7+q*t^8+q^7*t+2*q^6*t^2+2*q^5*t^3+2*q^4*t^4+2*q^3*t^5+2*q^2*t^6+q*t^7+q^6*t+q^5*t^2+2*q^4*t^3+2*q^3*t^4+q^2*t^5+q*t^6+q^4*t^2+q^3*t^3+q^2*t^4)*s[1, 1, 1, 1, 1] + (q^9+q^8*t+q^7*t^2+q^6*t^3+q^5*t^4+q^4*t^5+q^3*t^6+q^2*t^7+q*t^8+t^9+q^8+2*q^7*t+2*q^6*t^2+2*q^5*t^3+2*q^4*t^4+2*q^3*t^5+2*q^2*t^6+2*q*t^7+t^8+q^7+3*q^6*t+4*q^5*t^2+4*q^4*t^3+4*q^3*t^4+4*q^2*t^5+3*q*t^6+t^7+q^6+3*q^5*t+4*q^4*t^2+5*q^3*t^3+4*q^2*t^4+3*q*t^5+t^6+2*q^4*t+3*q^3*t^2+3*q^2*t^3+2*q*t^4+q^3*t+q^2*t^2+q*t^3)*s[2, 1, 1, 1] + (q^8+q^7*t+q^6*t^2+q^5*t^3+q^4*t^4+q^3*t^5+q^2*t^6+q*t^7+t^8+q^7+2*q^6*t+2*q^5*t^2+2*q^4*t^3+2*q^3*t^4+2*q^2*t^5+2*q*t^6+t^7+q^6+3*q^5*t+4*q^4*t^2+4*q^3*t^3+4*q^2*t^4+3*q*t^5+t^6+q^5+3*q^4*t+4*q^3*t^2+4*q^2*t^3+3*q*t^4+t^5+q^4+2*q^3*t+3*q^2*t^2+2*q*t^3+t^4+q^2*t+q*t^2)*s[2, 2, 1] + (q^7+q^6*t+q^5*t^2+q^4*t^3+q^3*t^4+q^2*t^5+q*t^6+t^7+q^6+2*q^5*t+2*q^4*t^2+2*q^3*t^3+2*q^2*t^4+2*q*t^5+t^6+2*q^5+3*q^4*t+4*q^3*t^2+4*q^2*t^3+3*q*t^4+2*t^5+q^4+3*q^3*t+3*q^2*t^2+3*q*t^3+t^4+q^3+2*q^2*t+2*q*t^2+t^3+q*t)*s[3, 1, 1] + (q^6+q^5*t+q^4*t^2+q^3*t^3+q^2*t^4+q*t^5+t^6+q^5+2*q^4*t+2*q^3*t^2+2*q^2*t^3+2*q*t^4+t^5+q^4+2*q^3*t+3*q^2*t^2+2*q*t^3+t^4+q^3+2*q^2*t+2*q*t^2+t^3+q^2+q*t+t^2)*s[3, 2] + (q^4+q^3*t+q^2*t^2+q*t^3+t^4+q^3+q^2*t+q*t^2+t^3+q^2+q*t+t^2+q+t)*s[4, 1] + s[5]"
      ]
     },
     "execution_count": 24,
     "metadata": {},
     "output_type": "execute_result"
    }
   ],
   "source": [
    "F.hilbert_polynomial()"
   ]
  },
  {
   "cell_type": "code",
   "execution_count": 25,
   "metadata": {
    "collapsed": false,
    "deletable": true,
    "editable": true
   },
   "outputs": [
    {
     "data": {
      "text/plain": [
       "0"
      ]
     },
     "execution_count": 25,
     "metadata": {},
     "output_type": "execute_result"
    }
   ],
   "source": [
    "_ - s(e[n].nabla())"
   ]
  },
  {
   "cell_type": "markdown",
   "metadata": {
    "deletable": true,
    "editable": true
   },
   "source": [
    "# Debugging stuff"
   ]
  },
  {
   "cell_type": "code",
   "execution_count": null,
   "metadata": {
    "collapsed": false,
    "deletable": true,
    "editable": true
   },
   "outputs": [],
   "source": [
    "F.hilbert_polynomial()[Partition([2,2,1])]"
   ]
  },
  {
   "cell_type": "code",
   "execution_count": null,
   "metadata": {
    "collapsed": false,
    "deletable": true,
    "editable": true
   },
   "outputs": [],
   "source": [
    "d = (Degrees([0,7]), Partition([2,2,1]))"
   ]
  },
  {
   "cell_type": "code",
   "execution_count": null,
   "metadata": {
    "collapsed": false,
    "deletable": true,
    "editable": true
   },
   "outputs": [],
   "source": [
    "F._bases[d].cardinality()"
   ]
  },
  {
   "cell_type": "code",
   "execution_count": null,
   "metadata": {
    "collapsed": false,
    "deletable": true,
    "editable": true
   },
   "outputs": [],
   "source": [
    "p1,p2 = F._bases[d]._basis"
   ]
  },
  {
   "cell_type": "code",
   "execution_count": null,
   "metadata": {
    "collapsed": false,
    "deletable": true,
    "editable": true
   },
   "outputs": [],
   "source": [
    "p1/=1440;p1"
   ]
  },
  {
   "cell_type": "code",
   "execution_count": null,
   "metadata": {
    "collapsed": false,
    "deletable": true,
    "editable": true
   },
   "outputs": [],
   "source": [
    "p2 /= 5040; p2"
   ]
  },
  {
   "cell_type": "code",
   "execution_count": null,
   "metadata": {
    "collapsed": false,
    "deletable": true,
    "editable": true
   },
   "outputs": [],
   "source": [
    "R({d[0]:1})"
   ]
  },
  {
   "cell_type": "code",
   "execution_count": null,
   "metadata": {
    "collapsed": false,
    "deletable": true,
    "editable": true
   },
   "outputs": [],
   "source": [
    "F.dimensions()[d]"
   ]
  },
  {
   "cell_type": "code",
   "execution_count": null,
   "metadata": {
    "collapsed": false,
    "deletable": true,
    "editable": true
   },
   "outputs": [],
   "source": [
    "len(F._todo)"
   ]
  },
  {
   "cell_type": "code",
   "execution_count": null,
   "metadata": {
    "collapsed": true,
    "deletable": true,
    "editable": true
   },
   "outputs": [],
   "source": [
    "F.dimensions??"
   ]
  },
  {
   "cell_type": "code",
   "execution_count": null,
   "metadata": {
    "collapsed": false,
    "deletable": true,
    "editable": true
   },
   "outputs": [],
   "source": [
    "sum(basis.cardinality() for d, basis in F._bases.iteritems())"
   ]
  },
  {
   "cell_type": "code",
   "execution_count": null,
   "metadata": {
    "collapsed": false,
    "deletable": true,
    "editable": true
   },
   "outputs": [],
   "source": [
    "Subspace._extensions"
   ]
  },
  {
   "cell_type": "code",
   "execution_count": null,
   "metadata": {
    "collapsed": false,
    "deletable": true,
    "editable": true
   },
   "outputs": [],
   "source": [
    "sum(s(e[n].nabla()).coefficients())(q=1,t=1)"
   ]
  },
  {
   "cell_type": "code",
   "execution_count": null,
   "metadata": {
    "collapsed": false,
    "deletable": true,
    "editable": true
   },
   "outputs": [],
   "source": [
    "{d: basis._matrix for d, basis in F._bases.iteritems()}"
   ]
  },
  {
   "cell_type": "code",
   "execution_count": null,
   "metadata": {
    "collapsed": true,
    "deletable": true,
    "editable": true
   },
   "outputs": [],
   "source": []
  }
 ],
 "metadata": {
  "kernelspec": {
   "display_name": "SageMath 8.0.beta9",
   "language": "",
   "name": "sagemath"
  },
  "language_info": {
   "codemirror_mode": {
    "name": "ipython",
    "version": 2
   },
   "file_extension": ".py",
   "mimetype": "text/x-python",
   "name": "python",
   "nbconvert_exporter": "python",
   "pygments_lexer": "ipython2",
   "version": "2.7.13"
  }
 },
 "nbformat": 4,
 "nbformat_minor": 2
}
