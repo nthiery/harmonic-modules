{
 "cells": [
  {
   "cell_type": "code",
   "execution_count": 75,
   "metadata": {
    "collapsed": true,
    "deletable": true,
    "editable": true
   },
   "outputs": [],
   "source": [
    "%runfile code.py"
   ]
  },
  {
   "cell_type": "code",
   "execution_count": 76,
   "metadata": {
    "collapsed": false,
    "deletable": true,
    "editable": true
   },
   "outputs": [
    {
     "data": {
      "text/plain": [
       "[x00 x01 x02 x03 x04]\n",
       "[x10 x11 x12 x13 x14]"
      ]
     },
     "execution_count": 76,
     "metadata": {},
     "output_type": "execute_result"
    }
   ],
   "source": [
    "n = 5\n",
    "r = 2\n",
    "P = DiagonalPolynomialRing(QQ,n,r)\n",
    "X = P.algebra_generators(); X"
   ]
  },
  {
   "cell_type": "code",
   "execution_count": 77,
   "metadata": {
    "collapsed": false,
    "deletable": true,
    "editable": true
   },
   "outputs": [],
   "source": [
    "Degrees = cartesian_product([ZZ]*r)\n",
    "def add_degree((d1,mu), d2):\n",
    "    d = d1+d2\n",
    "    if not all(i>=0 for i in d):\n",
    "        raise ValueError(\"Invalid degree\")\n",
    "    return d,mu\n",
    "\n",
    "R = QQ['q,t']\n",
    "Sym = SymmetricFunctions(R.fraction_field())\n",
    "Sym.inject_shorthands()\n",
    "def hilbert_parent(dimensions):\n",
    "    return s.sum_of_terms( (mu, R({d:dim})) for (d,mu),dim in dimensions.iteritems() )"
   ]
  },
  {
   "cell_type": "code",
   "execution_count": 78,
   "metadata": {
    "collapsed": false,
    "deletable": true,
    "editable": true
   },
   "outputs": [
    {
     "data": {
      "text/plain": [
       "3*q^2*t"
      ]
     },
     "execution_count": 78,
     "metadata": {},
     "output_type": "execute_result"
    }
   ],
   "source": [
    "R({Degrees([2,1]):3})"
   ]
  },
  {
   "cell_type": "code",
   "execution_count": 79,
   "metadata": {
    "collapsed": false,
    "deletable": true,
    "editable": true
   },
   "outputs": [
    {
     "data": {
      "text/plain": [
       "5*s[2] + 42*q^2*t*s[3, 2]"
      ]
     },
     "execution_count": 79,
     "metadata": {},
     "output_type": "execute_result"
    }
   ],
   "source": [
    "dimensions = {(Degrees([2,1]), Partition([3,2])): 42,\n",
    "              (Degrees([0,0]), Partition([2])): 5}\n",
    "hilbert_parent(dimensions)"
   ]
  },
  {
   "cell_type": "code",
   "execution_count": 83,
   "metadata": {
    "collapsed": false,
    "deletable": true,
    "editable": true
   },
   "outputs": [
    {
     "name": "stdout",
     "output_type": "stream",
     "text": [
      " ((5, 0), [3, 2]) [(2/25) * (x01 - x04) * (-x00 + x03) * (x00^3 - 2*x00^2*x01 - 2*x00*x01^2 + x01^3 - 2*x00^2*x02 + 6*x00*x01*x02 - 2*x01^2*x02 + 3*x00*x02^2 + 3*x01*x02^2 - 4*x02^3 + 3*x00^2*x03 + x00*x01*x03 - 2*x01^2*x03 - 14*x00*x02*x03 + 6*x01*x02*x03 + 3*x02^2*x03 + 3*x00*x03^2 - 2*x01*x03^2 - 2*x02*x03^2 + x03^3 - 2*x00^2*x04 + x00*x01*x04 + 3*x01^2*x04 + 6*x00*x02*x04 - 14*x01*x02*x04 + 3*x02^2*x04 + x00*x03*x04 + x01*x03*x04 + 6*x02*x03*x04 - 2*x03^2*x04 - 2*x00*x04^2 + 3*x01*x04^2 - 2*x02*x04^2 - 2*x03*x04^2 + x04^3)]\n",
      "((3, 0), [3, 2]) [(4/5) * (x01 - x04) * (-x00 + x03) * (x00 + x01 - 4*x02 + x03 + x04)]\n",
      "((4, 0), [3, 1, 1]) [(-2/5) * (x03 - x04) * (-x00 + x03) * (x00 - x04) * (2*x00 - 3*x01 - 3*x02 + 2*x03 + 2*x04)]\n",
      "((6, 0), [3, 1, 1]) [(1/20) * (x03 - x04) * (-x00 + x03) * (x00 - x04) * (x00^2*x01 - 2*x01^3 + x00^2*x02 - 8*x00*x01*x02 + 6*x01^2*x02 + 6*x01*x02^2 - 2*x02^3 - x00^2*x03 + 3*x00*x01*x03 + 3*x00*x02*x03 - 8*x01*x02*x03 - x00*x03^2 + x01*x03^2 + x02*x03^2 - x00^2*x04 + 3*x00*x01*x04 + 3*x00*x02*x04 - 8*x01*x02*x04 - 2*x00*x03*x04 + 3*x01*x03*x04 + 3*x02*x03*x04 - x03^2*x04 - x00*x04^2 + x01*x04^2 + x02*x04^2 - x03*x04^2)]\n",
      "((0, 0), [5]) [2^3 * 3 * 5]\n",
      "((4, 0), [2, 2, 1]) [(4) * (x02 - x04) * (-x01 + x03) * (-x00 + x02) * (x00 - x04)]\n",
      "((8, 0), [2, 1, 1, 1]) [(-1/10) * (x03 - x04) * (-x02 + x03) * (x02 - x04) * (-x00 + x03) * (-x00 + x02) * (x00 - x04) * (-3*x00*x01 + 6*x01^2 + x00*x02 - 3*x01*x02 + x00*x03 - 3*x01*x03 + x02*x03 + x00*x04 - 3*x01*x04 + x02*x04 + x03*x04)]\n",
      "((6, 0), [2, 1, 1, 1]) [(-2) * (x03 - x04) * (-x02 + x03) * (x02 - x04) * (-x00 + x03) * (-x00 + x02) * (x00 - x04)]\n",
      "((2, 0), [4, 1]) [(-6/5) * (-3*x00 + 2*x01 + 2*x02 + 2*x03 - 3*x04) * (x00 - x04)]\n",
      "((1, 0), [4, 1]) [(-24) * (x00 - x04)]\n",
      "((5, 0), [3, 1, 1]) [(-2/125) * (x03 - x04) * (-x00 + x03) * (x00 - x04) * (6*x00^2 + 22*x00*x01 - 69*x01^2 + 22*x00*x02 + 72*x01*x02 - 69*x02^2 - 28*x00*x03 + 22*x01*x03 + 22*x02*x03 + 6*x03^2 - 28*x00*x04 + 22*x01*x04 + 22*x02*x04 - 28*x03*x04 + 6*x04^2), (2/125) * (x03 - x04) * (-x00 + x03) * (x00 - x04) * (7*x00^2 - 16*x00*x01 - 18*x01^2 - 16*x00*x02 + 84*x01*x02 - 18*x02^2 + 9*x00*x03 - 16*x01*x03 - 16*x02*x03 + 7*x03^2 + 9*x00*x04 - 16*x01*x04 - 16*x02*x04 + 9*x03*x04 + 7*x04^2)]\n",
      "((7, 0), [2, 1, 1, 1]) [(1/5) * (x03 - x04) * (-x02 + x03) * (x02 - x04) * (-x00 + x03) * (-x00 + x02) * (x00 - x04) * (x00 - 4*x01 + x02 + x03 + x04)]\n",
      "((5, 0), [2, 2, 1]) [(2/5) * (x02 - x04) * (-x01 + x03) * (-2*x00 + 3*x01 - 2*x02 + 3*x03 - 2*x04) * (-x00 + x02) * (x00 - x04)]\n",
      "((4, 0), [3, 2]) [(-2/25) * (x01 - x04) * (-x00 + x03) * (4*x00^2 - 12*x00*x01 + 4*x01^2 + 3*x00*x02 + 3*x01*x02 - 6*x02^2 + 13*x00*x03 - 12*x01*x03 + 3*x02*x03 + 4*x03^2 - 12*x00*x04 + 13*x01*x04 + 3*x02*x04 - 12*x03*x04 + 4*x04^2)]\n",
      "((3, 0), [4, 1]) [(4/5) * (x00 - x04) * (-x00^2 + x00*x01 + x01^2 + x00*x02 - 2*x01*x02 + x02^2 + x00*x03 - 2*x01*x03 - 2*x02*x03 + x03^2 - x00*x04 + x01*x04 + x02*x04 + x03*x04 - x04^2)]\n",
      "((3, 0), [3, 1, 1]) [(6) * (x03 - x04) * (-x00 + x03) * (x00 - x04)]\n",
      "((4, 0), [4, 1]) [(-6/125) * (x00 - x04) * (-3*x00^3 + 4*x00^2*x01 + 6*x00*x01^2 + 4*x01^3 + 4*x00^2*x02 - 12*x00*x01*x02 - 12*x01^2*x02 + 6*x00*x02^2 - 12*x01*x02^2 + 4*x02^3 + 4*x00^2*x03 - 12*x00*x01*x03 - 12*x01^2*x03 - 12*x00*x02*x03 + 72*x01*x02*x03 - 12*x02^2*x03 + 6*x00*x03^2 - 12*x01*x03^2 - 12*x02*x03^2 + 4*x03^3 - 3*x00^2*x04 + 4*x00*x01*x04 + 6*x01^2*x04 + 4*x00*x02*x04 - 12*x01*x02*x04 + 6*x02^2*x04 + 4*x00*x03*x04 - 12*x01*x03*x04 - 12*x02*x03*x04 + 6*x03^2*x04 - 3*x00*x04^2 + 4*x01*x04^2 + 4*x02*x04^2 + 4*x03*x04^2 - 3*x04^3)]\n",
      "((6, 0), [3, 2]) [(1/265) * (x01 - x04) * (-x00 + x03) * (-6*x00^3*x01 + 16*x00^2*x01^2 - 6*x00*x01^3 + 9*x00^3*x02 - 18*x00^2*x01*x02 - 18*x00*x01^2*x02 + 9*x01^3*x02 - 24*x00^2*x02^2 + 72*x00*x01*x02^2 - 24*x01^2*x02^2 - 6*x00*x02^3 - 6*x01*x02^3 + 6*x02^4 + 3*x00^3*x03 - 18*x00^2*x01*x03 + 22*x00*x01^2*x03 - 6*x01^3*x03 + 57*x00^2*x02*x03 - 36*x00*x01*x02*x03 - 18*x01^2*x02*x03 - 78*x00*x02^2*x03 + 72*x01*x02^2*x03 - 6*x02^3*x03 - 15*x00^2*x03^2 - 18*x00*x01*x03^2 + 16*x01^2*x03^2 + 57*x00*x02*x03^2 - 18*x01*x02*x03^2 - 24*x02^2*x03^2 + 3*x00*x03^3 - 6*x01*x03^3 + 9*x02*x03^3 - 6*x00^3*x04 + 22*x00^2*x01*x04 - 18*x00*x01^2*x04 + 3*x01^3*x04 - 18*x00^2*x02*x04 - 36*x00*x01*x02*x04 + 57*x01^2*x02*x04 + 72*x00*x02^2*x04 - 78*x01*x02^2*x04 - 6*x02^3*x04 - 18*x00^2*x03*x04 + 64*x00*x01*x03*x04 - 18*x01^2*x03*x04 - 36*x00*x02*x03*x04 - 36*x01*x02*x03*x04 + 72*x02^2*x03*x04 - 18*x00*x03^2*x04 + 22*x01*x03^2*x04 - 18*x02*x03^2*x04 - 6*x03^3*x04 + 16*x00^2*x04^2 - 18*x00*x01*x04^2 - 15*x01^2*x04^2 - 18*x00*x02*x04^2 + 57*x01*x02*x04^2 - 24*x02^2*x04^2 + 22*x00*x03*x04^2 - 18*x01*x03*x04^2 - 18*x02*x03*x04^2 + 16*x03^2*x04^2 - 6*x00*x04^3 + 3*x01*x04^3 + 9*x02*x04^3 - 6*x03*x04^3)]\n",
      "((6, 0), [2, 2, 1]) [(-1/25) * (x02 - x04) * (-x01 + x03) * (-x00 + x02) * (x00 - x04) * (-3*x00^2 + 4*x00*x01 + 2*x01^2 - x00*x02 + 4*x01*x02 - 3*x02^2 + 4*x00*x03 - 16*x01*x03 + 4*x02*x03 + 2*x03^2 - x00*x04 + 4*x01*x04 - x02*x04 + 4*x03*x04 - 3*x04^2)]\n",
      "((7, 0), [2, 2, 1]) [(-1/20) * (x02 - x04) * (-x01 + x03) * (-x00 + x02) * (x00 - x04) * (x00^2*x01 - 4*x00*x01^2 + 2*x01^3 - x00^2*x02 + 7*x00*x01*x02 - 4*x01^2*x02 - x00*x02^2 + x01*x02^2 + x00^2*x03 - 8*x00*x01*x03 + 6*x01^2*x03 + 7*x00*x02*x03 - 8*x01*x02*x03 + x02^2*x03 - 4*x00*x03^2 + 6*x01*x03^2 - 4*x02*x03^2 + 2*x03^3 - x00^2*x04 + 7*x00*x01*x04 - 4*x01^2*x04 - 10*x00*x02*x04 + 7*x01*x02*x04 - x02^2*x04 + 7*x00*x03*x04 - 8*x01*x03*x04 + 7*x02*x03*x04 - 4*x03^2*x04 - x00*x04^2 + x01*x04^2 - x02*x04^2 + x03*x04^2)]\n",
      "((8, 0), [2, 2, 1]) [(-1/85) * (x02 - x04) * (-x01 + x03) * (-x00 + x02) * (x00 - x04) * (-2*x00^2*x01^2 + 2*x00*x01^3 + 9*x00^2*x01*x02 - 14*x00*x01^2*x02 + 2*x01^3*x02 - 4*x00^2*x02^2 + 9*x00*x01*x02^2 - 2*x01^2*x02^2 - 14*x00^2*x01*x03 + 26*x00*x01^2*x03 - 6*x01^3*x03 + 9*x00^2*x02*x03 - 38*x00*x01*x02*x03 + 26*x01^2*x02*x03 + 9*x00*x02^2*x03 - 14*x01*x02^2*x03 - 2*x00^2*x03^2 + 26*x00*x01*x03^2 - 30*x01^2*x03^2 - 14*x00*x02*x03^2 + 26*x01*x02*x03^2 - 2*x02^2*x03^2 + 2*x00*x03^3 - 6*x01*x03^3 + 2*x02*x03^3 + 9*x00^2*x01*x04 - 14*x00*x01^2*x04 + 2*x01^3*x04 - 10*x00^2*x02*x04 + 30*x00*x01*x02*x04 - 14*x01^2*x02*x04 - 10*x00*x02^2*x04 + 9*x01*x02^2*x04 + 9*x00^2*x03*x04 - 38*x00*x01*x03*x04 + 26*x01^2*x03*x04 + 30*x00*x02*x03*x04 - 38*x01*x02*x03*x04 + 9*x02^2*x03*x04 - 14*x00*x03^2*x04 + 26*x01*x03^2*x04 - 14*x02*x03^2*x04 + 2*x03^3*x04 - 4*x00^2*x04^2 + 9*x00*x01*x04^2 - 2*x01^2*x04^2 - 10*x00*x02*x04^2 + 9*x01*x02*x04^2 - 4*x02^2*x04^2 + 9*x00*x03*x04^2 - 14*x01*x03*x04^2 + 9*x02*x03*x04^2 - 2*x03^2*x04^2)]\n",
      "((7, 0), [3, 1, 1]) [(-1/45) * (x03 - x04) * (-x00 + x03) * (x00 - x04) * (3*x00^2*x01^2 - 4*x00*x01^3 - 12*x00^2*x01*x02 + 12*x00*x01^2*x02 + 12*x01^3*x02 + 3*x00^2*x02^2 + 12*x00*x01*x02^2 - 36*x01^2*x02^2 - 4*x00*x02^3 + 12*x01*x02^3 + 3*x00^2*x01*x03 - 3*x00*x01^2*x03 - 4*x01^3*x03 + 3*x00^2*x02*x03 - 12*x00*x01*x02*x03 + 12*x01^2*x02*x03 - 3*x00*x02^2*x03 + 12*x01*x02^2*x03 - 4*x02^3*x03 - 2*x00^2*x03^2 + 3*x00*x01*x03^2 + 3*x01^2*x03^2 + 3*x00*x02*x03^2 - 12*x01*x02*x03^2 + 3*x02^2*x03^2 + 3*x00^2*x01*x04 - 3*x00*x01^2*x04 - 4*x01^3*x04 + 3*x00^2*x02*x04 - 12*x00*x01*x02*x04 + 12*x01^2*x02*x04 - 3*x00*x02^2*x04 + 12*x01*x02^2*x04 - 4*x02^3*x04 - 2*x00^2*x03*x04 + 6*x00*x01*x03*x04 - 3*x01^2*x03*x04 + 6*x00*x02*x03*x04 - 12*x01*x02*x03*x04 - 3*x02^2*x03*x04 - 2*x00*x03^2*x04 + 3*x01*x03^2*x04 + 3*x02*x03^2*x04 - 2*x00^2*x04^2 + 3*x00*x01*x04^2 + 3*x01^2*x04^2 + 3*x00*x02*x04^2 - 12*x01*x02*x04^2 + 3*x02^2*x04^2 - 2*x00*x03*x04^2 + 3*x01*x03*x04^2 + 3*x02*x03*x04^2 - 2*x03^2*x04^2)]\n",
      "((2, 0), [3, 2]) [(-12) * (x01 - x04) * (-x00 + x03)]\n",
      "((10, 0), [1, 1, 1, 1, 1]) [(x03 - x04) * (-x02 + x03) * (x02 - x04) * (-x01 + x03) * (-x01 + x02) * (x01 - x04) * (-x00 + x03) * (-x00 + x02) * (-x00 + x01) * (x00 - x04)]\n",
      "((9, 0), [2, 1, 1, 1]) [(-1/10) * (x03 - x04) * (-x02 + x03) * (x02 - x04) * (-x00 + x03) * (-x00 + x02) * (x00 - x04) * (-3*x00*x01^2 + 4*x01^3 + 2*x00*x01*x02 - 3*x01^2*x02 + 2*x00*x01*x03 - 3*x01^2*x03 - x00*x02*x03 + 2*x01*x02*x03 + 2*x00*x01*x04 - 3*x01^2*x04 - x00*x02*x04 + 2*x01*x02*x04 - x00*x03*x04 + 2*x01*x03*x04 - x02*x03*x04)]\n"
     ]
    }
   ],
   "source": [
    "generators = {}\n",
    "for mu in Partitions(n):\n",
    "    for t in StandardTableaux(mu):\n",
    "        p = P.higher_specht(t, harmonic=True)\n",
    "        d = (Degrees([p.degree()]+[0]*(r-1)), mu)\n",
    "        if d not in generators:\n",
    "            generators[d] = []\n",
    "        generators[d].append(p)\n",
    "for key,value in generators.iteritems():\n",
    "    print key, [factor(p) for p in value]"
   ]
  },
  {
   "cell_type": "code",
   "execution_count": 84,
   "metadata": {
    "collapsed": true,
    "deletable": true,
    "editable": true
   },
   "outputs": [],
   "source": [
    "assert r==2\n",
    "operators = { Degrees([-d,1]): [functools.partial(P.polarization, i1=0,i2=1,d=d)]\n",
    "             for d in range(1,n) }"
   ]
  },
  {
   "cell_type": "code",
   "execution_count": 85,
   "metadata": {
    "collapsed": false,
    "deletable": true,
    "editable": true
   },
   "outputs": [],
   "source": [
    "F = Subspace(generators, operators=operators, add_degrees=add_degree)\n",
    "F._hilbert_parent = hilbert_parent"
   ]
  },
  {
   "cell_type": "code",
   "execution_count": 86,
   "metadata": {
    "collapsed": false,
    "deletable": true,
    "editable": true,
    "scrolled": true
   },
   "outputs": [
    {
     "name": "stdout",
     "output_type": "stream",
     "text": [
      "CPU times: user 2.71 s, sys: 16 ms, total: 2.73 s\n",
      "Wall time: 2.71 s\n"
     ]
    }
   ],
   "source": [
    "%time dims = F.dimensions()"
   ]
  },
  {
   "cell_type": "code",
   "execution_count": 87,
   "metadata": {
    "collapsed": false,
    "deletable": true,
    "editable": true,
    "scrolled": true
   },
   "outputs": [
    {
     "data": {
      "text/plain": [
       "(q^10+q^9*t+q^8*t^2+q^7*t^3+q^6*t^4+q^5*t^5+q^4*t^6+q^3*t^7+q^2*t^8+q*t^9+t^10+q^8*t+q^7*t^2+q^6*t^3+q^5*t^4+q^4*t^5+q^3*t^6+q^2*t^7+q*t^8+q^7*t+2*q^6*t^2+2*q^5*t^3+2*q^4*t^4+2*q^3*t^5+2*q^2*t^6+q*t^7+q^6*t+q^5*t^2+2*q^4*t^3+2*q^3*t^4+q^2*t^5+q*t^6+q^4*t^2+q^3*t^3+q^2*t^4)*s[1, 1, 1, 1, 1] + (q^9+q^8*t+q^7*t^2+q^6*t^3+q^5*t^4+q^4*t^5+q^3*t^6+q^2*t^7+q*t^8+t^9+q^8+2*q^7*t+2*q^6*t^2+2*q^5*t^3+2*q^4*t^4+2*q^3*t^5+2*q^2*t^6+2*q*t^7+t^8+q^7+3*q^6*t+4*q^5*t^2+4*q^4*t^3+4*q^3*t^4+4*q^2*t^5+3*q*t^6+t^7+q^6+3*q^5*t+4*q^4*t^2+5*q^3*t^3+4*q^2*t^4+3*q*t^5+t^6+2*q^4*t+3*q^3*t^2+3*q^2*t^3+2*q*t^4+q^3*t+q^2*t^2+q*t^3)*s[2, 1, 1, 1] + (q^8+q^7*t+q^6*t^2+q^5*t^3+q^4*t^4+q^3*t^5+q^2*t^6+q*t^7+t^8+q^7+2*q^6*t+2*q^5*t^2+2*q^4*t^3+2*q^3*t^4+2*q^2*t^5+2*q*t^6+t^7+q^6+3*q^5*t+4*q^4*t^2+4*q^3*t^3+4*q^2*t^4+3*q*t^5+t^6+q^5+3*q^4*t+4*q^3*t^2+4*q^2*t^3+3*q*t^4+t^5+q^4+2*q^3*t+3*q^2*t^2+2*q*t^3+t^4+q^2*t+q*t^2)*s[2, 2, 1] + (q^7+q^6*t+q^5*t^2+q^4*t^3+q^3*t^4+q^2*t^5+q*t^6+t^7+q^6+2*q^5*t+2*q^4*t^2+2*q^3*t^3+2*q^2*t^4+2*q*t^5+t^6+2*q^5+3*q^4*t+4*q^3*t^2+4*q^2*t^3+3*q*t^4+2*t^5+q^4+3*q^3*t+3*q^2*t^2+3*q*t^3+t^4+q^3+2*q^2*t+2*q*t^2+t^3+q*t)*s[3, 1, 1] + (q^6+q^5*t+q^4*t^2+q^3*t^3+q^2*t^4+q*t^5+t^6+q^5+2*q^4*t+2*q^3*t^2+2*q^2*t^3+2*q*t^4+t^5+q^4+2*q^3*t+3*q^2*t^2+2*q*t^3+t^4+q^3+2*q^2*t+2*q*t^2+t^3+q^2+q*t+t^2)*s[3, 2] + (q^4+q^3*t+q^2*t^2+q*t^3+t^4+q^3+q^2*t+q*t^2+t^3+q^2+q*t+t^2+q+t)*s[4, 1] + s[5]"
      ]
     },
     "execution_count": 87,
     "metadata": {},
     "output_type": "execute_result"
    }
   ],
   "source": [
    "F.hilbert_polynomial()"
   ]
  },
  {
   "cell_type": "code",
   "execution_count": 88,
   "metadata": {
    "collapsed": false,
    "deletable": true,
    "editable": true
   },
   "outputs": [
    {
     "data": {
      "text/plain": [
       "0"
      ]
     },
     "execution_count": 88,
     "metadata": {},
     "output_type": "execute_result"
    }
   ],
   "source": [
    "_ - s(e[n].nabla())"
   ]
  },
  {
   "cell_type": "markdown",
   "metadata": {
    "deletable": true,
    "editable": true
   },
   "source": [
    "# Debugging stuff"
   ]
  },
  {
   "cell_type": "code",
   "execution_count": 22,
   "metadata": {
    "collapsed": false,
    "deletable": true,
    "editable": true
   },
   "outputs": [
    {
     "data": {
      "text/plain": [
       "q^8 + q^7*t + q^6*t^2 + q^5*t^3 + q^4*t^4 + q^3*t^5 + q^2*t^6 + q*t^7 + t^8 + q^7 + 2*q^6*t + 2*q^5*t^2 + 2*q^4*t^3 + 2*q^3*t^4 + 2*q^2*t^5 + 2*q*t^6 + 2*t^7 + q^6 + 3*q^5*t + 4*q^4*t^2 + 4*q^3*t^3 + 4*q^2*t^4 + 4*q*t^5 + t^6 + q^5 + 3*q^4*t + 5*q^3*t^2 + 5*q^2*t^3 + 3*q*t^4 + t^5 + q^4 + 2*q^3*t + 3*q^2*t^2 + 2*q*t^3 + t^4 + q^2*t + q*t^2"
      ]
     },
     "execution_count": 22,
     "metadata": {},
     "output_type": "execute_result"
    }
   ],
   "source": [
    "F.hilbert_polynomial()[Partition([2,2,1])]"
   ]
  },
  {
   "cell_type": "code",
   "execution_count": 51,
   "metadata": {
    "collapsed": false,
    "deletable": true,
    "editable": true
   },
   "outputs": [],
   "source": [
    "d = (Degrees([0,7]), Partition([2,2,1]))"
   ]
  },
  {
   "cell_type": "code",
   "execution_count": 52,
   "metadata": {
    "collapsed": false,
    "deletable": true,
    "editable": true
   },
   "outputs": [
    {
     "data": {
      "text/plain": [
       "2"
      ]
     },
     "execution_count": 52,
     "metadata": {},
     "output_type": "execute_result"
    }
   ],
   "source": [
    "F._bases[d].cardinality()"
   ]
  },
  {
   "cell_type": "code",
   "execution_count": 55,
   "metadata": {
    "collapsed": false,
    "deletable": true,
    "editable": true
   },
   "outputs": [],
   "source": [
    "p1,p2 = F._bases[d]._basis"
   ]
  },
  {
   "cell_type": "code",
   "execution_count": 62,
   "metadata": {
    "collapsed": false,
    "deletable": true,
    "editable": true
   },
   "outputs": [
    {
     "data": {
      "text/plain": [
       "x10^3*x11^2*x12*x13 + x10^2*x11^3*x12*x13 - x10*x11^3*x12^2*x13 - x10*x11^2*x12^3*x13 - x10^3*x11*x12*x13^2 + x10*x11*x12^3*x13^2 - x10^2*x11*x12*x13^3 + x10*x11*x12^2*x13^3 - x10^3*x11^2*x13*x14 - x10^2*x11^3*x13*x14 + x11^3*x12^2*x13*x14 + x11^2*x12^3*x13*x14 + x10^3*x11*x13^2*x14 - x11*x12^3*x13^2*x14 + x10^2*x11*x13^3*x14 - x11*x12^2*x13^3*x14 + x10*x11^3*x13*x14^2 - x11^3*x12*x13*x14^2 - x10*x11*x13^3*x14^2 + x11*x12*x13^3*x14^2 + x10*x11^2*x13*x14^3 - x11^2*x12*x13*x14^3 - x10*x11*x13^2*x14^3 + x11*x12*x13^2*x14^3"
      ]
     },
     "execution_count": 62,
     "metadata": {},
     "output_type": "execute_result"
    }
   ],
   "source": [
    "p1/=1440;p1"
   ]
  },
  {
   "cell_type": "code",
   "execution_count": 63,
   "metadata": {
    "collapsed": false,
    "deletable": true,
    "editable": true
   },
   "outputs": [
    {
     "data": {
      "text/plain": [
       "x10^3*x11^2*x12*x13 - x10*x11^2*x12^3*x13 - x10^3*x11*x12*x13^2 + x10*x11*x12^3*x13^2 + x10^3*x11*x12^2*x14 - x10^2*x11*x12^3*x14 - x10^3*x11^2*x13*x14 - x10^3*x12^2*x13*x14 + x10^2*x12^3*x13*x14 + x11^2*x12^3*x13*x14 + x10^3*x11*x13^2*x14 - x11*x12^3*x13^2*x14 - x10^3*x11*x12*x14^2 + x10*x11*x12^3*x14^2 + x10^3*x12*x13*x14^2 - x10*x12^3*x13*x14^2 + x10^2*x11*x12*x14^3 - x10*x11*x12^2*x14^3 + x10*x11^2*x13*x14^3 - x10^2*x12*x13*x14^3 - x11^2*x12*x13*x14^3 + x10*x12^2*x13*x14^3 - x10*x11*x13^2*x14^3 + x11*x12*x13^2*x14^3"
      ]
     },
     "execution_count": 63,
     "metadata": {},
     "output_type": "execute_result"
    }
   ],
   "source": [
    "p2 /= 5040; p2"
   ]
  },
  {
   "cell_type": "code",
   "execution_count": 35,
   "metadata": {
    "collapsed": false,
    "deletable": true,
    "editable": true
   },
   "outputs": [
    {
     "data": {
      "text/plain": [
       "q^7"
      ]
     },
     "execution_count": 35,
     "metadata": {},
     "output_type": "execute_result"
    }
   ],
   "source": [
    "R({d[0]:1})"
   ]
  },
  {
   "cell_type": "code",
   "execution_count": 32,
   "metadata": {
    "collapsed": false,
    "deletable": true,
    "editable": true
   },
   "outputs": [
    {
     "data": {
      "text/plain": [
       "1"
      ]
     },
     "execution_count": 32,
     "metadata": {},
     "output_type": "execute_result"
    }
   ],
   "source": [
    "F.dimensions()[d]"
   ]
  },
  {
   "cell_type": "code",
   "execution_count": 17,
   "metadata": {
    "collapsed": false,
    "deletable": true,
    "editable": true
   },
   "outputs": [
    {
     "data": {
      "text/plain": [
       "0"
      ]
     },
     "execution_count": 17,
     "metadata": {},
     "output_type": "execute_result"
    }
   ],
   "source": [
    "len(F._todo)"
   ]
  },
  {
   "cell_type": "code",
   "execution_count": 105,
   "metadata": {
    "collapsed": true,
    "deletable": true,
    "editable": true
   },
   "outputs": [],
   "source": [
    "F.dimensions??"
   ]
  },
  {
   "cell_type": "code",
   "execution_count": 11,
   "metadata": {
    "collapsed": false,
    "deletable": true,
    "editable": true
   },
   "outputs": [
    {
     "data": {
      "text/plain": [
       "48"
      ]
     },
     "execution_count": 11,
     "metadata": {},
     "output_type": "execute_result"
    }
   ],
   "source": [
    "sum(basis.cardinality() for d, basis in F._bases.iteritems())"
   ]
  },
  {
   "cell_type": "code",
   "execution_count": 13,
   "metadata": {
    "collapsed": false,
    "deletable": true,
    "editable": true
   },
   "outputs": [
    {
     "data": {
      "text/plain": [
       "83"
      ]
     },
     "execution_count": 13,
     "metadata": {},
     "output_type": "execute_result"
    }
   ],
   "source": [
    "Subspace._extensions"
   ]
  },
  {
   "cell_type": "code",
   "execution_count": 12,
   "metadata": {
    "collapsed": false,
    "deletable": true,
    "editable": true
   },
   "outputs": [
    {
     "data": {
      "text/plain": [
       "302"
      ]
     },
     "execution_count": 12,
     "metadata": {},
     "output_type": "execute_result"
    }
   ],
   "source": [
    "sum(s(e[n].nabla()).coefficients())(q=1,t=1)"
   ]
  },
  {
   "cell_type": "code",
   "execution_count": 15,
   "metadata": {
    "collapsed": false,
    "deletable": true,
    "editable": true
   },
   "outputs": [
    {
     "data": {
      "text/plain": [
       "{((4, 0), [4, 1]): [ 1 -1],\n",
       " ((5, 0), [3, 2]): [ 1  1  1 -1 -1 -1 -1  1],\n",
       " ((3, 0), [3, 2]): [ 1 -1  1 -1],\n",
       " ((2, 5), [2, 1, 1, 1]): 2 x 288 sparse matrix over Rational Field,\n",
       " ((4, 0), [3, 1, 1]): [ 1 -1 -1  1  1  1 -1 -1 -1  1 -1  1],\n",
       " ((4, 3), [2, 1, 1, 1]): 2 x 312 sparse matrix over Rational Field,\n",
       " ((6, 0), [3, 1, 1]): [ 1 -1 -1  1  1  1  1 -1 -1  1 -1 -1],\n",
       " ((0, 7), [1, 1, 1, 1, 1]): [],\n",
       " ((4, 2), [2, 1, 1, 1]): 1 x 72 sparse matrix over Rational Field,\n",
       " ((1, 0), [4, 1]): [ 1 -1],\n",
       " ((0, 0), [5]): [1],\n",
       " ((0, 5), [1, 1, 1, 1, 1]): [],\n",
       " ((3, 2),\n",
       "  [2, 1, 1, 1]): [ 1  1 -1 -1 -1 -1 -1  1 -1 -1 -1  1  1  1 -1  1  1  1  1 -1  1  1 -1 -1],\n",
       " ((0, 6), [2, 1, 1, 1]): [],\n",
       " ((0, 9),\n",
       "  [2, 1, 1, 1]): [ 1  1  1 -1 -1 -1  1  1  1 -1 -1  1  1 -1 -1  1  1 -1  1 -1 -1  1 -1 -1],\n",
       " ((4, 0), [2, 2, 1]): [ 1 -1  1  1  1 -1  1 -1 -1  1 -1 -1],\n",
       " ((8, 0),\n",
       "  [2, 1, 1, 1]): [ 1  1  1  1  1  1  1 -1  1  1 -1 -1 -1 -1  1 -1 -1 -1 -1 -1  1  1 -1 -1],\n",
       " ((1, 4), [1, 1, 1, 1, 1]): [],\n",
       " ((6, 0),\n",
       "  [2, 1, 1, 1]): [ 1 -1  1 -1  1  1 -1 -1 -1 -1  1  1  1 -1  1 -1 -1  1  1 -1 -1  1 -1  1],\n",
       " ((0, 5), [2, 1, 1, 1]): [],\n",
       " ((1, 3), [2, 1, 1, 1]): [],\n",
       " ((2, 0), [4, 1]): [ 1 -1  1  1 -1 -1],\n",
       " ((5, 0), [3, 1, 1]): [ 1 -1  1 -1 -1  1 -1  1  1  1 -1 -1  0  0  0  0  0  0]\n",
       " [ 0  0  0  0  0  0  0  0  0  0  0  0  1 -1 -1  1 -1  1],\n",
       " ((0, 4), [1, 1, 1, 1, 1]): [],\n",
       " ((0, 8), [1, 1, 1, 1, 1]): [],\n",
       " ((3, 4), [1, 1, 1, 1, 1]): 1 x 360 sparse matrix over Rational Field,\n",
       " ((2, 5), [1, 1, 1, 1, 1]): 1 x 240 sparse matrix over Rational Field,\n",
       " ((3, 5), [2, 1, 1, 1]): 1 x 456 sparse matrix over Rational Field,\n",
       " ((0, 7),\n",
       "  [2, 1, 1, 1]): [ 1 -1 -1  1  1  1  1  1 -1 -1  1 -1  1 -1 -1 -1 -1  1 -1  1 -1 -1  1  1],\n",
       " ((7, 0),\n",
       "  [2, 1, 1, 1]): [ 1  1 -1  1 -1  1  1 -1 -1 -1 -1 -1  1  1  1 -1 -1 -1  1  1  1  1 -1 -1],\n",
       " ((6, 2), [2, 1, 1, 1]): 1 x 216 sparse matrix over Rational Field,\n",
       " ((5, 0), [2, 2, 1]): [ 1 -1 -1 -1  1  1 -1  1 -1  1 -1  1],\n",
       " ((6, 0), [2, 2, 1]): [ 1 -1 -1 -1  1 -1  1  1 -1  1  1 -1],\n",
       " ((3, 0), [4, 1]): [ 1  1 -1 -1  1 -1],\n",
       " ((1, 7), [2, 1, 1, 1]): 1 x 144 sparse matrix over Rational Field,\n",
       " ((4, 3), [1, 1, 1, 1, 1]): 1 x 360 sparse matrix over Rational Field,\n",
       " ((5, 2), [2, 1, 1, 1]): 2 x 168 sparse matrix over Rational Field,\n",
       " ((4, 4), [2, 1, 1, 1]): 1 x 504 sparse matrix over Rational Field,\n",
       " ((3, 3), [2, 1, 1, 1]): 2 x 120 sparse matrix over Rational Field,\n",
       " ((4, 2), [1, 1, 1, 1, 1]): 1 x 120 sparse matrix over Rational Field,\n",
       " ((3, 0), [3, 1, 1]): [ 1  1 -1  1 -1 -1],\n",
       " ((5, 3), [1, 1, 1, 1, 1]): 1 x 960 sparse matrix over Rational Field,\n",
       " ((7, 2), [2, 1, 1, 1]): 1 x 216 sparse matrix over Rational Field,\n",
       " ((2, 4), [1, 1, 1, 1, 1]): 1 x 120 sparse matrix over Rational Field,\n",
       " ((6, 0),\n",
       "  [3, 2]): [ 1 -1 -1  1  2  2 -1  1  1  1 -1  1 -1 -2 -1  1 -2  1 -1 -1],\n",
       " ((1, 8), [2, 1, 1, 1]): 1 x 96 sparse matrix over Rational Field,\n",
       " ((8, 1), [2, 1, 1, 1]): 1 x 96 sparse matrix over Rational Field,\n",
       " ((8, 0),\n",
       "  [2, 2, 1]): [ 1  1 -1 -1 -1 -1  1  1  1  1  1  1  1 -1 -1 -1 -1 -1  1  1 -1 -1 -1  1],\n",
       " ((3, 6), [2, 1, 1, 1]): 1 x 360 sparse matrix over Rational Field,\n",
       " ((7, 0), [3, 1, 1]): [ 1  1 -1  1 -1 -1],\n",
       " ((4, 4), [1, 1, 1, 1, 1]): 1 x 1080 sparse matrix over Rational Field,\n",
       " ((6, 1),\n",
       "  [2, 1, 1, 1]): [ 1 -1  1 -1 -1 -1 -1 -1 -1  1 -1 -1 -1 -1 -1  1 -1 -1  1  1 -1 -1  1 -1 -1 -1 -1  1  1 -1  1  1  1  1  1  1  1 -1  1  1  1  1  1  1 -1  1 -1  1],\n",
       " ((5, 1), [2, 1, 1, 1]): [],\n",
       " ((2, 0), [3, 2]): [ 1  1 -1 -1],\n",
       " ((0, 4), [2, 1, 1, 1]): [],\n",
       " ((2, 4), [2, 1, 1, 1]): 2 x 120 sparse matrix over Rational Field,\n",
       " ((5, 3), [2, 1, 1, 1]): 1 x 384 sparse matrix over Rational Field,\n",
       " ((1, 5), [2, 1, 1, 1]): 2 x 72 sparse matrix over Rational Field,\n",
       " ((8, 1), [1, 1, 1, 1, 1]): 1 x 360 sparse matrix over Rational Field,\n",
       " ((6, 2), [1, 1, 1, 1, 1]): 1 x 480 sparse matrix over Rational Field,\n",
       " ((3, 3), [1, 1, 1, 1, 1]): 1 x 120 sparse matrix over Rational Field,\n",
       " ((7, 0),\n",
       "  [2, 2, 1]): [ 1  1  1  1  1  1 -1 -1  1 -1 -1 -1 -1  1 -1  1  1 -1 -1  1 -1 -1 -1  1],\n",
       " ((10, 0), [1, 1, 1, 1, 1]): 1 x 120 sparse matrix over Rational Field,\n",
       " ((3, 5), [1, 1, 1, 1, 1]): 1 x 840 sparse matrix over Rational Field,\n",
       " ((4, 0), [3, 2]): [ 1  1 -1 -1  1  1 -1 -1  1  1  1 -1 -1 -1  1 -1],\n",
       " ((2, 6), [2, 1, 1, 1]): 1 x 312 sparse matrix over Rational Field,\n",
       " ((1, 5), [1, 1, 1, 1, 1]): [],\n",
       " ((0, 6), [1, 1, 1, 1, 1]): [],\n",
       " ((4, 5), [2, 1, 1, 1]): 1 x 456 sparse matrix over Rational Field,\n",
       " ((1, 7), [1, 1, 1, 1, 1]): 1 x 240 sparse matrix over Rational Field,\n",
       " ((6, 3), [2, 1, 1, 1]): 1 x 360 sparse matrix over Rational Field,\n",
       " ((1, 4),\n",
       "  [2, 1, 1, 1]): [ 1 -1  1  1 -1 -1 -1  1  1  1 -1 -1 -1  1  1  1 -1 -1 -1  1  1  1 -1 -1],\n",
       " ((0, 8),\n",
       "  [2, 1, 1, 1]): [ 1 -1  1 -1 -1  1  1 -1 -1 -1  1 -1  1  1 -1 -1 -1 -1  1 -1  1  1  1  1],\n",
       " ((3, 4), [2, 1, 1, 1]): 2 x 360 sparse matrix over Rational Field,\n",
       " ((7, 1), [2, 1, 1, 1]): 1 x 72 sparse matrix over Rational Field,\n",
       " ((2, 7), [2, 1, 1, 1]): 1 x 216 sparse matrix over Rational Field,\n",
       " ((2, 3), [1, 1, 1, 1, 1]): [],\n",
       " ((2, 3),\n",
       "  [2, 1, 1, 1]): [ 1 -1 -1  1  1 -1 -1 -1  1  1  1  1 -1  1  1 -1 -1 -1 -1  1 -1 -1  1  1],\n",
       " ((2, 6), [1, 1, 1, 1, 1]): 1 x 720 sparse matrix over Rational Field,\n",
       " ((9, 0),\n",
       "  [2, 1, 1, 1]): [ 1  1 -1  1 -1  1  1  1 -1 -1 -1 -1 -1  1  1  1 -1 -1  1  1  1 -1 -1 -1],\n",
       " ((2, 2), [2, 1, 1, 1]): [],\n",
       " ((1, 6), [1, 1, 1, 1, 1]): 1 x 120 sparse matrix over Rational Field,\n",
       " ((1, 6), [2, 1, 1, 1]): 2 x 144 sparse matrix over Rational Field,\n",
       " ((0, 3), [2, 1, 1, 1]): [],\n",
       " ((5, 4), [2, 1, 1, 1]): 1 x 456 sparse matrix over Rational Field}"
      ]
     },
     "execution_count": 15,
     "metadata": {},
     "output_type": "execute_result"
    }
   ],
   "source": [
    "{d: basis._matrix for d, basis in F._bases.iteritems()}"
   ]
  },
  {
   "cell_type": "code",
   "execution_count": null,
   "metadata": {
    "collapsed": true,
    "deletable": true,
    "editable": true
   },
   "outputs": [],
   "source": []
  }
 ],
 "metadata": {
  "kernelspec": {
   "display_name": "SageMath 8.0.beta6",
   "language": "",
   "name": "sagemath"
  },
  "language_info": {
   "codemirror_mode": {
    "name": "ipython",
    "version": 2
   },
   "file_extension": ".py",
   "mimetype": "text/x-python",
   "name": "python",
   "nbconvert_exporter": "python",
   "pygments_lexer": "ipython2",
   "version": "2.7.13"
  }
 },
 "nbformat": 4,
 "nbformat_minor": 2
}
