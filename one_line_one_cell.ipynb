{
 "cells": [
  {
   "cell_type": "markdown",
   "metadata": {},
   "source": [
    "# Calculs pour François (19 aout)"
   ]
  },
  {
   "cell_type": "markdown",
   "metadata": {},
   "source": [
    "Pour $n$ donné, on calcule les Frobenius des modules (fermés par dérivations et polarisation, mais sans quotients) associés aux divers diagrammes obtenus à partir du diagramme ${(0,0),(1,0),\\ldots,(n-2,0)} $ en y ajoutant une seule case de la forme $(i,1)$, pour $i$ variant entre $0$ et $n-2$.\n",
    "On le fait pour $n$ égal $5$ et $6$ sur $n-2$ jeux de variables. "
   ]
  },
  {
   "cell_type": "code",
   "execution_count": 4,
   "metadata": {},
   "outputs": [],
   "source": [
    "%runfile character.py"
   ]
  },
  {
   "cell_type": "code",
   "execution_count": 7,
   "metadata": {},
   "outputs": [],
   "source": [
    "def frob_add_one_cell(i,n) :\n",
    "    diagram = Diagram([(k,0) for k in range(0,n-1)]+[(i,1)])\n",
    "    diagram.draw()\n",
    "    return E_mu(diagram, parallel=True, r=n-2)"
   ]
  },
  {
   "cell_type": "code",
   "execution_count": null,
   "metadata": {},
   "outputs": [
    {
     "name": "stdout",
     "output_type": "stream",
     "text": [
      " _      \n",
      "|_|_  _ _\n",
      "|_|_|_|_|\n"
     ]
    },
    {
     "data": {
      "text/html": [
       "<html><script type=\"math/tex; mode=display\">\\newcommand{\\Bold}[1]{\\mathbf{#1}}s_{} \\otimes s_{4,1} + s_{1} \\otimes s_{3,1,1} + s_{1} \\otimes s_{3,2} + s_{1,1} \\otimes s_{2,1,1,1} + s_{1,1} \\otimes s_{2,2,1} + s_{1,1,1} \\otimes s_{1,1,1,1,1} + s_{2} \\otimes s_{2,2,1} + s_{2} \\otimes s_{3,1,1} + s_{2} \\otimes s_{3,2} + s_{2,1} \\otimes s_{2,1,1,1} + s_{2,1} \\otimes s_{2,2,1} + s_{3} \\otimes s_{2,1,1,1} + s_{3} \\otimes s_{2,2,1} + s_{3} \\otimes s_{3,1,1} + s_{3,1} \\otimes s_{1,1,1,1,1} + s_{3,1} \\otimes s_{2,1,1,1} + s_{4} \\otimes s_{2,1,1,1} + s_{4} \\otimes s_{2,2,1} + s_{4,1} \\otimes s_{1,1,1,1,1} + s_{5} \\otimes s_{2,1,1,1} + s_{6} \\otimes s_{1,1,1,1,1}</script></html>"
      ],
      "text/plain": [
       "s[] # s[4, 1] + s[1] # s[3, 1, 1] + s[1] # s[3, 2] + s[1, 1] # s[2, 1, 1, 1] + s[1, 1] # s[2, 2, 1] + s[1, 1, 1] # s[1, 1, 1, 1, 1] + s[2] # s[2, 2, 1] + s[2] # s[3, 1, 1] + s[2] # s[3, 2] + s[2, 1] # s[2, 1, 1, 1] + s[2, 1] # s[2, 2, 1] + s[3] # s[2, 1, 1, 1] + s[3] # s[2, 2, 1] + s[3] # s[3, 1, 1] + s[3, 1] # s[1, 1, 1, 1, 1] + s[3, 1] # s[2, 1, 1, 1] + s[4] # s[2, 1, 1, 1] + s[4] # s[2, 2, 1] + s[4, 1] # s[1, 1, 1, 1, 1] + s[5] # s[2, 1, 1, 1] + s[6] # s[1, 1, 1, 1, 1]"
      ]
     },
     "metadata": {},
     "output_type": "display_data"
    },
    {
     "name": "stdout",
     "output_type": "stream",
     "text": [
      "   _    \n",
      " _|_|_  _\n",
      "|_|_|_|_|\n"
     ]
    },
    {
     "data": {
      "text/html": [
       "<html><script type=\"math/tex; mode=display\">\\newcommand{\\Bold}[1]{\\mathbf{#1}}s_{} \\otimes s_{4,1} + s_{1} \\otimes s_{3,1,1} + s_{1} \\otimes s_{3,2} + s_{1} \\otimes s_{4,1} + s_{1,1} \\otimes s_{2,1,1,1} + s_{1,1} \\otimes s_{2,2,1} + s_{1,1} \\otimes s_{3,1,1} + s_{1,1} \\otimes s_{3,2} + s_{1,1,1} \\otimes s_{1,1,1,1,1} + s_{1,1,1} \\otimes s_{2,1,1,1} + s_{2} \\otimes s_{2,2,1} + 2s_{2} \\otimes s_{3,1,1} + 2s_{2} \\otimes s_{3,2} + 2s_{2,1} \\otimes s_{2,1,1,1} + 3s_{2,1} \\otimes s_{2,2,1} + s_{2,1} \\otimes s_{3,1,1} + s_{2,1,1} \\otimes s_{1,1,1,1,1} + s_{2,2} \\otimes s_{2,1,1,1} + s_{3} \\otimes s_{2,1,1,1} + 2s_{3} \\otimes s_{2,2,1} + 2s_{3} \\otimes s_{3,1,1} + s_{3} \\otimes s_{3,2} + s_{3,1} \\otimes s_{1,1,1,1,1} + 3s_{3,1} \\otimes s_{2,1,1,1} + s_{3,1} \\otimes s_{2,2,1} + s_{3,2} \\otimes s_{1,1,1,1,1} + 2s_{4} \\otimes s_{2,1,1,1} + 2s_{4} \\otimes s_{2,2,1} + s_{4} \\otimes s_{3,1,1} + 2s_{4,1} \\otimes s_{1,1,1,1,1} + s_{4,1} \\otimes s_{2,1,1,1} + 2s_{5} \\otimes s_{2,1,1,1} + s_{5} \\otimes s_{2,2,1} + s_{5,1} \\otimes s_{1,1,1,1,1} + s_{6} \\otimes s_{1,1,1,1,1} + s_{6} \\otimes s_{2,1,1,1} + s_{7} \\otimes s_{1,1,1,1,1}</script></html>"
      ],
      "text/plain": [
       "s[] # s[4, 1] + s[1] # s[3, 1, 1] + s[1] # s[3, 2] + s[1] # s[4, 1] + s[1, 1] # s[2, 1, 1, 1] + s[1, 1] # s[2, 2, 1] + s[1, 1] # s[3, 1, 1] + s[1, 1] # s[3, 2] + s[1, 1, 1] # s[1, 1, 1, 1, 1] + s[1, 1, 1] # s[2, 1, 1, 1] + s[2] # s[2, 2, 1] + 2*s[2] # s[3, 1, 1] + 2*s[2] # s[3, 2] + 2*s[2, 1] # s[2, 1, 1, 1] + 3*s[2, 1] # s[2, 2, 1] + s[2, 1] # s[3, 1, 1] + s[2, 1, 1] # s[1, 1, 1, 1, 1] + s[2, 2] # s[2, 1, 1, 1] + s[3] # s[2, 1, 1, 1] + 2*s[3] # s[2, 2, 1] + 2*s[3] # s[3, 1, 1] + s[3] # s[3, 2] + s[3, 1] # s[1, 1, 1, 1, 1] + 3*s[3, 1] # s[2, 1, 1, 1] + s[3, 1] # s[2, 2, 1] + s[3, 2] # s[1, 1, 1, 1, 1] + 2*s[4] # s[2, 1, 1, 1] + 2*s[4] # s[2, 2, 1] + s[4] # s[3, 1, 1] + 2*s[4, 1] # s[1, 1, 1, 1, 1] + s[4, 1] # s[2, 1, 1, 1] + 2*s[5] # s[2, 1, 1, 1] + s[5] # s[2, 2, 1] + s[5, 1] # s[1, 1, 1, 1, 1] + s[6] # s[1, 1, 1, 1, 1] + s[6] # s[2, 1, 1, 1] + s[7] # s[1, 1, 1, 1, 1]"
      ]
     },
     "metadata": {},
     "output_type": "display_data"
    },
    {
     "name": "stdout",
     "output_type": "stream",
     "text": [
      "     _  \n",
      " _ _|_|_ \n",
      "|_|_|_|_|\n"
     ]
    },
    {
     "data": {
      "text/html": [
       "<html><script type=\"math/tex; mode=display\">\\newcommand{\\Bold}[1]{\\mathbf{#1}}s_{} \\otimes s_{4,1} + s_{1} \\otimes s_{3,1,1} + s_{1} \\otimes s_{3,2} + s_{1} \\otimes s_{4,1} + s_{1,1} \\otimes s_{2,1,1,1} + s_{1,1} \\otimes s_{2,2,1} + s_{1,1} \\otimes s_{3,1,1} + s_{1,1} \\otimes s_{3,2} + s_{1,1,1} \\otimes s_{1,1,1,1,1} + s_{1,1,1} \\otimes s_{2,1,1,1} + s_{1,1,1} \\otimes s_{2,2,1} + s_{2} \\otimes s_{2,2,1} + 2s_{2} \\otimes s_{3,1,1} + 2s_{2} \\otimes s_{3,2} + s_{2} \\otimes s_{4,1} + 2s_{2,1} \\otimes s_{2,1,1,1} + 3s_{2,1} \\otimes s_{2,2,1} + 2s_{2,1} \\otimes s_{3,1,1} + s_{2,1} \\otimes s_{3,2} + s_{2,1,1} \\otimes s_{1,1,1,1,1} + s_{2,1,1} \\otimes s_{2,1,1,1} + s_{2,2} \\otimes s_{2,1,1,1} + s_{2,2} \\otimes s_{2,2,1} + s_{3} \\otimes s_{2,1,1,1} + 2s_{3} \\otimes s_{2,2,1} + 3s_{3} \\otimes s_{3,1,1} + 2s_{3} \\otimes s_{3,2} + s_{3,1} \\otimes s_{1,1,1,1,1} + 4s_{3,1} \\otimes s_{2,1,1,1} + 3s_{3,1} \\otimes s_{2,2,1} + s_{3,1} \\otimes s_{3,1,1} + s_{3,1,1} \\otimes s_{1,1,1,1,1} + s_{3,2} \\otimes s_{1,1,1,1,1} + s_{3,2} \\otimes s_{2,1,1,1} + 2s_{4} \\otimes s_{2,1,1,1} + 3s_{4} \\otimes s_{2,2,1} + 2s_{4} \\otimes s_{3,1,1} + s_{4} \\otimes s_{3,2} + 2s_{4,1} \\otimes s_{1,1,1,1,1} + 3s_{4,1} \\otimes s_{2,1,1,1} + s_{4,1} \\otimes s_{2,2,1} + s_{4,2} \\otimes s_{1,1,1,1,1} + 3s_{5} \\otimes s_{2,1,1,1} + 2s_{5} \\otimes s_{2,2,1} + s_{5} \\otimes s_{3,1,1} + 2s_{5,1} \\otimes s_{1,1,1,1,1} + s_{5,1} \\otimes s_{2,1,1,1} + s_{6} \\otimes s_{1,1,1,1,1} + 2s_{6} \\otimes s_{2,1,1,1} + s_{6} \\otimes s_{2,2,1} + s_{6,1} \\otimes s_{1,1,1,1,1} + s_{7} \\otimes s_{1,1,1,1,1} + s_{7} \\otimes s_{2,1,1,1} + s_{8} \\otimes s_{1,1,1,1,1}</script></html>"
      ],
      "text/plain": [
       "s[] # s[4, 1] + s[1] # s[3, 1, 1] + s[1] # s[3, 2] + s[1] # s[4, 1] + s[1, 1] # s[2, 1, 1, 1] + s[1, 1] # s[2, 2, 1] + s[1, 1] # s[3, 1, 1] + s[1, 1] # s[3, 2] + s[1, 1, 1] # s[1, 1, 1, 1, 1] + s[1, 1, 1] # s[2, 1, 1, 1] + s[1, 1, 1] # s[2, 2, 1] + s[2] # s[2, 2, 1] + 2*s[2] # s[3, 1, 1] + 2*s[2] # s[3, 2] + s[2] # s[4, 1] + 2*s[2, 1] # s[2, 1, 1, 1] + 3*s[2, 1] # s[2, 2, 1] + 2*s[2, 1] # s[3, 1, 1] + s[2, 1] # s[3, 2] + s[2, 1, 1] # s[1, 1, 1, 1, 1] + s[2, 1, 1] # s[2, 1, 1, 1] + s[2, 2] # s[2, 1, 1, 1] + s[2, 2] # s[2, 2, 1] + s[3] # s[2, 1, 1, 1] + 2*s[3] # s[2, 2, 1] + 3*s[3] # s[3, 1, 1] + 2*s[3] # s[3, 2] + s[3, 1] # s[1, 1, 1, 1, 1] + 4*s[3, 1] # s[2, 1, 1, 1] + 3*s[3, 1] # s[2, 2, 1] + s[3, 1] # s[3, 1, 1] + s[3, 1, 1] # s[1, 1, 1, 1, 1] + s[3, 2] # s[1, 1, 1, 1, 1] + s[3, 2] # s[2, 1, 1, 1] + 2*s[4] # s[2, 1, 1, 1] + 3*s[4] # s[2, 2, 1] + 2*s[4] # s[3, 1, 1] + s[4] # s[3, 2] + 2*s[4, 1] # s[1, 1, 1, 1, 1] + 3*s[4, 1] # s[2, 1, 1, 1] + s[4, 1] # s[2, 2, 1] + s[4, 2] # s[1, 1, 1, 1, 1] + 3*s[5] # s[2, 1, 1, 1] + 2*s[5] # s[2, 2, 1] + s[5] # s[3, 1, 1] + 2*s[5, 1] # s[1, 1, 1, 1, 1] + s[5, 1] # s[2, 1, 1, 1] + s[6] # s[1, 1, 1, 1, 1] + 2*s[6] # s[2, 1, 1, 1] + s[6] # s[2, 2, 1] + s[6, 1] # s[1, 1, 1, 1, 1] + s[7] # s[1, 1, 1, 1, 1] + s[7] # s[2, 1, 1, 1] + s[8] # s[1, 1, 1, 1, 1]"
      ]
     },
     "metadata": {},
     "output_type": "display_data"
    },
    {
     "name": "stdout",
     "output_type": "stream",
     "text": [
      "       _\n",
      " _ _ _|_|\n",
      "|_|_|_|_|\n"
     ]
    },
    {
     "data": {
      "text/html": [
       "<html><script type=\"math/tex; mode=display\">\\newcommand{\\Bold}[1]{\\mathbf{#1}}s_{} \\otimes s_{4,1} + s_{1} \\otimes s_{3,1,1} + s_{1} \\otimes s_{3,2} + s_{1} \\otimes s_{4,1} + s_{1,1} \\otimes s_{2,1,1,1} + s_{1,1} \\otimes s_{2,2,1} + s_{1,1} \\otimes s_{3,1,1} + s_{1,1} \\otimes s_{3,2} + s_{1,1,1} \\otimes s_{1,1,1,1,1} + s_{1,1,1} \\otimes s_{2,1,1,1} + s_{1,1,1} \\otimes s_{2,2,1} + s_{2} \\otimes s_{2,2,1} + 2s_{2} \\otimes s_{3,1,1} + 2s_{2} \\otimes s_{3,2} + s_{2} \\otimes s_{4,1} + 2s_{2,1} \\otimes s_{2,1,1,1} + 3s_{2,1} \\otimes s_{2,2,1} + 2s_{2,1} \\otimes s_{3,1,1} + 2s_{2,1} \\otimes s_{3,2} + s_{2,1,1} \\otimes s_{1,1,1,1,1} + s_{2,1,1} \\otimes s_{2,1,1,1} + s_{2,1,1} \\otimes s_{2,2,1} + s_{2,2} \\otimes s_{2,1,1,1} + s_{2,2} \\otimes s_{2,2,1} + s_{2,2} \\otimes s_{3,1,1} + s_{3} \\otimes s_{2,1,1,1} + 2s_{3} \\otimes s_{2,2,1} + 3s_{3} \\otimes s_{3,1,1} + 2s_{3} \\otimes s_{3,2} + s_{3} \\otimes s_{4,1} + s_{3,1} \\otimes s_{1,1,1,1,1} + 4s_{3,1} \\otimes s_{2,1,1,1} + 4s_{3,1} \\otimes s_{2,2,1} + 2s_{3,1} \\otimes s_{3,1,1} + s_{3,1} \\otimes s_{3,2} + s_{3,1,1} \\otimes s_{1,1,1,1,1} + s_{3,1,1} \\otimes s_{2,1,1,1} + s_{3,2} \\otimes s_{1,1,1,1,1} + 2s_{3,2} \\otimes s_{2,1,1,1} + s_{3,2} \\otimes s_{2,2,1} + s_{3,3} \\otimes s_{1,1,1,1,1} + 2s_{4} \\otimes s_{2,1,1,1} + 3s_{4} \\otimes s_{2,2,1} + 3s_{4} \\otimes s_{3,1,1} + 2s_{4} \\otimes s_{3,2} + 2s_{4,1} \\otimes s_{1,1,1,1,1} + 4s_{4,1} \\otimes s_{2,1,1,1} + 3s_{4,1} \\otimes s_{2,2,1} + s_{4,1} \\otimes s_{3,1,1} + s_{4,1,1} \\otimes s_{1,1,1,1,1} + s_{4,2} \\otimes s_{1,1,1,1,1} + s_{4,2} \\otimes s_{2,1,1,1} + 3s_{5} \\otimes s_{2,1,1,1} + 3s_{5} \\otimes s_{2,2,1} + 2s_{5} \\otimes s_{3,1,1} + s_{5} \\otimes s_{3,2} + 2s_{5,1} \\otimes s_{1,1,1,1,1} + 3s_{5,1} \\otimes s_{2,1,1,1} + s_{5,1} \\otimes s_{2,2,1} + s_{5,2} \\otimes s_{1,1,1,1,1} + s_{6} \\otimes s_{1,1,1,1,1} + 3s_{6} \\otimes s_{2,1,1,1} + 2s_{6} \\otimes s_{2,2,1} + s_{6} \\otimes s_{3,1,1} + 2s_{6,1} \\otimes s_{1,1,1,1,1} + s_{6,1} \\otimes s_{2,1,1,1} + s_{7} \\otimes s_{1,1,1,1,1} + 2s_{7} \\otimes s_{2,1,1,1} + s_{7} \\otimes s_{2,2,1} + s_{7,1} \\otimes s_{1,1,1,1,1} + s_{8} \\otimes s_{1,1,1,1,1} + s_{8} \\otimes s_{2,1,1,1} + s_{9} \\otimes s_{1,1,1,1,1}</script></html>"
      ],
      "text/plain": [
       "s[] # s[4, 1] + s[1] # s[3, 1, 1] + s[1] # s[3, 2] + s[1] # s[4, 1] + s[1, 1] # s[2, 1, 1, 1] + s[1, 1] # s[2, 2, 1] + s[1, 1] # s[3, 1, 1] + s[1, 1] # s[3, 2] + s[1, 1, 1] # s[1, 1, 1, 1, 1] + s[1, 1, 1] # s[2, 1, 1, 1] + s[1, 1, 1] # s[2, 2, 1] + s[2] # s[2, 2, 1] + 2*s[2] # s[3, 1, 1] + 2*s[2] # s[3, 2] + s[2] # s[4, 1] + 2*s[2, 1] # s[2, 1, 1, 1] + 3*s[2, 1] # s[2, 2, 1] + 2*s[2, 1] # s[3, 1, 1] + 2*s[2, 1] # s[3, 2] + s[2, 1, 1] # s[1, 1, 1, 1, 1] + s[2, 1, 1] # s[2, 1, 1, 1] + s[2, 1, 1] # s[2, 2, 1] + s[2, 2] # s[2, 1, 1, 1] + s[2, 2] # s[2, 2, 1] + s[2, 2] # s[3, 1, 1] + s[3] # s[2, 1, 1, 1] + 2*s[3] # s[2, 2, 1] + 3*s[3] # s[3, 1, 1] + 2*s[3] # s[3, 2] + s[3] # s[4, 1] + s[3, 1] # s[1, 1, 1, 1, 1] + 4*s[3, 1] # s[2, 1, 1, 1] + 4*s[3, 1] # s[2, 2, 1] + 2*s[3, 1] # s[3, 1, 1] + s[3, 1] # s[3, 2] + s[3, 1, 1] # s[1, 1, 1, 1, 1] + s[3, 1, 1] # s[2, 1, 1, 1] + s[3, 2] # s[1, 1, 1, 1, 1] + 2*s[3, 2] # s[2, 1, 1, 1] + s[3, 2] # s[2, 2, 1] + s[3, 3] # s[1, 1, 1, 1, 1] + 2*s[4] # s[2, 1, 1, 1] + 3*s[4] # s[2, 2, 1] + 3*s[4] # s[3, 1, 1] + 2*s[4] # s[3, 2] + 2*s[4, 1] # s[1, 1, 1, 1, 1] + 4*s[4, 1] # s[2, 1, 1, 1] + 3*s[4, 1] # s[2, 2, 1] + s[4, 1] # s[3, 1, 1] + s[4, 1, 1] # s[1, 1, 1, 1, 1] + s[4, 2] # s[1, 1, 1, 1, 1] + s[4, 2] # s[2, 1, 1, 1] + 3*s[5] # s[2, 1, 1, 1] + 3*s[5] # s[2, 2, 1] + 2*s[5] # s[3, 1, 1] + s[5] # s[3, 2] + 2*s[5, 1] # s[1, 1, 1, 1, 1] + 3*s[5, 1] # s[2, 1, 1, 1] + s[5, 1] # s[2, 2, 1] + s[5, 2] # s[1, 1, 1, 1, 1] + s[6] # s[1, 1, 1, 1, 1] + 3*s[6] # s[2, 1, 1, 1] + 2*s[6] # s[2, 2, 1] + s[6] # s[3, 1, 1] + 2*s[6, 1] # s[1, 1, 1, 1, 1] + s[6, 1] # s[2, 1, 1, 1] + s[7] # s[1, 1, 1, 1, 1] + 2*s[7] # s[2, 1, 1, 1] + s[7] # s[2, 2, 1] + s[7, 1] # s[1, 1, 1, 1, 1] + s[8] # s[1, 1, 1, 1, 1] + s[8] # s[2, 1, 1, 1] + s[9] # s[1, 1, 1, 1, 1]"
      ]
     },
     "metadata": {},
     "output_type": "display_data"
    }
   ],
   "source": [
    "n = 5 \n",
    "for i in range(0,n-1):\n",
    "    show(frob_add_one_cell(i,n))"
   ]
  },
  {
   "cell_type": "code",
   "execution_count": null,
   "metadata": {},
   "outputs": [],
   "source": [
    "n = 6\n",
    "for i in range(0,n-1):\n",
    "    show(frob_add_one_cell(i,n))"
   ]
  }
 ],
 "metadata": {
  "kernelspec": {
   "display_name": "SageMath 8.7",
   "language": "",
   "name": "sagemath"
  },
  "language_info": {
   "codemirror_mode": {
    "name": "ipython",
    "version": 2
   },
   "file_extension": ".py",
   "mimetype": "text/x-python",
   "name": "python",
   "nbconvert_exporter": "python",
   "pygments_lexer": "ipython2",
   "version": "2.7.15"
  }
 },
 "nbformat": 4,
 "nbformat_minor": 2
}
